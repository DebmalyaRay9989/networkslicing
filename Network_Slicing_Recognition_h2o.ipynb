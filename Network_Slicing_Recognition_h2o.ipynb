{
  "nbformat": 4,
  "nbformat_minor": 0,
  "metadata": {
    "colab": {
      "provenance": [],
      "gpuType": "T4"
    },
    "kernelspec": {
      "name": "python3",
      "display_name": "Python 3"
    },
    "language_info": {
      "name": "python"
    },
    "accelerator": "GPU"
  },
  "cells": [
    {
      "cell_type": "code",
      "execution_count": 1,
      "metadata": {
        "id": "Lz-IuVhINc_9"
      },
      "outputs": [],
      "source": [
        "### Network Slicing Recognition"
      ]
    },
    {
      "cell_type": "markdown",
      "source": [
        "The telecom industry is going through a massive digital transformation with the adoption of ML, AI, feedback-based automation and advanced analytics to handle the next generation applications and services. AI concepts are not new; the algorithms used by Machine Learning and Deep Learning are being currently implemented in various industries and technology verticals. With growing data and immense volume <br>\n",
        "\n",
        "of information over 5G, the ability to predict data proactively, swiftly and with accuracy, is critically important. Data-driven decision making will be vital in future communication networks due to the traffic explosion and Artificial Intelligence (AI) will accelerate the 5G network performance. <br>\n",
        "\n",
        "Mobile operators are looking for a programmable solution that will allow them to accommodate multiple independent tenants on the same physical infrastructure and 5G networks allow for end-to-end network resource allocation using the concept of Network Slicing (NS). <br>\n",
        "\n",
        "Network Slicing will play a vital role in enabling a multitude of 5G applications, use cases, and services. Network slicing functions will provide an end-to-end isolation between slices with an ability to customize each slice based on the service demands (bandwidth, coverage, security, latency, reliability, etc). <br>\n",
        "\n",
        "Your Task is to build a Machine Learning model that will be able to to proactively detect and eliminate threats based on incoming connections thereby selecting the most appropriate network slice, even in case of a network failure. <br>"
      ],
      "metadata": {
        "id": "7mC6UeJSNpL4"
      }
    },
    {
      "cell_type": "markdown",
      "source": [
        "**LTE/5g** - User Equipment categories or classes to define the performance specifications <br>\n",
        "**Packet Loss Rate** - number of packets not received divided by the total number of packets sent. <br>\n",
        "**Packet Delay** - The time for a packet to be received. <br>\n",
        "**Slice type** - network configuration that allows multiple networks (virtualized and independent) <br>\n",
        "**GBR** - Guaranteed Bit Rate <br>\n",
        "**Healthcare** - Usage in Healthcare (1 or 0) <br>\n",
        "**Industry 4.0** - Usage in Digital Enterprises(1 or 0) <br>\n",
        "**IoT Devices** - Usage <br>\n",
        "**Public Safety** - Usage for public welfare and safety purposes (1 or 0) <br>\n",
        "**Smart City & Home** - usage in daily household chores <br>\n",
        "**Smart Transportation** - usage in public transportation <br>\n",
        "**Smartphone** - whether used for smartphone cellular data <br>"
      ],
      "metadata": {
        "id": "FrmsTUE0NqYa"
      }
    },
    {
      "cell_type": "code",
      "source": [
        "###! pip install neattext"
      ],
      "metadata": {
        "id": "63JZr4yVNmre"
      },
      "execution_count": 2,
      "outputs": []
    },
    {
      "cell_type": "code",
      "source": [
        "import pandas as pd\n",
        "import numpy as np\n",
        "import neattext.functions as nfx\n",
        "import seaborn as sn\n",
        "\n",
        "from sklearn.feature_extraction.text import TfidfVectorizer,CountVectorizer\n",
        "from sklearn.metrics.pairwise import cosine_similarity,linear_kernel"
      ],
      "metadata": {
        "id": "6sO97n_wNmuj"
      },
      "execution_count": 3,
      "outputs": []
    },
    {
      "cell_type": "code",
      "source": [
        "##! pip uninstall numpy\n",
        "##! pip install numpy==1.20"
      ],
      "metadata": {
        "id": "Lwh_9WIHNmx6"
      },
      "execution_count": 4,
      "outputs": []
    },
    {
      "cell_type": "code",
      "source": [
        "###!mkdir ~/.kaggle"
      ],
      "metadata": {
        "id": "W9kyjMaSNm-Y"
      },
      "execution_count": 5,
      "outputs": []
    },
    {
      "cell_type": "code",
      "source": [
        "###!cp /kaggle.json ~/.kaggle/"
      ],
      "metadata": {
        "id": "RXshgMV2NnC2"
      },
      "execution_count": 6,
      "outputs": []
    },
    {
      "cell_type": "code",
      "source": [
        "##! pip install kaggle\n",
        "##!pip install keras-tuner"
      ],
      "metadata": {
        "id": "BEiTVfg7PZk3"
      },
      "execution_count": 7,
      "outputs": []
    },
    {
      "cell_type": "code",
      "source": [
        "###!kaggle datasets download -d gauravduttakiit/network-slicing-recognition"
      ],
      "metadata": {
        "id": "fH2enKXvPhZr"
      },
      "execution_count": 8,
      "outputs": []
    },
    {
      "cell_type": "code",
      "source": [
        "###!unzip /content/network-slicing-recognition.zip"
      ],
      "metadata": {
        "id": "_NYystI3Qslp"
      },
      "execution_count": 9,
      "outputs": []
    },
    {
      "cell_type": "code",
      "source": [
        "train_dataset = pd.read_csv(\"/content/train_dataset.csv\")\n",
        "test_dataset = pd.read_csv(\"/content/test_dataset.csv\")"
      ],
      "metadata": {
        "id": "xLhUTbIhQwfJ"
      },
      "execution_count": 10,
      "outputs": []
    },
    {
      "cell_type": "code",
      "source": [
        "print(train_dataset.shape, test_dataset.shape)"
      ],
      "metadata": {
        "colab": {
          "base_uri": "https://localhost:8080/",
          "height": 0
        },
        "id": "FshLOGDnQwsl",
        "outputId": "dd1ae769-b6d2-48c4-d456-3642c005ac14"
      },
      "execution_count": 11,
      "outputs": [
        {
          "output_type": "stream",
          "name": "stdout",
          "text": [
            "(31583, 17) (31584, 16)\n"
          ]
        }
      ]
    },
    {
      "cell_type": "code",
      "source": [
        "test_dataset['slice Type'] = 0"
      ],
      "metadata": {
        "id": "2v3KmdW-Q5TX"
      },
      "execution_count": 12,
      "outputs": []
    },
    {
      "cell_type": "code",
      "source": [
        "train_dataset = train_dataset.reset_index()\n",
        "test_dataset = test_dataset.reset_index()\n",
        "#train_dataset.rename(columns = { \"index\" : \"ID\"}, inplace = True)\n",
        "#test_dataset.rename(columns = { \"index\" : \"ID\"}, inplace = True)"
      ],
      "metadata": {
        "id": "DiE3P52vQ5i9"
      },
      "execution_count": 13,
      "outputs": []
    },
    {
      "cell_type": "code",
      "source": [
        "print(train_dataset.columns, train_dataset.shape)"
      ],
      "metadata": {
        "colab": {
          "base_uri": "https://localhost:8080/",
          "height": 0
        },
        "id": "nANJrFgBVTqq",
        "outputId": "a5ebaf49-889b-4b22-ba4e-2ba605916baf"
      },
      "execution_count": 14,
      "outputs": [
        {
          "output_type": "stream",
          "name": "stdout",
          "text": [
            "Index(['index', 'LTE/5g Category', 'Time', 'Packet Loss Rate', 'Packet delay',\n",
            "       'IoT', 'LTE/5G', 'GBR', 'Non-GBR', 'AR/VR/Gaming', 'Healthcare',\n",
            "       'Industry 4.0', 'IoT Devices', 'Public Safety', 'Smart City & Home',\n",
            "       'Smart Transportation', 'Smartphone', 'slice Type'],\n",
            "      dtype='object') (31583, 18)\n"
          ]
        }
      ]
    },
    {
      "cell_type": "code",
      "source": [
        "train_dataset['slice Type'].value_counts()"
      ],
      "metadata": {
        "colab": {
          "base_uri": "https://localhost:8080/",
          "height": 0
        },
        "id": "rXu1ajj0VTwm",
        "outputId": "4be77f68-2f97-439e-f007-dff8e917204f"
      },
      "execution_count": 15,
      "outputs": [
        {
          "output_type": "execute_result",
          "data": {
            "text/plain": [
              "1    16799\n",
              "3     7392\n",
              "2     7392\n",
              "Name: slice Type, dtype: int64"
            ]
          },
          "metadata": {},
          "execution_count": 15
        }
      ]
    },
    {
      "cell_type": "code",
      "source": [
        "from matplotlib_venn import venn2, venn2_circles, venn2_unweighted\n",
        "from matplotlib_venn import venn3, venn3_circles"
      ],
      "metadata": {
        "id": "2pznzGJ5Vye2"
      },
      "execution_count": 16,
      "outputs": []
    },
    {
      "cell_type": "code",
      "source": [
        "set_numbers_train = set(train_dataset[['index']].drop_duplicates().sort_values(by = 'index')['index'].tolist())\n",
        "set_numbers_test = set(test_dataset[['index']].drop_duplicates().sort_values(by = 'index')['index'].tolist())\n",
        "venn2((set_numbers_train, set_numbers_test), set_labels = ('Train numbers', 'Test numbers'))"
      ],
      "metadata": {
        "colab": {
          "base_uri": "https://localhost:8080/",
          "height": 429
        },
        "id": "MNt6AI00Vyo8",
        "outputId": "4503d83d-4a87-4475-f8fd-4d995cc2a655"
      },
      "execution_count": 17,
      "outputs": [
        {
          "output_type": "execute_result",
          "data": {
            "text/plain": [
              "<matplotlib_venn._common.VennDiagram at 0x7ea375518d90>"
            ]
          },
          "metadata": {},
          "execution_count": 17
        },
        {
          "output_type": "display_data",
          "data": {
            "text/plain": [
              "<Figure size 640x480 with 1 Axes>"
            ],
            "image/png": "[encoded data removed]"
          },
          "metadata": {}
        }
      ]
    },
    {
      "cell_type": "code",
      "source": [
        "train_dataset.columns"
      ],
      "metadata": {
        "colab": {
          "base_uri": "https://localhost:8080/",
          "height": 0
        },
        "id": "mwlUTSVdVyzW",
        "outputId": "db878475-0d17-4541-c78a-7270fc63d412"
      },
      "execution_count": 18,
      "outputs": [
        {
          "output_type": "execute_result",
          "data": {
            "text/plain": [
              "Index(['index', 'LTE/5g Category', 'Time', 'Packet Loss Rate', 'Packet delay',\n",
              "       'IoT', 'LTE/5G', 'GBR', 'Non-GBR', 'AR/VR/Gaming', 'Healthcare',\n",
              "       'Industry 4.0', 'IoT Devices', 'Public Safety', 'Smart City & Home',\n",
              "       'Smart Transportation', 'Smartphone', 'slice Type'],\n",
              "      dtype='object')"
            ]
          },
          "metadata": {},
          "execution_count": 18
        }
      ]
    },
    {
      "cell_type": "code",
      "source": [
        "###! pip install klib"
      ],
      "metadata": {
        "id": "ZQCadO6VX5pK"
      },
      "execution_count": 19,
      "outputs": []
    },
    {
      "cell_type": "code",
      "source": [
        "import klib"
      ],
      "metadata": {
        "id": "mzQjQeF1X75z"
      },
      "execution_count": 20,
      "outputs": []
    },
    {
      "cell_type": "code",
      "source": [
        "train_dataset = klib.clean_column_names(train_dataset)\n",
        "test_dataset = klib.clean_column_names(test_dataset)"
      ],
      "metadata": {
        "id": "Al3kkL3aX8ED"
      },
      "execution_count": 21,
      "outputs": []
    },
    {
      "cell_type": "code",
      "source": [
        "train_dataset = klib.convert_datatypes(train_dataset)\n",
        "test_dataset = klib.convert_datatypes(test_dataset)"
      ],
      "metadata": {
        "id": "5CcjwijYX8Ih"
      },
      "execution_count": 22,
      "outputs": []
    },
    {
      "cell_type": "code",
      "source": [
        "train_dataset.columns"
      ],
      "metadata": {
        "colab": {
          "base_uri": "https://localhost:8080/",
          "height": 0
        },
        "id": "ZGflypKGX8L8",
        "outputId": "0b6d4bc2-db95-471e-8d08-234c71bfa15a"
      },
      "execution_count": 23,
      "outputs": [
        {
          "output_type": "execute_result",
          "data": {
            "text/plain": [
              "Index(['index', 'lte_5g_category', 'time', 'packet_loss_rate', 'packet_delay',\n",
              "       'io_t', 'lte_5g', 'gbr', 'non_gbr', 'ar_vr_gaming', 'healthcare',\n",
              "       'industry_4_0', 'io_t_devices', 'public_safety', 'smart_city_and_home',\n",
              "       'smart_transportation', 'smartphone', 'slice_type'],\n",
              "      dtype='object')"
            ]
          },
          "metadata": {},
          "execution_count": 23
        }
      ]
    },
    {
      "cell_type": "markdown",
      "source": [
        "### Anomaly Detection Using One-Class SVM\n"
      ],
      "metadata": {
        "id": "FCcZWzd_YBVJ"
      }
    },
    {
      "cell_type": "code",
      "source": [
        "from sklearn import svm"
      ],
      "metadata": {
        "id": "pjgVvoK6X8PG"
      },
      "execution_count": 24,
      "outputs": []
    },
    {
      "cell_type": "code",
      "source": [
        "clf = svm.OneClassSVM(nu=0.05, kernel=\"rbf\", gamma=0.1)\n",
        "clf.fit(train_dataset)"
      ],
      "metadata": {
        "colab": {
          "base_uri": "https://localhost:8080/",
          "height": 75
        },
        "id": "VYH72ReGX8SG",
        "outputId": "83696521-07eb-484f-fcde-6013712fa32c"
      },
      "execution_count": 25,
      "outputs": [
        {
          "output_type": "execute_result",
          "data": {
            "text/plain": [
              "OneClassSVM(gamma=0.1, nu=0.05)"
            ],
            "text/html": [
              "<style>#sk-container-id-1 {color: black;background-color: white;}#sk-container-id-1 pre{padding: 0;}#sk-container-id-1 div.sk-toggleable {background-color: white;}#sk-container-id-1 label.sk-toggleable__label {cursor: pointer;display: block;width: 100%;margin-bottom: 0;padding: 0.3em;box-sizing: border-box;text-align: center;}#sk-container-id-1 label.sk-toggleable__label-arrow:before {content: \"▸\";float: left;margin-right: 0.25em;color: #696969;}#sk-container-id-1 label.sk-toggleable__label-arrow:hover:before {color: black;}#sk-container-id-1 div.sk-estimator:hover label.sk-toggleable__label-arrow:before {color: black;}#sk-container-id-1 div.sk-toggleable__content {max-height: 0;max-width: 0;overflow: hidden;text-align: left;background-color: #f0f8ff;}#sk-container-id-1 div.sk-toggleable__content pre {margin: 0.2em;color: black;border-radius: 0.25em;background-color: #f0f8ff;}#sk-container-id-1 input.sk-toggleable__control:checked~div.sk-toggleable__content {max-height: 200px;max-width: 100%;overflow: auto;}#sk-container-id-1 input.sk-toggleable__control:checked~label.sk-toggleable__label-arrow:before {content: \"▾\";}#sk-container-id-1 div.sk-estimator input.sk-toggleable__control:checked~label.sk-toggleable__label {background-color: #d4ebff;}#sk-container-id-1 div.sk-label input.sk-toggleable__control:checked~label.sk-toggleable__label {background-color: #d4ebff;}#sk-container-id-1 input.sk-hidden--visually {border: 0;clip: rect(1px 1px 1px 1px);clip: rect(1px, 1px, 1px, 1px);height: 1px;margin: -1px;overflow: hidden;padding: 0;position: absolute;width: 1px;}#sk-container-id-1 div.sk-estimator {font-family: monospace;background-color: #f0f8ff;border: 1px dotted black;border-radius: 0.25em;box-sizing: border-box;margin-bottom: 0.5em;}#sk-container-id-1 div.sk-estimator:hover {background-color: #d4ebff;}#sk-container-id-1 div.sk-parallel-item::after {content: \"\";width: 100%;border-bottom: 1px solid gray;flex-grow: 1;}#sk-container-id-1 div.sk-label:hover label.sk-toggleable__label {background-color: #d4ebff;}#sk-container-id-1 div.sk-serial::before {content: \"\";position: absolute;border-left: 1px solid gray;box-sizing: border-box;top: 0;bottom: 0;left: 50%;z-index: 0;}#sk-container-id-1 div.sk-serial {display: flex;flex-direction: column;align-items: center;background-color: white;padding-right: 0.2em;padding-left: 0.2em;position: relative;}#sk-container-id-1 div.sk-item {position: relative;z-index: 1;}#sk-container-id-1 div.sk-parallel {display: flex;align-items: stretch;justify-content: center;background-color: white;position: relative;}#sk-container-id-1 div.sk-item::before, #sk-container-id-1 div.sk-parallel-item::before {content: \"\";position: absolute;border-left: 1px solid gray;box-sizing: border-box;top: 0;bottom: 0;left: 50%;z-index: -1;}#sk-container-id-1 div.sk-parallel-item {display: flex;flex-direction: column;z-index: 1;position: relative;background-color: white;}#sk-container-id-1 div.sk-parallel-item:first-child::after {align-self: flex-end;width: 50%;}#sk-container-id-1 div.sk-parallel-item:last-child::after {align-self: flex-start;width: 50%;}#sk-container-id-1 div.sk-parallel-item:only-child::after {width: 0;}#sk-container-id-1 div.sk-dashed-wrapped {border: 1px dashed gray;margin: 0 0.4em 0.5em 0.4em;box-sizing: border-box;padding-bottom: 0.4em;background-color: white;}#sk-container-id-1 div.sk-label label {font-family: monospace;font-weight: bold;display: inline-block;line-height: 1.2em;}#sk-container-id-1 div.sk-label-container {text-align: center;}#sk-container-id-1 div.sk-container {/* jupyter's `normalize.less` sets `[hidden] { display: none; }` but bootstrap.min.css set `[hidden] { display: none !important; }` so we also need the `!important` here to be able to override the default hidden behavior on the sphinx rendered scikit-learn.org. See: https://github.com/scikit-learn/scikit-learn/issues/21755 */display: inline-block !important;position: relative;}#sk-container-id-1 div.sk-text-repr-fallback {display: none;}</style><div id=\"sk-container-id-1\" class=\"sk-top-container\"><div class=\"sk-text-repr-fallback\"><pre>OneClassSVM(gamma=0.1, nu=0.05)</pre><b>In a Jupyter environment, please rerun this cell to show the HTML representation or trust the notebook. <br />On GitHub, the HTML representation is unable to render, please try loading this page with nbviewer.org.</b></div><div class=\"sk-container\" hidden><div class=\"sk-item\"><div class=\"sk-estimator sk-toggleable\"><input class=\"sk-toggleable__control sk-hidden--visually\" id=\"sk-estimator-id-1\" type=\"checkbox\" checked><label for=\"sk-estimator-id-1\" class=\"sk-toggleable__label sk-toggleable__label-arrow\">OneClassSVM</label><div class=\"sk-toggleable__content\"><pre>OneClassSVM(gamma=0.1, nu=0.05)</pre></div></div></div></div></div>"
            ]
          },
          "metadata": {},
          "execution_count": 25
        }
      ]
    },
    {
      "cell_type": "code",
      "source": [
        "pred = clf.predict(train_dataset)\n",
        "\n",
        "# inliers are labeled 1, outliers are labeled -1\n",
        "normal = train_dataset[pred == 1]\n",
        "abnormal = train_dataset[pred == -1]"
      ],
      "metadata": {
        "id": "N0EMY1INYIam"
      },
      "execution_count": 26,
      "outputs": []
    },
    {
      "cell_type": "code",
      "source": [
        "print(normal.shape, abnormal.shape)"
      ],
      "metadata": {
        "colab": {
          "base_uri": "https://localhost:8080/",
          "height": 0
        },
        "id": "Yc7muFEgYJ7t",
        "outputId": "92f19ec2-9196-401c-9c59-a7892715aa69"
      },
      "execution_count": 27,
      "outputs": [
        {
          "output_type": "stream",
          "name": "stdout",
          "text": [
            "(18373, 18) (13210, 18)\n"
          ]
        }
      ]
    },
    {
      "cell_type": "code",
      "source": [
        "normal.columns"
      ],
      "metadata": {
        "colab": {
          "base_uri": "https://localhost:8080/",
          "height": 0
        },
        "id": "nRO8vKKbYMA1",
        "outputId": "a08c404d-931a-48fc-ef4b-9f9b758202e2"
      },
      "execution_count": 28,
      "outputs": [
        {
          "output_type": "execute_result",
          "data": {
            "text/plain": [
              "Index(['index', 'lte_5g_category', 'time', 'packet_loss_rate', 'packet_delay',\n",
              "       'io_t', 'lte_5g', 'gbr', 'non_gbr', 'ar_vr_gaming', 'healthcare',\n",
              "       'industry_4_0', 'io_t_devices', 'public_safety', 'smart_city_and_home',\n",
              "       'smart_transportation', 'smartphone', 'slice_type'],\n",
              "      dtype='object')"
            ]
          },
          "metadata": {},
          "execution_count": 28
        }
      ]
    },
    {
      "cell_type": "code",
      "source": [
        "train_dataset = normal"
      ],
      "metadata": {
        "id": "onGW6PIxYNWs"
      },
      "execution_count": 29,
      "outputs": []
    },
    {
      "cell_type": "code",
      "source": [
        "print(train_dataset.shape)\n",
        "print(train_dataset.columns)"
      ],
      "metadata": {
        "colab": {
          "base_uri": "https://localhost:8080/",
          "height": 0
        },
        "id": "LBKgMGk5YO2L",
        "outputId": "5f0e3892-8617-4429-ca4b-52158e9c242b"
      },
      "execution_count": 30,
      "outputs": [
        {
          "output_type": "stream",
          "name": "stdout",
          "text": [
            "(18373, 18)\n",
            "Index(['index', 'lte_5g_category', 'time', 'packet_loss_rate', 'packet_delay',\n",
            "       'io_t', 'lte_5g', 'gbr', 'non_gbr', 'ar_vr_gaming', 'healthcare',\n",
            "       'industry_4_0', 'io_t_devices', 'public_safety', 'smart_city_and_home',\n",
            "       'smart_transportation', 'smartphone', 'slice_type'],\n",
            "      dtype='object')\n"
          ]
        }
      ]
    },
    {
      "cell_type": "code",
      "source": [
        "test_dataset['slice_type'] = 0"
      ],
      "metadata": {
        "id": "zH19hh5zYO4z"
      },
      "execution_count": 31,
      "outputs": []
    },
    {
      "cell_type": "code",
      "source": [
        "klib.cat_plot(train_dataset)"
      ],
      "metadata": {
        "colab": {
          "base_uri": "https://localhost:8080/",
          "height": 0
        },
        "id": "IniuykqBYO8Z",
        "outputId": "1713d4b8-ec3d-414a-df5d-190a1fed7ea6"
      },
      "execution_count": 32,
      "outputs": [
        {
          "output_type": "stream",
          "name": "stdout",
          "text": [
            "No columns with categorical data were detected.\n"
          ]
        }
      ]
    },
    {
      "cell_type": "code",
      "source": [
        "klib.corr_interactive_plot(train_dataset)"
      ],
      "metadata": {
        "colab": {
          "base_uri": "https://localhost:8080/",
          "height": 1073
        },
        "id": "xs-I1waeYPAD",
        "outputId": "7b520fe1-56a1-47d3-a70c-15c1ff8246e0"
      },
      "execution_count": 33,
      "outputs": [
        {
          "output_type": "display_data",
          "data": {
            "text/html": [
              "<html>\n",
              "<head><meta charset=\"utf-8\" /></head>\n",
              "<body>\n",
              "    <div>            <script src=\"https://cdnjs.cloudflare.com/ajax/libs/mathjax/2.7.5/MathJax.js?config=TeX-AMS-MML_SVG\"></script><script type=\"text/javascript\">if (window.MathJax && window.MathJax.Hub && window.MathJax.Hub.Config) {window.MathJax.Hub.Config({SVG: {font: \"STIX-Web\"}});}</script>                <script type=\"text/javascript\">window.PlotlyConfig = {MathJaxConfig: 'local'};</script>\n",
              "        <script charset=\"utf-8\" src=\"https://cdn.plot.ly/plotly-2.24.1.min.js\"></script>                <div id=\"27ca51d7-64dc-4a50-bfb9-09c45fd905a6\" class=\"plotly-graph-div\" style=\"height:1056px; width:1152px;\"></div>            <script type=\"text/javascript\">                                    window.PLOTLYENV=window.PLOTLYENV || {};                                    if (document.getElementById(\"27ca51d7-64dc-4a50-bfb9-09c45fd905a6\")) {                    Plotly.newPlot(                        \"27ca51d7-64dc-4a50-bfb9-09c45fd905a6\",                        [{\"colorscale\":[[0.0,\"rgb(84,48,5)\"],[0.1,\"rgb(140,81,10)\"],[0.2,\"rgb(191,129,45)\"],[0.3,\"rgb(223,194,125)\"],[0.4,\"rgb(246,232,195)\"],[0.5,\"rgb(245,245,245)\"],[0.6,\"rgb(199,234,229)\"],[0.7,\"rgb(128,205,193)\"],[0.8,\"rgb(53,151,143)\"],[0.9,\"rgb(1,102,94)\"],[1.0,\"rgb(0,60,48)\"]],\"hoverongaps\":false,\"text\":[[\"\",-0.73,0.39,0.14,0.4,0.09,0.35,0.39,-0.29,0.32,-0.32,-0.91,0.91,-0.39,-0.1,-0.0,0.08,-0.0],[\"\",\"\",-0.21,-0.32,-0.22,-0.21,-0.31,-0.21,-0.3,-0.1,0.1,0.81,-0.81,0.27,-0.07,0.0,-0.08,0.0],[\"\",\"\",\"\",-0.09,-0.06,-0.06,-0.09,-0.06,-0.08,0.22,-0.22,-0.26,0.26,-0.24,-0.18,-0.0,0.02,-0.0],[\"\",\"\",\"\",\"\",-0.09,-0.09,-0.13,-0.09,-0.13,-0.04,0.04,-0.39,0.39,0.2,0.58,0.01,0.05,0.01],[\"\",\"\",\"\",\"\",\"\",-0.06,-0.09,-0.06,-0.09,0.22,-0.22,-0.27,0.27,-0.25,-0.18,0.0,0.02,0.0],[\"\",\"\",\"\",\"\",\"\",\"\",-0.09,-0.06,-0.09,-0.28,0.28,-0.27,0.27,0.44,0.39,-0.0,0.02,0.0],[\"\",\"\",\"\",\"\",\"\",\"\",\"\",-0.09,-0.12,-0.05,0.05,-0.39,0.39,-0.28,-0.22,0.0,0.05,-0.01],[\"\",\"\",\"\",\"\",\"\",\"\",\"\",\"\",-0.08,0.21,-0.21,-0.26,0.26,-0.24,-0.17,-0.01,0.02,-0.01],[\"\",\"\",\"\",\"\",\"\",\"\",\"\",\"\",\"\",-0.04,0.04,0.32,-0.32,-0.13,-0.17,-0.0,-0.03,-0.01],[\"\",\"\",\"\",\"\",\"\",\"\",\"\",\"\",\"\",\"\",-1.0,-0.12,0.12,-0.42,0.02,0.01,0.01,-0.0],[\"\",\"\",\"\",\"\",\"\",\"\",\"\",\"\",\"\",\"\",\"\",0.12,-0.12,0.42,-0.02,-0.01,-0.01,0.0],[\"\",\"\",\"\",\"\",\"\",\"\",\"\",\"\",\"\",\"\",\"\",\"\",-1.0,0.19,-0.17,-0.0,-0.1,-0.0],[\"\",\"\",\"\",\"\",\"\",\"\",\"\",\"\",\"\",\"\",\"\",\"\",\"\",-0.19,0.17,0.0,0.1,0.0],[\"\",\"\",\"\",\"\",\"\",\"\",\"\",\"\",\"\",\"\",\"\",\"\",\"\",\"\",0.31,-0.01,-0.02,0.01],[\"\",\"\",\"\",\"\",\"\",\"\",\"\",\"\",\"\",\"\",\"\",\"\",\"\",\"\",\"\",0.01,0.02,0.02],[\"\",\"\",\"\",\"\",\"\",\"\",\"\",\"\",\"\",\"\",\"\",\"\",\"\",\"\",\"\",\"\",-0.01,-0.0],[\"\",\"\",\"\",\"\",\"\",\"\",\"\",\"\",\"\",\"\",\"\",\"\",\"\",\"\",\"\",\"\",\"\",-0.02],[\"\",\"\",\"\",\"\",\"\",\"\",\"\",\"\",\"\",\"\",\"\",\"\",\"\",\"\",\"\",\"\",\"\",\"\"]],\"textfont\":{\"size\":12},\"texttemplate\":\"%{text}\",\"x\":[\"slice_type\",\"smartphone\",\"smart_transportation\",\"smart_city_and_home\",\"public_safety\",\"io_t_devices\",\"industry_4_0\",\"healthcare\",\"ar_vr_gaming\",\"non_gbr\",\"gbr\",\"lte_5g\",\"io_t\",\"packet_delay\",\"packet_loss_rate\",\"time\",\"lte_5g_category\",\"index\"],\"xgap\":1,\"y\":[\"slice_type\",\"smartphone\",\"smart_transportation\",\"smart_city_and_home\",\"public_safety\",\"io_t_devices\",\"industry_4_0\",\"healthcare\",\"ar_vr_gaming\",\"non_gbr\",\"gbr\",\"lte_5g\",\"io_t\",\"packet_delay\",\"packet_loss_rate\",\"time\",\"lte_5g_category\",\"index\"],\"ygap\":1,\"z\":[[null,-0.7346122066104845,0.39084555213180733,0.13646745176393255,0.4047104404287774,0.09193296283973793,0.3525081278978768,0.3862724578374668,-0.29227559900349126,0.32184793387191957,-0.32184793387191973,-0.9097096298422533,0.909709629842253,-0.39013842124603326,-0.0976272363618105,-0.0015757060678211197,0.08368009853769938,-0.002835441552566538],[null,null,-0.21314674031301034,-0.31863714706532953,-0.22070792587386454,-0.21465379928973705,-0.31131263886569266,-0.21065281365408922,-0.29911861259056466,-0.09999503728794489,0.0999950372879449,0.8075238323440269,-0.8075238323440268,0.26883084380244554,-0.06741600210420783,0.00047770532190622486,-0.0751516090955187,0.0010651384100794099],[null,null,null,-0.09033708679582211,-0.06257309055088063,-0.060856680007601936,-0.08826050928732651,-0.05972235718942062,-0.08480337059476385,0.21631277071162572,-0.2163127707116258,-0.26395102135165766,0.26395102135165804,-0.24120626795283617,-0.1761105612150848,-0.0025196908810748014,0.019786999921340587,-0.0006171285793053463],[null,null,null,null,-0.09354171228194083,-0.09097581726567099,-0.1319423268521358,-0.08928009634539912,-0.12677418396433318,-0.03594013854644583,0.0359401385464459,-0.3945854404574145,0.3945854404574145,0.20081807672626623,0.5787434099992192,0.005197162297576542,0.04734718267535304,0.009515957358807203],[null,null,null,null,null,-0.0630155150405908,-0.09139147008661835,-0.061840953158458854,-0.08781169256258459,0.22398626830361812,-0.22398626830361817,-0.27331444229107865,0.2733144422910789,-0.24976283957928425,-0.1823579222144486,0.0017542925673169362,0.019485282790280906,0.004772157085514398],[null,null,null,null,null,null,-0.08888455726768302,-0.060144625502703226,-0.0854029747957194,-0.2813365101255752,0.2813365101255753,-0.2658172931771588,0.26581729317715874,0.43735472992010005,0.3898775548124036,-0.0005854361895591763,0.01945804148605057,0.0049485084436086315],[null,null,null,null,null,null,null,-0.08722781586345105,-0.12386002734919664,-0.045352780084264875,0.04535278008426488,-0.3855151097671429,0.385515109767143,-0.28438408983699054,-0.21620166338575209,0.004019687949946251,0.04510627773452056,-0.005649750620042512],[null,null,null,null,null,null,null,null,-0.08381112747445127,0.21378179986613768,-0.21378179986613793,-0.2608626584340173,0.26086265843401724,-0.23838403036635977,-0.17404997692987903,-0.011551855223408009,0.018408029016488123,-0.007330976886875252],[null,null,null,null,null,null,null,null,null,-0.03747564686068119,0.03747564686068123,0.3212844949812943,-0.32128449498129424,-0.12761425153102776,-0.16817160506207415,-0.0007984428099076171,-0.03401045045003847,-0.00740074358344895],[null,null,null,null,null,null,null,null,null,null,-0.9999999999999992,-0.12240208311214422,0.12240208311214397,-0.4241237263117014,0.02231471887991141,0.005053119330993027,0.00715579203645389,-0.004535610718492042],[null,null,null,null,null,null,null,null,null,null,null,0.12240208311214454,-0.12240208311214444,0.4241237263117012,-0.022314718879911558,-0.005053119330992992,-0.007155792036453805,0.004535610718487794],[null,null,null,null,null,null,null,null,null,null,null,null,-1.0,0.1879101071360746,-0.1708578444142946,-1.9461825416850296e-05,-0.09560501324475025,-0.0035175994963234985],[null,null,null,null,null,null,null,null,null,null,null,null,null,-0.18791010713607467,0.1708578444142945,1.9461825416897747e-05,0.09560501324475046,0.0035175994963206466],[null,null,null,null,null,null,null,null,null,null,null,null,null,null,0.30643644074125154,-0.005153273866450914,-0.015085156025581081,0.010973530183367941],[null,null,null,null,null,null,null,null,null,null,null,null,null,null,null,0.009140142318106424,0.02225427871707182,0.01541883179213589],[null,null,null,null,null,null,null,null,null,null,null,null,null,null,null,null,-0.011523337002225652,-0.004275474662529939],[null,null,null,null,null,null,null,null,null,null,null,null,null,null,null,null,null,-0.02223856458350239],[null,null,null,null,null,null,null,null,null,null,null,null,null,null,null,null,null,null]],\"zmax\":0.86,\"zmin\":-0.95,\"type\":\"heatmap\"}],                        {\"template\":{\"data\":{\"histogram2dcontour\":[{\"type\":\"histogram2dcontour\",\"colorbar\":{\"outlinewidth\":0,\"ticks\":\"\"},\"colorscale\":[[0.0,\"#0d0887\"],[0.1111111111111111,\"#46039f\"],[0.2222222222222222,\"#7201a8\"],[0.3333333333333333,\"#9c179e\"],[0.4444444444444444,\"#bd3786\"],[0.5555555555555556,\"#d8576b\"],[0.6666666666666666,\"#ed7953\"],[0.7777777777777778,\"#fb9f3a\"],[0.8888888888888888,\"#fdca26\"],[1.0,\"#f0f921\"]]}],\"choropleth\":[{\"type\":\"choropleth\",\"colorbar\":{\"outlinewidth\":0,\"ticks\":\"\"}}],\"histogram2d\":[{\"type\":\"histogram2d\",\"colorbar\":{\"outlinewidth\":0,\"ticks\":\"\"},\"colorscale\":[[0.0,\"#0d0887\"],[0.1111111111111111,\"#46039f\"],[0.2222222222222222,\"#7201a8\"],[0.3333333333333333,\"#9c179e\"],[0.4444444444444444,\"#bd3786\"],[0.5555555555555556,\"#d8576b\"],[0.6666666666666666,\"#ed7953\"],[0.7777777777777778,\"#fb9f3a\"],[0.8888888888888888,\"#fdca26\"],[1.0,\"#f0f921\"]]}],\"heatmap\":[{\"type\":\"heatmap\",\"colorbar\":{\"outlinewidth\":0,\"ticks\":\"\"},\"colorscale\":[[0.0,\"#0d0887\"],[0.1111111111111111,\"#46039f\"],[0.2222222222222222,\"#7201a8\"],[0.3333333333333333,\"#9c179e\"],[0.4444444444444444,\"#bd3786\"],[0.5555555555555556,\"#d8576b\"],[0.6666666666666666,\"#ed7953\"],[0.7777777777777778,\"#fb9f3a\"],[0.8888888888888888,\"#fdca26\"],[1.0,\"#f0f921\"]]}],\"heatmapgl\":[{\"type\":\"heatmapgl\",\"colorbar\":{\"outlinewidth\":0,\"ticks\":\"\"},\"colorscale\":[[0.0,\"#0d0887\"],[0.1111111111111111,\"#46039f\"],[0.2222222222222222,\"#7201a8\"],[0.3333333333333333,\"#9c179e\"],[0.4444444444444444,\"#bd3786\"],[0.5555555555555556,\"#d8576b\"],[0.6666666666666666,\"#ed7953\"],[0.7777777777777778,\"#fb9f3a\"],[0.8888888888888888,\"#fdca26\"],[1.0,\"#f0f921\"]]}],\"contourcarpet\":[{\"type\":\"contourcarpet\",\"colorbar\":{\"outlinewidth\":0,\"ticks\":\"\"}}],\"contour\":[{\"type\":\"contour\",\"colorbar\":{\"outlinewidth\":0,\"ticks\":\"\"},\"colorscale\":[[0.0,\"#0d0887\"],[0.1111111111111111,\"#46039f\"],[0.2222222222222222,\"#7201a8\"],[0.3333333333333333,\"#9c179e\"],[0.4444444444444444,\"#bd3786\"],[0.5555555555555556,\"#d8576b\"],[0.6666666666666666,\"#ed7953\"],[0.7777777777777778,\"#fb9f3a\"],[0.8888888888888888,\"#fdca26\"],[1.0,\"#f0f921\"]]}],\"surface\":[{\"type\":\"surface\",\"colorbar\":{\"outlinewidth\":0,\"ticks\":\"\"},\"colorscale\":[[0.0,\"#0d0887\"],[0.1111111111111111,\"#46039f\"],[0.2222222222222222,\"#7201a8\"],[0.3333333333333333,\"#9c179e\"],[0.4444444444444444,\"#bd3786\"],[0.5555555555555556,\"#d8576b\"],[0.6666666666666666,\"#ed7953\"],[0.7777777777777778,\"#fb9f3a\"],[0.8888888888888888,\"#fdca26\"],[1.0,\"#f0f921\"]]}],\"mesh3d\":[{\"type\":\"mesh3d\",\"colorbar\":{\"outlinewidth\":0,\"ticks\":\"\"}}],\"scatter\":[{\"fillpattern\":{\"fillmode\":\"overlay\",\"size\":10,\"solidity\":0.2},\"type\":\"scatter\"}],\"parcoords\":[{\"type\":\"parcoords\",\"line\":{\"colorbar\":{\"outlinewidth\":0,\"ticks\":\"\"}}}],\"scatterpolargl\":[{\"type\":\"scatterpolargl\",\"marker\":{\"colorbar\":{\"outlinewidth\":0,\"ticks\":\"\"}}}],\"bar\":[{\"error_x\":{\"color\":\"#2a3f5f\"},\"error_y\":{\"color\":\"#2a3f5f\"},\"marker\":{\"line\":{\"color\":\"#E5ECF6\",\"width\":0.5},\"pattern\":{\"fillmode\":\"overlay\",\"size\":10,\"solidity\":0.2}},\"type\":\"bar\"}],\"scattergeo\":[{\"type\":\"scattergeo\",\"marker\":{\"colorbar\":{\"outlinewidth\":0,\"ticks\":\"\"}}}],\"scatterpolar\":[{\"type\":\"scatterpolar\",\"marker\":{\"colorbar\":{\"outlinewidth\":0,\"ticks\":\"\"}}}],\"histogram\":[{\"marker\":{\"pattern\":{\"fillmode\":\"overlay\",\"size\":10,\"solidity\":0.2}},\"type\":\"histogram\"}],\"scattergl\":[{\"type\":\"scattergl\",\"marker\":{\"colorbar\":{\"outlinewidth\":0,\"ticks\":\"\"}}}],\"scatter3d\":[{\"type\":\"scatter3d\",\"line\":{\"colorbar\":{\"outlinewidth\":0,\"ticks\":\"\"}},\"marker\":{\"colorbar\":{\"outlinewidth\":0,\"ticks\":\"\"}}}],\"scattermapbox\":[{\"type\":\"scattermapbox\",\"marker\":{\"colorbar\":{\"outlinewidth\":0,\"ticks\":\"\"}}}],\"scatterternary\":[{\"type\":\"scatterternary\",\"marker\":{\"colorbar\":{\"outlinewidth\":0,\"ticks\":\"\"}}}],\"scattercarpet\":[{\"type\":\"scattercarpet\",\"marker\":{\"colorbar\":{\"outlinewidth\":0,\"ticks\":\"\"}}}],\"carpet\":[{\"aaxis\":{\"endlinecolor\":\"#2a3f5f\",\"gridcolor\":\"white\",\"linecolor\":\"white\",\"minorgridcolor\":\"white\",\"startlinecolor\":\"#2a3f5f\"},\"baxis\":{\"endlinecolor\":\"#2a3f5f\",\"gridcolor\":\"white\",\"linecolor\":\"white\",\"minorgridcolor\":\"white\",\"startlinecolor\":\"#2a3f5f\"},\"type\":\"carpet\"}],\"table\":[{\"cells\":{\"fill\":{\"color\":\"#EBF0F8\"},\"line\":{\"color\":\"white\"}},\"header\":{\"fill\":{\"color\":\"#C8D4E3\"},\"line\":{\"color\":\"white\"}},\"type\":\"table\"}],\"barpolar\":[{\"marker\":{\"line\":{\"color\":\"#E5ECF6\",\"width\":0.5},\"pattern\":{\"fillmode\":\"overlay\",\"size\":10,\"solidity\":0.2}},\"type\":\"barpolar\"}],\"pie\":[{\"automargin\":true,\"type\":\"pie\"}]},\"layout\":{\"autotypenumbers\":\"strict\",\"colorway\":[\"#636efa\",\"#EF553B\",\"#00cc96\",\"#ab63fa\",\"#FFA15A\",\"#19d3f3\",\"#FF6692\",\"#B6E880\",\"#FF97FF\",\"#FECB52\"],\"font\":{\"color\":\"#2a3f5f\"},\"hovermode\":\"closest\",\"hoverlabel\":{\"align\":\"left\"},\"paper_bgcolor\":\"white\",\"plot_bgcolor\":\"#E5ECF6\",\"polar\":{\"bgcolor\":\"#E5ECF6\",\"angularaxis\":{\"gridcolor\":\"white\",\"linecolor\":\"white\",\"ticks\":\"\"},\"radialaxis\":{\"gridcolor\":\"white\",\"linecolor\":\"white\",\"ticks\":\"\"}},\"ternary\":{\"bgcolor\":\"#E5ECF6\",\"aaxis\":{\"gridcolor\":\"white\",\"linecolor\":\"white\",\"ticks\":\"\"},\"baxis\":{\"gridcolor\":\"white\",\"linecolor\":\"white\",\"ticks\":\"\"},\"caxis\":{\"gridcolor\":\"white\",\"linecolor\":\"white\",\"ticks\":\"\"}},\"coloraxis\":{\"colorbar\":{\"outlinewidth\":0,\"ticks\":\"\"}},\"colorscale\":{\"sequential\":[[0.0,\"#0d0887\"],[0.1111111111111111,\"#46039f\"],[0.2222222222222222,\"#7201a8\"],[0.3333333333333333,\"#9c179e\"],[0.4444444444444444,\"#bd3786\"],[0.5555555555555556,\"#d8576b\"],[0.6666666666666666,\"#ed7953\"],[0.7777777777777778,\"#fb9f3a\"],[0.8888888888888888,\"#fdca26\"],[1.0,\"#f0f921\"]],\"sequentialminus\":[[0.0,\"#0d0887\"],[0.1111111111111111,\"#46039f\"],[0.2222222222222222,\"#7201a8\"],[0.3333333333333333,\"#9c179e\"],[0.4444444444444444,\"#bd3786\"],[0.5555555555555556,\"#d8576b\"],[0.6666666666666666,\"#ed7953\"],[0.7777777777777778,\"#fb9f3a\"],[0.8888888888888888,\"#fdca26\"],[1.0,\"#f0f921\"]],\"diverging\":[[0,\"#8e0152\"],[0.1,\"#c51b7d\"],[0.2,\"#de77ae\"],[0.3,\"#f1b6da\"],[0.4,\"#fde0ef\"],[0.5,\"#f7f7f7\"],[0.6,\"#e6f5d0\"],[0.7,\"#b8e186\"],[0.8,\"#7fbc41\"],[0.9,\"#4d9221\"],[1,\"#276419\"]]},\"xaxis\":{\"gridcolor\":\"white\",\"linecolor\":\"white\",\"ticks\":\"\",\"title\":{\"standoff\":15},\"zerolinecolor\":\"white\",\"automargin\":true,\"zerolinewidth\":2},\"yaxis\":{\"gridcolor\":\"white\",\"linecolor\":\"white\",\"ticks\":\"\",\"title\":{\"standoff\":15},\"zerolinecolor\":\"white\",\"automargin\":true,\"zerolinewidth\":2},\"scene\":{\"xaxis\":{\"backgroundcolor\":\"#E5ECF6\",\"gridcolor\":\"white\",\"linecolor\":\"white\",\"showbackground\":true,\"ticks\":\"\",\"zerolinecolor\":\"white\",\"gridwidth\":2},\"yaxis\":{\"backgroundcolor\":\"#E5ECF6\",\"gridcolor\":\"white\",\"linecolor\":\"white\",\"showbackground\":true,\"ticks\":\"\",\"zerolinecolor\":\"white\",\"gridwidth\":2},\"zaxis\":{\"backgroundcolor\":\"#E5ECF6\",\"gridcolor\":\"white\",\"linecolor\":\"white\",\"showbackground\":true,\"ticks\":\"\",\"zerolinecolor\":\"white\",\"gridwidth\":2}},\"shapedefaults\":{\"line\":{\"color\":\"#2a3f5f\"}},\"annotationdefaults\":{\"arrowcolor\":\"#2a3f5f\",\"arrowhead\":0,\"arrowwidth\":1},\"geo\":{\"bgcolor\":\"white\",\"landcolor\":\"#E5ECF6\",\"subunitcolor\":\"white\",\"showland\":true,\"showlakes\":true,\"lakecolor\":\"white\"},\"title\":{\"x\":0.05},\"mapbox\":{\"style\":\"light\"}}},\"title\":{\"text\":\"Feature-correlation (pearson)\",\"font\":{\"size\":24},\"x\":0.5},\"xaxis\":{\"autorange\":\"reversed\"},\"autosize\":true,\"width\":1152,\"height\":1056},                        {\"responsive\": true}                    ).then(function(){\n",
              "                            \n",
              "var gd = document.getElementById('27ca51d7-64dc-4a50-bfb9-09c45fd905a6');\n",
              "var x = new MutationObserver(function (mutations, observer) {{\n",
              "        var display = window.getComputedStyle(gd).display;\n",
              "        if (!display || display === 'none') {{\n",
              "            console.log([gd, 'removed!']);\n",
              "            Plotly.purge(gd);\n",
              "            observer.disconnect();\n",
              "        }}\n",
              "}});\n",
              "\n",
              "// Listen for the removal of the full notebook cells\n",
              "var notebookContainer = gd.closest('#notebook-container');\n",
              "if (notebookContainer) {{\n",
              "    x.observe(notebookContainer, {childList: true});\n",
              "}}\n",
              "\n",
              "// Listen for the clearing of the current output cell\n",
              "var outputEl = gd.closest('.output');\n",
              "if (outputEl) {{\n",
              "    x.observe(outputEl, {childList: true});\n",
              "}}\n",
              "\n",
              "                        })                };                            </script>        </div>\n",
              "</body>\n",
              "</html>"
            ]
          },
          "metadata": {}
        }
      ]
    },
    {
      "cell_type": "code",
      "source": [
        "klib.dist_plot(train_dataset)"
      ],
      "metadata": {
        "colab": {
          "base_uri": "https://localhost:8080/",
          "height": 253
        },
        "id": "-N_g33JtYXeS",
        "outputId": "86605cac-96eb-463f-95a9-322e04b3d655"
      },
      "execution_count": 34,
      "outputs": [
        {
          "output_type": "stream",
          "name": "stdout",
          "text": [
            "Large dataset detected, using 10000 random samples for the plots. Summary statistics are still based on the entire dataset.\n"
          ]
        },
        {
          "output_type": "execute_result",
          "data": {
            "text/plain": [
              "<Axes: xlabel='index', ylabel='Density'>"
            ]
          },
          "metadata": {},
          "execution_count": 34
        },
        {
          "output_type": "display_data",
          "data": {
            "text/plain": [
              "<Figure size 1500x300 with 1 Axes>"
            ],
            "image/png": "[encoded data removed]"
          },
          "metadata": {}
        }
      ]
    },
    {
      "cell_type": "code",
      "source": [
        "klib.missingval_plot(train_dataset)"
      ],
      "metadata": {
        "colab": {
          "base_uri": "https://localhost:8080/",
          "height": 0
        },
        "id": "08bxYeukYZ5F",
        "outputId": "752ed574-3dc8-4753-d1aa-89bbd9b09642"
      },
      "execution_count": 35,
      "outputs": [
        {
          "output_type": "stream",
          "name": "stdout",
          "text": [
            "No missing values found in the dataset.\n"
          ]
        }
      ]
    },
    {
      "cell_type": "code",
      "source": [
        "klib.corr_mat(train_dataset)"
      ],
      "metadata": {
        "colab": {
          "base_uri": "https://localhost:8080/",
          "height": 634
        },
        "id": "FhOfoCYNYb76",
        "outputId": "57629485-59b5-403c-b84c-8e7c2faba13e"
      },
      "execution_count": 36,
      "outputs": [
        {
          "output_type": "execute_result",
          "data": {
            "text/plain": [
              "<pandas.io.formats.style.Styler at 0x7ea36fe0aef0>"
            ],
            "text/html": [
              "<style type=\"text/css\">\n",
              "#T_042e6_row0_col0, #T_042e6_row0_col3, #T_042e6_row0_col4, #T_042e6_row0_col5, #T_042e6_row0_col7, #T_042e6_row0_col12, #T_042e6_row0_col13, #T_042e6_row0_col14, #T_042e6_row0_col16, #T_042e6_row1_col1, #T_042e6_row1_col3, #T_042e6_row1_col5, #T_042e6_row1_col8, #T_042e6_row1_col10, #T_042e6_row1_col11, #T_042e6_row1_col12, #T_042e6_row1_col13, #T_042e6_row1_col14, #T_042e6_row1_col15, #T_042e6_row1_col17, #T_042e6_row2_col2, #T_042e6_row2_col3, #T_042e6_row2_col5, #T_042e6_row2_col8, #T_042e6_row2_col11, #T_042e6_row2_col13, #T_042e6_row2_col14, #T_042e6_row2_col16, #T_042e6_row3_col0, #T_042e6_row3_col1, #T_042e6_row3_col2, #T_042e6_row3_col3, #T_042e6_row3_col4, #T_042e6_row3_col5, #T_042e6_row3_col8, #T_042e6_row3_col12, #T_042e6_row3_col14, #T_042e6_row4_col0, #T_042e6_row4_col3, #T_042e6_row4_col4, #T_042e6_row4_col6, #T_042e6_row4_col7, #T_042e6_row4_col12, #T_042e6_row4_col14, #T_042e6_row4_col16, #T_042e6_row5_col0, #T_042e6_row5_col1, #T_042e6_row5_col2, #T_042e6_row5_col3, #T_042e6_row5_col5, #T_042e6_row5_col8, #T_042e6_row5_col10, #T_042e6_row5_col11, #T_042e6_row5_col12, #T_042e6_row5_col13, #T_042e6_row5_col14, #T_042e6_row5_col15, #T_042e6_row5_col17, #T_042e6_row6_col4, #T_042e6_row6_col6, #T_042e6_row6_col7, #T_042e6_row6_col9, #T_042e6_row6_col16, #T_042e6_row7_col0, #T_042e6_row7_col4, #T_042e6_row7_col6, #T_042e6_row7_col7, #T_042e6_row7_col9, #T_042e6_row7_col11, #T_042e6_row7_col12, #T_042e6_row7_col14, #T_042e6_row7_col16, #T_042e6_row8_col1, #T_042e6_row8_col2, #T_042e6_row8_col3, #T_042e6_row8_col5, #T_042e6_row8_col8, #T_042e6_row8_col10, #T_042e6_row8_col13, #T_042e6_row8_col15, #T_042e6_row8_col17, #T_042e6_row9_col6, #T_042e6_row9_col7, #T_042e6_row9_col9, #T_042e6_row10_col1, #T_042e6_row10_col5, #T_042e6_row10_col8, #T_042e6_row10_col10, #T_042e6_row10_col17, #T_042e6_row11_col1, #T_042e6_row11_col2, #T_042e6_row11_col5, #T_042e6_row11_col7, #T_042e6_row11_col11, #T_042e6_row11_col17, #T_042e6_row12_col0, #T_042e6_row12_col1, #T_042e6_row12_col3, #T_042e6_row12_col4, #T_042e6_row12_col5, #T_042e6_row12_col7, #T_042e6_row12_col12, #T_042e6_row12_col17, #T_042e6_row13_col0, #T_042e6_row13_col1, #T_042e6_row13_col2, #T_042e6_row13_col5, #T_042e6_row13_col8, #T_042e6_row13_col13, #T_042e6_row13_col17, #T_042e6_row14_col0, #T_042e6_row14_col1, #T_042e6_row14_col2, #T_042e6_row14_col3, #T_042e6_row14_col4, #T_042e6_row14_col5, #T_042e6_row14_col7, #T_042e6_row14_col14, #T_042e6_row14_col17, #T_042e6_row15_col1, #T_042e6_row15_col5, #T_042e6_row15_col8, #T_042e6_row15_col15, #T_042e6_row15_col17, #T_042e6_row16_col0, #T_042e6_row16_col2, #T_042e6_row16_col4, #T_042e6_row16_col6, #T_042e6_row16_col7, #T_042e6_row16_col16, #T_042e6_row17_col1, #T_042e6_row17_col5, #T_042e6_row17_col8, #T_042e6_row17_col10, #T_042e6_row17_col11, #T_042e6_row17_col12, #T_042e6_row17_col13, #T_042e6_row17_col14, #T_042e6_row17_col15, #T_042e6_row17_col17 {\n",
              "  color: None;\n",
              "}\n",
              "#T_042e6_row0_col1, #T_042e6_row0_col2, #T_042e6_row0_col6, #T_042e6_row0_col8, #T_042e6_row0_col9, #T_042e6_row0_col10, #T_042e6_row0_col11, #T_042e6_row0_col15, #T_042e6_row0_col17, #T_042e6_row1_col0, #T_042e6_row1_col2, #T_042e6_row1_col4, #T_042e6_row1_col6, #T_042e6_row1_col7, #T_042e6_row1_col9, #T_042e6_row1_col16, #T_042e6_row2_col0, #T_042e6_row2_col1, #T_042e6_row2_col4, #T_042e6_row2_col6, #T_042e6_row2_col7, #T_042e6_row2_col9, #T_042e6_row2_col10, #T_042e6_row2_col12, #T_042e6_row2_col15, #T_042e6_row2_col17, #T_042e6_row3_col6, #T_042e6_row3_col7, #T_042e6_row3_col9, #T_042e6_row3_col10, #T_042e6_row3_col11, #T_042e6_row3_col13, #T_042e6_row3_col15, #T_042e6_row3_col16, #T_042e6_row3_col17, #T_042e6_row4_col1, #T_042e6_row4_col2, #T_042e6_row4_col5, #T_042e6_row4_col8, #T_042e6_row4_col9, #T_042e6_row4_col10, #T_042e6_row4_col11, #T_042e6_row4_col13, #T_042e6_row4_col15, #T_042e6_row4_col17, #T_042e6_row5_col4, #T_042e6_row5_col6, #T_042e6_row5_col7, #T_042e6_row5_col9, #T_042e6_row5_col16, #T_042e6_row6_col0, #T_042e6_row6_col1, #T_042e6_row6_col2, #T_042e6_row6_col3, #T_042e6_row6_col5, #T_042e6_row6_col8, #T_042e6_row6_col10, #T_042e6_row6_col11, #T_042e6_row6_col12, #T_042e6_row6_col13, #T_042e6_row6_col14, #T_042e6_row6_col15, #T_042e6_row6_col17, #T_042e6_row7_col1, #T_042e6_row7_col2, #T_042e6_row7_col3, #T_042e6_row7_col5, #T_042e6_row7_col8, #T_042e6_row7_col10, #T_042e6_row7_col13, #T_042e6_row7_col15, #T_042e6_row7_col17, #T_042e6_row8_col0, #T_042e6_row8_col4, #T_042e6_row8_col6, #T_042e6_row8_col7, #T_042e6_row8_col9, #T_042e6_row8_col11, #T_042e6_row8_col12, #T_042e6_row8_col14, #T_042e6_row8_col16, #T_042e6_row9_col0, #T_042e6_row9_col1, #T_042e6_row9_col2, #T_042e6_row9_col3, #T_042e6_row9_col4, #T_042e6_row9_col5, #T_042e6_row9_col8, #T_042e6_row9_col10, #T_042e6_row9_col11, #T_042e6_row9_col12, #T_042e6_row9_col13, #T_042e6_row9_col14, #T_042e6_row9_col15, #T_042e6_row9_col16, #T_042e6_row9_col17, #T_042e6_row10_col0, #T_042e6_row10_col2, #T_042e6_row10_col3, #T_042e6_row10_col4, #T_042e6_row10_col6, #T_042e6_row10_col7, #T_042e6_row10_col9, #T_042e6_row10_col11, #T_042e6_row10_col12, #T_042e6_row10_col13, #T_042e6_row10_col14, #T_042e6_row10_col15, #T_042e6_row10_col16, #T_042e6_row11_col0, #T_042e6_row11_col3, #T_042e6_row11_col4, #T_042e6_row11_col6, #T_042e6_row11_col8, #T_042e6_row11_col9, #T_042e6_row11_col10, #T_042e6_row11_col12, #T_042e6_row11_col13, #T_042e6_row11_col14, #T_042e6_row11_col15, #T_042e6_row11_col16, #T_042e6_row12_col2, #T_042e6_row12_col6, #T_042e6_row12_col8, #T_042e6_row12_col9, #T_042e6_row12_col10, #T_042e6_row12_col11, #T_042e6_row12_col13, #T_042e6_row12_col14, #T_042e6_row12_col15, #T_042e6_row12_col16, #T_042e6_row13_col3, #T_042e6_row13_col4, #T_042e6_row13_col6, #T_042e6_row13_col7, #T_042e6_row13_col9, #T_042e6_row13_col10, #T_042e6_row13_col11, #T_042e6_row13_col12, #T_042e6_row13_col14, #T_042e6_row13_col15, #T_042e6_row13_col16, #T_042e6_row14_col6, #T_042e6_row14_col8, #T_042e6_row14_col9, #T_042e6_row14_col10, #T_042e6_row14_col11, #T_042e6_row14_col12, #T_042e6_row14_col13, #T_042e6_row14_col15, #T_042e6_row14_col16, #T_042e6_row15_col0, #T_042e6_row15_col2, #T_042e6_row15_col3, #T_042e6_row15_col4, #T_042e6_row15_col6, #T_042e6_row15_col7, #T_042e6_row15_col9, #T_042e6_row15_col10, #T_042e6_row15_col11, #T_042e6_row15_col12, #T_042e6_row15_col13, #T_042e6_row15_col14, #T_042e6_row15_col16, #T_042e6_row16_col1, #T_042e6_row16_col3, #T_042e6_row16_col5, #T_042e6_row16_col8, #T_042e6_row16_col9, #T_042e6_row16_col10, #T_042e6_row16_col11, #T_042e6_row16_col12, #T_042e6_row16_col13, #T_042e6_row16_col14, #T_042e6_row16_col15, #T_042e6_row16_col17, #T_042e6_row17_col0, #T_042e6_row17_col2, #T_042e6_row17_col3, #T_042e6_row17_col4, #T_042e6_row17_col6, #T_042e6_row17_col7, #T_042e6_row17_col9, #T_042e6_row17_col16 {\n",
              "  color: #FF3344;\n",
              "}\n",
              "</style>\n",
              "<table id=\"T_042e6\" class=\"dataframe\">\n",
              "  <thead>\n",
              "    <tr>\n",
              "      <th class=\"blank level0\" >&nbsp;</th>\n",
              "      <th id=\"T_042e6_level0_col0\" class=\"col_heading level0 col0\" >index</th>\n",
              "      <th id=\"T_042e6_level0_col1\" class=\"col_heading level0 col1\" >lte_5g_category</th>\n",
              "      <th id=\"T_042e6_level0_col2\" class=\"col_heading level0 col2\" >time</th>\n",
              "      <th id=\"T_042e6_level0_col3\" class=\"col_heading level0 col3\" >packet_loss_rate</th>\n",
              "      <th id=\"T_042e6_level0_col4\" class=\"col_heading level0 col4\" >packet_delay</th>\n",
              "      <th id=\"T_042e6_level0_col5\" class=\"col_heading level0 col5\" >io_t</th>\n",
              "      <th id=\"T_042e6_level0_col6\" class=\"col_heading level0 col6\" >lte_5g</th>\n",
              "      <th id=\"T_042e6_level0_col7\" class=\"col_heading level0 col7\" >gbr</th>\n",
              "      <th id=\"T_042e6_level0_col8\" class=\"col_heading level0 col8\" >non_gbr</th>\n",
              "      <th id=\"T_042e6_level0_col9\" class=\"col_heading level0 col9\" >ar_vr_gaming</th>\n",
              "      <th id=\"T_042e6_level0_col10\" class=\"col_heading level0 col10\" >healthcare</th>\n",
              "      <th id=\"T_042e6_level0_col11\" class=\"col_heading level0 col11\" >industry_4_0</th>\n",
              "      <th id=\"T_042e6_level0_col12\" class=\"col_heading level0 col12\" >io_t_devices</th>\n",
              "      <th id=\"T_042e6_level0_col13\" class=\"col_heading level0 col13\" >public_safety</th>\n",
              "      <th id=\"T_042e6_level0_col14\" class=\"col_heading level0 col14\" >smart_city_and_home</th>\n",
              "      <th id=\"T_042e6_level0_col15\" class=\"col_heading level0 col15\" >smart_transportation</th>\n",
              "      <th id=\"T_042e6_level0_col16\" class=\"col_heading level0 col16\" >smartphone</th>\n",
              "      <th id=\"T_042e6_level0_col17\" class=\"col_heading level0 col17\" >slice_type</th>\n",
              "    </tr>\n",
              "  </thead>\n",
              "  <tbody>\n",
              "    <tr>\n",
              "      <th id=\"T_042e6_level0_row0\" class=\"row_heading level0 row0\" >index</th>\n",
              "      <td id=\"T_042e6_row0_col0\" class=\"data row0 col0\" >1.00</td>\n",
              "      <td id=\"T_042e6_row0_col1\" class=\"data row0 col1\" >-0.02</td>\n",
              "      <td id=\"T_042e6_row0_col2\" class=\"data row0 col2\" >-0.00</td>\n",
              "      <td id=\"T_042e6_row0_col3\" class=\"data row0 col3\" >0.02</td>\n",
              "      <td id=\"T_042e6_row0_col4\" class=\"data row0 col4\" >0.01</td>\n",
              "      <td id=\"T_042e6_row0_col5\" class=\"data row0 col5\" >0.00</td>\n",
              "      <td id=\"T_042e6_row0_col6\" class=\"data row0 col6\" >-0.00</td>\n",
              "      <td id=\"T_042e6_row0_col7\" class=\"data row0 col7\" >0.00</td>\n",
              "      <td id=\"T_042e6_row0_col8\" class=\"data row0 col8\" >-0.00</td>\n",
              "      <td id=\"T_042e6_row0_col9\" class=\"data row0 col9\" >-0.01</td>\n",
              "      <td id=\"T_042e6_row0_col10\" class=\"data row0 col10\" >-0.01</td>\n",
              "      <td id=\"T_042e6_row0_col11\" class=\"data row0 col11\" >-0.01</td>\n",
              "      <td id=\"T_042e6_row0_col12\" class=\"data row0 col12\" >0.00</td>\n",
              "      <td id=\"T_042e6_row0_col13\" class=\"data row0 col13\" >0.00</td>\n",
              "      <td id=\"T_042e6_row0_col14\" class=\"data row0 col14\" >0.01</td>\n",
              "      <td id=\"T_042e6_row0_col15\" class=\"data row0 col15\" >-0.00</td>\n",
              "      <td id=\"T_042e6_row0_col16\" class=\"data row0 col16\" >0.00</td>\n",
              "      <td id=\"T_042e6_row0_col17\" class=\"data row0 col17\" >-0.00</td>\n",
              "    </tr>\n",
              "    <tr>\n",
              "      <th id=\"T_042e6_level0_row1\" class=\"row_heading level0 row1\" >lte_5g_category</th>\n",
              "      <td id=\"T_042e6_row1_col0\" class=\"data row1 col0\" >-0.02</td>\n",
              "      <td id=\"T_042e6_row1_col1\" class=\"data row1 col1\" >1.00</td>\n",
              "      <td id=\"T_042e6_row1_col2\" class=\"data row1 col2\" >-0.01</td>\n",
              "      <td id=\"T_042e6_row1_col3\" class=\"data row1 col3\" >0.02</td>\n",
              "      <td id=\"T_042e6_row1_col4\" class=\"data row1 col4\" >-0.02</td>\n",
              "      <td id=\"T_042e6_row1_col5\" class=\"data row1 col5\" >0.10</td>\n",
              "      <td id=\"T_042e6_row1_col6\" class=\"data row1 col6\" >-0.10</td>\n",
              "      <td id=\"T_042e6_row1_col7\" class=\"data row1 col7\" >-0.01</td>\n",
              "      <td id=\"T_042e6_row1_col8\" class=\"data row1 col8\" >0.01</td>\n",
              "      <td id=\"T_042e6_row1_col9\" class=\"data row1 col9\" >-0.03</td>\n",
              "      <td id=\"T_042e6_row1_col10\" class=\"data row1 col10\" >0.02</td>\n",
              "      <td id=\"T_042e6_row1_col11\" class=\"data row1 col11\" >0.05</td>\n",
              "      <td id=\"T_042e6_row1_col12\" class=\"data row1 col12\" >0.02</td>\n",
              "      <td id=\"T_042e6_row1_col13\" class=\"data row1 col13\" >0.02</td>\n",
              "      <td id=\"T_042e6_row1_col14\" class=\"data row1 col14\" >0.05</td>\n",
              "      <td id=\"T_042e6_row1_col15\" class=\"data row1 col15\" >0.02</td>\n",
              "      <td id=\"T_042e6_row1_col16\" class=\"data row1 col16\" >-0.08</td>\n",
              "      <td id=\"T_042e6_row1_col17\" class=\"data row1 col17\" >0.08</td>\n",
              "    </tr>\n",
              "    <tr>\n",
              "      <th id=\"T_042e6_level0_row2\" class=\"row_heading level0 row2\" >time</th>\n",
              "      <td id=\"T_042e6_row2_col0\" class=\"data row2 col0\" >-0.00</td>\n",
              "      <td id=\"T_042e6_row2_col1\" class=\"data row2 col1\" >-0.01</td>\n",
              "      <td id=\"T_042e6_row2_col2\" class=\"data row2 col2\" >1.00</td>\n",
              "      <td id=\"T_042e6_row2_col3\" class=\"data row2 col3\" >0.01</td>\n",
              "      <td id=\"T_042e6_row2_col4\" class=\"data row2 col4\" >-0.01</td>\n",
              "      <td id=\"T_042e6_row2_col5\" class=\"data row2 col5\" >0.00</td>\n",
              "      <td id=\"T_042e6_row2_col6\" class=\"data row2 col6\" >-0.00</td>\n",
              "      <td id=\"T_042e6_row2_col7\" class=\"data row2 col7\" >-0.01</td>\n",
              "      <td id=\"T_042e6_row2_col8\" class=\"data row2 col8\" >0.01</td>\n",
              "      <td id=\"T_042e6_row2_col9\" class=\"data row2 col9\" >-0.00</td>\n",
              "      <td id=\"T_042e6_row2_col10\" class=\"data row2 col10\" >-0.01</td>\n",
              "      <td id=\"T_042e6_row2_col11\" class=\"data row2 col11\" >0.00</td>\n",
              "      <td id=\"T_042e6_row2_col12\" class=\"data row2 col12\" >-0.00</td>\n",
              "      <td id=\"T_042e6_row2_col13\" class=\"data row2 col13\" >0.00</td>\n",
              "      <td id=\"T_042e6_row2_col14\" class=\"data row2 col14\" >0.01</td>\n",
              "      <td id=\"T_042e6_row2_col15\" class=\"data row2 col15\" >-0.00</td>\n",
              "      <td id=\"T_042e6_row2_col16\" class=\"data row2 col16\" >0.00</td>\n",
              "      <td id=\"T_042e6_row2_col17\" class=\"data row2 col17\" >-0.00</td>\n",
              "    </tr>\n",
              "    <tr>\n",
              "      <th id=\"T_042e6_level0_row3\" class=\"row_heading level0 row3\" >packet_loss_rate</th>\n",
              "      <td id=\"T_042e6_row3_col0\" class=\"data row3 col0\" >0.02</td>\n",
              "      <td id=\"T_042e6_row3_col1\" class=\"data row3 col1\" >0.02</td>\n",
              "      <td id=\"T_042e6_row3_col2\" class=\"data row3 col2\" >0.01</td>\n",
              "      <td id=\"T_042e6_row3_col3\" class=\"data row3 col3\" >1.00</td>\n",
              "      <td id=\"T_042e6_row3_col4\" class=\"data row3 col4\" >0.31</td>\n",
              "      <td id=\"T_042e6_row3_col5\" class=\"data row3 col5\" >0.17</td>\n",
              "      <td id=\"T_042e6_row3_col6\" class=\"data row3 col6\" >-0.17</td>\n",
              "      <td id=\"T_042e6_row3_col7\" class=\"data row3 col7\" >-0.02</td>\n",
              "      <td id=\"T_042e6_row3_col8\" class=\"data row3 col8\" >0.02</td>\n",
              "      <td id=\"T_042e6_row3_col9\" class=\"data row3 col9\" >-0.17</td>\n",
              "      <td id=\"T_042e6_row3_col10\" class=\"data row3 col10\" >-0.17</td>\n",
              "      <td id=\"T_042e6_row3_col11\" class=\"data row3 col11\" >-0.22</td>\n",
              "      <td id=\"T_042e6_row3_col12\" class=\"data row3 col12\" >0.39</td>\n",
              "      <td id=\"T_042e6_row3_col13\" class=\"data row3 col13\" >-0.18</td>\n",
              "      <td id=\"T_042e6_row3_col14\" class=\"data row3 col14\" >0.58</td>\n",
              "      <td id=\"T_042e6_row3_col15\" class=\"data row3 col15\" >-0.18</td>\n",
              "      <td id=\"T_042e6_row3_col16\" class=\"data row3 col16\" >-0.07</td>\n",
              "      <td id=\"T_042e6_row3_col17\" class=\"data row3 col17\" >-0.10</td>\n",
              "    </tr>\n",
              "    <tr>\n",
              "      <th id=\"T_042e6_level0_row4\" class=\"row_heading level0 row4\" >packet_delay</th>\n",
              "      <td id=\"T_042e6_row4_col0\" class=\"data row4 col0\" >0.01</td>\n",
              "      <td id=\"T_042e6_row4_col1\" class=\"data row4 col1\" >-0.02</td>\n",
              "      <td id=\"T_042e6_row4_col2\" class=\"data row4 col2\" >-0.01</td>\n",
              "      <td id=\"T_042e6_row4_col3\" class=\"data row4 col3\" >0.31</td>\n",
              "      <td id=\"T_042e6_row4_col4\" class=\"data row4 col4\" >1.00</td>\n",
              "      <td id=\"T_042e6_row4_col5\" class=\"data row4 col5\" >-0.19</td>\n",
              "      <td id=\"T_042e6_row4_col6\" class=\"data row4 col6\" >0.19</td>\n",
              "      <td id=\"T_042e6_row4_col7\" class=\"data row4 col7\" >0.42</td>\n",
              "      <td id=\"T_042e6_row4_col8\" class=\"data row4 col8\" >-0.42</td>\n",
              "      <td id=\"T_042e6_row4_col9\" class=\"data row4 col9\" >-0.13</td>\n",
              "      <td id=\"T_042e6_row4_col10\" class=\"data row4 col10\" >-0.24</td>\n",
              "      <td id=\"T_042e6_row4_col11\" class=\"data row4 col11\" >-0.28</td>\n",
              "      <td id=\"T_042e6_row4_col12\" class=\"data row4 col12\" >0.44</td>\n",
              "      <td id=\"T_042e6_row4_col13\" class=\"data row4 col13\" >-0.25</td>\n",
              "      <td id=\"T_042e6_row4_col14\" class=\"data row4 col14\" >0.20</td>\n",
              "      <td id=\"T_042e6_row4_col15\" class=\"data row4 col15\" >-0.24</td>\n",
              "      <td id=\"T_042e6_row4_col16\" class=\"data row4 col16\" >0.27</td>\n",
              "      <td id=\"T_042e6_row4_col17\" class=\"data row4 col17\" >-0.39</td>\n",
              "    </tr>\n",
              "    <tr>\n",
              "      <th id=\"T_042e6_level0_row5\" class=\"row_heading level0 row5\" >io_t</th>\n",
              "      <td id=\"T_042e6_row5_col0\" class=\"data row5 col0\" >0.00</td>\n",
              "      <td id=\"T_042e6_row5_col1\" class=\"data row5 col1\" >0.10</td>\n",
              "      <td id=\"T_042e6_row5_col2\" class=\"data row5 col2\" >0.00</td>\n",
              "      <td id=\"T_042e6_row5_col3\" class=\"data row5 col3\" >0.17</td>\n",
              "      <td id=\"T_042e6_row5_col4\" class=\"data row5 col4\" >-0.19</td>\n",
              "      <td id=\"T_042e6_row5_col5\" class=\"data row5 col5\" >1.00</td>\n",
              "      <td id=\"T_042e6_row5_col6\" class=\"data row5 col6\" >-1.00</td>\n",
              "      <td id=\"T_042e6_row5_col7\" class=\"data row5 col7\" >-0.12</td>\n",
              "      <td id=\"T_042e6_row5_col8\" class=\"data row5 col8\" >0.12</td>\n",
              "      <td id=\"T_042e6_row5_col9\" class=\"data row5 col9\" >-0.32</td>\n",
              "      <td id=\"T_042e6_row5_col10\" class=\"data row5 col10\" >0.26</td>\n",
              "      <td id=\"T_042e6_row5_col11\" class=\"data row5 col11\" >0.39</td>\n",
              "      <td id=\"T_042e6_row5_col12\" class=\"data row5 col12\" >0.27</td>\n",
              "      <td id=\"T_042e6_row5_col13\" class=\"data row5 col13\" >0.27</td>\n",
              "      <td id=\"T_042e6_row5_col14\" class=\"data row5 col14\" >0.39</td>\n",
              "      <td id=\"T_042e6_row5_col15\" class=\"data row5 col15\" >0.26</td>\n",
              "      <td id=\"T_042e6_row5_col16\" class=\"data row5 col16\" >-0.81</td>\n",
              "      <td id=\"T_042e6_row5_col17\" class=\"data row5 col17\" >0.91</td>\n",
              "    </tr>\n",
              "    <tr>\n",
              "      <th id=\"T_042e6_level0_row6\" class=\"row_heading level0 row6\" >lte_5g</th>\n",
              "      <td id=\"T_042e6_row6_col0\" class=\"data row6 col0\" >-0.00</td>\n",
              "      <td id=\"T_042e6_row6_col1\" class=\"data row6 col1\" >-0.10</td>\n",
              "      <td id=\"T_042e6_row6_col2\" class=\"data row6 col2\" >-0.00</td>\n",
              "      <td id=\"T_042e6_row6_col3\" class=\"data row6 col3\" >-0.17</td>\n",
              "      <td id=\"T_042e6_row6_col4\" class=\"data row6 col4\" >0.19</td>\n",
              "      <td id=\"T_042e6_row6_col5\" class=\"data row6 col5\" >-1.00</td>\n",
              "      <td id=\"T_042e6_row6_col6\" class=\"data row6 col6\" >1.00</td>\n",
              "      <td id=\"T_042e6_row6_col7\" class=\"data row6 col7\" >0.12</td>\n",
              "      <td id=\"T_042e6_row6_col8\" class=\"data row6 col8\" >-0.12</td>\n",
              "      <td id=\"T_042e6_row6_col9\" class=\"data row6 col9\" >0.32</td>\n",
              "      <td id=\"T_042e6_row6_col10\" class=\"data row6 col10\" >-0.26</td>\n",
              "      <td id=\"T_042e6_row6_col11\" class=\"data row6 col11\" >-0.39</td>\n",
              "      <td id=\"T_042e6_row6_col12\" class=\"data row6 col12\" >-0.27</td>\n",
              "      <td id=\"T_042e6_row6_col13\" class=\"data row6 col13\" >-0.27</td>\n",
              "      <td id=\"T_042e6_row6_col14\" class=\"data row6 col14\" >-0.39</td>\n",
              "      <td id=\"T_042e6_row6_col15\" class=\"data row6 col15\" >-0.26</td>\n",
              "      <td id=\"T_042e6_row6_col16\" class=\"data row6 col16\" >0.81</td>\n",
              "      <td id=\"T_042e6_row6_col17\" class=\"data row6 col17\" >-0.91</td>\n",
              "    </tr>\n",
              "    <tr>\n",
              "      <th id=\"T_042e6_level0_row7\" class=\"row_heading level0 row7\" >gbr</th>\n",
              "      <td id=\"T_042e6_row7_col0\" class=\"data row7 col0\" >0.00</td>\n",
              "      <td id=\"T_042e6_row7_col1\" class=\"data row7 col1\" >-0.01</td>\n",
              "      <td id=\"T_042e6_row7_col2\" class=\"data row7 col2\" >-0.01</td>\n",
              "      <td id=\"T_042e6_row7_col3\" class=\"data row7 col3\" >-0.02</td>\n",
              "      <td id=\"T_042e6_row7_col4\" class=\"data row7 col4\" >0.42</td>\n",
              "      <td id=\"T_042e6_row7_col5\" class=\"data row7 col5\" >-0.12</td>\n",
              "      <td id=\"T_042e6_row7_col6\" class=\"data row7 col6\" >0.12</td>\n",
              "      <td id=\"T_042e6_row7_col7\" class=\"data row7 col7\" >1.00</td>\n",
              "      <td id=\"T_042e6_row7_col8\" class=\"data row7 col8\" >-1.00</td>\n",
              "      <td id=\"T_042e6_row7_col9\" class=\"data row7 col9\" >0.04</td>\n",
              "      <td id=\"T_042e6_row7_col10\" class=\"data row7 col10\" >-0.21</td>\n",
              "      <td id=\"T_042e6_row7_col11\" class=\"data row7 col11\" >0.05</td>\n",
              "      <td id=\"T_042e6_row7_col12\" class=\"data row7 col12\" >0.28</td>\n",
              "      <td id=\"T_042e6_row7_col13\" class=\"data row7 col13\" >-0.22</td>\n",
              "      <td id=\"T_042e6_row7_col14\" class=\"data row7 col14\" >0.04</td>\n",
              "      <td id=\"T_042e6_row7_col15\" class=\"data row7 col15\" >-0.22</td>\n",
              "      <td id=\"T_042e6_row7_col16\" class=\"data row7 col16\" >0.10</td>\n",
              "      <td id=\"T_042e6_row7_col17\" class=\"data row7 col17\" >-0.32</td>\n",
              "    </tr>\n",
              "    <tr>\n",
              "      <th id=\"T_042e6_level0_row8\" class=\"row_heading level0 row8\" >non_gbr</th>\n",
              "      <td id=\"T_042e6_row8_col0\" class=\"data row8 col0\" >-0.00</td>\n",
              "      <td id=\"T_042e6_row8_col1\" class=\"data row8 col1\" >0.01</td>\n",
              "      <td id=\"T_042e6_row8_col2\" class=\"data row8 col2\" >0.01</td>\n",
              "      <td id=\"T_042e6_row8_col3\" class=\"data row8 col3\" >0.02</td>\n",
              "      <td id=\"T_042e6_row8_col4\" class=\"data row8 col4\" >-0.42</td>\n",
              "      <td id=\"T_042e6_row8_col5\" class=\"data row8 col5\" >0.12</td>\n",
              "      <td id=\"T_042e6_row8_col6\" class=\"data row8 col6\" >-0.12</td>\n",
              "      <td id=\"T_042e6_row8_col7\" class=\"data row8 col7\" >-1.00</td>\n",
              "      <td id=\"T_042e6_row8_col8\" class=\"data row8 col8\" >1.00</td>\n",
              "      <td id=\"T_042e6_row8_col9\" class=\"data row8 col9\" >-0.04</td>\n",
              "      <td id=\"T_042e6_row8_col10\" class=\"data row8 col10\" >0.21</td>\n",
              "      <td id=\"T_042e6_row8_col11\" class=\"data row8 col11\" >-0.05</td>\n",
              "      <td id=\"T_042e6_row8_col12\" class=\"data row8 col12\" >-0.28</td>\n",
              "      <td id=\"T_042e6_row8_col13\" class=\"data row8 col13\" >0.22</td>\n",
              "      <td id=\"T_042e6_row8_col14\" class=\"data row8 col14\" >-0.04</td>\n",
              "      <td id=\"T_042e6_row8_col15\" class=\"data row8 col15\" >0.22</td>\n",
              "      <td id=\"T_042e6_row8_col16\" class=\"data row8 col16\" >-0.10</td>\n",
              "      <td id=\"T_042e6_row8_col17\" class=\"data row8 col17\" >0.32</td>\n",
              "    </tr>\n",
              "    <tr>\n",
              "      <th id=\"T_042e6_level0_row9\" class=\"row_heading level0 row9\" >ar_vr_gaming</th>\n",
              "      <td id=\"T_042e6_row9_col0\" class=\"data row9 col0\" >-0.01</td>\n",
              "      <td id=\"T_042e6_row9_col1\" class=\"data row9 col1\" >-0.03</td>\n",
              "      <td id=\"T_042e6_row9_col2\" class=\"data row9 col2\" >-0.00</td>\n",
              "      <td id=\"T_042e6_row9_col3\" class=\"data row9 col3\" >-0.17</td>\n",
              "      <td id=\"T_042e6_row9_col4\" class=\"data row9 col4\" >-0.13</td>\n",
              "      <td id=\"T_042e6_row9_col5\" class=\"data row9 col5\" >-0.32</td>\n",
              "      <td id=\"T_042e6_row9_col6\" class=\"data row9 col6\" >0.32</td>\n",
              "      <td id=\"T_042e6_row9_col7\" class=\"data row9 col7\" >0.04</td>\n",
              "      <td id=\"T_042e6_row9_col8\" class=\"data row9 col8\" >-0.04</td>\n",
              "      <td id=\"T_042e6_row9_col9\" class=\"data row9 col9\" >1.00</td>\n",
              "      <td id=\"T_042e6_row9_col10\" class=\"data row9 col10\" >-0.08</td>\n",
              "      <td id=\"T_042e6_row9_col11\" class=\"data row9 col11\" >-0.12</td>\n",
              "      <td id=\"T_042e6_row9_col12\" class=\"data row9 col12\" >-0.09</td>\n",
              "      <td id=\"T_042e6_row9_col13\" class=\"data row9 col13\" >-0.09</td>\n",
              "      <td id=\"T_042e6_row9_col14\" class=\"data row9 col14\" >-0.13</td>\n",
              "      <td id=\"T_042e6_row9_col15\" class=\"data row9 col15\" >-0.08</td>\n",
              "      <td id=\"T_042e6_row9_col16\" class=\"data row9 col16\" >-0.30</td>\n",
              "      <td id=\"T_042e6_row9_col17\" class=\"data row9 col17\" >-0.29</td>\n",
              "    </tr>\n",
              "    <tr>\n",
              "      <th id=\"T_042e6_level0_row10\" class=\"row_heading level0 row10\" >healthcare</th>\n",
              "      <td id=\"T_042e6_row10_col0\" class=\"data row10 col0\" >-0.01</td>\n",
              "      <td id=\"T_042e6_row10_col1\" class=\"data row10 col1\" >0.02</td>\n",
              "      <td id=\"T_042e6_row10_col2\" class=\"data row10 col2\" >-0.01</td>\n",
              "      <td id=\"T_042e6_row10_col3\" class=\"data row10 col3\" >-0.17</td>\n",
              "      <td id=\"T_042e6_row10_col4\" class=\"data row10 col4\" >-0.24</td>\n",
              "      <td id=\"T_042e6_row10_col5\" class=\"data row10 col5\" >0.26</td>\n",
              "      <td id=\"T_042e6_row10_col6\" class=\"data row10 col6\" >-0.26</td>\n",
              "      <td id=\"T_042e6_row10_col7\" class=\"data row10 col7\" >-0.21</td>\n",
              "      <td id=\"T_042e6_row10_col8\" class=\"data row10 col8\" >0.21</td>\n",
              "      <td id=\"T_042e6_row10_col9\" class=\"data row10 col9\" >-0.08</td>\n",
              "      <td id=\"T_042e6_row10_col10\" class=\"data row10 col10\" >1.00</td>\n",
              "      <td id=\"T_042e6_row10_col11\" class=\"data row10 col11\" >-0.09</td>\n",
              "      <td id=\"T_042e6_row10_col12\" class=\"data row10 col12\" >-0.06</td>\n",
              "      <td id=\"T_042e6_row10_col13\" class=\"data row10 col13\" >-0.06</td>\n",
              "      <td id=\"T_042e6_row10_col14\" class=\"data row10 col14\" >-0.09</td>\n",
              "      <td id=\"T_042e6_row10_col15\" class=\"data row10 col15\" >-0.06</td>\n",
              "      <td id=\"T_042e6_row10_col16\" class=\"data row10 col16\" >-0.21</td>\n",
              "      <td id=\"T_042e6_row10_col17\" class=\"data row10 col17\" >0.39</td>\n",
              "    </tr>\n",
              "    <tr>\n",
              "      <th id=\"T_042e6_level0_row11\" class=\"row_heading level0 row11\" >industry_4_0</th>\n",
              "      <td id=\"T_042e6_row11_col0\" class=\"data row11 col0\" >-0.01</td>\n",
              "      <td id=\"T_042e6_row11_col1\" class=\"data row11 col1\" >0.05</td>\n",
              "      <td id=\"T_042e6_row11_col2\" class=\"data row11 col2\" >0.00</td>\n",
              "      <td id=\"T_042e6_row11_col3\" class=\"data row11 col3\" >-0.22</td>\n",
              "      <td id=\"T_042e6_row11_col4\" class=\"data row11 col4\" >-0.28</td>\n",
              "      <td id=\"T_042e6_row11_col5\" class=\"data row11 col5\" >0.39</td>\n",
              "      <td id=\"T_042e6_row11_col6\" class=\"data row11 col6\" >-0.39</td>\n",
              "      <td id=\"T_042e6_row11_col7\" class=\"data row11 col7\" >0.05</td>\n",
              "      <td id=\"T_042e6_row11_col8\" class=\"data row11 col8\" >-0.05</td>\n",
              "      <td id=\"T_042e6_row11_col9\" class=\"data row11 col9\" >-0.12</td>\n",
              "      <td id=\"T_042e6_row11_col10\" class=\"data row11 col10\" >-0.09</td>\n",
              "      <td id=\"T_042e6_row11_col11\" class=\"data row11 col11\" >1.00</td>\n",
              "      <td id=\"T_042e6_row11_col12\" class=\"data row11 col12\" >-0.09</td>\n",
              "      <td id=\"T_042e6_row11_col13\" class=\"data row11 col13\" >-0.09</td>\n",
              "      <td id=\"T_042e6_row11_col14\" class=\"data row11 col14\" >-0.13</td>\n",
              "      <td id=\"T_042e6_row11_col15\" class=\"data row11 col15\" >-0.09</td>\n",
              "      <td id=\"T_042e6_row11_col16\" class=\"data row11 col16\" >-0.31</td>\n",
              "      <td id=\"T_042e6_row11_col17\" class=\"data row11 col17\" >0.35</td>\n",
              "    </tr>\n",
              "    <tr>\n",
              "      <th id=\"T_042e6_level0_row12\" class=\"row_heading level0 row12\" >io_t_devices</th>\n",
              "      <td id=\"T_042e6_row12_col0\" class=\"data row12 col0\" >0.00</td>\n",
              "      <td id=\"T_042e6_row12_col1\" class=\"data row12 col1\" >0.02</td>\n",
              "      <td id=\"T_042e6_row12_col2\" class=\"data row12 col2\" >-0.00</td>\n",
              "      <td id=\"T_042e6_row12_col3\" class=\"data row12 col3\" >0.39</td>\n",
              "      <td id=\"T_042e6_row12_col4\" class=\"data row12 col4\" >0.44</td>\n",
              "      <td id=\"T_042e6_row12_col5\" class=\"data row12 col5\" >0.27</td>\n",
              "      <td id=\"T_042e6_row12_col6\" class=\"data row12 col6\" >-0.27</td>\n",
              "      <td id=\"T_042e6_row12_col7\" class=\"data row12 col7\" >0.28</td>\n",
              "      <td id=\"T_042e6_row12_col8\" class=\"data row12 col8\" >-0.28</td>\n",
              "      <td id=\"T_042e6_row12_col9\" class=\"data row12 col9\" >-0.09</td>\n",
              "      <td id=\"T_042e6_row12_col10\" class=\"data row12 col10\" >-0.06</td>\n",
              "      <td id=\"T_042e6_row12_col11\" class=\"data row12 col11\" >-0.09</td>\n",
              "      <td id=\"T_042e6_row12_col12\" class=\"data row12 col12\" >1.00</td>\n",
              "      <td id=\"T_042e6_row12_col13\" class=\"data row12 col13\" >-0.06</td>\n",
              "      <td id=\"T_042e6_row12_col14\" class=\"data row12 col14\" >-0.09</td>\n",
              "      <td id=\"T_042e6_row12_col15\" class=\"data row12 col15\" >-0.06</td>\n",
              "      <td id=\"T_042e6_row12_col16\" class=\"data row12 col16\" >-0.21</td>\n",
              "      <td id=\"T_042e6_row12_col17\" class=\"data row12 col17\" >0.09</td>\n",
              "    </tr>\n",
              "    <tr>\n",
              "      <th id=\"T_042e6_level0_row13\" class=\"row_heading level0 row13\" >public_safety</th>\n",
              "      <td id=\"T_042e6_row13_col0\" class=\"data row13 col0\" >0.00</td>\n",
              "      <td id=\"T_042e6_row13_col1\" class=\"data row13 col1\" >0.02</td>\n",
              "      <td id=\"T_042e6_row13_col2\" class=\"data row13 col2\" >0.00</td>\n",
              "      <td id=\"T_042e6_row13_col3\" class=\"data row13 col3\" >-0.18</td>\n",
              "      <td id=\"T_042e6_row13_col4\" class=\"data row13 col4\" >-0.25</td>\n",
              "      <td id=\"T_042e6_row13_col5\" class=\"data row13 col5\" >0.27</td>\n",
              "      <td id=\"T_042e6_row13_col6\" class=\"data row13 col6\" >-0.27</td>\n",
              "      <td id=\"T_042e6_row13_col7\" class=\"data row13 col7\" >-0.22</td>\n",
              "      <td id=\"T_042e6_row13_col8\" class=\"data row13 col8\" >0.22</td>\n",
              "      <td id=\"T_042e6_row13_col9\" class=\"data row13 col9\" >-0.09</td>\n",
              "      <td id=\"T_042e6_row13_col10\" class=\"data row13 col10\" >-0.06</td>\n",
              "      <td id=\"T_042e6_row13_col11\" class=\"data row13 col11\" >-0.09</td>\n",
              "      <td id=\"T_042e6_row13_col12\" class=\"data row13 col12\" >-0.06</td>\n",
              "      <td id=\"T_042e6_row13_col13\" class=\"data row13 col13\" >1.00</td>\n",
              "      <td id=\"T_042e6_row13_col14\" class=\"data row13 col14\" >-0.09</td>\n",
              "      <td id=\"T_042e6_row13_col15\" class=\"data row13 col15\" >-0.06</td>\n",
              "      <td id=\"T_042e6_row13_col16\" class=\"data row13 col16\" >-0.22</td>\n",
              "      <td id=\"T_042e6_row13_col17\" class=\"data row13 col17\" >0.40</td>\n",
              "    </tr>\n",
              "    <tr>\n",
              "      <th id=\"T_042e6_level0_row14\" class=\"row_heading level0 row14\" >smart_city_and_home</th>\n",
              "      <td id=\"T_042e6_row14_col0\" class=\"data row14 col0\" >0.01</td>\n",
              "      <td id=\"T_042e6_row14_col1\" class=\"data row14 col1\" >0.05</td>\n",
              "      <td id=\"T_042e6_row14_col2\" class=\"data row14 col2\" >0.01</td>\n",
              "      <td id=\"T_042e6_row14_col3\" class=\"data row14 col3\" >0.58</td>\n",
              "      <td id=\"T_042e6_row14_col4\" class=\"data row14 col4\" >0.20</td>\n",
              "      <td id=\"T_042e6_row14_col5\" class=\"data row14 col5\" >0.39</td>\n",
              "      <td id=\"T_042e6_row14_col6\" class=\"data row14 col6\" >-0.39</td>\n",
              "      <td id=\"T_042e6_row14_col7\" class=\"data row14 col7\" >0.04</td>\n",
              "      <td id=\"T_042e6_row14_col8\" class=\"data row14 col8\" >-0.04</td>\n",
              "      <td id=\"T_042e6_row14_col9\" class=\"data row14 col9\" >-0.13</td>\n",
              "      <td id=\"T_042e6_row14_col10\" class=\"data row14 col10\" >-0.09</td>\n",
              "      <td id=\"T_042e6_row14_col11\" class=\"data row14 col11\" >-0.13</td>\n",
              "      <td id=\"T_042e6_row14_col12\" class=\"data row14 col12\" >-0.09</td>\n",
              "      <td id=\"T_042e6_row14_col13\" class=\"data row14 col13\" >-0.09</td>\n",
              "      <td id=\"T_042e6_row14_col14\" class=\"data row14 col14\" >1.00</td>\n",
              "      <td id=\"T_042e6_row14_col15\" class=\"data row14 col15\" >-0.09</td>\n",
              "      <td id=\"T_042e6_row14_col16\" class=\"data row14 col16\" >-0.32</td>\n",
              "      <td id=\"T_042e6_row14_col17\" class=\"data row14 col17\" >0.14</td>\n",
              "    </tr>\n",
              "    <tr>\n",
              "      <th id=\"T_042e6_level0_row15\" class=\"row_heading level0 row15\" >smart_transportation</th>\n",
              "      <td id=\"T_042e6_row15_col0\" class=\"data row15 col0\" >-0.00</td>\n",
              "      <td id=\"T_042e6_row15_col1\" class=\"data row15 col1\" >0.02</td>\n",
              "      <td id=\"T_042e6_row15_col2\" class=\"data row15 col2\" >-0.00</td>\n",
              "      <td id=\"T_042e6_row15_col3\" class=\"data row15 col3\" >-0.18</td>\n",
              "      <td id=\"T_042e6_row15_col4\" class=\"data row15 col4\" >-0.24</td>\n",
              "      <td id=\"T_042e6_row15_col5\" class=\"data row15 col5\" >0.26</td>\n",
              "      <td id=\"T_042e6_row15_col6\" class=\"data row15 col6\" >-0.26</td>\n",
              "      <td id=\"T_042e6_row15_col7\" class=\"data row15 col7\" >-0.22</td>\n",
              "      <td id=\"T_042e6_row15_col8\" class=\"data row15 col8\" >0.22</td>\n",
              "      <td id=\"T_042e6_row15_col9\" class=\"data row15 col9\" >-0.08</td>\n",
              "      <td id=\"T_042e6_row15_col10\" class=\"data row15 col10\" >-0.06</td>\n",
              "      <td id=\"T_042e6_row15_col11\" class=\"data row15 col11\" >-0.09</td>\n",
              "      <td id=\"T_042e6_row15_col12\" class=\"data row15 col12\" >-0.06</td>\n",
              "      <td id=\"T_042e6_row15_col13\" class=\"data row15 col13\" >-0.06</td>\n",
              "      <td id=\"T_042e6_row15_col14\" class=\"data row15 col14\" >-0.09</td>\n",
              "      <td id=\"T_042e6_row15_col15\" class=\"data row15 col15\" >1.00</td>\n",
              "      <td id=\"T_042e6_row15_col16\" class=\"data row15 col16\" >-0.21</td>\n",
              "      <td id=\"T_042e6_row15_col17\" class=\"data row15 col17\" >0.39</td>\n",
              "    </tr>\n",
              "    <tr>\n",
              "      <th id=\"T_042e6_level0_row16\" class=\"row_heading level0 row16\" >smartphone</th>\n",
              "      <td id=\"T_042e6_row16_col0\" class=\"data row16 col0\" >0.00</td>\n",
              "      <td id=\"T_042e6_row16_col1\" class=\"data row16 col1\" >-0.08</td>\n",
              "      <td id=\"T_042e6_row16_col2\" class=\"data row16 col2\" >0.00</td>\n",
              "      <td id=\"T_042e6_row16_col3\" class=\"data row16 col3\" >-0.07</td>\n",
              "      <td id=\"T_042e6_row16_col4\" class=\"data row16 col4\" >0.27</td>\n",
              "      <td id=\"T_042e6_row16_col5\" class=\"data row16 col5\" >-0.81</td>\n",
              "      <td id=\"T_042e6_row16_col6\" class=\"data row16 col6\" >0.81</td>\n",
              "      <td id=\"T_042e6_row16_col7\" class=\"data row16 col7\" >0.10</td>\n",
              "      <td id=\"T_042e6_row16_col8\" class=\"data row16 col8\" >-0.10</td>\n",
              "      <td id=\"T_042e6_row16_col9\" class=\"data row16 col9\" >-0.30</td>\n",
              "      <td id=\"T_042e6_row16_col10\" class=\"data row16 col10\" >-0.21</td>\n",
              "      <td id=\"T_042e6_row16_col11\" class=\"data row16 col11\" >-0.31</td>\n",
              "      <td id=\"T_042e6_row16_col12\" class=\"data row16 col12\" >-0.21</td>\n",
              "      <td id=\"T_042e6_row16_col13\" class=\"data row16 col13\" >-0.22</td>\n",
              "      <td id=\"T_042e6_row16_col14\" class=\"data row16 col14\" >-0.32</td>\n",
              "      <td id=\"T_042e6_row16_col15\" class=\"data row16 col15\" >-0.21</td>\n",
              "      <td id=\"T_042e6_row16_col16\" class=\"data row16 col16\" >1.00</td>\n",
              "      <td id=\"T_042e6_row16_col17\" class=\"data row16 col17\" >-0.73</td>\n",
              "    </tr>\n",
              "    <tr>\n",
              "      <th id=\"T_042e6_level0_row17\" class=\"row_heading level0 row17\" >slice_type</th>\n",
              "      <td id=\"T_042e6_row17_col0\" class=\"data row17 col0\" >-0.00</td>\n",
              "      <td id=\"T_042e6_row17_col1\" class=\"data row17 col1\" >0.08</td>\n",
              "      <td id=\"T_042e6_row17_col2\" class=\"data row17 col2\" >-0.00</td>\n",
              "      <td id=\"T_042e6_row17_col3\" class=\"data row17 col3\" >-0.10</td>\n",
              "      <td id=\"T_042e6_row17_col4\" class=\"data row17 col4\" >-0.39</td>\n",
              "      <td id=\"T_042e6_row17_col5\" class=\"data row17 col5\" >0.91</td>\n",
              "      <td id=\"T_042e6_row17_col6\" class=\"data row17 col6\" >-0.91</td>\n",
              "      <td id=\"T_042e6_row17_col7\" class=\"data row17 col7\" >-0.32</td>\n",
              "      <td id=\"T_042e6_row17_col8\" class=\"data row17 col8\" >0.32</td>\n",
              "      <td id=\"T_042e6_row17_col9\" class=\"data row17 col9\" >-0.29</td>\n",
              "      <td id=\"T_042e6_row17_col10\" class=\"data row17 col10\" >0.39</td>\n",
              "      <td id=\"T_042e6_row17_col11\" class=\"data row17 col11\" >0.35</td>\n",
              "      <td id=\"T_042e6_row17_col12\" class=\"data row17 col12\" >0.09</td>\n",
              "      <td id=\"T_042e6_row17_col13\" class=\"data row17 col13\" >0.40</td>\n",
              "      <td id=\"T_042e6_row17_col14\" class=\"data row17 col14\" >0.14</td>\n",
              "      <td id=\"T_042e6_row17_col15\" class=\"data row17 col15\" >0.39</td>\n",
              "      <td id=\"T_042e6_row17_col16\" class=\"data row17 col16\" >-0.73</td>\n",
              "      <td id=\"T_042e6_row17_col17\" class=\"data row17 col17\" >1.00</td>\n",
              "    </tr>\n",
              "  </tbody>\n",
              "</table>\n"
            ]
          },
          "metadata": {},
          "execution_count": 36
        }
      ]
    },
    {
      "cell_type": "code",
      "source": [
        "train_dataset.columns"
      ],
      "metadata": {
        "colab": {
          "base_uri": "https://localhost:8080/",
          "height": 0
        },
        "id": "MSQTeK1GYfFi",
        "outputId": "b9cb7bdb-9511-4349-aaee-d807aab4be93"
      },
      "execution_count": 37,
      "outputs": [
        {
          "output_type": "execute_result",
          "data": {
            "text/plain": [
              "Index(['index', 'lte_5g_category', 'time', 'packet_loss_rate', 'packet_delay',\n",
              "       'io_t', 'lte_5g', 'gbr', 'non_gbr', 'ar_vr_gaming', 'healthcare',\n",
              "       'industry_4_0', 'io_t_devices', 'public_safety', 'smart_city_and_home',\n",
              "       'smart_transportation', 'smartphone', 'slice_type'],\n",
              "      dtype='object')"
            ]
          },
          "metadata": {},
          "execution_count": 37
        }
      ]
    },
    {
      "cell_type": "code",
      "source": [
        "# Checking for outliers in the continuous variables\n",
        "num_train_dataset = train_dataset[['index', 'lte_5g_category', 'time', 'packet_loss_rate', 'packet_delay',\n",
        "       'io_t', 'lte_5g', 'gbr', 'non_gbr', 'ar_vr_gaming', 'healthcare',\n",
        "       'industry_4_0', 'io_t_devices', 'public_safety', 'smart_city_and_home',\n",
        "       'smart_transportation', 'smartphone', 'slice_type']]\n"
      ],
      "metadata": {
        "id": "C2-Z0cB6Yga3"
      },
      "execution_count": 38,
      "outputs": []
    },
    {
      "cell_type": "code",
      "source": [
        "train_dataset['slice_type'].value_counts()"
      ],
      "metadata": {
        "colab": {
          "base_uri": "https://localhost:8080/",
          "height": 0
        },
        "id": "sPRBg9Z8YiD-",
        "outputId": "86f5d73f-f816-4dbc-cf88-fa5c28ef43a2"
      },
      "execution_count": 39,
      "outputs": [
        {
          "output_type": "execute_result",
          "data": {
            "text/plain": [
              "1    9839\n",
              "2    4294\n",
              "3    4240\n",
              "Name: slice_type, dtype: int64"
            ]
          },
          "metadata": {},
          "execution_count": 39
        }
      ]
    },
    {
      "cell_type": "code",
      "source": [
        "y_train = train_dataset['slice_type']\n",
        "x_train = train_dataset.drop('slice_type', axis = 1)\n",
        "y_test = test_dataset['slice_type']\n",
        "x_test = test_dataset.drop('slice_type', axis = 1)"
      ],
      "metadata": {
        "id": "ZGiTv2RHYkKv"
      },
      "execution_count": 40,
      "outputs": []
    },
    {
      "cell_type": "code",
      "source": [
        "from sklearn.ensemble import ExtraTreesClassifier\n",
        "extra_tree_forest = ExtraTreesClassifier(n_estimators = 5,\n",
        "                                        criterion ='entropy', max_features = 2)\n",
        "extra_tree_forest.fit(x_train, y_train)\n",
        "feature_importance = extra_tree_forest.feature_importances_\n",
        "feature_importance_normalized = np.std([tree.feature_importances_ for tree in\n",
        "                                        extra_tree_forest.estimators_],\n",
        "                                        axis = 0)"
      ],
      "metadata": {
        "id": "cUjN6rgwYlvq"
      },
      "execution_count": 41,
      "outputs": []
    },
    {
      "cell_type": "code",
      "source": [
        "import matplotlib.pyplot as plt"
      ],
      "metadata": {
        "id": "kfpxHYDBYoLQ"
      },
      "execution_count": 42,
      "outputs": []
    },
    {
      "cell_type": "code",
      "source": [
        "feature_importance_normalized"
      ],
      "metadata": {
        "colab": {
          "base_uri": "https://localhost:8080/",
          "height": 0
        },
        "id": "6CNMqAGAYplz",
        "outputId": "e1c715ae-687d-4d22-accd-da7b219ed5a6"
      },
      "execution_count": 43,
      "outputs": [
        {
          "output_type": "execute_result",
          "data": {
            "text/plain": [
              "array([2.23385989e-05, 5.35038464e-04, 5.80663207e-05, 2.63614706e-02,\n",
              "       1.31715736e-01, 7.04401988e-02, 2.46897826e-01, 6.95286066e-02,\n",
              "       8.62630973e-02, 3.79345537e-03, 7.44487335e-03, 2.30854823e-02,\n",
              "       2.71210850e-02, 3.25027780e-02, 6.35507569e-02, 3.85865774e-02,\n",
              "       1.55860310e-01])"
            ]
          },
          "metadata": {},
          "execution_count": 43
        }
      ]
    },
    {
      "cell_type": "code",
      "source": [
        "plt.figure(figsize = [20,9])\n",
        "plt.bar(x_train.columns, feature_importance_normalized)\n",
        "plt.xlabel('Feature Labels')\n",
        "plt.ylabel('Feature Importances')\n",
        "plt.xticks(rotation = 90)\n",
        "plt.title('Comparison of different Feature Importances')\n",
        "plt.show()"
      ],
      "metadata": {
        "colab": {
          "base_uri": "https://localhost:8080/",
          "height": 591
        },
        "id": "mR_sDuiTYrjC",
        "outputId": "054cb607-4ee2-42ac-c1a8-337721ec7744"
      },
      "execution_count": 44,
      "outputs": [
        {
          "output_type": "display_data",
          "data": {
            "text/plain": [
              "<Figure size 2000x900 with 1 Axes>"
            ],
            "image/png": "[encoded data removed]"
          },
          "metadata": {}
        }
      ]
    },
    {
      "cell_type": "code",
      "source": [
        "x_train.columns"
      ],
      "metadata": {
        "colab": {
          "base_uri": "https://localhost:8080/",
          "height": 0
        },
        "id": "YvileRXrZL7H",
        "outputId": "71f07a73-b924-4fdc-a51a-3878740bc33b"
      },
      "execution_count": 45,
      "outputs": [
        {
          "output_type": "execute_result",
          "data": {
            "text/plain": [
              "Index(['index', 'lte_5g_category', 'time', 'packet_loss_rate', 'packet_delay',\n",
              "       'io_t', 'lte_5g', 'gbr', 'non_gbr', 'ar_vr_gaming', 'healthcare',\n",
              "       'industry_4_0', 'io_t_devices', 'public_safety', 'smart_city_and_home',\n",
              "       'smart_transportation', 'smartphone'],\n",
              "      dtype='object')"
            ]
          },
          "metadata": {},
          "execution_count": 45
        }
      ]
    },
    {
      "cell_type": "code",
      "source": [
        "x_train2 = x_train[['lte_5g_category', 'packet_loss_rate', 'packet_delay',\n",
        "       'io_t', 'lte_5g', 'gbr', 'non_gbr', 'ar_vr_gaming', 'healthcare',\n",
        "       'industry_4_0', 'io_t_devices', 'public_safety', 'smart_city_and_home',\n",
        "       'smart_transportation', 'smartphone']]"
      ],
      "metadata": {
        "id": "1jT-kpjXaH62"
      },
      "execution_count": 46,
      "outputs": []
    },
    {
      "cell_type": "code",
      "source": [
        "x_test2 = x_test[['lte_5g_category', 'packet_loss_rate', 'packet_delay',\n",
        "       'io_t', 'lte_5g', 'gbr', 'non_gbr', 'ar_vr_gaming', 'healthcare',\n",
        "       'industry_4_0', 'io_t_devices', 'public_safety', 'smart_city_and_home',\n",
        "       'smart_transportation', 'smartphone']]"
      ],
      "metadata": {
        "id": "iUNciGBIaJ2a"
      },
      "execution_count": 47,
      "outputs": []
    },
    {
      "cell_type": "code",
      "source": [
        "print(x_train2.shape, x_test2.shape)\n",
        "print(y_train.shape, y_test.shape)"
      ],
      "metadata": {
        "colab": {
          "base_uri": "https://localhost:8080/",
          "height": 0
        },
        "id": "r2c80SxYaLhG",
        "outputId": "0e6fb6e5-13c4-4e11-c76a-c348d441aa6e"
      },
      "execution_count": 48,
      "outputs": [
        {
          "output_type": "stream",
          "name": "stdout",
          "text": [
            "(18373, 15) (31584, 15)\n",
            "(18373,) (31584,)\n"
          ]
        }
      ]
    },
    {
      "cell_type": "code",
      "source": [
        "y_train.value_counts()"
      ],
      "metadata": {
        "colab": {
          "base_uri": "https://localhost:8080/",
          "height": 0
        },
        "id": "2luLsxx3aS74",
        "outputId": "d15f9a45-17f4-4608-95b8-51e141be1f28"
      },
      "execution_count": 49,
      "outputs": [
        {
          "output_type": "execute_result",
          "data": {
            "text/plain": [
              "1    9839\n",
              "2    4294\n",
              "3    4240\n",
              "Name: slice_type, dtype: int64"
            ]
          },
          "metadata": {},
          "execution_count": 49
        }
      ]
    },
    {
      "cell_type": "code",
      "source": [
        "x_train2 = pd.DataFrame(x_train2)"
      ],
      "metadata": {
        "id": "gMl4-YFTaS_P"
      },
      "execution_count": 50,
      "outputs": []
    },
    {
      "cell_type": "code",
      "source": [
        "x_train2.head(4)"
      ],
      "metadata": {
        "colab": {
          "base_uri": "https://localhost:8080/",
          "height": 195
        },
        "id": "I9sRU2vvaTDE",
        "outputId": "ac726bec-6cbd-4c96-b4c8-03765c6fc6f0"
      },
      "execution_count": 51,
      "outputs": [
        {
          "output_type": "execute_result",
          "data": {
            "text/plain": [
              "   lte_5g_category  packet_loss_rate  packet_delay  io_t  lte_5g  gbr  \\\n",
              "0               14          0.000001            10     1       0    0   \n",
              "4                9          0.010000            50     1       0    0   \n",
              "5               19          0.000001            10     1       0    0   \n",
              "8                8          0.001000           150     0       1    0   \n",
              "\n",
              "   non_gbr  ar_vr_gaming  healthcare  industry_4_0  io_t_devices  \\\n",
              "0        1             0           0             0             0   \n",
              "4        1             0           0             0             0   \n",
              "5        1             0           0             1             0   \n",
              "8        1             0           0             0             0   \n",
              "\n",
              "   public_safety  smart_city_and_home  smart_transportation  smartphone  \n",
              "0              1                    0                     0           0  \n",
              "4              0                    1                     0           0  \n",
              "5              0                    0                     0           0  \n",
              "8              0                    0                     0           1  "
            ],
            "text/html": [
              "\n",
              "  <div id=\"df-e89bfede-770f-49c3-a192-46b7a84000fe\" class=\"colab-df-container\">\n",
              "    <div>\n",
              "<style scoped>\n",
              "    .dataframe tbody tr th:only-of-type {\n",
              "        vertical-align: middle;\n",
              "    }\n",
              "\n",
              "    .dataframe tbody tr th {\n",
              "        vertical-align: top;\n",
              "    }\n",
              "\n",
              "    .dataframe thead th {\n",
              "        text-align: right;\n",
              "    }\n",
              "</style>\n",
              "<table border=\"1\" class=\"dataframe\">\n",
              "  <thead>\n",
              "    <tr style=\"text-align: right;\">\n",
              "      <th></th>\n",
              "      <th>lte_5g_category</th>\n",
              "      <th>packet_loss_rate</th>\n",
              "      <th>packet_delay</th>\n",
              "      <th>io_t</th>\n",
              "      <th>lte_5g</th>\n",
              "      <th>gbr</th>\n",
              "      <th>non_gbr</th>\n",
              "      <th>ar_vr_gaming</th>\n",
              "      <th>healthcare</th>\n",
              "      <th>industry_4_0</th>\n",
              "      <th>io_t_devices</th>\n",
              "      <th>public_safety</th>\n",
              "      <th>smart_city_and_home</th>\n",
              "      <th>smart_transportation</th>\n",
              "      <th>smartphone</th>\n",
              "    </tr>\n",
              "  </thead>\n",
              "  <tbody>\n",
              "    <tr>\n",
              "      <th>0</th>\n",
              "      <td>14</td>\n",
              "      <td>0.000001</td>\n",
              "      <td>10</td>\n",
              "      <td>1</td>\n",
              "      <td>0</td>\n",
              "      <td>0</td>\n",
              "      <td>1</td>\n",
              "      <td>0</td>\n",
              "      <td>0</td>\n",
              "      <td>0</td>\n",
              "      <td>0</td>\n",
              "      <td>1</td>\n",
              "      <td>0</td>\n",
              "      <td>0</td>\n",
              "      <td>0</td>\n",
              "    </tr>\n",
              "    <tr>\n",
              "      <th>4</th>\n",
              "      <td>9</td>\n",
              "      <td>0.010000</td>\n",
              "      <td>50</td>\n",
              "      <td>1</td>\n",
              "      <td>0</td>\n",
              "      <td>0</td>\n",
              "      <td>1</td>\n",
              "      <td>0</td>\n",
              "      <td>0</td>\n",
              "      <td>0</td>\n",
              "      <td>0</td>\n",
              "      <td>0</td>\n",
              "      <td>1</td>\n",
              "      <td>0</td>\n",
              "      <td>0</td>\n",
              "    </tr>\n",
              "    <tr>\n",
              "      <th>5</th>\n",
              "      <td>19</td>\n",
              "      <td>0.000001</td>\n",
              "      <td>10</td>\n",
              "      <td>1</td>\n",
              "      <td>0</td>\n",
              "      <td>0</td>\n",
              "      <td>1</td>\n",
              "      <td>0</td>\n",
              "      <td>0</td>\n",
              "      <td>1</td>\n",
              "      <td>0</td>\n",
              "      <td>0</td>\n",
              "      <td>0</td>\n",
              "      <td>0</td>\n",
              "      <td>0</td>\n",
              "    </tr>\n",
              "    <tr>\n",
              "      <th>8</th>\n",
              "      <td>8</td>\n",
              "      <td>0.001000</td>\n",
              "      <td>150</td>\n",
              "      <td>0</td>\n",
              "      <td>1</td>\n",
              "      <td>0</td>\n",
              "      <td>1</td>\n",
              "      <td>0</td>\n",
              "      <td>0</td>\n",
              "      <td>0</td>\n",
              "      <td>0</td>\n",
              "      <td>0</td>\n",
              "      <td>0</td>\n",
              "      <td>0</td>\n",
              "      <td>1</td>\n",
              "    </tr>\n",
              "  </tbody>\n",
              "</table>\n",
              "</div>\n",
              "    <div class=\"colab-df-buttons\">\n",
              "\n",
              "  <div class=\"colab-df-container\">\n",
              "    <button class=\"colab-df-convert\" onclick=\"convertToInteractive('df-e89bfede-770f-49c3-a192-46b7a84000fe')\"\n",
              "            title=\"Convert this dataframe to an interactive table.\"\n",
              "            style=\"display:none;\">\n",
              "\n",
              "  <svg xmlns=\"http://www.w3.org/2000/svg\" height=\"24px\" viewBox=\"0 -960 960 960\">\n",
              "    <path d=\"M120-120v-720h720v720H120Zm60-500h600v-160H180v160Zm220 220h160v-160H400v160Zm0 220h160v-160H400v160ZM180-400h160v-160H180v160Zm440 0h160v-160H620v160ZM180-180h160v-160H180v160Zm440 0h160v-160H620v160Z\"/>\n",
              "  </svg>\n",
              "    </button>\n",
              "\n",
              "  <style>\n",
              "    .colab-df-container {\n",
              "      display:flex;\n",
              "      gap: 12px;\n",
              "    }\n",
              "\n",
              "    .colab-df-convert {\n",
              "      background-color: #E8F0FE;\n",
              "      border: none;\n",
              "      border-radius: 50%;\n",
              "      cursor: pointer;\n",
              "      display: none;\n",
              "      fill: #1967D2;\n",
              "      height: 32px;\n",
              "      padding: 0 0 0 0;\n",
              "      width: 32px;\n",
              "    }\n",
              "\n",
              "    .colab-df-convert:hover {\n",
              "      background-color: #E2EBFA;\n",
              "      box-shadow: 0px 1px 2px rgba(60, 64, 67, 0.3), 0px 1px 3px 1px rgba(60, 64, 67, 0.15);\n",
              "      fill: #174EA6;\n",
              "    }\n",
              "\n",
              "    .colab-df-buttons div {\n",
              "      margin-bottom: 4px;\n",
              "    }\n",
              "\n",
              "    [theme=dark] .colab-df-convert {\n",
              "      background-color: #3B4455;\n",
              "      fill: #D2E3FC;\n",
              "    }\n",
              "\n",
              "    [theme=dark] .colab-df-convert:hover {\n",
              "      background-color: #434B5C;\n",
              "      box-shadow: 0px 1px 3px 1px rgba(0, 0, 0, 0.15);\n",
              "      filter: drop-shadow(0px 1px 2px rgba(0, 0, 0, 0.3));\n",
              "      fill: #FFFFFF;\n",
              "    }\n",
              "  </style>\n",
              "\n",
              "    <script>\n",
              "      const buttonEl =\n",
              "        document.querySelector('#df-e89bfede-770f-49c3-a192-46b7a84000fe button.colab-df-convert');\n",
              "      buttonEl.style.display =\n",
              "        google.colab.kernel.accessAllowed ? 'block' : 'none';\n",
              "\n",
              "      async function convertToInteractive(key) {\n",
              "        const element = document.querySelector('#df-e89bfede-770f-49c3-a192-46b7a84000fe');\n",
              "        const dataTable =\n",
              "          await google.colab.kernel.invokeFunction('convertToInteractive',\n",
              "                                                    [key], {});\n",
              "        if (!dataTable) return;\n",
              "\n",
              "        const docLinkHtml = 'Like what you see? Visit the ' +\n",
              "          '<a target=\"_blank\" href=https://colab.research.google.com/notebooks/data_table.ipynb>data table notebook</a>'\n",
              "          + ' to learn more about interactive tables.';\n",
              "        element.innerHTML = '';\n",
              "        dataTable['output_type'] = 'display_data';\n",
              "        await google.colab.output.renderOutput(dataTable, element);\n",
              "        const docLink = document.createElement('div');\n",
              "        docLink.innerHTML = docLinkHtml;\n",
              "        element.appendChild(docLink);\n",
              "      }\n",
              "    </script>\n",
              "  </div>\n",
              "\n",
              "\n",
              "<div id=\"df-6f128a8f-feb2-4503-abd0-ef16d8a27a11\">\n",
              "  <button class=\"colab-df-quickchart\" onclick=\"quickchart('df-6f128a8f-feb2-4503-abd0-ef16d8a27a11')\"\n",
              "            title=\"Suggest charts\"\n",
              "            style=\"display:none;\">\n",
              "\n",
              "<svg xmlns=\"http://www.w3.org/2000/svg\" height=\"24px\"viewBox=\"0 0 24 24\"\n",
              "     width=\"24px\">\n",
              "    <g>\n",
              "        <path d=\"M19 3H5c-1.1 0-2 .9-2 2v14c0 1.1.9 2 2 2h14c1.1 0 2-.9 2-2V5c0-1.1-.9-2-2-2zM9 17H7v-7h2v7zm4 0h-2V7h2v10zm4 0h-2v-4h2v4z\"/>\n",
              "    </g>\n",
              "</svg>\n",
              "  </button>\n",
              "\n",
              "<style>\n",
              "  .colab-df-quickchart {\n",
              "      --bg-color: #E8F0FE;\n",
              "      --fill-color: #1967D2;\n",
              "      --hover-bg-color: #E2EBFA;\n",
              "      --hover-fill-color: #174EA6;\n",
              "      --disabled-fill-color: #AAA;\n",
              "      --disabled-bg-color: #DDD;\n",
              "  }\n",
              "\n",
              "  [theme=dark] .colab-df-quickchart {\n",
              "      --bg-color: #3B4455;\n",
              "      --fill-color: #D2E3FC;\n",
              "      --hover-bg-color: #434B5C;\n",
              "      --hover-fill-color: #FFFFFF;\n",
              "      --disabled-bg-color: #3B4455;\n",
              "      --disabled-fill-color: #666;\n",
              "  }\n",
              "\n",
              "  .colab-df-quickchart {\n",
              "    background-color: var(--bg-color);\n",
              "    border: none;\n",
              "    border-radius: 50%;\n",
              "    cursor: pointer;\n",
              "    display: none;\n",
              "    fill: var(--fill-color);\n",
              "    height: 32px;\n",
              "    padding: 0;\n",
              "    width: 32px;\n",
              "  }\n",
              "\n",
              "  .colab-df-quickchart:hover {\n",
              "    background-color: var(--hover-bg-color);\n",
              "    box-shadow: 0 1px 2px rgba(60, 64, 67, 0.3), 0 1px 3px 1px rgba(60, 64, 67, 0.15);\n",
              "    fill: var(--button-hover-fill-color);\n",
              "  }\n",
              "\n",
              "  .colab-df-quickchart-complete:disabled,\n",
              "  .colab-df-quickchart-complete:disabled:hover {\n",
              "    background-color: var(--disabled-bg-color);\n",
              "    fill: var(--disabled-fill-color);\n",
              "    box-shadow: none;\n",
              "  }\n",
              "\n",
              "  .colab-df-spinner {\n",
              "    border: 2px solid var(--fill-color);\n",
              "    border-color: transparent;\n",
              "    border-bottom-color: var(--fill-color);\n",
              "    animation:\n",
              "      spin 1s steps(1) infinite;\n",
              "  }\n",
              "\n",
              "  @keyframes spin {\n",
              "    0% {\n",
              "      border-color: transparent;\n",
              "      border-bottom-color: var(--fill-color);\n",
              "      border-left-color: var(--fill-color);\n",
              "    }\n",
              "    20% {\n",
              "      border-color: transparent;\n",
              "      border-left-color: var(--fill-color);\n",
              "      border-top-color: var(--fill-color);\n",
              "    }\n",
              "    30% {\n",
              "      border-color: transparent;\n",
              "      border-left-color: var(--fill-color);\n",
              "      border-top-color: var(--fill-color);\n",
              "      border-right-color: var(--fill-color);\n",
              "    }\n",
              "    40% {\n",
              "      border-color: transparent;\n",
              "      border-right-color: var(--fill-color);\n",
              "      border-top-color: var(--fill-color);\n",
              "    }\n",
              "    60% {\n",
              "      border-color: transparent;\n",
              "      border-right-color: var(--fill-color);\n",
              "    }\n",
              "    80% {\n",
              "      border-color: transparent;\n",
              "      border-right-color: var(--fill-color);\n",
              "      border-bottom-color: var(--fill-color);\n",
              "    }\n",
              "    90% {\n",
              "      border-color: transparent;\n",
              "      border-bottom-color: var(--fill-color);\n",
              "    }\n",
              "  }\n",
              "</style>\n",
              "\n",
              "  <script>\n",
              "    async function quickchart(key) {\n",
              "      const quickchartButtonEl =\n",
              "        document.querySelector('#' + key + ' button');\n",
              "      quickchartButtonEl.disabled = true;  // To prevent multiple clicks.\n",
              "      quickchartButtonEl.classList.add('colab-df-spinner');\n",
              "      try {\n",
              "        const charts = await google.colab.kernel.invokeFunction(\n",
              "            'suggestCharts', [key], {});\n",
              "      } catch (error) {\n",
              "        console.error('Error during call to suggestCharts:', error);\n",
              "      }\n",
              "      quickchartButtonEl.classList.remove('colab-df-spinner');\n",
              "      quickchartButtonEl.classList.add('colab-df-quickchart-complete');\n",
              "    }\n",
              "    (() => {\n",
              "      let quickchartButtonEl =\n",
              "        document.querySelector('#df-6f128a8f-feb2-4503-abd0-ef16d8a27a11 button');\n",
              "      quickchartButtonEl.style.display =\n",
              "        google.colab.kernel.accessAllowed ? 'block' : 'none';\n",
              "    })();\n",
              "  </script>\n",
              "</div>\n",
              "\n",
              "    </div>\n",
              "  </div>\n"
            ],
            "application/vnd.google.colaboratory.intrinsic+json": {
              "type": "dataframe",
              "variable_name": "x_train2",
              "summary": "{\n  \"name\": \"x_train2\",\n  \"rows\": 18373,\n  \"fields\": [\n    {\n      \"column\": \"lte_5g_category\",\n      \"properties\": {\n        \"dtype\": \"int8\",\n        \"num_unique_values\": 22,\n        \"samples\": [\n          14,\n          17,\n          13\n        ],\n        \"semantic_type\": \"\",\n        \"description\": \"\"\n      }\n    },\n    {\n      \"column\": \"packet_loss_rate\",\n      \"properties\": {\n        \"dtype\": \"float32\",\n        \"num_unique_values\": 3,\n        \"samples\": [\n          9.999999974752427e-07,\n          0.009999999776482582,\n          0.0010000000474974513\n        ],\n        \"semantic_type\": \"\",\n        \"description\": \"\"\n      }\n    },\n    {\n      \"column\": \"packet_delay\",\n      \"properties\": {\n        \"dtype\": \"int16\",\n        \"num_unique_values\": 7,\n        \"samples\": [\n          10,\n          50,\n          300\n        ],\n        \"semantic_type\": \"\",\n        \"description\": \"\"\n      }\n    },\n    {\n      \"column\": \"io_t\",\n      \"properties\": {\n        \"dtype\": \"int8\",\n        \"num_unique_values\": 2,\n        \"samples\": [\n          0,\n          1\n        ],\n        \"semantic_type\": \"\",\n        \"description\": \"\"\n      }\n    },\n    {\n      \"column\": \"lte_5g\",\n      \"properties\": {\n        \"dtype\": \"int8\",\n        \"num_unique_values\": 2,\n        \"samples\": [\n          1,\n          0\n        ],\n        \"semantic_type\": \"\",\n        \"description\": \"\"\n      }\n    },\n    {\n      \"column\": \"gbr\",\n      \"properties\": {\n        \"dtype\": \"int8\",\n        \"num_unique_values\": 2,\n        \"samples\": [\n          1,\n          0\n        ],\n        \"semantic_type\": \"\",\n        \"description\": \"\"\n      }\n    },\n    {\n      \"column\": \"non_gbr\",\n      \"properties\": {\n        \"dtype\": \"int8\",\n        \"num_unique_values\": 2,\n        \"samples\": [\n          0,\n          1\n        ],\n        \"semantic_type\": \"\",\n        \"description\": \"\"\n      }\n    },\n    {\n      \"column\": \"ar_vr_gaming\",\n      \"properties\": {\n        \"dtype\": \"int8\",\n        \"num_unique_values\": 2,\n        \"samples\": [\n          1,\n          0\n        ],\n        \"semantic_type\": \"\",\n        \"description\": \"\"\n      }\n    },\n    {\n      \"column\": \"healthcare\",\n      \"properties\": {\n        \"dtype\": \"int8\",\n        \"num_unique_values\": 2,\n        \"samples\": [\n          1,\n          0\n        ],\n        \"semantic_type\": \"\",\n        \"description\": \"\"\n      }\n    },\n    {\n      \"column\": \"industry_4_0\",\n      \"properties\": {\n        \"dtype\": \"int8\",\n        \"num_unique_values\": 2,\n        \"samples\": [\n          1,\n          0\n        ],\n        \"semantic_type\": \"\",\n        \"description\": \"\"\n      }\n    },\n    {\n      \"column\": \"io_t_devices\",\n      \"properties\": {\n        \"dtype\": \"int8\",\n        \"num_unique_values\": 2,\n        \"samples\": [\n          1,\n          0\n        ],\n        \"semantic_type\": \"\",\n        \"description\": \"\"\n      }\n    },\n    {\n      \"column\": \"public_safety\",\n      \"properties\": {\n        \"dtype\": \"int8\",\n        \"num_unique_values\": 2,\n        \"samples\": [\n          0,\n          1\n        ],\n        \"semantic_type\": \"\",\n        \"description\": \"\"\n      }\n    },\n    {\n      \"column\": \"smart_city_and_home\",\n      \"properties\": {\n        \"dtype\": \"int8\",\n        \"num_unique_values\": 2,\n        \"samples\": [\n          1,\n          0\n        ],\n        \"semantic_type\": \"\",\n        \"description\": \"\"\n      }\n    },\n    {\n      \"column\": \"smart_transportation\",\n      \"properties\": {\n        \"dtype\": \"int8\",\n        \"num_unique_values\": 2,\n        \"samples\": [\n          1,\n          0\n        ],\n        \"semantic_type\": \"\",\n        \"description\": \"\"\n      }\n    },\n    {\n      \"column\": \"smartphone\",\n      \"properties\": {\n        \"dtype\": \"int8\",\n        \"num_unique_values\": 2,\n        \"samples\": [\n          1,\n          0\n        ],\n        \"semantic_type\": \"\",\n        \"description\": \"\"\n      }\n    }\n  ]\n}"
            }
          },
          "metadata": {},
          "execution_count": 51
        }
      ]
    },
    {
      "cell_type": "code",
      "source": [
        "x_train2 = pd.DataFrame(x_train2)\n",
        "x_test2 = pd.DataFrame(x_test2)"
      ],
      "metadata": {
        "id": "krwmC4oLaTGd"
      },
      "execution_count": 52,
      "outputs": []
    },
    {
      "cell_type": "code",
      "source": [
        "x_train2.astype(float).corr()"
      ],
      "metadata": {
        "colab": {
          "base_uri": "https://localhost:8080/",
          "height": 540
        },
        "id": "yOPgZ5y_abW8",
        "outputId": "4965bb5d-60c7-4551-80de-2ea56439266a"
      },
      "execution_count": 53,
      "outputs": [
        {
          "output_type": "execute_result",
          "data": {
            "text/plain": [
              "                      lte_5g_category  packet_loss_rate  packet_delay  \\\n",
              "lte_5g_category              1.000000          0.022254     -0.015085   \n",
              "packet_loss_rate             0.022254          1.000000      0.306436   \n",
              "packet_delay                -0.015085          0.306436      1.000000   \n",
              "io_t                         0.095605          0.170858     -0.187910   \n",
              "lte_5g                      -0.095605         -0.170858      0.187910   \n",
              "gbr                         -0.007156         -0.022315      0.424124   \n",
              "non_gbr                      0.007156          0.022315     -0.424124   \n",
              "ar_vr_gaming                -0.034010         -0.168172     -0.127614   \n",
              "healthcare                   0.018408         -0.174050     -0.238384   \n",
              "industry_4_0                 0.045106         -0.216202     -0.284384   \n",
              "io_t_devices                 0.019458          0.389878      0.437355   \n",
              "public_safety                0.019485         -0.182358     -0.249763   \n",
              "smart_city_and_home          0.047347          0.578743      0.200818   \n",
              "smart_transportation         0.019787         -0.176111     -0.241206   \n",
              "smartphone                  -0.075152         -0.067416      0.268831   \n",
              "\n",
              "                          io_t    lte_5g       gbr   non_gbr  ar_vr_gaming  \\\n",
              "lte_5g_category       0.095605 -0.095605 -0.007156  0.007156     -0.034010   \n",
              "packet_loss_rate      0.170858 -0.170858 -0.022315  0.022315     -0.168172   \n",
              "packet_delay         -0.187910  0.187910  0.424124 -0.424124     -0.127614   \n",
              "io_t                  1.000000 -1.000000 -0.122402  0.122402     -0.321284   \n",
              "lte_5g               -1.000000  1.000000  0.122402 -0.122402      0.321284   \n",
              "gbr                  -0.122402  0.122402  1.000000 -1.000000      0.037476   \n",
              "non_gbr               0.122402 -0.122402 -1.000000  1.000000     -0.037476   \n",
              "ar_vr_gaming         -0.321284  0.321284  0.037476 -0.037476      1.000000   \n",
              "healthcare            0.260863 -0.260863 -0.213782  0.213782     -0.083811   \n",
              "industry_4_0          0.385515 -0.385515  0.045353 -0.045353     -0.123860   \n",
              "io_t_devices          0.265817 -0.265817  0.281337 -0.281337     -0.085403   \n",
              "public_safety         0.273314 -0.273314 -0.223986  0.223986     -0.087812   \n",
              "smart_city_and_home   0.394585 -0.394585  0.035940 -0.035940     -0.126774   \n",
              "smart_transportation  0.263951 -0.263951 -0.216313  0.216313     -0.084803   \n",
              "smartphone           -0.807524  0.807524  0.099995 -0.099995     -0.299119   \n",
              "\n",
              "                      healthcare  industry_4_0  io_t_devices  public_safety  \\\n",
              "lte_5g_category         0.018408      0.045106      0.019458       0.019485   \n",
              "packet_loss_rate       -0.174050     -0.216202      0.389878      -0.182358   \n",
              "packet_delay           -0.238384     -0.284384      0.437355      -0.249763   \n",
              "io_t                    0.260863      0.385515      0.265817       0.273314   \n",
              "lte_5g                 -0.260863     -0.385515     -0.265817      -0.273314   \n",
              "gbr                    -0.213782      0.045353      0.281337      -0.223986   \n",
              "non_gbr                 0.213782     -0.045353     -0.281337       0.223986   \n",
              "ar_vr_gaming           -0.083811     -0.123860     -0.085403      -0.087812   \n",
              "healthcare              1.000000     -0.087228     -0.060145      -0.061841   \n",
              "industry_4_0           -0.087228      1.000000     -0.088885      -0.091391   \n",
              "io_t_devices           -0.060145     -0.088885      1.000000      -0.063016   \n",
              "public_safety          -0.061841     -0.091391     -0.063016       1.000000   \n",
              "smart_city_and_home    -0.089280     -0.131942     -0.090976      -0.093542   \n",
              "smart_transportation   -0.059722     -0.088261     -0.060857      -0.062573   \n",
              "smartphone             -0.210653     -0.311313     -0.214654      -0.220708   \n",
              "\n",
              "                      smart_city_and_home  smart_transportation  smartphone  \n",
              "lte_5g_category                  0.047347              0.019787   -0.075152  \n",
              "packet_loss_rate                 0.578743             -0.176111   -0.067416  \n",
              "packet_delay                     0.200818             -0.241206    0.268831  \n",
              "io_t                             0.394585              0.263951   -0.807524  \n",
              "lte_5g                          -0.394585             -0.263951    0.807524  \n",
              "gbr                              0.035940             -0.216313    0.099995  \n",
              "non_gbr                         -0.035940              0.216313   -0.099995  \n",
              "ar_vr_gaming                    -0.126774             -0.084803   -0.299119  \n",
              "healthcare                      -0.089280             -0.059722   -0.210653  \n",
              "industry_4_0                    -0.131942             -0.088261   -0.311313  \n",
              "io_t_devices                    -0.090976             -0.060857   -0.214654  \n",
              "public_safety                   -0.093542             -0.062573   -0.220708  \n",
              "smart_city_and_home              1.000000             -0.090337   -0.318637  \n",
              "smart_transportation            -0.090337              1.000000   -0.213147  \n",
              "smartphone                      -0.318637             -0.213147    1.000000  "
            ],
            "text/html": [
              "\n",
              "  <div id=\"df-026ad5f7-3bb1-4776-9b53-bf82f9e3059b\" class=\"colab-df-container\">\n",
              "    <div>\n",
              "<style scoped>\n",
              "    .dataframe tbody tr th:only-of-type {\n",
              "        vertical-align: middle;\n",
              "    }\n",
              "\n",
              "    .dataframe tbody tr th {\n",
              "        vertical-align: top;\n",
              "    }\n",
              "\n",
              "    .dataframe thead th {\n",
              "        text-align: right;\n",
              "    }\n",
              "</style>\n",
              "<table border=\"1\" class=\"dataframe\">\n",
              "  <thead>\n",
              "    <tr style=\"text-align: right;\">\n",
              "      <th></th>\n",
              "      <th>lte_5g_category</th>\n",
              "      <th>packet_loss_rate</th>\n",
              "      <th>packet_delay</th>\n",
              "      <th>io_t</th>\n",
              "      <th>lte_5g</th>\n",
              "      <th>gbr</th>\n",
              "      <th>non_gbr</th>\n",
              "      <th>ar_vr_gaming</th>\n",
              "      <th>healthcare</th>\n",
              "      <th>industry_4_0</th>\n",
              "      <th>io_t_devices</th>\n",
              "      <th>public_safety</th>\n",
              "      <th>smart_city_and_home</th>\n",
              "      <th>smart_transportation</th>\n",
              "      <th>smartphone</th>\n",
              "    </tr>\n",
              "  </thead>\n",
              "  <tbody>\n",
              "    <tr>\n",
              "      <th>lte_5g_category</th>\n",
              "      <td>1.000000</td>\n",
              "      <td>0.022254</td>\n",
              "      <td>-0.015085</td>\n",
              "      <td>0.095605</td>\n",
              "      <td>-0.095605</td>\n",
              "      <td>-0.007156</td>\n",
              "      <td>0.007156</td>\n",
              "      <td>-0.034010</td>\n",
              "      <td>0.018408</td>\n",
              "      <td>0.045106</td>\n",
              "      <td>0.019458</td>\n",
              "      <td>0.019485</td>\n",
              "      <td>0.047347</td>\n",
              "      <td>0.019787</td>\n",
              "      <td>-0.075152</td>\n",
              "    </tr>\n",
              "    <tr>\n",
              "      <th>packet_loss_rate</th>\n",
              "      <td>0.022254</td>\n",
              "      <td>1.000000</td>\n",
              "      <td>0.306436</td>\n",
              "      <td>0.170858</td>\n",
              "      <td>-0.170858</td>\n",
              "      <td>-0.022315</td>\n",
              "      <td>0.022315</td>\n",
              "      <td>-0.168172</td>\n",
              "      <td>-0.174050</td>\n",
              "      <td>-0.216202</td>\n",
              "      <td>0.389878</td>\n",
              "      <td>-0.182358</td>\n",
              "      <td>0.578743</td>\n",
              "      <td>-0.176111</td>\n",
              "      <td>-0.067416</td>\n",
              "    </tr>\n",
              "    <tr>\n",
              "      <th>packet_delay</th>\n",
              "      <td>-0.015085</td>\n",
              "      <td>0.306436</td>\n",
              "      <td>1.000000</td>\n",
              "      <td>-0.187910</td>\n",
              "      <td>0.187910</td>\n",
              "      <td>0.424124</td>\n",
              "      <td>-0.424124</td>\n",
              "      <td>-0.127614</td>\n",
              "      <td>-0.238384</td>\n",
              "      <td>-0.284384</td>\n",
              "      <td>0.437355</td>\n",
              "      <td>-0.249763</td>\n",
              "      <td>0.200818</td>\n",
              "      <td>-0.241206</td>\n",
              "      <td>0.268831</td>\n",
              "    </tr>\n",
              "    <tr>\n",
              "      <th>io_t</th>\n",
              "      <td>0.095605</td>\n",
              "      <td>0.170858</td>\n",
              "      <td>-0.187910</td>\n",
              "      <td>1.000000</td>\n",
              "      <td>-1.000000</td>\n",
              "      <td>-0.122402</td>\n",
              "      <td>0.122402</td>\n",
              "      <td>-0.321284</td>\n",
              "      <td>0.260863</td>\n",
              "      <td>0.385515</td>\n",
              "      <td>0.265817</td>\n",
              "      <td>0.273314</td>\n",
              "      <td>0.394585</td>\n",
              "      <td>0.263951</td>\n",
              "      <td>-0.807524</td>\n",
              "    </tr>\n",
              "    <tr>\n",
              "      <th>lte_5g</th>\n",
              "      <td>-0.095605</td>\n",
              "      <td>-0.170858</td>\n",
              "      <td>0.187910</td>\n",
              "      <td>-1.000000</td>\n",
              "      <td>1.000000</td>\n",
              "      <td>0.122402</td>\n",
              "      <td>-0.122402</td>\n",
              "      <td>0.321284</td>\n",
              "      <td>-0.260863</td>\n",
              "      <td>-0.385515</td>\n",
              "      <td>-0.265817</td>\n",
              "      <td>-0.273314</td>\n",
              "      <td>-0.394585</td>\n",
              "      <td>-0.263951</td>\n",
              "      <td>0.807524</td>\n",
              "    </tr>\n",
              "    <tr>\n",
              "      <th>gbr</th>\n",
              "      <td>-0.007156</td>\n",
              "      <td>-0.022315</td>\n",
              "      <td>0.424124</td>\n",
              "      <td>-0.122402</td>\n",
              "      <td>0.122402</td>\n",
              "      <td>1.000000</td>\n",
              "      <td>-1.000000</td>\n",
              "      <td>0.037476</td>\n",
              "      <td>-0.213782</td>\n",
              "      <td>0.045353</td>\n",
              "      <td>0.281337</td>\n",
              "      <td>-0.223986</td>\n",
              "      <td>0.035940</td>\n",
              "      <td>-0.216313</td>\n",
              "      <td>0.099995</td>\n",
              "    </tr>\n",
              "    <tr>\n",
              "      <th>non_gbr</th>\n",
              "      <td>0.007156</td>\n",
              "      <td>0.022315</td>\n",
              "      <td>-0.424124</td>\n",
              "      <td>0.122402</td>\n",
              "      <td>-0.122402</td>\n",
              "      <td>-1.000000</td>\n",
              "      <td>1.000000</td>\n",
              "      <td>-0.037476</td>\n",
              "      <td>0.213782</td>\n",
              "      <td>-0.045353</td>\n",
              "      <td>-0.281337</td>\n",
              "      <td>0.223986</td>\n",
              "      <td>-0.035940</td>\n",
              "      <td>0.216313</td>\n",
              "      <td>-0.099995</td>\n",
              "    </tr>\n",
              "    <tr>\n",
              "      <th>ar_vr_gaming</th>\n",
              "      <td>-0.034010</td>\n",
              "      <td>-0.168172</td>\n",
              "      <td>-0.127614</td>\n",
              "      <td>-0.321284</td>\n",
              "      <td>0.321284</td>\n",
              "      <td>0.037476</td>\n",
              "      <td>-0.037476</td>\n",
              "      <td>1.000000</td>\n",
              "      <td>-0.083811</td>\n",
              "      <td>-0.123860</td>\n",
              "      <td>-0.085403</td>\n",
              "      <td>-0.087812</td>\n",
              "      <td>-0.126774</td>\n",
              "      <td>-0.084803</td>\n",
              "      <td>-0.299119</td>\n",
              "    </tr>\n",
              "    <tr>\n",
              "      <th>healthcare</th>\n",
              "      <td>0.018408</td>\n",
              "      <td>-0.174050</td>\n",
              "      <td>-0.238384</td>\n",
              "      <td>0.260863</td>\n",
              "      <td>-0.260863</td>\n",
              "      <td>-0.213782</td>\n",
              "      <td>0.213782</td>\n",
              "      <td>-0.083811</td>\n",
              "      <td>1.000000</td>\n",
              "      <td>-0.087228</td>\n",
              "      <td>-0.060145</td>\n",
              "      <td>-0.061841</td>\n",
              "      <td>-0.089280</td>\n",
              "      <td>-0.059722</td>\n",
              "      <td>-0.210653</td>\n",
              "    </tr>\n",
              "    <tr>\n",
              "      <th>industry_4_0</th>\n",
              "      <td>0.045106</td>\n",
              "      <td>-0.216202</td>\n",
              "      <td>-0.284384</td>\n",
              "      <td>0.385515</td>\n",
              "      <td>-0.385515</td>\n",
              "      <td>0.045353</td>\n",
              "      <td>-0.045353</td>\n",
              "      <td>-0.123860</td>\n",
              "      <td>-0.087228</td>\n",
              "      <td>1.000000</td>\n",
              "      <td>-0.088885</td>\n",
              "      <td>-0.091391</td>\n",
              "      <td>-0.131942</td>\n",
              "      <td>-0.088261</td>\n",
              "      <td>-0.311313</td>\n",
              "    </tr>\n",
              "    <tr>\n",
              "      <th>io_t_devices</th>\n",
              "      <td>0.019458</td>\n",
              "      <td>0.389878</td>\n",
              "      <td>0.437355</td>\n",
              "      <td>0.265817</td>\n",
              "      <td>-0.265817</td>\n",
              "      <td>0.281337</td>\n",
              "      <td>-0.281337</td>\n",
              "      <td>-0.085403</td>\n",
              "      <td>-0.060145</td>\n",
              "      <td>-0.088885</td>\n",
              "      <td>1.000000</td>\n",
              "      <td>-0.063016</td>\n",
              "      <td>-0.090976</td>\n",
              "      <td>-0.060857</td>\n",
              "      <td>-0.214654</td>\n",
              "    </tr>\n",
              "    <tr>\n",
              "      <th>public_safety</th>\n",
              "      <td>0.019485</td>\n",
              "      <td>-0.182358</td>\n",
              "      <td>-0.249763</td>\n",
              "      <td>0.273314</td>\n",
              "      <td>-0.273314</td>\n",
              "      <td>-0.223986</td>\n",
              "      <td>0.223986</td>\n",
              "      <td>-0.087812</td>\n",
              "      <td>-0.061841</td>\n",
              "      <td>-0.091391</td>\n",
              "      <td>-0.063016</td>\n",
              "      <td>1.000000</td>\n",
              "      <td>-0.093542</td>\n",
              "      <td>-0.062573</td>\n",
              "      <td>-0.220708</td>\n",
              "    </tr>\n",
              "    <tr>\n",
              "      <th>smart_city_and_home</th>\n",
              "      <td>0.047347</td>\n",
              "      <td>0.578743</td>\n",
              "      <td>0.200818</td>\n",
              "      <td>0.394585</td>\n",
              "      <td>-0.394585</td>\n",
              "      <td>0.035940</td>\n",
              "      <td>-0.035940</td>\n",
              "      <td>-0.126774</td>\n",
              "      <td>-0.089280</td>\n",
              "      <td>-0.131942</td>\n",
              "      <td>-0.090976</td>\n",
              "      <td>-0.093542</td>\n",
              "      <td>1.000000</td>\n",
              "      <td>-0.090337</td>\n",
              "      <td>-0.318637</td>\n",
              "    </tr>\n",
              "    <tr>\n",
              "      <th>smart_transportation</th>\n",
              "      <td>0.019787</td>\n",
              "      <td>-0.176111</td>\n",
              "      <td>-0.241206</td>\n",
              "      <td>0.263951</td>\n",
              "      <td>-0.263951</td>\n",
              "      <td>-0.216313</td>\n",
              "      <td>0.216313</td>\n",
              "      <td>-0.084803</td>\n",
              "      <td>-0.059722</td>\n",
              "      <td>-0.088261</td>\n",
              "      <td>-0.060857</td>\n",
              "      <td>-0.062573</td>\n",
              "      <td>-0.090337</td>\n",
              "      <td>1.000000</td>\n",
              "      <td>-0.213147</td>\n",
              "    </tr>\n",
              "    <tr>\n",
              "      <th>smartphone</th>\n",
              "      <td>-0.075152</td>\n",
              "      <td>-0.067416</td>\n",
              "      <td>0.268831</td>\n",
              "      <td>-0.807524</td>\n",
              "      <td>0.807524</td>\n",
              "      <td>0.099995</td>\n",
              "      <td>-0.099995</td>\n",
              "      <td>-0.299119</td>\n",
              "      <td>-0.210653</td>\n",
              "      <td>-0.311313</td>\n",
              "      <td>-0.214654</td>\n",
              "      <td>-0.220708</td>\n",
              "      <td>-0.318637</td>\n",
              "      <td>-0.213147</td>\n",
              "      <td>1.000000</td>\n",
              "    </tr>\n",
              "  </tbody>\n",
              "</table>\n",
              "</div>\n",
              "    <div class=\"colab-df-buttons\">\n",
              "\n",
              "  <div class=\"colab-df-container\">\n",
              "    <button class=\"colab-df-convert\" onclick=\"convertToInteractive('df-026ad5f7-3bb1-4776-9b53-bf82f9e3059b')\"\n",
              "            title=\"Convert this dataframe to an interactive table.\"\n",
              "            style=\"display:none;\">\n",
              "\n",
              "  <svg xmlns=\"http://www.w3.org/2000/svg\" height=\"24px\" viewBox=\"0 -960 960 960\">\n",
              "    <path d=\"M120-120v-720h720v720H120Zm60-500h600v-160H180v160Zm220 220h160v-160H400v160Zm0 220h160v-160H400v160ZM180-400h160v-160H180v160Zm440 0h160v-160H620v160ZM180-180h160v-160H180v160Zm440 0h160v-160H620v160Z\"/>\n",
              "  </svg>\n",
              "    </button>\n",
              "\n",
              "  <style>\n",
              "    .colab-df-container {\n",
              "      display:flex;\n",
              "      gap: 12px;\n",
              "    }\n",
              "\n",
              "    .colab-df-convert {\n",
              "      background-color: #E8F0FE;\n",
              "      border: none;\n",
              "      border-radius: 50%;\n",
              "      cursor: pointer;\n",
              "      display: none;\n",
              "      fill: #1967D2;\n",
              "      height: 32px;\n",
              "      padding: 0 0 0 0;\n",
              "      width: 32px;\n",
              "    }\n",
              "\n",
              "    .colab-df-convert:hover {\n",
              "      background-color: #E2EBFA;\n",
              "      box-shadow: 0px 1px 2px rgba(60, 64, 67, 0.3), 0px 1px 3px 1px rgba(60, 64, 67, 0.15);\n",
              "      fill: #174EA6;\n",
              "    }\n",
              "\n",
              "    .colab-df-buttons div {\n",
              "      margin-bottom: 4px;\n",
              "    }\n",
              "\n",
              "    [theme=dark] .colab-df-convert {\n",
              "      background-color: #3B4455;\n",
              "      fill: #D2E3FC;\n",
              "    }\n",
              "\n",
              "    [theme=dark] .colab-df-convert:hover {\n",
              "      background-color: #434B5C;\n",
              "      box-shadow: 0px 1px 3px 1px rgba(0, 0, 0, 0.15);\n",
              "      filter: drop-shadow(0px 1px 2px rgba(0, 0, 0, 0.3));\n",
              "      fill: #FFFFFF;\n",
              "    }\n",
              "  </style>\n",
              "\n",
              "    <script>\n",
              "      const buttonEl =\n",
              "        document.querySelector('#df-026ad5f7-3bb1-4776-9b53-bf82f9e3059b button.colab-df-convert');\n",
              "      buttonEl.style.display =\n",
              "        google.colab.kernel.accessAllowed ? 'block' : 'none';\n",
              "\n",
              "      async function convertToInteractive(key) {\n",
              "        const element = document.querySelector('#df-026ad5f7-3bb1-4776-9b53-bf82f9e3059b');\n",
              "        const dataTable =\n",
              "          await google.colab.kernel.invokeFunction('convertToInteractive',\n",
              "                                                    [key], {});\n",
              "        if (!dataTable) return;\n",
              "\n",
              "        const docLinkHtml = 'Like what you see? Visit the ' +\n",
              "          '<a target=\"_blank\" href=https://colab.research.google.com/notebooks/data_table.ipynb>data table notebook</a>'\n",
              "          + ' to learn more about interactive tables.';\n",
              "        element.innerHTML = '';\n",
              "        dataTable['output_type'] = 'display_data';\n",
              "        await google.colab.output.renderOutput(dataTable, element);\n",
              "        const docLink = document.createElement('div');\n",
              "        docLink.innerHTML = docLinkHtml;\n",
              "        element.appendChild(docLink);\n",
              "      }\n",
              "    </script>\n",
              "  </div>\n",
              "\n",
              "\n",
              "<div id=\"df-ffca0138-bd45-40cd-bd36-6eb77499b352\">\n",
              "  <button class=\"colab-df-quickchart\" onclick=\"quickchart('df-ffca0138-bd45-40cd-bd36-6eb77499b352')\"\n",
              "            title=\"Suggest charts\"\n",
              "            style=\"display:none;\">\n",
              "\n",
              "<svg xmlns=\"http://www.w3.org/2000/svg\" height=\"24px\"viewBox=\"0 0 24 24\"\n",
              "     width=\"24px\">\n",
              "    <g>\n",
              "        <path d=\"M19 3H5c-1.1 0-2 .9-2 2v14c0 1.1.9 2 2 2h14c1.1 0 2-.9 2-2V5c0-1.1-.9-2-2-2zM9 17H7v-7h2v7zm4 0h-2V7h2v10zm4 0h-2v-4h2v4z\"/>\n",
              "    </g>\n",
              "</svg>\n",
              "  </button>\n",
              "\n",
              "<style>\n",
              "  .colab-df-quickchart {\n",
              "      --bg-color: #E8F0FE;\n",
              "      --fill-color: #1967D2;\n",
              "      --hover-bg-color: #E2EBFA;\n",
              "      --hover-fill-color: #174EA6;\n",
              "      --disabled-fill-color: #AAA;\n",
              "      --disabled-bg-color: #DDD;\n",
              "  }\n",
              "\n",
              "  [theme=dark] .colab-df-quickchart {\n",
              "      --bg-color: #3B4455;\n",
              "      --fill-color: #D2E3FC;\n",
              "      --hover-bg-color: #434B5C;\n",
              "      --hover-fill-color: #FFFFFF;\n",
              "      --disabled-bg-color: #3B4455;\n",
              "      --disabled-fill-color: #666;\n",
              "  }\n",
              "\n",
              "  .colab-df-quickchart {\n",
              "    background-color: var(--bg-color);\n",
              "    border: none;\n",
              "    border-radius: 50%;\n",
              "    cursor: pointer;\n",
              "    display: none;\n",
              "    fill: var(--fill-color);\n",
              "    height: 32px;\n",
              "    padding: 0;\n",
              "    width: 32px;\n",
              "  }\n",
              "\n",
              "  .colab-df-quickchart:hover {\n",
              "    background-color: var(--hover-bg-color);\n",
              "    box-shadow: 0 1px 2px rgba(60, 64, 67, 0.3), 0 1px 3px 1px rgba(60, 64, 67, 0.15);\n",
              "    fill: var(--button-hover-fill-color);\n",
              "  }\n",
              "\n",
              "  .colab-df-quickchart-complete:disabled,\n",
              "  .colab-df-quickchart-complete:disabled:hover {\n",
              "    background-color: var(--disabled-bg-color);\n",
              "    fill: var(--disabled-fill-color);\n",
              "    box-shadow: none;\n",
              "  }\n",
              "\n",
              "  .colab-df-spinner {\n",
              "    border: 2px solid var(--fill-color);\n",
              "    border-color: transparent;\n",
              "    border-bottom-color: var(--fill-color);\n",
              "    animation:\n",
              "      spin 1s steps(1) infinite;\n",
              "  }\n",
              "\n",
              "  @keyframes spin {\n",
              "    0% {\n",
              "      border-color: transparent;\n",
              "      border-bottom-color: var(--fill-color);\n",
              "      border-left-color: var(--fill-color);\n",
              "    }\n",
              "    20% {\n",
              "      border-color: transparent;\n",
              "      border-left-color: var(--fill-color);\n",
              "      border-top-color: var(--fill-color);\n",
              "    }\n",
              "    30% {\n",
              "      border-color: transparent;\n",
              "      border-left-color: var(--fill-color);\n",
              "      border-top-color: var(--fill-color);\n",
              "      border-right-color: var(--fill-color);\n",
              "    }\n",
              "    40% {\n",
              "      border-color: transparent;\n",
              "      border-right-color: var(--fill-color);\n",
              "      border-top-color: var(--fill-color);\n",
              "    }\n",
              "    60% {\n",
              "      border-color: transparent;\n",
              "      border-right-color: var(--fill-color);\n",
              "    }\n",
              "    80% {\n",
              "      border-color: transparent;\n",
              "      border-right-color: var(--fill-color);\n",
              "      border-bottom-color: var(--fill-color);\n",
              "    }\n",
              "    90% {\n",
              "      border-color: transparent;\n",
              "      border-bottom-color: var(--fill-color);\n",
              "    }\n",
              "  }\n",
              "</style>\n",
              "\n",
              "  <script>\n",
              "    async function quickchart(key) {\n",
              "      const quickchartButtonEl =\n",
              "        document.querySelector('#' + key + ' button');\n",
              "      quickchartButtonEl.disabled = true;  // To prevent multiple clicks.\n",
              "      quickchartButtonEl.classList.add('colab-df-spinner');\n",
              "      try {\n",
              "        const charts = await google.colab.kernel.invokeFunction(\n",
              "            'suggestCharts', [key], {});\n",
              "      } catch (error) {\n",
              "        console.error('Error during call to suggestCharts:', error);\n",
              "      }\n",
              "      quickchartButtonEl.classList.remove('colab-df-spinner');\n",
              "      quickchartButtonEl.classList.add('colab-df-quickchart-complete');\n",
              "    }\n",
              "    (() => {\n",
              "      let quickchartButtonEl =\n",
              "        document.querySelector('#df-ffca0138-bd45-40cd-bd36-6eb77499b352 button');\n",
              "      quickchartButtonEl.style.display =\n",
              "        google.colab.kernel.accessAllowed ? 'block' : 'none';\n",
              "    })();\n",
              "  </script>\n",
              "</div>\n",
              "\n",
              "    </div>\n",
              "  </div>\n"
            ],
            "application/vnd.google.colaboratory.intrinsic+json": {
              "type": "dataframe",
              "summary": "{\n  \"name\": \"x_train2\",\n  \"rows\": 15,\n  \"fields\": [\n    {\n      \"column\": \"lte_5g_category\",\n      \"properties\": {\n        \"dtype\": \"number\",\n        \"std\": 0.26127309898143736,\n        \"min\": -0.09560501324475028,\n        \"max\": 1.0,\n        \"num_unique_values\": 15,\n        \"samples\": [\n          0.045106277734520576,\n          0.019485282790280906,\n          1.0\n        ],\n        \"semantic_type\": \"\",\n        \"description\": \"\"\n      }\n    },\n    {\n      \"column\": \"packet_loss_rate\",\n      \"properties\": {\n        \"dtype\": \"number\",\n        \"std\": 0.34845867037758177,\n        \"min\": -0.21620166338575209,\n        \"max\": 1.0,\n        \"num_unique_values\": 15,\n        \"samples\": [\n          -0.21620166338575209,\n          -0.1823579222144486,\n          0.022254278717071793\n        ],\n        \"semantic_type\": \"\",\n        \"description\": \"\"\n      }\n    },\n    {\n      \"column\": \"packet_delay\",\n      \"properties\": {\n        \"dtype\": \"number\",\n        \"std\": 0.3806437276241085,\n        \"min\": -0.4241237263117015,\n        \"max\": 1.0,\n        \"num_unique_values\": 15,\n        \"samples\": [\n          -0.28438408983699054,\n          -0.24976283957928427,\n          -0.015085156025581069\n        ],\n        \"semantic_type\": \"\",\n        \"description\": \"\"\n      }\n    },\n    {\n      \"column\": \"io_t\",\n      \"properties\": {\n        \"dtype\": \"number\",\n        \"std\": 0.4931181916589238,\n        \"min\": -1.0,\n        \"max\": 1.0,\n        \"num_unique_values\": 15,\n        \"samples\": [\n          0.3855151097671429,\n          0.2733144422910789,\n          0.09560501324475046\n        ],\n        \"semantic_type\": \"\",\n        \"description\": \"\"\n      }\n    },\n    {\n      \"column\": \"lte_5g\",\n      \"properties\": {\n        \"dtype\": \"number\",\n        \"std\": 0.4931181916589238,\n        \"min\": -1.0,\n        \"max\": 1.0,\n        \"num_unique_values\": 15,\n        \"samples\": [\n          -0.3855151097671428,\n          -0.27331444229107865,\n          -0.09560501324475028\n        ],\n        \"semantic_type\": \"\",\n        \"description\": \"\"\n      }\n    },\n    {\n      \"column\": \"gbr\",\n      \"properties\": {\n        \"dtype\": \"number\",\n        \"std\": 0.41774043805449923,\n        \"min\": -0.999999999999999,\n        \"max\": 1.0,\n        \"num_unique_values\": 15,\n        \"samples\": [\n          0.0453527800842649,\n          -0.2239862683036181,\n          -0.007155792036453813\n        ],\n        \"semantic_type\": \"\",\n        \"description\": \"\"\n      }\n    },\n    {\n      \"column\": \"non_gbr\",\n      \"properties\": {\n        \"dtype\": \"number\",\n        \"std\": 0.41774043805449923,\n        \"min\": -0.999999999999999,\n        \"max\": 1.0,\n        \"num_unique_values\": 15,\n        \"samples\": [\n          -0.04535278008426486,\n          0.2239862683036181,\n          0.0071557920364538905\n        ],\n        \"semantic_type\": \"\",\n        \"description\": \"\"\n      }\n    },\n    {\n      \"column\": \"ar_vr_gaming\",\n      \"properties\": {\n        \"dtype\": \"number\",\n        \"std\": 0.31643305517334686,\n        \"min\": -0.3212844949812943,\n        \"max\": 1.0,\n        \"num_unique_values\": 15,\n        \"samples\": [\n          -0.12386002734919664,\n          -0.08781169256258459,\n          -0.034010450450038456\n        ],\n        \"semantic_type\": \"\",\n        \"description\": \"\"\n      }\n    },\n    {\n      \"column\": \"healthcare\",\n      \"properties\": {\n        \"dtype\": \"number\",\n        \"std\": 0.315414094741021,\n        \"min\": -0.26086265843401724,\n        \"max\": 1.0,\n        \"num_unique_values\": 15,\n        \"samples\": [\n          -0.08722781586345105,\n          -0.06184095315845886,\n          0.018408029016488123\n        ],\n        \"semantic_type\": \"\",\n        \"description\": \"\"\n      }\n    },\n    {\n      \"column\": \"industry_4_0\",\n      \"properties\": {\n        \"dtype\": \"number\",\n        \"std\": 0.3362379068205002,\n        \"min\": -0.3855151097671428,\n        \"max\": 1.0,\n        \"num_unique_values\": 15,\n        \"samples\": [\n          1.0,\n          -0.09139147008661837,\n          0.045106277734520576\n        ],\n        \"semantic_type\": \"\",\n        \"description\": \"\"\n      }\n    },\n    {\n      \"column\": \"io_t_devices\",\n      \"properties\": {\n        \"dtype\": \"number\",\n        \"std\": 0.34130614928724723,\n        \"min\": -0.2813365101255752,\n        \"max\": 1.0,\n        \"num_unique_values\": 15,\n        \"samples\": [\n          -0.08888455726768303,\n          -0.06301551504059079,\n          0.019458041486050542\n        ],\n        \"semantic_type\": \"\",\n        \"description\": \"\"\n      }\n    },\n    {\n      \"column\": \"public_safety\",\n      \"properties\": {\n        \"dtype\": \"number\",\n        \"std\": 0.31964374984684424,\n        \"min\": -0.27331444229107865,\n        \"max\": 1.0,\n        \"num_unique_values\": 15,\n        \"samples\": [\n          -0.09139147008661837,\n          1.0,\n          0.019485282790280906\n        ],\n        \"semantic_type\": \"\",\n        \"description\": \"\"\n      }\n    },\n    {\n      \"column\": \"smart_city_and_home\",\n      \"properties\": {\n        \"dtype\": \"number\",\n        \"std\": 0.35930450565029826,\n        \"min\": -0.3945854404574145,\n        \"max\": 1.0,\n        \"num_unique_values\": 15,\n        \"samples\": [\n          -0.13194232685213583,\n          -0.09354171228194082,\n          0.047347182675353046\n        ],\n        \"semantic_type\": \"\",\n        \"description\": \"\"\n      }\n    },\n    {\n      \"column\": \"smart_transportation\",\n      \"properties\": {\n        \"dtype\": \"number\",\n        \"std\": 0.3164592979015863,\n        \"min\": -0.26395102135165766,\n        \"max\": 1.0,\n        \"num_unique_values\": 15,\n        \"samples\": [\n          -0.08826050928732651,\n          -0.06257309055088064,\n          0.019786999921340594\n        ],\n        \"semantic_type\": \"\",\n        \"description\": \"\"\n      }\n    },\n    {\n      \"column\": \"smartphone\",\n      \"properties\": {\n        \"dtype\": \"number\",\n        \"std\": 0.45118482210631183,\n        \"min\": -0.8075238323440268,\n        \"max\": 1.0,\n        \"num_unique_values\": 15,\n        \"samples\": [\n          -0.3113126388656926,\n          -0.22070792587386456,\n          -0.07515160909551873\n        ],\n        \"semantic_type\": \"\",\n        \"description\": \"\"\n      }\n    }\n  ]\n}"
            }
          },
          "metadata": {},
          "execution_count": 53
        }
      ]
    },
    {
      "cell_type": "code",
      "source": [
        "def correlation(dataset, threshold):\n",
        "    col_corr = set() # Set of all the names of deleted columns\n",
        "    corr_matrix = dataset.corr()\n",
        "    for i in range(len(corr_matrix.columns)):\n",
        "        for j in range(i):\n",
        "            if (corr_matrix.iloc[i, j] >= threshold) and (corr_matrix.columns[j] not in col_corr):\n",
        "                colname = corr_matrix.columns[i] # getting the name of column\n",
        "                col_corr.add(colname)\n",
        "                if colname in dataset.columns:\n",
        "                    del dataset[colname] # deleting the column from the dataset\n",
        "\n",
        "    print(dataset.columns)\n",
        "    print(dataset.shape)"
      ],
      "metadata": {
        "id": "go6T8U9gafO4"
      },
      "execution_count": 54,
      "outputs": []
    },
    {
      "cell_type": "code",
      "source": [
        "correlation(x_train2, 0.95)"
      ],
      "metadata": {
        "colab": {
          "base_uri": "https://localhost:8080/",
          "height": 0
        },
        "id": "lv9hzu3jahIG",
        "outputId": "97537262-3862-44fe-baf1-c438b74fee0e"
      },
      "execution_count": 55,
      "outputs": [
        {
          "output_type": "stream",
          "name": "stdout",
          "text": [
            "Index(['lte_5g_category', 'packet_loss_rate', 'packet_delay', 'io_t', 'lte_5g',\n",
            "       'gbr', 'non_gbr', 'ar_vr_gaming', 'healthcare', 'industry_4_0',\n",
            "       'io_t_devices', 'public_safety', 'smart_city_and_home',\n",
            "       'smart_transportation', 'smartphone'],\n",
            "      dtype='object')\n",
            "(18373, 15)\n"
          ]
        }
      ]
    },
    {
      "cell_type": "code",
      "source": [
        "print(x_train2.columns, x_train2.shape)\n",
        "print(x_test2.columns, x_test2.shape)\n"
      ],
      "metadata": {
        "colab": {
          "base_uri": "https://localhost:8080/",
          "height": 0
        },
        "id": "JHV6k6CNaizN",
        "outputId": "638545b7-3034-4284-95b7-ab5f0ac21bf8"
      },
      "execution_count": 56,
      "outputs": [
        {
          "output_type": "stream",
          "name": "stdout",
          "text": [
            "Index(['lte_5g_category', 'packet_loss_rate', 'packet_delay', 'io_t', 'lte_5g',\n",
            "       'gbr', 'non_gbr', 'ar_vr_gaming', 'healthcare', 'industry_4_0',\n",
            "       'io_t_devices', 'public_safety', 'smart_city_and_home',\n",
            "       'smart_transportation', 'smartphone'],\n",
            "      dtype='object') (18373, 15)\n",
            "Index(['lte_5g_category', 'packet_loss_rate', 'packet_delay', 'io_t', 'lte_5g',\n",
            "       'gbr', 'non_gbr', 'ar_vr_gaming', 'healthcare', 'industry_4_0',\n",
            "       'io_t_devices', 'public_safety', 'smart_city_and_home',\n",
            "       'smart_transportation', 'smartphone'],\n",
            "      dtype='object') (31584, 15)\n"
          ]
        }
      ]
    },
    {
      "cell_type": "markdown",
      "source": [
        "### Standard Scaler"
      ],
      "metadata": {
        "id": "mr8ylKcFarlF"
      }
    },
    {
      "cell_type": "code",
      "source": [
        "from sklearn.preprocessing import StandardScaler\n",
        "scaler=StandardScaler()\n",
        "x_train_scaled=pd.DataFrame(scaler.fit_transform(x_train2),columns=x_train2.columns)\n",
        "x_train_scaled.head()"
      ],
      "metadata": {
        "colab": {
          "base_uri": "https://localhost:8080/",
          "height": 226
        },
        "id": "kkz-dROOauba",
        "outputId": "3c553834-a9ce-480e-8451-53c4cac96923"
      },
      "execution_count": 57,
      "outputs": [
        {
          "output_type": "execute_result",
          "data": {
            "text/plain": [
              "   lte_5g_category  packet_loss_rate  packet_delay      io_t    lte_5g  \\\n",
              "0         0.496569         -0.716409     -0.981216  1.073740 -1.073740   \n",
              "1        -0.319527          1.574868     -0.602200  1.073740 -1.073740   \n",
              "2         1.312664         -0.716409     -0.981216  1.073740 -1.073740   \n",
              "3        -0.482746         -0.487488      0.345339 -0.931324  0.931324   \n",
              "4        -0.645965         -0.716409     -0.981216  1.073740 -1.073740   \n",
              "\n",
              "       gbr  non_gbr  ar_vr_gaming  healthcare  industry_4_0  io_t_devices  \\\n",
              "0 -0.87995  0.87995     -0.344976   -0.242948     -0.359040     -0.247562   \n",
              "1 -0.87995  0.87995     -0.344976   -0.242948     -0.359040     -0.247562   \n",
              "2 -0.87995  0.87995     -0.344976   -0.242948      2.785209     -0.247562   \n",
              "3 -0.87995  0.87995     -0.344976   -0.242948     -0.359040     -0.247562   \n",
              "4 -0.87995  0.87995     -0.344976    4.116113     -0.359040     -0.247562   \n",
              "\n",
              "   public_safety  smart_city_and_home  smart_transportation  smartphone  \n",
              "0       3.928589            -0.367487             -0.245824   -0.867071  \n",
              "1      -0.254544             2.721185             -0.245824   -0.867071  \n",
              "2      -0.254544            -0.367487             -0.245824   -0.867071  \n",
              "3      -0.254544            -0.367487             -0.245824    1.153308  \n",
              "4      -0.254544            -0.367487             -0.245824   -0.867071  "
            ],
            "text/html": [
              "\n",
              "  <div id=\"df-7ff43b14-e79c-441a-81e4-a5eacfe04f0a\" class=\"colab-df-container\">\n",
              "    <div>\n",
              "<style scoped>\n",
              "    .dataframe tbody tr th:only-of-type {\n",
              "        vertical-align: middle;\n",
              "    }\n",
              "\n",
              "    .dataframe tbody tr th {\n",
              "        vertical-align: top;\n",
              "    }\n",
              "\n",
              "    .dataframe thead th {\n",
              "        text-align: right;\n",
              "    }\n",
              "</style>\n",
              "<table border=\"1\" class=\"dataframe\">\n",
              "  <thead>\n",
              "    <tr style=\"text-align: right;\">\n",
              "      <th></th>\n",
              "      <th>lte_5g_category</th>\n",
              "      <th>packet_loss_rate</th>\n",
              "      <th>packet_delay</th>\n",
              "      <th>io_t</th>\n",
              "      <th>lte_5g</th>\n",
              "      <th>gbr</th>\n",
              "      <th>non_gbr</th>\n",
              "      <th>ar_vr_gaming</th>\n",
              "      <th>healthcare</th>\n",
              "      <th>industry_4_0</th>\n",
              "      <th>io_t_devices</th>\n",
              "      <th>public_safety</th>\n",
              "      <th>smart_city_and_home</th>\n",
              "      <th>smart_transportation</th>\n",
              "      <th>smartphone</th>\n",
              "    </tr>\n",
              "  </thead>\n",
              "  <tbody>\n",
              "    <tr>\n",
              "      <th>0</th>\n",
              "      <td>0.496569</td>\n",
              "      <td>-0.716409</td>\n",
              "      <td>-0.981216</td>\n",
              "      <td>1.073740</td>\n",
              "      <td>-1.073740</td>\n",
              "      <td>-0.87995</td>\n",
              "      <td>0.87995</td>\n",
              "      <td>-0.344976</td>\n",
              "      <td>-0.242948</td>\n",
              "      <td>-0.359040</td>\n",
              "      <td>-0.247562</td>\n",
              "      <td>3.928589</td>\n",
              "      <td>-0.367487</td>\n",
              "      <td>-0.245824</td>\n",
              "      <td>-0.867071</td>\n",
              "    </tr>\n",
              "    <tr>\n",
              "      <th>1</th>\n",
              "      <td>-0.319527</td>\n",
              "      <td>1.574868</td>\n",
              "      <td>-0.602200</td>\n",
              "      <td>1.073740</td>\n",
              "      <td>-1.073740</td>\n",
              "      <td>-0.87995</td>\n",
              "      <td>0.87995</td>\n",
              "      <td>-0.344976</td>\n",
              "      <td>-0.242948</td>\n",
              "      <td>-0.359040</td>\n",
              "      <td>-0.247562</td>\n",
              "      <td>-0.254544</td>\n",
              "      <td>2.721185</td>\n",
              "      <td>-0.245824</td>\n",
              "      <td>-0.867071</td>\n",
              "    </tr>\n",
              "    <tr>\n",
              "      <th>2</th>\n",
              "      <td>1.312664</td>\n",
              "      <td>-0.716409</td>\n",
              "      <td>-0.981216</td>\n",
              "      <td>1.073740</td>\n",
              "      <td>-1.073740</td>\n",
              "      <td>-0.87995</td>\n",
              "      <td>0.87995</td>\n",
              "      <td>-0.344976</td>\n",
              "      <td>-0.242948</td>\n",
              "      <td>2.785209</td>\n",
              "      <td>-0.247562</td>\n",
              "      <td>-0.254544</td>\n",
              "      <td>-0.367487</td>\n",
              "      <td>-0.245824</td>\n",
              "      <td>-0.867071</td>\n",
              "    </tr>\n",
              "    <tr>\n",
              "      <th>3</th>\n",
              "      <td>-0.482746</td>\n",
              "      <td>-0.487488</td>\n",
              "      <td>0.345339</td>\n",
              "      <td>-0.931324</td>\n",
              "      <td>0.931324</td>\n",
              "      <td>-0.87995</td>\n",
              "      <td>0.87995</td>\n",
              "      <td>-0.344976</td>\n",
              "      <td>-0.242948</td>\n",
              "      <td>-0.359040</td>\n",
              "      <td>-0.247562</td>\n",
              "      <td>-0.254544</td>\n",
              "      <td>-0.367487</td>\n",
              "      <td>-0.245824</td>\n",
              "      <td>1.153308</td>\n",
              "    </tr>\n",
              "    <tr>\n",
              "      <th>4</th>\n",
              "      <td>-0.645965</td>\n",
              "      <td>-0.716409</td>\n",
              "      <td>-0.981216</td>\n",
              "      <td>1.073740</td>\n",
              "      <td>-1.073740</td>\n",
              "      <td>-0.87995</td>\n",
              "      <td>0.87995</td>\n",
              "      <td>-0.344976</td>\n",
              "      <td>4.116113</td>\n",
              "      <td>-0.359040</td>\n",
              "      <td>-0.247562</td>\n",
              "      <td>-0.254544</td>\n",
              "      <td>-0.367487</td>\n",
              "      <td>-0.245824</td>\n",
              "      <td>-0.867071</td>\n",
              "    </tr>\n",
              "  </tbody>\n",
              "</table>\n",
              "</div>\n",
              "    <div class=\"colab-df-buttons\">\n",
              "\n",
              "  <div class=\"colab-df-container\">\n",
              "    <button class=\"colab-df-convert\" onclick=\"convertToInteractive('df-7ff43b14-e79c-441a-81e4-a5eacfe04f0a')\"\n",
              "            title=\"Convert this dataframe to an interactive table.\"\n",
              "            style=\"display:none;\">\n",
              "\n",
              "  <svg xmlns=\"http://www.w3.org/2000/svg\" height=\"24px\" viewBox=\"0 -960 960 960\">\n",
              "    <path d=\"M120-120v-720h720v720H120Zm60-500h600v-160H180v160Zm220 220h160v-160H400v160Zm0 220h160v-160H400v160ZM180-400h160v-160H180v160Zm440 0h160v-160H620v160ZM180-180h160v-160H180v160Zm440 0h160v-160H620v160Z\"/>\n",
              "  </svg>\n",
              "    </button>\n",
              "\n",
              "  <style>\n",
              "    .colab-df-container {\n",
              "      display:flex;\n",
              "      gap: 12px;\n",
              "    }\n",
              "\n",
              "    .colab-df-convert {\n",
              "      background-color: #E8F0FE;\n",
              "      border: none;\n",
              "      border-radius: 50%;\n",
              "      cursor: pointer;\n",
              "      display: none;\n",
              "      fill: #1967D2;\n",
              "      height: 32px;\n",
              "      padding: 0 0 0 0;\n",
              "      width: 32px;\n",
              "    }\n",
              "\n",
              "    .colab-df-convert:hover {\n",
              "      background-color: #E2EBFA;\n",
              "      box-shadow: 0px 1px 2px rgba(60, 64, 67, 0.3), 0px 1px 3px 1px rgba(60, 64, 67, 0.15);\n",
              "      fill: #174EA6;\n",
              "    }\n",
              "\n",
              "    .colab-df-buttons div {\n",
              "      margin-bottom: 4px;\n",
              "    }\n",
              "\n",
              "    [theme=dark] .colab-df-convert {\n",
              "      background-color: #3B4455;\n",
              "      fill: #D2E3FC;\n",
              "    }\n",
              "\n",
              "    [theme=dark] .colab-df-convert:hover {\n",
              "      background-color: #434B5C;\n",
              "      box-shadow: 0px 1px 3px 1px rgba(0, 0, 0, 0.15);\n",
              "      filter: drop-shadow(0px 1px 2px rgba(0, 0, 0, 0.3));\n",
              "      fill: #FFFFFF;\n",
              "    }\n",
              "  </style>\n",
              "\n",
              "    <script>\n",
              "      const buttonEl =\n",
              "        document.querySelector('#df-7ff43b14-e79c-441a-81e4-a5eacfe04f0a button.colab-df-convert');\n",
              "      buttonEl.style.display =\n",
              "        google.colab.kernel.accessAllowed ? 'block' : 'none';\n",
              "\n",
              "      async function convertToInteractive(key) {\n",
              "        const element = document.querySelector('#df-7ff43b14-e79c-441a-81e4-a5eacfe04f0a');\n",
              "        const dataTable =\n",
              "          await google.colab.kernel.invokeFunction('convertToInteractive',\n",
              "                                                    [key], {});\n",
              "        if (!dataTable) return;\n",
              "\n",
              "        const docLinkHtml = 'Like what you see? Visit the ' +\n",
              "          '<a target=\"_blank\" href=https://colab.research.google.com/notebooks/data_table.ipynb>data table notebook</a>'\n",
              "          + ' to learn more about interactive tables.';\n",
              "        element.innerHTML = '';\n",
              "        dataTable['output_type'] = 'display_data';\n",
              "        await google.colab.output.renderOutput(dataTable, element);\n",
              "        const docLink = document.createElement('div');\n",
              "        docLink.innerHTML = docLinkHtml;\n",
              "        element.appendChild(docLink);\n",
              "      }\n",
              "    </script>\n",
              "  </div>\n",
              "\n",
              "\n",
              "<div id=\"df-83f66e5f-68a2-4ab3-a559-4cc2029de25b\">\n",
              "  <button class=\"colab-df-quickchart\" onclick=\"quickchart('df-83f66e5f-68a2-4ab3-a559-4cc2029de25b')\"\n",
              "            title=\"Suggest charts\"\n",
              "            style=\"display:none;\">\n",
              "\n",
              "<svg xmlns=\"http://www.w3.org/2000/svg\" height=\"24px\"viewBox=\"0 0 24 24\"\n",
              "     width=\"24px\">\n",
              "    <g>\n",
              "        <path d=\"M19 3H5c-1.1 0-2 .9-2 2v14c0 1.1.9 2 2 2h14c1.1 0 2-.9 2-2V5c0-1.1-.9-2-2-2zM9 17H7v-7h2v7zm4 0h-2V7h2v10zm4 0h-2v-4h2v4z\"/>\n",
              "    </g>\n",
              "</svg>\n",
              "  </button>\n",
              "\n",
              "<style>\n",
              "  .colab-df-quickchart {\n",
              "      --bg-color: #E8F0FE;\n",
              "      --fill-color: #1967D2;\n",
              "      --hover-bg-color: #E2EBFA;\n",
              "      --hover-fill-color: #174EA6;\n",
              "      --disabled-fill-color: #AAA;\n",
              "      --disabled-bg-color: #DDD;\n",
              "  }\n",
              "\n",
              "  [theme=dark] .colab-df-quickchart {\n",
              "      --bg-color: #3B4455;\n",
              "      --fill-color: #D2E3FC;\n",
              "      --hover-bg-color: #434B5C;\n",
              "      --hover-fill-color: #FFFFFF;\n",
              "      --disabled-bg-color: #3B4455;\n",
              "      --disabled-fill-color: #666;\n",
              "  }\n",
              "\n",
              "  .colab-df-quickchart {\n",
              "    background-color: var(--bg-color);\n",
              "    border: none;\n",
              "    border-radius: 50%;\n",
              "    cursor: pointer;\n",
              "    display: none;\n",
              "    fill: var(--fill-color);\n",
              "    height: 32px;\n",
              "    padding: 0;\n",
              "    width: 32px;\n",
              "  }\n",
              "\n",
              "  .colab-df-quickchart:hover {\n",
              "    background-color: var(--hover-bg-color);\n",
              "    box-shadow: 0 1px 2px rgba(60, 64, 67, 0.3), 0 1px 3px 1px rgba(60, 64, 67, 0.15);\n",
              "    fill: var(--button-hover-fill-color);\n",
              "  }\n",
              "\n",
              "  .colab-df-quickchart-complete:disabled,\n",
              "  .colab-df-quickchart-complete:disabled:hover {\n",
              "    background-color: var(--disabled-bg-color);\n",
              "    fill: var(--disabled-fill-color);\n",
              "    box-shadow: none;\n",
              "  }\n",
              "\n",
              "  .colab-df-spinner {\n",
              "    border: 2px solid var(--fill-color);\n",
              "    border-color: transparent;\n",
              "    border-bottom-color: var(--fill-color);\n",
              "    animation:\n",
              "      spin 1s steps(1) infinite;\n",
              "  }\n",
              "\n",
              "  @keyframes spin {\n",
              "    0% {\n",
              "      border-color: transparent;\n",
              "      border-bottom-color: var(--fill-color);\n",
              "      border-left-color: var(--fill-color);\n",
              "    }\n",
              "    20% {\n",
              "      border-color: transparent;\n",
              "      border-left-color: var(--fill-color);\n",
              "      border-top-color: var(--fill-color);\n",
              "    }\n",
              "    30% {\n",
              "      border-color: transparent;\n",
              "      border-left-color: var(--fill-color);\n",
              "      border-top-color: var(--fill-color);\n",
              "      border-right-color: var(--fill-color);\n",
              "    }\n",
              "    40% {\n",
              "      border-color: transparent;\n",
              "      border-right-color: var(--fill-color);\n",
              "      border-top-color: var(--fill-color);\n",
              "    }\n",
              "    60% {\n",
              "      border-color: transparent;\n",
              "      border-right-color: var(--fill-color);\n",
              "    }\n",
              "    80% {\n",
              "      border-color: transparent;\n",
              "      border-right-color: var(--fill-color);\n",
              "      border-bottom-color: var(--fill-color);\n",
              "    }\n",
              "    90% {\n",
              "      border-color: transparent;\n",
              "      border-bottom-color: var(--fill-color);\n",
              "    }\n",
              "  }\n",
              "</style>\n",
              "\n",
              "  <script>\n",
              "    async function quickchart(key) {\n",
              "      const quickchartButtonEl =\n",
              "        document.querySelector('#' + key + ' button');\n",
              "      quickchartButtonEl.disabled = true;  // To prevent multiple clicks.\n",
              "      quickchartButtonEl.classList.add('colab-df-spinner');\n",
              "      try {\n",
              "        const charts = await google.colab.kernel.invokeFunction(\n",
              "            'suggestCharts', [key], {});\n",
              "      } catch (error) {\n",
              "        console.error('Error during call to suggestCharts:', error);\n",
              "      }\n",
              "      quickchartButtonEl.classList.remove('colab-df-spinner');\n",
              "      quickchartButtonEl.classList.add('colab-df-quickchart-complete');\n",
              "    }\n",
              "    (() => {\n",
              "      let quickchartButtonEl =\n",
              "        document.querySelector('#df-83f66e5f-68a2-4ab3-a559-4cc2029de25b button');\n",
              "      quickchartButtonEl.style.display =\n",
              "        google.colab.kernel.accessAllowed ? 'block' : 'none';\n",
              "    })();\n",
              "  </script>\n",
              "</div>\n",
              "\n",
              "    </div>\n",
              "  </div>\n"
            ],
            "application/vnd.google.colaboratory.intrinsic+json": {
              "type": "dataframe",
              "variable_name": "x_train_scaled",
              "summary": "{\n  \"name\": \"x_train_scaled\",\n  \"rows\": 18373,\n  \"fields\": [\n    {\n      \"column\": \"lte_5g_category\",\n      \"properties\": {\n        \"dtype\": \"float32\",\n        \"num_unique_values\": 22,\n        \"samples\": [\n          0.4965687096118927,\n          0.9862259030342102,\n          0.33334964513778687\n        ],\n        \"semantic_type\": \"\",\n        \"description\": \"\"\n      }\n    },\n    {\n      \"column\": \"packet_loss_rate\",\n      \"properties\": {\n        \"dtype\": \"float32\",\n        \"num_unique_values\": 3,\n        \"samples\": [\n          -0.7164093255996704,\n          1.5748679637908936,\n          -0.4874877631664276\n        ],\n        \"semantic_type\": \"\",\n        \"description\": \"\"\n      }\n    },\n    {\n      \"column\": \"packet_delay\",\n      \"properties\": {\n        \"dtype\": \"float32\",\n        \"num_unique_values\": 7,\n        \"samples\": [\n          -0.9812155365943909,\n          -0.6021999716758728,\n          1.7666469812393188\n        ],\n        \"semantic_type\": \"\",\n        \"description\": \"\"\n      }\n    },\n    {\n      \"column\": \"io_t\",\n      \"properties\": {\n        \"dtype\": \"float32\",\n        \"num_unique_values\": 2,\n        \"samples\": [\n          -0.9313241243362427,\n          1.073740005493164\n        ],\n        \"semantic_type\": \"\",\n        \"description\": \"\"\n      }\n    },\n    {\n      \"column\": \"lte_5g\",\n      \"properties\": {\n        \"dtype\": \"float32\",\n        \"num_unique_values\": 2,\n        \"samples\": [\n          0.9313241243362427,\n          -1.073740005493164\n        ],\n        \"semantic_type\": \"\",\n        \"description\": \"\"\n      }\n    },\n    {\n      \"column\": \"gbr\",\n      \"properties\": {\n        \"dtype\": \"float32\",\n        \"num_unique_values\": 2,\n        \"samples\": [\n          1.1364282369613647,\n          -0.8799499869346619\n        ],\n        \"semantic_type\": \"\",\n        \"description\": \"\"\n      }\n    },\n    {\n      \"column\": \"non_gbr\",\n      \"properties\": {\n        \"dtype\": \"float32\",\n        \"num_unique_values\": 2,\n        \"samples\": [\n          -1.1364282369613647,\n          0.8799499869346619\n        ],\n        \"semantic_type\": \"\",\n        \"description\": \"\"\n      }\n    },\n    {\n      \"column\": \"ar_vr_gaming\",\n      \"properties\": {\n        \"dtype\": \"float32\",\n        \"num_unique_values\": 2,\n        \"samples\": [\n          2.898751974105835,\n          -0.3449760377407074\n        ],\n        \"semantic_type\": \"\",\n        \"description\": \"\"\n      }\n    },\n    {\n      \"column\": \"healthcare\",\n      \"properties\": {\n        \"dtype\": \"float32\",\n        \"num_unique_values\": 2,\n        \"samples\": [\n          4.11611270904541,\n          -0.24294766783714294\n        ],\n        \"semantic_type\": \"\",\n        \"description\": \"\"\n      }\n    },\n    {\n      \"column\": \"industry_4_0\",\n      \"properties\": {\n        \"dtype\": \"float32\",\n        \"num_unique_values\": 2,\n        \"samples\": [\n          2.7852087020874023,\n          -0.3590395152568817\n        ],\n        \"semantic_type\": \"\",\n        \"description\": \"\"\n      }\n    },\n    {\n      \"column\": \"io_t_devices\",\n      \"properties\": {\n        \"dtype\": \"float32\",\n        \"num_unique_values\": 2,\n        \"samples\": [\n          4.03939151763916,\n          -0.24756205081939697\n        ],\n        \"semantic_type\": \"\",\n        \"description\": \"\"\n      }\n    },\n    {\n      \"column\": \"public_safety\",\n      \"properties\": {\n        \"dtype\": \"float32\",\n        \"num_unique_values\": 2,\n        \"samples\": [\n          -0.25454431772232056,\n          3.9285888671875\n        ],\n        \"semantic_type\": \"\",\n        \"description\": \"\"\n      }\n    },\n    {\n      \"column\": \"smart_city_and_home\",\n      \"properties\": {\n        \"dtype\": \"float32\",\n        \"num_unique_values\": 2,\n        \"samples\": [\n          2.7211852073669434,\n          -0.36748695373535156\n        ],\n        \"semantic_type\": \"\",\n        \"description\": \"\"\n      }\n    },\n    {\n      \"column\": \"smart_transportation\",\n      \"properties\": {\n        \"dtype\": \"float32\",\n        \"num_unique_values\": 2,\n        \"samples\": [\n          4.0679521560668945,\n          -0.2458239495754242\n        ],\n        \"semantic_type\": \"\",\n        \"description\": \"\"\n      }\n    },\n    {\n      \"column\": \"smartphone\",\n      \"properties\": {\n        \"dtype\": \"float32\",\n        \"num_unique_values\": 2,\n        \"samples\": [\n          1.153308391571045,\n          -0.8670706748962402\n        ],\n        \"semantic_type\": \"\",\n        \"description\": \"\"\n      }\n    }\n  ]\n}"
            }
          },
          "metadata": {},
          "execution_count": 57
        }
      ]
    },
    {
      "cell_type": "code",
      "source": [
        "x_test_scaled=pd.DataFrame(scaler.fit_transform(x_test2),columns=x_test2.columns)\n",
        "x_test_scaled.head()"
      ],
      "metadata": {
        "colab": {
          "base_uri": "https://localhost:8080/",
          "height": 226
        },
        "id": "ZT5p9aTYaw5y",
        "outputId": "0ee45d1b-f64a-4efc-83b3-a94865ca10dd"
      },
      "execution_count": 58,
      "outputs": [
        {
          "output_type": "execute_result",
          "data": {
            "text/plain": [
              "   lte_5g_category  packet_loss_rate  packet_delay      io_t    lte_5g  \\\n",
              "0         0.664781         -0.482940     -0.136290 -0.938083  0.938083   \n",
              "1         0.500168         -0.712444     -0.982767  1.066004 -1.066004   \n",
              "2         0.006327         -0.482940     -0.606555  1.066004 -1.066004   \n",
              "3         1.487848         -0.482940     -0.606555  1.066004 -1.066004   \n",
              "4        -1.475194         -0.482940     -0.606555 -0.938083  0.938083   \n",
              "\n",
              "        gbr   non_gbr  ar_vr_gaming  healthcare  industry_4_0  io_t_devices  \\\n",
              "0  1.124027 -1.124027      2.896828    -0.25058     -0.365662     -0.250722   \n",
              "1 -0.889658  0.889658     -0.345205    -0.25058     -0.365662     -0.250722   \n",
              "2  1.124027 -1.124027     -0.345205    -0.25058      2.734762     -0.250722   \n",
              "3  1.124027 -1.124027     -0.345205    -0.25058      2.734762     -0.250722   \n",
              "4 -0.889658  0.889658      2.896828    -0.25058     -0.365662     -0.250722   \n",
              "\n",
              "   public_safety  smart_city_and_home  smart_transportation  smartphone  \n",
              "0      -0.246559            -0.362819             -0.248791   -0.860496  \n",
              "1      -0.246559            -0.362819              4.019440   -0.860496  \n",
              "2      -0.246559            -0.362819             -0.248791   -0.860496  \n",
              "3      -0.246559            -0.362819             -0.248791   -0.860496  \n",
              "4      -0.246559            -0.362819             -0.248791   -0.860496  "
            ],
            "text/html": [
              "\n",
              "  <div id=\"df-ba819b4c-dc8c-400c-bd33-d6ad7aa4d320\" class=\"colab-df-container\">\n",
              "    <div>\n",
              "<style scoped>\n",
              "    .dataframe tbody tr th:only-of-type {\n",
              "        vertical-align: middle;\n",
              "    }\n",
              "\n",
              "    .dataframe tbody tr th {\n",
              "        vertical-align: top;\n",
              "    }\n",
              "\n",
              "    .dataframe thead th {\n",
              "        text-align: right;\n",
              "    }\n",
              "</style>\n",
              "<table border=\"1\" class=\"dataframe\">\n",
              "  <thead>\n",
              "    <tr style=\"text-align: right;\">\n",
              "      <th></th>\n",
              "      <th>lte_5g_category</th>\n",
              "      <th>packet_loss_rate</th>\n",
              "      <th>packet_delay</th>\n",
              "      <th>io_t</th>\n",
              "      <th>lte_5g</th>\n",
              "      <th>gbr</th>\n",
              "      <th>non_gbr</th>\n",
              "      <th>ar_vr_gaming</th>\n",
              "      <th>healthcare</th>\n",
              "      <th>industry_4_0</th>\n",
              "      <th>io_t_devices</th>\n",
              "      <th>public_safety</th>\n",
              "      <th>smart_city_and_home</th>\n",
              "      <th>smart_transportation</th>\n",
              "      <th>smartphone</th>\n",
              "    </tr>\n",
              "  </thead>\n",
              "  <tbody>\n",
              "    <tr>\n",
              "      <th>0</th>\n",
              "      <td>0.664781</td>\n",
              "      <td>-0.482940</td>\n",
              "      <td>-0.136290</td>\n",
              "      <td>-0.938083</td>\n",
              "      <td>0.938083</td>\n",
              "      <td>1.124027</td>\n",
              "      <td>-1.124027</td>\n",
              "      <td>2.896828</td>\n",
              "      <td>-0.25058</td>\n",
              "      <td>-0.365662</td>\n",
              "      <td>-0.250722</td>\n",
              "      <td>-0.246559</td>\n",
              "      <td>-0.362819</td>\n",
              "      <td>-0.248791</td>\n",
              "      <td>-0.860496</td>\n",
              "    </tr>\n",
              "    <tr>\n",
              "      <th>1</th>\n",
              "      <td>0.500168</td>\n",
              "      <td>-0.712444</td>\n",
              "      <td>-0.982767</td>\n",
              "      <td>1.066004</td>\n",
              "      <td>-1.066004</td>\n",
              "      <td>-0.889658</td>\n",
              "      <td>0.889658</td>\n",
              "      <td>-0.345205</td>\n",
              "      <td>-0.25058</td>\n",
              "      <td>-0.365662</td>\n",
              "      <td>-0.250722</td>\n",
              "      <td>-0.246559</td>\n",
              "      <td>-0.362819</td>\n",
              "      <td>4.019440</td>\n",
              "      <td>-0.860496</td>\n",
              "    </tr>\n",
              "    <tr>\n",
              "      <th>2</th>\n",
              "      <td>0.006327</td>\n",
              "      <td>-0.482940</td>\n",
              "      <td>-0.606555</td>\n",
              "      <td>1.066004</td>\n",
              "      <td>-1.066004</td>\n",
              "      <td>1.124027</td>\n",
              "      <td>-1.124027</td>\n",
              "      <td>-0.345205</td>\n",
              "      <td>-0.25058</td>\n",
              "      <td>2.734762</td>\n",
              "      <td>-0.250722</td>\n",
              "      <td>-0.246559</td>\n",
              "      <td>-0.362819</td>\n",
              "      <td>-0.248791</td>\n",
              "      <td>-0.860496</td>\n",
              "    </tr>\n",
              "    <tr>\n",
              "      <th>3</th>\n",
              "      <td>1.487848</td>\n",
              "      <td>-0.482940</td>\n",
              "      <td>-0.606555</td>\n",
              "      <td>1.066004</td>\n",
              "      <td>-1.066004</td>\n",
              "      <td>1.124027</td>\n",
              "      <td>-1.124027</td>\n",
              "      <td>-0.345205</td>\n",
              "      <td>-0.25058</td>\n",
              "      <td>2.734762</td>\n",
              "      <td>-0.250722</td>\n",
              "      <td>-0.246559</td>\n",
              "      <td>-0.362819</td>\n",
              "      <td>-0.248791</td>\n",
              "      <td>-0.860496</td>\n",
              "    </tr>\n",
              "    <tr>\n",
              "      <th>4</th>\n",
              "      <td>-1.475194</td>\n",
              "      <td>-0.482940</td>\n",
              "      <td>-0.606555</td>\n",
              "      <td>-0.938083</td>\n",
              "      <td>0.938083</td>\n",
              "      <td>-0.889658</td>\n",
              "      <td>0.889658</td>\n",
              "      <td>2.896828</td>\n",
              "      <td>-0.25058</td>\n",
              "      <td>-0.365662</td>\n",
              "      <td>-0.250722</td>\n",
              "      <td>-0.246559</td>\n",
              "      <td>-0.362819</td>\n",
              "      <td>-0.248791</td>\n",
              "      <td>-0.860496</td>\n",
              "    </tr>\n",
              "  </tbody>\n",
              "</table>\n",
              "</div>\n",
              "    <div class=\"colab-df-buttons\">\n",
              "\n",
              "  <div class=\"colab-df-container\">\n",
              "    <button class=\"colab-df-convert\" onclick=\"convertToInteractive('df-ba819b4c-dc8c-400c-bd33-d6ad7aa4d320')\"\n",
              "            title=\"Convert this dataframe to an interactive table.\"\n",
              "            style=\"display:none;\">\n",
              "\n",
              "  <svg xmlns=\"http://www.w3.org/2000/svg\" height=\"24px\" viewBox=\"0 -960 960 960\">\n",
              "    <path d=\"M120-120v-720h720v720H120Zm60-500h600v-160H180v160Zm220 220h160v-160H400v160Zm0 220h160v-160H400v160ZM180-400h160v-160H180v160Zm440 0h160v-160H620v160ZM180-180h160v-160H180v160Zm440 0h160v-160H620v160Z\"/>\n",
              "  </svg>\n",
              "    </button>\n",
              "\n",
              "  <style>\n",
              "    .colab-df-container {\n",
              "      display:flex;\n",
              "      gap: 12px;\n",
              "    }\n",
              "\n",
              "    .colab-df-convert {\n",
              "      background-color: #E8F0FE;\n",
              "      border: none;\n",
              "      border-radius: 50%;\n",
              "      cursor: pointer;\n",
              "      display: none;\n",
              "      fill: #1967D2;\n",
              "      height: 32px;\n",
              "      padding: 0 0 0 0;\n",
              "      width: 32px;\n",
              "    }\n",
              "\n",
              "    .colab-df-convert:hover {\n",
              "      background-color: #E2EBFA;\n",
              "      box-shadow: 0px 1px 2px rgba(60, 64, 67, 0.3), 0px 1px 3px 1px rgba(60, 64, 67, 0.15);\n",
              "      fill: #174EA6;\n",
              "    }\n",
              "\n",
              "    .colab-df-buttons div {\n",
              "      margin-bottom: 4px;\n",
              "    }\n",
              "\n",
              "    [theme=dark] .colab-df-convert {\n",
              "      background-color: #3B4455;\n",
              "      fill: #D2E3FC;\n",
              "    }\n",
              "\n",
              "    [theme=dark] .colab-df-convert:hover {\n",
              "      background-color: #434B5C;\n",
              "      box-shadow: 0px 1px 3px 1px rgba(0, 0, 0, 0.15);\n",
              "      filter: drop-shadow(0px 1px 2px rgba(0, 0, 0, 0.3));\n",
              "      fill: #FFFFFF;\n",
              "    }\n",
              "  </style>\n",
              "\n",
              "    <script>\n",
              "      const buttonEl =\n",
              "        document.querySelector('#df-ba819b4c-dc8c-400c-bd33-d6ad7aa4d320 button.colab-df-convert');\n",
              "      buttonEl.style.display =\n",
              "        google.colab.kernel.accessAllowed ? 'block' : 'none';\n",
              "\n",
              "      async function convertToInteractive(key) {\n",
              "        const element = document.querySelector('#df-ba819b4c-dc8c-400c-bd33-d6ad7aa4d320');\n",
              "        const dataTable =\n",
              "          await google.colab.kernel.invokeFunction('convertToInteractive',\n",
              "                                                    [key], {});\n",
              "        if (!dataTable) return;\n",
              "\n",
              "        const docLinkHtml = 'Like what you see? Visit the ' +\n",
              "          '<a target=\"_blank\" href=https://colab.research.google.com/notebooks/data_table.ipynb>data table notebook</a>'\n",
              "          + ' to learn more about interactive tables.';\n",
              "        element.innerHTML = '';\n",
              "        dataTable['output_type'] = 'display_data';\n",
              "        await google.colab.output.renderOutput(dataTable, element);\n",
              "        const docLink = document.createElement('div');\n",
              "        docLink.innerHTML = docLinkHtml;\n",
              "        element.appendChild(docLink);\n",
              "      }\n",
              "    </script>\n",
              "  </div>\n",
              "\n",
              "\n",
              "<div id=\"df-691cc74d-5547-4390-a303-4baabffdf87a\">\n",
              "  <button class=\"colab-df-quickchart\" onclick=\"quickchart('df-691cc74d-5547-4390-a303-4baabffdf87a')\"\n",
              "            title=\"Suggest charts\"\n",
              "            style=\"display:none;\">\n",
              "\n",
              "<svg xmlns=\"http://www.w3.org/2000/svg\" height=\"24px\"viewBox=\"0 0 24 24\"\n",
              "     width=\"24px\">\n",
              "    <g>\n",
              "        <path d=\"M19 3H5c-1.1 0-2 .9-2 2v14c0 1.1.9 2 2 2h14c1.1 0 2-.9 2-2V5c0-1.1-.9-2-2-2zM9 17H7v-7h2v7zm4 0h-2V7h2v10zm4 0h-2v-4h2v4z\"/>\n",
              "    </g>\n",
              "</svg>\n",
              "  </button>\n",
              "\n",
              "<style>\n",
              "  .colab-df-quickchart {\n",
              "      --bg-color: #E8F0FE;\n",
              "      --fill-color: #1967D2;\n",
              "      --hover-bg-color: #E2EBFA;\n",
              "      --hover-fill-color: #174EA6;\n",
              "      --disabled-fill-color: #AAA;\n",
              "      --disabled-bg-color: #DDD;\n",
              "  }\n",
              "\n",
              "  [theme=dark] .colab-df-quickchart {\n",
              "      --bg-color: #3B4455;\n",
              "      --fill-color: #D2E3FC;\n",
              "      --hover-bg-color: #434B5C;\n",
              "      --hover-fill-color: #FFFFFF;\n",
              "      --disabled-bg-color: #3B4455;\n",
              "      --disabled-fill-color: #666;\n",
              "  }\n",
              "\n",
              "  .colab-df-quickchart {\n",
              "    background-color: var(--bg-color);\n",
              "    border: none;\n",
              "    border-radius: 50%;\n",
              "    cursor: pointer;\n",
              "    display: none;\n",
              "    fill: var(--fill-color);\n",
              "    height: 32px;\n",
              "    padding: 0;\n",
              "    width: 32px;\n",
              "  }\n",
              "\n",
              "  .colab-df-quickchart:hover {\n",
              "    background-color: var(--hover-bg-color);\n",
              "    box-shadow: 0 1px 2px rgba(60, 64, 67, 0.3), 0 1px 3px 1px rgba(60, 64, 67, 0.15);\n",
              "    fill: var(--button-hover-fill-color);\n",
              "  }\n",
              "\n",
              "  .colab-df-quickchart-complete:disabled,\n",
              "  .colab-df-quickchart-complete:disabled:hover {\n",
              "    background-color: var(--disabled-bg-color);\n",
              "    fill: var(--disabled-fill-color);\n",
              "    box-shadow: none;\n",
              "  }\n",
              "\n",
              "  .colab-df-spinner {\n",
              "    border: 2px solid var(--fill-color);\n",
              "    border-color: transparent;\n",
              "    border-bottom-color: var(--fill-color);\n",
              "    animation:\n",
              "      spin 1s steps(1) infinite;\n",
              "  }\n",
              "\n",
              "  @keyframes spin {\n",
              "    0% {\n",
              "      border-color: transparent;\n",
              "      border-bottom-color: var(--fill-color);\n",
              "      border-left-color: var(--fill-color);\n",
              "    }\n",
              "    20% {\n",
              "      border-color: transparent;\n",
              "      border-left-color: var(--fill-color);\n",
              "      border-top-color: var(--fill-color);\n",
              "    }\n",
              "    30% {\n",
              "      border-color: transparent;\n",
              "      border-left-color: var(--fill-color);\n",
              "      border-top-color: var(--fill-color);\n",
              "      border-right-color: var(--fill-color);\n",
              "    }\n",
              "    40% {\n",
              "      border-color: transparent;\n",
              "      border-right-color: var(--fill-color);\n",
              "      border-top-color: var(--fill-color);\n",
              "    }\n",
              "    60% {\n",
              "      border-color: transparent;\n",
              "      border-right-color: var(--fill-color);\n",
              "    }\n",
              "    80% {\n",
              "      border-color: transparent;\n",
              "      border-right-color: var(--fill-color);\n",
              "      border-bottom-color: var(--fill-color);\n",
              "    }\n",
              "    90% {\n",
              "      border-color: transparent;\n",
              "      border-bottom-color: var(--fill-color);\n",
              "    }\n",
              "  }\n",
              "</style>\n",
              "\n",
              "  <script>\n",
              "    async function quickchart(key) {\n",
              "      const quickchartButtonEl =\n",
              "        document.querySelector('#' + key + ' button');\n",
              "      quickchartButtonEl.disabled = true;  // To prevent multiple clicks.\n",
              "      quickchartButtonEl.classList.add('colab-df-spinner');\n",
              "      try {\n",
              "        const charts = await google.colab.kernel.invokeFunction(\n",
              "            'suggestCharts', [key], {});\n",
              "      } catch (error) {\n",
              "        console.error('Error during call to suggestCharts:', error);\n",
              "      }\n",
              "      quickchartButtonEl.classList.remove('colab-df-spinner');\n",
              "      quickchartButtonEl.classList.add('colab-df-quickchart-complete');\n",
              "    }\n",
              "    (() => {\n",
              "      let quickchartButtonEl =\n",
              "        document.querySelector('#df-691cc74d-5547-4390-a303-4baabffdf87a button');\n",
              "      quickchartButtonEl.style.display =\n",
              "        google.colab.kernel.accessAllowed ? 'block' : 'none';\n",
              "    })();\n",
              "  </script>\n",
              "</div>\n",
              "\n",
              "    </div>\n",
              "  </div>\n"
            ],
            "application/vnd.google.colaboratory.intrinsic+json": {
              "type": "dataframe",
              "variable_name": "x_test_scaled",
              "summary": "{\n  \"name\": \"x_test_scaled\",\n  \"rows\": 31584,\n  \"fields\": [\n    {\n      \"column\": \"lte_5g_category\",\n      \"properties\": {\n        \"dtype\": \"float32\",\n        \"num_unique_values\": 22,\n        \"samples\": [\n          0.6647810339927673,\n          -0.6521264314651489,\n          1.8170748949050903\n        ],\n        \"semantic_type\": \"\",\n        \"description\": \"\"\n      }\n    },\n    {\n      \"column\": \"packet_loss_rate\",\n      \"properties\": {\n        \"dtype\": \"float32\",\n        \"num_unique_values\": 3,\n        \"samples\": [\n          -0.48293980956077576,\n          -0.7124435901641846,\n          1.584661841392517\n        ],\n        \"semantic_type\": \"\",\n        \"description\": \"\"\n      }\n    },\n    {\n      \"column\": \"packet_delay\",\n      \"properties\": {\n        \"dtype\": \"float32\",\n        \"num_unique_values\": 7,\n        \"samples\": [\n          -0.13628964126110077,\n          -0.9827669262886047,\n          0.33397552371025085\n        ],\n        \"semantic_type\": \"\",\n        \"description\": \"\"\n      }\n    },\n    {\n      \"column\": \"io_t\",\n      \"properties\": {\n        \"dtype\": \"float32\",\n        \"num_unique_values\": 2,\n        \"samples\": [\n          1.0660035610198975,\n          -0.9380831718444824\n        ],\n        \"semantic_type\": \"\",\n        \"description\": \"\"\n      }\n    },\n    {\n      \"column\": \"lte_5g\",\n      \"properties\": {\n        \"dtype\": \"float32\",\n        \"num_unique_values\": 2,\n        \"samples\": [\n          -1.0660035610198975,\n          0.9380831718444824\n        ],\n        \"semantic_type\": \"\",\n        \"description\": \"\"\n      }\n    },\n    {\n      \"column\": \"gbr\",\n      \"properties\": {\n        \"dtype\": \"float32\",\n        \"num_unique_values\": 2,\n        \"samples\": [\n          -0.8896582722663879,\n          1.124027132987976\n        ],\n        \"semantic_type\": \"\",\n        \"description\": \"\"\n      }\n    },\n    {\n      \"column\": \"non_gbr\",\n      \"properties\": {\n        \"dtype\": \"float32\",\n        \"num_unique_values\": 2,\n        \"samples\": [\n          0.8896582722663879,\n          -1.124027132987976\n        ],\n        \"semantic_type\": \"\",\n        \"description\": \"\"\n      }\n    },\n    {\n      \"column\": \"ar_vr_gaming\",\n      \"properties\": {\n        \"dtype\": \"float32\",\n        \"num_unique_values\": 2,\n        \"samples\": [\n          -0.3452051281929016,\n          2.8968284130096436\n        ],\n        \"semantic_type\": \"\",\n        \"description\": \"\"\n      }\n    },\n    {\n      \"column\": \"healthcare\",\n      \"properties\": {\n        \"dtype\": \"float32\",\n        \"num_unique_values\": 2,\n        \"samples\": [\n          3.9907448291778564,\n          -0.2505798041820526\n        ],\n        \"semantic_type\": \"\",\n        \"description\": \"\"\n      }\n    },\n    {\n      \"column\": \"industry_4_0\",\n      \"properties\": {\n        \"dtype\": \"float32\",\n        \"num_unique_values\": 2,\n        \"samples\": [\n          2.73476243019104,\n          -0.36566245555877686\n        ],\n        \"semantic_type\": \"\",\n        \"description\": \"\"\n      }\n    },\n    {\n      \"column\": \"io_t_devices\",\n      \"properties\": {\n        \"dtype\": \"float32\",\n        \"num_unique_values\": 2,\n        \"samples\": [\n          3.988473892211914,\n          -0.2507224678993225\n        ],\n        \"semantic_type\": \"\",\n        \"description\": \"\"\n      }\n    },\n    {\n      \"column\": \"public_safety\",\n      \"properties\": {\n        \"dtype\": \"float32\",\n        \"num_unique_values\": 2,\n        \"samples\": [\n          4.055826187133789,\n          -0.24655890464782715\n        ],\n        \"semantic_type\": \"\",\n        \"description\": \"\"\n      }\n    },\n    {\n      \"column\": \"smart_city_and_home\",\n      \"properties\": {\n        \"dtype\": \"float32\",\n        \"num_unique_values\": 2,\n        \"samples\": [\n          2.756197452545166,\n          -0.3628186881542206\n        ],\n        \"semantic_type\": \"\",\n        \"description\": \"\"\n      }\n    },\n    {\n      \"column\": \"smart_transportation\",\n      \"properties\": {\n        \"dtype\": \"float32\",\n        \"num_unique_values\": 2,\n        \"samples\": [\n          4.019439697265625,\n          -0.24879090487957\n        ],\n        \"semantic_type\": \"\",\n        \"description\": \"\"\n      }\n    },\n    {\n      \"column\": \"smartphone\",\n      \"properties\": {\n        \"dtype\": \"float32\",\n        \"num_unique_values\": 2,\n        \"samples\": [\n          1.1621208190917969,\n          -0.8604958057403564\n        ],\n        \"semantic_type\": \"\",\n        \"description\": \"\"\n      }\n    }\n  ]\n}"
            }
          },
          "metadata": {},
          "execution_count": 58
        }
      ]
    },
    {
      "cell_type": "code",
      "source": [
        "print(x_train_scaled.shape, x_test_scaled.shape)"
      ],
      "metadata": {
        "colab": {
          "base_uri": "https://localhost:8080/",
          "height": 0
        },
        "id": "OG8yxze_a0_D",
        "outputId": "8b94e31a-b901-452f-ffec-e804a6993fc5"
      },
      "execution_count": 59,
      "outputs": [
        {
          "output_type": "stream",
          "name": "stdout",
          "text": [
            "(18373, 15) (31584, 15)\n"
          ]
        }
      ]
    },
    {
      "cell_type": "code",
      "source": [
        "y_train = pd.DataFrame(y_train)\n",
        "y_test = pd.DataFrame(y_test)"
      ],
      "metadata": {
        "id": "jIvGaJ2ka2bq"
      },
      "execution_count": 60,
      "outputs": []
    },
    {
      "cell_type": "code",
      "source": [
        "# Install libraries\n",
        "#!pip install boostaroota\n",
        "#!pip install h2o\n",
        "#!pip install ppscore\n",
        "#!pip install imblearn"
      ],
      "metadata": {
        "id": "eW8xfvAUa4wr"
      },
      "execution_count": 61,
      "outputs": []
    },
    {
      "cell_type": "code",
      "source": [
        "#! pip install optuna\n",
        "#! pip install shap"
      ],
      "metadata": {
        "id": "HRobdcM_a40i"
      },
      "execution_count": 62,
      "outputs": []
    },
    {
      "cell_type": "code",
      "source": [
        "###! pip install catboost"
      ],
      "metadata": {
        "id": "58l_PgtVfwDF"
      },
      "execution_count": 63,
      "outputs": []
    },
    {
      "cell_type": "code",
      "source": [
        "import numpy as np # linear algebra\n",
        "import pandas as pd # data processing, CSV file I/O (e.g. pd.read_csv)\n",
        "import os\n",
        "from ipywidgets import interact, interactive, fixed, interact_manual\n",
        "import ipywidgets as widgets\n",
        "import plotly.express as px\n",
        "import matplotlib.pyplot as plt\n",
        "import plotly.graph_objs as go\n",
        "from tqdm import tqdm\n",
        "from sklearn.metrics import mean_squared_error\n",
        "import tensorflow as tf\n",
        "from sklearn import model_selection as sk_model_selection\n",
        "from xgboost.sklearn import XGBRegressor\n",
        "from sklearn.metrics import mean_squared_error,roc_auc_score,precision_score\n",
        "from sklearn import metrics\n",
        "import optuna\n",
        "from boostaroota import BoostARoota\n",
        "from sklearn.metrics import log_loss\n",
        "from optuna.samplers import TPESampler\n",
        "import functools\n",
        "from functools import partial\n",
        "import xgboost as xgb\n",
        "import joblib\n",
        "from matplotlib_venn import venn2, venn2_circles, venn2_unweighted\n",
        "from matplotlib_venn import venn3, venn3_circles\n",
        "import statsmodels.api as sm\n",
        "import pylab\n",
        "from xgboost import plot_tree\n",
        "import shap\n",
        "from xgboost.sklearn import XGBClassifier\n",
        "from sklearn.metrics import mean_squared_error,roc_auc_score,precision_score\n",
        "from sklearn import metrics\n",
        "from sklearn.metrics import log_loss\n",
        "from sklearn.metrics import confusion_matrix, recall_score, precision_score, precision_recall_curve, auc, f1_score, \\\n",
        "    average_precision_score, accuracy_score, roc_curve\n",
        "from sklearn.preprocessing import LabelEncoder\n",
        "import h2o\n",
        "from h2o.automl import H2OAutoML\n",
        "from catboost import Pool, CatBoostRegressor, cv\n",
        "import tensorflow as tf\n",
        "from tensorflow.keras.utils import plot_model\n",
        "from tensorflow.keras.models import Model, load_model\n",
        "from tensorflow.keras.callbacks import EarlyStopping\n",
        "from tensorflow.keras.callbacks import ModelCheckpoint\n",
        "from tensorflow.keras.callbacks import ReduceLROnPlateau\n",
        "from tensorflow.keras.layers import BatchNormalization\n",
        "from tensorflow.keras.layers import Dense, Dropout, Input\n",
        "from tensorflow.keras.layers import Concatenate, LSTM, GRU\n",
        "from tensorflow.keras.layers import Bidirectional, Multiply\n",
        "import seaborn as sns\n",
        "from sklearn.model_selection import GridSearchCV\n",
        "from sklearn.ensemble import RandomForestClassifier\n",
        "from sklearn.linear_model import LogisticRegression\n",
        "from sklearn.neighbors import KNeighborsClassifier\n",
        "from sklearn.svm import SVC\n",
        "\n",
        "\n",
        "SEED = 42"
      ],
      "metadata": {
        "id": "G1wKOQt7a44I"
      },
      "execution_count": 64,
      "outputs": []
    },
    {
      "cell_type": "code",
      "source": [
        "x_train_scaled.columns"
      ],
      "metadata": {
        "colab": {
          "base_uri": "https://localhost:8080/",
          "height": 0
        },
        "id": "xZ8t9ILpgLXZ",
        "outputId": "1e06e429-087f-4dd3-8fc2-164575ad1e01"
      },
      "execution_count": 65,
      "outputs": [
        {
          "output_type": "execute_result",
          "data": {
            "text/plain": [
              "Index(['lte_5g_category', 'packet_loss_rate', 'packet_delay', 'io_t', 'lte_5g',\n",
              "       'gbr', 'non_gbr', 'ar_vr_gaming', 'healthcare', 'industry_4_0',\n",
              "       'io_t_devices', 'public_safety', 'smart_city_and_home',\n",
              "       'smart_transportation', 'smartphone'],\n",
              "      dtype='object')"
            ]
          },
          "metadata": {},
          "execution_count": 65
        }
      ]
    },
    {
      "cell_type": "code",
      "source": [
        "x_test_scaled.columns"
      ],
      "metadata": {
        "colab": {
          "base_uri": "https://localhost:8080/",
          "height": 0
        },
        "id": "bFwya6SVgy-H",
        "outputId": "2af96feb-21e1-460c-9a08-3e13c938eb6d"
      },
      "execution_count": 66,
      "outputs": [
        {
          "output_type": "execute_result",
          "data": {
            "text/plain": [
              "Index(['lte_5g_category', 'packet_loss_rate', 'packet_delay', 'io_t', 'lte_5g',\n",
              "       'gbr', 'non_gbr', 'ar_vr_gaming', 'healthcare', 'industry_4_0',\n",
              "       'io_t_devices', 'public_safety', 'smart_city_and_home',\n",
              "       'smart_transportation', 'smartphone'],\n",
              "      dtype='object')"
            ]
          },
          "metadata": {},
          "execution_count": 66
        }
      ]
    },
    {
      "cell_type": "code",
      "source": [
        "feature_cols = ['lte_5g_category', 'packet_loss_rate', 'packet_delay', 'io_t', 'lte_5g',\n",
        "       'gbr', 'non_gbr', 'ar_vr_gaming', 'healthcare', 'industry_4_0',\n",
        "       'io_t_devices', 'public_safety', 'smart_city_and_home',\n",
        "       'smart_transportation', 'smartphone']"
      ],
      "metadata": {
        "id": "yUX8gSeQgQ4f"
      },
      "execution_count": 67,
      "outputs": []
    },
    {
      "cell_type": "code",
      "source": [
        "from sklearn.metrics import  precision_recall_curve, roc_auc_score, confusion_matrix, accuracy_score, recall_score, precision_score, f1_score,auc, roc_curve\n",
        "try:\n",
        "    from imblearn.over_sampling import ADASYN\n",
        "except:\n",
        "    pass\n",
        "try:\n",
        "    import ppscore as pps\n",
        "except:\n",
        "    pass\n",
        "\n",
        "from imblearn.over_sampling import ADASYN"
      ],
      "metadata": {
        "id": "XZ_epSxO1-Py"
      },
      "execution_count": 73,
      "outputs": []
    },
    {
      "cell_type": "code",
      "source": [
        "h2o.init(\n",
        "    nthreads=-1,     # number of threads when launching a new H2O server\n",
        "    max_mem_size=12  # in gigabytes\n",
        ")"
      ],
      "metadata": {
        "colab": {
          "base_uri": "https://localhost:8080/",
          "height": 385
        },
        "id": "zpZr7xeYEOgb",
        "outputId": "8c228522-b70f-440d-abf1-6fbd06997d71"
      },
      "execution_count": 74,
      "outputs": [
        {
          "output_type": "stream",
          "name": "stdout",
          "text": [
            "Checking whether there is an H2O instance running at http://localhost:54321. connected.\n"
          ]
        },
        {
          "output_type": "display_data",
          "data": {
            "text/plain": [
              "--------------------------  -----------------------------------------------------------------------------------------\n",
              "H2O_cluster_uptime:         13 mins 48 secs\n",
              "H2O_cluster_timezone:       Etc/UTC\n",
              "H2O_data_parsing_timezone:  UTC\n",
              "H2O_cluster_version:        3.44.0.3\n",
              "H2O_cluster_version_age:    2 months\n",
              "H2O_cluster_name:           H2O_from_python_unknownUser_wqymo5\n",
              "H2O_cluster_total_nodes:    1\n",
              "H2O_cluster_free_memory:    23.99 Gb\n",
              "H2O_cluster_total_cores:    2\n",
              "H2O_cluster_allowed_cores:  2\n",
              "H2O_cluster_status:         locked, healthy\n",
              "H2O_connection_url:         http://localhost:54321\n",
              "H2O_connection_proxy:       {\"http\": null, \"https\": null, \"colab_language_server\": \"/usr/colab/bin/language_service\"}\n",
              "H2O_internal_security:      False\n",
              "Python_version:             3.10.12 final\n",
              "--------------------------  -----------------------------------------------------------------------------------------"
            ],
            "text/html": [
              "\n",
              "<style>\n",
              "\n",
              "#h2o-table-2.h2o-container {\n",
              "  overflow-x: auto;\n",
              "}\n",
              "#h2o-table-2 .h2o-table {\n",
              "  /* width: 100%; */\n",
              "  margin-top: 1em;\n",
              "  margin-bottom: 1em;\n",
              "}\n",
              "#h2o-table-2 .h2o-table caption {\n",
              "  white-space: nowrap;\n",
              "  caption-side: top;\n",
              "  text-align: left;\n",
              "  /* margin-left: 1em; */\n",
              "  margin: 0;\n",
              "  font-size: larger;\n",
              "}\n",
              "#h2o-table-2 .h2o-table thead {\n",
              "  white-space: nowrap; \n",
              "  position: sticky;\n",
              "  top: 0;\n",
              "  box-shadow: 0 -1px inset;\n",
              "}\n",
              "#h2o-table-2 .h2o-table tbody {\n",
              "  overflow: auto;\n",
              "}\n",
              "#h2o-table-2 .h2o-table th,\n",
              "#h2o-table-2 .h2o-table td {\n",
              "  text-align: right;\n",
              "  /* border: 1px solid; */\n",
              "}\n",
              "#h2o-table-2 .h2o-table tr:nth-child(even) {\n",
              "  /* background: #F5F5F5 */\n",
              "}\n",
              "\n",
              "</style>      \n",
              "<div id=\"h2o-table-2\" class=\"h2o-container\">\n",
              "  <table class=\"h2o-table\">\n",
              "    <caption></caption>\n",
              "    <thead></thead>\n",
              "    <tbody><tr><td>H2O_cluster_uptime:</td>\n",
              "<td>13 mins 48 secs</td></tr>\n",
              "<tr><td>H2O_cluster_timezone:</td>\n",
              "<td>Etc/UTC</td></tr>\n",
              "<tr><td>H2O_data_parsing_timezone:</td>\n",
              "<td>UTC</td></tr>\n",
              "<tr><td>H2O_cluster_version:</td>\n",
              "<td>3.44.0.3</td></tr>\n",
              "<tr><td>H2O_cluster_version_age:</td>\n",
              "<td>2 months</td></tr>\n",
              "<tr><td>H2O_cluster_name:</td>\n",
              "<td>H2O_from_python_unknownUser_wqymo5</td></tr>\n",
              "<tr><td>H2O_cluster_total_nodes:</td>\n",
              "<td>1</td></tr>\n",
              "<tr><td>H2O_cluster_free_memory:</td>\n",
              "<td>23.99 Gb</td></tr>\n",
              "<tr><td>H2O_cluster_total_cores:</td>\n",
              "<td>2</td></tr>\n",
              "<tr><td>H2O_cluster_allowed_cores:</td>\n",
              "<td>2</td></tr>\n",
              "<tr><td>H2O_cluster_status:</td>\n",
              "<td>locked, healthy</td></tr>\n",
              "<tr><td>H2O_connection_url:</td>\n",
              "<td>http://localhost:54321</td></tr>\n",
              "<tr><td>H2O_connection_proxy:</td>\n",
              "<td>{\"http\": null, \"https\": null, \"colab_language_server\": \"/usr/colab/bin/language_service\"}</td></tr>\n",
              "<tr><td>H2O_internal_security:</td>\n",
              "<td>False</td></tr>\n",
              "<tr><td>Python_version:</td>\n",
              "<td>3.10.12 final</td></tr></tbody>\n",
              "  </table>\n",
              "</div>\n"
            ]
          },
          "metadata": {}
        }
      ]
    },
    {
      "cell_type": "code",
      "source": [
        "print(train_dataset.shape, test_dataset.shape)"
      ],
      "metadata": {
        "colab": {
          "base_uri": "https://localhost:8080/",
          "height": 0
        },
        "id": "g2_H7wgVEOlV",
        "outputId": "1deba25c-44a8-4faf-971d-89ce93f17691"
      },
      "execution_count": 75,
      "outputs": [
        {
          "output_type": "stream",
          "name": "stdout",
          "text": [
            "(18373, 18) (31584, 18)\n"
          ]
        }
      ]
    },
    {
      "cell_type": "code",
      "source": [
        "h2o_train_df = h2o.H2OFrame(train_dataset)\n",
        "h2o_test_df = h2o.H2OFrame(test_dataset)"
      ],
      "metadata": {
        "colab": {
          "base_uri": "https://localhost:8080/",
          "height": 0
        },
        "id": "VSHOK638EOqV",
        "outputId": "eb9f4dd0-e81e-441b-ec72-c3fd3c73b180"
      },
      "execution_count": 76,
      "outputs": [
        {
          "output_type": "stream",
          "name": "stdout",
          "text": [
            "Parse progress: |████████████████████████████████████████████████████████████████| (done) 100%\n",
            "Parse progress: |████████████████████████████████████████████████████████████████| (done) 100%\n"
          ]
        }
      ]
    },
    {
      "cell_type": "code",
      "source": [
        "aml = H2OAutoML(max_models = 35, seed = 100, exclude_algos = [\"StackedEnsemble\"], verbosity=\"info\", nfolds=0, balance_classes=True, max_after_balance_size=0.3)"
      ],
      "metadata": {
        "id": "4pX6kNsHEOvp"
      },
      "execution_count": 77,
      "outputs": []
    },
    {
      "cell_type": "code",
      "source": [
        "train_dataset.columns"
      ],
      "metadata": {
        "colab": {
          "base_uri": "https://localhost:8080/",
          "height": 0
        },
        "id": "wSV4hTLCErY7",
        "outputId": "eb145878-777a-4c8a-b535-aedfab6a2664"
      },
      "execution_count": 78,
      "outputs": [
        {
          "output_type": "execute_result",
          "data": {
            "text/plain": [
              "Index(['index', 'lte_5g_category', 'time', 'packet_loss_rate', 'packet_delay',\n",
              "       'io_t', 'lte_5g', 'gbr', 'non_gbr', 'ar_vr_gaming', 'healthcare',\n",
              "       'industry_4_0', 'io_t_devices', 'public_safety', 'smart_city_and_home',\n",
              "       'smart_transportation', 'smartphone', 'slice_type'],\n",
              "      dtype='object')"
            ]
          },
          "metadata": {},
          "execution_count": 78
        }
      ]
    },
    {
      "cell_type": "code",
      "source": [
        "features = ['index', 'lte_5g_category', 'time', 'packet_loss_rate', 'packet_delay',\n",
        "       'io_t', 'lte_5g', 'gbr', 'non_gbr', 'ar_vr_gaming', 'healthcare',\n",
        "       'industry_4_0', 'io_t_devices', 'public_safety', 'smart_city_and_home',\n",
        "       'smart_transportation', 'smartphone']\n",
        "output = 'slice_type'"
      ],
      "metadata": {
        "id": "pBBm0waLEt_B"
      },
      "execution_count": 79,
      "outputs": []
    },
    {
      "cell_type": "code",
      "source": [
        "aml = H2OAutoML(max_models = 30, max_runtime_secs=300, seed = 1)\n"
      ],
      "metadata": {
        "id": "TO99IGXZE20-"
      },
      "execution_count": 80,
      "outputs": []
    },
    {
      "cell_type": "code",
      "source": [
        "aml.train(x = features, y = output, training_frame = h2o_train_df)"
      ],
      "metadata": {
        "colab": {
          "base_uri": "https://localhost:8080/",
          "height": 1624
        },
        "id": "wF_HpTvTE3AL",
        "outputId": "456d2c6c-0381-402a-e53c-801f4fb6f350"
      },
      "execution_count": 81,
      "outputs": [
        {
          "output_type": "stream",
          "name": "stdout",
          "text": [
            "AutoML progress: |███████████████████████████████████████████████████████████████| (done) 100%\n"
          ]
        },
        {
          "output_type": "execute_result",
          "data": {
            "text/plain": [
              "Model Details\n",
              "=============\n",
              "H2ORandomForestEstimator : Distributed Random Forest\n",
              "Model Key: DRF_1_AutoML_2_20240221_95129\n",
              "\n",
              "\n",
              "Model Summary: \n",
              "    number_of_trees    number_of_internal_trees    model_size_in_bytes    min_depth    max_depth    mean_depth    min_leaves    max_leaves    mean_leaves\n",
              "--  -----------------  --------------------------  ---------------------  -----------  -----------  ------------  ------------  ------------  -------------\n",
              "    50                 50                          5461                   2            6            2.94          3             7             4.02\n",
              "\n",
              "ModelMetricsRegression: drf\n",
              "** Reported on train data. **\n",
              "\n",
              "MSE: 0.0\n",
              "RMSE: 0.0\n",
              "MAE: 0.0\n",
              "RMSLE: 0.0\n",
              "Mean Residual Deviance: 0.0\n",
              "\n",
              "ModelMetricsRegression: drf\n",
              "** Reported on cross-validation data. **\n",
              "\n",
              "MSE: 0.0\n",
              "RMSE: 0.0\n",
              "MAE: 0.0\n",
              "RMSLE: 0.0\n",
              "Mean Residual Deviance: 0.0\n",
              "\n",
              "Cross-Validation Metrics Summary: \n",
              "                        mean    sd    cv_1_valid    cv_2_valid    cv_3_valid    cv_4_valid    cv_5_valid\n",
              "----------------------  ------  ----  ------------  ------------  ------------  ------------  ------------\n",
              "mae                     0       0     0             0             0             0             0\n",
              "mean_residual_deviance  0       0     0             0             0             0             0\n",
              "mse                     0       0     0             0             0             0             0\n",
              "r2                      1       0     1             1             1             1             1\n",
              "residual_deviance       0       0     0             0             0             0             0\n",
              "rmse                    0       0     0             0             0             0             0\n",
              "rmsle                   0       0     0             0             0             0             0\n",
              "\n",
              "Scoring History: \n",
              "    timestamp            duration    number_of_trees    training_rmse    training_mae    training_deviance\n",
              "--  -------------------  ----------  -----------------  ---------------  --------------  -------------------\n",
              "    2024-02-21 09:52:18  4.930 sec   0                  nan              nan             nan\n",
              "    2024-02-21 09:52:18  4.976 sec   5                  0                0               0\n",
              "    2024-02-21 09:52:18  5.029 sec   10                 0                0               0\n",
              "    2024-02-21 09:52:18  5.072 sec   15                 0                0               0\n",
              "    2024-02-21 09:52:18  5.127 sec   20                 0                0               0\n",
              "    2024-02-21 09:52:18  5.204 sec   25                 0                0               0\n",
              "    2024-02-21 09:52:18  5.267 sec   30                 0                0               0\n",
              "    2024-02-21 09:52:18  5.344 sec   35                 0                0               0\n",
              "    2024-02-21 09:52:18  5.413 sec   40                 0                0               0\n",
              "    2024-02-21 09:52:18  5.483 sec   45                 0                0               0\n",
              "    2024-02-21 09:52:19  5.560 sec   50                 0                0               0\n",
              "\n",
              "Variable Importances: \n",
              "variable              relative_importance    scaled_importance    percentage\n",
              "--------------------  ---------------------  -------------------  ------------\n",
              "lte_5g                174345                 1                    0.328602\n",
              "io_t                  145183                 0.832734             0.273638\n",
              "packet_delay          116861                 0.670287             0.220258\n",
              "smartphone            34613.2                0.198533             0.0652384\n",
              "public_safety         15720.8                0.090171             0.0296304\n",
              "packet_loss_rate      13198.1                0.0757011            0.0248755\n",
              "smart_transportation  7059.24                0.0404901            0.0133051\n",
              "gbr                   5947.3                 0.0341123            0.0112094\n",
              "smart_city_and_home   4591.72                0.026337             0.00865441\n",
              "industry_4_0          4192.84                0.0240491            0.0079026\n",
              "healthcare            3875.07                0.0222265            0.00730367\n",
              "non_gbr               2510.52                0.0143998            0.00473179\n",
              "ar_vr_gaming          2276.32                0.0130565            0.00429038\n",
              "io_t_devices          190.868                0.00109477           0.000359744\n",
              "lte_5g_category       0.342586               1.96499e-06          6.45701e-07\n",
              "index                 0                      0                    0\n",
              "time                  0                      0                    0\n",
              "\n",
              "[tips]\n",
              "Use `model.explain()` to inspect the model.\n",
              "--\n",
              "Use `h2o.display.toggle_user_tips()` to switch on/off this section."
            ],
            "text/html": [
              "<pre style='margin: 1em 0 1em 0;'>Model Details\n",
              "=============\n",
              "H2ORandomForestEstimator : Distributed Random Forest\n",
              "Model Key: DRF_1_AutoML_2_20240221_95129\n",
              "</pre>\n",
              "<div style='margin: 1em 0 1em 0;'>\n",
              "<style>\n",
              "\n",
              "#h2o-table-3.h2o-container {\n",
              "  overflow-x: auto;\n",
              "}\n",
              "#h2o-table-3 .h2o-table {\n",
              "  /* width: 100%; */\n",
              "  margin-top: 1em;\n",
              "  margin-bottom: 1em;\n",
              "}\n",
              "#h2o-table-3 .h2o-table caption {\n",
              "  white-space: nowrap;\n",
              "  caption-side: top;\n",
              "  text-align: left;\n",
              "  /* margin-left: 1em; */\n",
              "  margin: 0;\n",
              "  font-size: larger;\n",
              "}\n",
              "#h2o-table-3 .h2o-table thead {\n",
              "  white-space: nowrap; \n",
              "  position: sticky;\n",
              "  top: 0;\n",
              "  box-shadow: 0 -1px inset;\n",
              "}\n",
              "#h2o-table-3 .h2o-table tbody {\n",
              "  overflow: auto;\n",
              "}\n",
              "#h2o-table-3 .h2o-table th,\n",
              "#h2o-table-3 .h2o-table td {\n",
              "  text-align: right;\n",
              "  /* border: 1px solid; */\n",
              "}\n",
              "#h2o-table-3 .h2o-table tr:nth-child(even) {\n",
              "  /* background: #F5F5F5 */\n",
              "}\n",
              "\n",
              "</style>      \n",
              "<div id=\"h2o-table-3\" class=\"h2o-container\">\n",
              "  <table class=\"h2o-table\">\n",
              "    <caption>Model Summary: </caption>\n",
              "    <thead><tr><th></th>\n",
              "<th>number_of_trees</th>\n",
              "<th>number_of_internal_trees</th>\n",
              "<th>model_size_in_bytes</th>\n",
              "<th>min_depth</th>\n",
              "<th>max_depth</th>\n",
              "<th>mean_depth</th>\n",
              "<th>min_leaves</th>\n",
              "<th>max_leaves</th>\n",
              "<th>mean_leaves</th></tr></thead>\n",
              "    <tbody><tr><td></td>\n",
              "<td>50.0</td>\n",
              "<td>50.0</td>\n",
              "<td>5461.0</td>\n",
              "<td>2.0</td>\n",
              "<td>6.0</td>\n",
              "<td>2.94</td>\n",
              "<td>3.0</td>\n",
              "<td>7.0</td>\n",
              "<td>4.02</td></tr></tbody>\n",
              "  </table>\n",
              "</div>\n",
              "</div>\n",
              "<div style='margin: 1em 0 1em 0;'><pre style='margin: 1em 0 1em 0;'>ModelMetricsRegression: drf\n",
              "** Reported on train data. **\n",
              "\n",
              "MSE: 0.0\n",
              "RMSE: 0.0\n",
              "MAE: 0.0\n",
              "RMSLE: 0.0\n",
              "Mean Residual Deviance: 0.0</pre></div>\n",
              "<div style='margin: 1em 0 1em 0;'><pre style='margin: 1em 0 1em 0;'>ModelMetricsRegression: drf\n",
              "** Reported on cross-validation data. **\n",
              "\n",
              "MSE: 0.0\n",
              "RMSE: 0.0\n",
              "MAE: 0.0\n",
              "RMSLE: 0.0\n",
              "Mean Residual Deviance: 0.0</pre></div>\n",
              "<div style='margin: 1em 0 1em 0;'>\n",
              "<style>\n",
              "\n",
              "#h2o-table-4.h2o-container {\n",
              "  overflow-x: auto;\n",
              "}\n",
              "#h2o-table-4 .h2o-table {\n",
              "  /* width: 100%; */\n",
              "  margin-top: 1em;\n",
              "  margin-bottom: 1em;\n",
              "}\n",
              "#h2o-table-4 .h2o-table caption {\n",
              "  white-space: nowrap;\n",
              "  caption-side: top;\n",
              "  text-align: left;\n",
              "  /* margin-left: 1em; */\n",
              "  margin: 0;\n",
              "  font-size: larger;\n",
              "}\n",
              "#h2o-table-4 .h2o-table thead {\n",
              "  white-space: nowrap; \n",
              "  position: sticky;\n",
              "  top: 0;\n",
              "  box-shadow: 0 -1px inset;\n",
              "}\n",
              "#h2o-table-4 .h2o-table tbody {\n",
              "  overflow: auto;\n",
              "}\n",
              "#h2o-table-4 .h2o-table th,\n",
              "#h2o-table-4 .h2o-table td {\n",
              "  text-align: right;\n",
              "  /* border: 1px solid; */\n",
              "}\n",
              "#h2o-table-4 .h2o-table tr:nth-child(even) {\n",
              "  /* background: #F5F5F5 */\n",
              "}\n",
              "\n",
              "</style>      \n",
              "<div id=\"h2o-table-4\" class=\"h2o-container\">\n",
              "  <table class=\"h2o-table\">\n",
              "    <caption>Cross-Validation Metrics Summary: </caption>\n",
              "    <thead><tr><th></th>\n",
              "<th>mean</th>\n",
              "<th>sd</th>\n",
              "<th>cv_1_valid</th>\n",
              "<th>cv_2_valid</th>\n",
              "<th>cv_3_valid</th>\n",
              "<th>cv_4_valid</th>\n",
              "<th>cv_5_valid</th></tr></thead>\n",
              "    <tbody><tr><td>mae</td>\n",
              "<td>0.0</td>\n",
              "<td>0.0</td>\n",
              "<td>0.0</td>\n",
              "<td>0.0</td>\n",
              "<td>0.0</td>\n",
              "<td>0.0</td>\n",
              "<td>0.0</td></tr>\n",
              "<tr><td>mean_residual_deviance</td>\n",
              "<td>0.0</td>\n",
              "<td>0.0</td>\n",
              "<td>0.0</td>\n",
              "<td>0.0</td>\n",
              "<td>0.0</td>\n",
              "<td>0.0</td>\n",
              "<td>0.0</td></tr>\n",
              "<tr><td>mse</td>\n",
              "<td>0.0</td>\n",
              "<td>0.0</td>\n",
              "<td>0.0</td>\n",
              "<td>0.0</td>\n",
              "<td>0.0</td>\n",
              "<td>0.0</td>\n",
              "<td>0.0</td></tr>\n",
              "<tr><td>r2</td>\n",
              "<td>1.0</td>\n",
              "<td>0.0</td>\n",
              "<td>1.0</td>\n",
              "<td>1.0</td>\n",
              "<td>1.0</td>\n",
              "<td>1.0</td>\n",
              "<td>1.0</td></tr>\n",
              "<tr><td>residual_deviance</td>\n",
              "<td>0.0</td>\n",
              "<td>0.0</td>\n",
              "<td>0.0</td>\n",
              "<td>0.0</td>\n",
              "<td>0.0</td>\n",
              "<td>0.0</td>\n",
              "<td>0.0</td></tr>\n",
              "<tr><td>rmse</td>\n",
              "<td>0.0</td>\n",
              "<td>0.0</td>\n",
              "<td>0.0</td>\n",
              "<td>0.0</td>\n",
              "<td>0.0</td>\n",
              "<td>0.0</td>\n",
              "<td>0.0</td></tr>\n",
              "<tr><td>rmsle</td>\n",
              "<td>0.0</td>\n",
              "<td>0.0</td>\n",
              "<td>0.0</td>\n",
              "<td>0.0</td>\n",
              "<td>0.0</td>\n",
              "<td>0.0</td>\n",
              "<td>0.0</td></tr></tbody>\n",
              "  </table>\n",
              "</div>\n",
              "</div>\n",
              "<div style='margin: 1em 0 1em 0;'>\n",
              "<style>\n",
              "\n",
              "#h2o-table-5.h2o-container {\n",
              "  overflow-x: auto;\n",
              "}\n",
              "#h2o-table-5 .h2o-table {\n",
              "  /* width: 100%; */\n",
              "  margin-top: 1em;\n",
              "  margin-bottom: 1em;\n",
              "}\n",
              "#h2o-table-5 .h2o-table caption {\n",
              "  white-space: nowrap;\n",
              "  caption-side: top;\n",
              "  text-align: left;\n",
              "  /* margin-left: 1em; */\n",
              "  margin: 0;\n",
              "  font-size: larger;\n",
              "}\n",
              "#h2o-table-5 .h2o-table thead {\n",
              "  white-space: nowrap; \n",
              "  position: sticky;\n",
              "  top: 0;\n",
              "  box-shadow: 0 -1px inset;\n",
              "}\n",
              "#h2o-table-5 .h2o-table tbody {\n",
              "  overflow: auto;\n",
              "}\n",
              "#h2o-table-5 .h2o-table th,\n",
              "#h2o-table-5 .h2o-table td {\n",
              "  text-align: right;\n",
              "  /* border: 1px solid; */\n",
              "}\n",
              "#h2o-table-5 .h2o-table tr:nth-child(even) {\n",
              "  /* background: #F5F5F5 */\n",
              "}\n",
              "\n",
              "</style>      \n",
              "<div id=\"h2o-table-5\" class=\"h2o-container\">\n",
              "  <table class=\"h2o-table\">\n",
              "    <caption>Scoring History: </caption>\n",
              "    <thead><tr><th></th>\n",
              "<th>timestamp</th>\n",
              "<th>duration</th>\n",
              "<th>number_of_trees</th>\n",
              "<th>training_rmse</th>\n",
              "<th>training_mae</th>\n",
              "<th>training_deviance</th></tr></thead>\n",
              "    <tbody><tr><td></td>\n",
              "<td>2024-02-21 09:52:18</td>\n",
              "<td> 4.930 sec</td>\n",
              "<td>0.0</td>\n",
              "<td>nan</td>\n",
              "<td>nan</td>\n",
              "<td>nan</td></tr>\n",
              "<tr><td></td>\n",
              "<td>2024-02-21 09:52:18</td>\n",
              "<td> 4.976 sec</td>\n",
              "<td>5.0</td>\n",
              "<td>0.0</td>\n",
              "<td>0.0</td>\n",
              "<td>0.0</td></tr>\n",
              "<tr><td></td>\n",
              "<td>2024-02-21 09:52:18</td>\n",
              "<td> 5.029 sec</td>\n",
              "<td>10.0</td>\n",
              "<td>0.0</td>\n",
              "<td>0.0</td>\n",
              "<td>0.0</td></tr>\n",
              "<tr><td></td>\n",
              "<td>2024-02-21 09:52:18</td>\n",
              "<td> 5.072 sec</td>\n",
              "<td>15.0</td>\n",
              "<td>0.0</td>\n",
              "<td>0.0</td>\n",
              "<td>0.0</td></tr>\n",
              "<tr><td></td>\n",
              "<td>2024-02-21 09:52:18</td>\n",
              "<td> 5.127 sec</td>\n",
              "<td>20.0</td>\n",
              "<td>0.0</td>\n",
              "<td>0.0</td>\n",
              "<td>0.0</td></tr>\n",
              "<tr><td></td>\n",
              "<td>2024-02-21 09:52:18</td>\n",
              "<td> 5.204 sec</td>\n",
              "<td>25.0</td>\n",
              "<td>0.0</td>\n",
              "<td>0.0</td>\n",
              "<td>0.0</td></tr>\n",
              "<tr><td></td>\n",
              "<td>2024-02-21 09:52:18</td>\n",
              "<td> 5.267 sec</td>\n",
              "<td>30.0</td>\n",
              "<td>0.0</td>\n",
              "<td>0.0</td>\n",
              "<td>0.0</td></tr>\n",
              "<tr><td></td>\n",
              "<td>2024-02-21 09:52:18</td>\n",
              "<td> 5.344 sec</td>\n",
              "<td>35.0</td>\n",
              "<td>0.0</td>\n",
              "<td>0.0</td>\n",
              "<td>0.0</td></tr>\n",
              "<tr><td></td>\n",
              "<td>2024-02-21 09:52:18</td>\n",
              "<td> 5.413 sec</td>\n",
              "<td>40.0</td>\n",
              "<td>0.0</td>\n",
              "<td>0.0</td>\n",
              "<td>0.0</td></tr>\n",
              "<tr><td></td>\n",
              "<td>2024-02-21 09:52:18</td>\n",
              "<td> 5.483 sec</td>\n",
              "<td>45.0</td>\n",
              "<td>0.0</td>\n",
              "<td>0.0</td>\n",
              "<td>0.0</td></tr>\n",
              "<tr><td></td>\n",
              "<td>2024-02-21 09:52:19</td>\n",
              "<td> 5.560 sec</td>\n",
              "<td>50.0</td>\n",
              "<td>0.0</td>\n",
              "<td>0.0</td>\n",
              "<td>0.0</td></tr></tbody>\n",
              "  </table>\n",
              "</div>\n",
              "</div>\n",
              "<div style='margin: 1em 0 1em 0;'>\n",
              "<style>\n",
              "\n",
              "#h2o-table-6.h2o-container {\n",
              "  overflow-x: auto;\n",
              "}\n",
              "#h2o-table-6 .h2o-table {\n",
              "  /* width: 100%; */\n",
              "  margin-top: 1em;\n",
              "  margin-bottom: 1em;\n",
              "}\n",
              "#h2o-table-6 .h2o-table caption {\n",
              "  white-space: nowrap;\n",
              "  caption-side: top;\n",
              "  text-align: left;\n",
              "  /* margin-left: 1em; */\n",
              "  margin: 0;\n",
              "  font-size: larger;\n",
              "}\n",
              "#h2o-table-6 .h2o-table thead {\n",
              "  white-space: nowrap; \n",
              "  position: sticky;\n",
              "  top: 0;\n",
              "  box-shadow: 0 -1px inset;\n",
              "}\n",
              "#h2o-table-6 .h2o-table tbody {\n",
              "  overflow: auto;\n",
              "}\n",
              "#h2o-table-6 .h2o-table th,\n",
              "#h2o-table-6 .h2o-table td {\n",
              "  text-align: right;\n",
              "  /* border: 1px solid; */\n",
              "}\n",
              "#h2o-table-6 .h2o-table tr:nth-child(even) {\n",
              "  /* background: #F5F5F5 */\n",
              "}\n",
              "\n",
              "</style>      \n",
              "<div id=\"h2o-table-6\" class=\"h2o-container\">\n",
              "  <table class=\"h2o-table\">\n",
              "    <caption>Variable Importances: </caption>\n",
              "    <thead><tr><th>variable</th>\n",
              "<th>relative_importance</th>\n",
              "<th>scaled_importance</th>\n",
              "<th>percentage</th></tr></thead>\n",
              "    <tbody><tr><td>lte_5g</td>\n",
              "<td>174344.5937500</td>\n",
              "<td>1.0</td>\n",
              "<td>0.3286021</td></tr>\n",
              "<tr><td>io_t</td>\n",
              "<td>145182.75</td>\n",
              "<td>0.8327345</td>\n",
              "<td>0.2736383</td></tr>\n",
              "<tr><td>packet_delay</td>\n",
              "<td>116860.8515625</td>\n",
              "<td>0.6702866</td>\n",
              "<td>0.2202576</td></tr>\n",
              "<tr><td>smartphone</td>\n",
              "<td>34613.1914062</td>\n",
              "<td>0.1985332</td>\n",
              "<td>0.0652384</td></tr>\n",
              "<tr><td>public_safety</td>\n",
              "<td>15720.8300781</td>\n",
              "<td>0.0901710</td>\n",
              "<td>0.0296304</td></tr>\n",
              "<tr><td>packet_loss_rate</td>\n",
              "<td>13198.0820312</td>\n",
              "<td>0.0757011</td>\n",
              "<td>0.0248755</td></tr>\n",
              "<tr><td>smart_transportation</td>\n",
              "<td>7059.2353516</td>\n",
              "<td>0.0404901</td>\n",
              "<td>0.0133051</td></tr>\n",
              "<tr><td>gbr</td>\n",
              "<td>5947.2958984</td>\n",
              "<td>0.0341123</td>\n",
              "<td>0.0112094</td></tr>\n",
              "<tr><td>smart_city_and_home</td>\n",
              "<td>4591.7216797</td>\n",
              "<td>0.0263370</td>\n",
              "<td>0.0086544</td></tr>\n",
              "<tr><td>industry_4_0</td>\n",
              "<td>4192.8383789</td>\n",
              "<td>0.0240491</td>\n",
              "<td>0.0079026</td></tr>\n",
              "<tr><td>healthcare</td>\n",
              "<td>3875.0671387</td>\n",
              "<td>0.0222265</td>\n",
              "<td>0.0073037</td></tr>\n",
              "<tr><td>non_gbr</td>\n",
              "<td>2510.5192871</td>\n",
              "<td>0.0143998</td>\n",
              "<td>0.0047318</td></tr>\n",
              "<tr><td>ar_vr_gaming</td>\n",
              "<td>2276.3232422</td>\n",
              "<td>0.0130565</td>\n",
              "<td>0.0042904</td></tr>\n",
              "<tr><td>io_t_devices</td>\n",
              "<td>190.8676453</td>\n",
              "<td>0.0010948</td>\n",
              "<td>0.0003597</td></tr>\n",
              "<tr><td>lte_5g_category</td>\n",
              "<td>0.3425862</td>\n",
              "<td>0.0000020</td>\n",
              "<td>0.0000006</td></tr>\n",
              "<tr><td>index</td>\n",
              "<td>0.0</td>\n",
              "<td>0.0</td>\n",
              "<td>0.0</td></tr>\n",
              "<tr><td>time</td>\n",
              "<td>0.0</td>\n",
              "<td>0.0</td>\n",
              "<td>0.0</td></tr></tbody>\n",
              "  </table>\n",
              "</div>\n",
              "</div><pre style=\"font-size: smaller; margin: 1em 0 0 0;\">\n",
              "\n",
              "[tips]\n",
              "Use `model.explain()` to inspect the model.\n",
              "--\n",
              "Use `h2o.display.toggle_user_tips()` to switch on/off this section.</pre>"
            ]
          },
          "metadata": {},
          "execution_count": 81
        }
      ]
    },
    {
      "cell_type": "markdown",
      "source": [
        "#### Model leaderboard"
      ],
      "metadata": {
        "id": "G8QMjnZAFCne"
      }
    },
    {
      "cell_type": "code",
      "source": [
        "lb = aml.leaderboard\n",
        "lb.head(rows=lb.nrows)"
      ],
      "metadata": {
        "colab": {
          "base_uri": "https://localhost:8080/",
          "height": 765
        },
        "id": "6tAyLyrqE3FW",
        "outputId": "3f50eff3-8eea-4ad0-9fd7-c62f1b907e6a"
      },
      "execution_count": 82,
      "outputs": [
        {
          "output_type": "execute_result",
          "data": {
            "text/plain": [
              "model_id                                               rmse          mse          mae        rmsle    mean_residual_deviance\n",
              "----------------------------------------------  -----------  -----------  -----------  -----------  ------------------------\n",
              "DRF_1_AutoML_2_20240221_95129                   0            0            0            0                         0\n",
              "GBM_5_AutoML_2_20240221_95129                   7.54682e-07  5.69545e-13  6.21247e-07  2.70514e-07               5.69545e-13\n",
              "GBM_grid_1_AutoML_2_20240221_95129_model_2      7.54682e-07  5.69545e-13  6.21247e-07  2.70514e-07               5.69545e-13\n",
              "GBM_1_AutoML_2_20240221_95129                   7.54682e-07  5.69545e-13  6.21247e-07  2.70514e-07               5.69545e-13\n",
              "GBM_4_AutoML_2_20240221_95129                   7.54682e-07  5.69545e-13  6.21247e-07  2.70514e-07               5.69545e-13\n",
              "GBM_2_AutoML_2_20240221_95129                   7.54682e-07  5.69545e-13  6.21247e-07  2.70514e-07               5.69545e-13\n",
              "XGBoost_grid_1_AutoML_2_20240221_95129_model_3  8.13005e-06  6.60978e-11  6.70222e-06  2.79717e-06               6.60978e-11\n",
              "XGBoost_grid_1_AutoML_2_20240221_95129_model_4  8.13615e-06  6.6197e-11   6.69312e-06  2.79782e-06               6.6197e-11\n",
              "XGBoost_grid_1_AutoML_2_20240221_95129_model_6  1.08735e-05  1.18233e-10  9.58954e-06  3.66615e-06               1.18233e-10\n",
              "XGBoost_3_AutoML_2_20240221_95129               1.08934e-05  1.18666e-10  8.55583e-06  3.52064e-06               1.18666e-10\n",
              "XGBoost_1_AutoML_2_20240221_95129               1.15087e-05  1.32449e-10  9.95931e-06  4.14199e-06               1.32449e-10\n",
              "XGBoost_2_AutoML_2_20240221_95129               1.17968e-05  1.39164e-10  1.04852e-05  4.23955e-06               1.39164e-10\n",
              "XGBoost_grid_1_AutoML_2_20240221_95129_model_7  2.10875e-05  4.44682e-10  1.67334e-05  7.28113e-06               4.44682e-10\n",
              "XGBoost_grid_1_AutoML_2_20240221_95129_model_2  2.97055e-05  8.82416e-10  2.08393e-05  8.4723e-06                8.82416e-10\n",
              "GBM_grid_1_AutoML_2_20240221_95129_model_3      0.000186748  3.4875e-08   1.55002e-05  5.46401e-05               3.4875e-08\n",
              "GBM_3_AutoML_2_20240221_95129                   0.000256323  6.57015e-08  4.43435e-05  7.2183e-05                6.57015e-08\n",
              "XGBoost_grid_1_AutoML_2_20240221_95129_model_5  0.00177365   3.14584e-06  0.000292366  0.000488191               3.14584e-06\n",
              "XGBoost_grid_1_AutoML_2_20240221_95129_model_1  0.00178665   3.19212e-06  0.00063747   0.000539846               3.19212e-06\n",
              "DeepLearning_1_AutoML_2_20240221_95129          0.00648694   4.20804e-05  0.00525655   0.00239027                4.20804e-05\n",
              "GBM_grid_1_AutoML_2_20240221_95129_model_1      0.0132094    0.000174488  0.0097893    0.00510195                0.000174488\n",
              "GLM_1_AutoML_2_20240221_95129                   0.150152     0.0225456    0.0957561    0.0495642                 0.0225456\n",
              "XRT_1_AutoML_2_20240221_95129                   0.323965     0.104953     0.278212     0.105518                  0.104953\n",
              "[22 rows x 6 columns]\n"
            ],
            "text/html": [
              "<table class='dataframe'>\n",
              "<thead>\n",
              "<tr><th>model_id                                      </th><th style=\"text-align: right;\">       rmse</th><th style=\"text-align: right;\">        mse</th><th style=\"text-align: right;\">        mae</th><th style=\"text-align: right;\">      rmsle</th><th style=\"text-align: right;\">  mean_residual_deviance</th></tr>\n",
              "</thead>\n",
              "<tbody>\n",
              "<tr><td>DRF_1_AutoML_2_20240221_95129                 </td><td style=\"text-align: right;\">0          </td><td style=\"text-align: right;\">0          </td><td style=\"text-align: right;\">0          </td><td style=\"text-align: right;\">0          </td><td style=\"text-align: right;\">             0          </td></tr>\n",
              "<tr><td>GBM_5_AutoML_2_20240221_95129                 </td><td style=\"text-align: right;\">7.54682e-07</td><td style=\"text-align: right;\">5.69545e-13</td><td style=\"text-align: right;\">6.21247e-07</td><td style=\"text-align: right;\">2.70514e-07</td><td style=\"text-align: right;\">             5.69545e-13</td></tr>\n",
              "<tr><td>GBM_grid_1_AutoML_2_20240221_95129_model_2    </td><td style=\"text-align: right;\">7.54682e-07</td><td style=\"text-align: right;\">5.69545e-13</td><td style=\"text-align: right;\">6.21247e-07</td><td style=\"text-align: right;\">2.70514e-07</td><td style=\"text-align: right;\">             5.69545e-13</td></tr>\n",
              "<tr><td>GBM_1_AutoML_2_20240221_95129                 </td><td style=\"text-align: right;\">7.54682e-07</td><td style=\"text-align: right;\">5.69545e-13</td><td style=\"text-align: right;\">6.21247e-07</td><td style=\"text-align: right;\">2.70514e-07</td><td style=\"text-align: right;\">             5.69545e-13</td></tr>\n",
              "<tr><td>GBM_4_AutoML_2_20240221_95129                 </td><td style=\"text-align: right;\">7.54682e-07</td><td style=\"text-align: right;\">5.69545e-13</td><td style=\"text-align: right;\">6.21247e-07</td><td style=\"text-align: right;\">2.70514e-07</td><td style=\"text-align: right;\">             5.69545e-13</td></tr>\n",
              "<tr><td>GBM_2_AutoML_2_20240221_95129                 </td><td style=\"text-align: right;\">7.54682e-07</td><td style=\"text-align: right;\">5.69545e-13</td><td style=\"text-align: right;\">6.21247e-07</td><td style=\"text-align: right;\">2.70514e-07</td><td style=\"text-align: right;\">             5.69545e-13</td></tr>\n",
              "<tr><td>XGBoost_grid_1_AutoML_2_20240221_95129_model_3</td><td style=\"text-align: right;\">8.13005e-06</td><td style=\"text-align: right;\">6.60978e-11</td><td style=\"text-align: right;\">6.70222e-06</td><td style=\"text-align: right;\">2.79717e-06</td><td style=\"text-align: right;\">             6.60978e-11</td></tr>\n",
              "<tr><td>XGBoost_grid_1_AutoML_2_20240221_95129_model_4</td><td style=\"text-align: right;\">8.13615e-06</td><td style=\"text-align: right;\">6.6197e-11 </td><td style=\"text-align: right;\">6.69312e-06</td><td style=\"text-align: right;\">2.79782e-06</td><td style=\"text-align: right;\">             6.6197e-11 </td></tr>\n",
              "<tr><td>XGBoost_grid_1_AutoML_2_20240221_95129_model_6</td><td style=\"text-align: right;\">1.08735e-05</td><td style=\"text-align: right;\">1.18233e-10</td><td style=\"text-align: right;\">9.58954e-06</td><td style=\"text-align: right;\">3.66615e-06</td><td style=\"text-align: right;\">             1.18233e-10</td></tr>\n",
              "<tr><td>XGBoost_3_AutoML_2_20240221_95129             </td><td style=\"text-align: right;\">1.08934e-05</td><td style=\"text-align: right;\">1.18666e-10</td><td style=\"text-align: right;\">8.55583e-06</td><td style=\"text-align: right;\">3.52064e-06</td><td style=\"text-align: right;\">             1.18666e-10</td></tr>\n",
              "<tr><td>XGBoost_1_AutoML_2_20240221_95129             </td><td style=\"text-align: right;\">1.15087e-05</td><td style=\"text-align: right;\">1.32449e-10</td><td style=\"text-align: right;\">9.95931e-06</td><td style=\"text-align: right;\">4.14199e-06</td><td style=\"text-align: right;\">             1.32449e-10</td></tr>\n",
              "<tr><td>XGBoost_2_AutoML_2_20240221_95129             </td><td style=\"text-align: right;\">1.17968e-05</td><td style=\"text-align: right;\">1.39164e-10</td><td style=\"text-align: right;\">1.04852e-05</td><td style=\"text-align: right;\">4.23955e-06</td><td style=\"text-align: right;\">             1.39164e-10</td></tr>\n",
              "<tr><td>XGBoost_grid_1_AutoML_2_20240221_95129_model_7</td><td style=\"text-align: right;\">2.10875e-05</td><td style=\"text-align: right;\">4.44682e-10</td><td style=\"text-align: right;\">1.67334e-05</td><td style=\"text-align: right;\">7.28113e-06</td><td style=\"text-align: right;\">             4.44682e-10</td></tr>\n",
              "<tr><td>XGBoost_grid_1_AutoML_2_20240221_95129_model_2</td><td style=\"text-align: right;\">2.97055e-05</td><td style=\"text-align: right;\">8.82416e-10</td><td style=\"text-align: right;\">2.08393e-05</td><td style=\"text-align: right;\">8.4723e-06 </td><td style=\"text-align: right;\">             8.82416e-10</td></tr>\n",
              "<tr><td>GBM_grid_1_AutoML_2_20240221_95129_model_3    </td><td style=\"text-align: right;\">0.000186748</td><td style=\"text-align: right;\">3.4875e-08 </td><td style=\"text-align: right;\">1.55002e-05</td><td style=\"text-align: right;\">5.46401e-05</td><td style=\"text-align: right;\">             3.4875e-08 </td></tr>\n",
              "<tr><td>GBM_3_AutoML_2_20240221_95129                 </td><td style=\"text-align: right;\">0.000256323</td><td style=\"text-align: right;\">6.57015e-08</td><td style=\"text-align: right;\">4.43435e-05</td><td style=\"text-align: right;\">7.2183e-05 </td><td style=\"text-align: right;\">             6.57015e-08</td></tr>\n",
              "<tr><td>XGBoost_grid_1_AutoML_2_20240221_95129_model_5</td><td style=\"text-align: right;\">0.00177365 </td><td style=\"text-align: right;\">3.14584e-06</td><td style=\"text-align: right;\">0.000292366</td><td style=\"text-align: right;\">0.000488191</td><td style=\"text-align: right;\">             3.14584e-06</td></tr>\n",
              "<tr><td>XGBoost_grid_1_AutoML_2_20240221_95129_model_1</td><td style=\"text-align: right;\">0.00178665 </td><td style=\"text-align: right;\">3.19212e-06</td><td style=\"text-align: right;\">0.00063747 </td><td style=\"text-align: right;\">0.000539846</td><td style=\"text-align: right;\">             3.19212e-06</td></tr>\n",
              "<tr><td>DeepLearning_1_AutoML_2_20240221_95129        </td><td style=\"text-align: right;\">0.00648694 </td><td style=\"text-align: right;\">4.20804e-05</td><td style=\"text-align: right;\">0.00525655 </td><td style=\"text-align: right;\">0.00239027 </td><td style=\"text-align: right;\">             4.20804e-05</td></tr>\n",
              "<tr><td>GBM_grid_1_AutoML_2_20240221_95129_model_1    </td><td style=\"text-align: right;\">0.0132094  </td><td style=\"text-align: right;\">0.000174488</td><td style=\"text-align: right;\">0.0097893  </td><td style=\"text-align: right;\">0.00510195 </td><td style=\"text-align: right;\">             0.000174488</td></tr>\n",
              "<tr><td>GLM_1_AutoML_2_20240221_95129                 </td><td style=\"text-align: right;\">0.150152   </td><td style=\"text-align: right;\">0.0225456  </td><td style=\"text-align: right;\">0.0957561  </td><td style=\"text-align: right;\">0.0495642  </td><td style=\"text-align: right;\">             0.0225456  </td></tr>\n",
              "<tr><td>XRT_1_AutoML_2_20240221_95129                 </td><td style=\"text-align: right;\">0.323965   </td><td style=\"text-align: right;\">0.104953   </td><td style=\"text-align: right;\">0.278212   </td><td style=\"text-align: right;\">0.105518   </td><td style=\"text-align: right;\">             0.104953   </td></tr>\n",
              "</tbody>\n",
              "</table><pre style='font-size: smaller; margin-bottom: 1em;'>[22 rows x 6 columns]</pre>"
            ]
          },
          "metadata": {},
          "execution_count": 82
        }
      ]
    },
    {
      "cell_type": "code",
      "source": [
        "preds = aml.predict(h2o_test_df)"
      ],
      "metadata": {
        "colab": {
          "base_uri": "https://localhost:8080/",
          "height": 0
        },
        "id": "xnWcMsl8FEyX",
        "outputId": "2af4b8cc-5ded-4d9d-fce9-9fef39b57098"
      },
      "execution_count": 83,
      "outputs": [
        {
          "output_type": "stream",
          "name": "stdout",
          "text": [
            "drf prediction progress: |███████████████████████████████████████████████████████| (done) 100%\n"
          ]
        }
      ]
    },
    {
      "cell_type": "code",
      "source": [
        "preds.columns"
      ],
      "metadata": {
        "colab": {
          "base_uri": "https://localhost:8080/",
          "height": 0
        },
        "id": "K62YepG1FE2_",
        "outputId": "5c54fb8d-9ba9-463e-8ac1-8630ec0903f0"
      },
      "execution_count": 84,
      "outputs": [
        {
          "output_type": "execute_result",
          "data": {
            "text/plain": [
              "['predict']"
            ]
          },
          "metadata": {},
          "execution_count": 84
        }
      ]
    },
    {
      "cell_type": "code",
      "source": [
        "preds.head(2)"
      ],
      "metadata": {
        "colab": {
          "base_uri": "https://localhost:8080/",
          "height": 138
        },
        "id": "gHYchUFQHDeD",
        "outputId": "df1d81c5-13ee-4805-a2e9-a37eb7834c86"
      },
      "execution_count": 86,
      "outputs": [
        {
          "output_type": "execute_result",
          "data": {
            "text/plain": [
              "  predict\n",
              "---------\n",
              "        1\n",
              "        3\n",
              "[2 rows x 1 column]\n"
            ],
            "text/html": [
              "<table class='dataframe'>\n",
              "<thead>\n",
              "<tr><th style=\"text-align: right;\">  predict</th></tr>\n",
              "</thead>\n",
              "<tbody>\n",
              "<tr><td style=\"text-align: right;\">        1</td></tr>\n",
              "<tr><td style=\"text-align: right;\">        3</td></tr>\n",
              "</tbody>\n",
              "</table><pre style='font-size: smaller; margin-bottom: 1em;'>[2 rows x 1 column]</pre>"
            ]
          },
          "metadata": {},
          "execution_count": 86
        }
      ]
    },
    {
      "cell_type": "code",
      "source": [
        "print(test_dataset.shape)"
      ],
      "metadata": {
        "colab": {
          "base_uri": "https://localhost:8080/",
          "height": 0
        },
        "id": "2Rmcrj-2FE8W",
        "outputId": "cccca4e0-0daa-471b-87fa-8d9f5dc4ca61"
      },
      "execution_count": 87,
      "outputs": [
        {
          "output_type": "stream",
          "name": "stdout",
          "text": [
            "(31584, 18)\n"
          ]
        }
      ]
    },
    {
      "cell_type": "code",
      "source": [
        "test_dataset.to_csv(\"/content/test.csv\")"
      ],
      "metadata": {
        "id": "kJWIUGYfHWue"
      },
      "execution_count": 88,
      "outputs": []
    },
    {
      "cell_type": "code",
      "source": [
        "test2 = pd.read_csv(\"/content/test.csv\")"
      ],
      "metadata": {
        "id": "eKXoXLt8HdcG"
      },
      "execution_count": 89,
      "outputs": []
    },
    {
      "cell_type": "code",
      "source": [
        "sub = preds[0].as_data_frame()\n",
        "test2['Prediction_Value'] = sub\n",
        "test2.to_csv('h20.ai-automl.csv',index = False)"
      ],
      "metadata": {
        "colab": {
          "base_uri": "https://localhost:8080/",
          "height": 0
        },
        "id": "lQW3eobsFUiw",
        "outputId": "7d4b42c3-770e-4b8b-e47c-a51983aaba6c"
      },
      "execution_count": 90,
      "outputs": [
        {
          "output_type": "stream",
          "name": "stdout",
          "text": [
            "Export File progress: |██████████████████████████████████████████████████████████| (done) 100%\n"
          ]
        }
      ]
    },
    {
      "cell_type": "code",
      "source": [
        "test2.columns"
      ],
      "metadata": {
        "colab": {
          "base_uri": "https://localhost:8080/",
          "height": 0
        },
        "id": "p8oGdhvPHkzI",
        "outputId": "b6d5c030-72f5-4757-d78c-f067d88e22b9"
      },
      "execution_count": 91,
      "outputs": [
        {
          "output_type": "execute_result",
          "data": {
            "text/plain": [
              "Index(['Unnamed: 0', 'index', 'lte_5g_category', 'time', 'packet_loss_rate',\n",
              "       'packet_delay', 'io_t', 'lte_5g', 'gbr', 'non_gbr', 'ar_vr_gaming',\n",
              "       'healthcare', 'industry_4_0', 'io_t_devices', 'public_safety',\n",
              "       'smart_city_and_home', 'smart_transportation', 'smartphone',\n",
              "       'slice_type', 'Prediction_Value'],\n",
              "      dtype='object')"
            ]
          },
          "metadata": {},
          "execution_count": 91
        }
      ]
    },
    {
      "cell_type": "code",
      "source": [
        "test2[\"Prediction_Value_int\"] = test2.Prediction_Value.apply(np.round)"
      ],
      "metadata": {
        "id": "qu27d2ntHnCv"
      },
      "execution_count": 93,
      "outputs": []
    },
    {
      "cell_type": "code",
      "source": [
        "test2[\"Prediction_Value_int\"] = test2[\"Prediction_Value_int\"].astype(int)"
      ],
      "metadata": {
        "id": "fnuaDuriHsQw"
      },
      "execution_count": 94,
      "outputs": []
    },
    {
      "cell_type": "code",
      "source": [
        "print(test2[\"Prediction_Value_int\"].value_counts())"
      ],
      "metadata": {
        "colab": {
          "base_uri": "https://localhost:8080/",
          "height": 0
        },
        "id": "jJnvBodWH0Sh",
        "outputId": "1c5e736b-a81a-47bf-f308-b7e2d708693b"
      },
      "execution_count": 96,
      "outputs": [
        {
          "output_type": "stream",
          "name": "stdout",
          "text": [
            "1    16800\n",
            "3     7392\n",
            "2     7392\n",
            "Name: Prediction_Value_int, dtype: int64\n"
          ]
        }
      ]
    },
    {
      "cell_type": "code",
      "source": [
        "labels = test2['Prediction_Value_int'].astype('category').cat.categories.tolist()\n",
        "counts = test2['Prediction_Value_int'].value_counts()\n",
        "sizes = [counts[var_cat] for var_cat in labels]\n",
        "fig1, ax1 = plt.subplots()\n",
        "plt.title(\"Categorical Pedictions\")\n",
        "ax1.pie(sizes, labels=labels, autopct='%1.1f%%', shadow=True) #autopct is show the % on plot\n",
        "ax1.axis('equal')\n",
        "plt.show()\n"
      ],
      "metadata": {
        "colab": {
          "base_uri": "https://localhost:8080/",
          "height": 428
        },
        "id": "9J95WjdYH3z1",
        "outputId": "25fd3b45-d3c6-4303-d9f9-b391dff0e123"
      },
      "execution_count": 97,
      "outputs": [
        {
          "output_type": "display_data",
          "data": {
            "text/plain": [
              "<Figure size 640x480 with 1 Axes>"
            ],
            "image/png": "[encoded data removed]"
          },
          "metadata": {}
        }
      ]
    },
    {
      "cell_type": "code",
      "source": [
        "from sklearn import metrics"
      ],
      "metadata": {
        "id": "cFUWOxsAJSh6"
      },
      "execution_count": 98,
      "outputs": []
    },
    {
      "cell_type": "code",
      "source": [
        "hamming_loss = metrics.hamming_loss(y_test, test2[\"Prediction_Value_int\"])\n",
        "hamming_loss"
      ],
      "metadata": {
        "colab": {
          "base_uri": "https://localhost:8080/",
          "height": 0
        },
        "id": "RmlVYBXpJSqw",
        "outputId": "bf44b909-70a3-469d-b457-a189c5079807"
      },
      "execution_count": 99,
      "outputs": [
        {
          "output_type": "execute_result",
          "data": {
            "text/plain": [
              "1.0"
            ]
          },
          "metadata": {},
          "execution_count": 99
        }
      ]
    },
    {
      "cell_type": "code",
      "source": [],
      "metadata": {
        "id": "HDDbj5dXJS3u"
      },
      "execution_count": null,
      "outputs": []
    },
    {
      "cell_type": "code",
      "source": [],
      "metadata": {
        "id": "l9y_i833JS8U"
      },
      "execution_count": null,
      "outputs": []
    },
    {
      "cell_type": "code",
      "source": [],
      "metadata": {
        "id": "qopg_RpuJTAt"
      },
      "execution_count": null,
      "outputs": []
    }
  ]
}