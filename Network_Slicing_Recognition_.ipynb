{
  "cells": [
    {
      "cell_type": "code",
      "execution_count": 1,
      "metadata": {
        "id": "bnWXOjCxkboL"
      },
      "outputs": [],
      "source": [
        "### Network Slicing Recognition"
      ]
    },
    {
      "cell_type": "markdown",
      "metadata": {
        "id": "DLFspDo8k4sb"
      },
      "source": [
        "About Dataset"
      ]
    },
    {
      "cell_type": "markdown",
      "metadata": {
        "id": "X8M4kwJZk6Aa"
      },
      "source": [
        "The telecom industry is going through a massive digital transformation with the adoption of ML, AI, feedback-based automation and advanced analytics to handle the next generation applications and services. AI concepts are not new; the algorithms used by Machine Learning and Deep Learning are being currently implemented in various industries and technology verticals. With growing data and immense volume <br>\n",
        "\n",
        "of information over 5G, the ability to predict data proactively, swiftly and with accuracy, is critically important. Data-driven decision making will be vital in future communication networks due to the traffic explosion and Artificial Intelligence (AI) will accelerate the 5G network performance. <br>\n",
        "\n",
        "Mobile operators are looking for a programmable solution that will allow them to accommodate multiple independent tenants on the same physical infrastructure and 5G networks allow for end-to-end network resource allocation using the concept of Network Slicing (NS). <br>\n",
        "\n",
        "Network Slicing will play a vital role in enabling a multitude of 5G applications, use cases, and services. Network slicing functions will provide an end-to-end isolation between slices with an ability to customize each slice based on the service demands (bandwidth, coverage, security, latency, reliability, etc). <br>\n",
        "\n",
        "Your Task is to build a Machine Learning model that will be able to to proactively detect and eliminate threats based on incoming connections thereby selecting the most appropriate network slice, even in case of a network failure. <br>"
      ]
    },
    {
      "cell_type": "markdown",
      "metadata": {
        "id": "TgC-S4WblMF4"
      },
      "source": [
        "**Dataset Description** <br>\n",
        "LTE/5g - User Equipment categories or classes to define the performance specifications <br>\n",
        "Packet Loss Rate - number of packets not received divided by the total number of packets sent. <br>\n",
        "Packet Delay - The time for a packet to be received. <br>\n",
        "Slice type - network configuration that allows multiple networks (virtualized and independent) <br>\n",
        "GBR - Guaranteed Bit Rate <br>\n",
        "Healthcare - Usage in Healthcare (1 or 0) <br>\n",
        "Industry 4.0 - Usage in Digital Enterprises(1 or 0) <br>\n",
        "IoT Devices - Usage <br>\n",
        "Public Safety - Usage for public welfare and safety purposes (1 or 0) <br>\n",
        "Smart City & Home - usage in daily household chores <br>\n",
        "Smart Transportation - usage in public transportation <br>\n",
        "Smartphone - whether used for smartphone cellular data <br>"
      ]
    },
    {
      "cell_type": "code",
      "execution_count": 2,
      "metadata": {
        "id": "6341pBuykyUO"
      },
      "outputs": [],
      "source": [
        "###!mkdir ~/.kaggle"
      ]
    },
    {
      "cell_type": "code",
      "execution_count": 3,
      "metadata": {
        "id": "Suvrrml5kyZr"
      },
      "outputs": [],
      "source": [
        "###!cp /kaggle.json ~/.kaggle/"
      ]
    },
    {
      "cell_type": "code",
      "execution_count": 4,
      "metadata": {
        "id": "1MvraNG2kydU"
      },
      "outputs": [],
      "source": [
        "###!chmod 600 ~/.kaggle/kaggle.json"
      ]
    },
    {
      "cell_type": "code",
      "execution_count": 5,
      "metadata": {
        "id": "Op1LmqM8kyhB"
      },
      "outputs": [],
      "source": [
        "###! pip install kaggle"
      ]
    },
    {
      "cell_type": "code",
      "execution_count": null,
      "metadata": {
        "id": "NxxFKI4GmI1W"
      },
      "outputs": [],
      "source": [
        "###!kaggle datasets download -d gauravduttakiit/network-slicing-recognition"
      ]
    },
    {
      "cell_type": "code",
      "execution_count": null,
      "metadata": {
        "id": "e6b9fxWkmJDv"
      },
      "outputs": [],
      "source": [
        "###! unzip /content/network-slicing-recognition.zip"
      ]
    },
    {
      "cell_type": "code",
      "execution_count": 8,
      "metadata": {
        "colab": {
          "base_uri": "https://localhost:8080/",
          "height": 0
        },
        "id": "KCBRWi_Vmd5s",
        "outputId": "51c2f987-5983-46c3-87f7-a39675abc94c"
      },
      "outputs": [
        {
          "name": "stdout",
          "output_type": "stream",
          "text": [
            "setup Completed^___^\n"
          ]
        }
      ],
      "source": [
        "import pandas as pd \n",
        "import numpy as np \n",
        "import matplotlib.pyplot as plt\n",
        "import seaborn as sns\n",
        "%matplotlib inline\n",
        "print('setup Completed^___^')"
      ]
    },
    {
      "cell_type": "code",
      "execution_count": null,
      "metadata": {
        "id": "QbgzsbXxmeIt"
      },
      "outputs": [],
      "source": [
        "###! pip install --upgrade pandas"
      ]
    },
    {
      "cell_type": "code",
      "execution_count": 11,
      "metadata": {
        "colab": {
          "base_uri": "https://localhost:8080/",
          "height": 228
        },
        "id": "GZrPOUv8meV4",
        "outputId": "c45c86b0-0bf8-4821-cb16-c1b4749fd8bb"
      },
      "outputs": [
        {
          "data": {
            "text/html": [
              "\n",
              "  <div id=\"df-634895bd-aa28-47aa-8c76-4019b7c07fff\">\n",
              "    <div class=\"colab-df-container\">\n",
              "      <div>\n",
              "<style scoped>\n",
              "    .dataframe tbody tr th:only-of-type {\n",
              "        vertical-align: middle;\n",
              "    }\n",
              "\n",
              "    .dataframe tbody tr th {\n",
              "        vertical-align: top;\n",
              "    }\n",
              "\n",
              "    .dataframe thead th {\n",
              "        text-align: right;\n",
              "    }\n",
              "</style>\n",
              "<table border=\"1\" class=\"dataframe\">\n",
              "  <thead>\n",
              "    <tr style=\"text-align: right;\">\n",
              "      <th></th>\n",
              "      <th>LTE/5g Category</th>\n",
              "      <th>Time</th>\n",
              "      <th>Packet Loss Rate</th>\n",
              "      <th>Packet delay</th>\n",
              "      <th>IoT</th>\n",
              "      <th>LTE/5G</th>\n",
              "      <th>GBR</th>\n",
              "      <th>Non-GBR</th>\n",
              "      <th>AR/VR/Gaming</th>\n",
              "      <th>Healthcare</th>\n",
              "      <th>Industry 4.0</th>\n",
              "      <th>IoT Devices</th>\n",
              "      <th>Public Safety</th>\n",
              "      <th>Smart City &amp; Home</th>\n",
              "      <th>Smart Transportation</th>\n",
              "      <th>Smartphone</th>\n",
              "      <th>slice Type</th>\n",
              "    </tr>\n",
              "  </thead>\n",
              "  <tbody>\n",
              "    <tr>\n",
              "      <th>0</th>\n",
              "      <td>14</td>\n",
              "      <td>0</td>\n",
              "      <td>0.000001</td>\n",
              "      <td>10</td>\n",
              "      <td>1</td>\n",
              "      <td>0</td>\n",
              "      <td>0</td>\n",
              "      <td>1</td>\n",
              "      <td>0</td>\n",
              "      <td>0</td>\n",
              "      <td>0</td>\n",
              "      <td>0</td>\n",
              "      <td>1</td>\n",
              "      <td>0</td>\n",
              "      <td>0</td>\n",
              "      <td>0</td>\n",
              "      <td>3</td>\n",
              "    </tr>\n",
              "    <tr>\n",
              "      <th>1</th>\n",
              "      <td>18</td>\n",
              "      <td>20</td>\n",
              "      <td>0.001000</td>\n",
              "      <td>100</td>\n",
              "      <td>0</td>\n",
              "      <td>1</td>\n",
              "      <td>1</td>\n",
              "      <td>0</td>\n",
              "      <td>1</td>\n",
              "      <td>0</td>\n",
              "      <td>0</td>\n",
              "      <td>0</td>\n",
              "      <td>0</td>\n",
              "      <td>0</td>\n",
              "      <td>0</td>\n",
              "      <td>0</td>\n",
              "      <td>1</td>\n",
              "    </tr>\n",
              "  </tbody>\n",
              "</table>\n",
              "</div>\n",
              "      <button class=\"colab-df-convert\" onclick=\"convertToInteractive('df-634895bd-aa28-47aa-8c76-4019b7c07fff')\"\n",
              "              title=\"Convert this dataframe to an interactive table.\"\n",
              "              style=\"display:none;\">\n",
              "        \n",
              "  <svg xmlns=\"http://www.w3.org/2000/svg\" height=\"24px\"viewBox=\"0 0 24 24\"\n",
              "       width=\"24px\">\n",
              "    <path d=\"M0 0h24v24H0V0z\" fill=\"none\"/>\n",
              "    <path d=\"M18.56 5.44l.94 2.06.94-2.06 2.06-.94-2.06-.94-.94-2.06-.94 2.06-2.06.94zm-11 1L8.5 8.5l.94-2.06 2.06-.94-2.06-.94L8.5 2.5l-.94 2.06-2.06.94zm10 10l.94 2.06.94-2.06 2.06-.94-2.06-.94-.94-2.06-.94 2.06-2.06.94z\"/><path d=\"M17.41 7.96l-1.37-1.37c-.4-.4-.92-.59-1.43-.59-.52 0-1.04.2-1.43.59L10.3 9.45l-7.72 7.72c-.78.78-.78 2.05 0 2.83L4 21.41c.39.39.9.59 1.41.59.51 0 1.02-.2 1.41-.59l7.78-7.78 2.81-2.81c.8-.78.8-2.07 0-2.86zM5.41 20L4 18.59l7.72-7.72 1.47 1.35L5.41 20z\"/>\n",
              "  </svg>\n",
              "      </button>\n",
              "      \n",
              "  <style>\n",
              "    .colab-df-container {\n",
              "      display:flex;\n",
              "      flex-wrap:wrap;\n",
              "      gap: 12px;\n",
              "    }\n",
              "\n",
              "    .colab-df-convert {\n",
              "      background-color: #E8F0FE;\n",
              "      border: none;\n",
              "      border-radius: 50%;\n",
              "      cursor: pointer;\n",
              "      display: none;\n",
              "      fill: #1967D2;\n",
              "      height: 32px;\n",
              "      padding: 0 0 0 0;\n",
              "      width: 32px;\n",
              "    }\n",
              "\n",
              "    .colab-df-convert:hover {\n",
              "      background-color: #E2EBFA;\n",
              "      box-shadow: 0px 1px 2px rgba(60, 64, 67, 0.3), 0px 1px 3px 1px rgba(60, 64, 67, 0.15);\n",
              "      fill: #174EA6;\n",
              "    }\n",
              "\n",
              "    [theme=dark] .colab-df-convert {\n",
              "      background-color: #3B4455;\n",
              "      fill: #D2E3FC;\n",
              "    }\n",
              "\n",
              "    [theme=dark] .colab-df-convert:hover {\n",
              "      background-color: #434B5C;\n",
              "      box-shadow: 0px 1px 3px 1px rgba(0, 0, 0, 0.15);\n",
              "      filter: drop-shadow(0px 1px 2px rgba(0, 0, 0, 0.3));\n",
              "      fill: #FFFFFF;\n",
              "    }\n",
              "  </style>\n",
              "\n",
              "      <script>\n",
              "        const buttonEl =\n",
              "          document.querySelector('#df-634895bd-aa28-47aa-8c76-4019b7c07fff button.colab-df-convert');\n",
              "        buttonEl.style.display =\n",
              "          google.colab.kernel.accessAllowed ? 'block' : 'none';\n",
              "\n",
              "        async function convertToInteractive(key) {\n",
              "          const element = document.querySelector('#df-634895bd-aa28-47aa-8c76-4019b7c07fff');\n",
              "          const dataTable =\n",
              "            await google.colab.kernel.invokeFunction('convertToInteractive',\n",
              "                                                     [key], {});\n",
              "          if (!dataTable) return;\n",
              "\n",
              "          const docLinkHtml = 'Like what you see? Visit the ' +\n",
              "            '<a target=\"_blank\" href=https://colab.research.google.com/notebooks/data_table.ipynb>data table notebook</a>'\n",
              "            + ' to learn more about interactive tables.';\n",
              "          element.innerHTML = '';\n",
              "          dataTable['output_type'] = 'display_data';\n",
              "          await google.colab.output.renderOutput(dataTable, element);\n",
              "          const docLink = document.createElement('div');\n",
              "          docLink.innerHTML = docLinkHtml;\n",
              "          element.appendChild(docLink);\n",
              "        }\n",
              "      </script>\n",
              "    </div>\n",
              "  </div>\n",
              "  "
            ],
            "text/plain": [
              "   LTE/5g Category  Time  Packet Loss Rate  Packet delay  IoT  LTE/5G  GBR  \\\n",
              "0               14     0          0.000001            10    1       0    0   \n",
              "1               18    20          0.001000           100    0       1    1   \n",
              "\n",
              "   Non-GBR  AR/VR/Gaming  Healthcare  Industry 4.0  IoT Devices  \\\n",
              "0        1             0           0             0            0   \n",
              "1        0             1           0             0            0   \n",
              "\n",
              "   Public Safety  Smart City & Home  Smart Transportation  Smartphone  \\\n",
              "0              1                  0                     0           0   \n",
              "1              0                  0                     0           0   \n",
              "\n",
              "   slice Type  \n",
              "0           3  \n",
              "1           1  "
            ]
          },
          "execution_count": 11,
          "metadata": {},
          "output_type": "execute_result"
        }
      ],
      "source": [
        "train = pd.read_csv('/content/train_dataset.csv')\n",
        "train.head(2)"
      ]
    },
    {
      "cell_type": "code",
      "execution_count": 12,
      "metadata": {
        "colab": {
          "base_uri": "https://localhost:8080/",
          "height": 228
        },
        "id": "1DlpqpO2rebI",
        "outputId": "4369b552-5124-435b-aea4-4b17caed0332"
      },
      "outputs": [
        {
          "data": {
            "text/html": [
              "\n",
              "  <div id=\"df-1a20a1a2-6301-4925-b8a5-608443ffedc2\">\n",
              "    <div class=\"colab-df-container\">\n",
              "      <div>\n",
              "<style scoped>\n",
              "    .dataframe tbody tr th:only-of-type {\n",
              "        vertical-align: middle;\n",
              "    }\n",
              "\n",
              "    .dataframe tbody tr th {\n",
              "        vertical-align: top;\n",
              "    }\n",
              "\n",
              "    .dataframe thead th {\n",
              "        text-align: right;\n",
              "    }\n",
              "</style>\n",
              "<table border=\"1\" class=\"dataframe\">\n",
              "  <thead>\n",
              "    <tr style=\"text-align: right;\">\n",
              "      <th></th>\n",
              "      <th>LTE/5g Category</th>\n",
              "      <th>Time</th>\n",
              "      <th>Packet Loss Rate</th>\n",
              "      <th>Packet delay</th>\n",
              "      <th>IoT</th>\n",
              "      <th>LTE/5G</th>\n",
              "      <th>GBR</th>\n",
              "      <th>Non-GBR</th>\n",
              "      <th>AR/VR/Gaming</th>\n",
              "      <th>Healthcare</th>\n",
              "      <th>Industry 4.0</th>\n",
              "      <th>IoT Devices</th>\n",
              "      <th>Public Safety</th>\n",
              "      <th>Smart City &amp; Home</th>\n",
              "      <th>Smart Transportation</th>\n",
              "      <th>Smartphone</th>\n",
              "    </tr>\n",
              "  </thead>\n",
              "  <tbody>\n",
              "    <tr>\n",
              "      <th>0</th>\n",
              "      <td>15</td>\n",
              "      <td>17</td>\n",
              "      <td>0.001000</td>\n",
              "      <td>100</td>\n",
              "      <td>0</td>\n",
              "      <td>1</td>\n",
              "      <td>1</td>\n",
              "      <td>0</td>\n",
              "      <td>1</td>\n",
              "      <td>0</td>\n",
              "      <td>0</td>\n",
              "      <td>0</td>\n",
              "      <td>0</td>\n",
              "      <td>0</td>\n",
              "      <td>0</td>\n",
              "      <td>0</td>\n",
              "    </tr>\n",
              "    <tr>\n",
              "      <th>1</th>\n",
              "      <td>14</td>\n",
              "      <td>18</td>\n",
              "      <td>0.000001</td>\n",
              "      <td>10</td>\n",
              "      <td>1</td>\n",
              "      <td>0</td>\n",
              "      <td>0</td>\n",
              "      <td>1</td>\n",
              "      <td>0</td>\n",
              "      <td>0</td>\n",
              "      <td>0</td>\n",
              "      <td>0</td>\n",
              "      <td>0</td>\n",
              "      <td>0</td>\n",
              "      <td>1</td>\n",
              "      <td>0</td>\n",
              "    </tr>\n",
              "  </tbody>\n",
              "</table>\n",
              "</div>\n",
              "      <button class=\"colab-df-convert\" onclick=\"convertToInteractive('df-1a20a1a2-6301-4925-b8a5-608443ffedc2')\"\n",
              "              title=\"Convert this dataframe to an interactive table.\"\n",
              "              style=\"display:none;\">\n",
              "        \n",
              "  <svg xmlns=\"http://www.w3.org/2000/svg\" height=\"24px\"viewBox=\"0 0 24 24\"\n",
              "       width=\"24px\">\n",
              "    <path d=\"M0 0h24v24H0V0z\" fill=\"none\"/>\n",
              "    <path d=\"M18.56 5.44l.94 2.06.94-2.06 2.06-.94-2.06-.94-.94-2.06-.94 2.06-2.06.94zm-11 1L8.5 8.5l.94-2.06 2.06-.94-2.06-.94L8.5 2.5l-.94 2.06-2.06.94zm10 10l.94 2.06.94-2.06 2.06-.94-2.06-.94-.94-2.06-.94 2.06-2.06.94z\"/><path d=\"M17.41 7.96l-1.37-1.37c-.4-.4-.92-.59-1.43-.59-.52 0-1.04.2-1.43.59L10.3 9.45l-7.72 7.72c-.78.78-.78 2.05 0 2.83L4 21.41c.39.39.9.59 1.41.59.51 0 1.02-.2 1.41-.59l7.78-7.78 2.81-2.81c.8-.78.8-2.07 0-2.86zM5.41 20L4 18.59l7.72-7.72 1.47 1.35L5.41 20z\"/>\n",
              "  </svg>\n",
              "      </button>\n",
              "      \n",
              "  <style>\n",
              "    .colab-df-container {\n",
              "      display:flex;\n",
              "      flex-wrap:wrap;\n",
              "      gap: 12px;\n",
              "    }\n",
              "\n",
              "    .colab-df-convert {\n",
              "      background-color: #E8F0FE;\n",
              "      border: none;\n",
              "      border-radius: 50%;\n",
              "      cursor: pointer;\n",
              "      display: none;\n",
              "      fill: #1967D2;\n",
              "      height: 32px;\n",
              "      padding: 0 0 0 0;\n",
              "      width: 32px;\n",
              "    }\n",
              "\n",
              "    .colab-df-convert:hover {\n",
              "      background-color: #E2EBFA;\n",
              "      box-shadow: 0px 1px 2px rgba(60, 64, 67, 0.3), 0px 1px 3px 1px rgba(60, 64, 67, 0.15);\n",
              "      fill: #174EA6;\n",
              "    }\n",
              "\n",
              "    [theme=dark] .colab-df-convert {\n",
              "      background-color: #3B4455;\n",
              "      fill: #D2E3FC;\n",
              "    }\n",
              "\n",
              "    [theme=dark] .colab-df-convert:hover {\n",
              "      background-color: #434B5C;\n",
              "      box-shadow: 0px 1px 3px 1px rgba(0, 0, 0, 0.15);\n",
              "      filter: drop-shadow(0px 1px 2px rgba(0, 0, 0, 0.3));\n",
              "      fill: #FFFFFF;\n",
              "    }\n",
              "  </style>\n",
              "\n",
              "      <script>\n",
              "        const buttonEl =\n",
              "          document.querySelector('#df-1a20a1a2-6301-4925-b8a5-608443ffedc2 button.colab-df-convert');\n",
              "        buttonEl.style.display =\n",
              "          google.colab.kernel.accessAllowed ? 'block' : 'none';\n",
              "\n",
              "        async function convertToInteractive(key) {\n",
              "          const element = document.querySelector('#df-1a20a1a2-6301-4925-b8a5-608443ffedc2');\n",
              "          const dataTable =\n",
              "            await google.colab.kernel.invokeFunction('convertToInteractive',\n",
              "                                                     [key], {});\n",
              "          if (!dataTable) return;\n",
              "\n",
              "          const docLinkHtml = 'Like what you see? Visit the ' +\n",
              "            '<a target=\"_blank\" href=https://colab.research.google.com/notebooks/data_table.ipynb>data table notebook</a>'\n",
              "            + ' to learn more about interactive tables.';\n",
              "          element.innerHTML = '';\n",
              "          dataTable['output_type'] = 'display_data';\n",
              "          await google.colab.output.renderOutput(dataTable, element);\n",
              "          const docLink = document.createElement('div');\n",
              "          docLink.innerHTML = docLinkHtml;\n",
              "          element.appendChild(docLink);\n",
              "        }\n",
              "      </script>\n",
              "    </div>\n",
              "  </div>\n",
              "  "
            ],
            "text/plain": [
              "   LTE/5g Category  Time  Packet Loss Rate  Packet delay  IoT  LTE/5G  GBR  \\\n",
              "0               15    17          0.001000           100    0       1    1   \n",
              "1               14    18          0.000001            10    1       0    0   \n",
              "\n",
              "   Non-GBR  AR/VR/Gaming  Healthcare  Industry 4.0  IoT Devices  \\\n",
              "0        0             1           0             0            0   \n",
              "1        1             0           0             0            0   \n",
              "\n",
              "   Public Safety  Smart City & Home  Smart Transportation  Smartphone  \n",
              "0              0                  0                     0           0  \n",
              "1              0                  0                     1           0  "
            ]
          },
          "execution_count": 12,
          "metadata": {},
          "output_type": "execute_result"
        }
      ],
      "source": [
        "test = pd.read_csv('/content/test_dataset.csv')\n",
        "test.head(2)"
      ]
    },
    {
      "cell_type": "code",
      "execution_count": 13,
      "metadata": {
        "colab": {
          "base_uri": "https://localhost:8080/",
          "height": 0
        },
        "id": "RdcJt8QdrenO",
        "outputId": "933740bf-f127-4dcb-8ec5-6ddf59dc1854"
      },
      "outputs": [
        {
          "data": {
            "text/plain": [
              "0    29755\n",
              "1     1828\n",
              "Name: IoT Devices, dtype: int64"
            ]
          },
          "execution_count": 13,
          "metadata": {},
          "output_type": "execute_result"
        }
      ],
      "source": [
        "train[\"IoT Devices\"].value_counts()"
      ]
    },
    {
      "cell_type": "code",
      "execution_count": 14,
      "metadata": {
        "colab": {
          "base_uri": "https://localhost:8080/",
          "height": 0
        },
        "id": "UdaqVzfhzZDR",
        "outputId": "cb1b0730-42a9-4dc5-e121-f483707b52ce"
      },
      "outputs": [
        {
          "name": "stdout",
          "output_type": "stream",
          "text": [
            "Index(['LTE/5g Category', 'Time', 'Packet Loss Rate', 'Packet delay', 'IoT',\n",
            "       'LTE/5G', 'GBR', 'Non-GBR', 'AR/VR/Gaming', 'Healthcare',\n",
            "       'Industry 4.0', 'IoT Devices', 'Public Safety', 'Smart City & Home',\n",
            "       'Smart Transportation', 'Smartphone', 'slice Type'],\n",
            "      dtype='object')\n",
            "Index(['LTE/5g Category', 'Time', 'Packet Loss Rate', 'Packet delay', 'IoT',\n",
            "       'LTE/5G', 'GBR', 'Non-GBR', 'AR/VR/Gaming', 'Healthcare',\n",
            "       'Industry 4.0', 'IoT Devices', 'Public Safety', 'Smart City & Home',\n",
            "       'Smart Transportation', 'Smartphone'],\n",
            "      dtype='object')\n"
          ]
        }
      ],
      "source": [
        "print(train.columns)\n",
        "print(test.columns)"
      ]
    },
    {
      "cell_type": "code",
      "execution_count": 113,
      "metadata": {
        "colab": {
          "base_uri": "https://localhost:8080/"
        },
        "id": "gLs_KVbK6RS_",
        "outputId": "baf5d4a5-ee93-4ec2-9455-cdbaf054ab56"
      },
      "outputs": [
        {
          "data": {
            "text/plain": [
              "lte_5g_category            int8\n",
              "time                       int8\n",
              "packet_loss_rate        float32\n",
              "packet_delay              int16\n",
              "io_t                       int8\n",
              "lte_5g                     int8\n",
              "gbr                        int8\n",
              "non_gbr                    int8\n",
              "ar_vr_gaming               int8\n",
              "healthcare                 int8\n",
              "industry_4_0               int8\n",
              "io_t_devices               int8\n",
              "public_safety              int8\n",
              "smart_city_and_home        int8\n",
              "smart_transportation       int8\n",
              "smartphone                 int8\n",
              "slice_type                 int8\n",
              "dtype: object"
            ]
          },
          "execution_count": 113,
          "metadata": {},
          "output_type": "execute_result"
        }
      ],
      "source": [
        "train.dtypes"
      ]
    },
    {
      "cell_type": "code",
      "execution_count": null,
      "metadata": {
        "id": "DedxnSDNzweK"
      },
      "outputs": [],
      "source": [
        "###! pip install klib"
      ]
    },
    {
      "cell_type": "code",
      "execution_count": 16,
      "metadata": {
        "id": "Rl4DBs1zzwpy"
      },
      "outputs": [],
      "source": [
        "import klib"
      ]
    },
    {
      "cell_type": "code",
      "execution_count": 17,
      "metadata": {
        "colab": {
          "base_uri": "https://localhost:8080/",
          "height": 0
        },
        "id": "hWHqKqLHzw10",
        "outputId": "20894522-32f0-4af6-de47-171f8be3d133"
      },
      "outputs": [
        {
          "name": "stdout",
          "output_type": "stream",
          "text": [
            "Shape of cleaned data: (8958, 17) - Remaining NAs: 0\n",
            "\n",
            "\n",
            "Dropped rows: 22625\n",
            "     of which 22625 duplicates. (Rows (first 150 shown): [99, 250, 289, 305, 334, 362, 431, 446, 457, 461, 504, 509, 517, 529, 534, 585, 623, 636, 639, 660, 667, 677, 680, 756, 774, 794, 802, 813, 833, 840, 868, 878, 884, 903, 904, 917, 925, 927, 938, 949, 982, 1009, 1019, 1034, 1035, 1039, 1043, 1046, 1060, 1063, 1065, 1079, 1081, 1085, 1091, 1101, 1103, 1111, 1117, 1123, 1129, 1131, 1136, 1139, 1169, 1172, 1181, 1228, 1229, 1236, 1241, 1254, 1255, 1280, 1290, 1291, 1293, 1313, 1320, 1324, 1325, 1347, 1348, 1351, 1355, 1388, 1390, 1394, 1397, 1414, 1421, 1424, 1432, 1442, 1445, 1452, 1455, 1460, 1472, 1482, 1486, 1498, 1505, 1509, 1513, 1524, 1527, 1536, 1539, 1540, 1550, 1559, 1563, 1565, 1575, 1577, 1583, 1587, 1600, 1611, 1614, 1619, 1630, 1654, 1660, 1662, 1663, 1664, 1670, 1674, 1678, 1679, 1681, 1683, 1684, 1686, 1690, 1691, 1696, 1705, 1706, 1709, 1715, 1719, 1731, 1733, 1742, 1754, 1757, 1759])\n",
            "\n",
            "Dropped columns: 0\n",
            "     of which 0 single valued.     Columns: []\n",
            "Dropped missing values: 0\n",
            "Reduced memory by at least: 3.92 MB (-95.61%)\n",
            "\n"
          ]
        }
      ],
      "source": [
        "train = klib.data_cleaning(train)"
      ]
    },
    {
      "cell_type": "code",
      "execution_count": 18,
      "metadata": {
        "colab": {
          "base_uri": "https://localhost:8080/",
          "height": 0
        },
        "id": "ADd02Gmf06d2",
        "outputId": "67719278-7cc2-47c1-9efc-4e49f9602e2c"
      },
      "outputs": [
        {
          "name": "stdout",
          "output_type": "stream",
          "text": [
            "Shape of cleaned data: (8960, 16) - Remaining NAs: 0\n",
            "\n",
            "\n",
            "Dropped rows: 22624\n",
            "     of which 22624 duplicates. (Rows (first 150 shown): [130, 182, 275, 279, 306, 367, 379, 396, 420, 468, 555, 560, 576, 582, 603, 614, 618, 621, 625, 635, 638, 641, 646, 655, 680, 705, 710, 717, 741, 749, 776, 786, 788, 789, 793, 837, 842, 848, 857, 875, 884, 913, 919, 928, 947, 948, 965, 981, 988, 1015, 1022, 1024, 1030, 1035, 1036, 1077, 1081, 1108, 1118, 1131, 1139, 1140, 1152, 1153, 1161, 1168, 1178, 1183, 1192, 1199, 1201, 1203, 1209, 1210, 1211, 1229, 1250, 1255, 1257, 1262, 1267, 1276, 1277, 1282, 1300, 1305, 1313, 1329, 1334, 1337, 1357, 1361, 1377, 1401, 1402, 1409, 1422, 1424, 1441, 1445, 1450, 1451, 1459, 1466, 1478, 1480, 1496, 1503, 1516, 1523, 1527, 1529, 1535, 1540, 1542, 1546, 1549, 1551, 1558, 1569, 1570, 1574, 1576, 1592, 1596, 1599, 1608, 1609, 1616, 1623, 1625, 1627, 1630, 1636, 1638, 1643, 1644, 1647, 1661, 1664, 1670, 1681, 1682, 1685, 1699, 1709, 1711, 1716, 1721, 1726])\n",
            "\n",
            "Dropped columns: 0\n",
            "     of which 0 single valued.     Columns: []\n",
            "Dropped missing values: 0\n",
            "Reduced memory by at least: 3.69 MB (-95.6%)\n",
            "\n"
          ]
        }
      ],
      "source": [
        "test = klib.data_cleaning(test)"
      ]
    },
    {
      "cell_type": "code",
      "execution_count": 19,
      "metadata": {
        "id": "7SPN6RJK06qW"
      },
      "outputs": [],
      "source": [
        "train = klib.convert_datatypes(train)"
      ]
    },
    {
      "cell_type": "code",
      "execution_count": 20,
      "metadata": {
        "id": "CLXl1tCF8ytS"
      },
      "outputs": [],
      "source": [
        "test = klib.convert_datatypes(test)"
      ]
    },
    {
      "cell_type": "code",
      "execution_count": 21,
      "metadata": {
        "colab": {
          "base_uri": "https://localhost:8080/",
          "height": 0
        },
        "id": "n_1XRLie859I",
        "outputId": "b621c7eb-b84d-40e5-b4f3-8075d7b76bdd"
      },
      "outputs": [
        {
          "data": {
            "text/plain": [
              "lte_5g_category            int8\n",
              "time                       int8\n",
              "packet_loss_rate        float32\n",
              "packet_delay              int16\n",
              "io_t                       int8\n",
              "lte_5g                     int8\n",
              "gbr                        int8\n",
              "non_gbr                    int8\n",
              "ar_vr_gaming               int8\n",
              "healthcare                 int8\n",
              "industry_4_0               int8\n",
              "io_t_devices               int8\n",
              "public_safety              int8\n",
              "smart_city_and_home        int8\n",
              "smart_transportation       int8\n",
              "smartphone                 int8\n",
              "slice_type                 int8\n",
              "dtype: object"
            ]
          },
          "execution_count": 21,
          "metadata": {},
          "output_type": "execute_result"
        }
      ],
      "source": [
        "train.dtypes"
      ]
    },
    {
      "cell_type": "code",
      "execution_count": 22,
      "metadata": {
        "colab": {
          "base_uri": "https://localhost:8080/",
          "height": 0
        },
        "id": "nUdnDrAO86Mo",
        "outputId": "9c039a07-855e-4088-a8b3-58b5543d9b7e"
      },
      "outputs": [
        {
          "name": "stdout",
          "output_type": "stream",
          "text": [
            "No columns with categorical data were detected.\n"
          ]
        }
      ],
      "source": [
        "klib.cat_plot(train)"
      ]
    },
    {
      "cell_type": "code",
      "execution_count": 23,
      "metadata": {
        "colab": {
          "base_uri": "https://localhost:8080/",
          "height": 602
        },
        "id": "IHxXALg986b8",
        "outputId": "5bbfe0d5-e17c-4e29-d393-440586deefd2"
      },
      "outputs": [
        {
          "data": {
            "text/html": [
              "<style type=\"text/css\">\n",
              "#T_fc556_row0_col0, #T_fc556_row0_col2, #T_fc556_row0_col4, #T_fc556_row0_col7, #T_fc556_row0_col9, #T_fc556_row0_col10, #T_fc556_row0_col11, #T_fc556_row0_col12, #T_fc556_row0_col13, #T_fc556_row0_col14, #T_fc556_row0_col16, #T_fc556_row1_col1, #T_fc556_row1_col2, #T_fc556_row1_col3, #T_fc556_row1_col4, #T_fc556_row1_col6, #T_fc556_row1_col10, #T_fc556_row1_col11, #T_fc556_row1_col12, #T_fc556_row1_col14, #T_fc556_row1_col16, #T_fc556_row2_col0, #T_fc556_row2_col1, #T_fc556_row2_col2, #T_fc556_row2_col3, #T_fc556_row2_col4, #T_fc556_row2_col7, #T_fc556_row2_col11, #T_fc556_row2_col13, #T_fc556_row3_col1, #T_fc556_row3_col2, #T_fc556_row3_col3, #T_fc556_row3_col5, #T_fc556_row3_col6, #T_fc556_row3_col11, #T_fc556_row3_col13, #T_fc556_row3_col15, #T_fc556_row4_col0, #T_fc556_row4_col1, #T_fc556_row4_col2, #T_fc556_row4_col4, #T_fc556_row4_col7, #T_fc556_row4_col9, #T_fc556_row4_col10, #T_fc556_row4_col11, #T_fc556_row4_col12, #T_fc556_row4_col13, #T_fc556_row4_col14, #T_fc556_row4_col16, #T_fc556_row5_col3, #T_fc556_row5_col5, #T_fc556_row5_col6, #T_fc556_row5_col8, #T_fc556_row5_col15, #T_fc556_row6_col1, #T_fc556_row6_col3, #T_fc556_row6_col5, #T_fc556_row6_col6, #T_fc556_row6_col8, #T_fc556_row6_col10, #T_fc556_row6_col11, #T_fc556_row6_col13, #T_fc556_row6_col15, #T_fc556_row7_col0, #T_fc556_row7_col2, #T_fc556_row7_col4, #T_fc556_row7_col7, #T_fc556_row7_col9, #T_fc556_row7_col12, #T_fc556_row7_col14, #T_fc556_row7_col16, #T_fc556_row8_col5, #T_fc556_row8_col6, #T_fc556_row8_col8, #T_fc556_row9_col0, #T_fc556_row9_col4, #T_fc556_row9_col7, #T_fc556_row9_col9, #T_fc556_row9_col16, #T_fc556_row10_col0, #T_fc556_row10_col1, #T_fc556_row10_col4, #T_fc556_row10_col6, #T_fc556_row10_col10, #T_fc556_row10_col16, #T_fc556_row11_col0, #T_fc556_row11_col1, #T_fc556_row11_col2, #T_fc556_row11_col3, #T_fc556_row11_col4, #T_fc556_row11_col6, #T_fc556_row11_col11, #T_fc556_row11_col16, #T_fc556_row12_col0, #T_fc556_row12_col1, #T_fc556_row12_col4, #T_fc556_row12_col7, #T_fc556_row12_col12, #T_fc556_row12_col16, #T_fc556_row13_col0, #T_fc556_row13_col2, #T_fc556_row13_col3, #T_fc556_row13_col4, #T_fc556_row13_col6, #T_fc556_row13_col13, #T_fc556_row13_col16, #T_fc556_row14_col0, #T_fc556_row14_col1, #T_fc556_row14_col4, #T_fc556_row14_col7, #T_fc556_row14_col14, #T_fc556_row14_col16, #T_fc556_row15_col3, #T_fc556_row15_col5, #T_fc556_row15_col6, #T_fc556_row15_col15, #T_fc556_row16_col0, #T_fc556_row16_col1, #T_fc556_row16_col4, #T_fc556_row16_col7, #T_fc556_row16_col9, #T_fc556_row16_col10, #T_fc556_row16_col11, #T_fc556_row16_col12, #T_fc556_row16_col13, #T_fc556_row16_col14, #T_fc556_row16_col16 {\n",
              "  color: None;\n",
              "}\n",
              "#T_fc556_row0_col1, #T_fc556_row0_col3, #T_fc556_row0_col5, #T_fc556_row0_col6, #T_fc556_row0_col8, #T_fc556_row0_col15, #T_fc556_row1_col0, #T_fc556_row1_col5, #T_fc556_row1_col7, #T_fc556_row1_col8, #T_fc556_row1_col9, #T_fc556_row1_col13, #T_fc556_row1_col15, #T_fc556_row2_col5, #T_fc556_row2_col6, #T_fc556_row2_col8, #T_fc556_row2_col9, #T_fc556_row2_col10, #T_fc556_row2_col12, #T_fc556_row2_col14, #T_fc556_row2_col15, #T_fc556_row2_col16, #T_fc556_row3_col0, #T_fc556_row3_col4, #T_fc556_row3_col7, #T_fc556_row3_col8, #T_fc556_row3_col9, #T_fc556_row3_col10, #T_fc556_row3_col12, #T_fc556_row3_col14, #T_fc556_row3_col16, #T_fc556_row4_col3, #T_fc556_row4_col5, #T_fc556_row4_col6, #T_fc556_row4_col8, #T_fc556_row4_col15, #T_fc556_row5_col0, #T_fc556_row5_col1, #T_fc556_row5_col2, #T_fc556_row5_col4, #T_fc556_row5_col7, #T_fc556_row5_col9, #T_fc556_row5_col10, #T_fc556_row5_col11, #T_fc556_row5_col12, #T_fc556_row5_col13, #T_fc556_row5_col14, #T_fc556_row5_col16, #T_fc556_row6_col0, #T_fc556_row6_col2, #T_fc556_row6_col4, #T_fc556_row6_col7, #T_fc556_row6_col9, #T_fc556_row6_col12, #T_fc556_row6_col14, #T_fc556_row6_col16, #T_fc556_row7_col1, #T_fc556_row7_col3, #T_fc556_row7_col5, #T_fc556_row7_col6, #T_fc556_row7_col8, #T_fc556_row7_col10, #T_fc556_row7_col11, #T_fc556_row7_col13, #T_fc556_row7_col15, #T_fc556_row8_col0, #T_fc556_row8_col1, #T_fc556_row8_col2, #T_fc556_row8_col3, #T_fc556_row8_col4, #T_fc556_row8_col7, #T_fc556_row8_col9, #T_fc556_row8_col10, #T_fc556_row8_col11, #T_fc556_row8_col12, #T_fc556_row8_col13, #T_fc556_row8_col14, #T_fc556_row8_col15, #T_fc556_row8_col16, #T_fc556_row9_col1, #T_fc556_row9_col2, #T_fc556_row9_col3, #T_fc556_row9_col5, #T_fc556_row9_col6, #T_fc556_row9_col8, #T_fc556_row9_col10, #T_fc556_row9_col11, #T_fc556_row9_col12, #T_fc556_row9_col13, #T_fc556_row9_col14, #T_fc556_row9_col15, #T_fc556_row10_col2, #T_fc556_row10_col3, #T_fc556_row10_col5, #T_fc556_row10_col7, #T_fc556_row10_col8, #T_fc556_row10_col9, #T_fc556_row10_col11, #T_fc556_row10_col12, #T_fc556_row10_col13, #T_fc556_row10_col14, #T_fc556_row10_col15, #T_fc556_row11_col5, #T_fc556_row11_col7, #T_fc556_row11_col8, #T_fc556_row11_col9, #T_fc556_row11_col10, #T_fc556_row11_col12, #T_fc556_row11_col13, #T_fc556_row11_col14, #T_fc556_row11_col15, #T_fc556_row12_col2, #T_fc556_row12_col3, #T_fc556_row12_col5, #T_fc556_row12_col6, #T_fc556_row12_col8, #T_fc556_row12_col9, #T_fc556_row12_col10, #T_fc556_row12_col11, #T_fc556_row12_col13, #T_fc556_row12_col14, #T_fc556_row12_col15, #T_fc556_row13_col1, #T_fc556_row13_col5, #T_fc556_row13_col7, #T_fc556_row13_col8, #T_fc556_row13_col9, #T_fc556_row13_col10, #T_fc556_row13_col11, #T_fc556_row13_col12, #T_fc556_row13_col14, #T_fc556_row13_col15, #T_fc556_row14_col2, #T_fc556_row14_col3, #T_fc556_row14_col5, #T_fc556_row14_col6, #T_fc556_row14_col8, #T_fc556_row14_col9, #T_fc556_row14_col10, #T_fc556_row14_col11, #T_fc556_row14_col12, #T_fc556_row14_col13, #T_fc556_row14_col15, #T_fc556_row15_col0, #T_fc556_row15_col1, #T_fc556_row15_col2, #T_fc556_row15_col4, #T_fc556_row15_col7, #T_fc556_row15_col8, #T_fc556_row15_col9, #T_fc556_row15_col10, #T_fc556_row15_col11, #T_fc556_row15_col12, #T_fc556_row15_col13, #T_fc556_row15_col14, #T_fc556_row15_col16, #T_fc556_row16_col2, #T_fc556_row16_col3, #T_fc556_row16_col5, #T_fc556_row16_col6, #T_fc556_row16_col8, #T_fc556_row16_col15 {\n",
              "  color: #FF3344;\n",
              "}\n",
              "</style>\n",
              "<table id=\"T_fc556\" class=\"dataframe\">\n",
              "  <thead>\n",
              "    <tr>\n",
              "      <th class=\"blank level0\" >&nbsp;</th>\n",
              "      <th id=\"T_fc556_level0_col0\" class=\"col_heading level0 col0\" >lte_5g_category</th>\n",
              "      <th id=\"T_fc556_level0_col1\" class=\"col_heading level0 col1\" >time</th>\n",
              "      <th id=\"T_fc556_level0_col2\" class=\"col_heading level0 col2\" >packet_loss_rate</th>\n",
              "      <th id=\"T_fc556_level0_col3\" class=\"col_heading level0 col3\" >packet_delay</th>\n",
              "      <th id=\"T_fc556_level0_col4\" class=\"col_heading level0 col4\" >io_t</th>\n",
              "      <th id=\"T_fc556_level0_col5\" class=\"col_heading level0 col5\" >lte_5g</th>\n",
              "      <th id=\"T_fc556_level0_col6\" class=\"col_heading level0 col6\" >gbr</th>\n",
              "      <th id=\"T_fc556_level0_col7\" class=\"col_heading level0 col7\" >non_gbr</th>\n",
              "      <th id=\"T_fc556_level0_col8\" class=\"col_heading level0 col8\" >ar_vr_gaming</th>\n",
              "      <th id=\"T_fc556_level0_col9\" class=\"col_heading level0 col9\" >healthcare</th>\n",
              "      <th id=\"T_fc556_level0_col10\" class=\"col_heading level0 col10\" >industry_4_0</th>\n",
              "      <th id=\"T_fc556_level0_col11\" class=\"col_heading level0 col11\" >io_t_devices</th>\n",
              "      <th id=\"T_fc556_level0_col12\" class=\"col_heading level0 col12\" >public_safety</th>\n",
              "      <th id=\"T_fc556_level0_col13\" class=\"col_heading level0 col13\" >smart_city_and_home</th>\n",
              "      <th id=\"T_fc556_level0_col14\" class=\"col_heading level0 col14\" >smart_transportation</th>\n",
              "      <th id=\"T_fc556_level0_col15\" class=\"col_heading level0 col15\" >smartphone</th>\n",
              "      <th id=\"T_fc556_level0_col16\" class=\"col_heading level0 col16\" >slice_type</th>\n",
              "    </tr>\n",
              "  </thead>\n",
              "  <tbody>\n",
              "    <tr>\n",
              "      <th id=\"T_fc556_level0_row0\" class=\"row_heading level0 row0\" >lte_5g_category</th>\n",
              "      <td id=\"T_fc556_row0_col0\" class=\"data row0 col0\" >1.00</td>\n",
              "      <td id=\"T_fc556_row0_col1\" class=\"data row0 col1\" >-0.00</td>\n",
              "      <td id=\"T_fc556_row0_col2\" class=\"data row0 col2\" >0.01</td>\n",
              "      <td id=\"T_fc556_row0_col3\" class=\"data row0 col3\" >-0.02</td>\n",
              "      <td id=\"T_fc556_row0_col4\" class=\"data row0 col4\" >0.08</td>\n",
              "      <td id=\"T_fc556_row0_col5\" class=\"data row0 col5\" >-0.08</td>\n",
              "      <td id=\"T_fc556_row0_col6\" class=\"data row0 col6\" >-0.01</td>\n",
              "      <td id=\"T_fc556_row0_col7\" class=\"data row0 col7\" >0.01</td>\n",
              "      <td id=\"T_fc556_row0_col8\" class=\"data row0 col8\" >-0.03</td>\n",
              "      <td id=\"T_fc556_row0_col9\" class=\"data row0 col9\" >0.02</td>\n",
              "      <td id=\"T_fc556_row0_col10\" class=\"data row0 col10\" >0.03</td>\n",
              "      <td id=\"T_fc556_row0_col11\" class=\"data row0 col11\" >0.02</td>\n",
              "      <td id=\"T_fc556_row0_col12\" class=\"data row0 col12\" >0.02</td>\n",
              "      <td id=\"T_fc556_row0_col13\" class=\"data row0 col13\" >0.03</td>\n",
              "      <td id=\"T_fc556_row0_col14\" class=\"data row0 col14\" >0.02</td>\n",
              "      <td id=\"T_fc556_row0_col15\" class=\"data row0 col15\" >-0.07</td>\n",
              "      <td id=\"T_fc556_row0_col16\" class=\"data row0 col16\" >0.08</td>\n",
              "    </tr>\n",
              "    <tr>\n",
              "      <th id=\"T_fc556_level0_row1\" class=\"row_heading level0 row1\" >time</th>\n",
              "      <td id=\"T_fc556_row1_col0\" class=\"data row1 col0\" >-0.00</td>\n",
              "      <td id=\"T_fc556_row1_col1\" class=\"data row1 col1\" >1.00</td>\n",
              "      <td id=\"T_fc556_row1_col2\" class=\"data row1 col2\" >0.00</td>\n",
              "      <td id=\"T_fc556_row1_col3\" class=\"data row1 col3\" >0.00</td>\n",
              "      <td id=\"T_fc556_row1_col4\" class=\"data row1 col4\" >0.00</td>\n",
              "      <td id=\"T_fc556_row1_col5\" class=\"data row1 col5\" >-0.00</td>\n",
              "      <td id=\"T_fc556_row1_col6\" class=\"data row1 col6\" >0.00</td>\n",
              "      <td id=\"T_fc556_row1_col7\" class=\"data row1 col7\" >-0.00</td>\n",
              "      <td id=\"T_fc556_row1_col8\" class=\"data row1 col8\" >-0.00</td>\n",
              "      <td id=\"T_fc556_row1_col9\" class=\"data row1 col9\" >-0.00</td>\n",
              "      <td id=\"T_fc556_row1_col10\" class=\"data row1 col10\" >0.00</td>\n",
              "      <td id=\"T_fc556_row1_col11\" class=\"data row1 col11\" >0.00</td>\n",
              "      <td id=\"T_fc556_row1_col12\" class=\"data row1 col12\" >0.00</td>\n",
              "      <td id=\"T_fc556_row1_col13\" class=\"data row1 col13\" >-0.00</td>\n",
              "      <td id=\"T_fc556_row1_col14\" class=\"data row1 col14\" >0.00</td>\n",
              "      <td id=\"T_fc556_row1_col15\" class=\"data row1 col15\" >-0.00</td>\n",
              "      <td id=\"T_fc556_row1_col16\" class=\"data row1 col16\" >0.00</td>\n",
              "    </tr>\n",
              "    <tr>\n",
              "      <th id=\"T_fc556_level0_row2\" class=\"row_heading level0 row2\" >packet_loss_rate</th>\n",
              "      <td id=\"T_fc556_row2_col0\" class=\"data row2 col0\" >0.01</td>\n",
              "      <td id=\"T_fc556_row2_col1\" class=\"data row2 col1\" >0.00</td>\n",
              "      <td id=\"T_fc556_row2_col2\" class=\"data row2 col2\" >1.00</td>\n",
              "      <td id=\"T_fc556_row2_col3\" class=\"data row2 col3\" >0.31</td>\n",
              "      <td id=\"T_fc556_row2_col4\" class=\"data row2 col4\" >0.17</td>\n",
              "      <td id=\"T_fc556_row2_col5\" class=\"data row2 col5\" >-0.17</td>\n",
              "      <td id=\"T_fc556_row2_col6\" class=\"data row2 col6\" >-0.01</td>\n",
              "      <td id=\"T_fc556_row2_col7\" class=\"data row2 col7\" >0.01</td>\n",
              "      <td id=\"T_fc556_row2_col8\" class=\"data row2 col8\" >-0.17</td>\n",
              "      <td id=\"T_fc556_row2_col9\" class=\"data row2 col9\" >-0.18</td>\n",
              "      <td id=\"T_fc556_row2_col10\" class=\"data row2 col10\" >-0.22</td>\n",
              "      <td id=\"T_fc556_row2_col11\" class=\"data row2 col11\" >0.39</td>\n",
              "      <td id=\"T_fc556_row2_col12\" class=\"data row2 col12\" >-0.18</td>\n",
              "      <td id=\"T_fc556_row2_col13\" class=\"data row2 col13\" >0.58</td>\n",
              "      <td id=\"T_fc556_row2_col14\" class=\"data row2 col14\" >-0.18</td>\n",
              "      <td id=\"T_fc556_row2_col15\" class=\"data row2 col15\" >-0.07</td>\n",
              "      <td id=\"T_fc556_row2_col16\" class=\"data row2 col16\" >-0.10</td>\n",
              "    </tr>\n",
              "    <tr>\n",
              "      <th id=\"T_fc556_level0_row3\" class=\"row_heading level0 row3\" >packet_delay</th>\n",
              "      <td id=\"T_fc556_row3_col0\" class=\"data row3 col0\" >-0.02</td>\n",
              "      <td id=\"T_fc556_row3_col1\" class=\"data row3 col1\" >0.00</td>\n",
              "      <td id=\"T_fc556_row3_col2\" class=\"data row3 col2\" >0.31</td>\n",
              "      <td id=\"T_fc556_row3_col3\" class=\"data row3 col3\" >1.00</td>\n",
              "      <td id=\"T_fc556_row3_col4\" class=\"data row3 col4\" >-0.19</td>\n",
              "      <td id=\"T_fc556_row3_col5\" class=\"data row3 col5\" >0.19</td>\n",
              "      <td id=\"T_fc556_row3_col6\" class=\"data row3 col6\" >0.43</td>\n",
              "      <td id=\"T_fc556_row3_col7\" class=\"data row3 col7\" >-0.43</td>\n",
              "      <td id=\"T_fc556_row3_col8\" class=\"data row3 col8\" >-0.13</td>\n",
              "      <td id=\"T_fc556_row3_col9\" class=\"data row3 col9\" >-0.24</td>\n",
              "      <td id=\"T_fc556_row3_col10\" class=\"data row3 col10\" >-0.29</td>\n",
              "      <td id=\"T_fc556_row3_col11\" class=\"data row3 col11\" >0.43</td>\n",
              "      <td id=\"T_fc556_row3_col12\" class=\"data row3 col12\" >-0.24</td>\n",
              "      <td id=\"T_fc556_row3_col13\" class=\"data row3 col13\" >0.21</td>\n",
              "      <td id=\"T_fc556_row3_col14\" class=\"data row3 col14\" >-0.25</td>\n",
              "      <td id=\"T_fc556_row3_col15\" class=\"data row3 col15\" >0.28</td>\n",
              "      <td id=\"T_fc556_row3_col16\" class=\"data row3 col16\" >-0.40</td>\n",
              "    </tr>\n",
              "    <tr>\n",
              "      <th id=\"T_fc556_level0_row4\" class=\"row_heading level0 row4\" >io_t</th>\n",
              "      <td id=\"T_fc556_row4_col0\" class=\"data row4 col0\" >0.08</td>\n",
              "      <td id=\"T_fc556_row4_col1\" class=\"data row4 col1\" >0.00</td>\n",
              "      <td id=\"T_fc556_row4_col2\" class=\"data row4 col2\" >0.17</td>\n",
              "      <td id=\"T_fc556_row4_col3\" class=\"data row4 col3\" >-0.19</td>\n",
              "      <td id=\"T_fc556_row4_col4\" class=\"data row4 col4\" >1.00</td>\n",
              "      <td id=\"T_fc556_row4_col5\" class=\"data row4 col5\" >-1.00</td>\n",
              "      <td id=\"T_fc556_row4_col6\" class=\"data row4 col6\" >-0.13</td>\n",
              "      <td id=\"T_fc556_row4_col7\" class=\"data row4 col7\" >0.13</td>\n",
              "      <td id=\"T_fc556_row4_col8\" class=\"data row4 col8\" >-0.32</td>\n",
              "      <td id=\"T_fc556_row4_col9\" class=\"data row4 col9\" >0.27</td>\n",
              "      <td id=\"T_fc556_row4_col10\" class=\"data row4 col10\" >0.39</td>\n",
              "      <td id=\"T_fc556_row4_col11\" class=\"data row4 col11\" >0.26</td>\n",
              "      <td id=\"T_fc556_row4_col12\" class=\"data row4 col12\" >0.27</td>\n",
              "      <td id=\"T_fc556_row4_col13\" class=\"data row4 col13\" >0.39</td>\n",
              "      <td id=\"T_fc556_row4_col14\" class=\"data row4 col14\" >0.27</td>\n",
              "      <td id=\"T_fc556_row4_col15\" class=\"data row4 col15\" >-0.81</td>\n",
              "      <td id=\"T_fc556_row4_col16\" class=\"data row4 col16\" >0.91</td>\n",
              "    </tr>\n",
              "    <tr>\n",
              "      <th id=\"T_fc556_level0_row5\" class=\"row_heading level0 row5\" >lte_5g</th>\n",
              "      <td id=\"T_fc556_row5_col0\" class=\"data row5 col0\" >-0.08</td>\n",
              "      <td id=\"T_fc556_row5_col1\" class=\"data row5 col1\" >-0.00</td>\n",
              "      <td id=\"T_fc556_row5_col2\" class=\"data row5 col2\" >-0.17</td>\n",
              "      <td id=\"T_fc556_row5_col3\" class=\"data row5 col3\" >0.19</td>\n",
              "      <td id=\"T_fc556_row5_col4\" class=\"data row5 col4\" >-1.00</td>\n",
              "      <td id=\"T_fc556_row5_col5\" class=\"data row5 col5\" >1.00</td>\n",
              "      <td id=\"T_fc556_row5_col6\" class=\"data row5 col6\" >0.13</td>\n",
              "      <td id=\"T_fc556_row5_col7\" class=\"data row5 col7\" >-0.13</td>\n",
              "      <td id=\"T_fc556_row5_col8\" class=\"data row5 col8\" >0.32</td>\n",
              "      <td id=\"T_fc556_row5_col9\" class=\"data row5 col9\" >-0.27</td>\n",
              "      <td id=\"T_fc556_row5_col10\" class=\"data row5 col10\" >-0.39</td>\n",
              "      <td id=\"T_fc556_row5_col11\" class=\"data row5 col11\" >-0.26</td>\n",
              "      <td id=\"T_fc556_row5_col12\" class=\"data row5 col12\" >-0.27</td>\n",
              "      <td id=\"T_fc556_row5_col13\" class=\"data row5 col13\" >-0.39</td>\n",
              "      <td id=\"T_fc556_row5_col14\" class=\"data row5 col14\" >-0.27</td>\n",
              "      <td id=\"T_fc556_row5_col15\" class=\"data row5 col15\" >0.81</td>\n",
              "      <td id=\"T_fc556_row5_col16\" class=\"data row5 col16\" >-0.91</td>\n",
              "    </tr>\n",
              "    <tr>\n",
              "      <th id=\"T_fc556_level0_row6\" class=\"row_heading level0 row6\" >gbr</th>\n",
              "      <td id=\"T_fc556_row6_col0\" class=\"data row6 col0\" >-0.01</td>\n",
              "      <td id=\"T_fc556_row6_col1\" class=\"data row6 col1\" >0.00</td>\n",
              "      <td id=\"T_fc556_row6_col2\" class=\"data row6 col2\" >-0.01</td>\n",
              "      <td id=\"T_fc556_row6_col3\" class=\"data row6 col3\" >0.43</td>\n",
              "      <td id=\"T_fc556_row6_col4\" class=\"data row6 col4\" >-0.13</td>\n",
              "      <td id=\"T_fc556_row6_col5\" class=\"data row6 col5\" >0.13</td>\n",
              "      <td id=\"T_fc556_row6_col6\" class=\"data row6 col6\" >1.00</td>\n",
              "      <td id=\"T_fc556_row6_col7\" class=\"data row6 col7\" >-1.00</td>\n",
              "      <td id=\"T_fc556_row6_col8\" class=\"data row6 col8\" >0.04</td>\n",
              "      <td id=\"T_fc556_row6_col9\" class=\"data row6 col9\" >-0.22</td>\n",
              "      <td id=\"T_fc556_row6_col10\" class=\"data row6 col10\" >0.04</td>\n",
              "      <td id=\"T_fc556_row6_col11\" class=\"data row6 col11\" >0.28</td>\n",
              "      <td id=\"T_fc556_row6_col12\" class=\"data row6 col12\" >-0.22</td>\n",
              "      <td id=\"T_fc556_row6_col13\" class=\"data row6 col13\" >0.04</td>\n",
              "      <td id=\"T_fc556_row6_col14\" class=\"data row6 col14\" >-0.22</td>\n",
              "      <td id=\"T_fc556_row6_col15\" class=\"data row6 col15\" >0.10</td>\n",
              "      <td id=\"T_fc556_row6_col16\" class=\"data row6 col16\" >-0.33</td>\n",
              "    </tr>\n",
              "    <tr>\n",
              "      <th id=\"T_fc556_level0_row7\" class=\"row_heading level0 row7\" >non_gbr</th>\n",
              "      <td id=\"T_fc556_row7_col0\" class=\"data row7 col0\" >0.01</td>\n",
              "      <td id=\"T_fc556_row7_col1\" class=\"data row7 col1\" >-0.00</td>\n",
              "      <td id=\"T_fc556_row7_col2\" class=\"data row7 col2\" >0.01</td>\n",
              "      <td id=\"T_fc556_row7_col3\" class=\"data row7 col3\" >-0.43</td>\n",
              "      <td id=\"T_fc556_row7_col4\" class=\"data row7 col4\" >0.13</td>\n",
              "      <td id=\"T_fc556_row7_col5\" class=\"data row7 col5\" >-0.13</td>\n",
              "      <td id=\"T_fc556_row7_col6\" class=\"data row7 col6\" >-1.00</td>\n",
              "      <td id=\"T_fc556_row7_col7\" class=\"data row7 col7\" >1.00</td>\n",
              "      <td id=\"T_fc556_row7_col8\" class=\"data row7 col8\" >-0.04</td>\n",
              "      <td id=\"T_fc556_row7_col9\" class=\"data row7 col9\" >0.22</td>\n",
              "      <td id=\"T_fc556_row7_col10\" class=\"data row7 col10\" >-0.04</td>\n",
              "      <td id=\"T_fc556_row7_col11\" class=\"data row7 col11\" >-0.28</td>\n",
              "      <td id=\"T_fc556_row7_col12\" class=\"data row7 col12\" >0.22</td>\n",
              "      <td id=\"T_fc556_row7_col13\" class=\"data row7 col13\" >-0.04</td>\n",
              "      <td id=\"T_fc556_row7_col14\" class=\"data row7 col14\" >0.22</td>\n",
              "      <td id=\"T_fc556_row7_col15\" class=\"data row7 col15\" >-0.10</td>\n",
              "      <td id=\"T_fc556_row7_col16\" class=\"data row7 col16\" >0.33</td>\n",
              "    </tr>\n",
              "    <tr>\n",
              "      <th id=\"T_fc556_level0_row8\" class=\"row_heading level0 row8\" >ar_vr_gaming</th>\n",
              "      <td id=\"T_fc556_row8_col0\" class=\"data row8 col0\" >-0.03</td>\n",
              "      <td id=\"T_fc556_row8_col1\" class=\"data row8 col1\" >-0.00</td>\n",
              "      <td id=\"T_fc556_row8_col2\" class=\"data row8 col2\" >-0.17</td>\n",
              "      <td id=\"T_fc556_row8_col3\" class=\"data row8 col3\" >-0.13</td>\n",
              "      <td id=\"T_fc556_row8_col4\" class=\"data row8 col4\" >-0.32</td>\n",
              "      <td id=\"T_fc556_row8_col5\" class=\"data row8 col5\" >0.32</td>\n",
              "      <td id=\"T_fc556_row8_col6\" class=\"data row8 col6\" >0.04</td>\n",
              "      <td id=\"T_fc556_row8_col7\" class=\"data row8 col7\" >-0.04</td>\n",
              "      <td id=\"T_fc556_row8_col8\" class=\"data row8 col8\" >1.00</td>\n",
              "      <td id=\"T_fc556_row8_col9\" class=\"data row8 col9\" >-0.09</td>\n",
              "      <td id=\"T_fc556_row8_col10\" class=\"data row8 col10\" >-0.13</td>\n",
              "      <td id=\"T_fc556_row8_col11\" class=\"data row8 col11\" >-0.09</td>\n",
              "      <td id=\"T_fc556_row8_col12\" class=\"data row8 col12\" >-0.09</td>\n",
              "      <td id=\"T_fc556_row8_col13\" class=\"data row8 col13\" >-0.13</td>\n",
              "      <td id=\"T_fc556_row8_col14\" class=\"data row8 col14\" >-0.09</td>\n",
              "      <td id=\"T_fc556_row8_col15\" class=\"data row8 col15\" >-0.30</td>\n",
              "      <td id=\"T_fc556_row8_col16\" class=\"data row8 col16\" >-0.29</td>\n",
              "    </tr>\n",
              "    <tr>\n",
              "      <th id=\"T_fc556_level0_row9\" class=\"row_heading level0 row9\" >healthcare</th>\n",
              "      <td id=\"T_fc556_row9_col0\" class=\"data row9 col0\" >0.02</td>\n",
              "      <td id=\"T_fc556_row9_col1\" class=\"data row9 col1\" >-0.00</td>\n",
              "      <td id=\"T_fc556_row9_col2\" class=\"data row9 col2\" >-0.18</td>\n",
              "      <td id=\"T_fc556_row9_col3\" class=\"data row9 col3\" >-0.24</td>\n",
              "      <td id=\"T_fc556_row9_col4\" class=\"data row9 col4\" >0.27</td>\n",
              "      <td id=\"T_fc556_row9_col5\" class=\"data row9 col5\" >-0.27</td>\n",
              "      <td id=\"T_fc556_row9_col6\" class=\"data row9 col6\" >-0.22</td>\n",
              "      <td id=\"T_fc556_row9_col7\" class=\"data row9 col7\" >0.22</td>\n",
              "      <td id=\"T_fc556_row9_col8\" class=\"data row9 col8\" >-0.09</td>\n",
              "      <td id=\"T_fc556_row9_col9\" class=\"data row9 col9\" >1.00</td>\n",
              "      <td id=\"T_fc556_row9_col10\" class=\"data row9 col10\" >-0.09</td>\n",
              "      <td id=\"T_fc556_row9_col11\" class=\"data row9 col11\" >-0.06</td>\n",
              "      <td id=\"T_fc556_row9_col12\" class=\"data row9 col12\" >-0.06</td>\n",
              "      <td id=\"T_fc556_row9_col13\" class=\"data row9 col13\" >-0.09</td>\n",
              "      <td id=\"T_fc556_row9_col14\" class=\"data row9 col14\" >-0.06</td>\n",
              "      <td id=\"T_fc556_row9_col15\" class=\"data row9 col15\" >-0.21</td>\n",
              "      <td id=\"T_fc556_row9_col16\" class=\"data row9 col16\" >0.39</td>\n",
              "    </tr>\n",
              "    <tr>\n",
              "      <th id=\"T_fc556_level0_row10\" class=\"row_heading level0 row10\" >industry_4_0</th>\n",
              "      <td id=\"T_fc556_row10_col0\" class=\"data row10 col0\" >0.03</td>\n",
              "      <td id=\"T_fc556_row10_col1\" class=\"data row10 col1\" >0.00</td>\n",
              "      <td id=\"T_fc556_row10_col2\" class=\"data row10 col2\" >-0.22</td>\n",
              "      <td id=\"T_fc556_row10_col3\" class=\"data row10 col3\" >-0.29</td>\n",
              "      <td id=\"T_fc556_row10_col4\" class=\"data row10 col4\" >0.39</td>\n",
              "      <td id=\"T_fc556_row10_col5\" class=\"data row10 col5\" >-0.39</td>\n",
              "      <td id=\"T_fc556_row10_col6\" class=\"data row10 col6\" >0.04</td>\n",
              "      <td id=\"T_fc556_row10_col7\" class=\"data row10 col7\" >-0.04</td>\n",
              "      <td id=\"T_fc556_row10_col8\" class=\"data row10 col8\" >-0.13</td>\n",
              "      <td id=\"T_fc556_row10_col9\" class=\"data row10 col9\" >-0.09</td>\n",
              "      <td id=\"T_fc556_row10_col10\" class=\"data row10 col10\" >1.00</td>\n",
              "      <td id=\"T_fc556_row10_col11\" class=\"data row10 col11\" >-0.09</td>\n",
              "      <td id=\"T_fc556_row10_col12\" class=\"data row10 col12\" >-0.09</td>\n",
              "      <td id=\"T_fc556_row10_col13\" class=\"data row10 col13\" >-0.13</td>\n",
              "      <td id=\"T_fc556_row10_col14\" class=\"data row10 col14\" >-0.09</td>\n",
              "      <td id=\"T_fc556_row10_col15\" class=\"data row10 col15\" >-0.31</td>\n",
              "      <td id=\"T_fc556_row10_col16\" class=\"data row10 col16\" >0.35</td>\n",
              "    </tr>\n",
              "    <tr>\n",
              "      <th id=\"T_fc556_level0_row11\" class=\"row_heading level0 row11\" >io_t_devices</th>\n",
              "      <td id=\"T_fc556_row11_col0\" class=\"data row11 col0\" >0.02</td>\n",
              "      <td id=\"T_fc556_row11_col1\" class=\"data row11 col1\" >0.00</td>\n",
              "      <td id=\"T_fc556_row11_col2\" class=\"data row11 col2\" >0.39</td>\n",
              "      <td id=\"T_fc556_row11_col3\" class=\"data row11 col3\" >0.43</td>\n",
              "      <td id=\"T_fc556_row11_col4\" class=\"data row11 col4\" >0.26</td>\n",
              "      <td id=\"T_fc556_row11_col5\" class=\"data row11 col5\" >-0.26</td>\n",
              "      <td id=\"T_fc556_row11_col6\" class=\"data row11 col6\" >0.28</td>\n",
              "      <td id=\"T_fc556_row11_col7\" class=\"data row11 col7\" >-0.28</td>\n",
              "      <td id=\"T_fc556_row11_col8\" class=\"data row11 col8\" >-0.09</td>\n",
              "      <td id=\"T_fc556_row11_col9\" class=\"data row11 col9\" >-0.06</td>\n",
              "      <td id=\"T_fc556_row11_col10\" class=\"data row11 col10\" >-0.09</td>\n",
              "      <td id=\"T_fc556_row11_col11\" class=\"data row11 col11\" >1.00</td>\n",
              "      <td id=\"T_fc556_row11_col12\" class=\"data row11 col12\" >-0.06</td>\n",
              "      <td id=\"T_fc556_row11_col13\" class=\"data row11 col13\" >-0.09</td>\n",
              "      <td id=\"T_fc556_row11_col14\" class=\"data row11 col14\" >-0.06</td>\n",
              "      <td id=\"T_fc556_row11_col15\" class=\"data row11 col15\" >-0.21</td>\n",
              "      <td id=\"T_fc556_row11_col16\" class=\"data row11 col16\" >0.09</td>\n",
              "    </tr>\n",
              "    <tr>\n",
              "      <th id=\"T_fc556_level0_row12\" class=\"row_heading level0 row12\" >public_safety</th>\n",
              "      <td id=\"T_fc556_row12_col0\" class=\"data row12 col0\" >0.02</td>\n",
              "      <td id=\"T_fc556_row12_col1\" class=\"data row12 col1\" >0.00</td>\n",
              "      <td id=\"T_fc556_row12_col2\" class=\"data row12 col2\" >-0.18</td>\n",
              "      <td id=\"T_fc556_row12_col3\" class=\"data row12 col3\" >-0.24</td>\n",
              "      <td id=\"T_fc556_row12_col4\" class=\"data row12 col4\" >0.27</td>\n",
              "      <td id=\"T_fc556_row12_col5\" class=\"data row12 col5\" >-0.27</td>\n",
              "      <td id=\"T_fc556_row12_col6\" class=\"data row12 col6\" >-0.22</td>\n",
              "      <td id=\"T_fc556_row12_col7\" class=\"data row12 col7\" >0.22</td>\n",
              "      <td id=\"T_fc556_row12_col8\" class=\"data row12 col8\" >-0.09</td>\n",
              "      <td id=\"T_fc556_row12_col9\" class=\"data row12 col9\" >-0.06</td>\n",
              "      <td id=\"T_fc556_row12_col10\" class=\"data row12 col10\" >-0.09</td>\n",
              "      <td id=\"T_fc556_row12_col11\" class=\"data row12 col11\" >-0.06</td>\n",
              "      <td id=\"T_fc556_row12_col12\" class=\"data row12 col12\" >1.00</td>\n",
              "      <td id=\"T_fc556_row12_col13\" class=\"data row12 col13\" >-0.09</td>\n",
              "      <td id=\"T_fc556_row12_col14\" class=\"data row12 col14\" >-0.06</td>\n",
              "      <td id=\"T_fc556_row12_col15\" class=\"data row12 col15\" >-0.21</td>\n",
              "      <td id=\"T_fc556_row12_col16\" class=\"data row12 col16\" >0.39</td>\n",
              "    </tr>\n",
              "    <tr>\n",
              "      <th id=\"T_fc556_level0_row13\" class=\"row_heading level0 row13\" >smart_city_and_home</th>\n",
              "      <td id=\"T_fc556_row13_col0\" class=\"data row13 col0\" >0.03</td>\n",
              "      <td id=\"T_fc556_row13_col1\" class=\"data row13 col1\" >-0.00</td>\n",
              "      <td id=\"T_fc556_row13_col2\" class=\"data row13 col2\" >0.58</td>\n",
              "      <td id=\"T_fc556_row13_col3\" class=\"data row13 col3\" >0.21</td>\n",
              "      <td id=\"T_fc556_row13_col4\" class=\"data row13 col4\" >0.39</td>\n",
              "      <td id=\"T_fc556_row13_col5\" class=\"data row13 col5\" >-0.39</td>\n",
              "      <td id=\"T_fc556_row13_col6\" class=\"data row13 col6\" >0.04</td>\n",
              "      <td id=\"T_fc556_row13_col7\" class=\"data row13 col7\" >-0.04</td>\n",
              "      <td id=\"T_fc556_row13_col8\" class=\"data row13 col8\" >-0.13</td>\n",
              "      <td id=\"T_fc556_row13_col9\" class=\"data row13 col9\" >-0.09</td>\n",
              "      <td id=\"T_fc556_row13_col10\" class=\"data row13 col10\" >-0.13</td>\n",
              "      <td id=\"T_fc556_row13_col11\" class=\"data row13 col11\" >-0.09</td>\n",
              "      <td id=\"T_fc556_row13_col12\" class=\"data row13 col12\" >-0.09</td>\n",
              "      <td id=\"T_fc556_row13_col13\" class=\"data row13 col13\" >1.00</td>\n",
              "      <td id=\"T_fc556_row13_col14\" class=\"data row13 col14\" >-0.09</td>\n",
              "      <td id=\"T_fc556_row13_col15\" class=\"data row13 col15\" >-0.31</td>\n",
              "      <td id=\"T_fc556_row13_col16\" class=\"data row13 col16\" >0.13</td>\n",
              "    </tr>\n",
              "    <tr>\n",
              "      <th id=\"T_fc556_level0_row14\" class=\"row_heading level0 row14\" >smart_transportation</th>\n",
              "      <td id=\"T_fc556_row14_col0\" class=\"data row14 col0\" >0.02</td>\n",
              "      <td id=\"T_fc556_row14_col1\" class=\"data row14 col1\" >0.00</td>\n",
              "      <td id=\"T_fc556_row14_col2\" class=\"data row14 col2\" >-0.18</td>\n",
              "      <td id=\"T_fc556_row14_col3\" class=\"data row14 col3\" >-0.25</td>\n",
              "      <td id=\"T_fc556_row14_col4\" class=\"data row14 col4\" >0.27</td>\n",
              "      <td id=\"T_fc556_row14_col5\" class=\"data row14 col5\" >-0.27</td>\n",
              "      <td id=\"T_fc556_row14_col6\" class=\"data row14 col6\" >-0.22</td>\n",
              "      <td id=\"T_fc556_row14_col7\" class=\"data row14 col7\" >0.22</td>\n",
              "      <td id=\"T_fc556_row14_col8\" class=\"data row14 col8\" >-0.09</td>\n",
              "      <td id=\"T_fc556_row14_col9\" class=\"data row14 col9\" >-0.06</td>\n",
              "      <td id=\"T_fc556_row14_col10\" class=\"data row14 col10\" >-0.09</td>\n",
              "      <td id=\"T_fc556_row14_col11\" class=\"data row14 col11\" >-0.06</td>\n",
              "      <td id=\"T_fc556_row14_col12\" class=\"data row14 col12\" >-0.06</td>\n",
              "      <td id=\"T_fc556_row14_col13\" class=\"data row14 col13\" >-0.09</td>\n",
              "      <td id=\"T_fc556_row14_col14\" class=\"data row14 col14\" >1.00</td>\n",
              "      <td id=\"T_fc556_row14_col15\" class=\"data row14 col15\" >-0.22</td>\n",
              "      <td id=\"T_fc556_row14_col16\" class=\"data row14 col16\" >0.39</td>\n",
              "    </tr>\n",
              "    <tr>\n",
              "      <th id=\"T_fc556_level0_row15\" class=\"row_heading level0 row15\" >smartphone</th>\n",
              "      <td id=\"T_fc556_row15_col0\" class=\"data row15 col0\" >-0.07</td>\n",
              "      <td id=\"T_fc556_row15_col1\" class=\"data row15 col1\" >-0.00</td>\n",
              "      <td id=\"T_fc556_row15_col2\" class=\"data row15 col2\" >-0.07</td>\n",
              "      <td id=\"T_fc556_row15_col3\" class=\"data row15 col3\" >0.28</td>\n",
              "      <td id=\"T_fc556_row15_col4\" class=\"data row15 col4\" >-0.81</td>\n",
              "      <td id=\"T_fc556_row15_col5\" class=\"data row15 col5\" >0.81</td>\n",
              "      <td id=\"T_fc556_row15_col6\" class=\"data row15 col6\" >0.10</td>\n",
              "      <td id=\"T_fc556_row15_col7\" class=\"data row15 col7\" >-0.10</td>\n",
              "      <td id=\"T_fc556_row15_col8\" class=\"data row15 col8\" >-0.30</td>\n",
              "      <td id=\"T_fc556_row15_col9\" class=\"data row15 col9\" >-0.21</td>\n",
              "      <td id=\"T_fc556_row15_col10\" class=\"data row15 col10\" >-0.31</td>\n",
              "      <td id=\"T_fc556_row15_col11\" class=\"data row15 col11\" >-0.21</td>\n",
              "      <td id=\"T_fc556_row15_col12\" class=\"data row15 col12\" >-0.21</td>\n",
              "      <td id=\"T_fc556_row15_col13\" class=\"data row15 col13\" >-0.31</td>\n",
              "      <td id=\"T_fc556_row15_col14\" class=\"data row15 col14\" >-0.22</td>\n",
              "      <td id=\"T_fc556_row15_col15\" class=\"data row15 col15\" >1.00</td>\n",
              "      <td id=\"T_fc556_row15_col16\" class=\"data row15 col16\" >-0.73</td>\n",
              "    </tr>\n",
              "    <tr>\n",
              "      <th id=\"T_fc556_level0_row16\" class=\"row_heading level0 row16\" >slice_type</th>\n",
              "      <td id=\"T_fc556_row16_col0\" class=\"data row16 col0\" >0.08</td>\n",
              "      <td id=\"T_fc556_row16_col1\" class=\"data row16 col1\" >0.00</td>\n",
              "      <td id=\"T_fc556_row16_col2\" class=\"data row16 col2\" >-0.10</td>\n",
              "      <td id=\"T_fc556_row16_col3\" class=\"data row16 col3\" >-0.40</td>\n",
              "      <td id=\"T_fc556_row16_col4\" class=\"data row16 col4\" >0.91</td>\n",
              "      <td id=\"T_fc556_row16_col5\" class=\"data row16 col5\" >-0.91</td>\n",
              "      <td id=\"T_fc556_row16_col6\" class=\"data row16 col6\" >-0.33</td>\n",
              "      <td id=\"T_fc556_row16_col7\" class=\"data row16 col7\" >0.33</td>\n",
              "      <td id=\"T_fc556_row16_col8\" class=\"data row16 col8\" >-0.29</td>\n",
              "      <td id=\"T_fc556_row16_col9\" class=\"data row16 col9\" >0.39</td>\n",
              "      <td id=\"T_fc556_row16_col10\" class=\"data row16 col10\" >0.35</td>\n",
              "      <td id=\"T_fc556_row16_col11\" class=\"data row16 col11\" >0.09</td>\n",
              "      <td id=\"T_fc556_row16_col12\" class=\"data row16 col12\" >0.39</td>\n",
              "      <td id=\"T_fc556_row16_col13\" class=\"data row16 col13\" >0.13</td>\n",
              "      <td id=\"T_fc556_row16_col14\" class=\"data row16 col14\" >0.39</td>\n",
              "      <td id=\"T_fc556_row16_col15\" class=\"data row16 col15\" >-0.73</td>\n",
              "      <td id=\"T_fc556_row16_col16\" class=\"data row16 col16\" >1.00</td>\n",
              "    </tr>\n",
              "  </tbody>\n",
              "</table>\n"
            ],
            "text/plain": [
              "<pandas.io.formats.style.Styler at 0x7f9fadcb6e90>"
            ]
          },
          "execution_count": 23,
          "metadata": {},
          "output_type": "execute_result"
        }
      ],
      "source": [
        "klib.corr_mat(train)"
      ]
    },
    {
      "cell_type": "code",
      "execution_count": 24,
      "metadata": {
        "colab": {
          "base_uri": "https://localhost:8080/",
          "height": 1000
        },
        "id": "PL5nkHYq8SJ2",
        "outputId": "5a21638b-8857-4fee-b61e-1ec605c6a431"
      },
      "outputs": [
        {
          "data": {
            "text/plain": [
              "<Axes: xlabel='slice_type', ylabel='Density'>"
            ]
          },
          "execution_count": 24,
          "metadata": {},
          "output_type": "execute_result"
        },
        {
          "data": {
            "image/png": "[encoded data removed]",
            "text/plain": [
              "<Figure size 1500x300 with 1 Axes>"
            ]
          },
          "metadata": {},
          "output_type": "display_data"
        },
        {
          "data": {
            "image/png": "[encoded data removed]",
            "text/plain": [
              "<Figure size 1500x300 with 1 Axes>"
            ]
          },
          "metadata": {},
          "output_type": "display_data"
        },
        {
          "data": {
            "image/png": "[encoded data removed]",
            "text/plain": [
              "<Figure size 1500x300 with 1 Axes>"
            ]
          },
          "metadata": {},
          "output_type": "display_data"
        },
        {
          "data": {
            "image/png": "[encoded data removed]",
            "text/plain": [
              "<Figure size 1500x300 with 1 Axes>"
            ]
          },
          "metadata": {},
          "output_type": "display_data"
        },
        {
          "data": {
            "image/png": "[encoded data removed]",
            "text/plain": [
              "<Figure size 1500x300 with 1 Axes>"
            ]
          },
          "metadata": {},
          "output_type": "display_data"
        }
      ],
      "source": [
        "klib.dist_plot(train)"
      ]
    },
    {
      "cell_type": "code",
      "execution_count": 25,
      "metadata": {
        "colab": {
          "base_uri": "https://localhost:8080/",
          "height": 0
        },
        "id": "3ywDyxTp8yzL",
        "outputId": "0998e9f2-eead-4cb8-ad0b-1930329eb477"
      },
      "outputs": [
        {
          "name": "stdout",
          "output_type": "stream",
          "text": [
            "No missing values found in the dataset.\n"
          ]
        }
      ],
      "source": [
        "klib.missingval_plot(train)"
      ]
    },
    {
      "cell_type": "code",
      "execution_count": 26,
      "metadata": {
        "id": "zUmaoNVW9X1A"
      },
      "outputs": [],
      "source": [
        "##! pip install mlxtend"
      ]
    },
    {
      "cell_type": "code",
      "execution_count": 27,
      "metadata": {
        "colab": {
          "base_uri": "https://localhost:8080/",
          "height": 0
        },
        "id": "thyvc-cm9oq4",
        "outputId": "ac625ff0-c393-401a-cf01-47aa4bfe588c"
      },
      "outputs": [
        {
          "data": {
            "text/plain": [
              "Index(['lte_5g_category', 'time', 'packet_loss_rate', 'packet_delay', 'io_t',\n",
              "       'lte_5g', 'gbr', 'non_gbr', 'ar_vr_gaming', 'healthcare',\n",
              "       'industry_4_0', 'io_t_devices', 'public_safety', 'smart_city_and_home',\n",
              "       'smart_transportation', 'smartphone', 'slice_type'],\n",
              "      dtype='object')"
            ]
          },
          "execution_count": 27,
          "metadata": {},
          "output_type": "execute_result"
        }
      ],
      "source": [
        "train.columns"
      ]
    },
    {
      "cell_type": "code",
      "execution_count": 28,
      "metadata": {
        "id": "tpXHnSL49Szp"
      },
      "outputs": [],
      "source": [
        "num_var = [feature for feature in train.columns if train[feature].dtypes != 'O']\n",
        "discrete_var = [feature for feature in num_var if len(train[feature].unique()) <= 25]\n",
        "cont_var = [feature for feature in num_var if feature not in discrete_var]\n",
        "categ_var = [feature for feature in train.columns if feature not in num_var]"
      ]
    },
    {
      "cell_type": "code",
      "execution_count": 29,
      "metadata": {
        "colab": {
          "base_uri": "https://localhost:8080/",
          "height": 0
        },
        "id": "XIxZ9lZjDSls",
        "outputId": "dd8e7c7d-a501-4657-9f0d-c33231e437ef"
      },
      "outputs": [
        {
          "name": "stdout",
          "output_type": "stream",
          "text": [
            "The Numerical Columns : ['lte_5g_category', 'time', 'packet_loss_rate', 'packet_delay', 'io_t', 'lte_5g', 'gbr', 'non_gbr', 'ar_vr_gaming', 'healthcare', 'industry_4_0', 'io_t_devices', 'public_safety', 'smart_city_and_home', 'smart_transportation', 'smartphone', 'slice_type'] The discreate Columns : ['lte_5g_category', 'time', 'packet_loss_rate', 'packet_delay', 'io_t', 'lte_5g', 'gbr', 'non_gbr', 'ar_vr_gaming', 'healthcare', 'industry_4_0', 'io_t_devices', 'public_safety', 'smart_city_and_home', 'smart_transportation', 'smartphone', 'slice_type'] The continuous Columns : [] The categorical Columns : []\n"
          ]
        }
      ],
      "source": [
        "print(\"The Numerical Columns :\", num_var, \n",
        "      \"The discreate Columns :\", discrete_var, \n",
        "      \"The continuous Columns :\", cont_var, \n",
        "      \"The categorical Columns :\",categ_var)"
      ]
    },
    {
      "cell_type": "code",
      "execution_count": 30,
      "metadata": {
        "id": "L6x37XxK9TBw"
      },
      "outputs": [],
      "source": [
        "def find_var_type(var):\n",
        "    \n",
        "\n",
        "    if var in discrete_var:\n",
        "        print(\"{} is a Numerical Variable, Discrete in nature\".format(var))\n",
        "    elif var in cont_var :\n",
        "        print(\"{} is a Numerical Variable, Continuous in nature\".format(var))\n",
        "    else :\n",
        "        print(\"{} is a Categorical Variable\".format(var))"
      ]
    },
    {
      "cell_type": "code",
      "execution_count": 31,
      "metadata": {
        "colab": {
          "base_uri": "https://localhost:8080/",
          "height": 0
        },
        "id": "eOGoHuRF_fXC",
        "outputId": "df1eaa04-7483-4334-b11e-9714214ababe"
      },
      "outputs": [
        {
          "name": "stdout",
          "output_type": "stream",
          "text": [
            "The continuous variables are : []\n",
            "The categorical variables are : []\n"
          ]
        }
      ],
      "source": [
        "print(\"The continuous variables are :\", cont_var)\n",
        "print(\"The categorical variables are :\", categ_var)"
      ]
    },
    {
      "cell_type": "code",
      "execution_count": 32,
      "metadata": {
        "colab": {
          "base_uri": "https://localhost:8080/",
          "height": 0
        },
        "id": "0VSjRm8dyEh0",
        "outputId": "d930e548-76fe-4593-cbf4-636de4e819b1"
      },
      "outputs": [
        {
          "name": "stdout",
          "output_type": "stream",
          "text": [
            "lte_5g_category          10.000000\n",
            "time                     12.000000\n",
            "packet_loss_rate          0.009999\n",
            "packet_delay            100.000000\n",
            "io_t                      1.000000\n",
            "lte_5g                    1.000000\n",
            "gbr                       1.000000\n",
            "non_gbr                   1.000000\n",
            "ar_vr_gaming              0.000000\n",
            "healthcare                0.000000\n",
            "industry_4_0              0.000000\n",
            "io_t_devices              0.000000\n",
            "public_safety             0.000000\n",
            "smart_city_and_home       0.000000\n",
            "smart_transportation      0.000000\n",
            "smartphone                1.000000\n",
            "slice_type                1.000000\n",
            "dtype: float64\n"
          ]
        }
      ],
      "source": [
        "Q1 = train.quantile(0.25)\n",
        "Q3 = train.quantile(0.75)\n",
        "IQR = Q3 - Q1\n",
        "print(IQR)"
      ]
    },
    {
      "cell_type": "code",
      "execution_count": 33,
      "metadata": {
        "colab": {
          "base_uri": "https://localhost:8080/",
          "height": 0
        },
        "id": "rVhJLLKx_fnM",
        "outputId": "76371572-7e7b-4e75-c888-bff92159cb25"
      },
      "outputs": [
        {
          "name": "stdout",
          "output_type": "stream",
          "text": [
            "lte_5g_category          10.000000\n",
            "time                     12.000000\n",
            "packet_loss_rate          0.009999\n",
            "packet_delay            100.000000\n",
            "io_t                      1.000000\n",
            "lte_5g                    1.000000\n",
            "gbr                       1.000000\n",
            "non_gbr                   1.000000\n",
            "ar_vr_gaming              0.000000\n",
            "healthcare                0.000000\n",
            "industry_4_0              0.000000\n",
            "io_t_devices              0.000000\n",
            "public_safety             0.000000\n",
            "smart_city_and_home       0.000000\n",
            "smart_transportation      0.000000\n",
            "smartphone                1.000000\n",
            "slice_type                1.000000\n",
            "dtype: float64\n"
          ]
        }
      ],
      "source": [
        "Q1 = train.quantile(0.25)\n",
        "Q3 = train.quantile(0.75)\n",
        "IQR = Q3 - Q1\n",
        "print(IQR)"
      ]
    },
    {
      "cell_type": "code",
      "execution_count": 34,
      "metadata": {
        "colab": {
          "base_uri": "https://localhost:8080/",
          "height": 0
        },
        "id": "urrbcmZ0I0wL",
        "outputId": "aed18d89-6bd2-4d9d-ccb4-1f3688dd013f"
      },
      "outputs": [
        {
          "data": {
            "text/plain": [
              "Index(['lte_5g_category', 'time', 'packet_loss_rate', 'packet_delay', 'io_t',\n",
              "       'lte_5g', 'gbr', 'non_gbr', 'ar_vr_gaming', 'healthcare',\n",
              "       'industry_4_0', 'io_t_devices', 'public_safety', 'smart_city_and_home',\n",
              "       'smart_transportation', 'smartphone'],\n",
              "      dtype='object')"
            ]
          },
          "execution_count": 34,
          "metadata": {},
          "output_type": "execute_result"
        }
      ],
      "source": [
        "test.columns"
      ]
    },
    {
      "cell_type": "code",
      "execution_count": 35,
      "metadata": {
        "id": "tMPJH7KnJWDm"
      },
      "outputs": [],
      "source": [
        "test[\"slice_type\"] = 0"
      ]
    },
    {
      "cell_type": "code",
      "execution_count": 36,
      "metadata": {
        "colab": {
          "base_uri": "https://localhost:8080/",
          "height": 0
        },
        "id": "kAOPfnz9I_av",
        "outputId": "43a5b66c-c81b-4575-f349-256653621c67"
      },
      "outputs": [
        {
          "data": {
            "text/plain": [
              "Index(['lte_5g_category', 'time', 'packet_loss_rate', 'packet_delay', 'io_t',\n",
              "       'lte_5g', 'gbr', 'non_gbr', 'ar_vr_gaming', 'healthcare',\n",
              "       'industry_4_0', 'io_t_devices', 'public_safety', 'smart_city_and_home',\n",
              "       'smart_transportation', 'smartphone', 'slice_type'],\n",
              "      dtype='object')"
            ]
          },
          "execution_count": 36,
          "metadata": {},
          "output_type": "execute_result"
        }
      ],
      "source": [
        "train.columns"
      ]
    },
    {
      "cell_type": "code",
      "execution_count": 37,
      "metadata": {
        "colab": {
          "base_uri": "https://localhost:8080/",
          "height": 0
        },
        "id": "4gBG_xVBSZRH",
        "outputId": "3af65d50-3d7d-43e5-9b62-4a18d1ccf5a6"
      },
      "outputs": [
        {
          "data": {
            "text/plain": [
              "1    4772\n",
              "3    2098\n",
              "2    2088\n",
              "Name: slice_type, dtype: int64"
            ]
          },
          "execution_count": 37,
          "metadata": {},
          "output_type": "execute_result"
        }
      ],
      "source": [
        "train[\"slice_type\"].value_counts()"
      ]
    },
    {
      "cell_type": "code",
      "execution_count": 38,
      "metadata": {
        "id": "ef0BzFxPHm3a"
      },
      "outputs": [],
      "source": [
        "X_train = train.drop(columns = \"slice_type\")"
      ]
    },
    {
      "cell_type": "code",
      "execution_count": 39,
      "metadata": {
        "id": "C4pCQULdHwVQ"
      },
      "outputs": [],
      "source": [
        "X_test = test.drop(columns = \"slice_type\")"
      ]
    },
    {
      "cell_type": "code",
      "execution_count": 40,
      "metadata": {
        "id": "va7LE5UGH3EJ"
      },
      "outputs": [],
      "source": [
        "y_train = train[\"slice_type\"]"
      ]
    },
    {
      "cell_type": "code",
      "execution_count": 41,
      "metadata": {
        "id": "J_RfIABGH907"
      },
      "outputs": [],
      "source": [
        "y_test = test[\"slice_type\"]"
      ]
    },
    {
      "cell_type": "code",
      "execution_count": 42,
      "metadata": {
        "colab": {
          "base_uri": "https://localhost:8080/",
          "height": 270
        },
        "id": "QKTcK10iFPDU",
        "outputId": "e8f65907-721c-414b-86e9-713d9fe5a399"
      },
      "outputs": [
        {
          "data": {
            "text/html": [
              "\n",
              "  <div id=\"df-6127dca4-b42d-4f1a-bcc4-130d04d43b58\">\n",
              "    <div class=\"colab-df-container\">\n",
              "      <div>\n",
              "<style scoped>\n",
              "    .dataframe tbody tr th:only-of-type {\n",
              "        vertical-align: middle;\n",
              "    }\n",
              "\n",
              "    .dataframe tbody tr th {\n",
              "        vertical-align: top;\n",
              "    }\n",
              "\n",
              "    .dataframe thead th {\n",
              "        text-align: right;\n",
              "    }\n",
              "</style>\n",
              "<table border=\"1\" class=\"dataframe\">\n",
              "  <thead>\n",
              "    <tr style=\"text-align: right;\">\n",
              "      <th></th>\n",
              "      <th>lte_5g_category</th>\n",
              "      <th>time</th>\n",
              "      <th>packet_loss_rate</th>\n",
              "      <th>packet_delay</th>\n",
              "      <th>io_t</th>\n",
              "      <th>lte_5g</th>\n",
              "      <th>gbr</th>\n",
              "      <th>non_gbr</th>\n",
              "      <th>ar_vr_gaming</th>\n",
              "      <th>healthcare</th>\n",
              "      <th>industry_4_0</th>\n",
              "      <th>io_t_devices</th>\n",
              "      <th>public_safety</th>\n",
              "      <th>smart_city_and_home</th>\n",
              "      <th>smart_transportation</th>\n",
              "      <th>smartphone</th>\n",
              "    </tr>\n",
              "  </thead>\n",
              "  <tbody>\n",
              "    <tr>\n",
              "      <th>0</th>\n",
              "      <td>0.3</td>\n",
              "      <td>-1.000000</td>\n",
              "      <td>-0.09991</td>\n",
              "      <td>-0.65</td>\n",
              "      <td>1.0</td>\n",
              "      <td>-1.0</td>\n",
              "      <td>0.0</td>\n",
              "      <td>0.0</td>\n",
              "      <td>0.0</td>\n",
              "      <td>0.0</td>\n",
              "      <td>0.0</td>\n",
              "      <td>0.0</td>\n",
              "      <td>1.0</td>\n",
              "      <td>0.0</td>\n",
              "      <td>0.0</td>\n",
              "      <td>0.0</td>\n",
              "    </tr>\n",
              "    <tr>\n",
              "      <th>1</th>\n",
              "      <td>0.7</td>\n",
              "      <td>0.666667</td>\n",
              "      <td>0.00000</td>\n",
              "      <td>0.25</td>\n",
              "      <td>0.0</td>\n",
              "      <td>0.0</td>\n",
              "      <td>1.0</td>\n",
              "      <td>-1.0</td>\n",
              "      <td>1.0</td>\n",
              "      <td>0.0</td>\n",
              "      <td>0.0</td>\n",
              "      <td>0.0</td>\n",
              "      <td>0.0</td>\n",
              "      <td>0.0</td>\n",
              "      <td>0.0</td>\n",
              "      <td>0.0</td>\n",
              "    </tr>\n",
              "    <tr>\n",
              "      <th>2</th>\n",
              "      <td>0.6</td>\n",
              "      <td>0.166667</td>\n",
              "      <td>-0.09991</td>\n",
              "      <td>2.25</td>\n",
              "      <td>0.0</td>\n",
              "      <td>0.0</td>\n",
              "      <td>0.0</td>\n",
              "      <td>0.0</td>\n",
              "      <td>0.0</td>\n",
              "      <td>0.0</td>\n",
              "      <td>0.0</td>\n",
              "      <td>0.0</td>\n",
              "      <td>0.0</td>\n",
              "      <td>0.0</td>\n",
              "      <td>0.0</td>\n",
              "      <td>1.0</td>\n",
              "    </tr>\n",
              "    <tr>\n",
              "      <th>3</th>\n",
              "      <td>-0.8</td>\n",
              "      <td>0.416667</td>\n",
              "      <td>0.90009</td>\n",
              "      <td>0.25</td>\n",
              "      <td>0.0</td>\n",
              "      <td>0.0</td>\n",
              "      <td>0.0</td>\n",
              "      <td>0.0</td>\n",
              "      <td>0.0</td>\n",
              "      <td>0.0</td>\n",
              "      <td>0.0</td>\n",
              "      <td>0.0</td>\n",
              "      <td>0.0</td>\n",
              "      <td>0.0</td>\n",
              "      <td>0.0</td>\n",
              "      <td>1.0</td>\n",
              "    </tr>\n",
              "    <tr>\n",
              "      <th>4</th>\n",
              "      <td>-0.2</td>\n",
              "      <td>-0.666667</td>\n",
              "      <td>0.90009</td>\n",
              "      <td>-0.25</td>\n",
              "      <td>1.0</td>\n",
              "      <td>-1.0</td>\n",
              "      <td>0.0</td>\n",
              "      <td>0.0</td>\n",
              "      <td>0.0</td>\n",
              "      <td>0.0</td>\n",
              "      <td>0.0</td>\n",
              "      <td>0.0</td>\n",
              "      <td>0.0</td>\n",
              "      <td>1.0</td>\n",
              "      <td>0.0</td>\n",
              "      <td>0.0</td>\n",
              "    </tr>\n",
              "  </tbody>\n",
              "</table>\n",
              "</div>\n",
              "      <button class=\"colab-df-convert\" onclick=\"convertToInteractive('df-6127dca4-b42d-4f1a-bcc4-130d04d43b58')\"\n",
              "              title=\"Convert this dataframe to an interactive table.\"\n",
              "              style=\"display:none;\">\n",
              "        \n",
              "  <svg xmlns=\"http://www.w3.org/2000/svg\" height=\"24px\"viewBox=\"0 0 24 24\"\n",
              "       width=\"24px\">\n",
              "    <path d=\"M0 0h24v24H0V0z\" fill=\"none\"/>\n",
              "    <path d=\"M18.56 5.44l.94 2.06.94-2.06 2.06-.94-2.06-.94-.94-2.06-.94 2.06-2.06.94zm-11 1L8.5 8.5l.94-2.06 2.06-.94-2.06-.94L8.5 2.5l-.94 2.06-2.06.94zm10 10l.94 2.06.94-2.06 2.06-.94-2.06-.94-.94-2.06-.94 2.06-2.06.94z\"/><path d=\"M17.41 7.96l-1.37-1.37c-.4-.4-.92-.59-1.43-.59-.52 0-1.04.2-1.43.59L10.3 9.45l-7.72 7.72c-.78.78-.78 2.05 0 2.83L4 21.41c.39.39.9.59 1.41.59.51 0 1.02-.2 1.41-.59l7.78-7.78 2.81-2.81c.8-.78.8-2.07 0-2.86zM5.41 20L4 18.59l7.72-7.72 1.47 1.35L5.41 20z\"/>\n",
              "  </svg>\n",
              "      </button>\n",
              "      \n",
              "  <style>\n",
              "    .colab-df-container {\n",
              "      display:flex;\n",
              "      flex-wrap:wrap;\n",
              "      gap: 12px;\n",
              "    }\n",
              "\n",
              "    .colab-df-convert {\n",
              "      background-color: #E8F0FE;\n",
              "      border: none;\n",
              "      border-radius: 50%;\n",
              "      cursor: pointer;\n",
              "      display: none;\n",
              "      fill: #1967D2;\n",
              "      height: 32px;\n",
              "      padding: 0 0 0 0;\n",
              "      width: 32px;\n",
              "    }\n",
              "\n",
              "    .colab-df-convert:hover {\n",
              "      background-color: #E2EBFA;\n",
              "      box-shadow: 0px 1px 2px rgba(60, 64, 67, 0.3), 0px 1px 3px 1px rgba(60, 64, 67, 0.15);\n",
              "      fill: #174EA6;\n",
              "    }\n",
              "\n",
              "    [theme=dark] .colab-df-convert {\n",
              "      background-color: #3B4455;\n",
              "      fill: #D2E3FC;\n",
              "    }\n",
              "\n",
              "    [theme=dark] .colab-df-convert:hover {\n",
              "      background-color: #434B5C;\n",
              "      box-shadow: 0px 1px 3px 1px rgba(0, 0, 0, 0.15);\n",
              "      filter: drop-shadow(0px 1px 2px rgba(0, 0, 0, 0.3));\n",
              "      fill: #FFFFFF;\n",
              "    }\n",
              "  </style>\n",
              "\n",
              "      <script>\n",
              "        const buttonEl =\n",
              "          document.querySelector('#df-6127dca4-b42d-4f1a-bcc4-130d04d43b58 button.colab-df-convert');\n",
              "        buttonEl.style.display =\n",
              "          google.colab.kernel.accessAllowed ? 'block' : 'none';\n",
              "\n",
              "        async function convertToInteractive(key) {\n",
              "          const element = document.querySelector('#df-6127dca4-b42d-4f1a-bcc4-130d04d43b58');\n",
              "          const dataTable =\n",
              "            await google.colab.kernel.invokeFunction('convertToInteractive',\n",
              "                                                     [key], {});\n",
              "          if (!dataTable) return;\n",
              "\n",
              "          const docLinkHtml = 'Like what you see? Visit the ' +\n",
              "            '<a target=\"_blank\" href=https://colab.research.google.com/notebooks/data_table.ipynb>data table notebook</a>'\n",
              "            + ' to learn more about interactive tables.';\n",
              "          element.innerHTML = '';\n",
              "          dataTable['output_type'] = 'display_data';\n",
              "          await google.colab.output.renderOutput(dataTable, element);\n",
              "          const docLink = document.createElement('div');\n",
              "          docLink.innerHTML = docLinkHtml;\n",
              "          element.appendChild(docLink);\n",
              "        }\n",
              "      </script>\n",
              "    </div>\n",
              "  </div>\n",
              "  "
            ],
            "text/plain": [
              "   lte_5g_category      time  packet_loss_rate  packet_delay  io_t  lte_5g  \\\n",
              "0              0.3 -1.000000          -0.09991         -0.65   1.0    -1.0   \n",
              "1              0.7  0.666667           0.00000          0.25   0.0     0.0   \n",
              "2              0.6  0.166667          -0.09991          2.25   0.0     0.0   \n",
              "3             -0.8  0.416667           0.90009          0.25   0.0     0.0   \n",
              "4             -0.2 -0.666667           0.90009         -0.25   1.0    -1.0   \n",
              "\n",
              "   gbr  non_gbr  ar_vr_gaming  healthcare  industry_4_0  io_t_devices  \\\n",
              "0  0.0      0.0           0.0         0.0           0.0           0.0   \n",
              "1  1.0     -1.0           1.0         0.0           0.0           0.0   \n",
              "2  0.0      0.0           0.0         0.0           0.0           0.0   \n",
              "3  0.0      0.0           0.0         0.0           0.0           0.0   \n",
              "4  0.0      0.0           0.0         0.0           0.0           0.0   \n",
              "\n",
              "   public_safety  smart_city_and_home  smart_transportation  smartphone  \n",
              "0            1.0                  0.0                   0.0         0.0  \n",
              "1            0.0                  0.0                   0.0         0.0  \n",
              "2            0.0                  0.0                   0.0         1.0  \n",
              "3            0.0                  0.0                   0.0         1.0  \n",
              "4            0.0                  1.0                   0.0         0.0  "
            ]
          },
          "execution_count": 42,
          "metadata": {},
          "output_type": "execute_result"
        }
      ],
      "source": [
        "from sklearn.preprocessing import RobustScaler\n",
        "scaler=RobustScaler()\n",
        "X_scaler_train=pd.DataFrame(scaler.fit_transform(X_train),columns=X_train.columns)\n",
        "X_scaler_train.head()"
      ]
    },
    {
      "cell_type": "code",
      "execution_count": 43,
      "metadata": {
        "colab": {
          "base_uri": "https://localhost:8080/",
          "height": 270
        },
        "id": "bhd431HzFPTE",
        "outputId": "1b279a2c-58c2-4c87-f6b1-e84db1eea056"
      },
      "outputs": [
        {
          "data": {
            "text/html": [
              "\n",
              "  <div id=\"df-fa71494e-5bab-48dd-8ad6-c321c84e8cb2\">\n",
              "    <div class=\"colab-df-container\">\n",
              "      <div>\n",
              "<style scoped>\n",
              "    .dataframe tbody tr th:only-of-type {\n",
              "        vertical-align: middle;\n",
              "    }\n",
              "\n",
              "    .dataframe tbody tr th {\n",
              "        vertical-align: top;\n",
              "    }\n",
              "\n",
              "    .dataframe thead th {\n",
              "        text-align: right;\n",
              "    }\n",
              "</style>\n",
              "<table border=\"1\" class=\"dataframe\">\n",
              "  <thead>\n",
              "    <tr style=\"text-align: right;\">\n",
              "      <th></th>\n",
              "      <th>lte_5g_category</th>\n",
              "      <th>time</th>\n",
              "      <th>packet_loss_rate</th>\n",
              "      <th>packet_delay</th>\n",
              "      <th>io_t</th>\n",
              "      <th>lte_5g</th>\n",
              "      <th>gbr</th>\n",
              "      <th>non_gbr</th>\n",
              "      <th>ar_vr_gaming</th>\n",
              "      <th>healthcare</th>\n",
              "      <th>industry_4_0</th>\n",
              "      <th>io_t_devices</th>\n",
              "      <th>public_safety</th>\n",
              "      <th>smart_city_and_home</th>\n",
              "      <th>smart_transportation</th>\n",
              "      <th>smartphone</th>\n",
              "    </tr>\n",
              "  </thead>\n",
              "  <tbody>\n",
              "    <tr>\n",
              "      <th>0</th>\n",
              "      <td>0.4</td>\n",
              "      <td>0.408163</td>\n",
              "      <td>0.00000</td>\n",
              "      <td>0.25</td>\n",
              "      <td>0.0</td>\n",
              "      <td>0.0</td>\n",
              "      <td>1.0</td>\n",
              "      <td>-1.0</td>\n",
              "      <td>1.0</td>\n",
              "      <td>0.0</td>\n",
              "      <td>0.0</td>\n",
              "      <td>0.0</td>\n",
              "      <td>0.0</td>\n",
              "      <td>0.0</td>\n",
              "      <td>0.0</td>\n",
              "      <td>0.0</td>\n",
              "    </tr>\n",
              "    <tr>\n",
              "      <th>1</th>\n",
              "      <td>0.3</td>\n",
              "      <td>0.489796</td>\n",
              "      <td>-0.09991</td>\n",
              "      <td>-0.65</td>\n",
              "      <td>1.0</td>\n",
              "      <td>-1.0</td>\n",
              "      <td>0.0</td>\n",
              "      <td>0.0</td>\n",
              "      <td>0.0</td>\n",
              "      <td>0.0</td>\n",
              "      <td>0.0</td>\n",
              "      <td>0.0</td>\n",
              "      <td>0.0</td>\n",
              "      <td>0.0</td>\n",
              "      <td>1.0</td>\n",
              "      <td>0.0</td>\n",
              "    </tr>\n",
              "    <tr>\n",
              "      <th>2</th>\n",
              "      <td>0.0</td>\n",
              "      <td>-0.408163</td>\n",
              "      <td>0.00000</td>\n",
              "      <td>-0.25</td>\n",
              "      <td>1.0</td>\n",
              "      <td>-1.0</td>\n",
              "      <td>1.0</td>\n",
              "      <td>-1.0</td>\n",
              "      <td>0.0</td>\n",
              "      <td>0.0</td>\n",
              "      <td>1.0</td>\n",
              "      <td>0.0</td>\n",
              "      <td>0.0</td>\n",
              "      <td>0.0</td>\n",
              "      <td>0.0</td>\n",
              "      <td>0.0</td>\n",
              "    </tr>\n",
              "    <tr>\n",
              "      <th>3</th>\n",
              "      <td>0.9</td>\n",
              "      <td>0.163265</td>\n",
              "      <td>0.00000</td>\n",
              "      <td>-0.25</td>\n",
              "      <td>1.0</td>\n",
              "      <td>-1.0</td>\n",
              "      <td>1.0</td>\n",
              "      <td>-1.0</td>\n",
              "      <td>0.0</td>\n",
              "      <td>0.0</td>\n",
              "      <td>1.0</td>\n",
              "      <td>0.0</td>\n",
              "      <td>0.0</td>\n",
              "      <td>0.0</td>\n",
              "      <td>0.0</td>\n",
              "      <td>0.0</td>\n",
              "    </tr>\n",
              "    <tr>\n",
              "      <th>4</th>\n",
              "      <td>-0.9</td>\n",
              "      <td>0.816327</td>\n",
              "      <td>0.00000</td>\n",
              "      <td>-0.25</td>\n",
              "      <td>0.0</td>\n",
              "      <td>0.0</td>\n",
              "      <td>0.0</td>\n",
              "      <td>0.0</td>\n",
              "      <td>1.0</td>\n",
              "      <td>0.0</td>\n",
              "      <td>0.0</td>\n",
              "      <td>0.0</td>\n",
              "      <td>0.0</td>\n",
              "      <td>0.0</td>\n",
              "      <td>0.0</td>\n",
              "      <td>0.0</td>\n",
              "    </tr>\n",
              "  </tbody>\n",
              "</table>\n",
              "</div>\n",
              "      <button class=\"colab-df-convert\" onclick=\"convertToInteractive('df-fa71494e-5bab-48dd-8ad6-c321c84e8cb2')\"\n",
              "              title=\"Convert this dataframe to an interactive table.\"\n",
              "              style=\"display:none;\">\n",
              "        \n",
              "  <svg xmlns=\"http://www.w3.org/2000/svg\" height=\"24px\"viewBox=\"0 0 24 24\"\n",
              "       width=\"24px\">\n",
              "    <path d=\"M0 0h24v24H0V0z\" fill=\"none\"/>\n",
              "    <path d=\"M18.56 5.44l.94 2.06.94-2.06 2.06-.94-2.06-.94-.94-2.06-.94 2.06-2.06.94zm-11 1L8.5 8.5l.94-2.06 2.06-.94-2.06-.94L8.5 2.5l-.94 2.06-2.06.94zm10 10l.94 2.06.94-2.06 2.06-.94-2.06-.94-.94-2.06-.94 2.06-2.06.94z\"/><path d=\"M17.41 7.96l-1.37-1.37c-.4-.4-.92-.59-1.43-.59-.52 0-1.04.2-1.43.59L10.3 9.45l-7.72 7.72c-.78.78-.78 2.05 0 2.83L4 21.41c.39.39.9.59 1.41.59.51 0 1.02-.2 1.41-.59l7.78-7.78 2.81-2.81c.8-.78.8-2.07 0-2.86zM5.41 20L4 18.59l7.72-7.72 1.47 1.35L5.41 20z\"/>\n",
              "  </svg>\n",
              "      </button>\n",
              "      \n",
              "  <style>\n",
              "    .colab-df-container {\n",
              "      display:flex;\n",
              "      flex-wrap:wrap;\n",
              "      gap: 12px;\n",
              "    }\n",
              "\n",
              "    .colab-df-convert {\n",
              "      background-color: #E8F0FE;\n",
              "      border: none;\n",
              "      border-radius: 50%;\n",
              "      cursor: pointer;\n",
              "      display: none;\n",
              "      fill: #1967D2;\n",
              "      height: 32px;\n",
              "      padding: 0 0 0 0;\n",
              "      width: 32px;\n",
              "    }\n",
              "\n",
              "    .colab-df-convert:hover {\n",
              "      background-color: #E2EBFA;\n",
              "      box-shadow: 0px 1px 2px rgba(60, 64, 67, 0.3), 0px 1px 3px 1px rgba(60, 64, 67, 0.15);\n",
              "      fill: #174EA6;\n",
              "    }\n",
              "\n",
              "    [theme=dark] .colab-df-convert {\n",
              "      background-color: #3B4455;\n",
              "      fill: #D2E3FC;\n",
              "    }\n",
              "\n",
              "    [theme=dark] .colab-df-convert:hover {\n",
              "      background-color: #434B5C;\n",
              "      box-shadow: 0px 1px 3px 1px rgba(0, 0, 0, 0.15);\n",
              "      filter: drop-shadow(0px 1px 2px rgba(0, 0, 0, 0.3));\n",
              "      fill: #FFFFFF;\n",
              "    }\n",
              "  </style>\n",
              "\n",
              "      <script>\n",
              "        const buttonEl =\n",
              "          document.querySelector('#df-fa71494e-5bab-48dd-8ad6-c321c84e8cb2 button.colab-df-convert');\n",
              "        buttonEl.style.display =\n",
              "          google.colab.kernel.accessAllowed ? 'block' : 'none';\n",
              "\n",
              "        async function convertToInteractive(key) {\n",
              "          const element = document.querySelector('#df-fa71494e-5bab-48dd-8ad6-c321c84e8cb2');\n",
              "          const dataTable =\n",
              "            await google.colab.kernel.invokeFunction('convertToInteractive',\n",
              "                                                     [key], {});\n",
              "          if (!dataTable) return;\n",
              "\n",
              "          const docLinkHtml = 'Like what you see? Visit the ' +\n",
              "            '<a target=\"_blank\" href=https://colab.research.google.com/notebooks/data_table.ipynb>data table notebook</a>'\n",
              "            + ' to learn more about interactive tables.';\n",
              "          element.innerHTML = '';\n",
              "          dataTable['output_type'] = 'display_data';\n",
              "          await google.colab.output.renderOutput(dataTable, element);\n",
              "          const docLink = document.createElement('div');\n",
              "          docLink.innerHTML = docLinkHtml;\n",
              "          element.appendChild(docLink);\n",
              "        }\n",
              "      </script>\n",
              "    </div>\n",
              "  </div>\n",
              "  "
            ],
            "text/plain": [
              "   lte_5g_category      time  packet_loss_rate  packet_delay  io_t  lte_5g  \\\n",
              "0              0.4  0.408163           0.00000          0.25   0.0     0.0   \n",
              "1              0.3  0.489796          -0.09991         -0.65   1.0    -1.0   \n",
              "2              0.0 -0.408163           0.00000         -0.25   1.0    -1.0   \n",
              "3              0.9  0.163265           0.00000         -0.25   1.0    -1.0   \n",
              "4             -0.9  0.816327           0.00000         -0.25   0.0     0.0   \n",
              "\n",
              "   gbr  non_gbr  ar_vr_gaming  healthcare  industry_4_0  io_t_devices  \\\n",
              "0  1.0     -1.0           1.0         0.0           0.0           0.0   \n",
              "1  0.0      0.0           0.0         0.0           0.0           0.0   \n",
              "2  1.0     -1.0           0.0         0.0           1.0           0.0   \n",
              "3  1.0     -1.0           0.0         0.0           1.0           0.0   \n",
              "4  0.0      0.0           1.0         0.0           0.0           0.0   \n",
              "\n",
              "   public_safety  smart_city_and_home  smart_transportation  smartphone  \n",
              "0            0.0                  0.0                   0.0         0.0  \n",
              "1            0.0                  0.0                   1.0         0.0  \n",
              "2            0.0                  0.0                   0.0         0.0  \n",
              "3            0.0                  0.0                   0.0         0.0  \n",
              "4            0.0                  0.0                   0.0         0.0  "
            ]
          },
          "execution_count": 43,
          "metadata": {},
          "output_type": "execute_result"
        }
      ],
      "source": [
        "X_scaler_test=pd.DataFrame(scaler.fit_transform(X_test),columns=X_test.columns)\n",
        "X_scaler_test.head()"
      ]
    },
    {
      "cell_type": "code",
      "execution_count": 44,
      "metadata": {
        "colab": {
          "base_uri": "https://localhost:8080/",
          "height": 0
        },
        "id": "fH93av9gIbCT",
        "outputId": "71e497f2-087f-4c2b-bdcb-ff0741af3bbe"
      },
      "outputs": [
        {
          "name": "stdout",
          "output_type": "stream",
          "text": [
            "(8958, 16) (8960, 16)\n",
            "(8958,) (8960,)\n"
          ]
        }
      ],
      "source": [
        "print(X_scaler_train.shape, X_scaler_test.shape)\n",
        "print(y_train.shape, y_test.shape)"
      ]
    },
    {
      "cell_type": "code",
      "execution_count": 45,
      "metadata": {
        "id": "KvBcJKZYIbIm"
      },
      "outputs": [],
      "source": [
        "from sklearn.feature_selection import SelectKBest\n",
        "from sklearn.feature_selection import chi2"
      ]
    },
    {
      "cell_type": "code",
      "execution_count": 46,
      "metadata": {
        "colab": {
          "base_uri": "https://localhost:8080/",
          "height": 75
        },
        "id": "CdajMo0bIbU4",
        "outputId": "bd19ce55-0279-42b6-b0df-6091384f8bcc"
      },
      "outputs": [
        {
          "data": {
            "text/html": [
              "<style>#sk-container-id-1 {color: black;background-color: white;}#sk-container-id-1 pre{padding: 0;}#sk-container-id-1 div.sk-toggleable {background-color: white;}#sk-container-id-1 label.sk-toggleable__label {cursor: pointer;display: block;width: 100%;margin-bottom: 0;padding: 0.3em;box-sizing: border-box;text-align: center;}#sk-container-id-1 label.sk-toggleable__label-arrow:before {content: \"▸\";float: left;margin-right: 0.25em;color: #696969;}#sk-container-id-1 label.sk-toggleable__label-arrow:hover:before {color: black;}#sk-container-id-1 div.sk-estimator:hover label.sk-toggleable__label-arrow:before {color: black;}#sk-container-id-1 div.sk-toggleable__content {max-height: 0;max-width: 0;overflow: hidden;text-align: left;background-color: #f0f8ff;}#sk-container-id-1 div.sk-toggleable__content pre {margin: 0.2em;color: black;border-radius: 0.25em;background-color: #f0f8ff;}#sk-container-id-1 input.sk-toggleable__control:checked~div.sk-toggleable__content {max-height: 200px;max-width: 100%;overflow: auto;}#sk-container-id-1 input.sk-toggleable__control:checked~label.sk-toggleable__label-arrow:before {content: \"▾\";}#sk-container-id-1 div.sk-estimator input.sk-toggleable__control:checked~label.sk-toggleable__label {background-color: #d4ebff;}#sk-container-id-1 div.sk-label input.sk-toggleable__control:checked~label.sk-toggleable__label {background-color: #d4ebff;}#sk-container-id-1 input.sk-hidden--visually {border: 0;clip: rect(1px 1px 1px 1px);clip: rect(1px, 1px, 1px, 1px);height: 1px;margin: -1px;overflow: hidden;padding: 0;position: absolute;width: 1px;}#sk-container-id-1 div.sk-estimator {font-family: monospace;background-color: #f0f8ff;border: 1px dotted black;border-radius: 0.25em;box-sizing: border-box;margin-bottom: 0.5em;}#sk-container-id-1 div.sk-estimator:hover {background-color: #d4ebff;}#sk-container-id-1 div.sk-parallel-item::after {content: \"\";width: 100%;border-bottom: 1px solid gray;flex-grow: 1;}#sk-container-id-1 div.sk-label:hover label.sk-toggleable__label {background-color: #d4ebff;}#sk-container-id-1 div.sk-serial::before {content: \"\";position: absolute;border-left: 1px solid gray;box-sizing: border-box;top: 0;bottom: 0;left: 50%;z-index: 0;}#sk-container-id-1 div.sk-serial {display: flex;flex-direction: column;align-items: center;background-color: white;padding-right: 0.2em;padding-left: 0.2em;position: relative;}#sk-container-id-1 div.sk-item {position: relative;z-index: 1;}#sk-container-id-1 div.sk-parallel {display: flex;align-items: stretch;justify-content: center;background-color: white;position: relative;}#sk-container-id-1 div.sk-item::before, #sk-container-id-1 div.sk-parallel-item::before {content: \"\";position: absolute;border-left: 1px solid gray;box-sizing: border-box;top: 0;bottom: 0;left: 50%;z-index: -1;}#sk-container-id-1 div.sk-parallel-item {display: flex;flex-direction: column;z-index: 1;position: relative;background-color: white;}#sk-container-id-1 div.sk-parallel-item:first-child::after {align-self: flex-end;width: 50%;}#sk-container-id-1 div.sk-parallel-item:last-child::after {align-self: flex-start;width: 50%;}#sk-container-id-1 div.sk-parallel-item:only-child::after {width: 0;}#sk-container-id-1 div.sk-dashed-wrapped {border: 1px dashed gray;margin: 0 0.4em 0.5em 0.4em;box-sizing: border-box;padding-bottom: 0.4em;background-color: white;}#sk-container-id-1 div.sk-label label {font-family: monospace;font-weight: bold;display: inline-block;line-height: 1.2em;}#sk-container-id-1 div.sk-label-container {text-align: center;}#sk-container-id-1 div.sk-container {/* jupyter's `normalize.less` sets `[hidden] { display: none; }` but bootstrap.min.css set `[hidden] { display: none !important; }` so we also need the `!important` here to be able to override the default hidden behavior on the sphinx rendered scikit-learn.org. See: https://github.com/scikit-learn/scikit-learn/issues/21755 */display: inline-block !important;position: relative;}#sk-container-id-1 div.sk-text-repr-fallback {display: none;}</style><div id=\"sk-container-id-1\" class=\"sk-top-container\"><div class=\"sk-text-repr-fallback\"><pre>ExtraTreesClassifier()</pre><b>In a Jupyter environment, please rerun this cell to show the HTML representation or trust the notebook. <br />On GitHub, the HTML representation is unable to render, please try loading this page with nbviewer.org.</b></div><div class=\"sk-container\" hidden><div class=\"sk-item\"><div class=\"sk-estimator sk-toggleable\"><input class=\"sk-toggleable__control sk-hidden--visually\" id=\"sk-estimator-id-1\" type=\"checkbox\" checked><label for=\"sk-estimator-id-1\" class=\"sk-toggleable__label sk-toggleable__label-arrow\">ExtraTreesClassifier</label><div class=\"sk-toggleable__content\"><pre>ExtraTreesClassifier()</pre></div></div></div></div></div>"
            ],
            "text/plain": [
              "ExtraTreesClassifier()"
            ]
          },
          "execution_count": 46,
          "metadata": {},
          "output_type": "execute_result"
        }
      ],
      "source": [
        "from sklearn.ensemble import ExtraTreesClassifier\n",
        "import matplotlib.pyplot as plt\n",
        "model=ExtraTreesClassifier()\n",
        "model.fit(X_train,y_train)"
      ]
    },
    {
      "cell_type": "code",
      "execution_count": 47,
      "metadata": {
        "colab": {
          "base_uri": "https://localhost:8080/",
          "height": 0
        },
        "id": "Oy-27EXFKDtd",
        "outputId": "a994713e-88ca-429a-ef52-6ab5990418e6"
      },
      "outputs": [
        {
          "name": "stdout",
          "output_type": "stream",
          "text": [
            "[2.06758238e-05 3.63599101e-08 7.80159712e-02 6.94973944e-02\n",
            " 2.97473790e-01 1.95934415e-01 6.70491183e-02 8.44892465e-02\n",
            " 1.86110388e-02 5.64888748e-03 9.39961409e-03 1.12343831e-02\n",
            " 3.21413826e-03 7.77708638e-02 7.16988517e-03 7.44705418e-02]\n"
          ]
        }
      ],
      "source": [
        "print(model.feature_importances_)\n"
      ]
    },
    {
      "cell_type": "code",
      "execution_count": 48,
      "metadata": {
        "colab": {
          "base_uri": "https://localhost:8080/",
          "height": 635
        },
        "id": "n-gCHIzoKIyN",
        "outputId": "bba85c0d-39ab-4091-e072-1f313e5f8f90"
      },
      "outputs": [
        {
          "data": {
            "image/png": "[encoded data removed]",
            "text/plain": [
              "<Figure size 1500x1000 with 1 Axes>"
            ]
          },
          "metadata": {},
          "output_type": "display_data"
        }
      ],
      "source": [
        "plt.figure(figsize = [15,10])\n",
        "ranked_features=pd.Series(model.feature_importances_,index=X_train.columns)\n",
        "ranked_features.nlargest(20).plot(kind='barh')\n",
        "plt.show()"
      ]
    },
    {
      "cell_type": "code",
      "execution_count": 49,
      "metadata": {
        "colab": {
          "base_uri": "https://localhost:8080/",
          "height": 615
        },
        "id": "nLAumWPDKTRx",
        "outputId": "8b33c66c-fb56-4769-e792-cdbed1d2b14c"
      },
      "outputs": [
        {
          "data": {
            "text/html": [
              "\n",
              "  <div id=\"df-62e85a0f-761b-441f-a5a2-d0ed747e1fa1\">\n",
              "    <div class=\"colab-df-container\">\n",
              "      <div>\n",
              "<style scoped>\n",
              "    .dataframe tbody tr th:only-of-type {\n",
              "        vertical-align: middle;\n",
              "    }\n",
              "\n",
              "    .dataframe tbody tr th {\n",
              "        vertical-align: top;\n",
              "    }\n",
              "\n",
              "    .dataframe thead th {\n",
              "        text-align: right;\n",
              "    }\n",
              "</style>\n",
              "<table border=\"1\" class=\"dataframe\">\n",
              "  <thead>\n",
              "    <tr style=\"text-align: right;\">\n",
              "      <th></th>\n",
              "      <th>lte_5g_category</th>\n",
              "      <th>time</th>\n",
              "      <th>packet_loss_rate</th>\n",
              "      <th>packet_delay</th>\n",
              "      <th>io_t</th>\n",
              "      <th>lte_5g</th>\n",
              "      <th>gbr</th>\n",
              "      <th>non_gbr</th>\n",
              "      <th>ar_vr_gaming</th>\n",
              "      <th>healthcare</th>\n",
              "      <th>industry_4_0</th>\n",
              "      <th>io_t_devices</th>\n",
              "      <th>public_safety</th>\n",
              "      <th>smart_city_and_home</th>\n",
              "      <th>smart_transportation</th>\n",
              "      <th>smartphone</th>\n",
              "    </tr>\n",
              "  </thead>\n",
              "  <tbody>\n",
              "    <tr>\n",
              "      <th>lte_5g_category</th>\n",
              "      <td>1.000000</td>\n",
              "      <td>-0.000883</td>\n",
              "      <td>0.014919</td>\n",
              "      <td>-0.015346</td>\n",
              "      <td>0.083488</td>\n",
              "      <td>-0.083488</td>\n",
              "      <td>-0.009673</td>\n",
              "      <td>0.009673</td>\n",
              "      <td>-0.027743</td>\n",
              "      <td>0.021993</td>\n",
              "      <td>0.033045</td>\n",
              "      <td>0.022474</td>\n",
              "      <td>0.021208</td>\n",
              "      <td>0.033184</td>\n",
              "      <td>0.021236</td>\n",
              "      <td>-0.066915</td>\n",
              "    </tr>\n",
              "    <tr>\n",
              "      <th>time</th>\n",
              "      <td>-0.000883</td>\n",
              "      <td>1.000000</td>\n",
              "      <td>0.000984</td>\n",
              "      <td>0.001302</td>\n",
              "      <td>0.001612</td>\n",
              "      <td>-0.001612</td>\n",
              "      <td>0.000216</td>\n",
              "      <td>-0.000216</td>\n",
              "      <td>-0.000386</td>\n",
              "      <td>-0.000010</td>\n",
              "      <td>0.000312</td>\n",
              "      <td>0.002650</td>\n",
              "      <td>0.000608</td>\n",
              "      <td>-0.000290</td>\n",
              "      <td>0.000159</td>\n",
              "      <td>-0.001385</td>\n",
              "    </tr>\n",
              "    <tr>\n",
              "      <th>packet_loss_rate</th>\n",
              "      <td>0.014919</td>\n",
              "      <td>0.000984</td>\n",
              "      <td>1.000000</td>\n",
              "      <td>0.310946</td>\n",
              "      <td>0.167889</td>\n",
              "      <td>-0.167889</td>\n",
              "      <td>-0.014765</td>\n",
              "      <td>0.014765</td>\n",
              "      <td>-0.165734</td>\n",
              "      <td>-0.176833</td>\n",
              "      <td>-0.216224</td>\n",
              "      <td>0.394824</td>\n",
              "      <td>-0.176833</td>\n",
              "      <td>0.578566</td>\n",
              "      <td>-0.177370</td>\n",
              "      <td>-0.065912</td>\n",
              "    </tr>\n",
              "    <tr>\n",
              "      <th>packet_delay</th>\n",
              "      <td>-0.015346</td>\n",
              "      <td>0.001302</td>\n",
              "      <td>0.310946</td>\n",
              "      <td>1.000000</td>\n",
              "      <td>-0.193956</td>\n",
              "      <td>0.193956</td>\n",
              "      <td>0.428456</td>\n",
              "      <td>-0.428456</td>\n",
              "      <td>-0.127318</td>\n",
              "      <td>-0.244449</td>\n",
              "      <td>-0.288221</td>\n",
              "      <td>0.433778</td>\n",
              "      <td>-0.244449</td>\n",
              "      <td>0.208454</td>\n",
              "      <td>-0.245191</td>\n",
              "      <td>0.275193</td>\n",
              "    </tr>\n",
              "    <tr>\n",
              "      <th>io_t</th>\n",
              "      <td>0.083488</td>\n",
              "      <td>0.001612</td>\n",
              "      <td>0.167889</td>\n",
              "      <td>-0.193956</td>\n",
              "      <td>1.000000</td>\n",
              "      <td>-1.000000</td>\n",
              "      <td>-0.126712</td>\n",
              "      <td>0.126712</td>\n",
              "      <td>-0.323727</td>\n",
              "      <td>0.266133</td>\n",
              "      <td>0.388426</td>\n",
              "      <td>0.264782</td>\n",
              "      <td>0.266133</td>\n",
              "      <td>0.388006</td>\n",
              "      <td>0.266942</td>\n",
              "      <td>-0.806840</td>\n",
              "    </tr>\n",
              "    <tr>\n",
              "      <th>lte_5g</th>\n",
              "      <td>-0.083488</td>\n",
              "      <td>-0.001612</td>\n",
              "      <td>-0.167889</td>\n",
              "      <td>0.193956</td>\n",
              "      <td>-1.000000</td>\n",
              "      <td>1.000000</td>\n",
              "      <td>0.126712</td>\n",
              "      <td>-0.126712</td>\n",
              "      <td>0.323727</td>\n",
              "      <td>-0.266133</td>\n",
              "      <td>-0.388426</td>\n",
              "      <td>-0.264782</td>\n",
              "      <td>-0.266133</td>\n",
              "      <td>-0.388006</td>\n",
              "      <td>-0.266942</td>\n",
              "      <td>0.806840</td>\n",
              "    </tr>\n",
              "    <tr>\n",
              "      <th>gbr</th>\n",
              "      <td>-0.009673</td>\n",
              "      <td>0.000216</td>\n",
              "      <td>-0.014765</td>\n",
              "      <td>0.428456</td>\n",
              "      <td>-0.126712</td>\n",
              "      <td>0.126712</td>\n",
              "      <td>1.000000</td>\n",
              "      <td>-1.000000</td>\n",
              "      <td>0.041602</td>\n",
              "      <td>-0.221519</td>\n",
              "      <td>0.043371</td>\n",
              "      <td>0.279047</td>\n",
              "      <td>-0.221519</td>\n",
              "      <td>0.043324</td>\n",
              "      <td>-0.222191</td>\n",
              "      <td>0.101873</td>\n",
              "    </tr>\n",
              "    <tr>\n",
              "      <th>non_gbr</th>\n",
              "      <td>0.009673</td>\n",
              "      <td>-0.000216</td>\n",
              "      <td>0.014765</td>\n",
              "      <td>-0.428456</td>\n",
              "      <td>0.126712</td>\n",
              "      <td>-0.126712</td>\n",
              "      <td>-1.000000</td>\n",
              "      <td>1.000000</td>\n",
              "      <td>-0.041602</td>\n",
              "      <td>0.221519</td>\n",
              "      <td>-0.043371</td>\n",
              "      <td>-0.279047</td>\n",
              "      <td>0.221519</td>\n",
              "      <td>-0.043324</td>\n",
              "      <td>0.222191</td>\n",
              "      <td>-0.101873</td>\n",
              "    </tr>\n",
              "    <tr>\n",
              "      <th>ar_vr_gaming</th>\n",
              "      <td>-0.027743</td>\n",
              "      <td>-0.000386</td>\n",
              "      <td>-0.165734</td>\n",
              "      <td>-0.127318</td>\n",
              "      <td>-0.323727</td>\n",
              "      <td>0.323727</td>\n",
              "      <td>0.041602</td>\n",
              "      <td>-0.041602</td>\n",
              "      <td>1.000000</td>\n",
              "      <td>-0.086155</td>\n",
              "      <td>-0.125744</td>\n",
              "      <td>-0.085717</td>\n",
              "      <td>-0.086155</td>\n",
              "      <td>-0.125608</td>\n",
              "      <td>-0.086416</td>\n",
              "      <td>-0.297761</td>\n",
              "    </tr>\n",
              "    <tr>\n",
              "      <th>healthcare</th>\n",
              "      <td>0.021993</td>\n",
              "      <td>-0.000010</td>\n",
              "      <td>-0.176833</td>\n",
              "      <td>-0.244449</td>\n",
              "      <td>0.266133</td>\n",
              "      <td>-0.266133</td>\n",
              "      <td>-0.221519</td>\n",
              "      <td>0.221519</td>\n",
              "      <td>-0.086155</td>\n",
              "      <td>1.000000</td>\n",
              "      <td>-0.090679</td>\n",
              "      <td>-0.061814</td>\n",
              "      <td>-0.062129</td>\n",
              "      <td>-0.090581</td>\n",
              "      <td>-0.062318</td>\n",
              "      <td>-0.214727</td>\n",
              "    </tr>\n",
              "    <tr>\n",
              "      <th>industry_4_0</th>\n",
              "      <td>0.033045</td>\n",
              "      <td>0.000312</td>\n",
              "      <td>-0.216224</td>\n",
              "      <td>-0.288221</td>\n",
              "      <td>0.388426</td>\n",
              "      <td>-0.388426</td>\n",
              "      <td>0.043371</td>\n",
              "      <td>-0.043371</td>\n",
              "      <td>-0.125744</td>\n",
              "      <td>-0.090679</td>\n",
              "      <td>1.000000</td>\n",
              "      <td>-0.090219</td>\n",
              "      <td>-0.090679</td>\n",
              "      <td>-0.132204</td>\n",
              "      <td>-0.090954</td>\n",
              "      <td>-0.313398</td>\n",
              "    </tr>\n",
              "    <tr>\n",
              "      <th>io_t_devices</th>\n",
              "      <td>0.022474</td>\n",
              "      <td>0.002650</td>\n",
              "      <td>0.394824</td>\n",
              "      <td>0.433778</td>\n",
              "      <td>0.264782</td>\n",
              "      <td>-0.264782</td>\n",
              "      <td>0.279047</td>\n",
              "      <td>-0.279047</td>\n",
              "      <td>-0.085717</td>\n",
              "      <td>-0.061814</td>\n",
              "      <td>-0.090219</td>\n",
              "      <td>1.000000</td>\n",
              "      <td>-0.061814</td>\n",
              "      <td>-0.090121</td>\n",
              "      <td>-0.062002</td>\n",
              "      <td>-0.213637</td>\n",
              "    </tr>\n",
              "    <tr>\n",
              "      <th>public_safety</th>\n",
              "      <td>0.021208</td>\n",
              "      <td>0.000608</td>\n",
              "      <td>-0.176833</td>\n",
              "      <td>-0.244449</td>\n",
              "      <td>0.266133</td>\n",
              "      <td>-0.266133</td>\n",
              "      <td>-0.221519</td>\n",
              "      <td>0.221519</td>\n",
              "      <td>-0.086155</td>\n",
              "      <td>-0.062129</td>\n",
              "      <td>-0.090679</td>\n",
              "      <td>-0.061814</td>\n",
              "      <td>1.000000</td>\n",
              "      <td>-0.090581</td>\n",
              "      <td>-0.062318</td>\n",
              "      <td>-0.214727</td>\n",
              "    </tr>\n",
              "    <tr>\n",
              "      <th>smart_city_and_home</th>\n",
              "      <td>0.033184</td>\n",
              "      <td>-0.000290</td>\n",
              "      <td>0.578566</td>\n",
              "      <td>0.208454</td>\n",
              "      <td>0.388006</td>\n",
              "      <td>-0.388006</td>\n",
              "      <td>0.043324</td>\n",
              "      <td>-0.043324</td>\n",
              "      <td>-0.125608</td>\n",
              "      <td>-0.090581</td>\n",
              "      <td>-0.132204</td>\n",
              "      <td>-0.090121</td>\n",
              "      <td>-0.090581</td>\n",
              "      <td>1.000000</td>\n",
              "      <td>-0.090856</td>\n",
              "      <td>-0.313059</td>\n",
              "    </tr>\n",
              "    <tr>\n",
              "      <th>smart_transportation</th>\n",
              "      <td>0.021236</td>\n",
              "      <td>0.000159</td>\n",
              "      <td>-0.177370</td>\n",
              "      <td>-0.245191</td>\n",
              "      <td>0.266942</td>\n",
              "      <td>-0.266942</td>\n",
              "      <td>-0.222191</td>\n",
              "      <td>0.222191</td>\n",
              "      <td>-0.086416</td>\n",
              "      <td>-0.062318</td>\n",
              "      <td>-0.090954</td>\n",
              "      <td>-0.062002</td>\n",
              "      <td>-0.062318</td>\n",
              "      <td>-0.090856</td>\n",
              "      <td>1.000000</td>\n",
              "      <td>-0.215379</td>\n",
              "    </tr>\n",
              "    <tr>\n",
              "      <th>smartphone</th>\n",
              "      <td>-0.066915</td>\n",
              "      <td>-0.001385</td>\n",
              "      <td>-0.065912</td>\n",
              "      <td>0.275193</td>\n",
              "      <td>-0.806840</td>\n",
              "      <td>0.806840</td>\n",
              "      <td>0.101873</td>\n",
              "      <td>-0.101873</td>\n",
              "      <td>-0.297761</td>\n",
              "      <td>-0.214727</td>\n",
              "      <td>-0.313398</td>\n",
              "      <td>-0.213637</td>\n",
              "      <td>-0.214727</td>\n",
              "      <td>-0.313059</td>\n",
              "      <td>-0.215379</td>\n",
              "      <td>1.000000</td>\n",
              "    </tr>\n",
              "  </tbody>\n",
              "</table>\n",
              "</div>\n",
              "      <button class=\"colab-df-convert\" onclick=\"convertToInteractive('df-62e85a0f-761b-441f-a5a2-d0ed747e1fa1')\"\n",
              "              title=\"Convert this dataframe to an interactive table.\"\n",
              "              style=\"display:none;\">\n",
              "        \n",
              "  <svg xmlns=\"http://www.w3.org/2000/svg\" height=\"24px\"viewBox=\"0 0 24 24\"\n",
              "       width=\"24px\">\n",
              "    <path d=\"M0 0h24v24H0V0z\" fill=\"none\"/>\n",
              "    <path d=\"M18.56 5.44l.94 2.06.94-2.06 2.06-.94-2.06-.94-.94-2.06-.94 2.06-2.06.94zm-11 1L8.5 8.5l.94-2.06 2.06-.94-2.06-.94L8.5 2.5l-.94 2.06-2.06.94zm10 10l.94 2.06.94-2.06 2.06-.94-2.06-.94-.94-2.06-.94 2.06-2.06.94z\"/><path d=\"M17.41 7.96l-1.37-1.37c-.4-.4-.92-.59-1.43-.59-.52 0-1.04.2-1.43.59L10.3 9.45l-7.72 7.72c-.78.78-.78 2.05 0 2.83L4 21.41c.39.39.9.59 1.41.59.51 0 1.02-.2 1.41-.59l7.78-7.78 2.81-2.81c.8-.78.8-2.07 0-2.86zM5.41 20L4 18.59l7.72-7.72 1.47 1.35L5.41 20z\"/>\n",
              "  </svg>\n",
              "      </button>\n",
              "      \n",
              "  <style>\n",
              "    .colab-df-container {\n",
              "      display:flex;\n",
              "      flex-wrap:wrap;\n",
              "      gap: 12px;\n",
              "    }\n",
              "\n",
              "    .colab-df-convert {\n",
              "      background-color: #E8F0FE;\n",
              "      border: none;\n",
              "      border-radius: 50%;\n",
              "      cursor: pointer;\n",
              "      display: none;\n",
              "      fill: #1967D2;\n",
              "      height: 32px;\n",
              "      padding: 0 0 0 0;\n",
              "      width: 32px;\n",
              "    }\n",
              "\n",
              "    .colab-df-convert:hover {\n",
              "      background-color: #E2EBFA;\n",
              "      box-shadow: 0px 1px 2px rgba(60, 64, 67, 0.3), 0px 1px 3px 1px rgba(60, 64, 67, 0.15);\n",
              "      fill: #174EA6;\n",
              "    }\n",
              "\n",
              "    [theme=dark] .colab-df-convert {\n",
              "      background-color: #3B4455;\n",
              "      fill: #D2E3FC;\n",
              "    }\n",
              "\n",
              "    [theme=dark] .colab-df-convert:hover {\n",
              "      background-color: #434B5C;\n",
              "      box-shadow: 0px 1px 3px 1px rgba(0, 0, 0, 0.15);\n",
              "      filter: drop-shadow(0px 1px 2px rgba(0, 0, 0, 0.3));\n",
              "      fill: #FFFFFF;\n",
              "    }\n",
              "  </style>\n",
              "\n",
              "      <script>\n",
              "        const buttonEl =\n",
              "          document.querySelector('#df-62e85a0f-761b-441f-a5a2-d0ed747e1fa1 button.colab-df-convert');\n",
              "        buttonEl.style.display =\n",
              "          google.colab.kernel.accessAllowed ? 'block' : 'none';\n",
              "\n",
              "        async function convertToInteractive(key) {\n",
              "          const element = document.querySelector('#df-62e85a0f-761b-441f-a5a2-d0ed747e1fa1');\n",
              "          const dataTable =\n",
              "            await google.colab.kernel.invokeFunction('convertToInteractive',\n",
              "                                                     [key], {});\n",
              "          if (!dataTable) return;\n",
              "\n",
              "          const docLinkHtml = 'Like what you see? Visit the ' +\n",
              "            '<a target=\"_blank\" href=https://colab.research.google.com/notebooks/data_table.ipynb>data table notebook</a>'\n",
              "            + ' to learn more about interactive tables.';\n",
              "          element.innerHTML = '';\n",
              "          dataTable['output_type'] = 'display_data';\n",
              "          await google.colab.output.renderOutput(dataTable, element);\n",
              "          const docLink = document.createElement('div');\n",
              "          docLink.innerHTML = docLinkHtml;\n",
              "          element.appendChild(docLink);\n",
              "        }\n",
              "      </script>\n",
              "    </div>\n",
              "  </div>\n",
              "  "
            ],
            "text/plain": [
              "                      lte_5g_category      time  packet_loss_rate  \\\n",
              "lte_5g_category              1.000000 -0.000883          0.014919   \n",
              "time                        -0.000883  1.000000          0.000984   \n",
              "packet_loss_rate             0.014919  0.000984          1.000000   \n",
              "packet_delay                -0.015346  0.001302          0.310946   \n",
              "io_t                         0.083488  0.001612          0.167889   \n",
              "lte_5g                      -0.083488 -0.001612         -0.167889   \n",
              "gbr                         -0.009673  0.000216         -0.014765   \n",
              "non_gbr                      0.009673 -0.000216          0.014765   \n",
              "ar_vr_gaming                -0.027743 -0.000386         -0.165734   \n",
              "healthcare                   0.021993 -0.000010         -0.176833   \n",
              "industry_4_0                 0.033045  0.000312         -0.216224   \n",
              "io_t_devices                 0.022474  0.002650          0.394824   \n",
              "public_safety                0.021208  0.000608         -0.176833   \n",
              "smart_city_and_home          0.033184 -0.000290          0.578566   \n",
              "smart_transportation         0.021236  0.000159         -0.177370   \n",
              "smartphone                  -0.066915 -0.001385         -0.065912   \n",
              "\n",
              "                      packet_delay      io_t    lte_5g       gbr   non_gbr  \\\n",
              "lte_5g_category          -0.015346  0.083488 -0.083488 -0.009673  0.009673   \n",
              "time                      0.001302  0.001612 -0.001612  0.000216 -0.000216   \n",
              "packet_loss_rate          0.310946  0.167889 -0.167889 -0.014765  0.014765   \n",
              "packet_delay              1.000000 -0.193956  0.193956  0.428456 -0.428456   \n",
              "io_t                     -0.193956  1.000000 -1.000000 -0.126712  0.126712   \n",
              "lte_5g                    0.193956 -1.000000  1.000000  0.126712 -0.126712   \n",
              "gbr                       0.428456 -0.126712  0.126712  1.000000 -1.000000   \n",
              "non_gbr                  -0.428456  0.126712 -0.126712 -1.000000  1.000000   \n",
              "ar_vr_gaming             -0.127318 -0.323727  0.323727  0.041602 -0.041602   \n",
              "healthcare               -0.244449  0.266133 -0.266133 -0.221519  0.221519   \n",
              "industry_4_0             -0.288221  0.388426 -0.388426  0.043371 -0.043371   \n",
              "io_t_devices              0.433778  0.264782 -0.264782  0.279047 -0.279047   \n",
              "public_safety            -0.244449  0.266133 -0.266133 -0.221519  0.221519   \n",
              "smart_city_and_home       0.208454  0.388006 -0.388006  0.043324 -0.043324   \n",
              "smart_transportation     -0.245191  0.266942 -0.266942 -0.222191  0.222191   \n",
              "smartphone                0.275193 -0.806840  0.806840  0.101873 -0.101873   \n",
              "\n",
              "                      ar_vr_gaming  healthcare  industry_4_0  io_t_devices  \\\n",
              "lte_5g_category          -0.027743    0.021993      0.033045      0.022474   \n",
              "time                     -0.000386   -0.000010      0.000312      0.002650   \n",
              "packet_loss_rate         -0.165734   -0.176833     -0.216224      0.394824   \n",
              "packet_delay             -0.127318   -0.244449     -0.288221      0.433778   \n",
              "io_t                     -0.323727    0.266133      0.388426      0.264782   \n",
              "lte_5g                    0.323727   -0.266133     -0.388426     -0.264782   \n",
              "gbr                       0.041602   -0.221519      0.043371      0.279047   \n",
              "non_gbr                  -0.041602    0.221519     -0.043371     -0.279047   \n",
              "ar_vr_gaming              1.000000   -0.086155     -0.125744     -0.085717   \n",
              "healthcare               -0.086155    1.000000     -0.090679     -0.061814   \n",
              "industry_4_0             -0.125744   -0.090679      1.000000     -0.090219   \n",
              "io_t_devices             -0.085717   -0.061814     -0.090219      1.000000   \n",
              "public_safety            -0.086155   -0.062129     -0.090679     -0.061814   \n",
              "smart_city_and_home      -0.125608   -0.090581     -0.132204     -0.090121   \n",
              "smart_transportation     -0.086416   -0.062318     -0.090954     -0.062002   \n",
              "smartphone               -0.297761   -0.214727     -0.313398     -0.213637   \n",
              "\n",
              "                      public_safety  smart_city_and_home  \\\n",
              "lte_5g_category            0.021208             0.033184   \n",
              "time                       0.000608            -0.000290   \n",
              "packet_loss_rate          -0.176833             0.578566   \n",
              "packet_delay              -0.244449             0.208454   \n",
              "io_t                       0.266133             0.388006   \n",
              "lte_5g                    -0.266133            -0.388006   \n",
              "gbr                       -0.221519             0.043324   \n",
              "non_gbr                    0.221519            -0.043324   \n",
              "ar_vr_gaming              -0.086155            -0.125608   \n",
              "healthcare                -0.062129            -0.090581   \n",
              "industry_4_0              -0.090679            -0.132204   \n",
              "io_t_devices              -0.061814            -0.090121   \n",
              "public_safety              1.000000            -0.090581   \n",
              "smart_city_and_home       -0.090581             1.000000   \n",
              "smart_transportation      -0.062318            -0.090856   \n",
              "smartphone                -0.214727            -0.313059   \n",
              "\n",
              "                      smart_transportation  smartphone  \n",
              "lte_5g_category                   0.021236   -0.066915  \n",
              "time                              0.000159   -0.001385  \n",
              "packet_loss_rate                 -0.177370   -0.065912  \n",
              "packet_delay                     -0.245191    0.275193  \n",
              "io_t                              0.266942   -0.806840  \n",
              "lte_5g                           -0.266942    0.806840  \n",
              "gbr                              -0.222191    0.101873  \n",
              "non_gbr                           0.222191   -0.101873  \n",
              "ar_vr_gaming                     -0.086416   -0.297761  \n",
              "healthcare                       -0.062318   -0.214727  \n",
              "industry_4_0                     -0.090954   -0.313398  \n",
              "io_t_devices                     -0.062002   -0.213637  \n",
              "public_safety                    -0.062318   -0.214727  \n",
              "smart_city_and_home              -0.090856   -0.313059  \n",
              "smart_transportation              1.000000   -0.215379  \n",
              "smartphone                       -0.215379    1.000000  "
            ]
          },
          "execution_count": 49,
          "metadata": {},
          "output_type": "execute_result"
        }
      ],
      "source": [
        "X_train.corr()"
      ]
    },
    {
      "cell_type": "code",
      "execution_count": 50,
      "metadata": {
        "colab": {
          "base_uri": "https://localhost:8080/",
          "height": 750
        },
        "id": "AV5oAWODKiMZ",
        "outputId": "ba5eddfa-155c-44e8-e1bd-e0ebcafaa5af"
      },
      "outputs": [
        {
          "data": {
            "text/plain": [
              "<Axes: >"
            ]
          },
          "execution_count": 50,
          "metadata": {},
          "output_type": "execute_result"
        },
        {
          "data": {
            "image/png": "[encoded data removed]",
            "text/plain": [
              "<Figure size 1500x900 with 2 Axes>"
            ]
          },
          "metadata": {},
          "output_type": "display_data"
        }
      ],
      "source": [
        "import seaborn as sns\n",
        "corr=X_train.corr()\n",
        "top_features=corr.index\n",
        "plt.figure(figsize=(15,9))\n",
        "sns.heatmap(X_train[top_features].corr(),annot=True)\n"
      ]
    },
    {
      "cell_type": "code",
      "execution_count": 51,
      "metadata": {
        "id": "tx8OUPNxKvBm"
      },
      "outputs": [],
      "source": [
        "threshold=0.8"
      ]
    },
    {
      "cell_type": "code",
      "execution_count": 52,
      "metadata": {
        "id": "u8h_QlfFKvVi"
      },
      "outputs": [],
      "source": [
        "# find and remove correlated features\n",
        "def correlation(dataset, threshold):\n",
        "    col_corr = set()  # Set of all the names of correlated columns\n",
        "    corr_matrix = dataset.corr()\n",
        "    for i in range(len(corr_matrix.columns)):\n",
        "        for j in range(i):\n",
        "            if abs(corr_matrix.iloc[i, j]) > threshold: # we are interested in absolute coeff value\n",
        "                colname = corr_matrix.columns[i]  # getting the name of column\n",
        "                col_corr.add(colname)\n",
        "    return col_corr"
      ]
    },
    {
      "cell_type": "code",
      "execution_count": 53,
      "metadata": {
        "colab": {
          "base_uri": "https://localhost:8080/",
          "height": 0
        },
        "id": "mSz3xufnKvnj",
        "outputId": "38700056-3d84-422a-f450-140c34327b08"
      },
      "outputs": [
        {
          "data": {
            "text/plain": [
              "{'lte_5g', 'non_gbr', 'smartphone'}"
            ]
          },
          "execution_count": 53,
          "metadata": {},
          "output_type": "execute_result"
        }
      ],
      "source": [
        "correlation(X_train,threshold)"
      ]
    },
    {
      "cell_type": "code",
      "execution_count": 54,
      "metadata": {
        "id": "HB3PYFZnMFsW"
      },
      "outputs": [],
      "source": [
        "X_train = X_train.drop(columns = ['lte_5g', 'non_gbr', 'smartphone'])"
      ]
    },
    {
      "cell_type": "code",
      "execution_count": 55,
      "metadata": {
        "id": "1AMsArjnMTCi"
      },
      "outputs": [],
      "source": [
        "X_test = X_test.drop(columns = ['lte_5g', 'non_gbr', 'smartphone'])"
      ]
    },
    {
      "cell_type": "code",
      "execution_count": 56,
      "metadata": {
        "id": "32CklT3NMdbN"
      },
      "outputs": [],
      "source": [
        "from sklearn.datasets import load_iris\n",
        "from sklearn.model_selection import train_test_split\n",
        "from sklearn.preprocessing import StandardScaler\n",
        "from sklearn.decomposition import PCA\n",
        "from sklearn.pipeline import Pipeline\n",
        "from sklearn.linear_model import LogisticRegression\n",
        "from sklearn.tree import DecisionTreeClassifier\n",
        "from sklearn.ensemble import RandomForestClassifier\n",
        "from sklearn.ensemble import GradientBoostingClassifier\n",
        "from xgboost import XGBClassifier"
      ]
    },
    {
      "cell_type": "code",
      "execution_count": 57,
      "metadata": {
        "id": "xBU0jTOCNEKy"
      },
      "outputs": [],
      "source": [
        "from sklearn.ensemble import AdaBoostClassifier"
      ]
    },
    {
      "cell_type": "code",
      "execution_count": 58,
      "metadata": {
        "colab": {
          "base_uri": "https://localhost:8080/",
          "height": 0
        },
        "id": "TAPHdU3ISll4",
        "outputId": "34b34d6a-4230-4832-bc9c-ccadbb694ff2"
      },
      "outputs": [
        {
          "name": "stdout",
          "output_type": "stream",
          "text": [
            "(8958, 13) (8958,)\n",
            "(8960, 13) (8960,)\n"
          ]
        }
      ],
      "source": [
        "print(X_train.shape, y_train.shape)\n",
        "print(X_test.shape, y_test.shape)"
      ]
    },
    {
      "cell_type": "code",
      "execution_count": 59,
      "metadata": {
        "id": "gklEvl0NDRAh"
      },
      "outputs": [],
      "source": [
        "logisticr = LogisticRegression()\n",
        "dtc = DecisionTreeClassifier()\n",
        "rfc = RandomForestClassifier()\n",
        "gbc = GradientBoostingClassifier()\n",
        "xgbc = XGBClassifier()\n",
        "adac = AdaBoostClassifier()"
      ]
    },
    {
      "cell_type": "code",
      "execution_count": 60,
      "metadata": {
        "colab": {
          "base_uri": "https://localhost:8080/",
          "height": 234
        },
        "id": "FiELX-T2IYHX",
        "outputId": "6d85753b-1ed7-4608-cbaf-7e9c78e26e0d"
      },
      "outputs": [
        {
          "name": "stderr",
          "output_type": "stream",
          "text": [
            "/usr/local/lib/python3.10/dist-packages/sklearn/linear_model/_logistic.py:458: ConvergenceWarning: lbfgs failed to converge (status=1):\n",
            "STOP: TOTAL NO. of ITERATIONS REACHED LIMIT.\n",
            "\n",
            "Increase the number of iterations (max_iter) or scale the data as shown in:\n",
            "    https://scikit-learn.org/stable/modules/preprocessing.html\n",
            "Please also refer to the documentation for alternative solver options:\n",
            "    https://scikit-learn.org/stable/modules/linear_model.html#logistic-regression\n",
            "  n_iter_i = _check_optimize_result(\n"
          ]
        },
        {
          "data": {
            "text/html": [
              "<style>#sk-container-id-2 {color: black;background-color: white;}#sk-container-id-2 pre{padding: 0;}#sk-container-id-2 div.sk-toggleable {background-color: white;}#sk-container-id-2 label.sk-toggleable__label {cursor: pointer;display: block;width: 100%;margin-bottom: 0;padding: 0.3em;box-sizing: border-box;text-align: center;}#sk-container-id-2 label.sk-toggleable__label-arrow:before {content: \"▸\";float: left;margin-right: 0.25em;color: #696969;}#sk-container-id-2 label.sk-toggleable__label-arrow:hover:before {color: black;}#sk-container-id-2 div.sk-estimator:hover label.sk-toggleable__label-arrow:before {color: black;}#sk-container-id-2 div.sk-toggleable__content {max-height: 0;max-width: 0;overflow: hidden;text-align: left;background-color: #f0f8ff;}#sk-container-id-2 div.sk-toggleable__content pre {margin: 0.2em;color: black;border-radius: 0.25em;background-color: #f0f8ff;}#sk-container-id-2 input.sk-toggleable__control:checked~div.sk-toggleable__content {max-height: 200px;max-width: 100%;overflow: auto;}#sk-container-id-2 input.sk-toggleable__control:checked~label.sk-toggleable__label-arrow:before {content: \"▾\";}#sk-container-id-2 div.sk-estimator input.sk-toggleable__control:checked~label.sk-toggleable__label {background-color: #d4ebff;}#sk-container-id-2 div.sk-label input.sk-toggleable__control:checked~label.sk-toggleable__label {background-color: #d4ebff;}#sk-container-id-2 input.sk-hidden--visually {border: 0;clip: rect(1px 1px 1px 1px);clip: rect(1px, 1px, 1px, 1px);height: 1px;margin: -1px;overflow: hidden;padding: 0;position: absolute;width: 1px;}#sk-container-id-2 div.sk-estimator {font-family: monospace;background-color: #f0f8ff;border: 1px dotted black;border-radius: 0.25em;box-sizing: border-box;margin-bottom: 0.5em;}#sk-container-id-2 div.sk-estimator:hover {background-color: #d4ebff;}#sk-container-id-2 div.sk-parallel-item::after {content: \"\";width: 100%;border-bottom: 1px solid gray;flex-grow: 1;}#sk-container-id-2 div.sk-label:hover label.sk-toggleable__label {background-color: #d4ebff;}#sk-container-id-2 div.sk-serial::before {content: \"\";position: absolute;border-left: 1px solid gray;box-sizing: border-box;top: 0;bottom: 0;left: 50%;z-index: 0;}#sk-container-id-2 div.sk-serial {display: flex;flex-direction: column;align-items: center;background-color: white;padding-right: 0.2em;padding-left: 0.2em;position: relative;}#sk-container-id-2 div.sk-item {position: relative;z-index: 1;}#sk-container-id-2 div.sk-parallel {display: flex;align-items: stretch;justify-content: center;background-color: white;position: relative;}#sk-container-id-2 div.sk-item::before, #sk-container-id-2 div.sk-parallel-item::before {content: \"\";position: absolute;border-left: 1px solid gray;box-sizing: border-box;top: 0;bottom: 0;left: 50%;z-index: -1;}#sk-container-id-2 div.sk-parallel-item {display: flex;flex-direction: column;z-index: 1;position: relative;background-color: white;}#sk-container-id-2 div.sk-parallel-item:first-child::after {align-self: flex-end;width: 50%;}#sk-container-id-2 div.sk-parallel-item:last-child::after {align-self: flex-start;width: 50%;}#sk-container-id-2 div.sk-parallel-item:only-child::after {width: 0;}#sk-container-id-2 div.sk-dashed-wrapped {border: 1px dashed gray;margin: 0 0.4em 0.5em 0.4em;box-sizing: border-box;padding-bottom: 0.4em;background-color: white;}#sk-container-id-2 div.sk-label label {font-family: monospace;font-weight: bold;display: inline-block;line-height: 1.2em;}#sk-container-id-2 div.sk-label-container {text-align: center;}#sk-container-id-2 div.sk-container {/* jupyter's `normalize.less` sets `[hidden] { display: none; }` but bootstrap.min.css set `[hidden] { display: none !important; }` so we also need the `!important` here to be able to override the default hidden behavior on the sphinx rendered scikit-learn.org. See: https://github.com/scikit-learn/scikit-learn/issues/21755 */display: inline-block !important;position: relative;}#sk-container-id-2 div.sk-text-repr-fallback {display: none;}</style><div id=\"sk-container-id-2\" class=\"sk-top-container\"><div class=\"sk-text-repr-fallback\"><pre>AdaBoostClassifier()</pre><b>In a Jupyter environment, please rerun this cell to show the HTML representation or trust the notebook. <br />On GitHub, the HTML representation is unable to render, please try loading this page with nbviewer.org.</b></div><div class=\"sk-container\" hidden><div class=\"sk-item\"><div class=\"sk-estimator sk-toggleable\"><input class=\"sk-toggleable__control sk-hidden--visually\" id=\"sk-estimator-id-2\" type=\"checkbox\" checked><label for=\"sk-estimator-id-2\" class=\"sk-toggleable__label sk-toggleable__label-arrow\">AdaBoostClassifier</label><div class=\"sk-toggleable__content\"><pre>AdaBoostClassifier()</pre></div></div></div></div></div>"
            ],
            "text/plain": [
              "AdaBoostClassifier()"
            ]
          },
          "execution_count": 60,
          "metadata": {},
          "output_type": "execute_result"
        }
      ],
      "source": [
        "logisticr.fit(X_train, y_train)\n",
        "dtc.fit(X_train, y_train)\n",
        "rfc.fit(X_train, y_train)\n",
        "gbc.fit(X_train, y_train)\n",
        "#xgbc.fit(X_train, y_train)\n",
        "adac.fit(X_train, y_train)"
      ]
    },
    {
      "cell_type": "code",
      "execution_count": 61,
      "metadata": {
        "id": "hqbL4s6HDRR9"
      },
      "outputs": [],
      "source": [
        "ypred_logisticr= logisticr.predict(X_test)\n",
        "ypred_dtc = dtc.predict(X_test)\n",
        "ypred_rfc = rfc.predict(X_test)\n",
        "ypred_gbc = gbc.predict(X_test)\n",
        "ypred_adac = adac.predict(X_test)"
      ]
    },
    {
      "cell_type": "code",
      "execution_count": 62,
      "metadata": {
        "colab": {
          "base_uri": "https://localhost:8080/",
          "height": 0
        },
        "id": "u9euHYSnL6sU",
        "outputId": "f3171461-b1ef-4084-8d76-90c441676aa5"
      },
      "outputs": [
        {
          "name": "stdout",
          "output_type": "stream",
          "text": [
            "The LR train score is  1.0\n",
            "The LR test score is  1.0\n",
            "The DT train score is  1.0\n",
            "The DT test score is  1.0\n",
            "The RF train score is  1.0\n",
            "The RF test score is  1.0\n",
            "The GB train score is  1.0\n",
            "The GB test score is  1.0\n",
            "The AB train score is  1.0\n",
            "The AB test score is  1.0\n"
          ]
        }
      ],
      "source": [
        "print(\"The LR train score is \", logisticr.score(X_train, y_train))\n",
        "print(\"The LR test score is \", logisticr.score(X_test, ypred_logisticr))\n",
        "print(\"The DT train score is \", dtc.score(X_train, y_train))\n",
        "print(\"The DT test score is \", dtc.score(X_test, ypred_dtc))\n",
        "print(\"The RF train score is \", rfc.score(X_train, y_train))\n",
        "print(\"The RF test score is \", rfc.score(X_test, ypred_rfc))\n",
        "print(\"The GB train score is \", gbc.score(X_train, y_train))\n",
        "print(\"The GB test score is \", gbc.score(X_test, ypred_gbc))\n",
        "print(\"The AB train score is \", adac.score(X_train, y_train))\n",
        "print(\"The AB test score is \", adac.score(X_test, ypred_adac))"
      ]
    },
    {
      "cell_type": "code",
      "execution_count": null,
      "metadata": {
        "id": "lJjqaNu2MnZ3"
      },
      "outputs": [],
      "source": [
        "###!pip install pycaret"
      ]
    },
    {
      "cell_type": "code",
      "execution_count": 65,
      "metadata": {
        "id": "vfBNpsxRMnrX"
      },
      "outputs": [],
      "source": [
        "###! pip install jinja2"
      ]
    },
    {
      "cell_type": "code",
      "execution_count": null,
      "metadata": {
        "id": "o9iB0HeNMn3x"
      },
      "outputs": [],
      "source": [
        "###! pip install markupsafe==2.0.1"
      ]
    },
    {
      "cell_type": "code",
      "execution_count": 67,
      "metadata": {
        "id": "kG-F1hIBM5cJ"
      },
      "outputs": [],
      "source": [
        "import pycaret"
      ]
    },
    {
      "cell_type": "code",
      "execution_count": 68,
      "metadata": {
        "id": "lY8US7niM5sP"
      },
      "outputs": [],
      "source": [
        "from pycaret.classification import *"
      ]
    },
    {
      "cell_type": "code",
      "execution_count": 69,
      "metadata": {
        "colab": {
          "base_uri": "https://localhost:8080/",
          "height": 0
        },
        "id": "-pmkaYofM56_",
        "outputId": "9cb5f383-2db0-40f7-cdba-8c83462821b3"
      },
      "outputs": [
        {
          "data": {
            "text/plain": [
              "Index(['lte_5g_category', 'time', 'packet_loss_rate', 'packet_delay', 'io_t',\n",
              "       'lte_5g', 'gbr', 'non_gbr', 'ar_vr_gaming', 'healthcare',\n",
              "       'industry_4_0', 'io_t_devices', 'public_safety', 'smart_city_and_home',\n",
              "       'smart_transportation', 'smartphone', 'slice_type'],\n",
              "      dtype='object')"
            ]
          },
          "execution_count": 69,
          "metadata": {},
          "output_type": "execute_result"
        }
      ],
      "source": [
        "train.columns"
      ]
    },
    {
      "cell_type": "code",
      "execution_count": 70,
      "metadata": {
        "colab": {
          "base_uri": "https://localhost:8080/",
          "height": 677
        },
        "id": "cSRkBKoxM6Je",
        "outputId": "9639bbd1-3806-4274-f8ff-4f6eea0d3530"
      },
      "outputs": [
        {
          "data": {
            "text/html": [
              "<style type=\"text/css\">\n",
              "#T_78974_row9_col1 {\n",
              "  background-color: lightgreen;\n",
              "}\n",
              "</style>\n",
              "<table id=\"T_78974\" class=\"dataframe\">\n",
              "  <thead>\n",
              "    <tr>\n",
              "      <th class=\"blank level0\" >&nbsp;</th>\n",
              "      <th id=\"T_78974_level0_col0\" class=\"col_heading level0 col0\" >Description</th>\n",
              "      <th id=\"T_78974_level0_col1\" class=\"col_heading level0 col1\" >Value</th>\n",
              "    </tr>\n",
              "  </thead>\n",
              "  <tbody>\n",
              "    <tr>\n",
              "      <th id=\"T_78974_level0_row0\" class=\"row_heading level0 row0\" >0</th>\n",
              "      <td id=\"T_78974_row0_col0\" class=\"data row0 col0\" >Session id</td>\n",
              "      <td id=\"T_78974_row0_col1\" class=\"data row0 col1\" >3583</td>\n",
              "    </tr>\n",
              "    <tr>\n",
              "      <th id=\"T_78974_level0_row1\" class=\"row_heading level0 row1\" >1</th>\n",
              "      <td id=\"T_78974_row1_col0\" class=\"data row1 col0\" >Target</td>\n",
              "      <td id=\"T_78974_row1_col1\" class=\"data row1 col1\" >slice_type</td>\n",
              "    </tr>\n",
              "    <tr>\n",
              "      <th id=\"T_78974_level0_row2\" class=\"row_heading level0 row2\" >2</th>\n",
              "      <td id=\"T_78974_row2_col0\" class=\"data row2 col0\" >Target type</td>\n",
              "      <td id=\"T_78974_row2_col1\" class=\"data row2 col1\" >Multiclass</td>\n",
              "    </tr>\n",
              "    <tr>\n",
              "      <th id=\"T_78974_level0_row3\" class=\"row_heading level0 row3\" >3</th>\n",
              "      <td id=\"T_78974_row3_col0\" class=\"data row3 col0\" >Target mapping</td>\n",
              "      <td id=\"T_78974_row3_col1\" class=\"data row3 col1\" >1: 0, 2: 1, 3: 2</td>\n",
              "    </tr>\n",
              "    <tr>\n",
              "      <th id=\"T_78974_level0_row4\" class=\"row_heading level0 row4\" >4</th>\n",
              "      <td id=\"T_78974_row4_col0\" class=\"data row4 col0\" >Original data shape</td>\n",
              "      <td id=\"T_78974_row4_col1\" class=\"data row4 col1\" >(8958, 17)</td>\n",
              "    </tr>\n",
              "    <tr>\n",
              "      <th id=\"T_78974_level0_row5\" class=\"row_heading level0 row5\" >5</th>\n",
              "      <td id=\"T_78974_row5_col0\" class=\"data row5 col0\" >Transformed data shape</td>\n",
              "      <td id=\"T_78974_row5_col1\" class=\"data row5 col1\" >(8958, 17)</td>\n",
              "    </tr>\n",
              "    <tr>\n",
              "      <th id=\"T_78974_level0_row6\" class=\"row_heading level0 row6\" >6</th>\n",
              "      <td id=\"T_78974_row6_col0\" class=\"data row6 col0\" >Transformed train set shape</td>\n",
              "      <td id=\"T_78974_row6_col1\" class=\"data row6 col1\" >(6270, 17)</td>\n",
              "    </tr>\n",
              "    <tr>\n",
              "      <th id=\"T_78974_level0_row7\" class=\"row_heading level0 row7\" >7</th>\n",
              "      <td id=\"T_78974_row7_col0\" class=\"data row7 col0\" >Transformed test set shape</td>\n",
              "      <td id=\"T_78974_row7_col1\" class=\"data row7 col1\" >(2688, 17)</td>\n",
              "    </tr>\n",
              "    <tr>\n",
              "      <th id=\"T_78974_level0_row8\" class=\"row_heading level0 row8\" >8</th>\n",
              "      <td id=\"T_78974_row8_col0\" class=\"data row8 col0\" >Numeric features</td>\n",
              "      <td id=\"T_78974_row8_col1\" class=\"data row8 col1\" >16</td>\n",
              "    </tr>\n",
              "    <tr>\n",
              "      <th id=\"T_78974_level0_row9\" class=\"row_heading level0 row9\" >9</th>\n",
              "      <td id=\"T_78974_row9_col0\" class=\"data row9 col0\" >Preprocess</td>\n",
              "      <td id=\"T_78974_row9_col1\" class=\"data row9 col1\" >True</td>\n",
              "    </tr>\n",
              "    <tr>\n",
              "      <th id=\"T_78974_level0_row10\" class=\"row_heading level0 row10\" >10</th>\n",
              "      <td id=\"T_78974_row10_col0\" class=\"data row10 col0\" >Imputation type</td>\n",
              "      <td id=\"T_78974_row10_col1\" class=\"data row10 col1\" >simple</td>\n",
              "    </tr>\n",
              "    <tr>\n",
              "      <th id=\"T_78974_level0_row11\" class=\"row_heading level0 row11\" >11</th>\n",
              "      <td id=\"T_78974_row11_col0\" class=\"data row11 col0\" >Numeric imputation</td>\n",
              "      <td id=\"T_78974_row11_col1\" class=\"data row11 col1\" >mean</td>\n",
              "    </tr>\n",
              "    <tr>\n",
              "      <th id=\"T_78974_level0_row12\" class=\"row_heading level0 row12\" >12</th>\n",
              "      <td id=\"T_78974_row12_col0\" class=\"data row12 col0\" >Categorical imputation</td>\n",
              "      <td id=\"T_78974_row12_col1\" class=\"data row12 col1\" >mode</td>\n",
              "    </tr>\n",
              "    <tr>\n",
              "      <th id=\"T_78974_level0_row13\" class=\"row_heading level0 row13\" >13</th>\n",
              "      <td id=\"T_78974_row13_col0\" class=\"data row13 col0\" >Fold Generator</td>\n",
              "      <td id=\"T_78974_row13_col1\" class=\"data row13 col1\" >StratifiedKFold</td>\n",
              "    </tr>\n",
              "    <tr>\n",
              "      <th id=\"T_78974_level0_row14\" class=\"row_heading level0 row14\" >14</th>\n",
              "      <td id=\"T_78974_row14_col0\" class=\"data row14 col0\" >Fold Number</td>\n",
              "      <td id=\"T_78974_row14_col1\" class=\"data row14 col1\" >10</td>\n",
              "    </tr>\n",
              "    <tr>\n",
              "      <th id=\"T_78974_level0_row15\" class=\"row_heading level0 row15\" >15</th>\n",
              "      <td id=\"T_78974_row15_col0\" class=\"data row15 col0\" >CPU Jobs</td>\n",
              "      <td id=\"T_78974_row15_col1\" class=\"data row15 col1\" >-1</td>\n",
              "    </tr>\n",
              "    <tr>\n",
              "      <th id=\"T_78974_level0_row16\" class=\"row_heading level0 row16\" >16</th>\n",
              "      <td id=\"T_78974_row16_col0\" class=\"data row16 col0\" >Use GPU</td>\n",
              "      <td id=\"T_78974_row16_col1\" class=\"data row16 col1\" >False</td>\n",
              "    </tr>\n",
              "    <tr>\n",
              "      <th id=\"T_78974_level0_row17\" class=\"row_heading level0 row17\" >17</th>\n",
              "      <td id=\"T_78974_row17_col0\" class=\"data row17 col0\" >Log Experiment</td>\n",
              "      <td id=\"T_78974_row17_col1\" class=\"data row17 col1\" >False</td>\n",
              "    </tr>\n",
              "    <tr>\n",
              "      <th id=\"T_78974_level0_row18\" class=\"row_heading level0 row18\" >18</th>\n",
              "      <td id=\"T_78974_row18_col0\" class=\"data row18 col0\" >Experiment Name</td>\n",
              "      <td id=\"T_78974_row18_col1\" class=\"data row18 col1\" >clf-default-name</td>\n",
              "    </tr>\n",
              "    <tr>\n",
              "      <th id=\"T_78974_level0_row19\" class=\"row_heading level0 row19\" >19</th>\n",
              "      <td id=\"T_78974_row19_col0\" class=\"data row19 col0\" >USI</td>\n",
              "      <td id=\"T_78974_row19_col1\" class=\"data row19 col1\" >8598</td>\n",
              "    </tr>\n",
              "  </tbody>\n",
              "</table>\n"
            ],
            "text/plain": [
              "<pandas.io.formats.style.Styler at 0x7f9f8807b550>"
            ]
          },
          "metadata": {},
          "output_type": "display_data"
        }
      ],
      "source": [
        "model= setup(data= train, target= 'slice_type')"
      ]
    },
    {
      "cell_type": "code",
      "execution_count": 71,
      "metadata": {
        "colab": {
          "base_uri": "https://localhost:8080/",
          "height": 647,
          "referenced_widgets": [
            "84c02aca3e2248df9ec648d332c6aceb",
            "31c4c10051d84a9d9a58efc30f25edeb",
            "7e29dcbaaad0417aac357ee75798d75e",
            "5fc2222c19c540f9879927b8e4c9978d",
            "50d82fa708dc4f2382fc75224083c144",
            "ce64e55d362940608901de25b7e2d3e6",
            "a50cce6563394f7fa863d23801601eae",
            "27375b3ab1684912ae5d1abbed1f73f5",
            "c3678850f5f74782a12624a6f45e0a92",
            "9140456961cb4cb08bd268211dd3494d",
            "5efd6eb4e76e42678f8be40464c7f053"
          ]
        },
        "id": "CM0Z0tfuNXbn",
        "outputId": "480cf3ca-f2e3-403e-8b24-a438e4fd6818"
      },
      "outputs": [
        {
          "data": {
            "text/html": [],
            "text/plain": [
              "<IPython.core.display.HTML object>"
            ]
          },
          "metadata": {},
          "output_type": "display_data"
        },
        {
          "data": {
            "text/html": [
              "<style type=\"text/css\">\n",
              "#T_86902 th {\n",
              "  text-align: left;\n",
              "}\n",
              "#T_86902_row0_col0, #T_86902_row1_col0, #T_86902_row2_col0, #T_86902_row3_col0, #T_86902_row4_col0, #T_86902_row4_col2, #T_86902_row5_col0, #T_86902_row6_col0, #T_86902_row7_col0, #T_86902_row8_col0, #T_86902_row9_col0, #T_86902_row10_col0, #T_86902_row11_col0, #T_86902_row11_col1, #T_86902_row11_col2, #T_86902_row11_col3, #T_86902_row11_col4, #T_86902_row11_col5, #T_86902_row11_col6, #T_86902_row11_col7, #T_86902_row12_col0, #T_86902_row12_col1, #T_86902_row12_col2, #T_86902_row12_col3, #T_86902_row12_col4, #T_86902_row12_col5, #T_86902_row12_col6, #T_86902_row12_col7, #T_86902_row13_col0, #T_86902_row13_col1, #T_86902_row13_col2, #T_86902_row13_col3, #T_86902_row13_col4, #T_86902_row13_col5, #T_86902_row13_col6, #T_86902_row13_col7, #T_86902_row14_col0, #T_86902_row14_col1, #T_86902_row14_col2, #T_86902_row14_col3, #T_86902_row14_col4, #T_86902_row14_col5, #T_86902_row14_col6, #T_86902_row14_col7 {\n",
              "  text-align: left;\n",
              "}\n",
              "#T_86902_row0_col1, #T_86902_row0_col2, #T_86902_row0_col3, #T_86902_row0_col4, #T_86902_row0_col5, #T_86902_row0_col6, #T_86902_row0_col7, #T_86902_row1_col1, #T_86902_row1_col2, #T_86902_row1_col3, #T_86902_row1_col4, #T_86902_row1_col5, #T_86902_row1_col6, #T_86902_row1_col7, #T_86902_row2_col1, #T_86902_row2_col2, #T_86902_row2_col3, #T_86902_row2_col4, #T_86902_row2_col5, #T_86902_row2_col6, #T_86902_row2_col7, #T_86902_row3_col1, #T_86902_row3_col2, #T_86902_row3_col3, #T_86902_row3_col4, #T_86902_row3_col5, #T_86902_row3_col6, #T_86902_row3_col7, #T_86902_row4_col1, #T_86902_row4_col3, #T_86902_row4_col4, #T_86902_row4_col5, #T_86902_row4_col6, #T_86902_row4_col7, #T_86902_row5_col1, #T_86902_row5_col2, #T_86902_row5_col3, #T_86902_row5_col4, #T_86902_row5_col5, #T_86902_row5_col6, #T_86902_row5_col7, #T_86902_row6_col1, #T_86902_row6_col2, #T_86902_row6_col3, #T_86902_row6_col4, #T_86902_row6_col5, #T_86902_row6_col6, #T_86902_row6_col7, #T_86902_row7_col1, #T_86902_row7_col2, #T_86902_row7_col3, #T_86902_row7_col4, #T_86902_row7_col5, #T_86902_row7_col6, #T_86902_row7_col7, #T_86902_row8_col1, #T_86902_row8_col2, #T_86902_row8_col3, #T_86902_row8_col4, #T_86902_row8_col5, #T_86902_row8_col6, #T_86902_row8_col7, #T_86902_row9_col1, #T_86902_row9_col2, #T_86902_row9_col3, #T_86902_row9_col4, #T_86902_row9_col5, #T_86902_row9_col6, #T_86902_row9_col7, #T_86902_row10_col1, #T_86902_row10_col2, #T_86902_row10_col3, #T_86902_row10_col4, #T_86902_row10_col5, #T_86902_row10_col6, #T_86902_row10_col7 {\n",
              "  text-align: left;\n",
              "  background-color: yellow;\n",
              "}\n",
              "#T_86902_row0_col8, #T_86902_row1_col8, #T_86902_row3_col8, #T_86902_row4_col8, #T_86902_row5_col8, #T_86902_row6_col8, #T_86902_row7_col8, #T_86902_row8_col8, #T_86902_row9_col8, #T_86902_row10_col8, #T_86902_row11_col8, #T_86902_row12_col8, #T_86902_row13_col8, #T_86902_row14_col8 {\n",
              "  text-align: left;\n",
              "  background-color: lightgrey;\n",
              "}\n",
              "#T_86902_row2_col8 {\n",
              "  text-align: left;\n",
              "  background-color: yellow;\n",
              "  background-color: lightgrey;\n",
              "}\n",
              "</style>\n",
              "<table id=\"T_86902\" class=\"dataframe\">\n",
              "  <thead>\n",
              "    <tr>\n",
              "      <th class=\"blank level0\" >&nbsp;</th>\n",
              "      <th id=\"T_86902_level0_col0\" class=\"col_heading level0 col0\" >Model</th>\n",
              "      <th id=\"T_86902_level0_col1\" class=\"col_heading level0 col1\" >Accuracy</th>\n",
              "      <th id=\"T_86902_level0_col2\" class=\"col_heading level0 col2\" >AUC</th>\n",
              "      <th id=\"T_86902_level0_col3\" class=\"col_heading level0 col3\" >Recall</th>\n",
              "      <th id=\"T_86902_level0_col4\" class=\"col_heading level0 col4\" >Prec.</th>\n",
              "      <th id=\"T_86902_level0_col5\" class=\"col_heading level0 col5\" >F1</th>\n",
              "      <th id=\"T_86902_level0_col6\" class=\"col_heading level0 col6\" >Kappa</th>\n",
              "      <th id=\"T_86902_level0_col7\" class=\"col_heading level0 col7\" >MCC</th>\n",
              "      <th id=\"T_86902_level0_col8\" class=\"col_heading level0 col8\" >TT (Sec)</th>\n",
              "    </tr>\n",
              "  </thead>\n",
              "  <tbody>\n",
              "    <tr>\n",
              "      <th id=\"T_86902_level0_row0\" class=\"row_heading level0 row0\" >lr</th>\n",
              "      <td id=\"T_86902_row0_col0\" class=\"data row0 col0\" >Logistic Regression</td>\n",
              "      <td id=\"T_86902_row0_col1\" class=\"data row0 col1\" >1.0000</td>\n",
              "      <td id=\"T_86902_row0_col2\" class=\"data row0 col2\" >1.0000</td>\n",
              "      <td id=\"T_86902_row0_col3\" class=\"data row0 col3\" >1.0000</td>\n",
              "      <td id=\"T_86902_row0_col4\" class=\"data row0 col4\" >1.0000</td>\n",
              "      <td id=\"T_86902_row0_col5\" class=\"data row0 col5\" >1.0000</td>\n",
              "      <td id=\"T_86902_row0_col6\" class=\"data row0 col6\" >1.0000</td>\n",
              "      <td id=\"T_86902_row0_col7\" class=\"data row0 col7\" >1.0000</td>\n",
              "      <td id=\"T_86902_row0_col8\" class=\"data row0 col8\" >1.2050</td>\n",
              "    </tr>\n",
              "    <tr>\n",
              "      <th id=\"T_86902_level0_row1\" class=\"row_heading level0 row1\" >knn</th>\n",
              "      <td id=\"T_86902_row1_col0\" class=\"data row1 col0\" >K Neighbors Classifier</td>\n",
              "      <td id=\"T_86902_row1_col1\" class=\"data row1 col1\" >1.0000</td>\n",
              "      <td id=\"T_86902_row1_col2\" class=\"data row1 col2\" >1.0000</td>\n",
              "      <td id=\"T_86902_row1_col3\" class=\"data row1 col3\" >1.0000</td>\n",
              "      <td id=\"T_86902_row1_col4\" class=\"data row1 col4\" >1.0000</td>\n",
              "      <td id=\"T_86902_row1_col5\" class=\"data row1 col5\" >1.0000</td>\n",
              "      <td id=\"T_86902_row1_col6\" class=\"data row1 col6\" >1.0000</td>\n",
              "      <td id=\"T_86902_row1_col7\" class=\"data row1 col7\" >1.0000</td>\n",
              "      <td id=\"T_86902_row1_col8\" class=\"data row1 col8\" >0.0900</td>\n",
              "    </tr>\n",
              "    <tr>\n",
              "      <th id=\"T_86902_level0_row2\" class=\"row_heading level0 row2\" >nb</th>\n",
              "      <td id=\"T_86902_row2_col0\" class=\"data row2 col0\" >Naive Bayes</td>\n",
              "      <td id=\"T_86902_row2_col1\" class=\"data row2 col1\" >1.0000</td>\n",
              "      <td id=\"T_86902_row2_col2\" class=\"data row2 col2\" >1.0000</td>\n",
              "      <td id=\"T_86902_row2_col3\" class=\"data row2 col3\" >1.0000</td>\n",
              "      <td id=\"T_86902_row2_col4\" class=\"data row2 col4\" >1.0000</td>\n",
              "      <td id=\"T_86902_row2_col5\" class=\"data row2 col5\" >1.0000</td>\n",
              "      <td id=\"T_86902_row2_col6\" class=\"data row2 col6\" >1.0000</td>\n",
              "      <td id=\"T_86902_row2_col7\" class=\"data row2 col7\" >1.0000</td>\n",
              "      <td id=\"T_86902_row2_col8\" class=\"data row2 col8\" >0.0530</td>\n",
              "    </tr>\n",
              "    <tr>\n",
              "      <th id=\"T_86902_level0_row3\" class=\"row_heading level0 row3\" >dt</th>\n",
              "      <td id=\"T_86902_row3_col0\" class=\"data row3 col0\" >Decision Tree Classifier</td>\n",
              "      <td id=\"T_86902_row3_col1\" class=\"data row3 col1\" >1.0000</td>\n",
              "      <td id=\"T_86902_row3_col2\" class=\"data row3 col2\" >1.0000</td>\n",
              "      <td id=\"T_86902_row3_col3\" class=\"data row3 col3\" >1.0000</td>\n",
              "      <td id=\"T_86902_row3_col4\" class=\"data row3 col4\" >1.0000</td>\n",
              "      <td id=\"T_86902_row3_col5\" class=\"data row3 col5\" >1.0000</td>\n",
              "      <td id=\"T_86902_row3_col6\" class=\"data row3 col6\" >1.0000</td>\n",
              "      <td id=\"T_86902_row3_col7\" class=\"data row3 col7\" >1.0000</td>\n",
              "      <td id=\"T_86902_row3_col8\" class=\"data row3 col8\" >0.0680</td>\n",
              "    </tr>\n",
              "    <tr>\n",
              "      <th id=\"T_86902_level0_row4\" class=\"row_heading level0 row4\" >ridge</th>\n",
              "      <td id=\"T_86902_row4_col0\" class=\"data row4 col0\" >Ridge Classifier</td>\n",
              "      <td id=\"T_86902_row4_col1\" class=\"data row4 col1\" >1.0000</td>\n",
              "      <td id=\"T_86902_row4_col2\" class=\"data row4 col2\" >0.0000</td>\n",
              "      <td id=\"T_86902_row4_col3\" class=\"data row4 col3\" >1.0000</td>\n",
              "      <td id=\"T_86902_row4_col4\" class=\"data row4 col4\" >1.0000</td>\n",
              "      <td id=\"T_86902_row4_col5\" class=\"data row4 col5\" >1.0000</td>\n",
              "      <td id=\"T_86902_row4_col6\" class=\"data row4 col6\" >1.0000</td>\n",
              "      <td id=\"T_86902_row4_col7\" class=\"data row4 col7\" >1.0000</td>\n",
              "      <td id=\"T_86902_row4_col8\" class=\"data row4 col8\" >0.0850</td>\n",
              "    </tr>\n",
              "    <tr>\n",
              "      <th id=\"T_86902_level0_row5\" class=\"row_heading level0 row5\" >rf</th>\n",
              "      <td id=\"T_86902_row5_col0\" class=\"data row5 col0\" >Random Forest Classifier</td>\n",
              "      <td id=\"T_86902_row5_col1\" class=\"data row5 col1\" >1.0000</td>\n",
              "      <td id=\"T_86902_row5_col2\" class=\"data row5 col2\" >1.0000</td>\n",
              "      <td id=\"T_86902_row5_col3\" class=\"data row5 col3\" >1.0000</td>\n",
              "      <td id=\"T_86902_row5_col4\" class=\"data row5 col4\" >1.0000</td>\n",
              "      <td id=\"T_86902_row5_col5\" class=\"data row5 col5\" >1.0000</td>\n",
              "      <td id=\"T_86902_row5_col6\" class=\"data row5 col6\" >1.0000</td>\n",
              "      <td id=\"T_86902_row5_col7\" class=\"data row5 col7\" >1.0000</td>\n",
              "      <td id=\"T_86902_row5_col8\" class=\"data row5 col8\" >0.4530</td>\n",
              "    </tr>\n",
              "    <tr>\n",
              "      <th id=\"T_86902_level0_row6\" class=\"row_heading level0 row6\" >ada</th>\n",
              "      <td id=\"T_86902_row6_col0\" class=\"data row6 col0\" >Ada Boost Classifier</td>\n",
              "      <td id=\"T_86902_row6_col1\" class=\"data row6 col1\" >1.0000</td>\n",
              "      <td id=\"T_86902_row6_col2\" class=\"data row6 col2\" >1.0000</td>\n",
              "      <td id=\"T_86902_row6_col3\" class=\"data row6 col3\" >1.0000</td>\n",
              "      <td id=\"T_86902_row6_col4\" class=\"data row6 col4\" >1.0000</td>\n",
              "      <td id=\"T_86902_row6_col5\" class=\"data row6 col5\" >1.0000</td>\n",
              "      <td id=\"T_86902_row6_col6\" class=\"data row6 col6\" >1.0000</td>\n",
              "      <td id=\"T_86902_row6_col7\" class=\"data row6 col7\" >1.0000</td>\n",
              "      <td id=\"T_86902_row6_col8\" class=\"data row6 col8\" >0.2760</td>\n",
              "    </tr>\n",
              "    <tr>\n",
              "      <th id=\"T_86902_level0_row7\" class=\"row_heading level0 row7\" >gbc</th>\n",
              "      <td id=\"T_86902_row7_col0\" class=\"data row7 col0\" >Gradient Boosting Classifier</td>\n",
              "      <td id=\"T_86902_row7_col1\" class=\"data row7 col1\" >1.0000</td>\n",
              "      <td id=\"T_86902_row7_col2\" class=\"data row7 col2\" >1.0000</td>\n",
              "      <td id=\"T_86902_row7_col3\" class=\"data row7 col3\" >1.0000</td>\n",
              "      <td id=\"T_86902_row7_col4\" class=\"data row7 col4\" >1.0000</td>\n",
              "      <td id=\"T_86902_row7_col5\" class=\"data row7 col5\" >1.0000</td>\n",
              "      <td id=\"T_86902_row7_col6\" class=\"data row7 col6\" >1.0000</td>\n",
              "      <td id=\"T_86902_row7_col7\" class=\"data row7 col7\" >1.0000</td>\n",
              "      <td id=\"T_86902_row7_col8\" class=\"data row7 col8\" >1.3980</td>\n",
              "    </tr>\n",
              "    <tr>\n",
              "      <th id=\"T_86902_level0_row8\" class=\"row_heading level0 row8\" >et</th>\n",
              "      <td id=\"T_86902_row8_col0\" class=\"data row8 col0\" >Extra Trees Classifier</td>\n",
              "      <td id=\"T_86902_row8_col1\" class=\"data row8 col1\" >1.0000</td>\n",
              "      <td id=\"T_86902_row8_col2\" class=\"data row8 col2\" >1.0000</td>\n",
              "      <td id=\"T_86902_row8_col3\" class=\"data row8 col3\" >1.0000</td>\n",
              "      <td id=\"T_86902_row8_col4\" class=\"data row8 col4\" >1.0000</td>\n",
              "      <td id=\"T_86902_row8_col5\" class=\"data row8 col5\" >1.0000</td>\n",
              "      <td id=\"T_86902_row8_col6\" class=\"data row8 col6\" >1.0000</td>\n",
              "      <td id=\"T_86902_row8_col7\" class=\"data row8 col7\" >1.0000</td>\n",
              "      <td id=\"T_86902_row8_col8\" class=\"data row8 col8\" >0.4140</td>\n",
              "    </tr>\n",
              "    <tr>\n",
              "      <th id=\"T_86902_level0_row9\" class=\"row_heading level0 row9\" >xgboost</th>\n",
              "      <td id=\"T_86902_row9_col0\" class=\"data row9 col0\" >Extreme Gradient Boosting</td>\n",
              "      <td id=\"T_86902_row9_col1\" class=\"data row9 col1\" >1.0000</td>\n",
              "      <td id=\"T_86902_row9_col2\" class=\"data row9 col2\" >1.0000</td>\n",
              "      <td id=\"T_86902_row9_col3\" class=\"data row9 col3\" >1.0000</td>\n",
              "      <td id=\"T_86902_row9_col4\" class=\"data row9 col4\" >1.0000</td>\n",
              "      <td id=\"T_86902_row9_col5\" class=\"data row9 col5\" >1.0000</td>\n",
              "      <td id=\"T_86902_row9_col6\" class=\"data row9 col6\" >1.0000</td>\n",
              "      <td id=\"T_86902_row9_col7\" class=\"data row9 col7\" >1.0000</td>\n",
              "      <td id=\"T_86902_row9_col8\" class=\"data row9 col8\" >0.4530</td>\n",
              "    </tr>\n",
              "    <tr>\n",
              "      <th id=\"T_86902_level0_row10\" class=\"row_heading level0 row10\" >lightgbm</th>\n",
              "      <td id=\"T_86902_row10_col0\" class=\"data row10 col0\" >Light Gradient Boosting Machine</td>\n",
              "      <td id=\"T_86902_row10_col1\" class=\"data row10 col1\" >1.0000</td>\n",
              "      <td id=\"T_86902_row10_col2\" class=\"data row10 col2\" >1.0000</td>\n",
              "      <td id=\"T_86902_row10_col3\" class=\"data row10 col3\" >1.0000</td>\n",
              "      <td id=\"T_86902_row10_col4\" class=\"data row10 col4\" >1.0000</td>\n",
              "      <td id=\"T_86902_row10_col5\" class=\"data row10 col5\" >1.0000</td>\n",
              "      <td id=\"T_86902_row10_col6\" class=\"data row10 col6\" >1.0000</td>\n",
              "      <td id=\"T_86902_row10_col7\" class=\"data row10 col7\" >1.0000</td>\n",
              "      <td id=\"T_86902_row10_col8\" class=\"data row10 col8\" >0.2560</td>\n",
              "    </tr>\n",
              "    <tr>\n",
              "      <th id=\"T_86902_level0_row11\" class=\"row_heading level0 row11\" >svm</th>\n",
              "      <td id=\"T_86902_row11_col0\" class=\"data row11 col0\" >SVM - Linear Kernel</td>\n",
              "      <td id=\"T_86902_row11_col1\" class=\"data row11 col1\" >0.9337</td>\n",
              "      <td id=\"T_86902_row11_col2\" class=\"data row11 col2\" >0.0000</td>\n",
              "      <td id=\"T_86902_row11_col3\" class=\"data row11 col3\" >0.9337</td>\n",
              "      <td id=\"T_86902_row11_col4\" class=\"data row11 col4\" >0.9059</td>\n",
              "      <td id=\"T_86902_row11_col5\" class=\"data row11 col5\" >0.9149</td>\n",
              "      <td id=\"T_86902_row11_col6\" class=\"data row11 col6\" >0.8848</td>\n",
              "      <td id=\"T_86902_row11_col7\" class=\"data row11 col7\" >0.9013</td>\n",
              "      <td id=\"T_86902_row11_col8\" class=\"data row11 col8\" >0.0890</td>\n",
              "    </tr>\n",
              "    <tr>\n",
              "      <th id=\"T_86902_level0_row12\" class=\"row_heading level0 row12\" >lda</th>\n",
              "      <td id=\"T_86902_row12_col0\" class=\"data row12 col0\" >Linear Discriminant Analysis</td>\n",
              "      <td id=\"T_86902_row12_col1\" class=\"data row12 col1\" >0.8721</td>\n",
              "      <td id=\"T_86902_row12_col2\" class=\"data row12 col2\" >0.9661</td>\n",
              "      <td id=\"T_86902_row12_col3\" class=\"data row12 col3\" >0.8721</td>\n",
              "      <td id=\"T_86902_row12_col4\" class=\"data row12 col4\" >0.8897</td>\n",
              "      <td id=\"T_86902_row12_col5\" class=\"data row12 col5\" >0.8696</td>\n",
              "      <td id=\"T_86902_row12_col6\" class=\"data row12 col6\" >0.7775</td>\n",
              "      <td id=\"T_86902_row12_col7\" class=\"data row12 col7\" >0.7918</td>\n",
              "      <td id=\"T_86902_row12_col8\" class=\"data row12 col8\" >0.0670</td>\n",
              "    </tr>\n",
              "    <tr>\n",
              "      <th id=\"T_86902_level0_row13\" class=\"row_heading level0 row13\" >qda</th>\n",
              "      <td id=\"T_86902_row13_col0\" class=\"data row13 col0\" >Quadratic Discriminant Analysis</td>\n",
              "      <td id=\"T_86902_row13_col1\" class=\"data row13 col1\" >0.5327</td>\n",
              "      <td id=\"T_86902_row13_col2\" class=\"data row13 col2\" >0.0000</td>\n",
              "      <td id=\"T_86902_row13_col3\" class=\"data row13 col3\" >0.5327</td>\n",
              "      <td id=\"T_86902_row13_col4\" class=\"data row13 col4\" >0.2838</td>\n",
              "      <td id=\"T_86902_row13_col5\" class=\"data row13 col5\" >0.3703</td>\n",
              "      <td id=\"T_86902_row13_col6\" class=\"data row13 col6\" >0.0000</td>\n",
              "      <td id=\"T_86902_row13_col7\" class=\"data row13 col7\" >0.0000</td>\n",
              "      <td id=\"T_86902_row13_col8\" class=\"data row13 col8\" >0.0570</td>\n",
              "    </tr>\n",
              "    <tr>\n",
              "      <th id=\"T_86902_level0_row14\" class=\"row_heading level0 row14\" >dummy</th>\n",
              "      <td id=\"T_86902_row14_col0\" class=\"data row14 col0\" >Dummy Classifier</td>\n",
              "      <td id=\"T_86902_row14_col1\" class=\"data row14 col1\" >0.5327</td>\n",
              "      <td id=\"T_86902_row14_col2\" class=\"data row14 col2\" >0.5000</td>\n",
              "      <td id=\"T_86902_row14_col3\" class=\"data row14 col3\" >0.5327</td>\n",
              "      <td id=\"T_86902_row14_col4\" class=\"data row14 col4\" >0.2838</td>\n",
              "      <td id=\"T_86902_row14_col5\" class=\"data row14 col5\" >0.3703</td>\n",
              "      <td id=\"T_86902_row14_col6\" class=\"data row14 col6\" >0.0000</td>\n",
              "      <td id=\"T_86902_row14_col7\" class=\"data row14 col7\" >0.0000</td>\n",
              "      <td id=\"T_86902_row14_col8\" class=\"data row14 col8\" >0.0580</td>\n",
              "    </tr>\n",
              "  </tbody>\n",
              "</table>\n"
            ],
            "text/plain": [
              "<pandas.io.formats.style.Styler at 0x7f9fadde4610>"
            ]
          },
          "metadata": {},
          "output_type": "display_data"
        },
        {
          "data": {
            "application/vnd.jupyter.widget-view+json": {
              "model_id": "84c02aca3e2248df9ec648d332c6aceb",
              "version_major": 2,
              "version_minor": 0
            },
            "text/plain": [
              "Processing:   0%|          | 0/65 [00:00<?, ?it/s]"
            ]
          },
          "metadata": {
            "application/vnd.jupyter.widget-view+json": {
              "colab": {
                "custom_widget_manager": {
                  "url": "https://ssl.gstatic.com/colaboratory-static/widgets/colab-cdn-widget-manager/b3e629b1971e1542/manager.min.js"
                }
              }
            }
          },
          "output_type": "display_data"
        },
        {
          "data": {
            "text/html": [],
            "text/plain": [
              "<IPython.core.display.HTML object>"
            ]
          },
          "metadata": {},
          "output_type": "display_data"
        },
        {
          "data": {
            "text/html": [
              "<style>#sk-container-id-3 {color: black;background-color: white;}#sk-container-id-3 pre{padding: 0;}#sk-container-id-3 div.sk-toggleable {background-color: white;}#sk-container-id-3 label.sk-toggleable__label {cursor: pointer;display: block;width: 100%;margin-bottom: 0;padding: 0.3em;box-sizing: border-box;text-align: center;}#sk-container-id-3 label.sk-toggleable__label-arrow:before {content: \"▸\";float: left;margin-right: 0.25em;color: #696969;}#sk-container-id-3 label.sk-toggleable__label-arrow:hover:before {color: black;}#sk-container-id-3 div.sk-estimator:hover label.sk-toggleable__label-arrow:before {color: black;}#sk-container-id-3 div.sk-toggleable__content {max-height: 0;max-width: 0;overflow: hidden;text-align: left;background-color: #f0f8ff;}#sk-container-id-3 div.sk-toggleable__content pre {margin: 0.2em;color: black;border-radius: 0.25em;background-color: #f0f8ff;}#sk-container-id-3 input.sk-toggleable__control:checked~div.sk-toggleable__content {max-height: 200px;max-width: 100%;overflow: auto;}#sk-container-id-3 input.sk-toggleable__control:checked~label.sk-toggleable__label-arrow:before {content: \"▾\";}#sk-container-id-3 div.sk-estimator input.sk-toggleable__control:checked~label.sk-toggleable__label {background-color: #d4ebff;}#sk-container-id-3 div.sk-label input.sk-toggleable__control:checked~label.sk-toggleable__label {background-color: #d4ebff;}#sk-container-id-3 input.sk-hidden--visually {border: 0;clip: rect(1px 1px 1px 1px);clip: rect(1px, 1px, 1px, 1px);height: 1px;margin: -1px;overflow: hidden;padding: 0;position: absolute;width: 1px;}#sk-container-id-3 div.sk-estimator {font-family: monospace;background-color: #f0f8ff;border: 1px dotted black;border-radius: 0.25em;box-sizing: border-box;margin-bottom: 0.5em;}#sk-container-id-3 div.sk-estimator:hover {background-color: #d4ebff;}#sk-container-id-3 div.sk-parallel-item::after {content: \"\";width: 100%;border-bottom: 1px solid gray;flex-grow: 1;}#sk-container-id-3 div.sk-label:hover label.sk-toggleable__label {background-color: #d4ebff;}#sk-container-id-3 div.sk-serial::before {content: \"\";position: absolute;border-left: 1px solid gray;box-sizing: border-box;top: 0;bottom: 0;left: 50%;z-index: 0;}#sk-container-id-3 div.sk-serial {display: flex;flex-direction: column;align-items: center;background-color: white;padding-right: 0.2em;padding-left: 0.2em;position: relative;}#sk-container-id-3 div.sk-item {position: relative;z-index: 1;}#sk-container-id-3 div.sk-parallel {display: flex;align-items: stretch;justify-content: center;background-color: white;position: relative;}#sk-container-id-3 div.sk-item::before, #sk-container-id-3 div.sk-parallel-item::before {content: \"\";position: absolute;border-left: 1px solid gray;box-sizing: border-box;top: 0;bottom: 0;left: 50%;z-index: -1;}#sk-container-id-3 div.sk-parallel-item {display: flex;flex-direction: column;z-index: 1;position: relative;background-color: white;}#sk-container-id-3 div.sk-parallel-item:first-child::after {align-self: flex-end;width: 50%;}#sk-container-id-3 div.sk-parallel-item:last-child::after {align-self: flex-start;width: 50%;}#sk-container-id-3 div.sk-parallel-item:only-child::after {width: 0;}#sk-container-id-3 div.sk-dashed-wrapped {border: 1px dashed gray;margin: 0 0.4em 0.5em 0.4em;box-sizing: border-box;padding-bottom: 0.4em;background-color: white;}#sk-container-id-3 div.sk-label label {font-family: monospace;font-weight: bold;display: inline-block;line-height: 1.2em;}#sk-container-id-3 div.sk-label-container {text-align: center;}#sk-container-id-3 div.sk-container {/* jupyter's `normalize.less` sets `[hidden] { display: none; }` but bootstrap.min.css set `[hidden] { display: none !important; }` so we also need the `!important` here to be able to override the default hidden behavior on the sphinx rendered scikit-learn.org. See: https://github.com/scikit-learn/scikit-learn/issues/21755 */display: inline-block !important;position: relative;}#sk-container-id-3 div.sk-text-repr-fallback {display: none;}</style><div id=\"sk-container-id-3\" class=\"sk-top-container\"><div class=\"sk-text-repr-fallback\"><pre>LogisticRegression(C=1.0, class_weight=None, dual=False, fit_intercept=True,\n",
              "                   intercept_scaling=1, l1_ratio=None, max_iter=1000,\n",
              "                   multi_class=&#x27;auto&#x27;, n_jobs=None, penalty=&#x27;l2&#x27;,\n",
              "                   random_state=3583, solver=&#x27;lbfgs&#x27;, tol=0.0001, verbose=0,\n",
              "                   warm_start=False)</pre><b>In a Jupyter environment, please rerun this cell to show the HTML representation or trust the notebook. <br />On GitHub, the HTML representation is unable to render, please try loading this page with nbviewer.org.</b></div><div class=\"sk-container\" hidden><div class=\"sk-item\"><div class=\"sk-estimator sk-toggleable\"><input class=\"sk-toggleable__control sk-hidden--visually\" id=\"sk-estimator-id-3\" type=\"checkbox\" checked><label for=\"sk-estimator-id-3\" class=\"sk-toggleable__label sk-toggleable__label-arrow\">LogisticRegression</label><div class=\"sk-toggleable__content\"><pre>LogisticRegression(C=1.0, class_weight=None, dual=False, fit_intercept=True,\n",
              "                   intercept_scaling=1, l1_ratio=None, max_iter=1000,\n",
              "                   multi_class=&#x27;auto&#x27;, n_jobs=None, penalty=&#x27;l2&#x27;,\n",
              "                   random_state=3583, solver=&#x27;lbfgs&#x27;, tol=0.0001, verbose=0,\n",
              "                   warm_start=False)</pre></div></div></div></div></div>"
            ],
            "text/plain": [
              "LogisticRegression(C=1.0, class_weight=None, dual=False, fit_intercept=True,\n",
              "                   intercept_scaling=1, l1_ratio=None, max_iter=1000,\n",
              "                   multi_class='auto', n_jobs=None, penalty='l2',\n",
              "                   random_state=3583, solver='lbfgs', tol=0.0001, verbose=0,\n",
              "                   warm_start=False)"
            ]
          },
          "execution_count": 71,
          "metadata": {},
          "output_type": "execute_result"
        }
      ],
      "source": [
        "compare_models()"
      ]
    },
    {
      "cell_type": "code",
      "execution_count": 72,
      "metadata": {
        "colab": {
          "base_uri": "https://localhost:8080/",
          "height": 457,
          "referenced_widgets": [
            "ca9c04aa3cc24d4d852cfa844ae7007e",
            "e277a960b4f242a69d55126b871099c4",
            "8a9023f58b424fee878f51d10801891b",
            "68cbc68556574f8fbb03d6194f91c2dc",
            "010d350dbf554cc7bdc014ab58bd35dd",
            "fb126387659c4c2b8102e7dc2aa41c38",
            "aacf02dfa3534e8292b6b1145f149d1e",
            "83b5ec99f02d40a782a98f92c98b02ee",
            "bb7dcc84abd44e5e8b105402a875c329",
            "edd9cfda21b040c08a8c87702602762d",
            "7e12d01dc57d4af2affc81d3cd19f08c"
          ]
        },
        "id": "_P_HlbXYNX2t",
        "outputId": "791c907d-4397-43f8-f7dc-4fa21a5702f4"
      },
      "outputs": [
        {
          "data": {
            "text/html": [],
            "text/plain": [
              "<IPython.core.display.HTML object>"
            ]
          },
          "metadata": {},
          "output_type": "display_data"
        },
        {
          "data": {
            "text/html": [
              "<style type=\"text/css\">\n",
              "#T_0bd6e_row10_col0, #T_0bd6e_row10_col1, #T_0bd6e_row10_col2, #T_0bd6e_row10_col3, #T_0bd6e_row10_col4, #T_0bd6e_row10_col5, #T_0bd6e_row10_col6 {\n",
              "  background: yellow;\n",
              "}\n",
              "</style>\n",
              "<table id=\"T_0bd6e\" class=\"dataframe\">\n",
              "  <thead>\n",
              "    <tr>\n",
              "      <th class=\"blank level0\" >&nbsp;</th>\n",
              "      <th id=\"T_0bd6e_level0_col0\" class=\"col_heading level0 col0\" >Accuracy</th>\n",
              "      <th id=\"T_0bd6e_level0_col1\" class=\"col_heading level0 col1\" >AUC</th>\n",
              "      <th id=\"T_0bd6e_level0_col2\" class=\"col_heading level0 col2\" >Recall</th>\n",
              "      <th id=\"T_0bd6e_level0_col3\" class=\"col_heading level0 col3\" >Prec.</th>\n",
              "      <th id=\"T_0bd6e_level0_col4\" class=\"col_heading level0 col4\" >F1</th>\n",
              "      <th id=\"T_0bd6e_level0_col5\" class=\"col_heading level0 col5\" >Kappa</th>\n",
              "      <th id=\"T_0bd6e_level0_col6\" class=\"col_heading level0 col6\" >MCC</th>\n",
              "    </tr>\n",
              "    <tr>\n",
              "      <th class=\"index_name level0\" >Fold</th>\n",
              "      <th class=\"blank col0\" >&nbsp;</th>\n",
              "      <th class=\"blank col1\" >&nbsp;</th>\n",
              "      <th class=\"blank col2\" >&nbsp;</th>\n",
              "      <th class=\"blank col3\" >&nbsp;</th>\n",
              "      <th class=\"blank col4\" >&nbsp;</th>\n",
              "      <th class=\"blank col5\" >&nbsp;</th>\n",
              "      <th class=\"blank col6\" >&nbsp;</th>\n",
              "    </tr>\n",
              "  </thead>\n",
              "  <tbody>\n",
              "    <tr>\n",
              "      <th id=\"T_0bd6e_level0_row0\" class=\"row_heading level0 row0\" >0</th>\n",
              "      <td id=\"T_0bd6e_row0_col0\" class=\"data row0 col0\" >1.0000</td>\n",
              "      <td id=\"T_0bd6e_row0_col1\" class=\"data row0 col1\" >1.0000</td>\n",
              "      <td id=\"T_0bd6e_row0_col2\" class=\"data row0 col2\" >1.0000</td>\n",
              "      <td id=\"T_0bd6e_row0_col3\" class=\"data row0 col3\" >1.0000</td>\n",
              "      <td id=\"T_0bd6e_row0_col4\" class=\"data row0 col4\" >1.0000</td>\n",
              "      <td id=\"T_0bd6e_row0_col5\" class=\"data row0 col5\" >1.0000</td>\n",
              "      <td id=\"T_0bd6e_row0_col6\" class=\"data row0 col6\" >1.0000</td>\n",
              "    </tr>\n",
              "    <tr>\n",
              "      <th id=\"T_0bd6e_level0_row1\" class=\"row_heading level0 row1\" >1</th>\n",
              "      <td id=\"T_0bd6e_row1_col0\" class=\"data row1 col0\" >1.0000</td>\n",
              "      <td id=\"T_0bd6e_row1_col1\" class=\"data row1 col1\" >1.0000</td>\n",
              "      <td id=\"T_0bd6e_row1_col2\" class=\"data row1 col2\" >1.0000</td>\n",
              "      <td id=\"T_0bd6e_row1_col3\" class=\"data row1 col3\" >1.0000</td>\n",
              "      <td id=\"T_0bd6e_row1_col4\" class=\"data row1 col4\" >1.0000</td>\n",
              "      <td id=\"T_0bd6e_row1_col5\" class=\"data row1 col5\" >1.0000</td>\n",
              "      <td id=\"T_0bd6e_row1_col6\" class=\"data row1 col6\" >1.0000</td>\n",
              "    </tr>\n",
              "    <tr>\n",
              "      <th id=\"T_0bd6e_level0_row2\" class=\"row_heading level0 row2\" >2</th>\n",
              "      <td id=\"T_0bd6e_row2_col0\" class=\"data row2 col0\" >1.0000</td>\n",
              "      <td id=\"T_0bd6e_row2_col1\" class=\"data row2 col1\" >1.0000</td>\n",
              "      <td id=\"T_0bd6e_row2_col2\" class=\"data row2 col2\" >1.0000</td>\n",
              "      <td id=\"T_0bd6e_row2_col3\" class=\"data row2 col3\" >1.0000</td>\n",
              "      <td id=\"T_0bd6e_row2_col4\" class=\"data row2 col4\" >1.0000</td>\n",
              "      <td id=\"T_0bd6e_row2_col5\" class=\"data row2 col5\" >1.0000</td>\n",
              "      <td id=\"T_0bd6e_row2_col6\" class=\"data row2 col6\" >1.0000</td>\n",
              "    </tr>\n",
              "    <tr>\n",
              "      <th id=\"T_0bd6e_level0_row3\" class=\"row_heading level0 row3\" >3</th>\n",
              "      <td id=\"T_0bd6e_row3_col0\" class=\"data row3 col0\" >1.0000</td>\n",
              "      <td id=\"T_0bd6e_row3_col1\" class=\"data row3 col1\" >1.0000</td>\n",
              "      <td id=\"T_0bd6e_row3_col2\" class=\"data row3 col2\" >1.0000</td>\n",
              "      <td id=\"T_0bd6e_row3_col3\" class=\"data row3 col3\" >1.0000</td>\n",
              "      <td id=\"T_0bd6e_row3_col4\" class=\"data row3 col4\" >1.0000</td>\n",
              "      <td id=\"T_0bd6e_row3_col5\" class=\"data row3 col5\" >1.0000</td>\n",
              "      <td id=\"T_0bd6e_row3_col6\" class=\"data row3 col6\" >1.0000</td>\n",
              "    </tr>\n",
              "    <tr>\n",
              "      <th id=\"T_0bd6e_level0_row4\" class=\"row_heading level0 row4\" >4</th>\n",
              "      <td id=\"T_0bd6e_row4_col0\" class=\"data row4 col0\" >1.0000</td>\n",
              "      <td id=\"T_0bd6e_row4_col1\" class=\"data row4 col1\" >1.0000</td>\n",
              "      <td id=\"T_0bd6e_row4_col2\" class=\"data row4 col2\" >1.0000</td>\n",
              "      <td id=\"T_0bd6e_row4_col3\" class=\"data row4 col3\" >1.0000</td>\n",
              "      <td id=\"T_0bd6e_row4_col4\" class=\"data row4 col4\" >1.0000</td>\n",
              "      <td id=\"T_0bd6e_row4_col5\" class=\"data row4 col5\" >1.0000</td>\n",
              "      <td id=\"T_0bd6e_row4_col6\" class=\"data row4 col6\" >1.0000</td>\n",
              "    </tr>\n",
              "    <tr>\n",
              "      <th id=\"T_0bd6e_level0_row5\" class=\"row_heading level0 row5\" >5</th>\n",
              "      <td id=\"T_0bd6e_row5_col0\" class=\"data row5 col0\" >1.0000</td>\n",
              "      <td id=\"T_0bd6e_row5_col1\" class=\"data row5 col1\" >1.0000</td>\n",
              "      <td id=\"T_0bd6e_row5_col2\" class=\"data row5 col2\" >1.0000</td>\n",
              "      <td id=\"T_0bd6e_row5_col3\" class=\"data row5 col3\" >1.0000</td>\n",
              "      <td id=\"T_0bd6e_row5_col4\" class=\"data row5 col4\" >1.0000</td>\n",
              "      <td id=\"T_0bd6e_row5_col5\" class=\"data row5 col5\" >1.0000</td>\n",
              "      <td id=\"T_0bd6e_row5_col6\" class=\"data row5 col6\" >1.0000</td>\n",
              "    </tr>\n",
              "    <tr>\n",
              "      <th id=\"T_0bd6e_level0_row6\" class=\"row_heading level0 row6\" >6</th>\n",
              "      <td id=\"T_0bd6e_row6_col0\" class=\"data row6 col0\" >1.0000</td>\n",
              "      <td id=\"T_0bd6e_row6_col1\" class=\"data row6 col1\" >1.0000</td>\n",
              "      <td id=\"T_0bd6e_row6_col2\" class=\"data row6 col2\" >1.0000</td>\n",
              "      <td id=\"T_0bd6e_row6_col3\" class=\"data row6 col3\" >1.0000</td>\n",
              "      <td id=\"T_0bd6e_row6_col4\" class=\"data row6 col4\" >1.0000</td>\n",
              "      <td id=\"T_0bd6e_row6_col5\" class=\"data row6 col5\" >1.0000</td>\n",
              "      <td id=\"T_0bd6e_row6_col6\" class=\"data row6 col6\" >1.0000</td>\n",
              "    </tr>\n",
              "    <tr>\n",
              "      <th id=\"T_0bd6e_level0_row7\" class=\"row_heading level0 row7\" >7</th>\n",
              "      <td id=\"T_0bd6e_row7_col0\" class=\"data row7 col0\" >1.0000</td>\n",
              "      <td id=\"T_0bd6e_row7_col1\" class=\"data row7 col1\" >1.0000</td>\n",
              "      <td id=\"T_0bd6e_row7_col2\" class=\"data row7 col2\" >1.0000</td>\n",
              "      <td id=\"T_0bd6e_row7_col3\" class=\"data row7 col3\" >1.0000</td>\n",
              "      <td id=\"T_0bd6e_row7_col4\" class=\"data row7 col4\" >1.0000</td>\n",
              "      <td id=\"T_0bd6e_row7_col5\" class=\"data row7 col5\" >1.0000</td>\n",
              "      <td id=\"T_0bd6e_row7_col6\" class=\"data row7 col6\" >1.0000</td>\n",
              "    </tr>\n",
              "    <tr>\n",
              "      <th id=\"T_0bd6e_level0_row8\" class=\"row_heading level0 row8\" >8</th>\n",
              "      <td id=\"T_0bd6e_row8_col0\" class=\"data row8 col0\" >1.0000</td>\n",
              "      <td id=\"T_0bd6e_row8_col1\" class=\"data row8 col1\" >1.0000</td>\n",
              "      <td id=\"T_0bd6e_row8_col2\" class=\"data row8 col2\" >1.0000</td>\n",
              "      <td id=\"T_0bd6e_row8_col3\" class=\"data row8 col3\" >1.0000</td>\n",
              "      <td id=\"T_0bd6e_row8_col4\" class=\"data row8 col4\" >1.0000</td>\n",
              "      <td id=\"T_0bd6e_row8_col5\" class=\"data row8 col5\" >1.0000</td>\n",
              "      <td id=\"T_0bd6e_row8_col6\" class=\"data row8 col6\" >1.0000</td>\n",
              "    </tr>\n",
              "    <tr>\n",
              "      <th id=\"T_0bd6e_level0_row9\" class=\"row_heading level0 row9\" >9</th>\n",
              "      <td id=\"T_0bd6e_row9_col0\" class=\"data row9 col0\" >1.0000</td>\n",
              "      <td id=\"T_0bd6e_row9_col1\" class=\"data row9 col1\" >1.0000</td>\n",
              "      <td id=\"T_0bd6e_row9_col2\" class=\"data row9 col2\" >1.0000</td>\n",
              "      <td id=\"T_0bd6e_row9_col3\" class=\"data row9 col3\" >1.0000</td>\n",
              "      <td id=\"T_0bd6e_row9_col4\" class=\"data row9 col4\" >1.0000</td>\n",
              "      <td id=\"T_0bd6e_row9_col5\" class=\"data row9 col5\" >1.0000</td>\n",
              "      <td id=\"T_0bd6e_row9_col6\" class=\"data row9 col6\" >1.0000</td>\n",
              "    </tr>\n",
              "    <tr>\n",
              "      <th id=\"T_0bd6e_level0_row10\" class=\"row_heading level0 row10\" >Mean</th>\n",
              "      <td id=\"T_0bd6e_row10_col0\" class=\"data row10 col0\" >1.0000</td>\n",
              "      <td id=\"T_0bd6e_row10_col1\" class=\"data row10 col1\" >1.0000</td>\n",
              "      <td id=\"T_0bd6e_row10_col2\" class=\"data row10 col2\" >1.0000</td>\n",
              "      <td id=\"T_0bd6e_row10_col3\" class=\"data row10 col3\" >1.0000</td>\n",
              "      <td id=\"T_0bd6e_row10_col4\" class=\"data row10 col4\" >1.0000</td>\n",
              "      <td id=\"T_0bd6e_row10_col5\" class=\"data row10 col5\" >1.0000</td>\n",
              "      <td id=\"T_0bd6e_row10_col6\" class=\"data row10 col6\" >1.0000</td>\n",
              "    </tr>\n",
              "    <tr>\n",
              "      <th id=\"T_0bd6e_level0_row11\" class=\"row_heading level0 row11\" >Std</th>\n",
              "      <td id=\"T_0bd6e_row11_col0\" class=\"data row11 col0\" >0.0000</td>\n",
              "      <td id=\"T_0bd6e_row11_col1\" class=\"data row11 col1\" >0.0000</td>\n",
              "      <td id=\"T_0bd6e_row11_col2\" class=\"data row11 col2\" >0.0000</td>\n",
              "      <td id=\"T_0bd6e_row11_col3\" class=\"data row11 col3\" >0.0000</td>\n",
              "      <td id=\"T_0bd6e_row11_col4\" class=\"data row11 col4\" >0.0000</td>\n",
              "      <td id=\"T_0bd6e_row11_col5\" class=\"data row11 col5\" >0.0000</td>\n",
              "      <td id=\"T_0bd6e_row11_col6\" class=\"data row11 col6\" >0.0000</td>\n",
              "    </tr>\n",
              "  </tbody>\n",
              "</table>\n"
            ],
            "text/plain": [
              "<pandas.io.formats.style.Styler at 0x7f9f892a18a0>"
            ]
          },
          "metadata": {},
          "output_type": "display_data"
        },
        {
          "data": {
            "application/vnd.jupyter.widget-view+json": {
              "model_id": "ca9c04aa3cc24d4d852cfa844ae7007e",
              "version_major": 2,
              "version_minor": 0
            },
            "text/plain": [
              "Processing:   0%|          | 0/4 [00:00<?, ?it/s]"
            ]
          },
          "metadata": {
            "application/vnd.jupyter.widget-view+json": {
              "colab": {
                "custom_widget_manager": {
                  "url": "https://ssl.gstatic.com/colaboratory-static/widgets/colab-cdn-widget-manager/b3e629b1971e1542/manager.min.js"
                }
              }
            }
          },
          "output_type": "display_data"
        },
        {
          "data": {
            "text/html": [],
            "text/plain": [
              "<IPython.core.display.HTML object>"
            ]
          },
          "metadata": {},
          "output_type": "display_data"
        }
      ],
      "source": [
        "lrclassifier = create_model('lr')"
      ]
    },
    {
      "cell_type": "code",
      "execution_count": 73,
      "metadata": {
        "colab": {
          "base_uri": "https://localhost:8080/",
          "height": 0
        },
        "id": "5lmlnl4vOJcQ",
        "outputId": "bfb1bf9d-9d2e-45e2-91a5-1b6cb13d9bab"
      },
      "outputs": [
        {
          "data": {
            "text/plain": [
              "Index(['lte_5g_category', 'time', 'packet_loss_rate', 'packet_delay', 'io_t',\n",
              "       'lte_5g', 'gbr', 'non_gbr', 'ar_vr_gaming', 'healthcare',\n",
              "       'industry_4_0', 'io_t_devices', 'public_safety', 'smart_city_and_home',\n",
              "       'smart_transportation', 'smartphone', 'slice_type'],\n",
              "      dtype='object')"
            ]
          },
          "execution_count": 73,
          "metadata": {},
          "output_type": "execute_result"
        }
      ],
      "source": [
        "test.columns"
      ]
    },
    {
      "cell_type": "code",
      "execution_count": 74,
      "metadata": {
        "id": "bWfGqWCLONOc"
      },
      "outputs": [],
      "source": [
        "X_test = test.drop(columns=\"slice_type\")"
      ]
    },
    {
      "cell_type": "code",
      "execution_count": 75,
      "metadata": {
        "id": "cw1YOyIxOUMS"
      },
      "outputs": [],
      "source": [
        "y_test = test[\"slice_type\"]"
      ]
    },
    {
      "cell_type": "code",
      "execution_count": 76,
      "metadata": {
        "colab": {
          "base_uri": "https://localhost:8080/",
          "height": 17
        },
        "id": "FcYGXu9GNYJj",
        "outputId": "09ea696d-55e0-45f5-f59d-ec396acaf290"
      },
      "outputs": [
        {
          "data": {
            "text/html": [],
            "text/plain": [
              "<IPython.core.display.HTML object>"
            ]
          },
          "metadata": {},
          "output_type": "display_data"
        }
      ],
      "source": [
        "pred_holdout = predict_model(lrclassifier, data= X_test)"
      ]
    },
    {
      "cell_type": "code",
      "execution_count": 77,
      "metadata": {
        "colab": {
          "base_uri": "https://localhost:8080/",
          "height": 488
        },
        "id": "FN9E36eENYdA",
        "outputId": "c0696b71-3025-48e9-f686-417b2c2ac1fc"
      },
      "outputs": [
        {
          "data": {
            "text/html": [
              "\n",
              "  <div id=\"df-7330939a-8b2f-447d-b427-ea6b817e8720\">\n",
              "    <div class=\"colab-df-container\">\n",
              "      <div>\n",
              "<style scoped>\n",
              "    .dataframe tbody tr th:only-of-type {\n",
              "        vertical-align: middle;\n",
              "    }\n",
              "\n",
              "    .dataframe tbody tr th {\n",
              "        vertical-align: top;\n",
              "    }\n",
              "\n",
              "    .dataframe thead th {\n",
              "        text-align: right;\n",
              "    }\n",
              "</style>\n",
              "<table border=\"1\" class=\"dataframe\">\n",
              "  <thead>\n",
              "    <tr style=\"text-align: right;\">\n",
              "      <th></th>\n",
              "      <th>lte_5g_category</th>\n",
              "      <th>time</th>\n",
              "      <th>packet_loss_rate</th>\n",
              "      <th>packet_delay</th>\n",
              "      <th>io_t</th>\n",
              "      <th>lte_5g</th>\n",
              "      <th>gbr</th>\n",
              "      <th>non_gbr</th>\n",
              "      <th>ar_vr_gaming</th>\n",
              "      <th>healthcare</th>\n",
              "      <th>industry_4_0</th>\n",
              "      <th>io_t_devices</th>\n",
              "      <th>public_safety</th>\n",
              "      <th>smart_city_and_home</th>\n",
              "      <th>smart_transportation</th>\n",
              "      <th>smartphone</th>\n",
              "      <th>prediction_label</th>\n",
              "      <th>prediction_score</th>\n",
              "    </tr>\n",
              "  </thead>\n",
              "  <tbody>\n",
              "    <tr>\n",
              "      <th>0</th>\n",
              "      <td>15</td>\n",
              "      <td>17</td>\n",
              "      <td>0.001000</td>\n",
              "      <td>100</td>\n",
              "      <td>0</td>\n",
              "      <td>1</td>\n",
              "      <td>1</td>\n",
              "      <td>0</td>\n",
              "      <td>1</td>\n",
              "      <td>0</td>\n",
              "      <td>0</td>\n",
              "      <td>0</td>\n",
              "      <td>0</td>\n",
              "      <td>0</td>\n",
              "      <td>0</td>\n",
              "      <td>0</td>\n",
              "      <td>1</td>\n",
              "      <td>0.9982</td>\n",
              "    </tr>\n",
              "    <tr>\n",
              "      <th>1</th>\n",
              "      <td>14</td>\n",
              "      <td>18</td>\n",
              "      <td>0.000001</td>\n",
              "      <td>10</td>\n",
              "      <td>1</td>\n",
              "      <td>0</td>\n",
              "      <td>0</td>\n",
              "      <td>1</td>\n",
              "      <td>0</td>\n",
              "      <td>0</td>\n",
              "      <td>0</td>\n",
              "      <td>0</td>\n",
              "      <td>0</td>\n",
              "      <td>0</td>\n",
              "      <td>1</td>\n",
              "      <td>0</td>\n",
              "      <td>3</td>\n",
              "      <td>1.0000</td>\n",
              "    </tr>\n",
              "    <tr>\n",
              "      <th>2</th>\n",
              "      <td>11</td>\n",
              "      <td>7</td>\n",
              "      <td>0.001000</td>\n",
              "      <td>50</td>\n",
              "      <td>1</td>\n",
              "      <td>0</td>\n",
              "      <td>1</td>\n",
              "      <td>0</td>\n",
              "      <td>0</td>\n",
              "      <td>0</td>\n",
              "      <td>1</td>\n",
              "      <td>0</td>\n",
              "      <td>0</td>\n",
              "      <td>0</td>\n",
              "      <td>0</td>\n",
              "      <td>0</td>\n",
              "      <td>2</td>\n",
              "      <td>0.9979</td>\n",
              "    </tr>\n",
              "    <tr>\n",
              "      <th>3</th>\n",
              "      <td>20</td>\n",
              "      <td>14</td>\n",
              "      <td>0.001000</td>\n",
              "      <td>50</td>\n",
              "      <td>1</td>\n",
              "      <td>0</td>\n",
              "      <td>1</td>\n",
              "      <td>0</td>\n",
              "      <td>0</td>\n",
              "      <td>0</td>\n",
              "      <td>1</td>\n",
              "      <td>0</td>\n",
              "      <td>0</td>\n",
              "      <td>0</td>\n",
              "      <td>0</td>\n",
              "      <td>0</td>\n",
              "      <td>2</td>\n",
              "      <td>0.9982</td>\n",
              "    </tr>\n",
              "    <tr>\n",
              "      <th>4</th>\n",
              "      <td>2</td>\n",
              "      <td>22</td>\n",
              "      <td>0.001000</td>\n",
              "      <td>50</td>\n",
              "      <td>0</td>\n",
              "      <td>1</td>\n",
              "      <td>0</td>\n",
              "      <td>1</td>\n",
              "      <td>1</td>\n",
              "      <td>0</td>\n",
              "      <td>0</td>\n",
              "      <td>0</td>\n",
              "      <td>0</td>\n",
              "      <td>0</td>\n",
              "      <td>0</td>\n",
              "      <td>0</td>\n",
              "      <td>1</td>\n",
              "      <td>0.9992</td>\n",
              "    </tr>\n",
              "    <tr>\n",
              "      <th>...</th>\n",
              "      <td>...</td>\n",
              "      <td>...</td>\n",
              "      <td>...</td>\n",
              "      <td>...</td>\n",
              "      <td>...</td>\n",
              "      <td>...</td>\n",
              "      <td>...</td>\n",
              "      <td>...</td>\n",
              "      <td>...</td>\n",
              "      <td>...</td>\n",
              "      <td>...</td>\n",
              "      <td>...</td>\n",
              "      <td>...</td>\n",
              "      <td>...</td>\n",
              "      <td>...</td>\n",
              "      <td>...</td>\n",
              "      <td>...</td>\n",
              "      <td>...</td>\n",
              "    </tr>\n",
              "    <tr>\n",
              "      <th>8955</th>\n",
              "      <td>22</td>\n",
              "      <td>8</td>\n",
              "      <td>0.000001</td>\n",
              "      <td>10</td>\n",
              "      <td>1</td>\n",
              "      <td>0</td>\n",
              "      <td>0</td>\n",
              "      <td>1</td>\n",
              "      <td>0</td>\n",
              "      <td>0</td>\n",
              "      <td>0</td>\n",
              "      <td>0</td>\n",
              "      <td>1</td>\n",
              "      <td>0</td>\n",
              "      <td>0</td>\n",
              "      <td>0</td>\n",
              "      <td>3</td>\n",
              "      <td>1.0000</td>\n",
              "    </tr>\n",
              "    <tr>\n",
              "      <th>8956</th>\n",
              "      <td>9</td>\n",
              "      <td>3</td>\n",
              "      <td>0.010000</td>\n",
              "      <td>300</td>\n",
              "      <td>1</td>\n",
              "      <td>0</td>\n",
              "      <td>1</td>\n",
              "      <td>0</td>\n",
              "      <td>0</td>\n",
              "      <td>0</td>\n",
              "      <td>0</td>\n",
              "      <td>0</td>\n",
              "      <td>0</td>\n",
              "      <td>1</td>\n",
              "      <td>0</td>\n",
              "      <td>0</td>\n",
              "      <td>2</td>\n",
              "      <td>0.9993</td>\n",
              "    </tr>\n",
              "    <tr>\n",
              "      <th>8957</th>\n",
              "      <td>20</td>\n",
              "      <td>22</td>\n",
              "      <td>0.001000</td>\n",
              "      <td>150</td>\n",
              "      <td>0</td>\n",
              "      <td>1</td>\n",
              "      <td>0</td>\n",
              "      <td>1</td>\n",
              "      <td>0</td>\n",
              "      <td>0</td>\n",
              "      <td>0</td>\n",
              "      <td>0</td>\n",
              "      <td>0</td>\n",
              "      <td>0</td>\n",
              "      <td>0</td>\n",
              "      <td>1</td>\n",
              "      <td>1</td>\n",
              "      <td>0.9995</td>\n",
              "    </tr>\n",
              "    <tr>\n",
              "      <th>8958</th>\n",
              "      <td>20</td>\n",
              "      <td>14</td>\n",
              "      <td>0.001000</td>\n",
              "      <td>100</td>\n",
              "      <td>0</td>\n",
              "      <td>1</td>\n",
              "      <td>1</td>\n",
              "      <td>0</td>\n",
              "      <td>0</td>\n",
              "      <td>0</td>\n",
              "      <td>0</td>\n",
              "      <td>0</td>\n",
              "      <td>0</td>\n",
              "      <td>0</td>\n",
              "      <td>0</td>\n",
              "      <td>1</td>\n",
              "      <td>1</td>\n",
              "      <td>0.9993</td>\n",
              "    </tr>\n",
              "    <tr>\n",
              "      <th>8959</th>\n",
              "      <td>2</td>\n",
              "      <td>20</td>\n",
              "      <td>0.001000</td>\n",
              "      <td>100</td>\n",
              "      <td>0</td>\n",
              "      <td>1</td>\n",
              "      <td>1</td>\n",
              "      <td>0</td>\n",
              "      <td>0</td>\n",
              "      <td>0</td>\n",
              "      <td>0</td>\n",
              "      <td>0</td>\n",
              "      <td>0</td>\n",
              "      <td>0</td>\n",
              "      <td>0</td>\n",
              "      <td>1</td>\n",
              "      <td>1</td>\n",
              "      <td>0.9995</td>\n",
              "    </tr>\n",
              "  </tbody>\n",
              "</table>\n",
              "<p>8960 rows × 18 columns</p>\n",
              "</div>\n",
              "      <button class=\"colab-df-convert\" onclick=\"convertToInteractive('df-7330939a-8b2f-447d-b427-ea6b817e8720')\"\n",
              "              title=\"Convert this dataframe to an interactive table.\"\n",
              "              style=\"display:none;\">\n",
              "        \n",
              "  <svg xmlns=\"http://www.w3.org/2000/svg\" height=\"24px\"viewBox=\"0 0 24 24\"\n",
              "       width=\"24px\">\n",
              "    <path d=\"M0 0h24v24H0V0z\" fill=\"none\"/>\n",
              "    <path d=\"M18.56 5.44l.94 2.06.94-2.06 2.06-.94-2.06-.94-.94-2.06-.94 2.06-2.06.94zm-11 1L8.5 8.5l.94-2.06 2.06-.94-2.06-.94L8.5 2.5l-.94 2.06-2.06.94zm10 10l.94 2.06.94-2.06 2.06-.94-2.06-.94-.94-2.06-.94 2.06-2.06.94z\"/><path d=\"M17.41 7.96l-1.37-1.37c-.4-.4-.92-.59-1.43-.59-.52 0-1.04.2-1.43.59L10.3 9.45l-7.72 7.72c-.78.78-.78 2.05 0 2.83L4 21.41c.39.39.9.59 1.41.59.51 0 1.02-.2 1.41-.59l7.78-7.78 2.81-2.81c.8-.78.8-2.07 0-2.86zM5.41 20L4 18.59l7.72-7.72 1.47 1.35L5.41 20z\"/>\n",
              "  </svg>\n",
              "      </button>\n",
              "      \n",
              "  <style>\n",
              "    .colab-df-container {\n",
              "      display:flex;\n",
              "      flex-wrap:wrap;\n",
              "      gap: 12px;\n",
              "    }\n",
              "\n",
              "    .colab-df-convert {\n",
              "      background-color: #E8F0FE;\n",
              "      border: none;\n",
              "      border-radius: 50%;\n",
              "      cursor: pointer;\n",
              "      display: none;\n",
              "      fill: #1967D2;\n",
              "      height: 32px;\n",
              "      padding: 0 0 0 0;\n",
              "      width: 32px;\n",
              "    }\n",
              "\n",
              "    .colab-df-convert:hover {\n",
              "      background-color: #E2EBFA;\n",
              "      box-shadow: 0px 1px 2px rgba(60, 64, 67, 0.3), 0px 1px 3px 1px rgba(60, 64, 67, 0.15);\n",
              "      fill: #174EA6;\n",
              "    }\n",
              "\n",
              "    [theme=dark] .colab-df-convert {\n",
              "      background-color: #3B4455;\n",
              "      fill: #D2E3FC;\n",
              "    }\n",
              "\n",
              "    [theme=dark] .colab-df-convert:hover {\n",
              "      background-color: #434B5C;\n",
              "      box-shadow: 0px 1px 3px 1px rgba(0, 0, 0, 0.15);\n",
              "      filter: drop-shadow(0px 1px 2px rgba(0, 0, 0, 0.3));\n",
              "      fill: #FFFFFF;\n",
              "    }\n",
              "  </style>\n",
              "\n",
              "      <script>\n",
              "        const buttonEl =\n",
              "          document.querySelector('#df-7330939a-8b2f-447d-b427-ea6b817e8720 button.colab-df-convert');\n",
              "        buttonEl.style.display =\n",
              "          google.colab.kernel.accessAllowed ? 'block' : 'none';\n",
              "\n",
              "        async function convertToInteractive(key) {\n",
              "          const element = document.querySelector('#df-7330939a-8b2f-447d-b427-ea6b817e8720');\n",
              "          const dataTable =\n",
              "            await google.colab.kernel.invokeFunction('convertToInteractive',\n",
              "                                                     [key], {});\n",
              "          if (!dataTable) return;\n",
              "\n",
              "          const docLinkHtml = 'Like what you see? Visit the ' +\n",
              "            '<a target=\"_blank\" href=https://colab.research.google.com/notebooks/data_table.ipynb>data table notebook</a>'\n",
              "            + ' to learn more about interactive tables.';\n",
              "          element.innerHTML = '';\n",
              "          dataTable['output_type'] = 'display_data';\n",
              "          await google.colab.output.renderOutput(dataTable, element);\n",
              "          const docLink = document.createElement('div');\n",
              "          docLink.innerHTML = docLinkHtml;\n",
              "          element.appendChild(docLink);\n",
              "        }\n",
              "      </script>\n",
              "    </div>\n",
              "  </div>\n",
              "  "
            ],
            "text/plain": [
              "      lte_5g_category  time  packet_loss_rate  packet_delay  io_t  lte_5g  \\\n",
              "0                  15    17          0.001000           100     0       1   \n",
              "1                  14    18          0.000001            10     1       0   \n",
              "2                  11     7          0.001000            50     1       0   \n",
              "3                  20    14          0.001000            50     1       0   \n",
              "4                   2    22          0.001000            50     0       1   \n",
              "...               ...   ...               ...           ...   ...     ...   \n",
              "8955               22     8          0.000001            10     1       0   \n",
              "8956                9     3          0.010000           300     1       0   \n",
              "8957               20    22          0.001000           150     0       1   \n",
              "8958               20    14          0.001000           100     0       1   \n",
              "8959                2    20          0.001000           100     0       1   \n",
              "\n",
              "      gbr  non_gbr  ar_vr_gaming  healthcare  industry_4_0  io_t_devices  \\\n",
              "0       1        0             1           0             0             0   \n",
              "1       0        1             0           0             0             0   \n",
              "2       1        0             0           0             1             0   \n",
              "3       1        0             0           0             1             0   \n",
              "4       0        1             1           0             0             0   \n",
              "...   ...      ...           ...         ...           ...           ...   \n",
              "8955    0        1             0           0             0             0   \n",
              "8956    1        0             0           0             0             0   \n",
              "8957    0        1             0           0             0             0   \n",
              "8958    1        0             0           0             0             0   \n",
              "8959    1        0             0           0             0             0   \n",
              "\n",
              "      public_safety  smart_city_and_home  smart_transportation  smartphone  \\\n",
              "0                 0                    0                     0           0   \n",
              "1                 0                    0                     1           0   \n",
              "2                 0                    0                     0           0   \n",
              "3                 0                    0                     0           0   \n",
              "4                 0                    0                     0           0   \n",
              "...             ...                  ...                   ...         ...   \n",
              "8955              1                    0                     0           0   \n",
              "8956              0                    1                     0           0   \n",
              "8957              0                    0                     0           1   \n",
              "8958              0                    0                     0           1   \n",
              "8959              0                    0                     0           1   \n",
              "\n",
              "      prediction_label  prediction_score  \n",
              "0                    1            0.9982  \n",
              "1                    3            1.0000  \n",
              "2                    2            0.9979  \n",
              "3                    2            0.9982  \n",
              "4                    1            0.9992  \n",
              "...                ...               ...  \n",
              "8955                 3            1.0000  \n",
              "8956                 2            0.9993  \n",
              "8957                 1            0.9995  \n",
              "8958                 1            0.9993  \n",
              "8959                 1            0.9995  \n",
              "\n",
              "[8960 rows x 18 columns]"
            ]
          },
          "execution_count": 77,
          "metadata": {},
          "output_type": "execute_result"
        }
      ],
      "source": [
        "pred_holdout"
      ]
    },
    {
      "cell_type": "code",
      "execution_count": 78,
      "metadata": {
        "colab": {
          "base_uri": "https://localhost:8080/",
          "height": 0
        },
        "id": "zZrj3XVHOx2i",
        "outputId": "b16d9f77-977e-48d1-d983-eb6925a06e25"
      },
      "outputs": [
        {
          "data": {
            "text/plain": [
              "Index(['lte_5g_category', 'time', 'packet_loss_rate', 'packet_delay', 'io_t',\n",
              "       'lte_5g', 'gbr', 'non_gbr', 'ar_vr_gaming', 'healthcare',\n",
              "       'industry_4_0', 'io_t_devices', 'public_safety', 'smart_city_and_home',\n",
              "       'smart_transportation', 'smartphone', 'prediction_label',\n",
              "       'prediction_score'],\n",
              "      dtype='object')"
            ]
          },
          "execution_count": 78,
          "metadata": {},
          "output_type": "execute_result"
        }
      ],
      "source": [
        "pred_holdout.columns"
      ]
    },
    {
      "cell_type": "code",
      "execution_count": 79,
      "metadata": {
        "colab": {
          "base_uri": "https://localhost:8080/",
          "height": 0
        },
        "id": "aiQtM7wCO7et",
        "outputId": "ed4ac544-49d0-429e-8685-37905c0ef735"
      },
      "outputs": [
        {
          "data": {
            "text/plain": [
              "1    4763\n",
              "2    2100\n",
              "3    2097\n",
              "Name: prediction_label, dtype: int64"
            ]
          },
          "execution_count": 79,
          "metadata": {},
          "output_type": "execute_result"
        }
      ],
      "source": [
        "pred_holdout[\"prediction_label\"].value_counts()"
      ]
    },
    {
      "cell_type": "code",
      "execution_count": 80,
      "metadata": {
        "colab": {
          "base_uri": "https://localhost:8080/",
          "height": 0
        },
        "id": "yh6QNkJLPDL4",
        "outputId": "3ce80f82-24ce-438f-a780-23efc3533314"
      },
      "outputs": [
        {
          "name": "stdout",
          "output_type": "stream",
          "text": [
            "Installing collected packages: slicer, shap\n",
            "Successfully installed shap-0.41.0 slicer-0.0.7\n"
          ]
        }
      ],
      "source": [
        "###! pip install shap"
      ]
    },
    {
      "cell_type": "code",
      "execution_count": 81,
      "metadata": {
        "id": "u9EEjtH2PMPn"
      },
      "outputs": [],
      "source": [
        "import shap"
      ]
    },
    {
      "cell_type": "code",
      "execution_count": 82,
      "metadata": {
        "colab": {
          "base_uri": "https://localhost:8080/",
          "height": 524
        },
        "id": "n5_TRypePVKs",
        "outputId": "04650bcb-6b2e-415a-b963-9d6b61e6830f"
      },
      "outputs": [
        {
          "data": {
            "text/html": [],
            "text/plain": [
              "<IPython.core.display.HTML object>"
            ]
          },
          "metadata": {},
          "output_type": "display_data"
        },
        {
          "data": {
            "image/png": "[encoded data removed]",
            "text/plain": [
              "<Figure size 800x550 with 1 Axes>"
            ]
          },
          "metadata": {},
          "output_type": "display_data"
        }
      ],
      "source": [
        "plot_model(lrclassifier)"
      ]
    },
    {
      "cell_type": "code",
      "execution_count": 83,
      "metadata": {
        "colab": {
          "base_uri": "https://localhost:8080/",
          "height": 485
        },
        "id": "oAKGlRWXPVgG",
        "outputId": "46c658fd-3f22-4bc5-dc14-4057612f7d8f"
      },
      "outputs": [
        {
          "data": {
            "text/html": [],
            "text/plain": [
              "<IPython.core.display.HTML object>"
            ]
          },
          "metadata": {},
          "output_type": "display_data"
        },
        {
          "data": {
            "image/png": "[encoded data removed]",
            "text/plain": [
              "<Figure size 800x500 with 1 Axes>"
            ]
          },
          "metadata": {},
          "output_type": "display_data"
        }
      ],
      "source": [
        "plot_model(lrclassifier, plot = 'feature')"
      ]
    },
    {
      "cell_type": "code",
      "execution_count": 84,
      "metadata": {
        "colab": {
          "base_uri": "https://localhost:8080/",
          "height": 0
        },
        "id": "L4AacRTSPVtL",
        "outputId": "127c0b29-53e6-4490-ee82-3d233e47f1c0"
      },
      "outputs": [
        {
          "name": "stdout",
          "output_type": "stream",
          "text": [
            "LogisticRegression(C=1.0, class_weight=None, dual=False, fit_intercept=True,\n",
            "                   intercept_scaling=1, l1_ratio=None, max_iter=1000,\n",
            "                   multi_class='auto', n_jobs=None, penalty='l2',\n",
            "                   random_state=3583, solver='lbfgs', tol=0.0001, verbose=0,\n",
            "                   warm_start=False)\n"
          ]
        }
      ],
      "source": [
        "print(lrclassifier)"
      ]
    },
    {
      "cell_type": "code",
      "execution_count": 85,
      "metadata": {
        "id": "4Wldu2a3Qg-m"
      },
      "outputs": [],
      "source": [
        "logisticrgr = LogisticRegression(C=1.0, class_weight=None, dual=False, fit_intercept=True,\n",
        "                   intercept_scaling=1, l1_ratio=None, max_iter=1000,\n",
        "                   multi_class='auto', n_jobs=None, penalty='l2',\n",
        "                   random_state=1801, solver='lbfgs', tol=0.0001, verbose=0,\n",
        "                   warm_start=False)"
      ]
    },
    {
      "cell_type": "code",
      "execution_count": null,
      "metadata": {
        "id": "PYeRNiBvQhbo"
      },
      "outputs": [],
      "source": [
        "###! pip install explainerdashboard"
      ]
    },
    {
      "cell_type": "code",
      "execution_count": 87,
      "metadata": {
        "colab": {
          "base_uri": "https://localhost:8080/",
          "height": 0
        },
        "id": "iR5Nc9PNVCMk",
        "outputId": "63e4017e-0bbb-4164-d895-e87f8bb4f8de"
      },
      "outputs": [
        {
          "data": {
            "text/plain": [
              "Index(['lte_5g_category', 'time', 'packet_loss_rate', 'packet_delay', 'io_t',\n",
              "       'lte_5g', 'gbr', 'non_gbr', 'ar_vr_gaming', 'healthcare',\n",
              "       'industry_4_0', 'io_t_devices', 'public_safety', 'smart_city_and_home',\n",
              "       'smart_transportation', 'smartphone', 'slice_type'],\n",
              "      dtype='object')"
            ]
          },
          "execution_count": 87,
          "metadata": {},
          "output_type": "execute_result"
        }
      ],
      "source": [
        "train.columns"
      ]
    },
    {
      "cell_type": "code",
      "execution_count": 114,
      "metadata": {
        "colab": {
          "base_uri": "https://localhost:8080/"
        },
        "id": "OeM1EvnZH6Xt",
        "outputId": "b90d3d33-5484-4e9b-93b6-cb13eeeca3a6"
      },
      "outputs": [
        {
          "data": {
            "text/plain": [
              "lte_5g_category            int8\n",
              "time                       int8\n",
              "packet_loss_rate        float32\n",
              "packet_delay              int16\n",
              "io_t                       int8\n",
              "lte_5g                     int8\n",
              "gbr                        int8\n",
              "non_gbr                    int8\n",
              "ar_vr_gaming               int8\n",
              "healthcare                 int8\n",
              "industry_4_0               int8\n",
              "io_t_devices               int8\n",
              "public_safety              int8\n",
              "smart_city_and_home        int8\n",
              "smart_transportation       int8\n",
              "smartphone                 int8\n",
              "slice_type                 int8\n",
              "dtype: object"
            ]
          },
          "execution_count": 114,
          "metadata": {},
          "output_type": "execute_result"
        }
      ],
      "source": [
        "train.dtypes"
      ]
    },
    {
      "cell_type": "code",
      "execution_count": 88,
      "metadata": {
        "colab": {
          "base_uri": "https://localhost:8080/",
          "height": 0
        },
        "id": "P4ZR8r2GVFB-",
        "outputId": "b482d77b-d155-4ec7-9da5-c8371b14aaca"
      },
      "outputs": [
        {
          "data": {
            "text/plain": [
              "Index(['lte_5g_category', 'time', 'packet_loss_rate', 'packet_delay', 'io_t',\n",
              "       'lte_5g', 'gbr', 'non_gbr', 'ar_vr_gaming', 'healthcare',\n",
              "       'industry_4_0', 'io_t_devices', 'public_safety', 'smart_city_and_home',\n",
              "       'smart_transportation', 'smartphone', 'slice_type'],\n",
              "      dtype='object')"
            ]
          },
          "execution_count": 88,
          "metadata": {},
          "output_type": "execute_result"
        }
      ],
      "source": [
        "test.columns"
      ]
    },
    {
      "cell_type": "code",
      "execution_count": 89,
      "metadata": {
        "id": "iZ2XZGIVVKCw"
      },
      "outputs": [],
      "source": [
        "X_tr = train.drop(columns = \"slice_type\")"
      ]
    },
    {
      "cell_type": "code",
      "execution_count": 94,
      "metadata": {
        "id": "H7sJn27eVPxL"
      },
      "outputs": [],
      "source": [
        "x_ts = test.drop(columns = \"slice_type\")"
      ]
    },
    {
      "cell_type": "code",
      "execution_count": 95,
      "metadata": {
        "id": "ZWt4sewpVlNJ"
      },
      "outputs": [],
      "source": [
        "y_tr = train[\"slice_type\"]"
      ]
    },
    {
      "cell_type": "code",
      "execution_count": 96,
      "metadata": {
        "id": "i6ZvAzlpWBiI"
      },
      "outputs": [],
      "source": [
        "y_ts = test[\"slice_type\"]"
      ]
    },
    {
      "cell_type": "code",
      "execution_count": null,
      "metadata": {
        "id": "MjsVUriJQr23"
      },
      "outputs": [],
      "source": [
        "logisticrgr.fit(X_tr, y_tr)"
      ]
    },
    {
      "cell_type": "code",
      "execution_count": 98,
      "metadata": {
        "id": "zS6-xGE_QsKF"
      },
      "outputs": [],
      "source": [
        "y_pr = logisticrgr.predict(x_ts)"
      ]
    },
    {
      "cell_type": "code",
      "execution_count": 102,
      "metadata": {
        "colab": {
          "base_uri": "https://localhost:8080/",
          "height": 0
        },
        "id": "J5skqvCeY8sV",
        "outputId": "182a742e-9be9-4acb-b4e0-a1426df37c17"
      },
      "outputs": [
        {
          "data": {
            "text/plain": [
              "array([1, 3, 2, 2, 1, 1, 2, 2, 3, 1, 1, 1, 2, 1, 3, 3, 1, 1, 1, 2, 3, 1,\n",
              "       2, 3, 1, 2, 2, 1, 2, 3, 2, 1, 1, 1, 1, 2, 1, 1, 1, 3, 2, 3, 1, 1,\n",
              "       1, 1, 3, 1, 3, 1, 2, 2, 1, 1, 1, 2, 3, 1, 2, 3, 1, 1, 1, 1, 1, 1,\n",
              "       2, 2, 1, 1, 3, 2, 2, 1, 2, 2, 1, 1, 2, 2, 3, 1, 3, 3, 1, 1, 1, 1,\n",
              "       2, 1, 1, 3, 2, 2, 1, 1, 3, 1, 1, 1], dtype=int8)"
            ]
          },
          "execution_count": 102,
          "metadata": {},
          "output_type": "execute_result"
        }
      ],
      "source": [
        "y_pr[:100]"
      ]
    },
    {
      "cell_type": "code",
      "execution_count": 103,
      "metadata": {
        "id": "n562Ew_jb0lr"
      },
      "outputs": [],
      "source": [
        "y_predict = pd.DataFrame(y_pr)"
      ]
    },
    {
      "cell_type": "code",
      "execution_count": 105,
      "metadata": {
        "id": "vU6Prxnyb4az"
      },
      "outputs": [],
      "source": [
        "y_predict.rename(columns = { 0 : \"Predict\"}, inplace=True)"
      ]
    },
    {
      "cell_type": "code",
      "execution_count": 107,
      "metadata": {
        "colab": {
          "base_uri": "https://localhost:8080/",
          "height": 0
        },
        "id": "JMUpyer6cBq1",
        "outputId": "ab98cd5c-b64a-439e-8443-a933bafa5ce9"
      },
      "outputs": [
        {
          "data": {
            "text/plain": [
              "Predict\n",
              "1          4763\n",
              "2          2100\n",
              "3          2097\n",
              "dtype: int64"
            ]
          },
          "execution_count": 107,
          "metadata": {},
          "output_type": "execute_result"
        }
      ],
      "source": [
        "y_predict.value_counts()"
      ]
    },
    {
      "cell_type": "code",
      "execution_count": null,
      "metadata": {
        "id": "OknBW3j2neBc"
      },
      "outputs": [],
      "source": [
        "###! pip install pickle"
      ]
    },
    {
      "cell_type": "code",
      "execution_count": 115,
      "metadata": {
        "id": "tFYt34JSkLpP"
      },
      "outputs": [],
      "source": [
        "# Save the trained model as a pickle string.\n",
        "import pickle \n",
        "\n",
        "saved_model = pickle.dump(logisticrgr, open('/content/telecom.pkl','wb'))"
      ]
    },
    {
      "cell_type": "code",
      "execution_count": null,
      "metadata": {
        "id": "er_2zCBzkMU9"
      },
      "outputs": [],
      "source": []
    }
  ],
  "metadata": {
    "accelerator": "GPU",
    "colab": {
      "gpuType": "T4",
      "provenance": []
    },
    "kernelspec": {
      "display_name": "Python 3",
      "name": "python3"
    },
    "language_info": {
      "name": "python"
    },
    "widgets": {
      "application/vnd.jupyter.widget-state+json": {
        "010d350dbf554cc7bdc014ab58bd35dd": {
          "model_module": "@jupyter-widgets/base",
          "model_module_version": "1.2.0",
          "model_name": "LayoutModel",
          "state": {
            "_model_module": "@jupyter-widgets/base",
            "_model_module_version": "1.2.0",
            "_model_name": "LayoutModel",
            "_view_count": null,
            "_view_module": "@jupyter-widgets/base",
            "_view_module_version": "1.2.0",
            "_view_name": "LayoutView",
            "align_content": null,
            "align_items": null,
            "align_self": null,
            "border": null,
            "bottom": null,
            "display": null,
            "flex": null,
            "flex_flow": null,
            "grid_area": null,
            "grid_auto_columns": null,
            "grid_auto_flow": null,
            "grid_auto_rows": null,
            "grid_column": null,
            "grid_gap": null,
            "grid_row": null,
            "grid_template_areas": null,
            "grid_template_columns": null,
            "grid_template_rows": null,
            "height": null,
            "justify_content": null,
            "justify_items": null,
            "left": null,
            "margin": null,
            "max_height": null,
            "max_width": null,
            "min_height": null,
            "min_width": null,
            "object_fit": null,
            "object_position": null,
            "order": null,
            "overflow": null,
            "overflow_x": null,
            "overflow_y": null,
            "padding": null,
            "right": null,
            "top": null,
            "visibility": "hidden",
            "width": null
          }
        },
        "27375b3ab1684912ae5d1abbed1f73f5": {
          "model_module": "@jupyter-widgets/base",
          "model_module_version": "1.2.0",
          "model_name": "LayoutModel",
          "state": {
            "_model_module": "@jupyter-widgets/base",
            "_model_module_version": "1.2.0",
            "_model_name": "LayoutModel",
            "_view_count": null,
            "_view_module": "@jupyter-widgets/base",
            "_view_module_version": "1.2.0",
            "_view_name": "LayoutView",
            "align_content": null,
            "align_items": null,
            "align_self": null,
            "border": null,
            "bottom": null,
            "display": null,
            "flex": null,
            "flex_flow": null,
            "grid_area": null,
            "grid_auto_columns": null,
            "grid_auto_flow": null,
            "grid_auto_rows": null,
            "grid_column": null,
            "grid_gap": null,
            "grid_row": null,
            "grid_template_areas": null,
            "grid_template_columns": null,
            "grid_template_rows": null,
            "height": null,
            "justify_content": null,
            "justify_items": null,
            "left": null,
            "margin": null,
            "max_height": null,
            "max_width": null,
            "min_height": null,
            "min_width": null,
            "object_fit": null,
            "object_position": null,
            "order": null,
            "overflow": null,
            "overflow_x": null,
            "overflow_y": null,
            "padding": null,
            "right": null,
            "top": null,
            "visibility": null,
            "width": null
          }
        },
        "31c4c10051d84a9d9a58efc30f25edeb": {
          "model_module": "@jupyter-widgets/controls",
          "model_module_version": "1.5.0",
          "model_name": "HTMLModel",
          "state": {
            "_dom_classes": [],
            "_model_module": "@jupyter-widgets/controls",
            "_model_module_version": "1.5.0",
            "_model_name": "HTMLModel",
            "_view_count": null,
            "_view_module": "@jupyter-widgets/controls",
            "_view_module_version": "1.5.0",
            "_view_name": "HTMLView",
            "description": "",
            "description_tooltip": null,
            "layout": "IPY_MODEL_ce64e55d362940608901de25b7e2d3e6",
            "placeholder": "​",
            "style": "IPY_MODEL_a50cce6563394f7fa863d23801601eae",
            "value": "Processing: 100%"
          }
        },
        "50d82fa708dc4f2382fc75224083c144": {
          "model_module": "@jupyter-widgets/base",
          "model_module_version": "1.2.0",
          "model_name": "LayoutModel",
          "state": {
            "_model_module": "@jupyter-widgets/base",
            "_model_module_version": "1.2.0",
            "_model_name": "LayoutModel",
            "_view_count": null,
            "_view_module": "@jupyter-widgets/base",
            "_view_module_version": "1.2.0",
            "_view_name": "LayoutView",
            "align_content": null,
            "align_items": null,
            "align_self": null,
            "border": null,
            "bottom": null,
            "display": null,
            "flex": null,
            "flex_flow": null,
            "grid_area": null,
            "grid_auto_columns": null,
            "grid_auto_flow": null,
            "grid_auto_rows": null,
            "grid_column": null,
            "grid_gap": null,
            "grid_row": null,
            "grid_template_areas": null,
            "grid_template_columns": null,
            "grid_template_rows": null,
            "height": null,
            "justify_content": null,
            "justify_items": null,
            "left": null,
            "margin": null,
            "max_height": null,
            "max_width": null,
            "min_height": null,
            "min_width": null,
            "object_fit": null,
            "object_position": null,
            "order": null,
            "overflow": null,
            "overflow_x": null,
            "overflow_y": null,
            "padding": null,
            "right": null,
            "top": null,
            "visibility": "hidden",
            "width": null
          }
        },
        "5efd6eb4e76e42678f8be40464c7f053": {
          "model_module": "@jupyter-widgets/controls",
          "model_module_version": "1.5.0",
          "model_name": "DescriptionStyleModel",
          "state": {
            "_model_module": "@jupyter-widgets/controls",
            "_model_module_version": "1.5.0",
            "_model_name": "DescriptionStyleModel",
            "_view_count": null,
            "_view_module": "@jupyter-widgets/base",
            "_view_module_version": "1.2.0",
            "_view_name": "StyleView",
            "description_width": ""
          }
        },
        "5fc2222c19c540f9879927b8e4c9978d": {
          "model_module": "@jupyter-widgets/controls",
          "model_module_version": "1.5.0",
          "model_name": "HTMLModel",
          "state": {
            "_dom_classes": [],
            "_model_module": "@jupyter-widgets/controls",
            "_model_module_version": "1.5.0",
            "_model_name": "HTMLModel",
            "_view_count": null,
            "_view_module": "@jupyter-widgets/controls",
            "_view_module_version": "1.5.0",
            "_view_name": "HTMLView",
            "description": "",
            "description_tooltip": null,
            "layout": "IPY_MODEL_9140456961cb4cb08bd268211dd3494d",
            "placeholder": "​",
            "style": "IPY_MODEL_5efd6eb4e76e42678f8be40464c7f053",
            "value": " 65/65 [00:56&lt;00:00,  1.34it/s]"
          }
        },
        "68cbc68556574f8fbb03d6194f91c2dc": {
          "model_module": "@jupyter-widgets/controls",
          "model_module_version": "1.5.0",
          "model_name": "HTMLModel",
          "state": {
            "_dom_classes": [],
            "_model_module": "@jupyter-widgets/controls",
            "_model_module_version": "1.5.0",
            "_model_name": "HTMLModel",
            "_view_count": null,
            "_view_module": "@jupyter-widgets/controls",
            "_view_module_version": "1.5.0",
            "_view_name": "HTMLView",
            "description": "",
            "description_tooltip": null,
            "layout": "IPY_MODEL_edd9cfda21b040c08a8c87702602762d",
            "placeholder": "​",
            "style": "IPY_MODEL_7e12d01dc57d4af2affc81d3cd19f08c",
            "value": " 3/4 [00:01&lt;00:00,  2.62it/s]"
          }
        },
        "7e12d01dc57d4af2affc81d3cd19f08c": {
          "model_module": "@jupyter-widgets/controls",
          "model_module_version": "1.5.0",
          "model_name": "DescriptionStyleModel",
          "state": {
            "_model_module": "@jupyter-widgets/controls",
            "_model_module_version": "1.5.0",
            "_model_name": "DescriptionStyleModel",
            "_view_count": null,
            "_view_module": "@jupyter-widgets/base",
            "_view_module_version": "1.2.0",
            "_view_name": "StyleView",
            "description_width": ""
          }
        },
        "7e29dcbaaad0417aac357ee75798d75e": {
          "model_module": "@jupyter-widgets/controls",
          "model_module_version": "1.5.0",
          "model_name": "FloatProgressModel",
          "state": {
            "_dom_classes": [],
            "_model_module": "@jupyter-widgets/controls",
            "_model_module_version": "1.5.0",
            "_model_name": "FloatProgressModel",
            "_view_count": null,
            "_view_module": "@jupyter-widgets/controls",
            "_view_module_version": "1.5.0",
            "_view_name": "ProgressView",
            "bar_style": "",
            "description": "",
            "description_tooltip": null,
            "layout": "IPY_MODEL_27375b3ab1684912ae5d1abbed1f73f5",
            "max": 65,
            "min": 0,
            "orientation": "horizontal",
            "style": "IPY_MODEL_c3678850f5f74782a12624a6f45e0a92",
            "value": 65
          }
        },
        "83b5ec99f02d40a782a98f92c98b02ee": {
          "model_module": "@jupyter-widgets/base",
          "model_module_version": "1.2.0",
          "model_name": "LayoutModel",
          "state": {
            "_model_module": "@jupyter-widgets/base",
            "_model_module_version": "1.2.0",
            "_model_name": "LayoutModel",
            "_view_count": null,
            "_view_module": "@jupyter-widgets/base",
            "_view_module_version": "1.2.0",
            "_view_name": "LayoutView",
            "align_content": null,
            "align_items": null,
            "align_self": null,
            "border": null,
            "bottom": null,
            "display": null,
            "flex": null,
            "flex_flow": null,
            "grid_area": null,
            "grid_auto_columns": null,
            "grid_auto_flow": null,
            "grid_auto_rows": null,
            "grid_column": null,
            "grid_gap": null,
            "grid_row": null,
            "grid_template_areas": null,
            "grid_template_columns": null,
            "grid_template_rows": null,
            "height": null,
            "justify_content": null,
            "justify_items": null,
            "left": null,
            "margin": null,
            "max_height": null,
            "max_width": null,
            "min_height": null,
            "min_width": null,
            "object_fit": null,
            "object_position": null,
            "order": null,
            "overflow": null,
            "overflow_x": null,
            "overflow_y": null,
            "padding": null,
            "right": null,
            "top": null,
            "visibility": null,
            "width": null
          }
        },
        "84c02aca3e2248df9ec648d332c6aceb": {
          "model_module": "@jupyter-widgets/controls",
          "model_module_version": "1.5.0",
          "model_name": "HBoxModel",
          "state": {
            "_dom_classes": [],
            "_model_module": "@jupyter-widgets/controls",
            "_model_module_version": "1.5.0",
            "_model_name": "HBoxModel",
            "_view_count": null,
            "_view_module": "@jupyter-widgets/controls",
            "_view_module_version": "1.5.0",
            "_view_name": "HBoxView",
            "box_style": "",
            "children": [
              "IPY_MODEL_31c4c10051d84a9d9a58efc30f25edeb",
              "IPY_MODEL_7e29dcbaaad0417aac357ee75798d75e",
              "IPY_MODEL_5fc2222c19c540f9879927b8e4c9978d"
            ],
            "layout": "IPY_MODEL_50d82fa708dc4f2382fc75224083c144"
          }
        },
        "8a9023f58b424fee878f51d10801891b": {
          "model_module": "@jupyter-widgets/controls",
          "model_module_version": "1.5.0",
          "model_name": "FloatProgressModel",
          "state": {
            "_dom_classes": [],
            "_model_module": "@jupyter-widgets/controls",
            "_model_module_version": "1.5.0",
            "_model_name": "FloatProgressModel",
            "_view_count": null,
            "_view_module": "@jupyter-widgets/controls",
            "_view_module_version": "1.5.0",
            "_view_name": "ProgressView",
            "bar_style": "",
            "description": "",
            "description_tooltip": null,
            "layout": "IPY_MODEL_83b5ec99f02d40a782a98f92c98b02ee",
            "max": 4,
            "min": 0,
            "orientation": "horizontal",
            "style": "IPY_MODEL_bb7dcc84abd44e5e8b105402a875c329",
            "value": 4
          }
        },
        "9140456961cb4cb08bd268211dd3494d": {
          "model_module": "@jupyter-widgets/base",
          "model_module_version": "1.2.0",
          "model_name": "LayoutModel",
          "state": {
            "_model_module": "@jupyter-widgets/base",
            "_model_module_version": "1.2.0",
            "_model_name": "LayoutModel",
            "_view_count": null,
            "_view_module": "@jupyter-widgets/base",
            "_view_module_version": "1.2.0",
            "_view_name": "LayoutView",
            "align_content": null,
            "align_items": null,
            "align_self": null,
            "border": null,
            "bottom": null,
            "display": null,
            "flex": null,
            "flex_flow": null,
            "grid_area": null,
            "grid_auto_columns": null,
            "grid_auto_flow": null,
            "grid_auto_rows": null,
            "grid_column": null,
            "grid_gap": null,
            "grid_row": null,
            "grid_template_areas": null,
            "grid_template_columns": null,
            "grid_template_rows": null,
            "height": null,
            "justify_content": null,
            "justify_items": null,
            "left": null,
            "margin": null,
            "max_height": null,
            "max_width": null,
            "min_height": null,
            "min_width": null,
            "object_fit": null,
            "object_position": null,
            "order": null,
            "overflow": null,
            "overflow_x": null,
            "overflow_y": null,
            "padding": null,
            "right": null,
            "top": null,
            "visibility": null,
            "width": null
          }
        },
        "a50cce6563394f7fa863d23801601eae": {
          "model_module": "@jupyter-widgets/controls",
          "model_module_version": "1.5.0",
          "model_name": "DescriptionStyleModel",
          "state": {
            "_model_module": "@jupyter-widgets/controls",
            "_model_module_version": "1.5.0",
            "_model_name": "DescriptionStyleModel",
            "_view_count": null,
            "_view_module": "@jupyter-widgets/base",
            "_view_module_version": "1.2.0",
            "_view_name": "StyleView",
            "description_width": ""
          }
        },
        "aacf02dfa3534e8292b6b1145f149d1e": {
          "model_module": "@jupyter-widgets/controls",
          "model_module_version": "1.5.0",
          "model_name": "DescriptionStyleModel",
          "state": {
            "_model_module": "@jupyter-widgets/controls",
            "_model_module_version": "1.5.0",
            "_model_name": "DescriptionStyleModel",
            "_view_count": null,
            "_view_module": "@jupyter-widgets/base",
            "_view_module_version": "1.2.0",
            "_view_name": "StyleView",
            "description_width": ""
          }
        },
        "bb7dcc84abd44e5e8b105402a875c329": {
          "model_module": "@jupyter-widgets/controls",
          "model_module_version": "1.5.0",
          "model_name": "ProgressStyleModel",
          "state": {
            "_model_module": "@jupyter-widgets/controls",
            "_model_module_version": "1.5.0",
            "_model_name": "ProgressStyleModel",
            "_view_count": null,
            "_view_module": "@jupyter-widgets/base",
            "_view_module_version": "1.2.0",
            "_view_name": "StyleView",
            "bar_color": null,
            "description_width": ""
          }
        },
        "c3678850f5f74782a12624a6f45e0a92": {
          "model_module": "@jupyter-widgets/controls",
          "model_module_version": "1.5.0",
          "model_name": "ProgressStyleModel",
          "state": {
            "_model_module": "@jupyter-widgets/controls",
            "_model_module_version": "1.5.0",
            "_model_name": "ProgressStyleModel",
            "_view_count": null,
            "_view_module": "@jupyter-widgets/base",
            "_view_module_version": "1.2.0",
            "_view_name": "StyleView",
            "bar_color": null,
            "description_width": ""
          }
        },
        "ca9c04aa3cc24d4d852cfa844ae7007e": {
          "model_module": "@jupyter-widgets/controls",
          "model_module_version": "1.5.0",
          "model_name": "HBoxModel",
          "state": {
            "_dom_classes": [],
            "_model_module": "@jupyter-widgets/controls",
            "_model_module_version": "1.5.0",
            "_model_name": "HBoxModel",
            "_view_count": null,
            "_view_module": "@jupyter-widgets/controls",
            "_view_module_version": "1.5.0",
            "_view_name": "HBoxView",
            "box_style": "",
            "children": [
              "IPY_MODEL_e277a960b4f242a69d55126b871099c4",
              "IPY_MODEL_8a9023f58b424fee878f51d10801891b",
              "IPY_MODEL_68cbc68556574f8fbb03d6194f91c2dc"
            ],
            "layout": "IPY_MODEL_010d350dbf554cc7bdc014ab58bd35dd"
          }
        },
        "ce64e55d362940608901de25b7e2d3e6": {
          "model_module": "@jupyter-widgets/base",
          "model_module_version": "1.2.0",
          "model_name": "LayoutModel",
          "state": {
            "_model_module": "@jupyter-widgets/base",
            "_model_module_version": "1.2.0",
            "_model_name": "LayoutModel",
            "_view_count": null,
            "_view_module": "@jupyter-widgets/base",
            "_view_module_version": "1.2.0",
            "_view_name": "LayoutView",
            "align_content": null,
            "align_items": null,
            "align_self": null,
            "border": null,
            "bottom": null,
            "display": null,
            "flex": null,
            "flex_flow": null,
            "grid_area": null,
            "grid_auto_columns": null,
            "grid_auto_flow": null,
            "grid_auto_rows": null,
            "grid_column": null,
            "grid_gap": null,
            "grid_row": null,
            "grid_template_areas": null,
            "grid_template_columns": null,
            "grid_template_rows": null,
            "height": null,
            "justify_content": null,
            "justify_items": null,
            "left": null,
            "margin": null,
            "max_height": null,
            "max_width": null,
            "min_height": null,
            "min_width": null,
            "object_fit": null,
            "object_position": null,
            "order": null,
            "overflow": null,
            "overflow_x": null,
            "overflow_y": null,
            "padding": null,
            "right": null,
            "top": null,
            "visibility": null,
            "width": null
          }
        },
        "e277a960b4f242a69d55126b871099c4": {
          "model_module": "@jupyter-widgets/controls",
          "model_module_version": "1.5.0",
          "model_name": "HTMLModel",
          "state": {
            "_dom_classes": [],
            "_model_module": "@jupyter-widgets/controls",
            "_model_module_version": "1.5.0",
            "_model_name": "HTMLModel",
            "_view_count": null,
            "_view_module": "@jupyter-widgets/controls",
            "_view_module_version": "1.5.0",
            "_view_name": "HTMLView",
            "description": "",
            "description_tooltip": null,
            "layout": "IPY_MODEL_fb126387659c4c2b8102e7dc2aa41c38",
            "placeholder": "​",
            "style": "IPY_MODEL_aacf02dfa3534e8292b6b1145f149d1e",
            "value": "Processing:  75%"
          }
        },
        "edd9cfda21b040c08a8c87702602762d": {
          "model_module": "@jupyter-widgets/base",
          "model_module_version": "1.2.0",
          "model_name": "LayoutModel",
          "state": {
            "_model_module": "@jupyter-widgets/base",
            "_model_module_version": "1.2.0",
            "_model_name": "LayoutModel",
            "_view_count": null,
            "_view_module": "@jupyter-widgets/base",
            "_view_module_version": "1.2.0",
            "_view_name": "LayoutView",
            "align_content": null,
            "align_items": null,
            "align_self": null,
            "border": null,
            "bottom": null,
            "display": null,
            "flex": null,
            "flex_flow": null,
            "grid_area": null,
            "grid_auto_columns": null,
            "grid_auto_flow": null,
            "grid_auto_rows": null,
            "grid_column": null,
            "grid_gap": null,
            "grid_row": null,
            "grid_template_areas": null,
            "grid_template_columns": null,
            "grid_template_rows": null,
            "height": null,
            "justify_content": null,
            "justify_items": null,
            "left": null,
            "margin": null,
            "max_height": null,
            "max_width": null,
            "min_height": null,
            "min_width": null,
            "object_fit": null,
            "object_position": null,
            "order": null,
            "overflow": null,
            "overflow_x": null,
            "overflow_y": null,
            "padding": null,
            "right": null,
            "top": null,
            "visibility": null,
            "width": null
          }
        },
        "fb126387659c4c2b8102e7dc2aa41c38": {
          "model_module": "@jupyter-widgets/base",
          "model_module_version": "1.2.0",
          "model_name": "LayoutModel",
          "state": {
            "_model_module": "@jupyter-widgets/base",
            "_model_module_version": "1.2.0",
            "_model_name": "LayoutModel",
            "_view_count": null,
            "_view_module": "@jupyter-widgets/base",
            "_view_module_version": "1.2.0",
            "_view_name": "LayoutView",
            "align_content": null,
            "align_items": null,
            "align_self": null,
            "border": null,
            "bottom": null,
            "display": null,
            "flex": null,
            "flex_flow": null,
            "grid_area": null,
            "grid_auto_columns": null,
            "grid_auto_flow": null,
            "grid_auto_rows": null,
            "grid_column": null,
            "grid_gap": null,
            "grid_row": null,
            "grid_template_areas": null,
            "grid_template_columns": null,
            "grid_template_rows": null,
            "height": null,
            "justify_content": null,
            "justify_items": null,
            "left": null,
            "margin": null,
            "max_height": null,
            "max_width": null,
            "min_height": null,
            "min_width": null,
            "object_fit": null,
            "object_position": null,
            "order": null,
            "overflow": null,
            "overflow_x": null,
            "overflow_y": null,
            "padding": null,
            "right": null,
            "top": null,
            "visibility": null,
            "width": null
          }
        }
      }
    }
  },
  "nbformat": 4,
  "nbformat_minor": 0
}
