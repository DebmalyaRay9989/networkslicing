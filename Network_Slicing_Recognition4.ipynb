{
  "nbformat": 4,
  "nbformat_minor": 0,
  "metadata": {
    "colab": {
      "provenance": [],
      "gpuType": "T4"
    },
    "kernelspec": {
      "name": "python3",
      "display_name": "Python 3"
    },
    "language_info": {
      "name": "python"
    },
    "accelerator": "GPU"
  },
  "cells": [
    {
      "cell_type": "code",
      "execution_count": 1,
      "metadata": {
        "id": "xM1mmgBz7R8G"
      },
      "outputs": [],
      "source": [
        "### Network Slicing Recognition"
      ]
    },
    {
      "cell_type": "markdown",
      "source": [
        "The telecom industry is going through a massive digital transformation with the adoption of ML, AI, feedback-based automation and advanced analytics to handle the next generation applications and services. AI concepts are not new; the algorithms used by Machine Learning and Deep Learning are being currently implemented in various industries and technology verticals. With growing data and immense volume <br>\n",
        "\n",
        "of information over 5G, the ability to predict data proactively, swiftly and with accuracy, is critically important. Data-driven decision making will be vital in future communication networks due to the traffic explosion and Artificial Intelligence (AI) will accelerate the 5G network performance. <br>\n",
        "\n",
        "Mobile operators are looking for a programmable solution that will allow them to accommodate multiple independent tenants on the same physical infrastructure and 5G networks allow for end-to-end network resource allocation using the concept of Network Slicing (NS). <br>\n",
        "\n",
        "Network Slicing will play a vital role in enabling a multitude of 5G applications, use cases, and services. Network slicing functions will provide an end-to-end isolation between slices with an ability to customize each slice based on the service demands (bandwidth, coverage, security, latency, reliability, etc). <br>\n",
        "\n",
        "Your Task is to build a Machine Learning model that will be able to to proactively detect and eliminate threats based on incoming connections thereby selecting the most appropriate network slice, even in case of a network failure. <br>"
      ],
      "metadata": {
        "id": "VBp7MxSf8Qps"
      }
    },
    {
      "cell_type": "markdown",
      "source": [
        "**LTE/5g** - User Equipment categories or classes to define the performance specifications <br>\n",
        "**Packet Loss Rate** - number of packets not received divided by the total number of packets sent. <br>\n",
        "**Packet Delay** - The time for a packet to be received. <br>\n",
        "**Slice type** - network configuration that allows multiple networks (virtualized and independent) <br>\n",
        "**GBR** - Guaranteed Bit Rate <br>\n",
        "**Healthcare** - Usage in Healthcare (1 or 0) <br>\n",
        "**Industry 4.0** - Usage in Digital Enterprises(1 or 0) <br>\n",
        "**IoT Devices** - Usage <br>\n",
        "**Public Safety** - Usage for public welfare and safety purposes (1 or 0) <br>\n",
        "**Smart City & Home** - usage in daily household chores <br>\n",
        "**Smart Transportation** - usage in public transportation <br>\n",
        "**Smartphone** - whether used for smartphone cellular data <br>"
      ],
      "metadata": {
        "id": "Ge4-_pZY-Ryl"
      }
    },
    {
      "cell_type": "code",
      "source": [
        "###! pip install neattext"
      ],
      "metadata": {
        "id": "1KeN97vv8ODP"
      },
      "execution_count": null,
      "outputs": []
    },
    {
      "cell_type": "code",
      "source": [
        "import pandas as pd\n",
        "import numpy as np\n",
        "import neattext.functions as nfx\n",
        "import seaborn as sn\n",
        "\n",
        "from sklearn.feature_extraction.text import TfidfVectorizer,CountVectorizer\n",
        "from sklearn.metrics.pairwise import cosine_similarity,linear_kernel"
      ],
      "metadata": {
        "id": "hhKG514V8OP9"
      },
      "execution_count": 3,
      "outputs": []
    },
    {
      "cell_type": "code",
      "source": [
        "###! pip uninstall numpy\n",
        "##!pip install numpy==1.20"
      ],
      "metadata": {
        "id": "kqpL-5nP8OZ0"
      },
      "execution_count": null,
      "outputs": []
    },
    {
      "cell_type": "code",
      "source": [
        "###!mkdir ~/.kaggle"
      ],
      "metadata": {
        "id": "6yLiMRwi-k1L"
      },
      "execution_count": 5,
      "outputs": []
    },
    {
      "cell_type": "code",
      "source": [
        "###!cp /kaggle.json ~/.kaggle/"
      ],
      "metadata": {
        "id": "pMo5gteJ-k_C"
      },
      "execution_count": null,
      "outputs": []
    },
    {
      "cell_type": "code",
      "source": [
        "##! pip install kaggle\n",
        "##!pip install keras-tuner"
      ],
      "metadata": {
        "id": "qwn59FWVA1VJ"
      },
      "execution_count": null,
      "outputs": []
    },
    {
      "cell_type": "code",
      "source": [
        "###!kaggle datasets download -d gauravduttakiit/network-slicing-recognition"
      ],
      "metadata": {
        "id": "6sfdP1o4BGie"
      },
      "execution_count": null,
      "outputs": []
    },
    {
      "cell_type": "code",
      "source": [
        "###!unzip /content/network-slicing-recognition.zip"
      ],
      "metadata": {
        "id": "LPODUgMiBKOX"
      },
      "execution_count": null,
      "outputs": []
    },
    {
      "cell_type": "code",
      "source": [
        "train_dataset = pd.read_csv(\"/content/train_dataset.csv\")\n",
        "test_dataset = pd.read_csv(\"/content/test_dataset.csv\")"
      ],
      "metadata": {
        "id": "tBgXXmd_BQ_b"
      },
      "execution_count": 10,
      "outputs": []
    },
    {
      "cell_type": "code",
      "source": [
        "print(train_dataset.shape, test_dataset.shape)"
      ],
      "metadata": {
        "colab": {
          "base_uri": "https://localhost:8080/"
        },
        "id": "lXOuh6lsBRDJ",
        "outputId": "e1b30ee6-152e-4f06-a0b3-b3eae144c446"
      },
      "execution_count": 11,
      "outputs": [
        {
          "output_type": "stream",
          "name": "stdout",
          "text": [
            "(31583, 17) (31584, 16)\n"
          ]
        }
      ]
    },
    {
      "cell_type": "code",
      "source": [
        "test_dataset['slice Type'] = 0"
      ],
      "metadata": {
        "id": "gDgeJp7nBRGD"
      },
      "execution_count": 12,
      "outputs": []
    },
    {
      "cell_type": "code",
      "source": [
        "train_dataset = train_dataset.reset_index()\n",
        "test_dataset = test_dataset.reset_index()\n",
        "train_dataset.rename(columns = { \"index\" : \"ID\"}, inplace = True)\n",
        "test_dataset.rename(columns = { \"index\" : \"ID\"}, inplace = True)"
      ],
      "metadata": {
        "id": "aGHpXa-ABbZZ"
      },
      "execution_count": 13,
      "outputs": []
    },
    {
      "cell_type": "code",
      "source": [
        "train_dataset.columns"
      ],
      "metadata": {
        "colab": {
          "base_uri": "https://localhost:8080/"
        },
        "id": "p8wOO4yUBdIU",
        "outputId": "19a1ccb0-35f5-4fd4-a9fe-a8d668eece84"
      },
      "execution_count": 14,
      "outputs": [
        {
          "output_type": "execute_result",
          "data": {
            "text/plain": [
              "Index(['ID', 'LTE/5g Category', 'Time', 'Packet Loss Rate', 'Packet delay',\n",
              "       'IoT', 'LTE/5G', 'GBR', 'Non-GBR', 'AR/VR/Gaming', 'Healthcare',\n",
              "       'Industry 4.0', 'IoT Devices', 'Public Safety', 'Smart City & Home',\n",
              "       'Smart Transportation', 'Smartphone', 'slice Type'],\n",
              "      dtype='object')"
            ]
          },
          "metadata": {},
          "execution_count": 14
        }
      ]
    },
    {
      "cell_type": "code",
      "source": [
        "train_dataset.shape"
      ],
      "metadata": {
        "colab": {
          "base_uri": "https://localhost:8080/"
        },
        "id": "N-EI4U1hBgcm",
        "outputId": "bc4005b9-22d8-480a-e618-2cf6fd9d1f33"
      },
      "execution_count": 15,
      "outputs": [
        {
          "output_type": "execute_result",
          "data": {
            "text/plain": [
              "(31583, 18)"
            ]
          },
          "metadata": {},
          "execution_count": 15
        }
      ]
    },
    {
      "cell_type": "code",
      "source": [
        "train_dataset['slice Type'].value_counts()"
      ],
      "metadata": {
        "colab": {
          "base_uri": "https://localhost:8080/"
        },
        "id": "-72qCpfvBici",
        "outputId": "b5f09a00-e0a5-4bcc-b962-468e7085746d"
      },
      "execution_count": 16,
      "outputs": [
        {
          "output_type": "execute_result",
          "data": {
            "text/plain": [
              "1    16799\n",
              "3     7392\n",
              "2     7392\n",
              "Name: slice Type, dtype: int64"
            ]
          },
          "metadata": {},
          "execution_count": 16
        }
      ]
    },
    {
      "cell_type": "code",
      "source": [
        "from matplotlib_venn import venn2, venn2_circles, venn2_unweighted\n",
        "from matplotlib_venn import venn3, venn3_circles"
      ],
      "metadata": {
        "id": "hD_eQy2WBmSY"
      },
      "execution_count": 17,
      "outputs": []
    },
    {
      "cell_type": "code",
      "source": [
        "set_numbers_train = set(train_dataset[['ID']].drop_duplicates().sort_values(by = 'ID')['ID'].tolist())\n",
        "set_numbers_test = set(test_dataset[['ID']].drop_duplicates().sort_values(by = 'ID')['ID'].tolist())\n",
        "venn2((set_numbers_train, set_numbers_test), set_labels = ('Train numbers', 'Test numbers'))"
      ],
      "metadata": {
        "colab": {
          "base_uri": "https://localhost:8080/",
          "height": 429
        },
        "id": "OPfNBPA9BpK5",
        "outputId": "d1a91a22-d4bb-41ec-bfbc-7c192b9861fa"
      },
      "execution_count": 18,
      "outputs": [
        {
          "output_type": "execute_result",
          "data": {
            "text/plain": [
              "<matplotlib_venn._common.VennDiagram at 0x7ee7910554b0>"
            ]
          },
          "metadata": {},
          "execution_count": 18
        },
        {
          "output_type": "display_data",
          "data": {
            "text/plain": [
              "<Figure size 640x480 with 1 Axes>"
            ],
            "image/png": "[encoded data removed]"
          },
          "metadata": {}
        }
      ]
    },
    {
      "cell_type": "code",
      "source": [
        "train_dataset.columns"
      ],
      "metadata": {
        "colab": {
          "base_uri": "https://localhost:8080/"
        },
        "id": "reEUynQgBroS",
        "outputId": "94a36c90-edb0-43da-87af-46c4db0d2a6e"
      },
      "execution_count": 19,
      "outputs": [
        {
          "output_type": "execute_result",
          "data": {
            "text/plain": [
              "Index(['ID', 'LTE/5g Category', 'Time', 'Packet Loss Rate', 'Packet delay',\n",
              "       'IoT', 'LTE/5G', 'GBR', 'Non-GBR', 'AR/VR/Gaming', 'Healthcare',\n",
              "       'Industry 4.0', 'IoT Devices', 'Public Safety', 'Smart City & Home',\n",
              "       'Smart Transportation', 'Smartphone', 'slice Type'],\n",
              "      dtype='object')"
            ]
          },
          "metadata": {},
          "execution_count": 19
        }
      ]
    },
    {
      "cell_type": "code",
      "source": [
        "####! pip install klib"
      ],
      "metadata": {
        "id": "D9820cw3Bv8O"
      },
      "execution_count": null,
      "outputs": []
    },
    {
      "cell_type": "code",
      "source": [
        "import klib"
      ],
      "metadata": {
        "id": "3vmbTlalByUU"
      },
      "execution_count": 22,
      "outputs": []
    },
    {
      "cell_type": "code",
      "source": [
        "train_dataset = klib.clean_column_names(train_dataset)\n",
        "test_dataset = klib.clean_column_names(test_dataset)"
      ],
      "metadata": {
        "id": "9eowfLHIB3QY"
      },
      "execution_count": 23,
      "outputs": []
    },
    {
      "cell_type": "code",
      "source": [
        "train_dataset = klib.convert_datatypes(train_dataset)\n",
        "test_dataset = klib.convert_datatypes(test_dataset)"
      ],
      "metadata": {
        "id": "Q9epok5kCKQg"
      },
      "execution_count": 24,
      "outputs": []
    },
    {
      "cell_type": "code",
      "source": [
        "train_dataset.columns"
      ],
      "metadata": {
        "colab": {
          "base_uri": "https://localhost:8080/"
        },
        "id": "h06JB9zlCPg3",
        "outputId": "75b276c1-f2f1-428a-ba41-e9974de5ea59"
      },
      "execution_count": 25,
      "outputs": [
        {
          "output_type": "execute_result",
          "data": {
            "text/plain": [
              "Index(['id', 'lte_5g_category', 'time', 'packet_loss_rate', 'packet_delay',\n",
              "       'io_t', 'lte_5g', 'gbr', 'non_gbr', 'ar_vr_gaming', 'healthcare',\n",
              "       'industry_4_0', 'io_t_devices', 'public_safety', 'smart_city_and_home',\n",
              "       'smart_transportation', 'smartphone', 'slice_type'],\n",
              "      dtype='object')"
            ]
          },
          "metadata": {},
          "execution_count": 25
        }
      ]
    },
    {
      "cell_type": "markdown",
      "source": [
        "### Anomaly Detection Using One-Class SVM\n"
      ],
      "metadata": {
        "id": "PNpTvcteCVZw"
      }
    },
    {
      "cell_type": "code",
      "source": [
        "from sklearn import svm"
      ],
      "metadata": {
        "id": "f1vSVGbmCTVF"
      },
      "execution_count": 26,
      "outputs": []
    },
    {
      "cell_type": "code",
      "source": [
        "clf = svm.OneClassSVM(nu=0.05, kernel=\"rbf\", gamma=0.1)\n",
        "clf.fit(train_dataset)"
      ],
      "metadata": {
        "colab": {
          "base_uri": "https://localhost:8080/",
          "height": 75
        },
        "id": "Qms5-IGZCYSs",
        "outputId": "2afb1b8d-2488-44c4-f6fb-f12a6ef8daab"
      },
      "execution_count": 27,
      "outputs": [
        {
          "output_type": "execute_result",
          "data": {
            "text/plain": [
              "OneClassSVM(gamma=0.1, nu=0.05)"
            ],
            "text/html": [
              "<style>#sk-container-id-1 {color: black;background-color: white;}#sk-container-id-1 pre{padding: 0;}#sk-container-id-1 div.sk-toggleable {background-color: white;}#sk-container-id-1 label.sk-toggleable__label {cursor: pointer;display: block;width: 100%;margin-bottom: 0;padding: 0.3em;box-sizing: border-box;text-align: center;}#sk-container-id-1 label.sk-toggleable__label-arrow:before {content: \"▸\";float: left;margin-right: 0.25em;color: #696969;}#sk-container-id-1 label.sk-toggleable__label-arrow:hover:before {color: black;}#sk-container-id-1 div.sk-estimator:hover label.sk-toggleable__label-arrow:before {color: black;}#sk-container-id-1 div.sk-toggleable__content {max-height: 0;max-width: 0;overflow: hidden;text-align: left;background-color: #f0f8ff;}#sk-container-id-1 div.sk-toggleable__content pre {margin: 0.2em;color: black;border-radius: 0.25em;background-color: #f0f8ff;}#sk-container-id-1 input.sk-toggleable__control:checked~div.sk-toggleable__content {max-height: 200px;max-width: 100%;overflow: auto;}#sk-container-id-1 input.sk-toggleable__control:checked~label.sk-toggleable__label-arrow:before {content: \"▾\";}#sk-container-id-1 div.sk-estimator input.sk-toggleable__control:checked~label.sk-toggleable__label {background-color: #d4ebff;}#sk-container-id-1 div.sk-label input.sk-toggleable__control:checked~label.sk-toggleable__label {background-color: #d4ebff;}#sk-container-id-1 input.sk-hidden--visually {border: 0;clip: rect(1px 1px 1px 1px);clip: rect(1px, 1px, 1px, 1px);height: 1px;margin: -1px;overflow: hidden;padding: 0;position: absolute;width: 1px;}#sk-container-id-1 div.sk-estimator {font-family: monospace;background-color: #f0f8ff;border: 1px dotted black;border-radius: 0.25em;box-sizing: border-box;margin-bottom: 0.5em;}#sk-container-id-1 div.sk-estimator:hover {background-color: #d4ebff;}#sk-container-id-1 div.sk-parallel-item::after {content: \"\";width: 100%;border-bottom: 1px solid gray;flex-grow: 1;}#sk-container-id-1 div.sk-label:hover label.sk-toggleable__label {background-color: #d4ebff;}#sk-container-id-1 div.sk-serial::before {content: \"\";position: absolute;border-left: 1px solid gray;box-sizing: border-box;top: 0;bottom: 0;left: 50%;z-index: 0;}#sk-container-id-1 div.sk-serial {display: flex;flex-direction: column;align-items: center;background-color: white;padding-right: 0.2em;padding-left: 0.2em;position: relative;}#sk-container-id-1 div.sk-item {position: relative;z-index: 1;}#sk-container-id-1 div.sk-parallel {display: flex;align-items: stretch;justify-content: center;background-color: white;position: relative;}#sk-container-id-1 div.sk-item::before, #sk-container-id-1 div.sk-parallel-item::before {content: \"\";position: absolute;border-left: 1px solid gray;box-sizing: border-box;top: 0;bottom: 0;left: 50%;z-index: -1;}#sk-container-id-1 div.sk-parallel-item {display: flex;flex-direction: column;z-index: 1;position: relative;background-color: white;}#sk-container-id-1 div.sk-parallel-item:first-child::after {align-self: flex-end;width: 50%;}#sk-container-id-1 div.sk-parallel-item:last-child::after {align-self: flex-start;width: 50%;}#sk-container-id-1 div.sk-parallel-item:only-child::after {width: 0;}#sk-container-id-1 div.sk-dashed-wrapped {border: 1px dashed gray;margin: 0 0.4em 0.5em 0.4em;box-sizing: border-box;padding-bottom: 0.4em;background-color: white;}#sk-container-id-1 div.sk-label label {font-family: monospace;font-weight: bold;display: inline-block;line-height: 1.2em;}#sk-container-id-1 div.sk-label-container {text-align: center;}#sk-container-id-1 div.sk-container {/* jupyter's `normalize.less` sets `[hidden] { display: none; }` but bootstrap.min.css set `[hidden] { display: none !important; }` so we also need the `!important` here to be able to override the default hidden behavior on the sphinx rendered scikit-learn.org. See: https://github.com/scikit-learn/scikit-learn/issues/21755 */display: inline-block !important;position: relative;}#sk-container-id-1 div.sk-text-repr-fallback {display: none;}</style><div id=\"sk-container-id-1\" class=\"sk-top-container\"><div class=\"sk-text-repr-fallback\"><pre>OneClassSVM(gamma=0.1, nu=0.05)</pre><b>In a Jupyter environment, please rerun this cell to show the HTML representation or trust the notebook. <br />On GitHub, the HTML representation is unable to render, please try loading this page with nbviewer.org.</b></div><div class=\"sk-container\" hidden><div class=\"sk-item\"><div class=\"sk-estimator sk-toggleable\"><input class=\"sk-toggleable__control sk-hidden--visually\" id=\"sk-estimator-id-1\" type=\"checkbox\" checked><label for=\"sk-estimator-id-1\" class=\"sk-toggleable__label sk-toggleable__label-arrow\">OneClassSVM</label><div class=\"sk-toggleable__content\"><pre>OneClassSVM(gamma=0.1, nu=0.05)</pre></div></div></div></div></div>"
            ]
          },
          "metadata": {},
          "execution_count": 27
        }
      ]
    },
    {
      "cell_type": "code",
      "source": [
        "pred = clf.predict(train_dataset)\n",
        "\n",
        "# inliers are labeled 1, outliers are labeled -1\n",
        "normal = train_dataset[pred == 1]\n",
        "abnormal = train_dataset[pred == -1]"
      ],
      "metadata": {
        "id": "NTJx_iL0CcH0"
      },
      "execution_count": 28,
      "outputs": []
    },
    {
      "cell_type": "code",
      "source": [
        "print(normal.shape, abnormal.shape)"
      ],
      "metadata": {
        "colab": {
          "base_uri": "https://localhost:8080/"
        },
        "id": "eUoFk3GhJuQi",
        "outputId": "02b60cb1-d748-4f65-d629-b852d6bd2dd8"
      },
      "execution_count": 29,
      "outputs": [
        {
          "output_type": "stream",
          "name": "stdout",
          "text": [
            "(18373, 18) (13210, 18)\n"
          ]
        }
      ]
    },
    {
      "cell_type": "code",
      "source": [
        "normal.columns"
      ],
      "metadata": {
        "colab": {
          "base_uri": "https://localhost:8080/"
        },
        "id": "JZ-6rglJJwb5",
        "outputId": "9b939f92-b3cd-4e4e-d832-627eb9ee938f"
      },
      "execution_count": 30,
      "outputs": [
        {
          "output_type": "execute_result",
          "data": {
            "text/plain": [
              "Index(['id', 'lte_5g_category', 'time', 'packet_loss_rate', 'packet_delay',\n",
              "       'io_t', 'lte_5g', 'gbr', 'non_gbr', 'ar_vr_gaming', 'healthcare',\n",
              "       'industry_4_0', 'io_t_devices', 'public_safety', 'smart_city_and_home',\n",
              "       'smart_transportation', 'smartphone', 'slice_type'],\n",
              "      dtype='object')"
            ]
          },
          "metadata": {},
          "execution_count": 30
        }
      ]
    },
    {
      "cell_type": "code",
      "source": [
        "train_dataset = normal"
      ],
      "metadata": {
        "id": "m3zjDTuRJzKe"
      },
      "execution_count": 31,
      "outputs": []
    },
    {
      "cell_type": "code",
      "source": [
        "print(train_dataset.shape)\n",
        "print(train_dataset.columns)"
      ],
      "metadata": {
        "colab": {
          "base_uri": "https://localhost:8080/"
        },
        "id": "fCdiu5DEJ618",
        "outputId": "c7c5ea8e-351d-48a1-9226-d9690e45caa3"
      },
      "execution_count": 32,
      "outputs": [
        {
          "output_type": "stream",
          "name": "stdout",
          "text": [
            "(18373, 18)\n",
            "Index(['id', 'lte_5g_category', 'time', 'packet_loss_rate', 'packet_delay',\n",
            "       'io_t', 'lte_5g', 'gbr', 'non_gbr', 'ar_vr_gaming', 'healthcare',\n",
            "       'industry_4_0', 'io_t_devices', 'public_safety', 'smart_city_and_home',\n",
            "       'smart_transportation', 'smartphone', 'slice_type'],\n",
            "      dtype='object')\n"
          ]
        }
      ]
    },
    {
      "cell_type": "code",
      "source": [
        "test_dataset['slice_type'] = 0"
      ],
      "metadata": {
        "id": "Lou8KAspJ9i2"
      },
      "execution_count": 33,
      "outputs": []
    },
    {
      "cell_type": "code",
      "source": [
        "klib.cat_plot(train_dataset)"
      ],
      "metadata": {
        "colab": {
          "base_uri": "https://localhost:8080/"
        },
        "id": "OiaOxH7wJ_2k",
        "outputId": "c2e28338-eb1c-4ae6-bf46-ef4b73591e2f"
      },
      "execution_count": 34,
      "outputs": [
        {
          "output_type": "stream",
          "name": "stdout",
          "text": [
            "No columns with categorical data were detected.\n"
          ]
        }
      ]
    },
    {
      "cell_type": "code",
      "source": [
        "klib.corr_interactive_plot(train_dataset)"
      ],
      "metadata": {
        "colab": {
          "base_uri": "https://localhost:8080/",
          "height": 1000
        },
        "id": "ZV5KqMTLKEt7",
        "outputId": "da5d30e0-df56-49a7-c604-0a002eb4387a"
      },
      "execution_count": 35,
      "outputs": [
        {
          "output_type": "display_data",
          "data": {
            "text/html": [
              "<html>\n",
              "<head><meta charset=\"utf-8\" /></head>\n",
              "<body>\n",
              "    <div>            <script src=\"https://cdnjs.cloudflare.com/ajax/libs/mathjax/2.7.5/MathJax.js?config=TeX-AMS-MML_SVG\"></script><script type=\"text/javascript\">if (window.MathJax && window.MathJax.Hub && window.MathJax.Hub.Config) {window.MathJax.Hub.Config({SVG: {font: \"STIX-Web\"}});}</script>                <script type=\"text/javascript\">window.PlotlyConfig = {MathJaxConfig: 'local'};</script>\n",
              "        <script charset=\"utf-8\" src=\"https://cdn.plot.ly/plotly-2.24.1.min.js\"></script>                <div id=\"086404a2-bc53-42d6-8c0a-5648ddffbdac\" class=\"plotly-graph-div\" style=\"height:1056px; width:1152px;\"></div>            <script type=\"text/javascript\">                                    window.PLOTLYENV=window.PLOTLYENV || {};                                    if (document.getElementById(\"086404a2-bc53-42d6-8c0a-5648ddffbdac\")) {                    Plotly.newPlot(                        \"086404a2-bc53-42d6-8c0a-5648ddffbdac\",                        [{\"colorscale\":[[0.0,\"rgb(84,48,5)\"],[0.1,\"rgb(140,81,10)\"],[0.2,\"rgb(191,129,45)\"],[0.3,\"rgb(223,194,125)\"],[0.4,\"rgb(246,232,195)\"],[0.5,\"rgb(245,245,245)\"],[0.6,\"rgb(199,234,229)\"],[0.7,\"rgb(128,205,193)\"],[0.8,\"rgb(53,151,143)\"],[0.9,\"rgb(1,102,94)\"],[1.0,\"rgb(0,60,48)\"]],\"hoverongaps\":false,\"text\":[[\"\",-0.73,0.39,0.14,0.4,0.09,0.35,0.39,-0.29,0.32,-0.32,-0.91,0.91,-0.39,-0.1,-0.0,0.08,-0.0],[\"\",\"\",-0.21,-0.32,-0.22,-0.21,-0.31,-0.21,-0.3,-0.1,0.1,0.81,-0.81,0.27,-0.07,0.0,-0.08,0.0],[\"\",\"\",\"\",-0.09,-0.06,-0.06,-0.09,-0.06,-0.08,0.22,-0.22,-0.26,0.26,-0.24,-0.18,-0.0,0.02,-0.0],[\"\",\"\",\"\",\"\",-0.09,-0.09,-0.13,-0.09,-0.13,-0.04,0.04,-0.39,0.39,0.2,0.58,0.01,0.05,0.01],[\"\",\"\",\"\",\"\",\"\",-0.06,-0.09,-0.06,-0.09,0.22,-0.22,-0.27,0.27,-0.25,-0.18,0.0,0.02,0.0],[\"\",\"\",\"\",\"\",\"\",\"\",-0.09,-0.06,-0.09,-0.28,0.28,-0.27,0.27,0.44,0.39,-0.0,0.02,0.0],[\"\",\"\",\"\",\"\",\"\",\"\",\"\",-0.09,-0.12,-0.05,0.05,-0.39,0.39,-0.28,-0.22,0.0,0.05,-0.01],[\"\",\"\",\"\",\"\",\"\",\"\",\"\",\"\",-0.08,0.21,-0.21,-0.26,0.26,-0.24,-0.17,-0.01,0.02,-0.01],[\"\",\"\",\"\",\"\",\"\",\"\",\"\",\"\",\"\",-0.04,0.04,0.32,-0.32,-0.13,-0.17,-0.0,-0.03,-0.01],[\"\",\"\",\"\",\"\",\"\",\"\",\"\",\"\",\"\",\"\",-1.0,-0.12,0.12,-0.42,0.02,0.01,0.01,-0.0],[\"\",\"\",\"\",\"\",\"\",\"\",\"\",\"\",\"\",\"\",\"\",0.12,-0.12,0.42,-0.02,-0.01,-0.01,0.0],[\"\",\"\",\"\",\"\",\"\",\"\",\"\",\"\",\"\",\"\",\"\",\"\",-1.0,0.19,-0.17,-0.0,-0.1,-0.0],[\"\",\"\",\"\",\"\",\"\",\"\",\"\",\"\",\"\",\"\",\"\",\"\",\"\",-0.19,0.17,0.0,0.1,0.0],[\"\",\"\",\"\",\"\",\"\",\"\",\"\",\"\",\"\",\"\",\"\",\"\",\"\",\"\",0.31,-0.01,-0.02,0.01],[\"\",\"\",\"\",\"\",\"\",\"\",\"\",\"\",\"\",\"\",\"\",\"\",\"\",\"\",\"\",0.01,0.02,0.02],[\"\",\"\",\"\",\"\",\"\",\"\",\"\",\"\",\"\",\"\",\"\",\"\",\"\",\"\",\"\",\"\",-0.01,-0.0],[\"\",\"\",\"\",\"\",\"\",\"\",\"\",\"\",\"\",\"\",\"\",\"\",\"\",\"\",\"\",\"\",\"\",-0.02],[\"\",\"\",\"\",\"\",\"\",\"\",\"\",\"\",\"\",\"\",\"\",\"\",\"\",\"\",\"\",\"\",\"\",\"\"]],\"textfont\":{\"size\":12},\"texttemplate\":\"%{text}\",\"x\":[\"slice_type\",\"smartphone\",\"smart_transportation\",\"smart_city_and_home\",\"public_safety\",\"io_t_devices\",\"industry_4_0\",\"healthcare\",\"ar_vr_gaming\",\"non_gbr\",\"gbr\",\"lte_5g\",\"io_t\",\"packet_delay\",\"packet_loss_rate\",\"time\",\"lte_5g_category\",\"id\"],\"xgap\":1,\"y\":[\"slice_type\",\"smartphone\",\"smart_transportation\",\"smart_city_and_home\",\"public_safety\",\"io_t_devices\",\"industry_4_0\",\"healthcare\",\"ar_vr_gaming\",\"non_gbr\",\"gbr\",\"lte_5g\",\"io_t\",\"packet_delay\",\"packet_loss_rate\",\"time\",\"lte_5g_category\",\"id\"],\"ygap\":1,\"z\":[[null,-0.7346122066104845,0.39084555213180733,0.13646745176393255,0.4047104404287774,0.09193296283973793,0.3525081278978768,0.3862724578374668,-0.29227559900349126,0.32184793387191957,-0.32184793387191973,-0.9097096298422533,0.909709629842253,-0.39013842124603326,-0.0976272363618105,-0.0015757060678211197,0.08368009853769938,-0.002835441552566538],[null,null,-0.21314674031301034,-0.31863714706532953,-0.22070792587386454,-0.21465379928973705,-0.31131263886569266,-0.21065281365408922,-0.29911861259056466,-0.09999503728794489,0.0999950372879449,0.8075238323440269,-0.8075238323440268,0.26883084380244554,-0.06741600210420783,0.00047770532190622486,-0.0751516090955187,0.0010651384100794099],[null,null,null,-0.09033708679582211,-0.06257309055088063,-0.060856680007601936,-0.08826050928732651,-0.05972235718942062,-0.08480337059476385,0.21631277071162572,-0.2163127707116258,-0.26395102135165766,0.26395102135165804,-0.24120626795283617,-0.1761105612150848,-0.0025196908810748014,0.019786999921340587,-0.0006171285793053463],[null,null,null,null,-0.09354171228194083,-0.09097581726567099,-0.1319423268521358,-0.08928009634539912,-0.12677418396433318,-0.03594013854644583,0.0359401385464459,-0.3945854404574145,0.3945854404574145,0.20081807672626623,0.5787434099992192,0.005197162297576542,0.04734718267535304,0.009515957358807203],[null,null,null,null,null,-0.0630155150405908,-0.09139147008661835,-0.061840953158458854,-0.08781169256258459,0.22398626830361812,-0.22398626830361817,-0.27331444229107865,0.2733144422910789,-0.24976283957928425,-0.1823579222144486,0.0017542925673169362,0.019485282790280906,0.004772157085514398],[null,null,null,null,null,null,-0.08888455726768302,-0.060144625502703226,-0.0854029747957194,-0.2813365101255752,0.2813365101255753,-0.2658172931771588,0.26581729317715874,0.43735472992010005,0.3898775548124036,-0.0005854361895591763,0.01945804148605057,0.0049485084436086315],[null,null,null,null,null,null,null,-0.08722781586345105,-0.12386002734919664,-0.045352780084264875,0.04535278008426488,-0.3855151097671429,0.385515109767143,-0.28438408983699054,-0.21620166338575209,0.004019687949946251,0.04510627773452056,-0.005649750620042512],[null,null,null,null,null,null,null,null,-0.08381112747445127,0.21378179986613768,-0.21378179986613793,-0.2608626584340173,0.26086265843401724,-0.23838403036635977,-0.17404997692987903,-0.011551855223408009,0.018408029016488123,-0.007330976886875252],[null,null,null,null,null,null,null,null,null,-0.03747564686068119,0.03747564686068123,0.3212844949812943,-0.32128449498129424,-0.12761425153102776,-0.16817160506207415,-0.0007984428099076171,-0.03401045045003847,-0.00740074358344895],[null,null,null,null,null,null,null,null,null,null,-0.9999999999999992,-0.12240208311214422,0.12240208311214397,-0.4241237263117014,0.02231471887991141,0.005053119330993027,0.00715579203645389,-0.004535610718492042],[null,null,null,null,null,null,null,null,null,null,null,0.12240208311214454,-0.12240208311214444,0.4241237263117012,-0.022314718879911558,-0.005053119330992992,-0.007155792036453805,0.004535610718487794],[null,null,null,null,null,null,null,null,null,null,null,null,-1.0,0.1879101071360746,-0.1708578444142946,-1.9461825416850296e-05,-0.09560501324475025,-0.0035175994963234985],[null,null,null,null,null,null,null,null,null,null,null,null,null,-0.18791010713607467,0.1708578444142945,1.9461825416897747e-05,0.09560501324475046,0.0035175994963206466],[null,null,null,null,null,null,null,null,null,null,null,null,null,null,0.30643644074125154,-0.005153273866450914,-0.015085156025581081,0.010973530183367941],[null,null,null,null,null,null,null,null,null,null,null,null,null,null,null,0.009140142318106424,0.02225427871707182,0.01541883179213589],[null,null,null,null,null,null,null,null,null,null,null,null,null,null,null,null,-0.011523337002225652,-0.004275474662529939],[null,null,null,null,null,null,null,null,null,null,null,null,null,null,null,null,null,-0.02223856458350239],[null,null,null,null,null,null,null,null,null,null,null,null,null,null,null,null,null,null]],\"zmax\":0.86,\"zmin\":-0.95,\"type\":\"heatmap\"}],                        {\"template\":{\"data\":{\"histogram2dcontour\":[{\"type\":\"histogram2dcontour\",\"colorbar\":{\"outlinewidth\":0,\"ticks\":\"\"},\"colorscale\":[[0.0,\"#0d0887\"],[0.1111111111111111,\"#46039f\"],[0.2222222222222222,\"#7201a8\"],[0.3333333333333333,\"#9c179e\"],[0.4444444444444444,\"#bd3786\"],[0.5555555555555556,\"#d8576b\"],[0.6666666666666666,\"#ed7953\"],[0.7777777777777778,\"#fb9f3a\"],[0.8888888888888888,\"#fdca26\"],[1.0,\"#f0f921\"]]}],\"choropleth\":[{\"type\":\"choropleth\",\"colorbar\":{\"outlinewidth\":0,\"ticks\":\"\"}}],\"histogram2d\":[{\"type\":\"histogram2d\",\"colorbar\":{\"outlinewidth\":0,\"ticks\":\"\"},\"colorscale\":[[0.0,\"#0d0887\"],[0.1111111111111111,\"#46039f\"],[0.2222222222222222,\"#7201a8\"],[0.3333333333333333,\"#9c179e\"],[0.4444444444444444,\"#bd3786\"],[0.5555555555555556,\"#d8576b\"],[0.6666666666666666,\"#ed7953\"],[0.7777777777777778,\"#fb9f3a\"],[0.8888888888888888,\"#fdca26\"],[1.0,\"#f0f921\"]]}],\"heatmap\":[{\"type\":\"heatmap\",\"colorbar\":{\"outlinewidth\":0,\"ticks\":\"\"},\"colorscale\":[[0.0,\"#0d0887\"],[0.1111111111111111,\"#46039f\"],[0.2222222222222222,\"#7201a8\"],[0.3333333333333333,\"#9c179e\"],[0.4444444444444444,\"#bd3786\"],[0.5555555555555556,\"#d8576b\"],[0.6666666666666666,\"#ed7953\"],[0.7777777777777778,\"#fb9f3a\"],[0.8888888888888888,\"#fdca26\"],[1.0,\"#f0f921\"]]}],\"heatmapgl\":[{\"type\":\"heatmapgl\",\"colorbar\":{\"outlinewidth\":0,\"ticks\":\"\"},\"colorscale\":[[0.0,\"#0d0887\"],[0.1111111111111111,\"#46039f\"],[0.2222222222222222,\"#7201a8\"],[0.3333333333333333,\"#9c179e\"],[0.4444444444444444,\"#bd3786\"],[0.5555555555555556,\"#d8576b\"],[0.6666666666666666,\"#ed7953\"],[0.7777777777777778,\"#fb9f3a\"],[0.8888888888888888,\"#fdca26\"],[1.0,\"#f0f921\"]]}],\"contourcarpet\":[{\"type\":\"contourcarpet\",\"colorbar\":{\"outlinewidth\":0,\"ticks\":\"\"}}],\"contour\":[{\"type\":\"contour\",\"colorbar\":{\"outlinewidth\":0,\"ticks\":\"\"},\"colorscale\":[[0.0,\"#0d0887\"],[0.1111111111111111,\"#46039f\"],[0.2222222222222222,\"#7201a8\"],[0.3333333333333333,\"#9c179e\"],[0.4444444444444444,\"#bd3786\"],[0.5555555555555556,\"#d8576b\"],[0.6666666666666666,\"#ed7953\"],[0.7777777777777778,\"#fb9f3a\"],[0.8888888888888888,\"#fdca26\"],[1.0,\"#f0f921\"]]}],\"surface\":[{\"type\":\"surface\",\"colorbar\":{\"outlinewidth\":0,\"ticks\":\"\"},\"colorscale\":[[0.0,\"#0d0887\"],[0.1111111111111111,\"#46039f\"],[0.2222222222222222,\"#7201a8\"],[0.3333333333333333,\"#9c179e\"],[0.4444444444444444,\"#bd3786\"],[0.5555555555555556,\"#d8576b\"],[0.6666666666666666,\"#ed7953\"],[0.7777777777777778,\"#fb9f3a\"],[0.8888888888888888,\"#fdca26\"],[1.0,\"#f0f921\"]]}],\"mesh3d\":[{\"type\":\"mesh3d\",\"colorbar\":{\"outlinewidth\":0,\"ticks\":\"\"}}],\"scatter\":[{\"fillpattern\":{\"fillmode\":\"overlay\",\"size\":10,\"solidity\":0.2},\"type\":\"scatter\"}],\"parcoords\":[{\"type\":\"parcoords\",\"line\":{\"colorbar\":{\"outlinewidth\":0,\"ticks\":\"\"}}}],\"scatterpolargl\":[{\"type\":\"scatterpolargl\",\"marker\":{\"colorbar\":{\"outlinewidth\":0,\"ticks\":\"\"}}}],\"bar\":[{\"error_x\":{\"color\":\"#2a3f5f\"},\"error_y\":{\"color\":\"#2a3f5f\"},\"marker\":{\"line\":{\"color\":\"#E5ECF6\",\"width\":0.5},\"pattern\":{\"fillmode\":\"overlay\",\"size\":10,\"solidity\":0.2}},\"type\":\"bar\"}],\"scattergeo\":[{\"type\":\"scattergeo\",\"marker\":{\"colorbar\":{\"outlinewidth\":0,\"ticks\":\"\"}}}],\"scatterpolar\":[{\"type\":\"scatterpolar\",\"marker\":{\"colorbar\":{\"outlinewidth\":0,\"ticks\":\"\"}}}],\"histogram\":[{\"marker\":{\"pattern\":{\"fillmode\":\"overlay\",\"size\":10,\"solidity\":0.2}},\"type\":\"histogram\"}],\"scattergl\":[{\"type\":\"scattergl\",\"marker\":{\"colorbar\":{\"outlinewidth\":0,\"ticks\":\"\"}}}],\"scatter3d\":[{\"type\":\"scatter3d\",\"line\":{\"colorbar\":{\"outlinewidth\":0,\"ticks\":\"\"}},\"marker\":{\"colorbar\":{\"outlinewidth\":0,\"ticks\":\"\"}}}],\"scattermapbox\":[{\"type\":\"scattermapbox\",\"marker\":{\"colorbar\":{\"outlinewidth\":0,\"ticks\":\"\"}}}],\"scatterternary\":[{\"type\":\"scatterternary\",\"marker\":{\"colorbar\":{\"outlinewidth\":0,\"ticks\":\"\"}}}],\"scattercarpet\":[{\"type\":\"scattercarpet\",\"marker\":{\"colorbar\":{\"outlinewidth\":0,\"ticks\":\"\"}}}],\"carpet\":[{\"aaxis\":{\"endlinecolor\":\"#2a3f5f\",\"gridcolor\":\"white\",\"linecolor\":\"white\",\"minorgridcolor\":\"white\",\"startlinecolor\":\"#2a3f5f\"},\"baxis\":{\"endlinecolor\":\"#2a3f5f\",\"gridcolor\":\"white\",\"linecolor\":\"white\",\"minorgridcolor\":\"white\",\"startlinecolor\":\"#2a3f5f\"},\"type\":\"carpet\"}],\"table\":[{\"cells\":{\"fill\":{\"color\":\"#EBF0F8\"},\"line\":{\"color\":\"white\"}},\"header\":{\"fill\":{\"color\":\"#C8D4E3\"},\"line\":{\"color\":\"white\"}},\"type\":\"table\"}],\"barpolar\":[{\"marker\":{\"line\":{\"color\":\"#E5ECF6\",\"width\":0.5},\"pattern\":{\"fillmode\":\"overlay\",\"size\":10,\"solidity\":0.2}},\"type\":\"barpolar\"}],\"pie\":[{\"automargin\":true,\"type\":\"pie\"}]},\"layout\":{\"autotypenumbers\":\"strict\",\"colorway\":[\"#636efa\",\"#EF553B\",\"#00cc96\",\"#ab63fa\",\"#FFA15A\",\"#19d3f3\",\"#FF6692\",\"#B6E880\",\"#FF97FF\",\"#FECB52\"],\"font\":{\"color\":\"#2a3f5f\"},\"hovermode\":\"closest\",\"hoverlabel\":{\"align\":\"left\"},\"paper_bgcolor\":\"white\",\"plot_bgcolor\":\"#E5ECF6\",\"polar\":{\"bgcolor\":\"#E5ECF6\",\"angularaxis\":{\"gridcolor\":\"white\",\"linecolor\":\"white\",\"ticks\":\"\"},\"radialaxis\":{\"gridcolor\":\"white\",\"linecolor\":\"white\",\"ticks\":\"\"}},\"ternary\":{\"bgcolor\":\"#E5ECF6\",\"aaxis\":{\"gridcolor\":\"white\",\"linecolor\":\"white\",\"ticks\":\"\"},\"baxis\":{\"gridcolor\":\"white\",\"linecolor\":\"white\",\"ticks\":\"\"},\"caxis\":{\"gridcolor\":\"white\",\"linecolor\":\"white\",\"ticks\":\"\"}},\"coloraxis\":{\"colorbar\":{\"outlinewidth\":0,\"ticks\":\"\"}},\"colorscale\":{\"sequential\":[[0.0,\"#0d0887\"],[0.1111111111111111,\"#46039f\"],[0.2222222222222222,\"#7201a8\"],[0.3333333333333333,\"#9c179e\"],[0.4444444444444444,\"#bd3786\"],[0.5555555555555556,\"#d8576b\"],[0.6666666666666666,\"#ed7953\"],[0.7777777777777778,\"#fb9f3a\"],[0.8888888888888888,\"#fdca26\"],[1.0,\"#f0f921\"]],\"sequentialminus\":[[0.0,\"#0d0887\"],[0.1111111111111111,\"#46039f\"],[0.2222222222222222,\"#7201a8\"],[0.3333333333333333,\"#9c179e\"],[0.4444444444444444,\"#bd3786\"],[0.5555555555555556,\"#d8576b\"],[0.6666666666666666,\"#ed7953\"],[0.7777777777777778,\"#fb9f3a\"],[0.8888888888888888,\"#fdca26\"],[1.0,\"#f0f921\"]],\"diverging\":[[0,\"#8e0152\"],[0.1,\"#c51b7d\"],[0.2,\"#de77ae\"],[0.3,\"#f1b6da\"],[0.4,\"#fde0ef\"],[0.5,\"#f7f7f7\"],[0.6,\"#e6f5d0\"],[0.7,\"#b8e186\"],[0.8,\"#7fbc41\"],[0.9,\"#4d9221\"],[1,\"#276419\"]]},\"xaxis\":{\"gridcolor\":\"white\",\"linecolor\":\"white\",\"ticks\":\"\",\"title\":{\"standoff\":15},\"zerolinecolor\":\"white\",\"automargin\":true,\"zerolinewidth\":2},\"yaxis\":{\"gridcolor\":\"white\",\"linecolor\":\"white\",\"ticks\":\"\",\"title\":{\"standoff\":15},\"zerolinecolor\":\"white\",\"automargin\":true,\"zerolinewidth\":2},\"scene\":{\"xaxis\":{\"backgroundcolor\":\"#E5ECF6\",\"gridcolor\":\"white\",\"linecolor\":\"white\",\"showbackground\":true,\"ticks\":\"\",\"zerolinecolor\":\"white\",\"gridwidth\":2},\"yaxis\":{\"backgroundcolor\":\"#E5ECF6\",\"gridcolor\":\"white\",\"linecolor\":\"white\",\"showbackground\":true,\"ticks\":\"\",\"zerolinecolor\":\"white\",\"gridwidth\":2},\"zaxis\":{\"backgroundcolor\":\"#E5ECF6\",\"gridcolor\":\"white\",\"linecolor\":\"white\",\"showbackground\":true,\"ticks\":\"\",\"zerolinecolor\":\"white\",\"gridwidth\":2}},\"shapedefaults\":{\"line\":{\"color\":\"#2a3f5f\"}},\"annotationdefaults\":{\"arrowcolor\":\"#2a3f5f\",\"arrowhead\":0,\"arrowwidth\":1},\"geo\":{\"bgcolor\":\"white\",\"landcolor\":\"#E5ECF6\",\"subunitcolor\":\"white\",\"showland\":true,\"showlakes\":true,\"lakecolor\":\"white\"},\"title\":{\"x\":0.05},\"mapbox\":{\"style\":\"light\"}}},\"title\":{\"text\":\"Feature-correlation (pearson)\",\"font\":{\"size\":24},\"x\":0.5},\"xaxis\":{\"autorange\":\"reversed\"},\"autosize\":true,\"width\":1152,\"height\":1056},                        {\"responsive\": true}                    ).then(function(){\n",
              "                            \n",
              "var gd = document.getElementById('086404a2-bc53-42d6-8c0a-5648ddffbdac');\n",
              "var x = new MutationObserver(function (mutations, observer) {{\n",
              "        var display = window.getComputedStyle(gd).display;\n",
              "        if (!display || display === 'none') {{\n",
              "            console.log([gd, 'removed!']);\n",
              "            Plotly.purge(gd);\n",
              "            observer.disconnect();\n",
              "        }}\n",
              "}});\n",
              "\n",
              "// Listen for the removal of the full notebook cells\n",
              "var notebookContainer = gd.closest('#notebook-container');\n",
              "if (notebookContainer) {{\n",
              "    x.observe(notebookContainer, {childList: true});\n",
              "}}\n",
              "\n",
              "// Listen for the clearing of the current output cell\n",
              "var outputEl = gd.closest('.output');\n",
              "if (outputEl) {{\n",
              "    x.observe(outputEl, {childList: true});\n",
              "}}\n",
              "\n",
              "                        })                };                            </script>        </div>\n",
              "</body>\n",
              "</html>"
            ]
          },
          "metadata": {}
        }
      ]
    },
    {
      "cell_type": "code",
      "source": [
        "klib.dist_plot(train_dataset)"
      ],
      "metadata": {
        "colab": {
          "base_uri": "https://localhost:8080/",
          "height": 250
        },
        "id": "stfKLX0TKH_J",
        "outputId": "2926cda9-82b8-4adf-a774-c556429cecf5"
      },
      "execution_count": 36,
      "outputs": [
        {
          "output_type": "stream",
          "name": "stdout",
          "text": [
            "Large dataset detected, using 10000 random samples for the plots. Summary statistics are still based on the entire dataset.\n"
          ]
        },
        {
          "output_type": "execute_result",
          "data": {
            "text/plain": [
              "<Axes: xlabel='id', ylabel='Density'>"
            ]
          },
          "metadata": {},
          "execution_count": 36
        },
        {
          "output_type": "display_data",
          "data": {
            "text/plain": [
              "<Figure size 1500x300 with 1 Axes>"
            ],
            "image/png": "[encoded data removed]"
          },
          "metadata": {}
        }
      ]
    },
    {
      "cell_type": "code",
      "source": [
        "klib.missingval_plot(train_dataset)"
      ],
      "metadata": {
        "colab": {
          "base_uri": "https://localhost:8080/"
        },
        "id": "GDVBDHyFKIJF",
        "outputId": "b17b1efe-3a28-4dbd-c720-73f49b8f71b1"
      },
      "execution_count": 37,
      "outputs": [
        {
          "output_type": "stream",
          "name": "stdout",
          "text": [
            "No missing values found in the dataset.\n"
          ]
        }
      ]
    },
    {
      "cell_type": "code",
      "source": [
        "klib.corr_mat(train_dataset)"
      ],
      "metadata": {
        "colab": {
          "base_uri": "https://localhost:8080/",
          "height": 634
        },
        "id": "My0ltmGMKOEz",
        "outputId": "7976477b-2e6a-4f91-e01a-e49dfc33ad7a"
      },
      "execution_count": 38,
      "outputs": [
        {
          "output_type": "execute_result",
          "data": {
            "text/plain": [
              "<pandas.io.formats.style.Styler at 0x7ee7996df6a0>"
            ],
            "text/html": [
              "<style type=\"text/css\">\n",
              "#T_b213b_row0_col0, #T_b213b_row0_col3, #T_b213b_row0_col4, #T_b213b_row0_col5, #T_b213b_row0_col7, #T_b213b_row0_col12, #T_b213b_row0_col13, #T_b213b_row0_col14, #T_b213b_row0_col16, #T_b213b_row1_col1, #T_b213b_row1_col3, #T_b213b_row1_col5, #T_b213b_row1_col8, #T_b213b_row1_col10, #T_b213b_row1_col11, #T_b213b_row1_col12, #T_b213b_row1_col13, #T_b213b_row1_col14, #T_b213b_row1_col15, #T_b213b_row1_col17, #T_b213b_row2_col2, #T_b213b_row2_col3, #T_b213b_row2_col5, #T_b213b_row2_col8, #T_b213b_row2_col11, #T_b213b_row2_col13, #T_b213b_row2_col14, #T_b213b_row2_col16, #T_b213b_row3_col0, #T_b213b_row3_col1, #T_b213b_row3_col2, #T_b213b_row3_col3, #T_b213b_row3_col4, #T_b213b_row3_col5, #T_b213b_row3_col8, #T_b213b_row3_col12, #T_b213b_row3_col14, #T_b213b_row4_col0, #T_b213b_row4_col3, #T_b213b_row4_col4, #T_b213b_row4_col6, #T_b213b_row4_col7, #T_b213b_row4_col12, #T_b213b_row4_col14, #T_b213b_row4_col16, #T_b213b_row5_col0, #T_b213b_row5_col1, #T_b213b_row5_col2, #T_b213b_row5_col3, #T_b213b_row5_col5, #T_b213b_row5_col8, #T_b213b_row5_col10, #T_b213b_row5_col11, #T_b213b_row5_col12, #T_b213b_row5_col13, #T_b213b_row5_col14, #T_b213b_row5_col15, #T_b213b_row5_col17, #T_b213b_row6_col4, #T_b213b_row6_col6, #T_b213b_row6_col7, #T_b213b_row6_col9, #T_b213b_row6_col16, #T_b213b_row7_col0, #T_b213b_row7_col4, #T_b213b_row7_col6, #T_b213b_row7_col7, #T_b213b_row7_col9, #T_b213b_row7_col11, #T_b213b_row7_col12, #T_b213b_row7_col14, #T_b213b_row7_col16, #T_b213b_row8_col1, #T_b213b_row8_col2, #T_b213b_row8_col3, #T_b213b_row8_col5, #T_b213b_row8_col8, #T_b213b_row8_col10, #T_b213b_row8_col13, #T_b213b_row8_col15, #T_b213b_row8_col17, #T_b213b_row9_col6, #T_b213b_row9_col7, #T_b213b_row9_col9, #T_b213b_row10_col1, #T_b213b_row10_col5, #T_b213b_row10_col8, #T_b213b_row10_col10, #T_b213b_row10_col17, #T_b213b_row11_col1, #T_b213b_row11_col2, #T_b213b_row11_col5, #T_b213b_row11_col7, #T_b213b_row11_col11, #T_b213b_row11_col17, #T_b213b_row12_col0, #T_b213b_row12_col1, #T_b213b_row12_col3, #T_b213b_row12_col4, #T_b213b_row12_col5, #T_b213b_row12_col7, #T_b213b_row12_col12, #T_b213b_row12_col17, #T_b213b_row13_col0, #T_b213b_row13_col1, #T_b213b_row13_col2, #T_b213b_row13_col5, #T_b213b_row13_col8, #T_b213b_row13_col13, #T_b213b_row13_col17, #T_b213b_row14_col0, #T_b213b_row14_col1, #T_b213b_row14_col2, #T_b213b_row14_col3, #T_b213b_row14_col4, #T_b213b_row14_col5, #T_b213b_row14_col7, #T_b213b_row14_col14, #T_b213b_row14_col17, #T_b213b_row15_col1, #T_b213b_row15_col5, #T_b213b_row15_col8, #T_b213b_row15_col15, #T_b213b_row15_col17, #T_b213b_row16_col0, #T_b213b_row16_col2, #T_b213b_row16_col4, #T_b213b_row16_col6, #T_b213b_row16_col7, #T_b213b_row16_col16, #T_b213b_row17_col1, #T_b213b_row17_col5, #T_b213b_row17_col8, #T_b213b_row17_col10, #T_b213b_row17_col11, #T_b213b_row17_col12, #T_b213b_row17_col13, #T_b213b_row17_col14, #T_b213b_row17_col15, #T_b213b_row17_col17 {\n",
              "  color: None;\n",
              "}\n",
              "#T_b213b_row0_col1, #T_b213b_row0_col2, #T_b213b_row0_col6, #T_b213b_row0_col8, #T_b213b_row0_col9, #T_b213b_row0_col10, #T_b213b_row0_col11, #T_b213b_row0_col15, #T_b213b_row0_col17, #T_b213b_row1_col0, #T_b213b_row1_col2, #T_b213b_row1_col4, #T_b213b_row1_col6, #T_b213b_row1_col7, #T_b213b_row1_col9, #T_b213b_row1_col16, #T_b213b_row2_col0, #T_b213b_row2_col1, #T_b213b_row2_col4, #T_b213b_row2_col6, #T_b213b_row2_col7, #T_b213b_row2_col9, #T_b213b_row2_col10, #T_b213b_row2_col12, #T_b213b_row2_col15, #T_b213b_row2_col17, #T_b213b_row3_col6, #T_b213b_row3_col7, #T_b213b_row3_col9, #T_b213b_row3_col10, #T_b213b_row3_col11, #T_b213b_row3_col13, #T_b213b_row3_col15, #T_b213b_row3_col16, #T_b213b_row3_col17, #T_b213b_row4_col1, #T_b213b_row4_col2, #T_b213b_row4_col5, #T_b213b_row4_col8, #T_b213b_row4_col9, #T_b213b_row4_col10, #T_b213b_row4_col11, #T_b213b_row4_col13, #T_b213b_row4_col15, #T_b213b_row4_col17, #T_b213b_row5_col4, #T_b213b_row5_col6, #T_b213b_row5_col7, #T_b213b_row5_col9, #T_b213b_row5_col16, #T_b213b_row6_col0, #T_b213b_row6_col1, #T_b213b_row6_col2, #T_b213b_row6_col3, #T_b213b_row6_col5, #T_b213b_row6_col8, #T_b213b_row6_col10, #T_b213b_row6_col11, #T_b213b_row6_col12, #T_b213b_row6_col13, #T_b213b_row6_col14, #T_b213b_row6_col15, #T_b213b_row6_col17, #T_b213b_row7_col1, #T_b213b_row7_col2, #T_b213b_row7_col3, #T_b213b_row7_col5, #T_b213b_row7_col8, #T_b213b_row7_col10, #T_b213b_row7_col13, #T_b213b_row7_col15, #T_b213b_row7_col17, #T_b213b_row8_col0, #T_b213b_row8_col4, #T_b213b_row8_col6, #T_b213b_row8_col7, #T_b213b_row8_col9, #T_b213b_row8_col11, #T_b213b_row8_col12, #T_b213b_row8_col14, #T_b213b_row8_col16, #T_b213b_row9_col0, #T_b213b_row9_col1, #T_b213b_row9_col2, #T_b213b_row9_col3, #T_b213b_row9_col4, #T_b213b_row9_col5, #T_b213b_row9_col8, #T_b213b_row9_col10, #T_b213b_row9_col11, #T_b213b_row9_col12, #T_b213b_row9_col13, #T_b213b_row9_col14, #T_b213b_row9_col15, #T_b213b_row9_col16, #T_b213b_row9_col17, #T_b213b_row10_col0, #T_b213b_row10_col2, #T_b213b_row10_col3, #T_b213b_row10_col4, #T_b213b_row10_col6, #T_b213b_row10_col7, #T_b213b_row10_col9, #T_b213b_row10_col11, #T_b213b_row10_col12, #T_b213b_row10_col13, #T_b213b_row10_col14, #T_b213b_row10_col15, #T_b213b_row10_col16, #T_b213b_row11_col0, #T_b213b_row11_col3, #T_b213b_row11_col4, #T_b213b_row11_col6, #T_b213b_row11_col8, #T_b213b_row11_col9, #T_b213b_row11_col10, #T_b213b_row11_col12, #T_b213b_row11_col13, #T_b213b_row11_col14, #T_b213b_row11_col15, #T_b213b_row11_col16, #T_b213b_row12_col2, #T_b213b_row12_col6, #T_b213b_row12_col8, #T_b213b_row12_col9, #T_b213b_row12_col10, #T_b213b_row12_col11, #T_b213b_row12_col13, #T_b213b_row12_col14, #T_b213b_row12_col15, #T_b213b_row12_col16, #T_b213b_row13_col3, #T_b213b_row13_col4, #T_b213b_row13_col6, #T_b213b_row13_col7, #T_b213b_row13_col9, #T_b213b_row13_col10, #T_b213b_row13_col11, #T_b213b_row13_col12, #T_b213b_row13_col14, #T_b213b_row13_col15, #T_b213b_row13_col16, #T_b213b_row14_col6, #T_b213b_row14_col8, #T_b213b_row14_col9, #T_b213b_row14_col10, #T_b213b_row14_col11, #T_b213b_row14_col12, #T_b213b_row14_col13, #T_b213b_row14_col15, #T_b213b_row14_col16, #T_b213b_row15_col0, #T_b213b_row15_col2, #T_b213b_row15_col3, #T_b213b_row15_col4, #T_b213b_row15_col6, #T_b213b_row15_col7, #T_b213b_row15_col9, #T_b213b_row15_col10, #T_b213b_row15_col11, #T_b213b_row15_col12, #T_b213b_row15_col13, #T_b213b_row15_col14, #T_b213b_row15_col16, #T_b213b_row16_col1, #T_b213b_row16_col3, #T_b213b_row16_col5, #T_b213b_row16_col8, #T_b213b_row16_col9, #T_b213b_row16_col10, #T_b213b_row16_col11, #T_b213b_row16_col12, #T_b213b_row16_col13, #T_b213b_row16_col14, #T_b213b_row16_col15, #T_b213b_row16_col17, #T_b213b_row17_col0, #T_b213b_row17_col2, #T_b213b_row17_col3, #T_b213b_row17_col4, #T_b213b_row17_col6, #T_b213b_row17_col7, #T_b213b_row17_col9, #T_b213b_row17_col16 {\n",
              "  color: #FF3344;\n",
              "}\n",
              "</style>\n",
              "<table id=\"T_b213b\" class=\"dataframe\">\n",
              "  <thead>\n",
              "    <tr>\n",
              "      <th class=\"blank level0\" >&nbsp;</th>\n",
              "      <th id=\"T_b213b_level0_col0\" class=\"col_heading level0 col0\" >id</th>\n",
              "      <th id=\"T_b213b_level0_col1\" class=\"col_heading level0 col1\" >lte_5g_category</th>\n",
              "      <th id=\"T_b213b_level0_col2\" class=\"col_heading level0 col2\" >time</th>\n",
              "      <th id=\"T_b213b_level0_col3\" class=\"col_heading level0 col3\" >packet_loss_rate</th>\n",
              "      <th id=\"T_b213b_level0_col4\" class=\"col_heading level0 col4\" >packet_delay</th>\n",
              "      <th id=\"T_b213b_level0_col5\" class=\"col_heading level0 col5\" >io_t</th>\n",
              "      <th id=\"T_b213b_level0_col6\" class=\"col_heading level0 col6\" >lte_5g</th>\n",
              "      <th id=\"T_b213b_level0_col7\" class=\"col_heading level0 col7\" >gbr</th>\n",
              "      <th id=\"T_b213b_level0_col8\" class=\"col_heading level0 col8\" >non_gbr</th>\n",
              "      <th id=\"T_b213b_level0_col9\" class=\"col_heading level0 col9\" >ar_vr_gaming</th>\n",
              "      <th id=\"T_b213b_level0_col10\" class=\"col_heading level0 col10\" >healthcare</th>\n",
              "      <th id=\"T_b213b_level0_col11\" class=\"col_heading level0 col11\" >industry_4_0</th>\n",
              "      <th id=\"T_b213b_level0_col12\" class=\"col_heading level0 col12\" >io_t_devices</th>\n",
              "      <th id=\"T_b213b_level0_col13\" class=\"col_heading level0 col13\" >public_safety</th>\n",
              "      <th id=\"T_b213b_level0_col14\" class=\"col_heading level0 col14\" >smart_city_and_home</th>\n",
              "      <th id=\"T_b213b_level0_col15\" class=\"col_heading level0 col15\" >smart_transportation</th>\n",
              "      <th id=\"T_b213b_level0_col16\" class=\"col_heading level0 col16\" >smartphone</th>\n",
              "      <th id=\"T_b213b_level0_col17\" class=\"col_heading level0 col17\" >slice_type</th>\n",
              "    </tr>\n",
              "  </thead>\n",
              "  <tbody>\n",
              "    <tr>\n",
              "      <th id=\"T_b213b_level0_row0\" class=\"row_heading level0 row0\" >id</th>\n",
              "      <td id=\"T_b213b_row0_col0\" class=\"data row0 col0\" >1.00</td>\n",
              "      <td id=\"T_b213b_row0_col1\" class=\"data row0 col1\" >-0.02</td>\n",
              "      <td id=\"T_b213b_row0_col2\" class=\"data row0 col2\" >-0.00</td>\n",
              "      <td id=\"T_b213b_row0_col3\" class=\"data row0 col3\" >0.02</td>\n",
              "      <td id=\"T_b213b_row0_col4\" class=\"data row0 col4\" >0.01</td>\n",
              "      <td id=\"T_b213b_row0_col5\" class=\"data row0 col5\" >0.00</td>\n",
              "      <td id=\"T_b213b_row0_col6\" class=\"data row0 col6\" >-0.00</td>\n",
              "      <td id=\"T_b213b_row0_col7\" class=\"data row0 col7\" >0.00</td>\n",
              "      <td id=\"T_b213b_row0_col8\" class=\"data row0 col8\" >-0.00</td>\n",
              "      <td id=\"T_b213b_row0_col9\" class=\"data row0 col9\" >-0.01</td>\n",
              "      <td id=\"T_b213b_row0_col10\" class=\"data row0 col10\" >-0.01</td>\n",
              "      <td id=\"T_b213b_row0_col11\" class=\"data row0 col11\" >-0.01</td>\n",
              "      <td id=\"T_b213b_row0_col12\" class=\"data row0 col12\" >0.00</td>\n",
              "      <td id=\"T_b213b_row0_col13\" class=\"data row0 col13\" >0.00</td>\n",
              "      <td id=\"T_b213b_row0_col14\" class=\"data row0 col14\" >0.01</td>\n",
              "      <td id=\"T_b213b_row0_col15\" class=\"data row0 col15\" >-0.00</td>\n",
              "      <td id=\"T_b213b_row0_col16\" class=\"data row0 col16\" >0.00</td>\n",
              "      <td id=\"T_b213b_row0_col17\" class=\"data row0 col17\" >-0.00</td>\n",
              "    </tr>\n",
              "    <tr>\n",
              "      <th id=\"T_b213b_level0_row1\" class=\"row_heading level0 row1\" >lte_5g_category</th>\n",
              "      <td id=\"T_b213b_row1_col0\" class=\"data row1 col0\" >-0.02</td>\n",
              "      <td id=\"T_b213b_row1_col1\" class=\"data row1 col1\" >1.00</td>\n",
              "      <td id=\"T_b213b_row1_col2\" class=\"data row1 col2\" >-0.01</td>\n",
              "      <td id=\"T_b213b_row1_col3\" class=\"data row1 col3\" >0.02</td>\n",
              "      <td id=\"T_b213b_row1_col4\" class=\"data row1 col4\" >-0.02</td>\n",
              "      <td id=\"T_b213b_row1_col5\" class=\"data row1 col5\" >0.10</td>\n",
              "      <td id=\"T_b213b_row1_col6\" class=\"data row1 col6\" >-0.10</td>\n",
              "      <td id=\"T_b213b_row1_col7\" class=\"data row1 col7\" >-0.01</td>\n",
              "      <td id=\"T_b213b_row1_col8\" class=\"data row1 col8\" >0.01</td>\n",
              "      <td id=\"T_b213b_row1_col9\" class=\"data row1 col9\" >-0.03</td>\n",
              "      <td id=\"T_b213b_row1_col10\" class=\"data row1 col10\" >0.02</td>\n",
              "      <td id=\"T_b213b_row1_col11\" class=\"data row1 col11\" >0.05</td>\n",
              "      <td id=\"T_b213b_row1_col12\" class=\"data row1 col12\" >0.02</td>\n",
              "      <td id=\"T_b213b_row1_col13\" class=\"data row1 col13\" >0.02</td>\n",
              "      <td id=\"T_b213b_row1_col14\" class=\"data row1 col14\" >0.05</td>\n",
              "      <td id=\"T_b213b_row1_col15\" class=\"data row1 col15\" >0.02</td>\n",
              "      <td id=\"T_b213b_row1_col16\" class=\"data row1 col16\" >-0.08</td>\n",
              "      <td id=\"T_b213b_row1_col17\" class=\"data row1 col17\" >0.08</td>\n",
              "    </tr>\n",
              "    <tr>\n",
              "      <th id=\"T_b213b_level0_row2\" class=\"row_heading level0 row2\" >time</th>\n",
              "      <td id=\"T_b213b_row2_col0\" class=\"data row2 col0\" >-0.00</td>\n",
              "      <td id=\"T_b213b_row2_col1\" class=\"data row2 col1\" >-0.01</td>\n",
              "      <td id=\"T_b213b_row2_col2\" class=\"data row2 col2\" >1.00</td>\n",
              "      <td id=\"T_b213b_row2_col3\" class=\"data row2 col3\" >0.01</td>\n",
              "      <td id=\"T_b213b_row2_col4\" class=\"data row2 col4\" >-0.01</td>\n",
              "      <td id=\"T_b213b_row2_col5\" class=\"data row2 col5\" >0.00</td>\n",
              "      <td id=\"T_b213b_row2_col6\" class=\"data row2 col6\" >-0.00</td>\n",
              "      <td id=\"T_b213b_row2_col7\" class=\"data row2 col7\" >-0.01</td>\n",
              "      <td id=\"T_b213b_row2_col8\" class=\"data row2 col8\" >0.01</td>\n",
              "      <td id=\"T_b213b_row2_col9\" class=\"data row2 col9\" >-0.00</td>\n",
              "      <td id=\"T_b213b_row2_col10\" class=\"data row2 col10\" >-0.01</td>\n",
              "      <td id=\"T_b213b_row2_col11\" class=\"data row2 col11\" >0.00</td>\n",
              "      <td id=\"T_b213b_row2_col12\" class=\"data row2 col12\" >-0.00</td>\n",
              "      <td id=\"T_b213b_row2_col13\" class=\"data row2 col13\" >0.00</td>\n",
              "      <td id=\"T_b213b_row2_col14\" class=\"data row2 col14\" >0.01</td>\n",
              "      <td id=\"T_b213b_row2_col15\" class=\"data row2 col15\" >-0.00</td>\n",
              "      <td id=\"T_b213b_row2_col16\" class=\"data row2 col16\" >0.00</td>\n",
              "      <td id=\"T_b213b_row2_col17\" class=\"data row2 col17\" >-0.00</td>\n",
              "    </tr>\n",
              "    <tr>\n",
              "      <th id=\"T_b213b_level0_row3\" class=\"row_heading level0 row3\" >packet_loss_rate</th>\n",
              "      <td id=\"T_b213b_row3_col0\" class=\"data row3 col0\" >0.02</td>\n",
              "      <td id=\"T_b213b_row3_col1\" class=\"data row3 col1\" >0.02</td>\n",
              "      <td id=\"T_b213b_row3_col2\" class=\"data row3 col2\" >0.01</td>\n",
              "      <td id=\"T_b213b_row3_col3\" class=\"data row3 col3\" >1.00</td>\n",
              "      <td id=\"T_b213b_row3_col4\" class=\"data row3 col4\" >0.31</td>\n",
              "      <td id=\"T_b213b_row3_col5\" class=\"data row3 col5\" >0.17</td>\n",
              "      <td id=\"T_b213b_row3_col6\" class=\"data row3 col6\" >-0.17</td>\n",
              "      <td id=\"T_b213b_row3_col7\" class=\"data row3 col7\" >-0.02</td>\n",
              "      <td id=\"T_b213b_row3_col8\" class=\"data row3 col8\" >0.02</td>\n",
              "      <td id=\"T_b213b_row3_col9\" class=\"data row3 col9\" >-0.17</td>\n",
              "      <td id=\"T_b213b_row3_col10\" class=\"data row3 col10\" >-0.17</td>\n",
              "      <td id=\"T_b213b_row3_col11\" class=\"data row3 col11\" >-0.22</td>\n",
              "      <td id=\"T_b213b_row3_col12\" class=\"data row3 col12\" >0.39</td>\n",
              "      <td id=\"T_b213b_row3_col13\" class=\"data row3 col13\" >-0.18</td>\n",
              "      <td id=\"T_b213b_row3_col14\" class=\"data row3 col14\" >0.58</td>\n",
              "      <td id=\"T_b213b_row3_col15\" class=\"data row3 col15\" >-0.18</td>\n",
              "      <td id=\"T_b213b_row3_col16\" class=\"data row3 col16\" >-0.07</td>\n",
              "      <td id=\"T_b213b_row3_col17\" class=\"data row3 col17\" >-0.10</td>\n",
              "    </tr>\n",
              "    <tr>\n",
              "      <th id=\"T_b213b_level0_row4\" class=\"row_heading level0 row4\" >packet_delay</th>\n",
              "      <td id=\"T_b213b_row4_col0\" class=\"data row4 col0\" >0.01</td>\n",
              "      <td id=\"T_b213b_row4_col1\" class=\"data row4 col1\" >-0.02</td>\n",
              "      <td id=\"T_b213b_row4_col2\" class=\"data row4 col2\" >-0.01</td>\n",
              "      <td id=\"T_b213b_row4_col3\" class=\"data row4 col3\" >0.31</td>\n",
              "      <td id=\"T_b213b_row4_col4\" class=\"data row4 col4\" >1.00</td>\n",
              "      <td id=\"T_b213b_row4_col5\" class=\"data row4 col5\" >-0.19</td>\n",
              "      <td id=\"T_b213b_row4_col6\" class=\"data row4 col6\" >0.19</td>\n",
              "      <td id=\"T_b213b_row4_col7\" class=\"data row4 col7\" >0.42</td>\n",
              "      <td id=\"T_b213b_row4_col8\" class=\"data row4 col8\" >-0.42</td>\n",
              "      <td id=\"T_b213b_row4_col9\" class=\"data row4 col9\" >-0.13</td>\n",
              "      <td id=\"T_b213b_row4_col10\" class=\"data row4 col10\" >-0.24</td>\n",
              "      <td id=\"T_b213b_row4_col11\" class=\"data row4 col11\" >-0.28</td>\n",
              "      <td id=\"T_b213b_row4_col12\" class=\"data row4 col12\" >0.44</td>\n",
              "      <td id=\"T_b213b_row4_col13\" class=\"data row4 col13\" >-0.25</td>\n",
              "      <td id=\"T_b213b_row4_col14\" class=\"data row4 col14\" >0.20</td>\n",
              "      <td id=\"T_b213b_row4_col15\" class=\"data row4 col15\" >-0.24</td>\n",
              "      <td id=\"T_b213b_row4_col16\" class=\"data row4 col16\" >0.27</td>\n",
              "      <td id=\"T_b213b_row4_col17\" class=\"data row4 col17\" >-0.39</td>\n",
              "    </tr>\n",
              "    <tr>\n",
              "      <th id=\"T_b213b_level0_row5\" class=\"row_heading level0 row5\" >io_t</th>\n",
              "      <td id=\"T_b213b_row5_col0\" class=\"data row5 col0\" >0.00</td>\n",
              "      <td id=\"T_b213b_row5_col1\" class=\"data row5 col1\" >0.10</td>\n",
              "      <td id=\"T_b213b_row5_col2\" class=\"data row5 col2\" >0.00</td>\n",
              "      <td id=\"T_b213b_row5_col3\" class=\"data row5 col3\" >0.17</td>\n",
              "      <td id=\"T_b213b_row5_col4\" class=\"data row5 col4\" >-0.19</td>\n",
              "      <td id=\"T_b213b_row5_col5\" class=\"data row5 col5\" >1.00</td>\n",
              "      <td id=\"T_b213b_row5_col6\" class=\"data row5 col6\" >-1.00</td>\n",
              "      <td id=\"T_b213b_row5_col7\" class=\"data row5 col7\" >-0.12</td>\n",
              "      <td id=\"T_b213b_row5_col8\" class=\"data row5 col8\" >0.12</td>\n",
              "      <td id=\"T_b213b_row5_col9\" class=\"data row5 col9\" >-0.32</td>\n",
              "      <td id=\"T_b213b_row5_col10\" class=\"data row5 col10\" >0.26</td>\n",
              "      <td id=\"T_b213b_row5_col11\" class=\"data row5 col11\" >0.39</td>\n",
              "      <td id=\"T_b213b_row5_col12\" class=\"data row5 col12\" >0.27</td>\n",
              "      <td id=\"T_b213b_row5_col13\" class=\"data row5 col13\" >0.27</td>\n",
              "      <td id=\"T_b213b_row5_col14\" class=\"data row5 col14\" >0.39</td>\n",
              "      <td id=\"T_b213b_row5_col15\" class=\"data row5 col15\" >0.26</td>\n",
              "      <td id=\"T_b213b_row5_col16\" class=\"data row5 col16\" >-0.81</td>\n",
              "      <td id=\"T_b213b_row5_col17\" class=\"data row5 col17\" >0.91</td>\n",
              "    </tr>\n",
              "    <tr>\n",
              "      <th id=\"T_b213b_level0_row6\" class=\"row_heading level0 row6\" >lte_5g</th>\n",
              "      <td id=\"T_b213b_row6_col0\" class=\"data row6 col0\" >-0.00</td>\n",
              "      <td id=\"T_b213b_row6_col1\" class=\"data row6 col1\" >-0.10</td>\n",
              "      <td id=\"T_b213b_row6_col2\" class=\"data row6 col2\" >-0.00</td>\n",
              "      <td id=\"T_b213b_row6_col3\" class=\"data row6 col3\" >-0.17</td>\n",
              "      <td id=\"T_b213b_row6_col4\" class=\"data row6 col4\" >0.19</td>\n",
              "      <td id=\"T_b213b_row6_col5\" class=\"data row6 col5\" >-1.00</td>\n",
              "      <td id=\"T_b213b_row6_col6\" class=\"data row6 col6\" >1.00</td>\n",
              "      <td id=\"T_b213b_row6_col7\" class=\"data row6 col7\" >0.12</td>\n",
              "      <td id=\"T_b213b_row6_col8\" class=\"data row6 col8\" >-0.12</td>\n",
              "      <td id=\"T_b213b_row6_col9\" class=\"data row6 col9\" >0.32</td>\n",
              "      <td id=\"T_b213b_row6_col10\" class=\"data row6 col10\" >-0.26</td>\n",
              "      <td id=\"T_b213b_row6_col11\" class=\"data row6 col11\" >-0.39</td>\n",
              "      <td id=\"T_b213b_row6_col12\" class=\"data row6 col12\" >-0.27</td>\n",
              "      <td id=\"T_b213b_row6_col13\" class=\"data row6 col13\" >-0.27</td>\n",
              "      <td id=\"T_b213b_row6_col14\" class=\"data row6 col14\" >-0.39</td>\n",
              "      <td id=\"T_b213b_row6_col15\" class=\"data row6 col15\" >-0.26</td>\n",
              "      <td id=\"T_b213b_row6_col16\" class=\"data row6 col16\" >0.81</td>\n",
              "      <td id=\"T_b213b_row6_col17\" class=\"data row6 col17\" >-0.91</td>\n",
              "    </tr>\n",
              "    <tr>\n",
              "      <th id=\"T_b213b_level0_row7\" class=\"row_heading level0 row7\" >gbr</th>\n",
              "      <td id=\"T_b213b_row7_col0\" class=\"data row7 col0\" >0.00</td>\n",
              "      <td id=\"T_b213b_row7_col1\" class=\"data row7 col1\" >-0.01</td>\n",
              "      <td id=\"T_b213b_row7_col2\" class=\"data row7 col2\" >-0.01</td>\n",
              "      <td id=\"T_b213b_row7_col3\" class=\"data row7 col3\" >-0.02</td>\n",
              "      <td id=\"T_b213b_row7_col4\" class=\"data row7 col4\" >0.42</td>\n",
              "      <td id=\"T_b213b_row7_col5\" class=\"data row7 col5\" >-0.12</td>\n",
              "      <td id=\"T_b213b_row7_col6\" class=\"data row7 col6\" >0.12</td>\n",
              "      <td id=\"T_b213b_row7_col7\" class=\"data row7 col7\" >1.00</td>\n",
              "      <td id=\"T_b213b_row7_col8\" class=\"data row7 col8\" >-1.00</td>\n",
              "      <td id=\"T_b213b_row7_col9\" class=\"data row7 col9\" >0.04</td>\n",
              "      <td id=\"T_b213b_row7_col10\" class=\"data row7 col10\" >-0.21</td>\n",
              "      <td id=\"T_b213b_row7_col11\" class=\"data row7 col11\" >0.05</td>\n",
              "      <td id=\"T_b213b_row7_col12\" class=\"data row7 col12\" >0.28</td>\n",
              "      <td id=\"T_b213b_row7_col13\" class=\"data row7 col13\" >-0.22</td>\n",
              "      <td id=\"T_b213b_row7_col14\" class=\"data row7 col14\" >0.04</td>\n",
              "      <td id=\"T_b213b_row7_col15\" class=\"data row7 col15\" >-0.22</td>\n",
              "      <td id=\"T_b213b_row7_col16\" class=\"data row7 col16\" >0.10</td>\n",
              "      <td id=\"T_b213b_row7_col17\" class=\"data row7 col17\" >-0.32</td>\n",
              "    </tr>\n",
              "    <tr>\n",
              "      <th id=\"T_b213b_level0_row8\" class=\"row_heading level0 row8\" >non_gbr</th>\n",
              "      <td id=\"T_b213b_row8_col0\" class=\"data row8 col0\" >-0.00</td>\n",
              "      <td id=\"T_b213b_row8_col1\" class=\"data row8 col1\" >0.01</td>\n",
              "      <td id=\"T_b213b_row8_col2\" class=\"data row8 col2\" >0.01</td>\n",
              "      <td id=\"T_b213b_row8_col3\" class=\"data row8 col3\" >0.02</td>\n",
              "      <td id=\"T_b213b_row8_col4\" class=\"data row8 col4\" >-0.42</td>\n",
              "      <td id=\"T_b213b_row8_col5\" class=\"data row8 col5\" >0.12</td>\n",
              "      <td id=\"T_b213b_row8_col6\" class=\"data row8 col6\" >-0.12</td>\n",
              "      <td id=\"T_b213b_row8_col7\" class=\"data row8 col7\" >-1.00</td>\n",
              "      <td id=\"T_b213b_row8_col8\" class=\"data row8 col8\" >1.00</td>\n",
              "      <td id=\"T_b213b_row8_col9\" class=\"data row8 col9\" >-0.04</td>\n",
              "      <td id=\"T_b213b_row8_col10\" class=\"data row8 col10\" >0.21</td>\n",
              "      <td id=\"T_b213b_row8_col11\" class=\"data row8 col11\" >-0.05</td>\n",
              "      <td id=\"T_b213b_row8_col12\" class=\"data row8 col12\" >-0.28</td>\n",
              "      <td id=\"T_b213b_row8_col13\" class=\"data row8 col13\" >0.22</td>\n",
              "      <td id=\"T_b213b_row8_col14\" class=\"data row8 col14\" >-0.04</td>\n",
              "      <td id=\"T_b213b_row8_col15\" class=\"data row8 col15\" >0.22</td>\n",
              "      <td id=\"T_b213b_row8_col16\" class=\"data row8 col16\" >-0.10</td>\n",
              "      <td id=\"T_b213b_row8_col17\" class=\"data row8 col17\" >0.32</td>\n",
              "    </tr>\n",
              "    <tr>\n",
              "      <th id=\"T_b213b_level0_row9\" class=\"row_heading level0 row9\" >ar_vr_gaming</th>\n",
              "      <td id=\"T_b213b_row9_col0\" class=\"data row9 col0\" >-0.01</td>\n",
              "      <td id=\"T_b213b_row9_col1\" class=\"data row9 col1\" >-0.03</td>\n",
              "      <td id=\"T_b213b_row9_col2\" class=\"data row9 col2\" >-0.00</td>\n",
              "      <td id=\"T_b213b_row9_col3\" class=\"data row9 col3\" >-0.17</td>\n",
              "      <td id=\"T_b213b_row9_col4\" class=\"data row9 col4\" >-0.13</td>\n",
              "      <td id=\"T_b213b_row9_col5\" class=\"data row9 col5\" >-0.32</td>\n",
              "      <td id=\"T_b213b_row9_col6\" class=\"data row9 col6\" >0.32</td>\n",
              "      <td id=\"T_b213b_row9_col7\" class=\"data row9 col7\" >0.04</td>\n",
              "      <td id=\"T_b213b_row9_col8\" class=\"data row9 col8\" >-0.04</td>\n",
              "      <td id=\"T_b213b_row9_col9\" class=\"data row9 col9\" >1.00</td>\n",
              "      <td id=\"T_b213b_row9_col10\" class=\"data row9 col10\" >-0.08</td>\n",
              "      <td id=\"T_b213b_row9_col11\" class=\"data row9 col11\" >-0.12</td>\n",
              "      <td id=\"T_b213b_row9_col12\" class=\"data row9 col12\" >-0.09</td>\n",
              "      <td id=\"T_b213b_row9_col13\" class=\"data row9 col13\" >-0.09</td>\n",
              "      <td id=\"T_b213b_row9_col14\" class=\"data row9 col14\" >-0.13</td>\n",
              "      <td id=\"T_b213b_row9_col15\" class=\"data row9 col15\" >-0.08</td>\n",
              "      <td id=\"T_b213b_row9_col16\" class=\"data row9 col16\" >-0.30</td>\n",
              "      <td id=\"T_b213b_row9_col17\" class=\"data row9 col17\" >-0.29</td>\n",
              "    </tr>\n",
              "    <tr>\n",
              "      <th id=\"T_b213b_level0_row10\" class=\"row_heading level0 row10\" >healthcare</th>\n",
              "      <td id=\"T_b213b_row10_col0\" class=\"data row10 col0\" >-0.01</td>\n",
              "      <td id=\"T_b213b_row10_col1\" class=\"data row10 col1\" >0.02</td>\n",
              "      <td id=\"T_b213b_row10_col2\" class=\"data row10 col2\" >-0.01</td>\n",
              "      <td id=\"T_b213b_row10_col3\" class=\"data row10 col3\" >-0.17</td>\n",
              "      <td id=\"T_b213b_row10_col4\" class=\"data row10 col4\" >-0.24</td>\n",
              "      <td id=\"T_b213b_row10_col5\" class=\"data row10 col5\" >0.26</td>\n",
              "      <td id=\"T_b213b_row10_col6\" class=\"data row10 col6\" >-0.26</td>\n",
              "      <td id=\"T_b213b_row10_col7\" class=\"data row10 col7\" >-0.21</td>\n",
              "      <td id=\"T_b213b_row10_col8\" class=\"data row10 col8\" >0.21</td>\n",
              "      <td id=\"T_b213b_row10_col9\" class=\"data row10 col9\" >-0.08</td>\n",
              "      <td id=\"T_b213b_row10_col10\" class=\"data row10 col10\" >1.00</td>\n",
              "      <td id=\"T_b213b_row10_col11\" class=\"data row10 col11\" >-0.09</td>\n",
              "      <td id=\"T_b213b_row10_col12\" class=\"data row10 col12\" >-0.06</td>\n",
              "      <td id=\"T_b213b_row10_col13\" class=\"data row10 col13\" >-0.06</td>\n",
              "      <td id=\"T_b213b_row10_col14\" class=\"data row10 col14\" >-0.09</td>\n",
              "      <td id=\"T_b213b_row10_col15\" class=\"data row10 col15\" >-0.06</td>\n",
              "      <td id=\"T_b213b_row10_col16\" class=\"data row10 col16\" >-0.21</td>\n",
              "      <td id=\"T_b213b_row10_col17\" class=\"data row10 col17\" >0.39</td>\n",
              "    </tr>\n",
              "    <tr>\n",
              "      <th id=\"T_b213b_level0_row11\" class=\"row_heading level0 row11\" >industry_4_0</th>\n",
              "      <td id=\"T_b213b_row11_col0\" class=\"data row11 col0\" >-0.01</td>\n",
              "      <td id=\"T_b213b_row11_col1\" class=\"data row11 col1\" >0.05</td>\n",
              "      <td id=\"T_b213b_row11_col2\" class=\"data row11 col2\" >0.00</td>\n",
              "      <td id=\"T_b213b_row11_col3\" class=\"data row11 col3\" >-0.22</td>\n",
              "      <td id=\"T_b213b_row11_col4\" class=\"data row11 col4\" >-0.28</td>\n",
              "      <td id=\"T_b213b_row11_col5\" class=\"data row11 col5\" >0.39</td>\n",
              "      <td id=\"T_b213b_row11_col6\" class=\"data row11 col6\" >-0.39</td>\n",
              "      <td id=\"T_b213b_row11_col7\" class=\"data row11 col7\" >0.05</td>\n",
              "      <td id=\"T_b213b_row11_col8\" class=\"data row11 col8\" >-0.05</td>\n",
              "      <td id=\"T_b213b_row11_col9\" class=\"data row11 col9\" >-0.12</td>\n",
              "      <td id=\"T_b213b_row11_col10\" class=\"data row11 col10\" >-0.09</td>\n",
              "      <td id=\"T_b213b_row11_col11\" class=\"data row11 col11\" >1.00</td>\n",
              "      <td id=\"T_b213b_row11_col12\" class=\"data row11 col12\" >-0.09</td>\n",
              "      <td id=\"T_b213b_row11_col13\" class=\"data row11 col13\" >-0.09</td>\n",
              "      <td id=\"T_b213b_row11_col14\" class=\"data row11 col14\" >-0.13</td>\n",
              "      <td id=\"T_b213b_row11_col15\" class=\"data row11 col15\" >-0.09</td>\n",
              "      <td id=\"T_b213b_row11_col16\" class=\"data row11 col16\" >-0.31</td>\n",
              "      <td id=\"T_b213b_row11_col17\" class=\"data row11 col17\" >0.35</td>\n",
              "    </tr>\n",
              "    <tr>\n",
              "      <th id=\"T_b213b_level0_row12\" class=\"row_heading level0 row12\" >io_t_devices</th>\n",
              "      <td id=\"T_b213b_row12_col0\" class=\"data row12 col0\" >0.00</td>\n",
              "      <td id=\"T_b213b_row12_col1\" class=\"data row12 col1\" >0.02</td>\n",
              "      <td id=\"T_b213b_row12_col2\" class=\"data row12 col2\" >-0.00</td>\n",
              "      <td id=\"T_b213b_row12_col3\" class=\"data row12 col3\" >0.39</td>\n",
              "      <td id=\"T_b213b_row12_col4\" class=\"data row12 col4\" >0.44</td>\n",
              "      <td id=\"T_b213b_row12_col5\" class=\"data row12 col5\" >0.27</td>\n",
              "      <td id=\"T_b213b_row12_col6\" class=\"data row12 col6\" >-0.27</td>\n",
              "      <td id=\"T_b213b_row12_col7\" class=\"data row12 col7\" >0.28</td>\n",
              "      <td id=\"T_b213b_row12_col8\" class=\"data row12 col8\" >-0.28</td>\n",
              "      <td id=\"T_b213b_row12_col9\" class=\"data row12 col9\" >-0.09</td>\n",
              "      <td id=\"T_b213b_row12_col10\" class=\"data row12 col10\" >-0.06</td>\n",
              "      <td id=\"T_b213b_row12_col11\" class=\"data row12 col11\" >-0.09</td>\n",
              "      <td id=\"T_b213b_row12_col12\" class=\"data row12 col12\" >1.00</td>\n",
              "      <td id=\"T_b213b_row12_col13\" class=\"data row12 col13\" >-0.06</td>\n",
              "      <td id=\"T_b213b_row12_col14\" class=\"data row12 col14\" >-0.09</td>\n",
              "      <td id=\"T_b213b_row12_col15\" class=\"data row12 col15\" >-0.06</td>\n",
              "      <td id=\"T_b213b_row12_col16\" class=\"data row12 col16\" >-0.21</td>\n",
              "      <td id=\"T_b213b_row12_col17\" class=\"data row12 col17\" >0.09</td>\n",
              "    </tr>\n",
              "    <tr>\n",
              "      <th id=\"T_b213b_level0_row13\" class=\"row_heading level0 row13\" >public_safety</th>\n",
              "      <td id=\"T_b213b_row13_col0\" class=\"data row13 col0\" >0.00</td>\n",
              "      <td id=\"T_b213b_row13_col1\" class=\"data row13 col1\" >0.02</td>\n",
              "      <td id=\"T_b213b_row13_col2\" class=\"data row13 col2\" >0.00</td>\n",
              "      <td id=\"T_b213b_row13_col3\" class=\"data row13 col3\" >-0.18</td>\n",
              "      <td id=\"T_b213b_row13_col4\" class=\"data row13 col4\" >-0.25</td>\n",
              "      <td id=\"T_b213b_row13_col5\" class=\"data row13 col5\" >0.27</td>\n",
              "      <td id=\"T_b213b_row13_col6\" class=\"data row13 col6\" >-0.27</td>\n",
              "      <td id=\"T_b213b_row13_col7\" class=\"data row13 col7\" >-0.22</td>\n",
              "      <td id=\"T_b213b_row13_col8\" class=\"data row13 col8\" >0.22</td>\n",
              "      <td id=\"T_b213b_row13_col9\" class=\"data row13 col9\" >-0.09</td>\n",
              "      <td id=\"T_b213b_row13_col10\" class=\"data row13 col10\" >-0.06</td>\n",
              "      <td id=\"T_b213b_row13_col11\" class=\"data row13 col11\" >-0.09</td>\n",
              "      <td id=\"T_b213b_row13_col12\" class=\"data row13 col12\" >-0.06</td>\n",
              "      <td id=\"T_b213b_row13_col13\" class=\"data row13 col13\" >1.00</td>\n",
              "      <td id=\"T_b213b_row13_col14\" class=\"data row13 col14\" >-0.09</td>\n",
              "      <td id=\"T_b213b_row13_col15\" class=\"data row13 col15\" >-0.06</td>\n",
              "      <td id=\"T_b213b_row13_col16\" class=\"data row13 col16\" >-0.22</td>\n",
              "      <td id=\"T_b213b_row13_col17\" class=\"data row13 col17\" >0.40</td>\n",
              "    </tr>\n",
              "    <tr>\n",
              "      <th id=\"T_b213b_level0_row14\" class=\"row_heading level0 row14\" >smart_city_and_home</th>\n",
              "      <td id=\"T_b213b_row14_col0\" class=\"data row14 col0\" >0.01</td>\n",
              "      <td id=\"T_b213b_row14_col1\" class=\"data row14 col1\" >0.05</td>\n",
              "      <td id=\"T_b213b_row14_col2\" class=\"data row14 col2\" >0.01</td>\n",
              "      <td id=\"T_b213b_row14_col3\" class=\"data row14 col3\" >0.58</td>\n",
              "      <td id=\"T_b213b_row14_col4\" class=\"data row14 col4\" >0.20</td>\n",
              "      <td id=\"T_b213b_row14_col5\" class=\"data row14 col5\" >0.39</td>\n",
              "      <td id=\"T_b213b_row14_col6\" class=\"data row14 col6\" >-0.39</td>\n",
              "      <td id=\"T_b213b_row14_col7\" class=\"data row14 col7\" >0.04</td>\n",
              "      <td id=\"T_b213b_row14_col8\" class=\"data row14 col8\" >-0.04</td>\n",
              "      <td id=\"T_b213b_row14_col9\" class=\"data row14 col9\" >-0.13</td>\n",
              "      <td id=\"T_b213b_row14_col10\" class=\"data row14 col10\" >-0.09</td>\n",
              "      <td id=\"T_b213b_row14_col11\" class=\"data row14 col11\" >-0.13</td>\n",
              "      <td id=\"T_b213b_row14_col12\" class=\"data row14 col12\" >-0.09</td>\n",
              "      <td id=\"T_b213b_row14_col13\" class=\"data row14 col13\" >-0.09</td>\n",
              "      <td id=\"T_b213b_row14_col14\" class=\"data row14 col14\" >1.00</td>\n",
              "      <td id=\"T_b213b_row14_col15\" class=\"data row14 col15\" >-0.09</td>\n",
              "      <td id=\"T_b213b_row14_col16\" class=\"data row14 col16\" >-0.32</td>\n",
              "      <td id=\"T_b213b_row14_col17\" class=\"data row14 col17\" >0.14</td>\n",
              "    </tr>\n",
              "    <tr>\n",
              "      <th id=\"T_b213b_level0_row15\" class=\"row_heading level0 row15\" >smart_transportation</th>\n",
              "      <td id=\"T_b213b_row15_col0\" class=\"data row15 col0\" >-0.00</td>\n",
              "      <td id=\"T_b213b_row15_col1\" class=\"data row15 col1\" >0.02</td>\n",
              "      <td id=\"T_b213b_row15_col2\" class=\"data row15 col2\" >-0.00</td>\n",
              "      <td id=\"T_b213b_row15_col3\" class=\"data row15 col3\" >-0.18</td>\n",
              "      <td id=\"T_b213b_row15_col4\" class=\"data row15 col4\" >-0.24</td>\n",
              "      <td id=\"T_b213b_row15_col5\" class=\"data row15 col5\" >0.26</td>\n",
              "      <td id=\"T_b213b_row15_col6\" class=\"data row15 col6\" >-0.26</td>\n",
              "      <td id=\"T_b213b_row15_col7\" class=\"data row15 col7\" >-0.22</td>\n",
              "      <td id=\"T_b213b_row15_col8\" class=\"data row15 col8\" >0.22</td>\n",
              "      <td id=\"T_b213b_row15_col9\" class=\"data row15 col9\" >-0.08</td>\n",
              "      <td id=\"T_b213b_row15_col10\" class=\"data row15 col10\" >-0.06</td>\n",
              "      <td id=\"T_b213b_row15_col11\" class=\"data row15 col11\" >-0.09</td>\n",
              "      <td id=\"T_b213b_row15_col12\" class=\"data row15 col12\" >-0.06</td>\n",
              "      <td id=\"T_b213b_row15_col13\" class=\"data row15 col13\" >-0.06</td>\n",
              "      <td id=\"T_b213b_row15_col14\" class=\"data row15 col14\" >-0.09</td>\n",
              "      <td id=\"T_b213b_row15_col15\" class=\"data row15 col15\" >1.00</td>\n",
              "      <td id=\"T_b213b_row15_col16\" class=\"data row15 col16\" >-0.21</td>\n",
              "      <td id=\"T_b213b_row15_col17\" class=\"data row15 col17\" >0.39</td>\n",
              "    </tr>\n",
              "    <tr>\n",
              "      <th id=\"T_b213b_level0_row16\" class=\"row_heading level0 row16\" >smartphone</th>\n",
              "      <td id=\"T_b213b_row16_col0\" class=\"data row16 col0\" >0.00</td>\n",
              "      <td id=\"T_b213b_row16_col1\" class=\"data row16 col1\" >-0.08</td>\n",
              "      <td id=\"T_b213b_row16_col2\" class=\"data row16 col2\" >0.00</td>\n",
              "      <td id=\"T_b213b_row16_col3\" class=\"data row16 col3\" >-0.07</td>\n",
              "      <td id=\"T_b213b_row16_col4\" class=\"data row16 col4\" >0.27</td>\n",
              "      <td id=\"T_b213b_row16_col5\" class=\"data row16 col5\" >-0.81</td>\n",
              "      <td id=\"T_b213b_row16_col6\" class=\"data row16 col6\" >0.81</td>\n",
              "      <td id=\"T_b213b_row16_col7\" class=\"data row16 col7\" >0.10</td>\n",
              "      <td id=\"T_b213b_row16_col8\" class=\"data row16 col8\" >-0.10</td>\n",
              "      <td id=\"T_b213b_row16_col9\" class=\"data row16 col9\" >-0.30</td>\n",
              "      <td id=\"T_b213b_row16_col10\" class=\"data row16 col10\" >-0.21</td>\n",
              "      <td id=\"T_b213b_row16_col11\" class=\"data row16 col11\" >-0.31</td>\n",
              "      <td id=\"T_b213b_row16_col12\" class=\"data row16 col12\" >-0.21</td>\n",
              "      <td id=\"T_b213b_row16_col13\" class=\"data row16 col13\" >-0.22</td>\n",
              "      <td id=\"T_b213b_row16_col14\" class=\"data row16 col14\" >-0.32</td>\n",
              "      <td id=\"T_b213b_row16_col15\" class=\"data row16 col15\" >-0.21</td>\n",
              "      <td id=\"T_b213b_row16_col16\" class=\"data row16 col16\" >1.00</td>\n",
              "      <td id=\"T_b213b_row16_col17\" class=\"data row16 col17\" >-0.73</td>\n",
              "    </tr>\n",
              "    <tr>\n",
              "      <th id=\"T_b213b_level0_row17\" class=\"row_heading level0 row17\" >slice_type</th>\n",
              "      <td id=\"T_b213b_row17_col0\" class=\"data row17 col0\" >-0.00</td>\n",
              "      <td id=\"T_b213b_row17_col1\" class=\"data row17 col1\" >0.08</td>\n",
              "      <td id=\"T_b213b_row17_col2\" class=\"data row17 col2\" >-0.00</td>\n",
              "      <td id=\"T_b213b_row17_col3\" class=\"data row17 col3\" >-0.10</td>\n",
              "      <td id=\"T_b213b_row17_col4\" class=\"data row17 col4\" >-0.39</td>\n",
              "      <td id=\"T_b213b_row17_col5\" class=\"data row17 col5\" >0.91</td>\n",
              "      <td id=\"T_b213b_row17_col6\" class=\"data row17 col6\" >-0.91</td>\n",
              "      <td id=\"T_b213b_row17_col7\" class=\"data row17 col7\" >-0.32</td>\n",
              "      <td id=\"T_b213b_row17_col8\" class=\"data row17 col8\" >0.32</td>\n",
              "      <td id=\"T_b213b_row17_col9\" class=\"data row17 col9\" >-0.29</td>\n",
              "      <td id=\"T_b213b_row17_col10\" class=\"data row17 col10\" >0.39</td>\n",
              "      <td id=\"T_b213b_row17_col11\" class=\"data row17 col11\" >0.35</td>\n",
              "      <td id=\"T_b213b_row17_col12\" class=\"data row17 col12\" >0.09</td>\n",
              "      <td id=\"T_b213b_row17_col13\" class=\"data row17 col13\" >0.40</td>\n",
              "      <td id=\"T_b213b_row17_col14\" class=\"data row17 col14\" >0.14</td>\n",
              "      <td id=\"T_b213b_row17_col15\" class=\"data row17 col15\" >0.39</td>\n",
              "      <td id=\"T_b213b_row17_col16\" class=\"data row17 col16\" >-0.73</td>\n",
              "      <td id=\"T_b213b_row17_col17\" class=\"data row17 col17\" >1.00</td>\n",
              "    </tr>\n",
              "  </tbody>\n",
              "</table>\n"
            ]
          },
          "metadata": {},
          "execution_count": 38
        }
      ]
    },
    {
      "cell_type": "code",
      "source": [
        "train_dataset.columns"
      ],
      "metadata": {
        "colab": {
          "base_uri": "https://localhost:8080/"
        },
        "id": "vknmDAh5KPh8",
        "outputId": "9e299203-2a45-4e83-939d-ff2a61414609"
      },
      "execution_count": 39,
      "outputs": [
        {
          "output_type": "execute_result",
          "data": {
            "text/plain": [
              "Index(['id', 'lte_5g_category', 'time', 'packet_loss_rate', 'packet_delay',\n",
              "       'io_t', 'lte_5g', 'gbr', 'non_gbr', 'ar_vr_gaming', 'healthcare',\n",
              "       'industry_4_0', 'io_t_devices', 'public_safety', 'smart_city_and_home',\n",
              "       'smart_transportation', 'smartphone', 'slice_type'],\n",
              "      dtype='object')"
            ]
          },
          "metadata": {},
          "execution_count": 39
        }
      ]
    },
    {
      "cell_type": "code",
      "source": [
        "# Checking for outliers in the continuous variables\n",
        "num_train_dataset = train_dataset[['id', 'lte_5g_category', 'time', 'packet_loss_rate', 'packet_delay',\n",
        "       'io_t', 'lte_5g', 'gbr', 'non_gbr', 'ar_vr_gaming', 'healthcare',\n",
        "       'industry_4_0', 'io_t_devices', 'public_safety', 'smart_city_and_home',\n",
        "       'smart_transportation', 'smartphone', 'slice_type']]\n"
      ],
      "metadata": {
        "id": "ggo7SUB-KVXZ"
      },
      "execution_count": 40,
      "outputs": []
    },
    {
      "cell_type": "code",
      "source": [
        "train_dataset['slice_type'].value_counts()"
      ],
      "metadata": {
        "colab": {
          "base_uri": "https://localhost:8080/"
        },
        "id": "n7MZqbuRKfRX",
        "outputId": "f4e3356d-2543-47a6-f9cb-479cca82af68"
      },
      "execution_count": 41,
      "outputs": [
        {
          "output_type": "execute_result",
          "data": {
            "text/plain": [
              "1    9839\n",
              "2    4294\n",
              "3    4240\n",
              "Name: slice_type, dtype: int64"
            ]
          },
          "metadata": {},
          "execution_count": 41
        }
      ]
    },
    {
      "cell_type": "code",
      "source": [
        "train_dataset.columns"
      ],
      "metadata": {
        "colab": {
          "base_uri": "https://localhost:8080/"
        },
        "id": "1ECyfDA1Lmtz",
        "outputId": "1f68e2d2-5842-47ee-bcfd-af00c89f7d22"
      },
      "execution_count": 42,
      "outputs": [
        {
          "output_type": "execute_result",
          "data": {
            "text/plain": [
              "Index(['id', 'lte_5g_category', 'time', 'packet_loss_rate', 'packet_delay',\n",
              "       'io_t', 'lte_5g', 'gbr', 'non_gbr', 'ar_vr_gaming', 'healthcare',\n",
              "       'industry_4_0', 'io_t_devices', 'public_safety', 'smart_city_and_home',\n",
              "       'smart_transportation', 'smartphone', 'slice_type'],\n",
              "      dtype='object')"
            ]
          },
          "metadata": {},
          "execution_count": 42
        }
      ]
    },
    {
      "cell_type": "code",
      "source": [
        "y_train = train_dataset['slice_type']\n",
        "x_train = train_dataset.drop('slice_type', axis = 1)\n",
        "y_test = test_dataset['slice_type']\n",
        "x_test = test_dataset.drop('slice_type', axis = 1)"
      ],
      "metadata": {
        "id": "j850Zc65LqCL"
      },
      "execution_count": 43,
      "outputs": []
    },
    {
      "cell_type": "code",
      "source": [
        "from sklearn.ensemble import ExtraTreesClassifier\n",
        "extra_tree_forest = ExtraTreesClassifier(n_estimators = 5,\n",
        "                                        criterion ='entropy', max_features = 2)\n",
        "extra_tree_forest.fit(x_train, y_train)\n",
        "feature_importance = extra_tree_forest.feature_importances_\n",
        "feature_importance_normalized = np.std([tree.feature_importances_ for tree in\n",
        "                                        extra_tree_forest.estimators_],\n",
        "                                        axis = 0)"
      ],
      "metadata": {
        "id": "-RFZIMjpLsQH"
      },
      "execution_count": 44,
      "outputs": []
    },
    {
      "cell_type": "code",
      "source": [
        "import matplotlib.pyplot as plt"
      ],
      "metadata": {
        "id": "yl_0s1TwLuwZ"
      },
      "execution_count": 45,
      "outputs": []
    },
    {
      "cell_type": "code",
      "source": [
        "feature_importance_normalized"
      ],
      "metadata": {
        "colab": {
          "base_uri": "https://localhost:8080/"
        },
        "id": "W89tz1GbLw6B",
        "outputId": "1fcc87c3-f62a-4d3e-9f82-2639a930f5c7"
      },
      "execution_count": 46,
      "outputs": [
        {
          "output_type": "execute_result",
          "data": {
            "text/plain": [
              "array([0.00000000e+00, 0.00000000e+00, 1.72660354e-05, 8.70177097e-02,\n",
              "       1.85906606e-01, 1.75026484e-01, 2.50351600e-01, 7.80310584e-02,\n",
              "       8.50223699e-02, 8.97766063e-02, 0.00000000e+00, 2.20555329e-02,\n",
              "       0.00000000e+00, 2.62057558e-02, 6.46563362e-02, 2.96450142e-02,\n",
              "       1.34951710e-01])"
            ]
          },
          "metadata": {},
          "execution_count": 46
        }
      ]
    },
    {
      "cell_type": "code",
      "source": [
        "plt.figure(figsize = [20,9])\n",
        "plt.bar(x_train.columns, feature_importance_normalized)\n",
        "plt.xlabel('Feature Labels')\n",
        "plt.ylabel('Feature Importances')\n",
        "plt.xticks(rotation = 90)\n",
        "plt.title('Comparison of different Feature Importances')\n",
        "plt.show()"
      ],
      "metadata": {
        "colab": {
          "base_uri": "https://localhost:8080/",
          "height": 584
        },
        "id": "G_144jZMLyzk",
        "outputId": "4e2cb432-a62a-4997-cfb9-4e2fc4fd646d"
      },
      "execution_count": 47,
      "outputs": [
        {
          "output_type": "display_data",
          "data": {
            "text/plain": [
              "<Figure size 2000x900 with 1 Axes>"
            ],
            "image/png": "[encoded data removed]"
          },
          "metadata": {}
        }
      ]
    },
    {
      "cell_type": "code",
      "source": [
        "x_train.columns"
      ],
      "metadata": {
        "colab": {
          "base_uri": "https://localhost:8080/"
        },
        "id": "KR3B_4QkL1rV",
        "outputId": "02e2da87-d59c-412f-f3fd-42697a2402b6"
      },
      "execution_count": 48,
      "outputs": [
        {
          "output_type": "execute_result",
          "data": {
            "text/plain": [
              "Index(['id', 'lte_5g_category', 'time', 'packet_loss_rate', 'packet_delay',\n",
              "       'io_t', 'lte_5g', 'gbr', 'non_gbr', 'ar_vr_gaming', 'healthcare',\n",
              "       'industry_4_0', 'io_t_devices', 'public_safety', 'smart_city_and_home',\n",
              "       'smart_transportation', 'smartphone'],\n",
              "      dtype='object')"
            ]
          },
          "metadata": {},
          "execution_count": 48
        }
      ]
    },
    {
      "cell_type": "code",
      "source": [
        "x_train2 = x_train[['lte_5g_category', 'packet_loss_rate', 'packet_delay',\n",
        "       'io_t', 'lte_5g', 'gbr', 'non_gbr', 'ar_vr_gaming', 'healthcare',\n",
        "       'industry_4_0', 'io_t_devices', 'public_safety', 'smart_city_and_home',\n",
        "       'smart_transportation', 'smartphone']]"
      ],
      "metadata": {
        "id": "TNqKmT-oL3l2"
      },
      "execution_count": 51,
      "outputs": []
    },
    {
      "cell_type": "code",
      "source": [
        "x_test2 = x_test[['lte_5g_category', 'packet_loss_rate', 'packet_delay',\n",
        "       'io_t', 'lte_5g', 'gbr', 'non_gbr', 'ar_vr_gaming', 'healthcare',\n",
        "       'industry_4_0', 'io_t_devices', 'public_safety', 'smart_city_and_home',\n",
        "       'smart_transportation', 'smartphone']]"
      ],
      "metadata": {
        "id": "sulci2ivLxgk"
      },
      "execution_count": 52,
      "outputs": []
    },
    {
      "cell_type": "code",
      "source": [
        "print(x_train2.shape, x_test2.shape)"
      ],
      "metadata": {
        "colab": {
          "base_uri": "https://localhost:8080/"
        },
        "id": "Z-Pgq2szMAw7",
        "outputId": "52a02bd8-2852-429d-e4ed-c0451b8615e9"
      },
      "execution_count": 53,
      "outputs": [
        {
          "output_type": "stream",
          "name": "stdout",
          "text": [
            "(18373, 15) (31584, 15)\n"
          ]
        }
      ]
    },
    {
      "cell_type": "code",
      "source": [
        "y_train.value_counts()"
      ],
      "metadata": {
        "colab": {
          "base_uri": "https://localhost:8080/"
        },
        "id": "3emIybOoMCZr",
        "outputId": "6ffff2be-d0f7-47dc-a3ca-afb951de2ecf"
      },
      "execution_count": 54,
      "outputs": [
        {
          "output_type": "execute_result",
          "data": {
            "text/plain": [
              "1    9839\n",
              "2    4294\n",
              "3    4240\n",
              "Name: slice_type, dtype: int64"
            ]
          },
          "metadata": {},
          "execution_count": 54
        }
      ]
    },
    {
      "cell_type": "code",
      "source": [
        "x_train2 = pd.DataFrame(x_train2)"
      ],
      "metadata": {
        "id": "V72RRUJXMFVt"
      },
      "execution_count": 55,
      "outputs": []
    },
    {
      "cell_type": "code",
      "source": [
        "x_train2.head(4)"
      ],
      "metadata": {
        "colab": {
          "base_uri": "https://localhost:8080/",
          "height": 195
        },
        "id": "YaFaC5mSMIXD",
        "outputId": "66243a93-c131-4999-a7b5-2a1d09653af6"
      },
      "execution_count": 56,
      "outputs": [
        {
          "output_type": "execute_result",
          "data": {
            "text/plain": [
              "   lte_5g_category  packet_loss_rate  packet_delay  io_t  lte_5g  gbr  \\\n",
              "0               14          0.000001            10     1       0    0   \n",
              "4                9          0.010000            50     1       0    0   \n",
              "5               19          0.000001            10     1       0    0   \n",
              "8                8          0.001000           150     0       1    0   \n",
              "\n",
              "   non_gbr  ar_vr_gaming  healthcare  industry_4_0  io_t_devices  \\\n",
              "0        1             0           0             0             0   \n",
              "4        1             0           0             0             0   \n",
              "5        1             0           0             1             0   \n",
              "8        1             0           0             0             0   \n",
              "\n",
              "   public_safety  smart_city_and_home  smart_transportation  smartphone  \n",
              "0              1                    0                     0           0  \n",
              "4              0                    1                     0           0  \n",
              "5              0                    0                     0           0  \n",
              "8              0                    0                     0           1  "
            ],
            "text/html": [
              "\n",
              "  <div id=\"df-0d8f0487-4cc7-450b-b712-28fd5e73af6e\" class=\"colab-df-container\">\n",
              "    <div>\n",
              "<style scoped>\n",
              "    .dataframe tbody tr th:only-of-type {\n",
              "        vertical-align: middle;\n",
              "    }\n",
              "\n",
              "    .dataframe tbody tr th {\n",
              "        vertical-align: top;\n",
              "    }\n",
              "\n",
              "    .dataframe thead th {\n",
              "        text-align: right;\n",
              "    }\n",
              "</style>\n",
              "<table border=\"1\" class=\"dataframe\">\n",
              "  <thead>\n",
              "    <tr style=\"text-align: right;\">\n",
              "      <th></th>\n",
              "      <th>lte_5g_category</th>\n",
              "      <th>packet_loss_rate</th>\n",
              "      <th>packet_delay</th>\n",
              "      <th>io_t</th>\n",
              "      <th>lte_5g</th>\n",
              "      <th>gbr</th>\n",
              "      <th>non_gbr</th>\n",
              "      <th>ar_vr_gaming</th>\n",
              "      <th>healthcare</th>\n",
              "      <th>industry_4_0</th>\n",
              "      <th>io_t_devices</th>\n",
              "      <th>public_safety</th>\n",
              "      <th>smart_city_and_home</th>\n",
              "      <th>smart_transportation</th>\n",
              "      <th>smartphone</th>\n",
              "    </tr>\n",
              "  </thead>\n",
              "  <tbody>\n",
              "    <tr>\n",
              "      <th>0</th>\n",
              "      <td>14</td>\n",
              "      <td>0.000001</td>\n",
              "      <td>10</td>\n",
              "      <td>1</td>\n",
              "      <td>0</td>\n",
              "      <td>0</td>\n",
              "      <td>1</td>\n",
              "      <td>0</td>\n",
              "      <td>0</td>\n",
              "      <td>0</td>\n",
              "      <td>0</td>\n",
              "      <td>1</td>\n",
              "      <td>0</td>\n",
              "      <td>0</td>\n",
              "      <td>0</td>\n",
              "    </tr>\n",
              "    <tr>\n",
              "      <th>4</th>\n",
              "      <td>9</td>\n",
              "      <td>0.010000</td>\n",
              "      <td>50</td>\n",
              "      <td>1</td>\n",
              "      <td>0</td>\n",
              "      <td>0</td>\n",
              "      <td>1</td>\n",
              "      <td>0</td>\n",
              "      <td>0</td>\n",
              "      <td>0</td>\n",
              "      <td>0</td>\n",
              "      <td>0</td>\n",
              "      <td>1</td>\n",
              "      <td>0</td>\n",
              "      <td>0</td>\n",
              "    </tr>\n",
              "    <tr>\n",
              "      <th>5</th>\n",
              "      <td>19</td>\n",
              "      <td>0.000001</td>\n",
              "      <td>10</td>\n",
              "      <td>1</td>\n",
              "      <td>0</td>\n",
              "      <td>0</td>\n",
              "      <td>1</td>\n",
              "      <td>0</td>\n",
              "      <td>0</td>\n",
              "      <td>1</td>\n",
              "      <td>0</td>\n",
              "      <td>0</td>\n",
              "      <td>0</td>\n",
              "      <td>0</td>\n",
              "      <td>0</td>\n",
              "    </tr>\n",
              "    <tr>\n",
              "      <th>8</th>\n",
              "      <td>8</td>\n",
              "      <td>0.001000</td>\n",
              "      <td>150</td>\n",
              "      <td>0</td>\n",
              "      <td>1</td>\n",
              "      <td>0</td>\n",
              "      <td>1</td>\n",
              "      <td>0</td>\n",
              "      <td>0</td>\n",
              "      <td>0</td>\n",
              "      <td>0</td>\n",
              "      <td>0</td>\n",
              "      <td>0</td>\n",
              "      <td>0</td>\n",
              "      <td>1</td>\n",
              "    </tr>\n",
              "  </tbody>\n",
              "</table>\n",
              "</div>\n",
              "    <div class=\"colab-df-buttons\">\n",
              "\n",
              "  <div class=\"colab-df-container\">\n",
              "    <button class=\"colab-df-convert\" onclick=\"convertToInteractive('df-0d8f0487-4cc7-450b-b712-28fd5e73af6e')\"\n",
              "            title=\"Convert this dataframe to an interactive table.\"\n",
              "            style=\"display:none;\">\n",
              "\n",
              "  <svg xmlns=\"http://www.w3.org/2000/svg\" height=\"24px\" viewBox=\"0 -960 960 960\">\n",
              "    <path d=\"M120-120v-720h720v720H120Zm60-500h600v-160H180v160Zm220 220h160v-160H400v160Zm0 220h160v-160H400v160ZM180-400h160v-160H180v160Zm440 0h160v-160H620v160ZM180-180h160v-160H180v160Zm440 0h160v-160H620v160Z\"/>\n",
              "  </svg>\n",
              "    </button>\n",
              "\n",
              "  <style>\n",
              "    .colab-df-container {\n",
              "      display:flex;\n",
              "      gap: 12px;\n",
              "    }\n",
              "\n",
              "    .colab-df-convert {\n",
              "      background-color: #E8F0FE;\n",
              "      border: none;\n",
              "      border-radius: 50%;\n",
              "      cursor: pointer;\n",
              "      display: none;\n",
              "      fill: #1967D2;\n",
              "      height: 32px;\n",
              "      padding: 0 0 0 0;\n",
              "      width: 32px;\n",
              "    }\n",
              "\n",
              "    .colab-df-convert:hover {\n",
              "      background-color: #E2EBFA;\n",
              "      box-shadow: 0px 1px 2px rgba(60, 64, 67, 0.3), 0px 1px 3px 1px rgba(60, 64, 67, 0.15);\n",
              "      fill: #174EA6;\n",
              "    }\n",
              "\n",
              "    .colab-df-buttons div {\n",
              "      margin-bottom: 4px;\n",
              "    }\n",
              "\n",
              "    [theme=dark] .colab-df-convert {\n",
              "      background-color: #3B4455;\n",
              "      fill: #D2E3FC;\n",
              "    }\n",
              "\n",
              "    [theme=dark] .colab-df-convert:hover {\n",
              "      background-color: #434B5C;\n",
              "      box-shadow: 0px 1px 3px 1px rgba(0, 0, 0, 0.15);\n",
              "      filter: drop-shadow(0px 1px 2px rgba(0, 0, 0, 0.3));\n",
              "      fill: #FFFFFF;\n",
              "    }\n",
              "  </style>\n",
              "\n",
              "    <script>\n",
              "      const buttonEl =\n",
              "        document.querySelector('#df-0d8f0487-4cc7-450b-b712-28fd5e73af6e button.colab-df-convert');\n",
              "      buttonEl.style.display =\n",
              "        google.colab.kernel.accessAllowed ? 'block' : 'none';\n",
              "\n",
              "      async function convertToInteractive(key) {\n",
              "        const element = document.querySelector('#df-0d8f0487-4cc7-450b-b712-28fd5e73af6e');\n",
              "        const dataTable =\n",
              "          await google.colab.kernel.invokeFunction('convertToInteractive',\n",
              "                                                    [key], {});\n",
              "        if (!dataTable) return;\n",
              "\n",
              "        const docLinkHtml = 'Like what you see? Visit the ' +\n",
              "          '<a target=\"_blank\" href=https://colab.research.google.com/notebooks/data_table.ipynb>data table notebook</a>'\n",
              "          + ' to learn more about interactive tables.';\n",
              "        element.innerHTML = '';\n",
              "        dataTable['output_type'] = 'display_data';\n",
              "        await google.colab.output.renderOutput(dataTable, element);\n",
              "        const docLink = document.createElement('div');\n",
              "        docLink.innerHTML = docLinkHtml;\n",
              "        element.appendChild(docLink);\n",
              "      }\n",
              "    </script>\n",
              "  </div>\n",
              "\n",
              "\n",
              "<div id=\"df-96f37923-f306-4642-9e46-b9cbb92ea476\">\n",
              "  <button class=\"colab-df-quickchart\" onclick=\"quickchart('df-96f37923-f306-4642-9e46-b9cbb92ea476')\"\n",
              "            title=\"Suggest charts\"\n",
              "            style=\"display:none;\">\n",
              "\n",
              "<svg xmlns=\"http://www.w3.org/2000/svg\" height=\"24px\"viewBox=\"0 0 24 24\"\n",
              "     width=\"24px\">\n",
              "    <g>\n",
              "        <path d=\"M19 3H5c-1.1 0-2 .9-2 2v14c0 1.1.9 2 2 2h14c1.1 0 2-.9 2-2V5c0-1.1-.9-2-2-2zM9 17H7v-7h2v7zm4 0h-2V7h2v10zm4 0h-2v-4h2v4z\"/>\n",
              "    </g>\n",
              "</svg>\n",
              "  </button>\n",
              "\n",
              "<style>\n",
              "  .colab-df-quickchart {\n",
              "      --bg-color: #E8F0FE;\n",
              "      --fill-color: #1967D2;\n",
              "      --hover-bg-color: #E2EBFA;\n",
              "      --hover-fill-color: #174EA6;\n",
              "      --disabled-fill-color: #AAA;\n",
              "      --disabled-bg-color: #DDD;\n",
              "  }\n",
              "\n",
              "  [theme=dark] .colab-df-quickchart {\n",
              "      --bg-color: #3B4455;\n",
              "      --fill-color: #D2E3FC;\n",
              "      --hover-bg-color: #434B5C;\n",
              "      --hover-fill-color: #FFFFFF;\n",
              "      --disabled-bg-color: #3B4455;\n",
              "      --disabled-fill-color: #666;\n",
              "  }\n",
              "\n",
              "  .colab-df-quickchart {\n",
              "    background-color: var(--bg-color);\n",
              "    border: none;\n",
              "    border-radius: 50%;\n",
              "    cursor: pointer;\n",
              "    display: none;\n",
              "    fill: var(--fill-color);\n",
              "    height: 32px;\n",
              "    padding: 0;\n",
              "    width: 32px;\n",
              "  }\n",
              "\n",
              "  .colab-df-quickchart:hover {\n",
              "    background-color: var(--hover-bg-color);\n",
              "    box-shadow: 0 1px 2px rgba(60, 64, 67, 0.3), 0 1px 3px 1px rgba(60, 64, 67, 0.15);\n",
              "    fill: var(--button-hover-fill-color);\n",
              "  }\n",
              "\n",
              "  .colab-df-quickchart-complete:disabled,\n",
              "  .colab-df-quickchart-complete:disabled:hover {\n",
              "    background-color: var(--disabled-bg-color);\n",
              "    fill: var(--disabled-fill-color);\n",
              "    box-shadow: none;\n",
              "  }\n",
              "\n",
              "  .colab-df-spinner {\n",
              "    border: 2px solid var(--fill-color);\n",
              "    border-color: transparent;\n",
              "    border-bottom-color: var(--fill-color);\n",
              "    animation:\n",
              "      spin 1s steps(1) infinite;\n",
              "  }\n",
              "\n",
              "  @keyframes spin {\n",
              "    0% {\n",
              "      border-color: transparent;\n",
              "      border-bottom-color: var(--fill-color);\n",
              "      border-left-color: var(--fill-color);\n",
              "    }\n",
              "    20% {\n",
              "      border-color: transparent;\n",
              "      border-left-color: var(--fill-color);\n",
              "      border-top-color: var(--fill-color);\n",
              "    }\n",
              "    30% {\n",
              "      border-color: transparent;\n",
              "      border-left-color: var(--fill-color);\n",
              "      border-top-color: var(--fill-color);\n",
              "      border-right-color: var(--fill-color);\n",
              "    }\n",
              "    40% {\n",
              "      border-color: transparent;\n",
              "      border-right-color: var(--fill-color);\n",
              "      border-top-color: var(--fill-color);\n",
              "    }\n",
              "    60% {\n",
              "      border-color: transparent;\n",
              "      border-right-color: var(--fill-color);\n",
              "    }\n",
              "    80% {\n",
              "      border-color: transparent;\n",
              "      border-right-color: var(--fill-color);\n",
              "      border-bottom-color: var(--fill-color);\n",
              "    }\n",
              "    90% {\n",
              "      border-color: transparent;\n",
              "      border-bottom-color: var(--fill-color);\n",
              "    }\n",
              "  }\n",
              "</style>\n",
              "\n",
              "  <script>\n",
              "    async function quickchart(key) {\n",
              "      const quickchartButtonEl =\n",
              "        document.querySelector('#' + key + ' button');\n",
              "      quickchartButtonEl.disabled = true;  // To prevent multiple clicks.\n",
              "      quickchartButtonEl.classList.add('colab-df-spinner');\n",
              "      try {\n",
              "        const charts = await google.colab.kernel.invokeFunction(\n",
              "            'suggestCharts', [key], {});\n",
              "      } catch (error) {\n",
              "        console.error('Error during call to suggestCharts:', error);\n",
              "      }\n",
              "      quickchartButtonEl.classList.remove('colab-df-spinner');\n",
              "      quickchartButtonEl.classList.add('colab-df-quickchart-complete');\n",
              "    }\n",
              "    (() => {\n",
              "      let quickchartButtonEl =\n",
              "        document.querySelector('#df-96f37923-f306-4642-9e46-b9cbb92ea476 button');\n",
              "      quickchartButtonEl.style.display =\n",
              "        google.colab.kernel.accessAllowed ? 'block' : 'none';\n",
              "    })();\n",
              "  </script>\n",
              "</div>\n",
              "\n",
              "    </div>\n",
              "  </div>\n"
            ],
            "application/vnd.google.colaboratory.intrinsic+json": {
              "type": "dataframe",
              "variable_name": "x_train2",
              "summary": "{\n  \"name\": \"x_train2\",\n  \"rows\": 18373,\n  \"fields\": [\n    {\n      \"column\": \"lte_5g_category\",\n      \"properties\": {\n        \"dtype\": \"int8\",\n        \"samples\": [\n          14,\n          17,\n          13\n        ],\n        \"num_unique_values\": 22,\n        \"semantic_type\": \"\",\n        \"description\": \"\"\n      }\n    },\n    {\n      \"column\": \"packet_loss_rate\",\n      \"properties\": {\n        \"dtype\": \"float32\",\n        \"samples\": [\n          9.999999974752427e-07,\n          0.009999999776482582,\n          0.0010000000474974513\n        ],\n        \"num_unique_values\": 3,\n        \"semantic_type\": \"\",\n        \"description\": \"\"\n      }\n    },\n    {\n      \"column\": \"packet_delay\",\n      \"properties\": {\n        \"dtype\": \"int16\",\n        \"samples\": [\n          10,\n          50,\n          300\n        ],\n        \"num_unique_values\": 7,\n        \"semantic_type\": \"\",\n        \"description\": \"\"\n      }\n    },\n    {\n      \"column\": \"io_t\",\n      \"properties\": {\n        \"dtype\": \"int8\",\n        \"samples\": [\n          0,\n          1\n        ],\n        \"num_unique_values\": 2,\n        \"semantic_type\": \"\",\n        \"description\": \"\"\n      }\n    },\n    {\n      \"column\": \"lte_5g\",\n      \"properties\": {\n        \"dtype\": \"int8\",\n        \"samples\": [\n          1,\n          0\n        ],\n        \"num_unique_values\": 2,\n        \"semantic_type\": \"\",\n        \"description\": \"\"\n      }\n    },\n    {\n      \"column\": \"gbr\",\n      \"properties\": {\n        \"dtype\": \"int8\",\n        \"samples\": [\n          1,\n          0\n        ],\n        \"num_unique_values\": 2,\n        \"semantic_type\": \"\",\n        \"description\": \"\"\n      }\n    },\n    {\n      \"column\": \"non_gbr\",\n      \"properties\": {\n        \"dtype\": \"int8\",\n        \"samples\": [\n          0,\n          1\n        ],\n        \"num_unique_values\": 2,\n        \"semantic_type\": \"\",\n        \"description\": \"\"\n      }\n    },\n    {\n      \"column\": \"ar_vr_gaming\",\n      \"properties\": {\n        \"dtype\": \"int8\",\n        \"samples\": [\n          1,\n          0\n        ],\n        \"num_unique_values\": 2,\n        \"semantic_type\": \"\",\n        \"description\": \"\"\n      }\n    },\n    {\n      \"column\": \"healthcare\",\n      \"properties\": {\n        \"dtype\": \"int8\",\n        \"samples\": [\n          1,\n          0\n        ],\n        \"num_unique_values\": 2,\n        \"semantic_type\": \"\",\n        \"description\": \"\"\n      }\n    },\n    {\n      \"column\": \"industry_4_0\",\n      \"properties\": {\n        \"dtype\": \"int8\",\n        \"samples\": [\n          1,\n          0\n        ],\n        \"num_unique_values\": 2,\n        \"semantic_type\": \"\",\n        \"description\": \"\"\n      }\n    },\n    {\n      \"column\": \"io_t_devices\",\n      \"properties\": {\n        \"dtype\": \"int8\",\n        \"samples\": [\n          1,\n          0\n        ],\n        \"num_unique_values\": 2,\n        \"semantic_type\": \"\",\n        \"description\": \"\"\n      }\n    },\n    {\n      \"column\": \"public_safety\",\n      \"properties\": {\n        \"dtype\": \"int8\",\n        \"samples\": [\n          0,\n          1\n        ],\n        \"num_unique_values\": 2,\n        \"semantic_type\": \"\",\n        \"description\": \"\"\n      }\n    },\n    {\n      \"column\": \"smart_city_and_home\",\n      \"properties\": {\n        \"dtype\": \"int8\",\n        \"samples\": [\n          1,\n          0\n        ],\n        \"num_unique_values\": 2,\n        \"semantic_type\": \"\",\n        \"description\": \"\"\n      }\n    },\n    {\n      \"column\": \"smart_transportation\",\n      \"properties\": {\n        \"dtype\": \"int8\",\n        \"samples\": [\n          1,\n          0\n        ],\n        \"num_unique_values\": 2,\n        \"semantic_type\": \"\",\n        \"description\": \"\"\n      }\n    },\n    {\n      \"column\": \"smartphone\",\n      \"properties\": {\n        \"dtype\": \"int8\",\n        \"samples\": [\n          1,\n          0\n        ],\n        \"num_unique_values\": 2,\n        \"semantic_type\": \"\",\n        \"description\": \"\"\n      }\n    }\n  ]\n}"
            }
          },
          "metadata": {},
          "execution_count": 56
        }
      ]
    },
    {
      "cell_type": "code",
      "source": [
        "x_train2 = pd.DataFrame(x_train2)\n",
        "x_test2 = pd.DataFrame(x_test2)"
      ],
      "metadata": {
        "id": "sY6RwyftMKAY"
      },
      "execution_count": 57,
      "outputs": []
    },
    {
      "cell_type": "code",
      "source": [
        "x_train2.astype(float).corr()"
      ],
      "metadata": {
        "colab": {
          "base_uri": "https://localhost:8080/",
          "height": 540
        },
        "id": "T3GcOcysMPoc",
        "outputId": "901bb566-4491-416e-bcb2-7d23e0f7b872"
      },
      "execution_count": 58,
      "outputs": [
        {
          "output_type": "execute_result",
          "data": {
            "text/plain": [
              "                      lte_5g_category  packet_loss_rate  packet_delay  \\\n",
              "lte_5g_category              1.000000          0.022254     -0.015085   \n",
              "packet_loss_rate             0.022254          1.000000      0.306436   \n",
              "packet_delay                -0.015085          0.306436      1.000000   \n",
              "io_t                         0.095605          0.170858     -0.187910   \n",
              "lte_5g                      -0.095605         -0.170858      0.187910   \n",
              "gbr                         -0.007156         -0.022315      0.424124   \n",
              "non_gbr                      0.007156          0.022315     -0.424124   \n",
              "ar_vr_gaming                -0.034010         -0.168172     -0.127614   \n",
              "healthcare                   0.018408         -0.174050     -0.238384   \n",
              "industry_4_0                 0.045106         -0.216202     -0.284384   \n",
              "io_t_devices                 0.019458          0.389878      0.437355   \n",
              "public_safety                0.019485         -0.182358     -0.249763   \n",
              "smart_city_and_home          0.047347          0.578743      0.200818   \n",
              "smart_transportation         0.019787         -0.176111     -0.241206   \n",
              "smartphone                  -0.075152         -0.067416      0.268831   \n",
              "\n",
              "                          io_t    lte_5g       gbr   non_gbr  ar_vr_gaming  \\\n",
              "lte_5g_category       0.095605 -0.095605 -0.007156  0.007156     -0.034010   \n",
              "packet_loss_rate      0.170858 -0.170858 -0.022315  0.022315     -0.168172   \n",
              "packet_delay         -0.187910  0.187910  0.424124 -0.424124     -0.127614   \n",
              "io_t                  1.000000 -1.000000 -0.122402  0.122402     -0.321284   \n",
              "lte_5g               -1.000000  1.000000  0.122402 -0.122402      0.321284   \n",
              "gbr                  -0.122402  0.122402  1.000000 -1.000000      0.037476   \n",
              "non_gbr               0.122402 -0.122402 -1.000000  1.000000     -0.037476   \n",
              "ar_vr_gaming         -0.321284  0.321284  0.037476 -0.037476      1.000000   \n",
              "healthcare            0.260863 -0.260863 -0.213782  0.213782     -0.083811   \n",
              "industry_4_0          0.385515 -0.385515  0.045353 -0.045353     -0.123860   \n",
              "io_t_devices          0.265817 -0.265817  0.281337 -0.281337     -0.085403   \n",
              "public_safety         0.273314 -0.273314 -0.223986  0.223986     -0.087812   \n",
              "smart_city_and_home   0.394585 -0.394585  0.035940 -0.035940     -0.126774   \n",
              "smart_transportation  0.263951 -0.263951 -0.216313  0.216313     -0.084803   \n",
              "smartphone           -0.807524  0.807524  0.099995 -0.099995     -0.299119   \n",
              "\n",
              "                      healthcare  industry_4_0  io_t_devices  public_safety  \\\n",
              "lte_5g_category         0.018408      0.045106      0.019458       0.019485   \n",
              "packet_loss_rate       -0.174050     -0.216202      0.389878      -0.182358   \n",
              "packet_delay           -0.238384     -0.284384      0.437355      -0.249763   \n",
              "io_t                    0.260863      0.385515      0.265817       0.273314   \n",
              "lte_5g                 -0.260863     -0.385515     -0.265817      -0.273314   \n",
              "gbr                    -0.213782      0.045353      0.281337      -0.223986   \n",
              "non_gbr                 0.213782     -0.045353     -0.281337       0.223986   \n",
              "ar_vr_gaming           -0.083811     -0.123860     -0.085403      -0.087812   \n",
              "healthcare              1.000000     -0.087228     -0.060145      -0.061841   \n",
              "industry_4_0           -0.087228      1.000000     -0.088885      -0.091391   \n",
              "io_t_devices           -0.060145     -0.088885      1.000000      -0.063016   \n",
              "public_safety          -0.061841     -0.091391     -0.063016       1.000000   \n",
              "smart_city_and_home    -0.089280     -0.131942     -0.090976      -0.093542   \n",
              "smart_transportation   -0.059722     -0.088261     -0.060857      -0.062573   \n",
              "smartphone             -0.210653     -0.311313     -0.214654      -0.220708   \n",
              "\n",
              "                      smart_city_and_home  smart_transportation  smartphone  \n",
              "lte_5g_category                  0.047347              0.019787   -0.075152  \n",
              "packet_loss_rate                 0.578743             -0.176111   -0.067416  \n",
              "packet_delay                     0.200818             -0.241206    0.268831  \n",
              "io_t                             0.394585              0.263951   -0.807524  \n",
              "lte_5g                          -0.394585             -0.263951    0.807524  \n",
              "gbr                              0.035940             -0.216313    0.099995  \n",
              "non_gbr                         -0.035940              0.216313   -0.099995  \n",
              "ar_vr_gaming                    -0.126774             -0.084803   -0.299119  \n",
              "healthcare                      -0.089280             -0.059722   -0.210653  \n",
              "industry_4_0                    -0.131942             -0.088261   -0.311313  \n",
              "io_t_devices                    -0.090976             -0.060857   -0.214654  \n",
              "public_safety                   -0.093542             -0.062573   -0.220708  \n",
              "smart_city_and_home              1.000000             -0.090337   -0.318637  \n",
              "smart_transportation            -0.090337              1.000000   -0.213147  \n",
              "smartphone                      -0.318637             -0.213147    1.000000  "
            ],
            "text/html": [
              "\n",
              "  <div id=\"df-2d50034f-23c0-4f98-a47a-70931258fa3c\" class=\"colab-df-container\">\n",
              "    <div>\n",
              "<style scoped>\n",
              "    .dataframe tbody tr th:only-of-type {\n",
              "        vertical-align: middle;\n",
              "    }\n",
              "\n",
              "    .dataframe tbody tr th {\n",
              "        vertical-align: top;\n",
              "    }\n",
              "\n",
              "    .dataframe thead th {\n",
              "        text-align: right;\n",
              "    }\n",
              "</style>\n",
              "<table border=\"1\" class=\"dataframe\">\n",
              "  <thead>\n",
              "    <tr style=\"text-align: right;\">\n",
              "      <th></th>\n",
              "      <th>lte_5g_category</th>\n",
              "      <th>packet_loss_rate</th>\n",
              "      <th>packet_delay</th>\n",
              "      <th>io_t</th>\n",
              "      <th>lte_5g</th>\n",
              "      <th>gbr</th>\n",
              "      <th>non_gbr</th>\n",
              "      <th>ar_vr_gaming</th>\n",
              "      <th>healthcare</th>\n",
              "      <th>industry_4_0</th>\n",
              "      <th>io_t_devices</th>\n",
              "      <th>public_safety</th>\n",
              "      <th>smart_city_and_home</th>\n",
              "      <th>smart_transportation</th>\n",
              "      <th>smartphone</th>\n",
              "    </tr>\n",
              "  </thead>\n",
              "  <tbody>\n",
              "    <tr>\n",
              "      <th>lte_5g_category</th>\n",
              "      <td>1.000000</td>\n",
              "      <td>0.022254</td>\n",
              "      <td>-0.015085</td>\n",
              "      <td>0.095605</td>\n",
              "      <td>-0.095605</td>\n",
              "      <td>-0.007156</td>\n",
              "      <td>0.007156</td>\n",
              "      <td>-0.034010</td>\n",
              "      <td>0.018408</td>\n",
              "      <td>0.045106</td>\n",
              "      <td>0.019458</td>\n",
              "      <td>0.019485</td>\n",
              "      <td>0.047347</td>\n",
              "      <td>0.019787</td>\n",
              "      <td>-0.075152</td>\n",
              "    </tr>\n",
              "    <tr>\n",
              "      <th>packet_loss_rate</th>\n",
              "      <td>0.022254</td>\n",
              "      <td>1.000000</td>\n",
              "      <td>0.306436</td>\n",
              "      <td>0.170858</td>\n",
              "      <td>-0.170858</td>\n",
              "      <td>-0.022315</td>\n",
              "      <td>0.022315</td>\n",
              "      <td>-0.168172</td>\n",
              "      <td>-0.174050</td>\n",
              "      <td>-0.216202</td>\n",
              "      <td>0.389878</td>\n",
              "      <td>-0.182358</td>\n",
              "      <td>0.578743</td>\n",
              "      <td>-0.176111</td>\n",
              "      <td>-0.067416</td>\n",
              "    </tr>\n",
              "    <tr>\n",
              "      <th>packet_delay</th>\n",
              "      <td>-0.015085</td>\n",
              "      <td>0.306436</td>\n",
              "      <td>1.000000</td>\n",
              "      <td>-0.187910</td>\n",
              "      <td>0.187910</td>\n",
              "      <td>0.424124</td>\n",
              "      <td>-0.424124</td>\n",
              "      <td>-0.127614</td>\n",
              "      <td>-0.238384</td>\n",
              "      <td>-0.284384</td>\n",
              "      <td>0.437355</td>\n",
              "      <td>-0.249763</td>\n",
              "      <td>0.200818</td>\n",
              "      <td>-0.241206</td>\n",
              "      <td>0.268831</td>\n",
              "    </tr>\n",
              "    <tr>\n",
              "      <th>io_t</th>\n",
              "      <td>0.095605</td>\n",
              "      <td>0.170858</td>\n",
              "      <td>-0.187910</td>\n",
              "      <td>1.000000</td>\n",
              "      <td>-1.000000</td>\n",
              "      <td>-0.122402</td>\n",
              "      <td>0.122402</td>\n",
              "      <td>-0.321284</td>\n",
              "      <td>0.260863</td>\n",
              "      <td>0.385515</td>\n",
              "      <td>0.265817</td>\n",
              "      <td>0.273314</td>\n",
              "      <td>0.394585</td>\n",
              "      <td>0.263951</td>\n",
              "      <td>-0.807524</td>\n",
              "    </tr>\n",
              "    <tr>\n",
              "      <th>lte_5g</th>\n",
              "      <td>-0.095605</td>\n",
              "      <td>-0.170858</td>\n",
              "      <td>0.187910</td>\n",
              "      <td>-1.000000</td>\n",
              "      <td>1.000000</td>\n",
              "      <td>0.122402</td>\n",
              "      <td>-0.122402</td>\n",
              "      <td>0.321284</td>\n",
              "      <td>-0.260863</td>\n",
              "      <td>-0.385515</td>\n",
              "      <td>-0.265817</td>\n",
              "      <td>-0.273314</td>\n",
              "      <td>-0.394585</td>\n",
              "      <td>-0.263951</td>\n",
              "      <td>0.807524</td>\n",
              "    </tr>\n",
              "    <tr>\n",
              "      <th>gbr</th>\n",
              "      <td>-0.007156</td>\n",
              "      <td>-0.022315</td>\n",
              "      <td>0.424124</td>\n",
              "      <td>-0.122402</td>\n",
              "      <td>0.122402</td>\n",
              "      <td>1.000000</td>\n",
              "      <td>-1.000000</td>\n",
              "      <td>0.037476</td>\n",
              "      <td>-0.213782</td>\n",
              "      <td>0.045353</td>\n",
              "      <td>0.281337</td>\n",
              "      <td>-0.223986</td>\n",
              "      <td>0.035940</td>\n",
              "      <td>-0.216313</td>\n",
              "      <td>0.099995</td>\n",
              "    </tr>\n",
              "    <tr>\n",
              "      <th>non_gbr</th>\n",
              "      <td>0.007156</td>\n",
              "      <td>0.022315</td>\n",
              "      <td>-0.424124</td>\n",
              "      <td>0.122402</td>\n",
              "      <td>-0.122402</td>\n",
              "      <td>-1.000000</td>\n",
              "      <td>1.000000</td>\n",
              "      <td>-0.037476</td>\n",
              "      <td>0.213782</td>\n",
              "      <td>-0.045353</td>\n",
              "      <td>-0.281337</td>\n",
              "      <td>0.223986</td>\n",
              "      <td>-0.035940</td>\n",
              "      <td>0.216313</td>\n",
              "      <td>-0.099995</td>\n",
              "    </tr>\n",
              "    <tr>\n",
              "      <th>ar_vr_gaming</th>\n",
              "      <td>-0.034010</td>\n",
              "      <td>-0.168172</td>\n",
              "      <td>-0.127614</td>\n",
              "      <td>-0.321284</td>\n",
              "      <td>0.321284</td>\n",
              "      <td>0.037476</td>\n",
              "      <td>-0.037476</td>\n",
              "      <td>1.000000</td>\n",
              "      <td>-0.083811</td>\n",
              "      <td>-0.123860</td>\n",
              "      <td>-0.085403</td>\n",
              "      <td>-0.087812</td>\n",
              "      <td>-0.126774</td>\n",
              "      <td>-0.084803</td>\n",
              "      <td>-0.299119</td>\n",
              "    </tr>\n",
              "    <tr>\n",
              "      <th>healthcare</th>\n",
              "      <td>0.018408</td>\n",
              "      <td>-0.174050</td>\n",
              "      <td>-0.238384</td>\n",
              "      <td>0.260863</td>\n",
              "      <td>-0.260863</td>\n",
              "      <td>-0.213782</td>\n",
              "      <td>0.213782</td>\n",
              "      <td>-0.083811</td>\n",
              "      <td>1.000000</td>\n",
              "      <td>-0.087228</td>\n",
              "      <td>-0.060145</td>\n",
              "      <td>-0.061841</td>\n",
              "      <td>-0.089280</td>\n",
              "      <td>-0.059722</td>\n",
              "      <td>-0.210653</td>\n",
              "    </tr>\n",
              "    <tr>\n",
              "      <th>industry_4_0</th>\n",
              "      <td>0.045106</td>\n",
              "      <td>-0.216202</td>\n",
              "      <td>-0.284384</td>\n",
              "      <td>0.385515</td>\n",
              "      <td>-0.385515</td>\n",
              "      <td>0.045353</td>\n",
              "      <td>-0.045353</td>\n",
              "      <td>-0.123860</td>\n",
              "      <td>-0.087228</td>\n",
              "      <td>1.000000</td>\n",
              "      <td>-0.088885</td>\n",
              "      <td>-0.091391</td>\n",
              "      <td>-0.131942</td>\n",
              "      <td>-0.088261</td>\n",
              "      <td>-0.311313</td>\n",
              "    </tr>\n",
              "    <tr>\n",
              "      <th>io_t_devices</th>\n",
              "      <td>0.019458</td>\n",
              "      <td>0.389878</td>\n",
              "      <td>0.437355</td>\n",
              "      <td>0.265817</td>\n",
              "      <td>-0.265817</td>\n",
              "      <td>0.281337</td>\n",
              "      <td>-0.281337</td>\n",
              "      <td>-0.085403</td>\n",
              "      <td>-0.060145</td>\n",
              "      <td>-0.088885</td>\n",
              "      <td>1.000000</td>\n",
              "      <td>-0.063016</td>\n",
              "      <td>-0.090976</td>\n",
              "      <td>-0.060857</td>\n",
              "      <td>-0.214654</td>\n",
              "    </tr>\n",
              "    <tr>\n",
              "      <th>public_safety</th>\n",
              "      <td>0.019485</td>\n",
              "      <td>-0.182358</td>\n",
              "      <td>-0.249763</td>\n",
              "      <td>0.273314</td>\n",
              "      <td>-0.273314</td>\n",
              "      <td>-0.223986</td>\n",
              "      <td>0.223986</td>\n",
              "      <td>-0.087812</td>\n",
              "      <td>-0.061841</td>\n",
              "      <td>-0.091391</td>\n",
              "      <td>-0.063016</td>\n",
              "      <td>1.000000</td>\n",
              "      <td>-0.093542</td>\n",
              "      <td>-0.062573</td>\n",
              "      <td>-0.220708</td>\n",
              "    </tr>\n",
              "    <tr>\n",
              "      <th>smart_city_and_home</th>\n",
              "      <td>0.047347</td>\n",
              "      <td>0.578743</td>\n",
              "      <td>0.200818</td>\n",
              "      <td>0.394585</td>\n",
              "      <td>-0.394585</td>\n",
              "      <td>0.035940</td>\n",
              "      <td>-0.035940</td>\n",
              "      <td>-0.126774</td>\n",
              "      <td>-0.089280</td>\n",
              "      <td>-0.131942</td>\n",
              "      <td>-0.090976</td>\n",
              "      <td>-0.093542</td>\n",
              "      <td>1.000000</td>\n",
              "      <td>-0.090337</td>\n",
              "      <td>-0.318637</td>\n",
              "    </tr>\n",
              "    <tr>\n",
              "      <th>smart_transportation</th>\n",
              "      <td>0.019787</td>\n",
              "      <td>-0.176111</td>\n",
              "      <td>-0.241206</td>\n",
              "      <td>0.263951</td>\n",
              "      <td>-0.263951</td>\n",
              "      <td>-0.216313</td>\n",
              "      <td>0.216313</td>\n",
              "      <td>-0.084803</td>\n",
              "      <td>-0.059722</td>\n",
              "      <td>-0.088261</td>\n",
              "      <td>-0.060857</td>\n",
              "      <td>-0.062573</td>\n",
              "      <td>-0.090337</td>\n",
              "      <td>1.000000</td>\n",
              "      <td>-0.213147</td>\n",
              "    </tr>\n",
              "    <tr>\n",
              "      <th>smartphone</th>\n",
              "      <td>-0.075152</td>\n",
              "      <td>-0.067416</td>\n",
              "      <td>0.268831</td>\n",
              "      <td>-0.807524</td>\n",
              "      <td>0.807524</td>\n",
              "      <td>0.099995</td>\n",
              "      <td>-0.099995</td>\n",
              "      <td>-0.299119</td>\n",
              "      <td>-0.210653</td>\n",
              "      <td>-0.311313</td>\n",
              "      <td>-0.214654</td>\n",
              "      <td>-0.220708</td>\n",
              "      <td>-0.318637</td>\n",
              "      <td>-0.213147</td>\n",
              "      <td>1.000000</td>\n",
              "    </tr>\n",
              "  </tbody>\n",
              "</table>\n",
              "</div>\n",
              "    <div class=\"colab-df-buttons\">\n",
              "\n",
              "  <div class=\"colab-df-container\">\n",
              "    <button class=\"colab-df-convert\" onclick=\"convertToInteractive('df-2d50034f-23c0-4f98-a47a-70931258fa3c')\"\n",
              "            title=\"Convert this dataframe to an interactive table.\"\n",
              "            style=\"display:none;\">\n",
              "\n",
              "  <svg xmlns=\"http://www.w3.org/2000/svg\" height=\"24px\" viewBox=\"0 -960 960 960\">\n",
              "    <path d=\"M120-120v-720h720v720H120Zm60-500h600v-160H180v160Zm220 220h160v-160H400v160Zm0 220h160v-160H400v160ZM180-400h160v-160H180v160Zm440 0h160v-160H620v160ZM180-180h160v-160H180v160Zm440 0h160v-160H620v160Z\"/>\n",
              "  </svg>\n",
              "    </button>\n",
              "\n",
              "  <style>\n",
              "    .colab-df-container {\n",
              "      display:flex;\n",
              "      gap: 12px;\n",
              "    }\n",
              "\n",
              "    .colab-df-convert {\n",
              "      background-color: #E8F0FE;\n",
              "      border: none;\n",
              "      border-radius: 50%;\n",
              "      cursor: pointer;\n",
              "      display: none;\n",
              "      fill: #1967D2;\n",
              "      height: 32px;\n",
              "      padding: 0 0 0 0;\n",
              "      width: 32px;\n",
              "    }\n",
              "\n",
              "    .colab-df-convert:hover {\n",
              "      background-color: #E2EBFA;\n",
              "      box-shadow: 0px 1px 2px rgba(60, 64, 67, 0.3), 0px 1px 3px 1px rgba(60, 64, 67, 0.15);\n",
              "      fill: #174EA6;\n",
              "    }\n",
              "\n",
              "    .colab-df-buttons div {\n",
              "      margin-bottom: 4px;\n",
              "    }\n",
              "\n",
              "    [theme=dark] .colab-df-convert {\n",
              "      background-color: #3B4455;\n",
              "      fill: #D2E3FC;\n",
              "    }\n",
              "\n",
              "    [theme=dark] .colab-df-convert:hover {\n",
              "      background-color: #434B5C;\n",
              "      box-shadow: 0px 1px 3px 1px rgba(0, 0, 0, 0.15);\n",
              "      filter: drop-shadow(0px 1px 2px rgba(0, 0, 0, 0.3));\n",
              "      fill: #FFFFFF;\n",
              "    }\n",
              "  </style>\n",
              "\n",
              "    <script>\n",
              "      const buttonEl =\n",
              "        document.querySelector('#df-2d50034f-23c0-4f98-a47a-70931258fa3c button.colab-df-convert');\n",
              "      buttonEl.style.display =\n",
              "        google.colab.kernel.accessAllowed ? 'block' : 'none';\n",
              "\n",
              "      async function convertToInteractive(key) {\n",
              "        const element = document.querySelector('#df-2d50034f-23c0-4f98-a47a-70931258fa3c');\n",
              "        const dataTable =\n",
              "          await google.colab.kernel.invokeFunction('convertToInteractive',\n",
              "                                                    [key], {});\n",
              "        if (!dataTable) return;\n",
              "\n",
              "        const docLinkHtml = 'Like what you see? Visit the ' +\n",
              "          '<a target=\"_blank\" href=https://colab.research.google.com/notebooks/data_table.ipynb>data table notebook</a>'\n",
              "          + ' to learn more about interactive tables.';\n",
              "        element.innerHTML = '';\n",
              "        dataTable['output_type'] = 'display_data';\n",
              "        await google.colab.output.renderOutput(dataTable, element);\n",
              "        const docLink = document.createElement('div');\n",
              "        docLink.innerHTML = docLinkHtml;\n",
              "        element.appendChild(docLink);\n",
              "      }\n",
              "    </script>\n",
              "  </div>\n",
              "\n",
              "\n",
              "<div id=\"df-28288c44-ce5b-44ec-b152-5abb951c6a41\">\n",
              "  <button class=\"colab-df-quickchart\" onclick=\"quickchart('df-28288c44-ce5b-44ec-b152-5abb951c6a41')\"\n",
              "            title=\"Suggest charts\"\n",
              "            style=\"display:none;\">\n",
              "\n",
              "<svg xmlns=\"http://www.w3.org/2000/svg\" height=\"24px\"viewBox=\"0 0 24 24\"\n",
              "     width=\"24px\">\n",
              "    <g>\n",
              "        <path d=\"M19 3H5c-1.1 0-2 .9-2 2v14c0 1.1.9 2 2 2h14c1.1 0 2-.9 2-2V5c0-1.1-.9-2-2-2zM9 17H7v-7h2v7zm4 0h-2V7h2v10zm4 0h-2v-4h2v4z\"/>\n",
              "    </g>\n",
              "</svg>\n",
              "  </button>\n",
              "\n",
              "<style>\n",
              "  .colab-df-quickchart {\n",
              "      --bg-color: #E8F0FE;\n",
              "      --fill-color: #1967D2;\n",
              "      --hover-bg-color: #E2EBFA;\n",
              "      --hover-fill-color: #174EA6;\n",
              "      --disabled-fill-color: #AAA;\n",
              "      --disabled-bg-color: #DDD;\n",
              "  }\n",
              "\n",
              "  [theme=dark] .colab-df-quickchart {\n",
              "      --bg-color: #3B4455;\n",
              "      --fill-color: #D2E3FC;\n",
              "      --hover-bg-color: #434B5C;\n",
              "      --hover-fill-color: #FFFFFF;\n",
              "      --disabled-bg-color: #3B4455;\n",
              "      --disabled-fill-color: #666;\n",
              "  }\n",
              "\n",
              "  .colab-df-quickchart {\n",
              "    background-color: var(--bg-color);\n",
              "    border: none;\n",
              "    border-radius: 50%;\n",
              "    cursor: pointer;\n",
              "    display: none;\n",
              "    fill: var(--fill-color);\n",
              "    height: 32px;\n",
              "    padding: 0;\n",
              "    width: 32px;\n",
              "  }\n",
              "\n",
              "  .colab-df-quickchart:hover {\n",
              "    background-color: var(--hover-bg-color);\n",
              "    box-shadow: 0 1px 2px rgba(60, 64, 67, 0.3), 0 1px 3px 1px rgba(60, 64, 67, 0.15);\n",
              "    fill: var(--button-hover-fill-color);\n",
              "  }\n",
              "\n",
              "  .colab-df-quickchart-complete:disabled,\n",
              "  .colab-df-quickchart-complete:disabled:hover {\n",
              "    background-color: var(--disabled-bg-color);\n",
              "    fill: var(--disabled-fill-color);\n",
              "    box-shadow: none;\n",
              "  }\n",
              "\n",
              "  .colab-df-spinner {\n",
              "    border: 2px solid var(--fill-color);\n",
              "    border-color: transparent;\n",
              "    border-bottom-color: var(--fill-color);\n",
              "    animation:\n",
              "      spin 1s steps(1) infinite;\n",
              "  }\n",
              "\n",
              "  @keyframes spin {\n",
              "    0% {\n",
              "      border-color: transparent;\n",
              "      border-bottom-color: var(--fill-color);\n",
              "      border-left-color: var(--fill-color);\n",
              "    }\n",
              "    20% {\n",
              "      border-color: transparent;\n",
              "      border-left-color: var(--fill-color);\n",
              "      border-top-color: var(--fill-color);\n",
              "    }\n",
              "    30% {\n",
              "      border-color: transparent;\n",
              "      border-left-color: var(--fill-color);\n",
              "      border-top-color: var(--fill-color);\n",
              "      border-right-color: var(--fill-color);\n",
              "    }\n",
              "    40% {\n",
              "      border-color: transparent;\n",
              "      border-right-color: var(--fill-color);\n",
              "      border-top-color: var(--fill-color);\n",
              "    }\n",
              "    60% {\n",
              "      border-color: transparent;\n",
              "      border-right-color: var(--fill-color);\n",
              "    }\n",
              "    80% {\n",
              "      border-color: transparent;\n",
              "      border-right-color: var(--fill-color);\n",
              "      border-bottom-color: var(--fill-color);\n",
              "    }\n",
              "    90% {\n",
              "      border-color: transparent;\n",
              "      border-bottom-color: var(--fill-color);\n",
              "    }\n",
              "  }\n",
              "</style>\n",
              "\n",
              "  <script>\n",
              "    async function quickchart(key) {\n",
              "      const quickchartButtonEl =\n",
              "        document.querySelector('#' + key + ' button');\n",
              "      quickchartButtonEl.disabled = true;  // To prevent multiple clicks.\n",
              "      quickchartButtonEl.classList.add('colab-df-spinner');\n",
              "      try {\n",
              "        const charts = await google.colab.kernel.invokeFunction(\n",
              "            'suggestCharts', [key], {});\n",
              "      } catch (error) {\n",
              "        console.error('Error during call to suggestCharts:', error);\n",
              "      }\n",
              "      quickchartButtonEl.classList.remove('colab-df-spinner');\n",
              "      quickchartButtonEl.classList.add('colab-df-quickchart-complete');\n",
              "    }\n",
              "    (() => {\n",
              "      let quickchartButtonEl =\n",
              "        document.querySelector('#df-28288c44-ce5b-44ec-b152-5abb951c6a41 button');\n",
              "      quickchartButtonEl.style.display =\n",
              "        google.colab.kernel.accessAllowed ? 'block' : 'none';\n",
              "    })();\n",
              "  </script>\n",
              "</div>\n",
              "\n",
              "    </div>\n",
              "  </div>\n"
            ],
            "application/vnd.google.colaboratory.intrinsic+json": {
              "type": "dataframe",
              "summary": "{\n  \"name\": \"x_train2\",\n  \"rows\": 15,\n  \"fields\": [\n    {\n      \"column\": \"lte_5g_category\",\n      \"properties\": {\n        \"dtype\": \"number\",\n        \"std\": 0.26127309898143736,\n        \"min\": -0.09560501324475028,\n        \"max\": 1.0,\n        \"samples\": [\n          0.045106277734520576,\n          0.019485282790280906,\n          1.0\n        ],\n        \"num_unique_values\": 15,\n        \"semantic_type\": \"\",\n        \"description\": \"\"\n      }\n    },\n    {\n      \"column\": \"packet_loss_rate\",\n      \"properties\": {\n        \"dtype\": \"number\",\n        \"std\": 0.34845867037758177,\n        \"min\": -0.21620166338575209,\n        \"max\": 1.0,\n        \"samples\": [\n          -0.21620166338575209,\n          -0.1823579222144486,\n          0.022254278717071793\n        ],\n        \"num_unique_values\": 15,\n        \"semantic_type\": \"\",\n        \"description\": \"\"\n      }\n    },\n    {\n      \"column\": \"packet_delay\",\n      \"properties\": {\n        \"dtype\": \"number\",\n        \"std\": 0.3806437276241085,\n        \"min\": -0.4241237263117015,\n        \"max\": 1.0,\n        \"samples\": [\n          -0.28438408983699054,\n          -0.24976283957928427,\n          -0.015085156025581069\n        ],\n        \"num_unique_values\": 15,\n        \"semantic_type\": \"\",\n        \"description\": \"\"\n      }\n    },\n    {\n      \"column\": \"io_t\",\n      \"properties\": {\n        \"dtype\": \"number\",\n        \"std\": 0.4931181916589238,\n        \"min\": -1.0,\n        \"max\": 1.0,\n        \"samples\": [\n          0.3855151097671429,\n          0.2733144422910789,\n          0.09560501324475046\n        ],\n        \"num_unique_values\": 15,\n        \"semantic_type\": \"\",\n        \"description\": \"\"\n      }\n    },\n    {\n      \"column\": \"lte_5g\",\n      \"properties\": {\n        \"dtype\": \"number\",\n        \"std\": 0.4931181916589238,\n        \"min\": -1.0,\n        \"max\": 1.0,\n        \"samples\": [\n          -0.3855151097671428,\n          -0.27331444229107865,\n          -0.09560501324475028\n        ],\n        \"num_unique_values\": 15,\n        \"semantic_type\": \"\",\n        \"description\": \"\"\n      }\n    },\n    {\n      \"column\": \"gbr\",\n      \"properties\": {\n        \"dtype\": \"number\",\n        \"std\": 0.41774043805449923,\n        \"min\": -0.999999999999999,\n        \"max\": 1.0,\n        \"samples\": [\n          0.0453527800842649,\n          -0.2239862683036181,\n          -0.007155792036453813\n        ],\n        \"num_unique_values\": 15,\n        \"semantic_type\": \"\",\n        \"description\": \"\"\n      }\n    },\n    {\n      \"column\": \"non_gbr\",\n      \"properties\": {\n        \"dtype\": \"number\",\n        \"std\": 0.41774043805449923,\n        \"min\": -0.999999999999999,\n        \"max\": 1.0,\n        \"samples\": [\n          -0.04535278008426486,\n          0.2239862683036181,\n          0.0071557920364538905\n        ],\n        \"num_unique_values\": 15,\n        \"semantic_type\": \"\",\n        \"description\": \"\"\n      }\n    },\n    {\n      \"column\": \"ar_vr_gaming\",\n      \"properties\": {\n        \"dtype\": \"number\",\n        \"std\": 0.31643305517334686,\n        \"min\": -0.3212844949812943,\n        \"max\": 1.0,\n        \"samples\": [\n          -0.12386002734919664,\n          -0.08781169256258459,\n          -0.034010450450038456\n        ],\n        \"num_unique_values\": 15,\n        \"semantic_type\": \"\",\n        \"description\": \"\"\n      }\n    },\n    {\n      \"column\": \"healthcare\",\n      \"properties\": {\n        \"dtype\": \"number\",\n        \"std\": 0.315414094741021,\n        \"min\": -0.26086265843401724,\n        \"max\": 1.0,\n        \"samples\": [\n          -0.08722781586345105,\n          -0.06184095315845886,\n          0.018408029016488123\n        ],\n        \"num_unique_values\": 15,\n        \"semantic_type\": \"\",\n        \"description\": \"\"\n      }\n    },\n    {\n      \"column\": \"industry_4_0\",\n      \"properties\": {\n        \"dtype\": \"number\",\n        \"std\": 0.3362379068205002,\n        \"min\": -0.3855151097671428,\n        \"max\": 1.0,\n        \"samples\": [\n          1.0,\n          -0.09139147008661837,\n          0.045106277734520576\n        ],\n        \"num_unique_values\": 15,\n        \"semantic_type\": \"\",\n        \"description\": \"\"\n      }\n    },\n    {\n      \"column\": \"io_t_devices\",\n      \"properties\": {\n        \"dtype\": \"number\",\n        \"std\": 0.34130614928724723,\n        \"min\": -0.2813365101255752,\n        \"max\": 1.0,\n        \"samples\": [\n          -0.08888455726768303,\n          -0.06301551504059079,\n          0.019458041486050542\n        ],\n        \"num_unique_values\": 15,\n        \"semantic_type\": \"\",\n        \"description\": \"\"\n      }\n    },\n    {\n      \"column\": \"public_safety\",\n      \"properties\": {\n        \"dtype\": \"number\",\n        \"std\": 0.31964374984684424,\n        \"min\": -0.27331444229107865,\n        \"max\": 1.0,\n        \"samples\": [\n          -0.09139147008661837,\n          1.0,\n          0.019485282790280906\n        ],\n        \"num_unique_values\": 15,\n        \"semantic_type\": \"\",\n        \"description\": \"\"\n      }\n    },\n    {\n      \"column\": \"smart_city_and_home\",\n      \"properties\": {\n        \"dtype\": \"number\",\n        \"std\": 0.35930450565029826,\n        \"min\": -0.3945854404574145,\n        \"max\": 1.0,\n        \"samples\": [\n          -0.13194232685213583,\n          -0.09354171228194082,\n          0.047347182675353046\n        ],\n        \"num_unique_values\": 15,\n        \"semantic_type\": \"\",\n        \"description\": \"\"\n      }\n    },\n    {\n      \"column\": \"smart_transportation\",\n      \"properties\": {\n        \"dtype\": \"number\",\n        \"std\": 0.3164592979015863,\n        \"min\": -0.26395102135165766,\n        \"max\": 1.0,\n        \"samples\": [\n          -0.08826050928732651,\n          -0.06257309055088064,\n          0.019786999921340594\n        ],\n        \"num_unique_values\": 15,\n        \"semantic_type\": \"\",\n        \"description\": \"\"\n      }\n    },\n    {\n      \"column\": \"smartphone\",\n      \"properties\": {\n        \"dtype\": \"number\",\n        \"std\": 0.45118482210631183,\n        \"min\": -0.8075238323440268,\n        \"max\": 1.0,\n        \"samples\": [\n          -0.3113126388656926,\n          -0.22070792587386456,\n          -0.07515160909551873\n        ],\n        \"num_unique_values\": 15,\n        \"semantic_type\": \"\",\n        \"description\": \"\"\n      }\n    }\n  ]\n}"
            }
          },
          "metadata": {},
          "execution_count": 58
        }
      ]
    },
    {
      "cell_type": "code",
      "source": [
        "def correlation(dataset, threshold):\n",
        "    col_corr = set() # Set of all the names of deleted columns\n",
        "    corr_matrix = dataset.corr()\n",
        "    for i in range(len(corr_matrix.columns)):\n",
        "        for j in range(i):\n",
        "            if (corr_matrix.iloc[i, j] >= threshold) and (corr_matrix.columns[j] not in col_corr):\n",
        "                colname = corr_matrix.columns[i] # getting the name of column\n",
        "                col_corr.add(colname)\n",
        "                if colname in dataset.columns:\n",
        "                    del dataset[colname] # deleting the column from the dataset\n",
        "\n",
        "    print(dataset.columns)\n",
        "    print(dataset.shape)"
      ],
      "metadata": {
        "id": "UVRGKxgZMQVe"
      },
      "execution_count": 59,
      "outputs": []
    },
    {
      "cell_type": "code",
      "source": [
        "correlation(x_train2, 0.95)"
      ],
      "metadata": {
        "colab": {
          "base_uri": "https://localhost:8080/"
        },
        "id": "AZObhcxXMUXN",
        "outputId": "7d14f1a4-3c42-4f78-ff36-71a2ec4f78f1"
      },
      "execution_count": 60,
      "outputs": [
        {
          "output_type": "stream",
          "name": "stdout",
          "text": [
            "Index(['lte_5g_category', 'packet_loss_rate', 'packet_delay', 'io_t', 'lte_5g',\n",
            "       'gbr', 'non_gbr', 'ar_vr_gaming', 'healthcare', 'industry_4_0',\n",
            "       'io_t_devices', 'public_safety', 'smart_city_and_home',\n",
            "       'smart_transportation', 'smartphone'],\n",
            "      dtype='object')\n",
            "(18373, 15)\n"
          ]
        }
      ]
    },
    {
      "cell_type": "code",
      "source": [
        "print(x_train2.columns, x_train2.shape)\n",
        "print(x_test2.columns, x_test2.shape)\n"
      ],
      "metadata": {
        "colab": {
          "base_uri": "https://localhost:8080/"
        },
        "id": "etNBbvBjMWuM",
        "outputId": "ad1449f9-0604-4155-cee8-1dff95416793"
      },
      "execution_count": 61,
      "outputs": [
        {
          "output_type": "stream",
          "name": "stdout",
          "text": [
            "Index(['lte_5g_category', 'packet_loss_rate', 'packet_delay', 'io_t', 'lte_5g',\n",
            "       'gbr', 'non_gbr', 'ar_vr_gaming', 'healthcare', 'industry_4_0',\n",
            "       'io_t_devices', 'public_safety', 'smart_city_and_home',\n",
            "       'smart_transportation', 'smartphone'],\n",
            "      dtype='object') (18373, 15)\n",
            "Index(['lte_5g_category', 'packet_loss_rate', 'packet_delay', 'io_t', 'lte_5g',\n",
            "       'gbr', 'non_gbr', 'ar_vr_gaming', 'healthcare', 'industry_4_0',\n",
            "       'io_t_devices', 'public_safety', 'smart_city_and_home',\n",
            "       'smart_transportation', 'smartphone'],\n",
            "      dtype='object') (31584, 15)\n"
          ]
        }
      ]
    },
    {
      "cell_type": "markdown",
      "source": [
        "### Standard Scaler"
      ],
      "metadata": {
        "id": "W43rGJRFMvgJ"
      }
    },
    {
      "cell_type": "code",
      "source": [
        "from sklearn.preprocessing import StandardScaler\n",
        "scaler=StandardScaler()\n",
        "x_train2=pd.DataFrame(scaler.fit_transform(x_train2),columns=x_train2.columns)\n",
        "x_train2.head()"
      ],
      "metadata": {
        "colab": {
          "base_uri": "https://localhost:8080/",
          "height": 226
        },
        "id": "RZHilwU9Mu1c",
        "outputId": "eb2808aa-d065-494f-972b-6bd223812ba4"
      },
      "execution_count": 62,
      "outputs": [
        {
          "output_type": "execute_result",
          "data": {
            "text/plain": [
              "   lte_5g_category  packet_loss_rate  packet_delay      io_t    lte_5g  \\\n",
              "0         0.496569         -0.716409     -0.981216  1.073740 -1.073740   \n",
              "1        -0.319527          1.574868     -0.602200  1.073740 -1.073740   \n",
              "2         1.312664         -0.716409     -0.981216  1.073740 -1.073740   \n",
              "3        -0.482746         -0.487488      0.345339 -0.931324  0.931324   \n",
              "4        -0.645965         -0.716409     -0.981216  1.073740 -1.073740   \n",
              "\n",
              "       gbr  non_gbr  ar_vr_gaming  healthcare  industry_4_0  io_t_devices  \\\n",
              "0 -0.87995  0.87995     -0.344976   -0.242948     -0.359040     -0.247562   \n",
              "1 -0.87995  0.87995     -0.344976   -0.242948     -0.359040     -0.247562   \n",
              "2 -0.87995  0.87995     -0.344976   -0.242948      2.785209     -0.247562   \n",
              "3 -0.87995  0.87995     -0.344976   -0.242948     -0.359040     -0.247562   \n",
              "4 -0.87995  0.87995     -0.344976    4.116113     -0.359040     -0.247562   \n",
              "\n",
              "   public_safety  smart_city_and_home  smart_transportation  smartphone  \n",
              "0       3.928589            -0.367487             -0.245824   -0.867071  \n",
              "1      -0.254544             2.721185             -0.245824   -0.867071  \n",
              "2      -0.254544            -0.367487             -0.245824   -0.867071  \n",
              "3      -0.254544            -0.367487             -0.245824    1.153308  \n",
              "4      -0.254544            -0.367487             -0.245824   -0.867071  "
            ],
            "text/html": [
              "\n",
              "  <div id=\"df-e27740c7-0264-4a7c-ae96-84a0e704df3b\" class=\"colab-df-container\">\n",
              "    <div>\n",
              "<style scoped>\n",
              "    .dataframe tbody tr th:only-of-type {\n",
              "        vertical-align: middle;\n",
              "    }\n",
              "\n",
              "    .dataframe tbody tr th {\n",
              "        vertical-align: top;\n",
              "    }\n",
              "\n",
              "    .dataframe thead th {\n",
              "        text-align: right;\n",
              "    }\n",
              "</style>\n",
              "<table border=\"1\" class=\"dataframe\">\n",
              "  <thead>\n",
              "    <tr style=\"text-align: right;\">\n",
              "      <th></th>\n",
              "      <th>lte_5g_category</th>\n",
              "      <th>packet_loss_rate</th>\n",
              "      <th>packet_delay</th>\n",
              "      <th>io_t</th>\n",
              "      <th>lte_5g</th>\n",
              "      <th>gbr</th>\n",
              "      <th>non_gbr</th>\n",
              "      <th>ar_vr_gaming</th>\n",
              "      <th>healthcare</th>\n",
              "      <th>industry_4_0</th>\n",
              "      <th>io_t_devices</th>\n",
              "      <th>public_safety</th>\n",
              "      <th>smart_city_and_home</th>\n",
              "      <th>smart_transportation</th>\n",
              "      <th>smartphone</th>\n",
              "    </tr>\n",
              "  </thead>\n",
              "  <tbody>\n",
              "    <tr>\n",
              "      <th>0</th>\n",
              "      <td>0.496569</td>\n",
              "      <td>-0.716409</td>\n",
              "      <td>-0.981216</td>\n",
              "      <td>1.073740</td>\n",
              "      <td>-1.073740</td>\n",
              "      <td>-0.87995</td>\n",
              "      <td>0.87995</td>\n",
              "      <td>-0.344976</td>\n",
              "      <td>-0.242948</td>\n",
              "      <td>-0.359040</td>\n",
              "      <td>-0.247562</td>\n",
              "      <td>3.928589</td>\n",
              "      <td>-0.367487</td>\n",
              "      <td>-0.245824</td>\n",
              "      <td>-0.867071</td>\n",
              "    </tr>\n",
              "    <tr>\n",
              "      <th>1</th>\n",
              "      <td>-0.319527</td>\n",
              "      <td>1.574868</td>\n",
              "      <td>-0.602200</td>\n",
              "      <td>1.073740</td>\n",
              "      <td>-1.073740</td>\n",
              "      <td>-0.87995</td>\n",
              "      <td>0.87995</td>\n",
              "      <td>-0.344976</td>\n",
              "      <td>-0.242948</td>\n",
              "      <td>-0.359040</td>\n",
              "      <td>-0.247562</td>\n",
              "      <td>-0.254544</td>\n",
              "      <td>2.721185</td>\n",
              "      <td>-0.245824</td>\n",
              "      <td>-0.867071</td>\n",
              "    </tr>\n",
              "    <tr>\n",
              "      <th>2</th>\n",
              "      <td>1.312664</td>\n",
              "      <td>-0.716409</td>\n",
              "      <td>-0.981216</td>\n",
              "      <td>1.073740</td>\n",
              "      <td>-1.073740</td>\n",
              "      <td>-0.87995</td>\n",
              "      <td>0.87995</td>\n",
              "      <td>-0.344976</td>\n",
              "      <td>-0.242948</td>\n",
              "      <td>2.785209</td>\n",
              "      <td>-0.247562</td>\n",
              "      <td>-0.254544</td>\n",
              "      <td>-0.367487</td>\n",
              "      <td>-0.245824</td>\n",
              "      <td>-0.867071</td>\n",
              "    </tr>\n",
              "    <tr>\n",
              "      <th>3</th>\n",
              "      <td>-0.482746</td>\n",
              "      <td>-0.487488</td>\n",
              "      <td>0.345339</td>\n",
              "      <td>-0.931324</td>\n",
              "      <td>0.931324</td>\n",
              "      <td>-0.87995</td>\n",
              "      <td>0.87995</td>\n",
              "      <td>-0.344976</td>\n",
              "      <td>-0.242948</td>\n",
              "      <td>-0.359040</td>\n",
              "      <td>-0.247562</td>\n",
              "      <td>-0.254544</td>\n",
              "      <td>-0.367487</td>\n",
              "      <td>-0.245824</td>\n",
              "      <td>1.153308</td>\n",
              "    </tr>\n",
              "    <tr>\n",
              "      <th>4</th>\n",
              "      <td>-0.645965</td>\n",
              "      <td>-0.716409</td>\n",
              "      <td>-0.981216</td>\n",
              "      <td>1.073740</td>\n",
              "      <td>-1.073740</td>\n",
              "      <td>-0.87995</td>\n",
              "      <td>0.87995</td>\n",
              "      <td>-0.344976</td>\n",
              "      <td>4.116113</td>\n",
              "      <td>-0.359040</td>\n",
              "      <td>-0.247562</td>\n",
              "      <td>-0.254544</td>\n",
              "      <td>-0.367487</td>\n",
              "      <td>-0.245824</td>\n",
              "      <td>-0.867071</td>\n",
              "    </tr>\n",
              "  </tbody>\n",
              "</table>\n",
              "</div>\n",
              "    <div class=\"colab-df-buttons\">\n",
              "\n",
              "  <div class=\"colab-df-container\">\n",
              "    <button class=\"colab-df-convert\" onclick=\"convertToInteractive('df-e27740c7-0264-4a7c-ae96-84a0e704df3b')\"\n",
              "            title=\"Convert this dataframe to an interactive table.\"\n",
              "            style=\"display:none;\">\n",
              "\n",
              "  <svg xmlns=\"http://www.w3.org/2000/svg\" height=\"24px\" viewBox=\"0 -960 960 960\">\n",
              "    <path d=\"M120-120v-720h720v720H120Zm60-500h600v-160H180v160Zm220 220h160v-160H400v160Zm0 220h160v-160H400v160ZM180-400h160v-160H180v160Zm440 0h160v-160H620v160ZM180-180h160v-160H180v160Zm440 0h160v-160H620v160Z\"/>\n",
              "  </svg>\n",
              "    </button>\n",
              "\n",
              "  <style>\n",
              "    .colab-df-container {\n",
              "      display:flex;\n",
              "      gap: 12px;\n",
              "    }\n",
              "\n",
              "    .colab-df-convert {\n",
              "      background-color: #E8F0FE;\n",
              "      border: none;\n",
              "      border-radius: 50%;\n",
              "      cursor: pointer;\n",
              "      display: none;\n",
              "      fill: #1967D2;\n",
              "      height: 32px;\n",
              "      padding: 0 0 0 0;\n",
              "      width: 32px;\n",
              "    }\n",
              "\n",
              "    .colab-df-convert:hover {\n",
              "      background-color: #E2EBFA;\n",
              "      box-shadow: 0px 1px 2px rgba(60, 64, 67, 0.3), 0px 1px 3px 1px rgba(60, 64, 67, 0.15);\n",
              "      fill: #174EA6;\n",
              "    }\n",
              "\n",
              "    .colab-df-buttons div {\n",
              "      margin-bottom: 4px;\n",
              "    }\n",
              "\n",
              "    [theme=dark] .colab-df-convert {\n",
              "      background-color: #3B4455;\n",
              "      fill: #D2E3FC;\n",
              "    }\n",
              "\n",
              "    [theme=dark] .colab-df-convert:hover {\n",
              "      background-color: #434B5C;\n",
              "      box-shadow: 0px 1px 3px 1px rgba(0, 0, 0, 0.15);\n",
              "      filter: drop-shadow(0px 1px 2px rgba(0, 0, 0, 0.3));\n",
              "      fill: #FFFFFF;\n",
              "    }\n",
              "  </style>\n",
              "\n",
              "    <script>\n",
              "      const buttonEl =\n",
              "        document.querySelector('#df-e27740c7-0264-4a7c-ae96-84a0e704df3b button.colab-df-convert');\n",
              "      buttonEl.style.display =\n",
              "        google.colab.kernel.accessAllowed ? 'block' : 'none';\n",
              "\n",
              "      async function convertToInteractive(key) {\n",
              "        const element = document.querySelector('#df-e27740c7-0264-4a7c-ae96-84a0e704df3b');\n",
              "        const dataTable =\n",
              "          await google.colab.kernel.invokeFunction('convertToInteractive',\n",
              "                                                    [key], {});\n",
              "        if (!dataTable) return;\n",
              "\n",
              "        const docLinkHtml = 'Like what you see? Visit the ' +\n",
              "          '<a target=\"_blank\" href=https://colab.research.google.com/notebooks/data_table.ipynb>data table notebook</a>'\n",
              "          + ' to learn more about interactive tables.';\n",
              "        element.innerHTML = '';\n",
              "        dataTable['output_type'] = 'display_data';\n",
              "        await google.colab.output.renderOutput(dataTable, element);\n",
              "        const docLink = document.createElement('div');\n",
              "        docLink.innerHTML = docLinkHtml;\n",
              "        element.appendChild(docLink);\n",
              "      }\n",
              "    </script>\n",
              "  </div>\n",
              "\n",
              "\n",
              "<div id=\"df-27930303-f3a0-4d26-b07a-36194ee12817\">\n",
              "  <button class=\"colab-df-quickchart\" onclick=\"quickchart('df-27930303-f3a0-4d26-b07a-36194ee12817')\"\n",
              "            title=\"Suggest charts\"\n",
              "            style=\"display:none;\">\n",
              "\n",
              "<svg xmlns=\"http://www.w3.org/2000/svg\" height=\"24px\"viewBox=\"0 0 24 24\"\n",
              "     width=\"24px\">\n",
              "    <g>\n",
              "        <path d=\"M19 3H5c-1.1 0-2 .9-2 2v14c0 1.1.9 2 2 2h14c1.1 0 2-.9 2-2V5c0-1.1-.9-2-2-2zM9 17H7v-7h2v7zm4 0h-2V7h2v10zm4 0h-2v-4h2v4z\"/>\n",
              "    </g>\n",
              "</svg>\n",
              "  </button>\n",
              "\n",
              "<style>\n",
              "  .colab-df-quickchart {\n",
              "      --bg-color: #E8F0FE;\n",
              "      --fill-color: #1967D2;\n",
              "      --hover-bg-color: #E2EBFA;\n",
              "      --hover-fill-color: #174EA6;\n",
              "      --disabled-fill-color: #AAA;\n",
              "      --disabled-bg-color: #DDD;\n",
              "  }\n",
              "\n",
              "  [theme=dark] .colab-df-quickchart {\n",
              "      --bg-color: #3B4455;\n",
              "      --fill-color: #D2E3FC;\n",
              "      --hover-bg-color: #434B5C;\n",
              "      --hover-fill-color: #FFFFFF;\n",
              "      --disabled-bg-color: #3B4455;\n",
              "      --disabled-fill-color: #666;\n",
              "  }\n",
              "\n",
              "  .colab-df-quickchart {\n",
              "    background-color: var(--bg-color);\n",
              "    border: none;\n",
              "    border-radius: 50%;\n",
              "    cursor: pointer;\n",
              "    display: none;\n",
              "    fill: var(--fill-color);\n",
              "    height: 32px;\n",
              "    padding: 0;\n",
              "    width: 32px;\n",
              "  }\n",
              "\n",
              "  .colab-df-quickchart:hover {\n",
              "    background-color: var(--hover-bg-color);\n",
              "    box-shadow: 0 1px 2px rgba(60, 64, 67, 0.3), 0 1px 3px 1px rgba(60, 64, 67, 0.15);\n",
              "    fill: var(--button-hover-fill-color);\n",
              "  }\n",
              "\n",
              "  .colab-df-quickchart-complete:disabled,\n",
              "  .colab-df-quickchart-complete:disabled:hover {\n",
              "    background-color: var(--disabled-bg-color);\n",
              "    fill: var(--disabled-fill-color);\n",
              "    box-shadow: none;\n",
              "  }\n",
              "\n",
              "  .colab-df-spinner {\n",
              "    border: 2px solid var(--fill-color);\n",
              "    border-color: transparent;\n",
              "    border-bottom-color: var(--fill-color);\n",
              "    animation:\n",
              "      spin 1s steps(1) infinite;\n",
              "  }\n",
              "\n",
              "  @keyframes spin {\n",
              "    0% {\n",
              "      border-color: transparent;\n",
              "      border-bottom-color: var(--fill-color);\n",
              "      border-left-color: var(--fill-color);\n",
              "    }\n",
              "    20% {\n",
              "      border-color: transparent;\n",
              "      border-left-color: var(--fill-color);\n",
              "      border-top-color: var(--fill-color);\n",
              "    }\n",
              "    30% {\n",
              "      border-color: transparent;\n",
              "      border-left-color: var(--fill-color);\n",
              "      border-top-color: var(--fill-color);\n",
              "      border-right-color: var(--fill-color);\n",
              "    }\n",
              "    40% {\n",
              "      border-color: transparent;\n",
              "      border-right-color: var(--fill-color);\n",
              "      border-top-color: var(--fill-color);\n",
              "    }\n",
              "    60% {\n",
              "      border-color: transparent;\n",
              "      border-right-color: var(--fill-color);\n",
              "    }\n",
              "    80% {\n",
              "      border-color: transparent;\n",
              "      border-right-color: var(--fill-color);\n",
              "      border-bottom-color: var(--fill-color);\n",
              "    }\n",
              "    90% {\n",
              "      border-color: transparent;\n",
              "      border-bottom-color: var(--fill-color);\n",
              "    }\n",
              "  }\n",
              "</style>\n",
              "\n",
              "  <script>\n",
              "    async function quickchart(key) {\n",
              "      const quickchartButtonEl =\n",
              "        document.querySelector('#' + key + ' button');\n",
              "      quickchartButtonEl.disabled = true;  // To prevent multiple clicks.\n",
              "      quickchartButtonEl.classList.add('colab-df-spinner');\n",
              "      try {\n",
              "        const charts = await google.colab.kernel.invokeFunction(\n",
              "            'suggestCharts', [key], {});\n",
              "      } catch (error) {\n",
              "        console.error('Error during call to suggestCharts:', error);\n",
              "      }\n",
              "      quickchartButtonEl.classList.remove('colab-df-spinner');\n",
              "      quickchartButtonEl.classList.add('colab-df-quickchart-complete');\n",
              "    }\n",
              "    (() => {\n",
              "      let quickchartButtonEl =\n",
              "        document.querySelector('#df-27930303-f3a0-4d26-b07a-36194ee12817 button');\n",
              "      quickchartButtonEl.style.display =\n",
              "        google.colab.kernel.accessAllowed ? 'block' : 'none';\n",
              "    })();\n",
              "  </script>\n",
              "</div>\n",
              "\n",
              "    </div>\n",
              "  </div>\n"
            ],
            "application/vnd.google.colaboratory.intrinsic+json": {
              "type": "dataframe",
              "variable_name": "x_train2",
              "summary": "{\n  \"name\": \"x_train2\",\n  \"rows\": 18373,\n  \"fields\": [\n    {\n      \"column\": \"lte_5g_category\",\n      \"properties\": {\n        \"dtype\": \"float32\",\n        \"samples\": [\n          0.4965687096118927,\n          0.9862259030342102,\n          0.33334964513778687\n        ],\n        \"num_unique_values\": 22,\n        \"semantic_type\": \"\",\n        \"description\": \"\"\n      }\n    },\n    {\n      \"column\": \"packet_loss_rate\",\n      \"properties\": {\n        \"dtype\": \"float32\",\n        \"samples\": [\n          -0.7164093255996704,\n          1.5748679637908936,\n          -0.4874877631664276\n        ],\n        \"num_unique_values\": 3,\n        \"semantic_type\": \"\",\n        \"description\": \"\"\n      }\n    },\n    {\n      \"column\": \"packet_delay\",\n      \"properties\": {\n        \"dtype\": \"float32\",\n        \"samples\": [\n          -0.9812155365943909,\n          -0.6021999716758728,\n          1.7666469812393188\n        ],\n        \"num_unique_values\": 7,\n        \"semantic_type\": \"\",\n        \"description\": \"\"\n      }\n    },\n    {\n      \"column\": \"io_t\",\n      \"properties\": {\n        \"dtype\": \"float32\",\n        \"samples\": [\n          -0.9313241243362427,\n          1.073740005493164\n        ],\n        \"num_unique_values\": 2,\n        \"semantic_type\": \"\",\n        \"description\": \"\"\n      }\n    },\n    {\n      \"column\": \"lte_5g\",\n      \"properties\": {\n        \"dtype\": \"float32\",\n        \"samples\": [\n          0.9313241243362427,\n          -1.073740005493164\n        ],\n        \"num_unique_values\": 2,\n        \"semantic_type\": \"\",\n        \"description\": \"\"\n      }\n    },\n    {\n      \"column\": \"gbr\",\n      \"properties\": {\n        \"dtype\": \"float32\",\n        \"samples\": [\n          1.1364282369613647,\n          -0.8799499869346619\n        ],\n        \"num_unique_values\": 2,\n        \"semantic_type\": \"\",\n        \"description\": \"\"\n      }\n    },\n    {\n      \"column\": \"non_gbr\",\n      \"properties\": {\n        \"dtype\": \"float32\",\n        \"samples\": [\n          -1.1364282369613647,\n          0.8799499869346619\n        ],\n        \"num_unique_values\": 2,\n        \"semantic_type\": \"\",\n        \"description\": \"\"\n      }\n    },\n    {\n      \"column\": \"ar_vr_gaming\",\n      \"properties\": {\n        \"dtype\": \"float32\",\n        \"samples\": [\n          2.898751974105835,\n          -0.3449760377407074\n        ],\n        \"num_unique_values\": 2,\n        \"semantic_type\": \"\",\n        \"description\": \"\"\n      }\n    },\n    {\n      \"column\": \"healthcare\",\n      \"properties\": {\n        \"dtype\": \"float32\",\n        \"samples\": [\n          4.11611270904541,\n          -0.24294766783714294\n        ],\n        \"num_unique_values\": 2,\n        \"semantic_type\": \"\",\n        \"description\": \"\"\n      }\n    },\n    {\n      \"column\": \"industry_4_0\",\n      \"properties\": {\n        \"dtype\": \"float32\",\n        \"samples\": [\n          2.7852087020874023,\n          -0.3590395152568817\n        ],\n        \"num_unique_values\": 2,\n        \"semantic_type\": \"\",\n        \"description\": \"\"\n      }\n    },\n    {\n      \"column\": \"io_t_devices\",\n      \"properties\": {\n        \"dtype\": \"float32\",\n        \"samples\": [\n          4.03939151763916,\n          -0.24756205081939697\n        ],\n        \"num_unique_values\": 2,\n        \"semantic_type\": \"\",\n        \"description\": \"\"\n      }\n    },\n    {\n      \"column\": \"public_safety\",\n      \"properties\": {\n        \"dtype\": \"float32\",\n        \"samples\": [\n          -0.25454431772232056,\n          3.9285888671875\n        ],\n        \"num_unique_values\": 2,\n        \"semantic_type\": \"\",\n        \"description\": \"\"\n      }\n    },\n    {\n      \"column\": \"smart_city_and_home\",\n      \"properties\": {\n        \"dtype\": \"float32\",\n        \"samples\": [\n          2.7211852073669434,\n          -0.36748695373535156\n        ],\n        \"num_unique_values\": 2,\n        \"semantic_type\": \"\",\n        \"description\": \"\"\n      }\n    },\n    {\n      \"column\": \"smart_transportation\",\n      \"properties\": {\n        \"dtype\": \"float32\",\n        \"samples\": [\n          4.0679521560668945,\n          -0.2458239495754242\n        ],\n        \"num_unique_values\": 2,\n        \"semantic_type\": \"\",\n        \"description\": \"\"\n      }\n    },\n    {\n      \"column\": \"smartphone\",\n      \"properties\": {\n        \"dtype\": \"float32\",\n        \"samples\": [\n          1.153308391571045,\n          -0.8670706748962402\n        ],\n        \"num_unique_values\": 2,\n        \"semantic_type\": \"\",\n        \"description\": \"\"\n      }\n    }\n  ]\n}"
            }
          },
          "metadata": {},
          "execution_count": 62
        }
      ]
    },
    {
      "cell_type": "code",
      "source": [
        "x_test2=pd.DataFrame(scaler.fit_transform(x_test2),columns=x_test2.columns)\n",
        "x_test2.head()"
      ],
      "metadata": {
        "colab": {
          "base_uri": "https://localhost:8080/",
          "height": 226
        },
        "id": "_jfEvx5DMz_V",
        "outputId": "7afd0564-0e14-411a-a24f-debb9cbce2b8"
      },
      "execution_count": 63,
      "outputs": [
        {
          "output_type": "execute_result",
          "data": {
            "text/plain": [
              "   lte_5g_category  packet_loss_rate  packet_delay      io_t    lte_5g  \\\n",
              "0         0.664781         -0.482940     -0.136290 -0.938083  0.938083   \n",
              "1         0.500168         -0.712444     -0.982767  1.066004 -1.066004   \n",
              "2         0.006327         -0.482940     -0.606555  1.066004 -1.066004   \n",
              "3         1.487848         -0.482940     -0.606555  1.066004 -1.066004   \n",
              "4        -1.475194         -0.482940     -0.606555 -0.938083  0.938083   \n",
              "\n",
              "        gbr   non_gbr  ar_vr_gaming  healthcare  industry_4_0  io_t_devices  \\\n",
              "0  1.124027 -1.124027      2.896828    -0.25058     -0.365662     -0.250722   \n",
              "1 -0.889658  0.889658     -0.345205    -0.25058     -0.365662     -0.250722   \n",
              "2  1.124027 -1.124027     -0.345205    -0.25058      2.734762     -0.250722   \n",
              "3  1.124027 -1.124027     -0.345205    -0.25058      2.734762     -0.250722   \n",
              "4 -0.889658  0.889658      2.896828    -0.25058     -0.365662     -0.250722   \n",
              "\n",
              "   public_safety  smart_city_and_home  smart_transportation  smartphone  \n",
              "0      -0.246559            -0.362819             -0.248791   -0.860496  \n",
              "1      -0.246559            -0.362819              4.019440   -0.860496  \n",
              "2      -0.246559            -0.362819             -0.248791   -0.860496  \n",
              "3      -0.246559            -0.362819             -0.248791   -0.860496  \n",
              "4      -0.246559            -0.362819             -0.248791   -0.860496  "
            ],
            "text/html": [
              "\n",
              "  <div id=\"df-d28302dd-0933-420f-ab61-4c54fd61194f\" class=\"colab-df-container\">\n",
              "    <div>\n",
              "<style scoped>\n",
              "    .dataframe tbody tr th:only-of-type {\n",
              "        vertical-align: middle;\n",
              "    }\n",
              "\n",
              "    .dataframe tbody tr th {\n",
              "        vertical-align: top;\n",
              "    }\n",
              "\n",
              "    .dataframe thead th {\n",
              "        text-align: right;\n",
              "    }\n",
              "</style>\n",
              "<table border=\"1\" class=\"dataframe\">\n",
              "  <thead>\n",
              "    <tr style=\"text-align: right;\">\n",
              "      <th></th>\n",
              "      <th>lte_5g_category</th>\n",
              "      <th>packet_loss_rate</th>\n",
              "      <th>packet_delay</th>\n",
              "      <th>io_t</th>\n",
              "      <th>lte_5g</th>\n",
              "      <th>gbr</th>\n",
              "      <th>non_gbr</th>\n",
              "      <th>ar_vr_gaming</th>\n",
              "      <th>healthcare</th>\n",
              "      <th>industry_4_0</th>\n",
              "      <th>io_t_devices</th>\n",
              "      <th>public_safety</th>\n",
              "      <th>smart_city_and_home</th>\n",
              "      <th>smart_transportation</th>\n",
              "      <th>smartphone</th>\n",
              "    </tr>\n",
              "  </thead>\n",
              "  <tbody>\n",
              "    <tr>\n",
              "      <th>0</th>\n",
              "      <td>0.664781</td>\n",
              "      <td>-0.482940</td>\n",
              "      <td>-0.136290</td>\n",
              "      <td>-0.938083</td>\n",
              "      <td>0.938083</td>\n",
              "      <td>1.124027</td>\n",
              "      <td>-1.124027</td>\n",
              "      <td>2.896828</td>\n",
              "      <td>-0.25058</td>\n",
              "      <td>-0.365662</td>\n",
              "      <td>-0.250722</td>\n",
              "      <td>-0.246559</td>\n",
              "      <td>-0.362819</td>\n",
              "      <td>-0.248791</td>\n",
              "      <td>-0.860496</td>\n",
              "    </tr>\n",
              "    <tr>\n",
              "      <th>1</th>\n",
              "      <td>0.500168</td>\n",
              "      <td>-0.712444</td>\n",
              "      <td>-0.982767</td>\n",
              "      <td>1.066004</td>\n",
              "      <td>-1.066004</td>\n",
              "      <td>-0.889658</td>\n",
              "      <td>0.889658</td>\n",
              "      <td>-0.345205</td>\n",
              "      <td>-0.25058</td>\n",
              "      <td>-0.365662</td>\n",
              "      <td>-0.250722</td>\n",
              "      <td>-0.246559</td>\n",
              "      <td>-0.362819</td>\n",
              "      <td>4.019440</td>\n",
              "      <td>-0.860496</td>\n",
              "    </tr>\n",
              "    <tr>\n",
              "      <th>2</th>\n",
              "      <td>0.006327</td>\n",
              "      <td>-0.482940</td>\n",
              "      <td>-0.606555</td>\n",
              "      <td>1.066004</td>\n",
              "      <td>-1.066004</td>\n",
              "      <td>1.124027</td>\n",
              "      <td>-1.124027</td>\n",
              "      <td>-0.345205</td>\n",
              "      <td>-0.25058</td>\n",
              "      <td>2.734762</td>\n",
              "      <td>-0.250722</td>\n",
              "      <td>-0.246559</td>\n",
              "      <td>-0.362819</td>\n",
              "      <td>-0.248791</td>\n",
              "      <td>-0.860496</td>\n",
              "    </tr>\n",
              "    <tr>\n",
              "      <th>3</th>\n",
              "      <td>1.487848</td>\n",
              "      <td>-0.482940</td>\n",
              "      <td>-0.606555</td>\n",
              "      <td>1.066004</td>\n",
              "      <td>-1.066004</td>\n",
              "      <td>1.124027</td>\n",
              "      <td>-1.124027</td>\n",
              "      <td>-0.345205</td>\n",
              "      <td>-0.25058</td>\n",
              "      <td>2.734762</td>\n",
              "      <td>-0.250722</td>\n",
              "      <td>-0.246559</td>\n",
              "      <td>-0.362819</td>\n",
              "      <td>-0.248791</td>\n",
              "      <td>-0.860496</td>\n",
              "    </tr>\n",
              "    <tr>\n",
              "      <th>4</th>\n",
              "      <td>-1.475194</td>\n",
              "      <td>-0.482940</td>\n",
              "      <td>-0.606555</td>\n",
              "      <td>-0.938083</td>\n",
              "      <td>0.938083</td>\n",
              "      <td>-0.889658</td>\n",
              "      <td>0.889658</td>\n",
              "      <td>2.896828</td>\n",
              "      <td>-0.25058</td>\n",
              "      <td>-0.365662</td>\n",
              "      <td>-0.250722</td>\n",
              "      <td>-0.246559</td>\n",
              "      <td>-0.362819</td>\n",
              "      <td>-0.248791</td>\n",
              "      <td>-0.860496</td>\n",
              "    </tr>\n",
              "  </tbody>\n",
              "</table>\n",
              "</div>\n",
              "    <div class=\"colab-df-buttons\">\n",
              "\n",
              "  <div class=\"colab-df-container\">\n",
              "    <button class=\"colab-df-convert\" onclick=\"convertToInteractive('df-d28302dd-0933-420f-ab61-4c54fd61194f')\"\n",
              "            title=\"Convert this dataframe to an interactive table.\"\n",
              "            style=\"display:none;\">\n",
              "\n",
              "  <svg xmlns=\"http://www.w3.org/2000/svg\" height=\"24px\" viewBox=\"0 -960 960 960\">\n",
              "    <path d=\"M120-120v-720h720v720H120Zm60-500h600v-160H180v160Zm220 220h160v-160H400v160Zm0 220h160v-160H400v160ZM180-400h160v-160H180v160Zm440 0h160v-160H620v160ZM180-180h160v-160H180v160Zm440 0h160v-160H620v160Z\"/>\n",
              "  </svg>\n",
              "    </button>\n",
              "\n",
              "  <style>\n",
              "    .colab-df-container {\n",
              "      display:flex;\n",
              "      gap: 12px;\n",
              "    }\n",
              "\n",
              "    .colab-df-convert {\n",
              "      background-color: #E8F0FE;\n",
              "      border: none;\n",
              "      border-radius: 50%;\n",
              "      cursor: pointer;\n",
              "      display: none;\n",
              "      fill: #1967D2;\n",
              "      height: 32px;\n",
              "      padding: 0 0 0 0;\n",
              "      width: 32px;\n",
              "    }\n",
              "\n",
              "    .colab-df-convert:hover {\n",
              "      background-color: #E2EBFA;\n",
              "      box-shadow: 0px 1px 2px rgba(60, 64, 67, 0.3), 0px 1px 3px 1px rgba(60, 64, 67, 0.15);\n",
              "      fill: #174EA6;\n",
              "    }\n",
              "\n",
              "    .colab-df-buttons div {\n",
              "      margin-bottom: 4px;\n",
              "    }\n",
              "\n",
              "    [theme=dark] .colab-df-convert {\n",
              "      background-color: #3B4455;\n",
              "      fill: #D2E3FC;\n",
              "    }\n",
              "\n",
              "    [theme=dark] .colab-df-convert:hover {\n",
              "      background-color: #434B5C;\n",
              "      box-shadow: 0px 1px 3px 1px rgba(0, 0, 0, 0.15);\n",
              "      filter: drop-shadow(0px 1px 2px rgba(0, 0, 0, 0.3));\n",
              "      fill: #FFFFFF;\n",
              "    }\n",
              "  </style>\n",
              "\n",
              "    <script>\n",
              "      const buttonEl =\n",
              "        document.querySelector('#df-d28302dd-0933-420f-ab61-4c54fd61194f button.colab-df-convert');\n",
              "      buttonEl.style.display =\n",
              "        google.colab.kernel.accessAllowed ? 'block' : 'none';\n",
              "\n",
              "      async function convertToInteractive(key) {\n",
              "        const element = document.querySelector('#df-d28302dd-0933-420f-ab61-4c54fd61194f');\n",
              "        const dataTable =\n",
              "          await google.colab.kernel.invokeFunction('convertToInteractive',\n",
              "                                                    [key], {});\n",
              "        if (!dataTable) return;\n",
              "\n",
              "        const docLinkHtml = 'Like what you see? Visit the ' +\n",
              "          '<a target=\"_blank\" href=https://colab.research.google.com/notebooks/data_table.ipynb>data table notebook</a>'\n",
              "          + ' to learn more about interactive tables.';\n",
              "        element.innerHTML = '';\n",
              "        dataTable['output_type'] = 'display_data';\n",
              "        await google.colab.output.renderOutput(dataTable, element);\n",
              "        const docLink = document.createElement('div');\n",
              "        docLink.innerHTML = docLinkHtml;\n",
              "        element.appendChild(docLink);\n",
              "      }\n",
              "    </script>\n",
              "  </div>\n",
              "\n",
              "\n",
              "<div id=\"df-8d25fb81-1289-47da-b9ba-dc47a997ef43\">\n",
              "  <button class=\"colab-df-quickchart\" onclick=\"quickchart('df-8d25fb81-1289-47da-b9ba-dc47a997ef43')\"\n",
              "            title=\"Suggest charts\"\n",
              "            style=\"display:none;\">\n",
              "\n",
              "<svg xmlns=\"http://www.w3.org/2000/svg\" height=\"24px\"viewBox=\"0 0 24 24\"\n",
              "     width=\"24px\">\n",
              "    <g>\n",
              "        <path d=\"M19 3H5c-1.1 0-2 .9-2 2v14c0 1.1.9 2 2 2h14c1.1 0 2-.9 2-2V5c0-1.1-.9-2-2-2zM9 17H7v-7h2v7zm4 0h-2V7h2v10zm4 0h-2v-4h2v4z\"/>\n",
              "    </g>\n",
              "</svg>\n",
              "  </button>\n",
              "\n",
              "<style>\n",
              "  .colab-df-quickchart {\n",
              "      --bg-color: #E8F0FE;\n",
              "      --fill-color: #1967D2;\n",
              "      --hover-bg-color: #E2EBFA;\n",
              "      --hover-fill-color: #174EA6;\n",
              "      --disabled-fill-color: #AAA;\n",
              "      --disabled-bg-color: #DDD;\n",
              "  }\n",
              "\n",
              "  [theme=dark] .colab-df-quickchart {\n",
              "      --bg-color: #3B4455;\n",
              "      --fill-color: #D2E3FC;\n",
              "      --hover-bg-color: #434B5C;\n",
              "      --hover-fill-color: #FFFFFF;\n",
              "      --disabled-bg-color: #3B4455;\n",
              "      --disabled-fill-color: #666;\n",
              "  }\n",
              "\n",
              "  .colab-df-quickchart {\n",
              "    background-color: var(--bg-color);\n",
              "    border: none;\n",
              "    border-radius: 50%;\n",
              "    cursor: pointer;\n",
              "    display: none;\n",
              "    fill: var(--fill-color);\n",
              "    height: 32px;\n",
              "    padding: 0;\n",
              "    width: 32px;\n",
              "  }\n",
              "\n",
              "  .colab-df-quickchart:hover {\n",
              "    background-color: var(--hover-bg-color);\n",
              "    box-shadow: 0 1px 2px rgba(60, 64, 67, 0.3), 0 1px 3px 1px rgba(60, 64, 67, 0.15);\n",
              "    fill: var(--button-hover-fill-color);\n",
              "  }\n",
              "\n",
              "  .colab-df-quickchart-complete:disabled,\n",
              "  .colab-df-quickchart-complete:disabled:hover {\n",
              "    background-color: var(--disabled-bg-color);\n",
              "    fill: var(--disabled-fill-color);\n",
              "    box-shadow: none;\n",
              "  }\n",
              "\n",
              "  .colab-df-spinner {\n",
              "    border: 2px solid var(--fill-color);\n",
              "    border-color: transparent;\n",
              "    border-bottom-color: var(--fill-color);\n",
              "    animation:\n",
              "      spin 1s steps(1) infinite;\n",
              "  }\n",
              "\n",
              "  @keyframes spin {\n",
              "    0% {\n",
              "      border-color: transparent;\n",
              "      border-bottom-color: var(--fill-color);\n",
              "      border-left-color: var(--fill-color);\n",
              "    }\n",
              "    20% {\n",
              "      border-color: transparent;\n",
              "      border-left-color: var(--fill-color);\n",
              "      border-top-color: var(--fill-color);\n",
              "    }\n",
              "    30% {\n",
              "      border-color: transparent;\n",
              "      border-left-color: var(--fill-color);\n",
              "      border-top-color: var(--fill-color);\n",
              "      border-right-color: var(--fill-color);\n",
              "    }\n",
              "    40% {\n",
              "      border-color: transparent;\n",
              "      border-right-color: var(--fill-color);\n",
              "      border-top-color: var(--fill-color);\n",
              "    }\n",
              "    60% {\n",
              "      border-color: transparent;\n",
              "      border-right-color: var(--fill-color);\n",
              "    }\n",
              "    80% {\n",
              "      border-color: transparent;\n",
              "      border-right-color: var(--fill-color);\n",
              "      border-bottom-color: var(--fill-color);\n",
              "    }\n",
              "    90% {\n",
              "      border-color: transparent;\n",
              "      border-bottom-color: var(--fill-color);\n",
              "    }\n",
              "  }\n",
              "</style>\n",
              "\n",
              "  <script>\n",
              "    async function quickchart(key) {\n",
              "      const quickchartButtonEl =\n",
              "        document.querySelector('#' + key + ' button');\n",
              "      quickchartButtonEl.disabled = true;  // To prevent multiple clicks.\n",
              "      quickchartButtonEl.classList.add('colab-df-spinner');\n",
              "      try {\n",
              "        const charts = await google.colab.kernel.invokeFunction(\n",
              "            'suggestCharts', [key], {});\n",
              "      } catch (error) {\n",
              "        console.error('Error during call to suggestCharts:', error);\n",
              "      }\n",
              "      quickchartButtonEl.classList.remove('colab-df-spinner');\n",
              "      quickchartButtonEl.classList.add('colab-df-quickchart-complete');\n",
              "    }\n",
              "    (() => {\n",
              "      let quickchartButtonEl =\n",
              "        document.querySelector('#df-8d25fb81-1289-47da-b9ba-dc47a997ef43 button');\n",
              "      quickchartButtonEl.style.display =\n",
              "        google.colab.kernel.accessAllowed ? 'block' : 'none';\n",
              "    })();\n",
              "  </script>\n",
              "</div>\n",
              "\n",
              "    </div>\n",
              "  </div>\n"
            ],
            "application/vnd.google.colaboratory.intrinsic+json": {
              "type": "dataframe",
              "variable_name": "x_test2",
              "summary": "{\n  \"name\": \"x_test2\",\n  \"rows\": 31584,\n  \"fields\": [\n    {\n      \"column\": \"lte_5g_category\",\n      \"properties\": {\n        \"dtype\": \"float32\",\n        \"samples\": [\n          0.6647810339927673,\n          -0.6521264314651489,\n          1.8170748949050903\n        ],\n        \"num_unique_values\": 22,\n        \"semantic_type\": \"\",\n        \"description\": \"\"\n      }\n    },\n    {\n      \"column\": \"packet_loss_rate\",\n      \"properties\": {\n        \"dtype\": \"float32\",\n        \"samples\": [\n          -0.48293980956077576,\n          -0.7124435901641846,\n          1.584661841392517\n        ],\n        \"num_unique_values\": 3,\n        \"semantic_type\": \"\",\n        \"description\": \"\"\n      }\n    },\n    {\n      \"column\": \"packet_delay\",\n      \"properties\": {\n        \"dtype\": \"float32\",\n        \"samples\": [\n          -0.13628964126110077,\n          -0.9827669262886047,\n          0.33397552371025085\n        ],\n        \"num_unique_values\": 7,\n        \"semantic_type\": \"\",\n        \"description\": \"\"\n      }\n    },\n    {\n      \"column\": \"io_t\",\n      \"properties\": {\n        \"dtype\": \"float32\",\n        \"samples\": [\n          1.0660035610198975,\n          -0.9380831718444824\n        ],\n        \"num_unique_values\": 2,\n        \"semantic_type\": \"\",\n        \"description\": \"\"\n      }\n    },\n    {\n      \"column\": \"lte_5g\",\n      \"properties\": {\n        \"dtype\": \"float32\",\n        \"samples\": [\n          -1.0660035610198975,\n          0.9380831718444824\n        ],\n        \"num_unique_values\": 2,\n        \"semantic_type\": \"\",\n        \"description\": \"\"\n      }\n    },\n    {\n      \"column\": \"gbr\",\n      \"properties\": {\n        \"dtype\": \"float32\",\n        \"samples\": [\n          -0.8896582722663879,\n          1.124027132987976\n        ],\n        \"num_unique_values\": 2,\n        \"semantic_type\": \"\",\n        \"description\": \"\"\n      }\n    },\n    {\n      \"column\": \"non_gbr\",\n      \"properties\": {\n        \"dtype\": \"float32\",\n        \"samples\": [\n          0.8896582722663879,\n          -1.124027132987976\n        ],\n        \"num_unique_values\": 2,\n        \"semantic_type\": \"\",\n        \"description\": \"\"\n      }\n    },\n    {\n      \"column\": \"ar_vr_gaming\",\n      \"properties\": {\n        \"dtype\": \"float32\",\n        \"samples\": [\n          -0.3452051281929016,\n          2.8968284130096436\n        ],\n        \"num_unique_values\": 2,\n        \"semantic_type\": \"\",\n        \"description\": \"\"\n      }\n    },\n    {\n      \"column\": \"healthcare\",\n      \"properties\": {\n        \"dtype\": \"float32\",\n        \"samples\": [\n          3.9907448291778564,\n          -0.2505798041820526\n        ],\n        \"num_unique_values\": 2,\n        \"semantic_type\": \"\",\n        \"description\": \"\"\n      }\n    },\n    {\n      \"column\": \"industry_4_0\",\n      \"properties\": {\n        \"dtype\": \"float32\",\n        \"samples\": [\n          2.73476243019104,\n          -0.36566245555877686\n        ],\n        \"num_unique_values\": 2,\n        \"semantic_type\": \"\",\n        \"description\": \"\"\n      }\n    },\n    {\n      \"column\": \"io_t_devices\",\n      \"properties\": {\n        \"dtype\": \"float32\",\n        \"samples\": [\n          3.988473892211914,\n          -0.2507224678993225\n        ],\n        \"num_unique_values\": 2,\n        \"semantic_type\": \"\",\n        \"description\": \"\"\n      }\n    },\n    {\n      \"column\": \"public_safety\",\n      \"properties\": {\n        \"dtype\": \"float32\",\n        \"samples\": [\n          4.055826187133789,\n          -0.24655890464782715\n        ],\n        \"num_unique_values\": 2,\n        \"semantic_type\": \"\",\n        \"description\": \"\"\n      }\n    },\n    {\n      \"column\": \"smart_city_and_home\",\n      \"properties\": {\n        \"dtype\": \"float32\",\n        \"samples\": [\n          2.756197452545166,\n          -0.3628186881542206\n        ],\n        \"num_unique_values\": 2,\n        \"semantic_type\": \"\",\n        \"description\": \"\"\n      }\n    },\n    {\n      \"column\": \"smart_transportation\",\n      \"properties\": {\n        \"dtype\": \"float32\",\n        \"samples\": [\n          4.019439697265625,\n          -0.24879090487957\n        ],\n        \"num_unique_values\": 2,\n        \"semantic_type\": \"\",\n        \"description\": \"\"\n      }\n    },\n    {\n      \"column\": \"smartphone\",\n      \"properties\": {\n        \"dtype\": \"float32\",\n        \"samples\": [\n          1.1621208190917969,\n          -0.8604958057403564\n        ],\n        \"num_unique_values\": 2,\n        \"semantic_type\": \"\",\n        \"description\": \"\"\n      }\n    }\n  ]\n}"
            }
          },
          "metadata": {},
          "execution_count": 63
        }
      ]
    },
    {
      "cell_type": "code",
      "source": [
        "print(x_train2.shape, x_test2.shape)"
      ],
      "metadata": {
        "colab": {
          "base_uri": "https://localhost:8080/"
        },
        "id": "WX5OS_A_OFqY",
        "outputId": "c12a815a-2a76-4354-d468-193a14c189dc"
      },
      "execution_count": 64,
      "outputs": [
        {
          "output_type": "stream",
          "name": "stdout",
          "text": [
            "(18373, 15) (31584, 15)\n"
          ]
        }
      ]
    },
    {
      "cell_type": "code",
      "source": [
        "y_train = pd.DataFrame(y_train)\n",
        "y_test = pd.DataFrame(y_test)"
      ],
      "metadata": {
        "id": "u64gFtWyOQkx"
      },
      "execution_count": 65,
      "outputs": []
    },
    {
      "cell_type": "code",
      "source": [
        "y_train.columns"
      ],
      "metadata": {
        "colab": {
          "base_uri": "https://localhost:8080/"
        },
        "id": "Tp9NC7O3Okkv",
        "outputId": "e477ec54-d75f-47db-ed24-3b19155e6c6a"
      },
      "execution_count": 66,
      "outputs": [
        {
          "output_type": "execute_result",
          "data": {
            "text/plain": [
              "Index(['slice_type'], dtype='object')"
            ]
          },
          "metadata": {},
          "execution_count": 66
        }
      ]
    },
    {
      "cell_type": "code",
      "source": [
        "y_train = pd.get_dummies(y_train.slice_type)\n",
        "y_test = pd.get_dummies(y_test.slice_type)\n"
      ],
      "metadata": {
        "id": "cw-UGOwKMrgC"
      },
      "execution_count": 67,
      "outputs": []
    },
    {
      "cell_type": "code",
      "source": [
        "from tensorflow.keras.models import Sequential\n",
        "from tensorflow.keras.layers import LSTM, Dropout, Bidirectional, Embedding, Dense\n",
        "from keras import callbacks"
      ],
      "metadata": {
        "id": "rH3GiwykOvKX"
      },
      "execution_count": 68,
      "outputs": []
    },
    {
      "cell_type": "code",
      "source": [
        "#Early stopping\n",
        "early_stopping = callbacks.EarlyStopping(\n",
        "    min_delta=0.001, # minimium amount of change to count as an improvement\n",
        "    patience=20, # how many epochs to wait before stopping\n",
        "    restore_best_weights=True,\n",
        ")\n"
      ],
      "metadata": {
        "id": "NvxZaWdHPSpt"
      },
      "execution_count": 69,
      "outputs": []
    },
    {
      "cell_type": "code",
      "source": [
        "from keras.optimizers import Adam"
      ],
      "metadata": {
        "id": "daj_apmbQZlC"
      },
      "execution_count": 70,
      "outputs": []
    },
    {
      "cell_type": "code",
      "source": [
        "# Initialising the NN\n",
        "model = Sequential()\n",
        "\n",
        "# layers\n",
        "\n",
        "model.add(Dense(units = 32, kernel_initializer = 'uniform', activation = 'relu', input_dim = 15))\n",
        "model.add(Dense(units = 32, kernel_initializer = 'uniform', activation = 'relu'))\n",
        "model.add(Dense(units = 32, kernel_initializer = 'uniform', activation = 'relu'))\n",
        "model.add(Dropout(0.25))\n",
        "model.add(Dense(units = 8, kernel_initializer = 'uniform', activation = 'relu'))\n",
        "model.add(Dropout(0.5))\n",
        "model.add(Dense(units = 3, kernel_initializer = 'uniform', activation = 'sigmoid'))\n",
        "\n",
        "# Compiling the ANN\n",
        "opt = Adam(learning_rate=0.00009)\n",
        "model.compile(optimizer = opt, loss = 'binary_crossentropy', metrics = ['accuracy'])\n"
      ],
      "metadata": {
        "id": "---dZ8vTO7Yw"
      },
      "execution_count": 72,
      "outputs": []
    },
    {
      "cell_type": "code",
      "source": [
        "history = model.fit(x_train2, y_train, batch_size = 64, epochs = 150, callbacks=[early_stopping], validation_split=0.2)"
      ],
      "metadata": {
        "colab": {
          "base_uri": "https://localhost:8080/"
        },
        "id": "Pdy_nRtpQbkc",
        "outputId": "f8ee0a00-1427-424a-9f72-edaaa3e19ab1"
      },
      "execution_count": 73,
      "outputs": [
        {
          "output_type": "stream",
          "name": "stdout",
          "text": [
            "Epoch 1/150\n",
            "230/230 [==============================] - 2s 2ms/step - loss: 0.6899 - accuracy: 0.5350 - val_loss: 0.6815 - val_accuracy: 0.5331\n",
            "Epoch 2/150\n",
            "230/230 [==============================] - 0s 2ms/step - loss: 0.5794 - accuracy: 0.5361 - val_loss: 0.4108 - val_accuracy: 0.5331\n",
            "Epoch 3/150\n",
            "230/230 [==============================] - 0s 2ms/step - loss: 0.3691 - accuracy: 0.5641 - val_loss: 0.3269 - val_accuracy: 0.7725\n",
            "Epoch 4/150\n",
            "230/230 [==============================] - 0s 2ms/step - loss: 0.3323 - accuracy: 0.7210 - val_loss: 0.3159 - val_accuracy: 0.7725\n",
            "Epoch 5/150\n",
            "230/230 [==============================] - 1s 3ms/step - loss: 0.3165 - accuracy: 0.7633 - val_loss: 0.2987 - val_accuracy: 0.7725\n",
            "Epoch 6/150\n",
            "230/230 [==============================] - 1s 3ms/step - loss: 0.2943 - accuracy: 0.7646 - val_loss: 0.2682 - val_accuracy: 0.7605\n",
            "Epoch 7/150\n",
            "230/230 [==============================] - 0s 2ms/step - loss: 0.2770 - accuracy: 0.7651 - val_loss: 0.2456 - val_accuracy: 0.7605\n",
            "Epoch 8/150\n",
            "230/230 [==============================] - 0s 2ms/step - loss: 0.2695 - accuracy: 0.7632 - val_loss: 0.2342 - val_accuracy: 0.7605\n",
            "Epoch 9/150\n",
            "230/230 [==============================] - 0s 2ms/step - loss: 0.2677 - accuracy: 0.7685 - val_loss: 0.2265 - val_accuracy: 0.7605\n",
            "Epoch 10/150\n",
            "230/230 [==============================] - 0s 2ms/step - loss: 0.2627 - accuracy: 0.7671 - val_loss: 0.2190 - val_accuracy: 0.7605\n",
            "Epoch 11/150\n",
            "230/230 [==============================] - 0s 2ms/step - loss: 0.2575 - accuracy: 0.7596 - val_loss: 0.2120 - val_accuracy: 0.7605\n",
            "Epoch 12/150\n",
            "230/230 [==============================] - 0s 2ms/step - loss: 0.2527 - accuracy: 0.7619 - val_loss: 0.2049 - val_accuracy: 0.7605\n",
            "Epoch 13/150\n",
            "230/230 [==============================] - 0s 2ms/step - loss: 0.2443 - accuracy: 0.7683 - val_loss: 0.1966 - val_accuracy: 0.7605\n",
            "Epoch 14/150\n",
            "230/230 [==============================] - 0s 2ms/step - loss: 0.2421 - accuracy: 0.7662 - val_loss: 0.1893 - val_accuracy: 0.7605\n",
            "Epoch 15/150\n",
            "230/230 [==============================] - 0s 2ms/step - loss: 0.2367 - accuracy: 0.7655 - val_loss: 0.1828 - val_accuracy: 0.7605\n",
            "Epoch 16/150\n",
            "230/230 [==============================] - 0s 2ms/step - loss: 0.2309 - accuracy: 0.7684 - val_loss: 0.1749 - val_accuracy: 0.8261\n",
            "Epoch 17/150\n",
            "230/230 [==============================] - 0s 2ms/step - loss: 0.2288 - accuracy: 0.7617 - val_loss: 0.1674 - val_accuracy: 0.8814\n",
            "Epoch 18/150\n",
            "230/230 [==============================] - 0s 2ms/step - loss: 0.2222 - accuracy: 0.7694 - val_loss: 0.1604 - val_accuracy: 0.9124\n",
            "Epoch 19/150\n",
            "230/230 [==============================] - 0s 2ms/step - loss: 0.2167 - accuracy: 0.7708 - val_loss: 0.1534 - val_accuracy: 1.0000\n",
            "Epoch 20/150\n",
            "230/230 [==============================] - 0s 2ms/step - loss: 0.2153 - accuracy: 0.7768 - val_loss: 0.1483 - val_accuracy: 1.0000\n",
            "Epoch 21/150\n",
            "230/230 [==============================] - 0s 2ms/step - loss: 0.2124 - accuracy: 0.7844 - val_loss: 0.1443 - val_accuracy: 1.0000\n",
            "Epoch 22/150\n",
            "230/230 [==============================] - 0s 2ms/step - loss: 0.2112 - accuracy: 0.8102 - val_loss: 0.1406 - val_accuracy: 1.0000\n",
            "Epoch 23/150\n",
            "230/230 [==============================] - 0s 2ms/step - loss: 0.2102 - accuracy: 0.8418 - val_loss: 0.1375 - val_accuracy: 1.0000\n",
            "Epoch 24/150\n",
            "230/230 [==============================] - 0s 2ms/step - loss: 0.2098 - accuracy: 0.8635 - val_loss: 0.1347 - val_accuracy: 1.0000\n",
            "Epoch 25/150\n",
            "230/230 [==============================] - 0s 2ms/step - loss: 0.2074 - accuracy: 0.8773 - val_loss: 0.1316 - val_accuracy: 1.0000\n",
            "Epoch 26/150\n",
            "230/230 [==============================] - 0s 2ms/step - loss: 0.2036 - accuracy: 0.8814 - val_loss: 0.1291 - val_accuracy: 1.0000\n",
            "Epoch 27/150\n",
            "230/230 [==============================] - 0s 2ms/step - loss: 0.2047 - accuracy: 0.8779 - val_loss: 0.1259 - val_accuracy: 1.0000\n",
            "Epoch 28/150\n",
            "230/230 [==============================] - 0s 2ms/step - loss: 0.2002 - accuracy: 0.8819 - val_loss: 0.1228 - val_accuracy: 1.0000\n",
            "Epoch 29/150\n",
            "230/230 [==============================] - 0s 2ms/step - loss: 0.2012 - accuracy: 0.8790 - val_loss: 0.1207 - val_accuracy: 1.0000\n",
            "Epoch 30/150\n",
            "230/230 [==============================] - 0s 2ms/step - loss: 0.2004 - accuracy: 0.8779 - val_loss: 0.1193 - val_accuracy: 1.0000\n",
            "Epoch 31/150\n",
            "230/230 [==============================] - 0s 2ms/step - loss: 0.2007 - accuracy: 0.8755 - val_loss: 0.1163 - val_accuracy: 1.0000\n",
            "Epoch 32/150\n",
            "230/230 [==============================] - 1s 3ms/step - loss: 0.1970 - accuracy: 0.8794 - val_loss: 0.1143 - val_accuracy: 1.0000\n",
            "Epoch 33/150\n",
            "230/230 [==============================] - 1s 3ms/step - loss: 0.1943 - accuracy: 0.8814 - val_loss: 0.1117 - val_accuracy: 1.0000\n",
            "Epoch 34/150\n",
            "230/230 [==============================] - 1s 2ms/step - loss: 0.1944 - accuracy: 0.8795 - val_loss: 0.1107 - val_accuracy: 1.0000\n",
            "Epoch 35/150\n",
            "230/230 [==============================] - 0s 2ms/step - loss: 0.1922 - accuracy: 0.8811 - val_loss: 0.1081 - val_accuracy: 1.0000\n",
            "Epoch 36/150\n",
            "230/230 [==============================] - 0s 2ms/step - loss: 0.1940 - accuracy: 0.8769 - val_loss: 0.1073 - val_accuracy: 1.0000\n",
            "Epoch 37/150\n",
            "230/230 [==============================] - 0s 2ms/step - loss: 0.1915 - accuracy: 0.8801 - val_loss: 0.1055 - val_accuracy: 1.0000\n",
            "Epoch 38/150\n",
            "230/230 [==============================] - 0s 2ms/step - loss: 0.1922 - accuracy: 0.8771 - val_loss: 0.1020 - val_accuracy: 1.0000\n",
            "Epoch 39/150\n",
            "230/230 [==============================] - 0s 2ms/step - loss: 0.1900 - accuracy: 0.8794 - val_loss: 0.1020 - val_accuracy: 1.0000\n",
            "Epoch 40/150\n",
            "230/230 [==============================] - 0s 2ms/step - loss: 0.1865 - accuracy: 0.8826 - val_loss: 0.1007 - val_accuracy: 1.0000\n",
            "Epoch 41/150\n",
            "230/230 [==============================] - 0s 2ms/step - loss: 0.1872 - accuracy: 0.8805 - val_loss: 0.0990 - val_accuracy: 1.0000\n",
            "Epoch 42/150\n",
            "230/230 [==============================] - 0s 2ms/step - loss: 0.1868 - accuracy: 0.8804 - val_loss: 0.0972 - val_accuracy: 1.0000\n",
            "Epoch 43/150\n",
            "230/230 [==============================] - 0s 2ms/step - loss: 0.1838 - accuracy: 0.8830 - val_loss: 0.0959 - val_accuracy: 1.0000\n",
            "Epoch 44/150\n",
            "230/230 [==============================] - 0s 2ms/step - loss: 0.1890 - accuracy: 0.8749 - val_loss: 0.0959 - val_accuracy: 1.0000\n",
            "Epoch 45/150\n",
            "230/230 [==============================] - 0s 2ms/step - loss: 0.1817 - accuracy: 0.8842 - val_loss: 0.0940 - val_accuracy: 1.0000\n",
            "Epoch 46/150\n",
            "230/230 [==============================] - 0s 2ms/step - loss: 0.1861 - accuracy: 0.8766 - val_loss: 0.0928 - val_accuracy: 1.0000\n",
            "Epoch 47/150\n",
            "230/230 [==============================] - 0s 2ms/step - loss: 0.1839 - accuracy: 0.8789 - val_loss: 0.0921 - val_accuracy: 1.0000\n",
            "Epoch 48/150\n",
            "230/230 [==============================] - 0s 2ms/step - loss: 0.1814 - accuracy: 0.8811 - val_loss: 0.0906 - val_accuracy: 1.0000\n",
            "Epoch 49/150\n",
            "230/230 [==============================] - 0s 2ms/step - loss: 0.1828 - accuracy: 0.8785 - val_loss: 0.0898 - val_accuracy: 1.0000\n",
            "Epoch 50/150\n",
            "230/230 [==============================] - 0s 2ms/step - loss: 0.1819 - accuracy: 0.8794 - val_loss: 0.0888 - val_accuracy: 1.0000\n",
            "Epoch 51/150\n",
            "230/230 [==============================] - 0s 2ms/step - loss: 0.1794 - accuracy: 0.8815 - val_loss: 0.0877 - val_accuracy: 1.0000\n",
            "Epoch 52/150\n",
            "230/230 [==============================] - 0s 2ms/step - loss: 0.1812 - accuracy: 0.8790 - val_loss: 0.0872 - val_accuracy: 1.0000\n",
            "Epoch 53/150\n",
            "230/230 [==============================] - 0s 2ms/step - loss: 0.1800 - accuracy: 0.8792 - val_loss: 0.0858 - val_accuracy: 1.0000\n",
            "Epoch 54/150\n",
            "230/230 [==============================] - 0s 2ms/step - loss: 0.1799 - accuracy: 0.8788 - val_loss: 0.0860 - val_accuracy: 1.0000\n",
            "Epoch 55/150\n",
            "230/230 [==============================] - 0s 2ms/step - loss: 0.1791 - accuracy: 0.8788 - val_loss: 0.0842 - val_accuracy: 1.0000\n",
            "Epoch 56/150\n",
            "230/230 [==============================] - 0s 2ms/step - loss: 0.1774 - accuracy: 0.8807 - val_loss: 0.0833 - val_accuracy: 1.0000\n",
            "Epoch 57/150\n",
            "230/230 [==============================] - 0s 2ms/step - loss: 0.1768 - accuracy: 0.8815 - val_loss: 0.0826 - val_accuracy: 1.0000\n",
            "Epoch 58/150\n",
            "230/230 [==============================] - 0s 2ms/step - loss: 0.1779 - accuracy: 0.8793 - val_loss: 0.0826 - val_accuracy: 1.0000\n",
            "Epoch 59/150\n",
            "230/230 [==============================] - 1s 2ms/step - loss: 0.1789 - accuracy: 0.8771 - val_loss: 0.0814 - val_accuracy: 1.0000\n",
            "Epoch 60/150\n",
            "230/230 [==============================] - 1s 3ms/step - loss: 0.1747 - accuracy: 0.8821 - val_loss: 0.0813 - val_accuracy: 1.0000\n",
            "Epoch 61/150\n",
            "230/230 [==============================] - 0s 2ms/step - loss: 0.1725 - accuracy: 0.8843 - val_loss: 0.0804 - val_accuracy: 1.0000\n",
            "Epoch 62/150\n",
            "230/230 [==============================] - 0s 2ms/step - loss: 0.1756 - accuracy: 0.8797 - val_loss: 0.0793 - val_accuracy: 1.0000\n",
            "Epoch 63/150\n",
            "230/230 [==============================] - 0s 2ms/step - loss: 0.1753 - accuracy: 0.8796 - val_loss: 0.0798 - val_accuracy: 1.0000\n",
            "Epoch 64/150\n",
            "230/230 [==============================] - 0s 2ms/step - loss: 0.1735 - accuracy: 0.8813 - val_loss: 0.0794 - val_accuracy: 1.0000\n",
            "Epoch 65/150\n",
            "230/230 [==============================] - 0s 2ms/step - loss: 0.1723 - accuracy: 0.8822 - val_loss: 0.0781 - val_accuracy: 1.0000\n",
            "Epoch 66/150\n",
            "230/230 [==============================] - 0s 2ms/step - loss: 0.1733 - accuracy: 0.8804 - val_loss: 0.0778 - val_accuracy: 1.0000\n",
            "Epoch 67/150\n",
            "230/230 [==============================] - 0s 2ms/step - loss: 0.1754 - accuracy: 0.8774 - val_loss: 0.0775 - val_accuracy: 1.0000\n",
            "Epoch 68/150\n",
            "230/230 [==============================] - 0s 2ms/step - loss: 0.1727 - accuracy: 0.8805 - val_loss: 0.0772 - val_accuracy: 1.0000\n",
            "Epoch 69/150\n",
            "230/230 [==============================] - 0s 2ms/step - loss: 0.1709 - accuracy: 0.8822 - val_loss: 0.0766 - val_accuracy: 1.0000\n",
            "Epoch 70/150\n",
            "230/230 [==============================] - 0s 2ms/step - loss: 0.1726 - accuracy: 0.8797 - val_loss: 0.0760 - val_accuracy: 1.0000\n",
            "Epoch 71/150\n",
            "230/230 [==============================] - 0s 2ms/step - loss: 0.1715 - accuracy: 0.8806 - val_loss: 0.0768 - val_accuracy: 1.0000\n",
            "Epoch 72/150\n",
            "230/230 [==============================] - 0s 2ms/step - loss: 0.1702 - accuracy: 0.8815 - val_loss: 0.0756 - val_accuracy: 1.0000\n",
            "Epoch 73/150\n",
            "230/230 [==============================] - 0s 2ms/step - loss: 0.1699 - accuracy: 0.8817 - val_loss: 0.0756 - val_accuracy: 1.0000\n",
            "Epoch 74/150\n",
            "230/230 [==============================] - 0s 2ms/step - loss: 0.1728 - accuracy: 0.8777 - val_loss: 0.0748 - val_accuracy: 1.0000\n",
            "Epoch 75/150\n",
            "230/230 [==============================] - 0s 2ms/step - loss: 0.1694 - accuracy: 0.8816 - val_loss: 0.0746 - val_accuracy: 1.0000\n",
            "Epoch 76/150\n",
            "230/230 [==============================] - 0s 2ms/step - loss: 0.1704 - accuracy: 0.8797 - val_loss: 0.0741 - val_accuracy: 1.0000\n",
            "Epoch 77/150\n",
            "230/230 [==============================] - 0s 2ms/step - loss: 0.1712 - accuracy: 0.8784 - val_loss: 0.0744 - val_accuracy: 1.0000\n",
            "Epoch 78/150\n",
            "230/230 [==============================] - 0s 2ms/step - loss: 0.1697 - accuracy: 0.8798 - val_loss: 0.0749 - val_accuracy: 1.0000\n",
            "Epoch 79/150\n",
            "230/230 [==============================] - 0s 2ms/step - loss: 0.1694 - accuracy: 0.8800 - val_loss: 0.0737 - val_accuracy: 1.0000\n",
            "Epoch 80/150\n",
            "230/230 [==============================] - 0s 2ms/step - loss: 0.1684 - accuracy: 0.8809 - val_loss: 0.0734 - val_accuracy: 1.0000\n",
            "Epoch 81/150\n",
            "230/230 [==============================] - 0s 2ms/step - loss: 0.1676 - accuracy: 0.8815 - val_loss: 0.0730 - val_accuracy: 1.0000\n",
            "Epoch 82/150\n",
            "230/230 [==============================] - 0s 2ms/step - loss: 0.1692 - accuracy: 0.8794 - val_loss: 0.0729 - val_accuracy: 1.0000\n",
            "Epoch 83/150\n",
            "230/230 [==============================] - 0s 2ms/step - loss: 0.1697 - accuracy: 0.8786 - val_loss: 0.0723 - val_accuracy: 1.0000\n",
            "Epoch 84/150\n",
            "230/230 [==============================] - 0s 2ms/step - loss: 0.1690 - accuracy: 0.8787 - val_loss: 0.0720 - val_accuracy: 1.0000\n",
            "Epoch 85/150\n",
            "230/230 [==============================] - 0s 2ms/step - loss: 0.1687 - accuracy: 0.8788 - val_loss: 0.0717 - val_accuracy: 1.0000\n",
            "Epoch 86/150\n",
            "230/230 [==============================] - 1s 3ms/step - loss: 0.1687 - accuracy: 0.8786 - val_loss: 0.0723 - val_accuracy: 1.0000\n",
            "Epoch 87/150\n",
            "230/230 [==============================] - 1s 3ms/step - loss: 0.1665 - accuracy: 0.8813 - val_loss: 0.0717 - val_accuracy: 1.0000\n",
            "Epoch 88/150\n",
            "230/230 [==============================] - 0s 2ms/step - loss: 0.1684 - accuracy: 0.8780 - val_loss: 0.0717 - val_accuracy: 1.0000\n",
            "Epoch 89/150\n",
            "230/230 [==============================] - 0s 2ms/step - loss: 0.1685 - accuracy: 0.8779 - val_loss: 0.0714 - val_accuracy: 1.0000\n",
            "Epoch 90/150\n",
            "230/230 [==============================] - 0s 2ms/step - loss: 0.1671 - accuracy: 0.8796 - val_loss: 0.0712 - val_accuracy: 1.0000\n",
            "Epoch 91/150\n",
            "230/230 [==============================] - 0s 2ms/step - loss: 0.1675 - accuracy: 0.8787 - val_loss: 0.0711 - val_accuracy: 1.0000\n",
            "Epoch 92/150\n",
            "230/230 [==============================] - 0s 2ms/step - loss: 0.1642 - accuracy: 0.8828 - val_loss: 0.0707 - val_accuracy: 1.0000\n",
            "Epoch 93/150\n",
            "230/230 [==============================] - 0s 2ms/step - loss: 0.1650 - accuracy: 0.8815 - val_loss: 0.0713 - val_accuracy: 1.0000\n",
            "Epoch 94/150\n",
            "230/230 [==============================] - 0s 2ms/step - loss: 0.1663 - accuracy: 0.8788 - val_loss: 0.0711 - val_accuracy: 1.0000\n",
            "Epoch 95/150\n",
            "230/230 [==============================] - 0s 2ms/step - loss: 0.1646 - accuracy: 0.8807 - val_loss: 0.0711 - val_accuracy: 1.0000\n",
            "Epoch 96/150\n",
            "230/230 [==============================] - 0s 2ms/step - loss: 0.1638 - accuracy: 0.8818 - val_loss: 0.0705 - val_accuracy: 1.0000\n",
            "Epoch 97/150\n",
            "230/230 [==============================] - 0s 2ms/step - loss: 0.1659 - accuracy: 0.8786 - val_loss: 0.0706 - val_accuracy: 1.0000\n",
            "Epoch 98/150\n",
            "230/230 [==============================] - 0s 2ms/step - loss: 0.1657 - accuracy: 0.8792 - val_loss: 0.0700 - val_accuracy: 1.0000\n",
            "Epoch 99/150\n",
            "230/230 [==============================] - 0s 2ms/step - loss: 0.1637 - accuracy: 0.8811 - val_loss: 0.0701 - val_accuracy: 1.0000\n",
            "Epoch 100/150\n",
            "230/230 [==============================] - 0s 2ms/step - loss: 0.1636 - accuracy: 0.8815 - val_loss: 0.0703 - val_accuracy: 1.0000\n",
            "Epoch 101/150\n",
            "230/230 [==============================] - 0s 2ms/step - loss: 0.1675 - accuracy: 0.8763 - val_loss: 0.0695 - val_accuracy: 1.0000\n",
            "Epoch 102/150\n",
            "230/230 [==============================] - 0s 2ms/step - loss: 0.1641 - accuracy: 0.8805 - val_loss: 0.0691 - val_accuracy: 1.0000\n",
            "Epoch 103/150\n",
            "230/230 [==============================] - 0s 2ms/step - loss: 0.1636 - accuracy: 0.8805 - val_loss: 0.0697 - val_accuracy: 1.0000\n",
            "Epoch 104/150\n",
            "230/230 [==============================] - 0s 2ms/step - loss: 0.1614 - accuracy: 0.8833 - val_loss: 0.0694 - val_accuracy: 1.0000\n",
            "Epoch 105/150\n",
            "230/230 [==============================] - 0s 2ms/step - loss: 0.1614 - accuracy: 0.8830 - val_loss: 0.0692 - val_accuracy: 1.0000\n",
            "Epoch 106/150\n",
            "230/230 [==============================] - 0s 2ms/step - loss: 0.1621 - accuracy: 0.8820 - val_loss: 0.0696 - val_accuracy: 1.0000\n",
            "Epoch 107/150\n",
            "230/230 [==============================] - 0s 2ms/step - loss: 0.1621 - accuracy: 0.8818 - val_loss: 0.0689 - val_accuracy: 1.0000\n",
            "Epoch 108/150\n",
            "230/230 [==============================] - 0s 2ms/step - loss: 0.1656 - accuracy: 0.8775 - val_loss: 0.0697 - val_accuracy: 1.0000\n",
            "Epoch 109/150\n",
            "230/230 [==============================] - 0s 2ms/step - loss: 0.1629 - accuracy: 0.8802 - val_loss: 0.0688 - val_accuracy: 1.0000\n",
            "Epoch 110/150\n",
            "230/230 [==============================] - 0s 2ms/step - loss: 0.1634 - accuracy: 0.8801 - val_loss: 0.0682 - val_accuracy: 1.0000\n",
            "Epoch 111/150\n",
            "230/230 [==============================] - 0s 2ms/step - loss: 0.1612 - accuracy: 0.8821 - val_loss: 0.0682 - val_accuracy: 1.0000\n",
            "Epoch 112/150\n",
            "230/230 [==============================] - 0s 2ms/step - loss: 0.1655 - accuracy: 0.8765 - val_loss: 0.0689 - val_accuracy: 1.0000\n",
            "Epoch 113/150\n",
            "230/230 [==============================] - 1s 2ms/step - loss: 0.1606 - accuracy: 0.8821 - val_loss: 0.0683 - val_accuracy: 1.0000\n",
            "Epoch 114/150\n",
            "230/230 [==============================] - 1s 3ms/step - loss: 0.1641 - accuracy: 0.8778 - val_loss: 0.0690 - val_accuracy: 1.0000\n",
            "Epoch 115/150\n",
            "230/230 [==============================] - 0s 2ms/step - loss: 0.1615 - accuracy: 0.8807 - val_loss: 0.0683 - val_accuracy: 1.0000\n",
            "Epoch 116/150\n",
            "230/230 [==============================] - 0s 2ms/step - loss: 0.1609 - accuracy: 0.8811 - val_loss: 0.0684 - val_accuracy: 1.0000\n",
            "Epoch 117/150\n",
            "230/230 [==============================] - 0s 2ms/step - loss: 0.1631 - accuracy: 0.8782 - val_loss: 0.0682 - val_accuracy: 1.0000\n",
            "Epoch 118/150\n",
            "230/230 [==============================] - 0s 2ms/step - loss: 0.1629 - accuracy: 0.8790 - val_loss: 0.0684 - val_accuracy: 1.0000\n",
            "Epoch 119/150\n",
            "230/230 [==============================] - 0s 2ms/step - loss: 0.1614 - accuracy: 0.8807 - val_loss: 0.0686 - val_accuracy: 1.0000\n",
            "Epoch 120/150\n",
            "230/230 [==============================] - 0s 2ms/step - loss: 0.1631 - accuracy: 0.8781 - val_loss: 0.0679 - val_accuracy: 1.0000\n",
            "Epoch 121/150\n",
            "230/230 [==============================] - 0s 2ms/step - loss: 0.1600 - accuracy: 0.8826 - val_loss: 0.0681 - val_accuracy: 1.0000\n",
            "Epoch 122/150\n",
            "230/230 [==============================] - 0s 2ms/step - loss: 0.1604 - accuracy: 0.8813 - val_loss: 0.0674 - val_accuracy: 1.0000\n",
            "Epoch 123/150\n",
            "230/230 [==============================] - 0s 2ms/step - loss: 0.1611 - accuracy: 0.8803 - val_loss: 0.0676 - val_accuracy: 1.0000\n",
            "Epoch 124/150\n",
            "230/230 [==============================] - 0s 2ms/step - loss: 0.1624 - accuracy: 0.8779 - val_loss: 0.0674 - val_accuracy: 1.0000\n",
            "Epoch 125/150\n",
            "230/230 [==============================] - 0s 2ms/step - loss: 0.1626 - accuracy: 0.8782 - val_loss: 0.0679 - val_accuracy: 1.0000\n",
            "Epoch 126/150\n",
            "230/230 [==============================] - 0s 2ms/step - loss: 0.1603 - accuracy: 0.8811 - val_loss: 0.0680 - val_accuracy: 1.0000\n",
            "Epoch 127/150\n",
            "230/230 [==============================] - 0s 2ms/step - loss: 0.1623 - accuracy: 0.8781 - val_loss: 0.0676 - val_accuracy: 1.0000\n",
            "Epoch 128/150\n",
            "230/230 [==============================] - 0s 2ms/step - loss: 0.1620 - accuracy: 0.8788 - val_loss: 0.0675 - val_accuracy: 1.0000\n",
            "Epoch 129/150\n",
            "230/230 [==============================] - 0s 2ms/step - loss: 0.1635 - accuracy: 0.8764 - val_loss: 0.0679 - val_accuracy: 1.0000\n",
            "Epoch 130/150\n",
            "230/230 [==============================] - 0s 2ms/step - loss: 0.1598 - accuracy: 0.8808 - val_loss: 0.0677 - val_accuracy: 1.0000\n",
            "Epoch 131/150\n",
            "230/230 [==============================] - 0s 2ms/step - loss: 0.1608 - accuracy: 0.8796 - val_loss: 0.0677 - val_accuracy: 1.0000\n",
            "Epoch 132/150\n",
            "230/230 [==============================] - 0s 2ms/step - loss: 0.1599 - accuracy: 0.8809 - val_loss: 0.0674 - val_accuracy: 1.0000\n",
            "Epoch 133/150\n",
            "230/230 [==============================] - 0s 2ms/step - loss: 0.1623 - accuracy: 0.8776 - val_loss: 0.0671 - val_accuracy: 1.0000\n",
            "Epoch 134/150\n",
            "230/230 [==============================] - 0s 2ms/step - loss: 0.1622 - accuracy: 0.8772 - val_loss: 0.0677 - val_accuracy: 1.0000\n",
            "Epoch 135/150\n",
            "230/230 [==============================] - 0s 2ms/step - loss: 0.1563 - accuracy: 0.8842 - val_loss: 0.0675 - val_accuracy: 1.0000\n",
            "Epoch 136/150\n",
            "230/230 [==============================] - 0s 2ms/step - loss: 0.1592 - accuracy: 0.8813 - val_loss: 0.0677 - val_accuracy: 1.0000\n",
            "Epoch 137/150\n",
            "230/230 [==============================] - 0s 2ms/step - loss: 0.1611 - accuracy: 0.8785 - val_loss: 0.0670 - val_accuracy: 1.0000\n",
            "Epoch 138/150\n",
            "230/230 [==============================] - 0s 2ms/step - loss: 0.1599 - accuracy: 0.8792 - val_loss: 0.0677 - val_accuracy: 1.0000\n",
            "Epoch 139/150\n",
            "230/230 [==============================] - 0s 2ms/step - loss: 0.1603 - accuracy: 0.8788 - val_loss: 0.0672 - val_accuracy: 1.0000\n",
            "Epoch 140/150\n",
            "230/230 [==============================] - 0s 2ms/step - loss: 0.1582 - accuracy: 0.8817 - val_loss: 0.0674 - val_accuracy: 1.0000\n",
            "Epoch 141/150\n",
            "230/230 [==============================] - 1s 3ms/step - loss: 0.1589 - accuracy: 0.8814 - val_loss: 0.0670 - val_accuracy: 1.0000\n",
            "Epoch 142/150\n",
            "230/230 [==============================] - 1s 2ms/step - loss: 0.1627 - accuracy: 0.8760 - val_loss: 0.0677 - val_accuracy: 1.0000\n"
          ]
        }
      ]
    },
    {
      "cell_type": "code",
      "source": [
        "y_pred = model.predict(x_test2)"
      ],
      "metadata": {
        "colab": {
          "base_uri": "https://localhost:8080/"
        },
        "id": "XDDwcW1yQpe-",
        "outputId": "31ccf80c-f2b9-4cd1-9ac7-2d444b6a3184"
      },
      "execution_count": 74,
      "outputs": [
        {
          "output_type": "stream",
          "name": "stdout",
          "text": [
            "987/987 [==============================] - 1s 868us/step\n"
          ]
        }
      ]
    },
    {
      "cell_type": "code",
      "source": [
        "y_pred = pd.DataFrame(y_pred)\n"
      ],
      "metadata": {
        "id": "qVkD5AF-TUa4"
      },
      "execution_count": 75,
      "outputs": []
    },
    {
      "cell_type": "code",
      "source": [
        "new_y_pred = y_pred.idxmax(axis=1)"
      ],
      "metadata": {
        "id": "5RtItSFGS-kr"
      },
      "execution_count": 76,
      "outputs": []
    },
    {
      "cell_type": "code",
      "source": [
        "new_y_test = y_test.idxmax(axis=1)"
      ],
      "metadata": {
        "id": "WVTdE6TaTB8b"
      },
      "execution_count": 77,
      "outputs": []
    },
    {
      "cell_type": "code",
      "source": [
        "new_y_pred = pd.DataFrame(new_y_pred)\n",
        "new_y_test = pd.DataFrame(new_y_test)"
      ],
      "metadata": {
        "id": "A5uSqDjoTcXl"
      },
      "execution_count": 78,
      "outputs": []
    },
    {
      "cell_type": "code",
      "source": [
        "new_y_pred.value_counts()"
      ],
      "metadata": {
        "colab": {
          "base_uri": "https://localhost:8080/"
        },
        "id": "BTWvloZ9T0_A",
        "outputId": "d597d6eb-02aa-4912-9692-f1a14b92af37"
      },
      "execution_count": 79,
      "outputs": [
        {
          "output_type": "execute_result",
          "data": {
            "text/plain": [
              "0    16800\n",
              "1     7392\n",
              "2     7392\n",
              "dtype: int64"
            ]
          },
          "metadata": {},
          "execution_count": 79
        }
      ]
    },
    {
      "cell_type": "code",
      "source": [
        "y_train = pd.DataFrame(y_train)"
      ],
      "metadata": {
        "id": "dy4epr60T2hj"
      },
      "execution_count": 80,
      "outputs": []
    },
    {
      "cell_type": "code",
      "source": [
        "new_y_train= y_train.idxmax(axis=1)"
      ],
      "metadata": {
        "id": "q22ODEIPT8vg"
      },
      "execution_count": 81,
      "outputs": []
    },
    {
      "cell_type": "code",
      "source": [
        "new_y_train.value_counts()"
      ],
      "metadata": {
        "colab": {
          "base_uri": "https://localhost:8080/"
        },
        "id": "Lz8_11PcUPEP",
        "outputId": "67b3530e-2e37-4283-dfb6-339e4e984393"
      },
      "execution_count": 82,
      "outputs": [
        {
          "output_type": "execute_result",
          "data": {
            "text/plain": [
              "1    9839\n",
              "2    4294\n",
              "3    4240\n",
              "dtype: int64"
            ]
          },
          "metadata": {},
          "execution_count": 82
        }
      ]
    },
    {
      "cell_type": "code",
      "source": [
        "new_y_pred = pd.DataFrame(new_y_pred)"
      ],
      "metadata": {
        "id": "xG02OT_6U3se"
      },
      "execution_count": 83,
      "outputs": []
    },
    {
      "cell_type": "code",
      "source": [
        "new_y_pred.rename(columns = {0 : \"Predict\"}, inplace = True)"
      ],
      "metadata": {
        "id": "8HwGSKvHU9D5"
      },
      "execution_count": 84,
      "outputs": []
    },
    {
      "cell_type": "code",
      "source": [
        "new_y_pred2 = new_y_pred"
      ],
      "metadata": {
        "id": "O2MB_VzPeYeJ"
      },
      "execution_count": 85,
      "outputs": []
    },
    {
      "cell_type": "code",
      "source": [
        "##\n",
        "output = {\n",
        "    0: '1',\n",
        "    1: '2',\n",
        "    2: '3'\n",
        "}"
      ],
      "metadata": {
        "id": "X-TcxXwtUjNh"
      },
      "execution_count": 86,
      "outputs": []
    },
    {
      "cell_type": "code",
      "source": [
        "new_y_pred[\"Predict\"] = new_y_pred[\"Predict\"].map(output)"
      ],
      "metadata": {
        "id": "QpOCYhEcUYcd"
      },
      "execution_count": 87,
      "outputs": []
    },
    {
      "cell_type": "code",
      "source": [
        "new_y_pred.value_counts()"
      ],
      "metadata": {
        "colab": {
          "base_uri": "https://localhost:8080/"
        },
        "id": "Ps8xWse4VJdI",
        "outputId": "a95e9a57-918c-49fe-c084-c0d6017b0ab5"
      },
      "execution_count": 88,
      "outputs": [
        {
          "output_type": "execute_result",
          "data": {
            "text/plain": [
              "Predict\n",
              "1          16800\n",
              "2           7392\n",
              "3           7392\n",
              "dtype: int64"
            ]
          },
          "metadata": {},
          "execution_count": 88
        }
      ]
    },
    {
      "cell_type": "code",
      "source": [
        "labels = new_y_pred['Predict'].astype('category').cat.categories.tolist()\n",
        "counts = new_y_pred['Predict'].value_counts()\n",
        "sizes = [counts[var_cat] for var_cat in labels]\n",
        "fig1, ax1 = plt.subplots()\n",
        "plt.title(\"Categorical Pedictions\")\n",
        "ax1.pie(sizes, labels=labels, autopct='%1.1f%%', shadow=True) #autopct is show the % on plot\n",
        "ax1.axis('equal')\n",
        "plt.show()\n"
      ],
      "metadata": {
        "colab": {
          "base_uri": "https://localhost:8080/",
          "height": 428
        },
        "id": "Avx0Vl6PbH2s",
        "outputId": "35b67360-833b-4311-83e2-6f8784e9ed38"
      },
      "execution_count": 89,
      "outputs": [
        {
          "output_type": "display_data",
          "data": {
            "text/plain": [
              "<Figure size 640x480 with 1 Axes>"
            ],
            "image/png": "[encoded data removed]"
          },
          "metadata": {}
        }
      ]
    },
    {
      "cell_type": "code",
      "source": [
        "test_data_path = pd.read_csv(\"/content/test_dataset.csv\")"
      ],
      "metadata": {
        "id": "_0tR4V0je0NZ"
      },
      "execution_count": 90,
      "outputs": []
    },
    {
      "cell_type": "code",
      "source": [
        "print(test_data_path.shape, new_y_pred.shape)"
      ],
      "metadata": {
        "id": "5PITZW1Se7F7",
        "colab": {
          "base_uri": "https://localhost:8080/"
        },
        "outputId": "007bc4ee-e4e4-4674-f4e0-a614c30b1e48"
      },
      "execution_count": 91,
      "outputs": [
        {
          "output_type": "stream",
          "name": "stdout",
          "text": [
            "(31584, 16) (31584, 1)\n"
          ]
        }
      ]
    },
    {
      "cell_type": "code",
      "source": [
        "test_data_merged = pd.concat([test_data_path, new_y_pred], ignore_index=True, sort=False)"
      ],
      "metadata": {
        "id": "qjTB70j5RYXC"
      },
      "execution_count": 92,
      "outputs": []
    },
    {
      "cell_type": "code",
      "source": [
        "test_data_merged.columns"
      ],
      "metadata": {
        "colab": {
          "base_uri": "https://localhost:8080/"
        },
        "id": "GT_pwxa7RpjZ",
        "outputId": "5094a4fe-ce72-4bdc-ddcd-ba6e3cc98308"
      },
      "execution_count": 93,
      "outputs": [
        {
          "output_type": "execute_result",
          "data": {
            "text/plain": [
              "Index(['LTE/5g Category', 'Time', 'Packet Loss Rate', 'Packet delay', 'IoT',\n",
              "       'LTE/5G', 'GBR', 'Non-GBR', 'AR/VR/Gaming', 'Healthcare',\n",
              "       'Industry 4.0', 'IoT Devices', 'Public Safety', 'Smart City & Home',\n",
              "       'Smart Transportation', 'Smartphone', 'Predict'],\n",
              "      dtype='object')"
            ]
          },
          "metadata": {},
          "execution_count": 93
        }
      ]
    },
    {
      "cell_type": "code",
      "source": [
        "test_data_merged.to_csv(\"/content/final.csv\")"
      ],
      "metadata": {
        "id": "WZ4l8xOTRrrx"
      },
      "execution_count": 94,
      "outputs": []
    },
    {
      "cell_type": "code",
      "source": [],
      "metadata": {
        "id": "JwzhSQGDSSOp"
      },
      "execution_count": null,
      "outputs": []
    }
  ]
}