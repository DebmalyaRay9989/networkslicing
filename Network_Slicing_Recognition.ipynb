{
  "nbformat": 4,
  "nbformat_minor": 0,
  "metadata": {
    "colab": {
      "provenance": []
    },
    "kernelspec": {
      "name": "python3",
      "display_name": "Python 3"
    },
    "language_info": {
      "name": "python"
    },
    "widgets": {
      "application/vnd.jupyter.widget-state+json": {
        "f3e399b8aad1407ca3958f042d437993": {
          "model_module": "@jupyter-widgets/controls",
          "model_name": "HBoxModel",
          "model_module_version": "1.5.0",
          "state": {
            "_dom_classes": [],
            "_model_module": "@jupyter-widgets/controls",
            "_model_module_version": "1.5.0",
            "_model_name": "HBoxModel",
            "_view_count": null,
            "_view_module": "@jupyter-widgets/controls",
            "_view_module_version": "1.5.0",
            "_view_name": "HBoxView",
            "box_style": "",
            "children": [
              "IPY_MODEL_deb22c7375bf4cc3b87d5913b170b479",
              "IPY_MODEL_2d9cdee1bd7748b9ac666773a12395d9",
              "IPY_MODEL_cc73cd54dfb341108fd1f27b0093ad67"
            ],
            "layout": "IPY_MODEL_c32f75d9e3ee4729993ff7e70097adc0"
          }
        },
        "deb22c7375bf4cc3b87d5913b170b479": {
          "model_module": "@jupyter-widgets/controls",
          "model_name": "HTMLModel",
          "model_module_version": "1.5.0",
          "state": {
            "_dom_classes": [],
            "_model_module": "@jupyter-widgets/controls",
            "_model_module_version": "1.5.0",
            "_model_name": "HTMLModel",
            "_view_count": null,
            "_view_module": "@jupyter-widgets/controls",
            "_view_module_version": "1.5.0",
            "_view_name": "HTMLView",
            "description": "",
            "description_tooltip": null,
            "layout": "IPY_MODEL_d1eff3424c9742e299e0e2090fad0fee",
            "placeholder": "​",
            "style": "IPY_MODEL_761ea7148bf446659891318d008a3a7d",
            "value": "Processing: 100%"
          }
        },
        "2d9cdee1bd7748b9ac666773a12395d9": {
          "model_module": "@jupyter-widgets/controls",
          "model_name": "FloatProgressModel",
          "model_module_version": "1.5.0",
          "state": {
            "_dom_classes": [],
            "_model_module": "@jupyter-widgets/controls",
            "_model_module_version": "1.5.0",
            "_model_name": "FloatProgressModel",
            "_view_count": null,
            "_view_module": "@jupyter-widgets/controls",
            "_view_module_version": "1.5.0",
            "_view_name": "ProgressView",
            "bar_style": "",
            "description": "",
            "description_tooltip": null,
            "layout": "IPY_MODEL_00590d7c0380478fa1f1d4fd46e468c3",
            "max": 69,
            "min": 0,
            "orientation": "horizontal",
            "style": "IPY_MODEL_9d9f59492a3c4f49bff28bf599692c6d",
            "value": 69
          }
        },
        "cc73cd54dfb341108fd1f27b0093ad67": {
          "model_module": "@jupyter-widgets/controls",
          "model_name": "HTMLModel",
          "model_module_version": "1.5.0",
          "state": {
            "_dom_classes": [],
            "_model_module": "@jupyter-widgets/controls",
            "_model_module_version": "1.5.0",
            "_model_name": "HTMLModel",
            "_view_count": null,
            "_view_module": "@jupyter-widgets/controls",
            "_view_module_version": "1.5.0",
            "_view_name": "HTMLView",
            "description": "",
            "description_tooltip": null,
            "layout": "IPY_MODEL_ffd2d077f88d45de92475ac666015058",
            "placeholder": "​",
            "style": "IPY_MODEL_9cf8bd396d1147efa5923dab8f9b1fa7",
            "value": " 69/69 [06:04&lt;00:00,  7.62s/it]"
          }
        },
        "c32f75d9e3ee4729993ff7e70097adc0": {
          "model_module": "@jupyter-widgets/base",
          "model_name": "LayoutModel",
          "model_module_version": "1.2.0",
          "state": {
            "_model_module": "@jupyter-widgets/base",
            "_model_module_version": "1.2.0",
            "_model_name": "LayoutModel",
            "_view_count": null,
            "_view_module": "@jupyter-widgets/base",
            "_view_module_version": "1.2.0",
            "_view_name": "LayoutView",
            "align_content": null,
            "align_items": null,
            "align_self": null,
            "border": null,
            "bottom": null,
            "display": null,
            "flex": null,
            "flex_flow": null,
            "grid_area": null,
            "grid_auto_columns": null,
            "grid_auto_flow": null,
            "grid_auto_rows": null,
            "grid_column": null,
            "grid_gap": null,
            "grid_row": null,
            "grid_template_areas": null,
            "grid_template_columns": null,
            "grid_template_rows": null,
            "height": null,
            "justify_content": null,
            "justify_items": null,
            "left": null,
            "margin": null,
            "max_height": null,
            "max_width": null,
            "min_height": null,
            "min_width": null,
            "object_fit": null,
            "object_position": null,
            "order": null,
            "overflow": null,
            "overflow_x": null,
            "overflow_y": null,
            "padding": null,
            "right": null,
            "top": null,
            "visibility": "hidden",
            "width": null
          }
        },
        "d1eff3424c9742e299e0e2090fad0fee": {
          "model_module": "@jupyter-widgets/base",
          "model_name": "LayoutModel",
          "model_module_version": "1.2.0",
          "state": {
            "_model_module": "@jupyter-widgets/base",
            "_model_module_version": "1.2.0",
            "_model_name": "LayoutModel",
            "_view_count": null,
            "_view_module": "@jupyter-widgets/base",
            "_view_module_version": "1.2.0",
            "_view_name": "LayoutView",
            "align_content": null,
            "align_items": null,
            "align_self": null,
            "border": null,
            "bottom": null,
            "display": null,
            "flex": null,
            "flex_flow": null,
            "grid_area": null,
            "grid_auto_columns": null,
            "grid_auto_flow": null,
            "grid_auto_rows": null,
            "grid_column": null,
            "grid_gap": null,
            "grid_row": null,
            "grid_template_areas": null,
            "grid_template_columns": null,
            "grid_template_rows": null,
            "height": null,
            "justify_content": null,
            "justify_items": null,
            "left": null,
            "margin": null,
            "max_height": null,
            "max_width": null,
            "min_height": null,
            "min_width": null,
            "object_fit": null,
            "object_position": null,
            "order": null,
            "overflow": null,
            "overflow_x": null,
            "overflow_y": null,
            "padding": null,
            "right": null,
            "top": null,
            "visibility": null,
            "width": null
          }
        },
        "761ea7148bf446659891318d008a3a7d": {
          "model_module": "@jupyter-widgets/controls",
          "model_name": "DescriptionStyleModel",
          "model_module_version": "1.5.0",
          "state": {
            "_model_module": "@jupyter-widgets/controls",
            "_model_module_version": "1.5.0",
            "_model_name": "DescriptionStyleModel",
            "_view_count": null,
            "_view_module": "@jupyter-widgets/base",
            "_view_module_version": "1.2.0",
            "_view_name": "StyleView",
            "description_width": ""
          }
        },
        "00590d7c0380478fa1f1d4fd46e468c3": {
          "model_module": "@jupyter-widgets/base",
          "model_name": "LayoutModel",
          "model_module_version": "1.2.0",
          "state": {
            "_model_module": "@jupyter-widgets/base",
            "_model_module_version": "1.2.0",
            "_model_name": "LayoutModel",
            "_view_count": null,
            "_view_module": "@jupyter-widgets/base",
            "_view_module_version": "1.2.0",
            "_view_name": "LayoutView",
            "align_content": null,
            "align_items": null,
            "align_self": null,
            "border": null,
            "bottom": null,
            "display": null,
            "flex": null,
            "flex_flow": null,
            "grid_area": null,
            "grid_auto_columns": null,
            "grid_auto_flow": null,
            "grid_auto_rows": null,
            "grid_column": null,
            "grid_gap": null,
            "grid_row": null,
            "grid_template_areas": null,
            "grid_template_columns": null,
            "grid_template_rows": null,
            "height": null,
            "justify_content": null,
            "justify_items": null,
            "left": null,
            "margin": null,
            "max_height": null,
            "max_width": null,
            "min_height": null,
            "min_width": null,
            "object_fit": null,
            "object_position": null,
            "order": null,
            "overflow": null,
            "overflow_x": null,
            "overflow_y": null,
            "padding": null,
            "right": null,
            "top": null,
            "visibility": null,
            "width": null
          }
        },
        "9d9f59492a3c4f49bff28bf599692c6d": {
          "model_module": "@jupyter-widgets/controls",
          "model_name": "ProgressStyleModel",
          "model_module_version": "1.5.0",
          "state": {
            "_model_module": "@jupyter-widgets/controls",
            "_model_module_version": "1.5.0",
            "_model_name": "ProgressStyleModel",
            "_view_count": null,
            "_view_module": "@jupyter-widgets/base",
            "_view_module_version": "1.2.0",
            "_view_name": "StyleView",
            "bar_color": null,
            "description_width": ""
          }
        },
        "ffd2d077f88d45de92475ac666015058": {
          "model_module": "@jupyter-widgets/base",
          "model_name": "LayoutModel",
          "model_module_version": "1.2.0",
          "state": {
            "_model_module": "@jupyter-widgets/base",
            "_model_module_version": "1.2.0",
            "_model_name": "LayoutModel",
            "_view_count": null,
            "_view_module": "@jupyter-widgets/base",
            "_view_module_version": "1.2.0",
            "_view_name": "LayoutView",
            "align_content": null,
            "align_items": null,
            "align_self": null,
            "border": null,
            "bottom": null,
            "display": null,
            "flex": null,
            "flex_flow": null,
            "grid_area": null,
            "grid_auto_columns": null,
            "grid_auto_flow": null,
            "grid_auto_rows": null,
            "grid_column": null,
            "grid_gap": null,
            "grid_row": null,
            "grid_template_areas": null,
            "grid_template_columns": null,
            "grid_template_rows": null,
            "height": null,
            "justify_content": null,
            "justify_items": null,
            "left": null,
            "margin": null,
            "max_height": null,
            "max_width": null,
            "min_height": null,
            "min_width": null,
            "object_fit": null,
            "object_position": null,
            "order": null,
            "overflow": null,
            "overflow_x": null,
            "overflow_y": null,
            "padding": null,
            "right": null,
            "top": null,
            "visibility": null,
            "width": null
          }
        },
        "9cf8bd396d1147efa5923dab8f9b1fa7": {
          "model_module": "@jupyter-widgets/controls",
          "model_name": "DescriptionStyleModel",
          "model_module_version": "1.5.0",
          "state": {
            "_model_module": "@jupyter-widgets/controls",
            "_model_module_version": "1.5.0",
            "_model_name": "DescriptionStyleModel",
            "_view_count": null,
            "_view_module": "@jupyter-widgets/base",
            "_view_module_version": "1.2.0",
            "_view_name": "StyleView",
            "description_width": ""
          }
        },
        "41977e5ed84d467b93257ee722ffb080": {
          "model_module": "@jupyter-widgets/controls",
          "model_name": "HBoxModel",
          "model_module_version": "1.5.0",
          "state": {
            "_dom_classes": [],
            "_model_module": "@jupyter-widgets/controls",
            "_model_module_version": "1.5.0",
            "_model_name": "HBoxModel",
            "_view_count": null,
            "_view_module": "@jupyter-widgets/controls",
            "_view_module_version": "1.5.0",
            "_view_name": "HBoxView",
            "box_style": "",
            "children": [
              "IPY_MODEL_e0964c0219d04e139952137d8b5114a4",
              "IPY_MODEL_feb31c96fe8a40aba4588a9baf1e5173",
              "IPY_MODEL_6b1c344b442b4be3a81012b80a328ca8"
            ],
            "layout": "IPY_MODEL_4a0bf02d770e497980754054a8103828"
          }
        },
        "e0964c0219d04e139952137d8b5114a4": {
          "model_module": "@jupyter-widgets/controls",
          "model_name": "HTMLModel",
          "model_module_version": "1.5.0",
          "state": {
            "_dom_classes": [],
            "_model_module": "@jupyter-widgets/controls",
            "_model_module_version": "1.5.0",
            "_model_name": "HTMLModel",
            "_view_count": null,
            "_view_module": "@jupyter-widgets/controls",
            "_view_module_version": "1.5.0",
            "_view_name": "HTMLView",
            "description": "",
            "description_tooltip": null,
            "layout": "IPY_MODEL_13f9612c1bc94b8fb0c3f23af0964116",
            "placeholder": "​",
            "style": "IPY_MODEL_b0950bf4a99844848c5c0f248df16ce1",
            "value": "Processing:  75%"
          }
        },
        "feb31c96fe8a40aba4588a9baf1e5173": {
          "model_module": "@jupyter-widgets/controls",
          "model_name": "FloatProgressModel",
          "model_module_version": "1.5.0",
          "state": {
            "_dom_classes": [],
            "_model_module": "@jupyter-widgets/controls",
            "_model_module_version": "1.5.0",
            "_model_name": "FloatProgressModel",
            "_view_count": null,
            "_view_module": "@jupyter-widgets/controls",
            "_view_module_version": "1.5.0",
            "_view_name": "ProgressView",
            "bar_style": "",
            "description": "",
            "description_tooltip": null,
            "layout": "IPY_MODEL_b29b67f2db654c419c49c4ac3994cf32",
            "max": 4,
            "min": 0,
            "orientation": "horizontal",
            "style": "IPY_MODEL_e3b00fc23ab14028967a554b9f97da9b",
            "value": 4
          }
        },
        "6b1c344b442b4be3a81012b80a328ca8": {
          "model_module": "@jupyter-widgets/controls",
          "model_name": "HTMLModel",
          "model_module_version": "1.5.0",
          "state": {
            "_dom_classes": [],
            "_model_module": "@jupyter-widgets/controls",
            "_model_module_version": "1.5.0",
            "_model_name": "HTMLModel",
            "_view_count": null,
            "_view_module": "@jupyter-widgets/controls",
            "_view_module_version": "1.5.0",
            "_view_name": "HTMLView",
            "description": "",
            "description_tooltip": null,
            "layout": "IPY_MODEL_dbfd041d6dc149bd99b8cc1bc3975c88",
            "placeholder": "​",
            "style": "IPY_MODEL_401eea6263fd41489cd06fd3c5ff0fdb",
            "value": " 3/4 [00:01&lt;00:00,  2.56it/s]"
          }
        },
        "4a0bf02d770e497980754054a8103828": {
          "model_module": "@jupyter-widgets/base",
          "model_name": "LayoutModel",
          "model_module_version": "1.2.0",
          "state": {
            "_model_module": "@jupyter-widgets/base",
            "_model_module_version": "1.2.0",
            "_model_name": "LayoutModel",
            "_view_count": null,
            "_view_module": "@jupyter-widgets/base",
            "_view_module_version": "1.2.0",
            "_view_name": "LayoutView",
            "align_content": null,
            "align_items": null,
            "align_self": null,
            "border": null,
            "bottom": null,
            "display": null,
            "flex": null,
            "flex_flow": null,
            "grid_area": null,
            "grid_auto_columns": null,
            "grid_auto_flow": null,
            "grid_auto_rows": null,
            "grid_column": null,
            "grid_gap": null,
            "grid_row": null,
            "grid_template_areas": null,
            "grid_template_columns": null,
            "grid_template_rows": null,
            "height": null,
            "justify_content": null,
            "justify_items": null,
            "left": null,
            "margin": null,
            "max_height": null,
            "max_width": null,
            "min_height": null,
            "min_width": null,
            "object_fit": null,
            "object_position": null,
            "order": null,
            "overflow": null,
            "overflow_x": null,
            "overflow_y": null,
            "padding": null,
            "right": null,
            "top": null,
            "visibility": "hidden",
            "width": null
          }
        },
        "13f9612c1bc94b8fb0c3f23af0964116": {
          "model_module": "@jupyter-widgets/base",
          "model_name": "LayoutModel",
          "model_module_version": "1.2.0",
          "state": {
            "_model_module": "@jupyter-widgets/base",
            "_model_module_version": "1.2.0",
            "_model_name": "LayoutModel",
            "_view_count": null,
            "_view_module": "@jupyter-widgets/base",
            "_view_module_version": "1.2.0",
            "_view_name": "LayoutView",
            "align_content": null,
            "align_items": null,
            "align_self": null,
            "border": null,
            "bottom": null,
            "display": null,
            "flex": null,
            "flex_flow": null,
            "grid_area": null,
            "grid_auto_columns": null,
            "grid_auto_flow": null,
            "grid_auto_rows": null,
            "grid_column": null,
            "grid_gap": null,
            "grid_row": null,
            "grid_template_areas": null,
            "grid_template_columns": null,
            "grid_template_rows": null,
            "height": null,
            "justify_content": null,
            "justify_items": null,
            "left": null,
            "margin": null,
            "max_height": null,
            "max_width": null,
            "min_height": null,
            "min_width": null,
            "object_fit": null,
            "object_position": null,
            "order": null,
            "overflow": null,
            "overflow_x": null,
            "overflow_y": null,
            "padding": null,
            "right": null,
            "top": null,
            "visibility": null,
            "width": null
          }
        },
        "b0950bf4a99844848c5c0f248df16ce1": {
          "model_module": "@jupyter-widgets/controls",
          "model_name": "DescriptionStyleModel",
          "model_module_version": "1.5.0",
          "state": {
            "_model_module": "@jupyter-widgets/controls",
            "_model_module_version": "1.5.0",
            "_model_name": "DescriptionStyleModel",
            "_view_count": null,
            "_view_module": "@jupyter-widgets/base",
            "_view_module_version": "1.2.0",
            "_view_name": "StyleView",
            "description_width": ""
          }
        },
        "b29b67f2db654c419c49c4ac3994cf32": {
          "model_module": "@jupyter-widgets/base",
          "model_name": "LayoutModel",
          "model_module_version": "1.2.0",
          "state": {
            "_model_module": "@jupyter-widgets/base",
            "_model_module_version": "1.2.0",
            "_model_name": "LayoutModel",
            "_view_count": null,
            "_view_module": "@jupyter-widgets/base",
            "_view_module_version": "1.2.0",
            "_view_name": "LayoutView",
            "align_content": null,
            "align_items": null,
            "align_self": null,
            "border": null,
            "bottom": null,
            "display": null,
            "flex": null,
            "flex_flow": null,
            "grid_area": null,
            "grid_auto_columns": null,
            "grid_auto_flow": null,
            "grid_auto_rows": null,
            "grid_column": null,
            "grid_gap": null,
            "grid_row": null,
            "grid_template_areas": null,
            "grid_template_columns": null,
            "grid_template_rows": null,
            "height": null,
            "justify_content": null,
            "justify_items": null,
            "left": null,
            "margin": null,
            "max_height": null,
            "max_width": null,
            "min_height": null,
            "min_width": null,
            "object_fit": null,
            "object_position": null,
            "order": null,
            "overflow": null,
            "overflow_x": null,
            "overflow_y": null,
            "padding": null,
            "right": null,
            "top": null,
            "visibility": null,
            "width": null
          }
        },
        "e3b00fc23ab14028967a554b9f97da9b": {
          "model_module": "@jupyter-widgets/controls",
          "model_name": "ProgressStyleModel",
          "model_module_version": "1.5.0",
          "state": {
            "_model_module": "@jupyter-widgets/controls",
            "_model_module_version": "1.5.0",
            "_model_name": "ProgressStyleModel",
            "_view_count": null,
            "_view_module": "@jupyter-widgets/base",
            "_view_module_version": "1.2.0",
            "_view_name": "StyleView",
            "bar_color": null,
            "description_width": ""
          }
        },
        "dbfd041d6dc149bd99b8cc1bc3975c88": {
          "model_module": "@jupyter-widgets/base",
          "model_name": "LayoutModel",
          "model_module_version": "1.2.0",
          "state": {
            "_model_module": "@jupyter-widgets/base",
            "_model_module_version": "1.2.0",
            "_model_name": "LayoutModel",
            "_view_count": null,
            "_view_module": "@jupyter-widgets/base",
            "_view_module_version": "1.2.0",
            "_view_name": "LayoutView",
            "align_content": null,
            "align_items": null,
            "align_self": null,
            "border": null,
            "bottom": null,
            "display": null,
            "flex": null,
            "flex_flow": null,
            "grid_area": null,
            "grid_auto_columns": null,
            "grid_auto_flow": null,
            "grid_auto_rows": null,
            "grid_column": null,
            "grid_gap": null,
            "grid_row": null,
            "grid_template_areas": null,
            "grid_template_columns": null,
            "grid_template_rows": null,
            "height": null,
            "justify_content": null,
            "justify_items": null,
            "left": null,
            "margin": null,
            "max_height": null,
            "max_width": null,
            "min_height": null,
            "min_width": null,
            "object_fit": null,
            "object_position": null,
            "order": null,
            "overflow": null,
            "overflow_x": null,
            "overflow_y": null,
            "padding": null,
            "right": null,
            "top": null,
            "visibility": null,
            "width": null
          }
        },
        "401eea6263fd41489cd06fd3c5ff0fdb": {
          "model_module": "@jupyter-widgets/controls",
          "model_name": "DescriptionStyleModel",
          "model_module_version": "1.5.0",
          "state": {
            "_model_module": "@jupyter-widgets/controls",
            "_model_module_version": "1.5.0",
            "_model_name": "DescriptionStyleModel",
            "_view_count": null,
            "_view_module": "@jupyter-widgets/base",
            "_view_module_version": "1.2.0",
            "_view_name": "StyleView",
            "description_width": ""
          }
        },
        "a8e27fb085784ba4b7e6eaa2b76db605": {
          "model_module": "@jupyter-widgets/controls",
          "model_name": "HBoxModel",
          "model_module_version": "1.5.0",
          "state": {
            "_dom_classes": [],
            "_model_module": "@jupyter-widgets/controls",
            "_model_module_version": "1.5.0",
            "_model_name": "HBoxModel",
            "_view_count": null,
            "_view_module": "@jupyter-widgets/controls",
            "_view_module_version": "1.5.0",
            "_view_name": "HBoxView",
            "box_style": "",
            "children": [
              "IPY_MODEL_86dd80d247a74b7abe1e54359e69fdc4",
              "IPY_MODEL_72bd02c6e55c4d0d9038ff00ca0144b8",
              "IPY_MODEL_739b6610343a40b187d62d2b917a1f20"
            ],
            "layout": "IPY_MODEL_05c7a21fdc0e4ae1b60935b5888e1700"
          }
        },
        "86dd80d247a74b7abe1e54359e69fdc4": {
          "model_module": "@jupyter-widgets/controls",
          "model_name": "HTMLModel",
          "model_module_version": "1.5.0",
          "state": {
            "_dom_classes": [],
            "_model_module": "@jupyter-widgets/controls",
            "_model_module_version": "1.5.0",
            "_model_name": "HTMLModel",
            "_view_count": null,
            "_view_module": "@jupyter-widgets/controls",
            "_view_module_version": "1.5.0",
            "_view_name": "HTMLView",
            "description": "",
            "description_tooltip": null,
            "layout": "IPY_MODEL_0774dbd318b2403da054b3eeed276071",
            "placeholder": "​",
            "style": "IPY_MODEL_c062710b5216400c936a2c10fe10ef3b",
            "value": "Processing: 100%"
          }
        },
        "72bd02c6e55c4d0d9038ff00ca0144b8": {
          "model_module": "@jupyter-widgets/controls",
          "model_name": "FloatProgressModel",
          "model_module_version": "1.5.0",
          "state": {
            "_dom_classes": [],
            "_model_module": "@jupyter-widgets/controls",
            "_model_module_version": "1.5.0",
            "_model_name": "FloatProgressModel",
            "_view_count": null,
            "_view_module": "@jupyter-widgets/controls",
            "_view_module_version": "1.5.0",
            "_view_name": "ProgressView",
            "bar_style": "",
            "description": "",
            "description_tooltip": null,
            "layout": "IPY_MODEL_b72d53d430ba48708f015a0bf62e034f",
            "max": 4,
            "min": 0,
            "orientation": "horizontal",
            "style": "IPY_MODEL_503865e1748d4bb89c3194fca4acc0bf",
            "value": 4
          }
        },
        "739b6610343a40b187d62d2b917a1f20": {
          "model_module": "@jupyter-widgets/controls",
          "model_name": "HTMLModel",
          "model_module_version": "1.5.0",
          "state": {
            "_dom_classes": [],
            "_model_module": "@jupyter-widgets/controls",
            "_model_module_version": "1.5.0",
            "_model_name": "HTMLModel",
            "_view_count": null,
            "_view_module": "@jupyter-widgets/controls",
            "_view_module_version": "1.5.0",
            "_view_name": "HTMLView",
            "description": "",
            "description_tooltip": null,
            "layout": "IPY_MODEL_4d8791335d754d7eb0e3b3debafabd66",
            "placeholder": "​",
            "style": "IPY_MODEL_63744dcd66094b75a38b474cc2f581d2",
            "value": " 4/4 [00:02&lt;00:00,  1.90it/s]"
          }
        },
        "05c7a21fdc0e4ae1b60935b5888e1700": {
          "model_module": "@jupyter-widgets/base",
          "model_name": "LayoutModel",
          "model_module_version": "1.2.0",
          "state": {
            "_model_module": "@jupyter-widgets/base",
            "_model_module_version": "1.2.0",
            "_model_name": "LayoutModel",
            "_view_count": null,
            "_view_module": "@jupyter-widgets/base",
            "_view_module_version": "1.2.0",
            "_view_name": "LayoutView",
            "align_content": null,
            "align_items": null,
            "align_self": null,
            "border": null,
            "bottom": null,
            "display": null,
            "flex": null,
            "flex_flow": null,
            "grid_area": null,
            "grid_auto_columns": null,
            "grid_auto_flow": null,
            "grid_auto_rows": null,
            "grid_column": null,
            "grid_gap": null,
            "grid_row": null,
            "grid_template_areas": null,
            "grid_template_columns": null,
            "grid_template_rows": null,
            "height": null,
            "justify_content": null,
            "justify_items": null,
            "left": null,
            "margin": null,
            "max_height": null,
            "max_width": null,
            "min_height": null,
            "min_width": null,
            "object_fit": null,
            "object_position": null,
            "order": null,
            "overflow": null,
            "overflow_x": null,
            "overflow_y": null,
            "padding": null,
            "right": null,
            "top": null,
            "visibility": "hidden",
            "width": null
          }
        },
        "0774dbd318b2403da054b3eeed276071": {
          "model_module": "@jupyter-widgets/base",
          "model_name": "LayoutModel",
          "model_module_version": "1.2.0",
          "state": {
            "_model_module": "@jupyter-widgets/base",
            "_model_module_version": "1.2.0",
            "_model_name": "LayoutModel",
            "_view_count": null,
            "_view_module": "@jupyter-widgets/base",
            "_view_module_version": "1.2.0",
            "_view_name": "LayoutView",
            "align_content": null,
            "align_items": null,
            "align_self": null,
            "border": null,
            "bottom": null,
            "display": null,
            "flex": null,
            "flex_flow": null,
            "grid_area": null,
            "grid_auto_columns": null,
            "grid_auto_flow": null,
            "grid_auto_rows": null,
            "grid_column": null,
            "grid_gap": null,
            "grid_row": null,
            "grid_template_areas": null,
            "grid_template_columns": null,
            "grid_template_rows": null,
            "height": null,
            "justify_content": null,
            "justify_items": null,
            "left": null,
            "margin": null,
            "max_height": null,
            "max_width": null,
            "min_height": null,
            "min_width": null,
            "object_fit": null,
            "object_position": null,
            "order": null,
            "overflow": null,
            "overflow_x": null,
            "overflow_y": null,
            "padding": null,
            "right": null,
            "top": null,
            "visibility": null,
            "width": null
          }
        },
        "c062710b5216400c936a2c10fe10ef3b": {
          "model_module": "@jupyter-widgets/controls",
          "model_name": "DescriptionStyleModel",
          "model_module_version": "1.5.0",
          "state": {
            "_model_module": "@jupyter-widgets/controls",
            "_model_module_version": "1.5.0",
            "_model_name": "DescriptionStyleModel",
            "_view_count": null,
            "_view_module": "@jupyter-widgets/base",
            "_view_module_version": "1.2.0",
            "_view_name": "StyleView",
            "description_width": ""
          }
        },
        "b72d53d430ba48708f015a0bf62e034f": {
          "model_module": "@jupyter-widgets/base",
          "model_name": "LayoutModel",
          "model_module_version": "1.2.0",
          "state": {
            "_model_module": "@jupyter-widgets/base",
            "_model_module_version": "1.2.0",
            "_model_name": "LayoutModel",
            "_view_count": null,
            "_view_module": "@jupyter-widgets/base",
            "_view_module_version": "1.2.0",
            "_view_name": "LayoutView",
            "align_content": null,
            "align_items": null,
            "align_self": null,
            "border": null,
            "bottom": null,
            "display": null,
            "flex": null,
            "flex_flow": null,
            "grid_area": null,
            "grid_auto_columns": null,
            "grid_auto_flow": null,
            "grid_auto_rows": null,
            "grid_column": null,
            "grid_gap": null,
            "grid_row": null,
            "grid_template_areas": null,
            "grid_template_columns": null,
            "grid_template_rows": null,
            "height": null,
            "justify_content": null,
            "justify_items": null,
            "left": null,
            "margin": null,
            "max_height": null,
            "max_width": null,
            "min_height": null,
            "min_width": null,
            "object_fit": null,
            "object_position": null,
            "order": null,
            "overflow": null,
            "overflow_x": null,
            "overflow_y": null,
            "padding": null,
            "right": null,
            "top": null,
            "visibility": null,
            "width": null
          }
        },
        "503865e1748d4bb89c3194fca4acc0bf": {
          "model_module": "@jupyter-widgets/controls",
          "model_name": "ProgressStyleModel",
          "model_module_version": "1.5.0",
          "state": {
            "_model_module": "@jupyter-widgets/controls",
            "_model_module_version": "1.5.0",
            "_model_name": "ProgressStyleModel",
            "_view_count": null,
            "_view_module": "@jupyter-widgets/base",
            "_view_module_version": "1.2.0",
            "_view_name": "StyleView",
            "bar_color": null,
            "description_width": ""
          }
        },
        "4d8791335d754d7eb0e3b3debafabd66": {
          "model_module": "@jupyter-widgets/base",
          "model_name": "LayoutModel",
          "model_module_version": "1.2.0",
          "state": {
            "_model_module": "@jupyter-widgets/base",
            "_model_module_version": "1.2.0",
            "_model_name": "LayoutModel",
            "_view_count": null,
            "_view_module": "@jupyter-widgets/base",
            "_view_module_version": "1.2.0",
            "_view_name": "LayoutView",
            "align_content": null,
            "align_items": null,
            "align_self": null,
            "border": null,
            "bottom": null,
            "display": null,
            "flex": null,
            "flex_flow": null,
            "grid_area": null,
            "grid_auto_columns": null,
            "grid_auto_flow": null,
            "grid_auto_rows": null,
            "grid_column": null,
            "grid_gap": null,
            "grid_row": null,
            "grid_template_areas": null,
            "grid_template_columns": null,
            "grid_template_rows": null,
            "height": null,
            "justify_content": null,
            "justify_items": null,
            "left": null,
            "margin": null,
            "max_height": null,
            "max_width": null,
            "min_height": null,
            "min_width": null,
            "object_fit": null,
            "object_position": null,
            "order": null,
            "overflow": null,
            "overflow_x": null,
            "overflow_y": null,
            "padding": null,
            "right": null,
            "top": null,
            "visibility": null,
            "width": null
          }
        },
        "63744dcd66094b75a38b474cc2f581d2": {
          "model_module": "@jupyter-widgets/controls",
          "model_name": "DescriptionStyleModel",
          "model_module_version": "1.5.0",
          "state": {
            "_model_module": "@jupyter-widgets/controls",
            "_model_module_version": "1.5.0",
            "_model_name": "DescriptionStyleModel",
            "_view_count": null,
            "_view_module": "@jupyter-widgets/base",
            "_view_module_version": "1.2.0",
            "_view_name": "StyleView",
            "description_width": ""
          }
        },
        "72b39db3d10a435db87d29a685790c7e": {
          "model_module": "@jupyter-widgets/controls",
          "model_name": "HBoxModel",
          "model_module_version": "1.5.0",
          "state": {
            "_dom_classes": [],
            "_model_module": "@jupyter-widgets/controls",
            "_model_module_version": "1.5.0",
            "_model_name": "HBoxModel",
            "_view_count": null,
            "_view_module": "@jupyter-widgets/controls",
            "_view_module_version": "1.5.0",
            "_view_name": "HBoxView",
            "box_style": "",
            "children": [
              "IPY_MODEL_b71c0acfe3ca4e7f8e338b1aa7502ffd",
              "IPY_MODEL_31b63ec0128346bbbc29a77fa90f9555",
              "IPY_MODEL_0bdbdc8032ec48cab74bf9b82adba033"
            ],
            "layout": "IPY_MODEL_9427db9ddd2344aa95893352c2f9f491"
          }
        },
        "b71c0acfe3ca4e7f8e338b1aa7502ffd": {
          "model_module": "@jupyter-widgets/controls",
          "model_name": "HTMLModel",
          "model_module_version": "1.5.0",
          "state": {
            "_dom_classes": [],
            "_model_module": "@jupyter-widgets/controls",
            "_model_module_version": "1.5.0",
            "_model_name": "HTMLModel",
            "_view_count": null,
            "_view_module": "@jupyter-widgets/controls",
            "_view_module_version": "1.5.0",
            "_view_name": "HTMLView",
            "description": "",
            "description_tooltip": null,
            "layout": "IPY_MODEL_ffe5357a54704121afc0ceea1a08e612",
            "placeholder": "​",
            "style": "IPY_MODEL_009ae600bb62484fbcbf1afab0f5f897",
            "value": "Processing:  86%"
          }
        },
        "31b63ec0128346bbbc29a77fa90f9555": {
          "model_module": "@jupyter-widgets/controls",
          "model_name": "FloatProgressModel",
          "model_module_version": "1.5.0",
          "state": {
            "_dom_classes": [],
            "_model_module": "@jupyter-widgets/controls",
            "_model_module_version": "1.5.0",
            "_model_name": "FloatProgressModel",
            "_view_count": null,
            "_view_module": "@jupyter-widgets/controls",
            "_view_module_version": "1.5.0",
            "_view_name": "ProgressView",
            "bar_style": "",
            "description": "",
            "description_tooltip": null,
            "layout": "IPY_MODEL_76ae7fd2686342fdb355adbbf7ccc4f7",
            "max": 7,
            "min": 0,
            "orientation": "horizontal",
            "style": "IPY_MODEL_471667c8b3f84461b487eb8ad6c5a0a1",
            "value": 7
          }
        },
        "0bdbdc8032ec48cab74bf9b82adba033": {
          "model_module": "@jupyter-widgets/controls",
          "model_name": "HTMLModel",
          "model_module_version": "1.5.0",
          "state": {
            "_dom_classes": [],
            "_model_module": "@jupyter-widgets/controls",
            "_model_module_version": "1.5.0",
            "_model_name": "HTMLModel",
            "_view_count": null,
            "_view_module": "@jupyter-widgets/controls",
            "_view_module_version": "1.5.0",
            "_view_name": "HTMLView",
            "description": "",
            "description_tooltip": null,
            "layout": "IPY_MODEL_25719ac6f69b4d2a90e2058732fe7ab4",
            "placeholder": "​",
            "style": "IPY_MODEL_234ba5b2b7074c35949ef06924f8824d",
            "value": " 6/7 [00:06&lt;00:00,  1.12it/s]"
          }
        },
        "9427db9ddd2344aa95893352c2f9f491": {
          "model_module": "@jupyter-widgets/base",
          "model_name": "LayoutModel",
          "model_module_version": "1.2.0",
          "state": {
            "_model_module": "@jupyter-widgets/base",
            "_model_module_version": "1.2.0",
            "_model_name": "LayoutModel",
            "_view_count": null,
            "_view_module": "@jupyter-widgets/base",
            "_view_module_version": "1.2.0",
            "_view_name": "LayoutView",
            "align_content": null,
            "align_items": null,
            "align_self": null,
            "border": null,
            "bottom": null,
            "display": null,
            "flex": null,
            "flex_flow": null,
            "grid_area": null,
            "grid_auto_columns": null,
            "grid_auto_flow": null,
            "grid_auto_rows": null,
            "grid_column": null,
            "grid_gap": null,
            "grid_row": null,
            "grid_template_areas": null,
            "grid_template_columns": null,
            "grid_template_rows": null,
            "height": null,
            "justify_content": null,
            "justify_items": null,
            "left": null,
            "margin": null,
            "max_height": null,
            "max_width": null,
            "min_height": null,
            "min_width": null,
            "object_fit": null,
            "object_position": null,
            "order": null,
            "overflow": null,
            "overflow_x": null,
            "overflow_y": null,
            "padding": null,
            "right": null,
            "top": null,
            "visibility": "hidden",
            "width": null
          }
        },
        "ffe5357a54704121afc0ceea1a08e612": {
          "model_module": "@jupyter-widgets/base",
          "model_name": "LayoutModel",
          "model_module_version": "1.2.0",
          "state": {
            "_model_module": "@jupyter-widgets/base",
            "_model_module_version": "1.2.0",
            "_model_name": "LayoutModel",
            "_view_count": null,
            "_view_module": "@jupyter-widgets/base",
            "_view_module_version": "1.2.0",
            "_view_name": "LayoutView",
            "align_content": null,
            "align_items": null,
            "align_self": null,
            "border": null,
            "bottom": null,
            "display": null,
            "flex": null,
            "flex_flow": null,
            "grid_area": null,
            "grid_auto_columns": null,
            "grid_auto_flow": null,
            "grid_auto_rows": null,
            "grid_column": null,
            "grid_gap": null,
            "grid_row": null,
            "grid_template_areas": null,
            "grid_template_columns": null,
            "grid_template_rows": null,
            "height": null,
            "justify_content": null,
            "justify_items": null,
            "left": null,
            "margin": null,
            "max_height": null,
            "max_width": null,
            "min_height": null,
            "min_width": null,
            "object_fit": null,
            "object_position": null,
            "order": null,
            "overflow": null,
            "overflow_x": null,
            "overflow_y": null,
            "padding": null,
            "right": null,
            "top": null,
            "visibility": null,
            "width": null
          }
        },
        "009ae600bb62484fbcbf1afab0f5f897": {
          "model_module": "@jupyter-widgets/controls",
          "model_name": "DescriptionStyleModel",
          "model_module_version": "1.5.0",
          "state": {
            "_model_module": "@jupyter-widgets/controls",
            "_model_module_version": "1.5.0",
            "_model_name": "DescriptionStyleModel",
            "_view_count": null,
            "_view_module": "@jupyter-widgets/base",
            "_view_module_version": "1.2.0",
            "_view_name": "StyleView",
            "description_width": ""
          }
        },
        "76ae7fd2686342fdb355adbbf7ccc4f7": {
          "model_module": "@jupyter-widgets/base",
          "model_name": "LayoutModel",
          "model_module_version": "1.2.0",
          "state": {
            "_model_module": "@jupyter-widgets/base",
            "_model_module_version": "1.2.0",
            "_model_name": "LayoutModel",
            "_view_count": null,
            "_view_module": "@jupyter-widgets/base",
            "_view_module_version": "1.2.0",
            "_view_name": "LayoutView",
            "align_content": null,
            "align_items": null,
            "align_self": null,
            "border": null,
            "bottom": null,
            "display": null,
            "flex": null,
            "flex_flow": null,
            "grid_area": null,
            "grid_auto_columns": null,
            "grid_auto_flow": null,
            "grid_auto_rows": null,
            "grid_column": null,
            "grid_gap": null,
            "grid_row": null,
            "grid_template_areas": null,
            "grid_template_columns": null,
            "grid_template_rows": null,
            "height": null,
            "justify_content": null,
            "justify_items": null,
            "left": null,
            "margin": null,
            "max_height": null,
            "max_width": null,
            "min_height": null,
            "min_width": null,
            "object_fit": null,
            "object_position": null,
            "order": null,
            "overflow": null,
            "overflow_x": null,
            "overflow_y": null,
            "padding": null,
            "right": null,
            "top": null,
            "visibility": null,
            "width": null
          }
        },
        "471667c8b3f84461b487eb8ad6c5a0a1": {
          "model_module": "@jupyter-widgets/controls",
          "model_name": "ProgressStyleModel",
          "model_module_version": "1.5.0",
          "state": {
            "_model_module": "@jupyter-widgets/controls",
            "_model_module_version": "1.5.0",
            "_model_name": "ProgressStyleModel",
            "_view_count": null,
            "_view_module": "@jupyter-widgets/base",
            "_view_module_version": "1.2.0",
            "_view_name": "StyleView",
            "bar_color": null,
            "description_width": ""
          }
        },
        "25719ac6f69b4d2a90e2058732fe7ab4": {
          "model_module": "@jupyter-widgets/base",
          "model_name": "LayoutModel",
          "model_module_version": "1.2.0",
          "state": {
            "_model_module": "@jupyter-widgets/base",
            "_model_module_version": "1.2.0",
            "_model_name": "LayoutModel",
            "_view_count": null,
            "_view_module": "@jupyter-widgets/base",
            "_view_module_version": "1.2.0",
            "_view_name": "LayoutView",
            "align_content": null,
            "align_items": null,
            "align_self": null,
            "border": null,
            "bottom": null,
            "display": null,
            "flex": null,
            "flex_flow": null,
            "grid_area": null,
            "grid_auto_columns": null,
            "grid_auto_flow": null,
            "grid_auto_rows": null,
            "grid_column": null,
            "grid_gap": null,
            "grid_row": null,
            "grid_template_areas": null,
            "grid_template_columns": null,
            "grid_template_rows": null,
            "height": null,
            "justify_content": null,
            "justify_items": null,
            "left": null,
            "margin": null,
            "max_height": null,
            "max_width": null,
            "min_height": null,
            "min_width": null,
            "object_fit": null,
            "object_position": null,
            "order": null,
            "overflow": null,
            "overflow_x": null,
            "overflow_y": null,
            "padding": null,
            "right": null,
            "top": null,
            "visibility": null,
            "width": null
          }
        },
        "234ba5b2b7074c35949ef06924f8824d": {
          "model_module": "@jupyter-widgets/controls",
          "model_name": "DescriptionStyleModel",
          "model_module_version": "1.5.0",
          "state": {
            "_model_module": "@jupyter-widgets/controls",
            "_model_module_version": "1.5.0",
            "_model_name": "DescriptionStyleModel",
            "_view_count": null,
            "_view_module": "@jupyter-widgets/base",
            "_view_module_version": "1.2.0",
            "_view_name": "StyleView",
            "description_width": ""
          }
        }
      }
    }
  },
  "cells": [
    {
      "cell_type": "code",
      "execution_count": 1,
      "metadata": {
        "id": "-Gny5YyYvu1h"
      },
      "outputs": [],
      "source": [
        "### Network Slicing Recognition"
      ]
    },
    {
      "cell_type": "markdown",
      "source": [
        "The telecom industry is going through a massive digital transformation with the adoption of ML, AI, feedback-based automation and advanced analytics to handle the next generation applications and services. AI concepts are not new; the algorithms used by Machine Learning and Deep Learning are being currently implemented in various industries and technology verticals. With growing data and immense volume <br>\n",
        "\n",
        "of information over 5G, the ability to predict data proactively, swiftly and with accuracy, is critically important. Data-driven decision making will be vital in future communication networks due to the traffic explosion and Artificial Intelligence (AI) will accelerate the 5G network performance. <br>\n",
        "\n",
        "Mobile operators are looking for a programmable solution that will allow them to accommodate multiple independent tenants on the same physical infrastructure and 5G networks allow for end-to-end network resource allocation using the concept of Network Slicing (NS). <br>\n",
        "\n",
        "Network Slicing will play a vital role in enabling a multitude of 5G applications, use cases, and services. Network slicing functions will provide an end-to-end isolation between slices with an ability to customize each slice based on the service demands (bandwidth, coverage, security, latency, reliability, etc). <br>\n",
        "\n",
        "Your Task is to build a Machine Learning model that will be able to to proactively detect and eliminate threats based on incoming connections thereby selecting the most appropriate network slice, even in case of a network failure. <br>"
      ],
      "metadata": {
        "id": "od7fTu-ywHsk"
      }
    },
    {
      "cell_type": "code",
      "source": [
        "###! pip install neattext"
      ],
      "metadata": {
        "id": "jJr3ep2Wv7yk"
      },
      "execution_count": 2,
      "outputs": []
    },
    {
      "cell_type": "code",
      "source": [
        "import pandas as pd\n",
        "import numpy as np\n",
        "import neattext.functions as nfx\n",
        "import seaborn as sn\n",
        "\n",
        "from sklearn.feature_extraction.text import TfidfVectorizer,CountVectorizer\n",
        "from sklearn.metrics.pairwise import cosine_similarity,linear_kernel"
      ],
      "metadata": {
        "id": "5A7Xm6B0v722"
      },
      "execution_count": 3,
      "outputs": []
    },
    {
      "cell_type": "code",
      "source": [
        "###!mkdir ~/.kaggle"
      ],
      "metadata": {
        "id": "ldDH1RMrv76T"
      },
      "execution_count": 4,
      "outputs": []
    },
    {
      "cell_type": "code",
      "source": [
        "###!cp /kaggle.json ~/.kaggle/"
      ],
      "metadata": {
        "id": "uXy9AL_Lv8AU"
      },
      "execution_count": 5,
      "outputs": []
    },
    {
      "cell_type": "code",
      "source": [
        "###!chmod 600 ~/.kaggle/kaggle.json"
      ],
      "metadata": {
        "id": "3uZuouVdv8Fu"
      },
      "execution_count": 6,
      "outputs": []
    },
    {
      "cell_type": "code",
      "source": [
        "###! pip install kaggle"
      ],
      "metadata": {
        "id": "5wktBf9bySyX"
      },
      "execution_count": 7,
      "outputs": []
    },
    {
      "cell_type": "code",
      "source": [
        "###!pip install keras-tuner"
      ],
      "metadata": {
        "id": "FPSM0Cb8yS1N"
      },
      "execution_count": 8,
      "outputs": []
    },
    {
      "cell_type": "code",
      "source": [
        "###!kaggle datasets download -d gauravduttakiit/network-slicing-recognition"
      ],
      "metadata": {
        "id": "FkY4nQNPyS4X"
      },
      "execution_count": 9,
      "outputs": []
    },
    {
      "cell_type": "code",
      "source": [
        "###!unzip /content/network-slicing-recognition.zip"
      ],
      "metadata": {
        "id": "PKuAQqvoyhhs"
      },
      "execution_count": 10,
      "outputs": []
    },
    {
      "cell_type": "code",
      "source": [
        "train_dataset = pd.read_csv(\"/content/train_dataset.csv\")\n",
        "test_dataset = pd.read_csv(\"/content/test_dataset.csv\")"
      ],
      "metadata": {
        "id": "9TZK2WlZyhk4"
      },
      "execution_count": 11,
      "outputs": []
    },
    {
      "cell_type": "code",
      "source": [
        "print(train_dataset.shape, test_dataset.shape)"
      ],
      "metadata": {
        "colab": {
          "base_uri": "https://localhost:8080/"
        },
        "id": "6eM7lr7yyhoL",
        "outputId": "ddd47534-5fb2-4ec1-ff32-30c29a92437b"
      },
      "execution_count": 12,
      "outputs": [
        {
          "output_type": "stream",
          "name": "stdout",
          "text": [
            "(31583, 17) (31584, 16)\n"
          ]
        }
      ]
    },
    {
      "cell_type": "code",
      "source": [
        "print(train_dataset.columns)"
      ],
      "metadata": {
        "colab": {
          "base_uri": "https://localhost:8080/"
        },
        "id": "Ap8W7U9_za6u",
        "outputId": "92766743-ca8a-48e0-dd92-26f3e76b50c3"
      },
      "execution_count": 13,
      "outputs": [
        {
          "output_type": "stream",
          "name": "stdout",
          "text": [
            "Index(['LTE/5g Category', 'Time', 'Packet Loss Rate', 'Packet delay', 'IoT',\n",
            "       'LTE/5G', 'GBR', 'Non-GBR', 'AR/VR/Gaming', 'Healthcare',\n",
            "       'Industry 4.0', 'IoT Devices', 'Public Safety', 'Smart City & Home',\n",
            "       'Smart Transportation', 'Smartphone', 'slice Type'],\n",
            "      dtype='object')\n"
          ]
        }
      ]
    },
    {
      "cell_type": "code",
      "source": [
        "train_dataset['slice Type'].value_counts()"
      ],
      "metadata": {
        "colab": {
          "base_uri": "https://localhost:8080/"
        },
        "id": "FXGORjNgze8O",
        "outputId": "1bcff587-8164-4ab7-954c-13daf402ae1c"
      },
      "execution_count": 14,
      "outputs": [
        {
          "output_type": "execute_result",
          "data": {
            "text/plain": [
              "1    16799\n",
              "3     7392\n",
              "2     7392\n",
              "Name: slice Type, dtype: int64"
            ]
          },
          "metadata": {},
          "execution_count": 14
        }
      ]
    },
    {
      "cell_type": "code",
      "source": [
        "train_dataset = train_dataset.reset_index()\n",
        "test_dataset = test_dataset.reset_index()"
      ],
      "metadata": {
        "id": "AWX6Fl2B86W0"
      },
      "execution_count": 15,
      "outputs": []
    },
    {
      "cell_type": "code",
      "source": [
        "train_dataset.rename(columns = { \"index\" : \"ID\"}, inplace = True)\n",
        "test_dataset.rename(columns = { \"index\" : \"ID\"}, inplace = True)"
      ],
      "metadata": {
        "id": "UvIzQZxs9E5u"
      },
      "execution_count": 16,
      "outputs": []
    },
    {
      "cell_type": "code",
      "source": [
        "###!pip install bayesian-optimization\n",
        "###! pip install tensorflow"
      ],
      "metadata": {
        "id": "2luBDTzqzx7u"
      },
      "execution_count": 17,
      "outputs": []
    },
    {
      "cell_type": "code",
      "source": [
        "import pandas as pd\n",
        "import numpy as np\n",
        "import tensorflow as tf\n",
        "from sklearn import preprocessing\n",
        "import matplotlib.pyplot as plt\n",
        "tf.random.set_seed(123)\n",
        "np.random.seed(123)"
      ],
      "metadata": {
        "id": "x_0chFjo2tSI"
      },
      "execution_count": 18,
      "outputs": []
    },
    {
      "cell_type": "code",
      "source": [
        "# Import packages\n",
        "import numpy as np\n",
        "import pandas as pd\n",
        "import matplotlib.pyplot as plt\n",
        "import seaborn as sns\n",
        "from sklearn.model_selection import train_test_split\n",
        "from sklearn.model_selection import cross_val_score\n",
        "from keras.models import Sequential\n",
        "from keras.layers import Dense, BatchNormalization, Dropout\n",
        "#from tensorflow.keras.optimizers import Adam, SGD, RMSprop, Adadelta, Adagrad, Adamax, Nadam, Ftrl\n",
        "from keras.callbacks import EarlyStopping, ModelCheckpoint\n",
        "###from keras.wrappers.scikit_learn import KerasClassifier\n",
        "from math import floor\n",
        "from sklearn.metrics import make_scorer, accuracy_score\n",
        "from bayes_opt import BayesianOptimization\n",
        "from sklearn.model_selection import StratifiedKFold\n",
        "from keras.layers import LeakyReLU\n",
        "LeakyReLU = LeakyReLU(alpha=0.1)\n",
        "import warnings\n",
        "warnings.filterwarnings('ignore')\n",
        "pd.set_option(\"display.max_columns\", None)"
      ],
      "metadata": {
        "id": "EuKFv5NY253q"
      },
      "execution_count": 19,
      "outputs": []
    },
    {
      "cell_type": "code",
      "source": [
        "# Import packages\n",
        "# Basic packages\n",
        "\n",
        "import pickle\n",
        "from math import floor\n",
        "from sklearn.model_selection import train_test_split, cross_val_score\n",
        "from sklearn.preprocessing import MinMaxScaler\n",
        "\n",
        "# Evaluation and bayesian optimization\n",
        "from sklearn.metrics import make_scorer, mean_absolute_error\n",
        "from sklearn.metrics import mean_squared_error as MSE\n",
        "from hyperopt import hp, fmin, tpe\n",
        "from sklearn.model_selection import GridSearchCV, StratifiedKFold\n",
        "\n",
        "import warnings\n",
        "warnings.filterwarnings('ignore')\n",
        "pd.set_option(\"display.max_columns\", None)"
      ],
      "metadata": {
        "id": "9y67rEj-29Hy"
      },
      "execution_count": 20,
      "outputs": []
    },
    {
      "cell_type": "code",
      "source": [
        "test_dataset['slice Type'] = 0"
      ],
      "metadata": {
        "id": "SqfUyLAU3Bo0"
      },
      "execution_count": 21,
      "outputs": []
    },
    {
      "cell_type": "code",
      "source": [
        "train_dataset.dtypes"
      ],
      "metadata": {
        "colab": {
          "base_uri": "https://localhost:8080/"
        },
        "id": "s4oxmOwH3Me1",
        "outputId": "c4c05fa7-b0a8-4689-8439-974af571097c"
      },
      "execution_count": 22,
      "outputs": [
        {
          "output_type": "execute_result",
          "data": {
            "text/plain": [
              "ID                        int64\n",
              "LTE/5g Category           int64\n",
              "Time                      int64\n",
              "Packet Loss Rate        float64\n",
              "Packet delay              int64\n",
              "IoT                       int64\n",
              "LTE/5G                    int64\n",
              "GBR                       int64\n",
              "Non-GBR                   int64\n",
              "AR/VR/Gaming              int64\n",
              "Healthcare                int64\n",
              "Industry 4.0              int64\n",
              "IoT Devices               int64\n",
              "Public Safety             int64\n",
              "Smart City & Home         int64\n",
              "Smart Transportation      int64\n",
              "Smartphone                int64\n",
              "slice Type                int64\n",
              "dtype: object"
            ]
          },
          "metadata": {},
          "execution_count": 22
        }
      ]
    },
    {
      "cell_type": "code",
      "source": [
        "from matplotlib_venn import venn2, venn2_circles, venn2_unweighted\n",
        "from matplotlib_venn import venn3, venn3_circles"
      ],
      "metadata": {
        "id": "YRYdHpBz8rim"
      },
      "execution_count": 23,
      "outputs": []
    },
    {
      "cell_type": "code",
      "source": [
        "set_numbers_train = set(train_dataset[['ID']].drop_duplicates().sort_values(by = 'ID')['ID'].tolist())\n",
        "set_numbers_test = set(test_dataset[['ID']].drop_duplicates().sort_values(by = 'ID')['ID'].tolist())\n",
        "venn2((set_numbers_train, set_numbers_test), set_labels = ('Train numbers', 'Test numbers'))"
      ],
      "metadata": {
        "colab": {
          "base_uri": "https://localhost:8080/",
          "height": 429
        },
        "id": "NW-moBsP8x3Y",
        "outputId": "e2f6c24e-4986-4d6b-e7dd-b1d78217efab"
      },
      "execution_count": 24,
      "outputs": [
        {
          "output_type": "execute_result",
          "data": {
            "text/plain": [
              "<matplotlib_venn._common.VennDiagram at 0x7d91b2fd7b50>"
            ]
          },
          "metadata": {},
          "execution_count": 24
        },
        {
          "output_type": "display_data",
          "data": {
            "text/plain": [
              "<Figure size 640x480 with 1 Axes>"
            ],
            "image/png": "[encoded data removed]"
          },
          "metadata": {}
        }
      ]
    },
    {
      "cell_type": "code",
      "source": [
        "num_var = [feature for feature in train_dataset.columns if train_dataset[feature].dtypes != 'O']\n",
        "discrete_var = [feature for feature in num_var if len(train_dataset[feature].unique()) <= 25]\n",
        "cont_var = [feature for feature in num_var if feature not in discrete_var]\n",
        "categ_var = [feature for feature in train_dataset.columns if feature not in num_var]"
      ],
      "metadata": {
        "id": "trJthPl682gB"
      },
      "execution_count": 25,
      "outputs": []
    },
    {
      "cell_type": "code",
      "source": [
        "print(\"The Numerical Variables are :\", num_var)\n",
        "print(\"The Discreate Variables are :\", discrete_var)\n",
        "print(\"The Continuous Variables are :\", cont_var)\n",
        "print(\"The Categorical Variables are :\", categ_var)"
      ],
      "metadata": {
        "colab": {
          "base_uri": "https://localhost:8080/"
        },
        "id": "4rWUnBcl99zS",
        "outputId": "d602d78e-5e68-43ae-a44d-f6d02ffa1eaf"
      },
      "execution_count": 26,
      "outputs": [
        {
          "output_type": "stream",
          "name": "stdout",
          "text": [
            "The Numerical Variables are : ['ID', 'LTE/5g Category', 'Time', 'Packet Loss Rate', 'Packet delay', 'IoT', 'LTE/5G', 'GBR', 'Non-GBR', 'AR/VR/Gaming', 'Healthcare', 'Industry 4.0', 'IoT Devices', 'Public Safety', 'Smart City & Home', 'Smart Transportation', 'Smartphone', 'slice Type']\n",
            "The Discreate Variables are : ['LTE/5g Category', 'Time', 'Packet Loss Rate', 'Packet delay', 'IoT', 'LTE/5G', 'GBR', 'Non-GBR', 'AR/VR/Gaming', 'Healthcare', 'Industry 4.0', 'IoT Devices', 'Public Safety', 'Smart City & Home', 'Smart Transportation', 'Smartphone', 'slice Type']\n",
            "The Continuous Variables are : ['ID']\n",
            "The Categorical Variables are : []\n"
          ]
        }
      ]
    },
    {
      "cell_type": "code",
      "source": [
        "##! pip install klib"
      ],
      "metadata": {
        "id": "8bsH5F5e-I0Q"
      },
      "execution_count": 27,
      "outputs": []
    },
    {
      "cell_type": "code",
      "source": [
        "import klib"
      ],
      "metadata": {
        "id": "u79rbzYg-Ple"
      },
      "execution_count": 28,
      "outputs": []
    },
    {
      "cell_type": "code",
      "source": [
        "train_dataset = klib.clean_column_names(train_dataset)\n",
        "test_dataset = klib.clean_column_names(test_dataset)"
      ],
      "metadata": {
        "id": "FWYTVAde-g9l"
      },
      "execution_count": 29,
      "outputs": []
    },
    {
      "cell_type": "code",
      "source": [
        "train_dataset = klib.convert_datatypes(train_dataset)\n",
        "test_dataset = klib.convert_datatypes(test_dataset)"
      ],
      "metadata": {
        "id": "Xb6awANO-ubR"
      },
      "execution_count": 30,
      "outputs": []
    },
    {
      "cell_type": "code",
      "source": [
        "train_dataset.columns"
      ],
      "metadata": {
        "colab": {
          "base_uri": "https://localhost:8080/"
        },
        "id": "P6Rdon9m_HKn",
        "outputId": "aaf40dc9-0992-49d3-9432-0659bf286f24"
      },
      "execution_count": 31,
      "outputs": [
        {
          "output_type": "execute_result",
          "data": {
            "text/plain": [
              "Index(['id', 'lte_5g_category', 'time', 'packet_loss_rate', 'packet_delay',\n",
              "       'io_t', 'lte_5g', 'gbr', 'non_gbr', 'ar_vr_gaming', 'healthcare',\n",
              "       'industry_4_0', 'io_t_devices', 'public_safety', 'smart_city_and_home',\n",
              "       'smart_transportation', 'smartphone', 'slice_type'],\n",
              "      dtype='object')"
            ]
          },
          "metadata": {},
          "execution_count": 31
        }
      ]
    },
    {
      "cell_type": "code",
      "source": [
        "klib.corr_plot(train_dataset)"
      ],
      "metadata": {
        "colab": {
          "base_uri": "https://localhost:8080/",
          "height": 994
        },
        "id": "ztaV8R7a-Pog",
        "outputId": "af441460-549b-4ac7-95db-5a88240729d8"
      },
      "execution_count": 32,
      "outputs": [
        {
          "output_type": "execute_result",
          "data": {
            "text/plain": [
              "<AxesSubplot: title={'center': 'Feature-correlation (pearson)'}>"
            ]
          },
          "metadata": {},
          "execution_count": 32
        },
        {
          "output_type": "display_data",
          "data": {
            "text/plain": [
              "<Figure size 1200x1000 with 2 Axes>"
            ],
            "image/png": "[encoded data removed]"
          },
          "metadata": {}
        }
      ]
    },
    {
      "cell_type": "code",
      "source": [
        "klib.corr_plot(train_dataset, target='slice_type')"
      ],
      "metadata": {
        "colab": {
          "base_uri": "https://localhost:8080/",
          "height": 865
        },
        "id": "56TvdxKs-VGO",
        "outputId": "0f9158cd-26d5-4402-811e-2b8048aae1f2"
      },
      "execution_count": 33,
      "outputs": [
        {
          "output_type": "execute_result",
          "data": {
            "text/plain": [
              "<AxesSubplot: title={'center': 'Feature-correlation (pearson)'}>"
            ]
          },
          "metadata": {},
          "execution_count": 33
        },
        {
          "output_type": "display_data",
          "data": {
            "text/plain": [
              "<Figure size 1200x1000 with 2 Axes>"
            ],
            "image/png": "[encoded data removed]"
          },
          "metadata": {}
        }
      ]
    },
    {
      "cell_type": "code",
      "source": [
        "klib.dist_plot(train_dataset)"
      ],
      "metadata": {
        "colab": {
          "base_uri": "https://localhost:8080/",
          "height": 254
        },
        "id": "66KYaYdh_Oc1",
        "outputId": "dd14458c-3760-4318-e66c-88c446308fff"
      },
      "execution_count": 34,
      "outputs": [
        {
          "output_type": "stream",
          "name": "stdout",
          "text": [
            "Large dataset detected, using 10000 random samples for the plots. Summary statistics are still based on the entire dataset.\n"
          ]
        },
        {
          "output_type": "execute_result",
          "data": {
            "text/plain": [
              "<AxesSubplot: xlabel='id', ylabel='Density'>"
            ]
          },
          "metadata": {},
          "execution_count": 34
        },
        {
          "output_type": "display_data",
          "data": {
            "text/plain": [
              "<Figure size 1500x300 with 1 Axes>"
            ],
            "image/png": "[encoded data removed]"
          },
          "metadata": {}
        }
      ]
    },
    {
      "cell_type": "code",
      "source": [
        "klib.missingval_plot(train_dataset)"
      ],
      "metadata": {
        "colab": {
          "base_uri": "https://localhost:8080/"
        },
        "id": "SPO2TKip_elE",
        "outputId": "721bc747-ddc4-495e-b2e9-22e783c51cd3"
      },
      "execution_count": 35,
      "outputs": [
        {
          "output_type": "stream",
          "name": "stdout",
          "text": [
            "No missing values found in the dataset.\n"
          ]
        }
      ]
    },
    {
      "cell_type": "code",
      "source": [
        "klib.corr_mat(train_dataset)"
      ],
      "metadata": {
        "colab": {
          "base_uri": "https://localhost:8080/",
          "height": 634
        },
        "id": "RrxNagYA_yPN",
        "outputId": "0c184e53-26aa-457a-cb80-9f41df1e2ccb"
      },
      "execution_count": 36,
      "outputs": [
        {
          "output_type": "execute_result",
          "data": {
            "text/plain": [
              "<pandas.io.formats.style.Styler at 0x7d91b279cca0>"
            ],
            "text/html": [
              "<style type=\"text/css\">\n",
              "#T_83d06_row0_col0, #T_83d06_row0_col2, #T_83d06_row0_col3, #T_83d06_row0_col4, #T_83d06_row0_col5, #T_83d06_row0_col7, #T_83d06_row0_col12, #T_83d06_row0_col13, #T_83d06_row0_col14, #T_83d06_row0_col17, #T_83d06_row1_col1, #T_83d06_row1_col3, #T_83d06_row1_col5, #T_83d06_row1_col8, #T_83d06_row1_col10, #T_83d06_row1_col11, #T_83d06_row1_col12, #T_83d06_row1_col13, #T_83d06_row1_col14, #T_83d06_row1_col15, #T_83d06_row1_col17, #T_83d06_row2_col0, #T_83d06_row2_col2, #T_83d06_row2_col3, #T_83d06_row2_col5, #T_83d06_row2_col8, #T_83d06_row2_col11, #T_83d06_row2_col12, #T_83d06_row2_col13, #T_83d06_row2_col14, #T_83d06_row2_col17, #T_83d06_row3_col0, #T_83d06_row3_col1, #T_83d06_row3_col2, #T_83d06_row3_col3, #T_83d06_row3_col4, #T_83d06_row3_col5, #T_83d06_row3_col8, #T_83d06_row3_col12, #T_83d06_row3_col14, #T_83d06_row4_col0, #T_83d06_row4_col3, #T_83d06_row4_col4, #T_83d06_row4_col6, #T_83d06_row4_col7, #T_83d06_row4_col12, #T_83d06_row4_col14, #T_83d06_row4_col16, #T_83d06_row5_col0, #T_83d06_row5_col1, #T_83d06_row5_col2, #T_83d06_row5_col3, #T_83d06_row5_col5, #T_83d06_row5_col8, #T_83d06_row5_col10, #T_83d06_row5_col11, #T_83d06_row5_col12, #T_83d06_row5_col13, #T_83d06_row5_col14, #T_83d06_row5_col15, #T_83d06_row5_col17, #T_83d06_row6_col4, #T_83d06_row6_col6, #T_83d06_row6_col7, #T_83d06_row6_col9, #T_83d06_row6_col16, #T_83d06_row7_col0, #T_83d06_row7_col4, #T_83d06_row7_col6, #T_83d06_row7_col7, #T_83d06_row7_col9, #T_83d06_row7_col11, #T_83d06_row7_col12, #T_83d06_row7_col14, #T_83d06_row7_col16, #T_83d06_row8_col1, #T_83d06_row8_col2, #T_83d06_row8_col3, #T_83d06_row8_col5, #T_83d06_row8_col8, #T_83d06_row8_col10, #T_83d06_row8_col13, #T_83d06_row8_col15, #T_83d06_row8_col17, #T_83d06_row9_col6, #T_83d06_row9_col7, #T_83d06_row9_col9, #T_83d06_row10_col1, #T_83d06_row10_col5, #T_83d06_row10_col8, #T_83d06_row10_col10, #T_83d06_row10_col17, #T_83d06_row11_col1, #T_83d06_row11_col2, #T_83d06_row11_col5, #T_83d06_row11_col7, #T_83d06_row11_col11, #T_83d06_row11_col17, #T_83d06_row12_col0, #T_83d06_row12_col1, #T_83d06_row12_col2, #T_83d06_row12_col3, #T_83d06_row12_col4, #T_83d06_row12_col5, #T_83d06_row12_col7, #T_83d06_row12_col12, #T_83d06_row12_col17, #T_83d06_row13_col0, #T_83d06_row13_col1, #T_83d06_row13_col2, #T_83d06_row13_col5, #T_83d06_row13_col8, #T_83d06_row13_col13, #T_83d06_row13_col17, #T_83d06_row14_col0, #T_83d06_row14_col1, #T_83d06_row14_col2, #T_83d06_row14_col3, #T_83d06_row14_col4, #T_83d06_row14_col5, #T_83d06_row14_col7, #T_83d06_row14_col14, #T_83d06_row14_col17, #T_83d06_row15_col1, #T_83d06_row15_col5, #T_83d06_row15_col8, #T_83d06_row15_col15, #T_83d06_row15_col17, #T_83d06_row16_col4, #T_83d06_row16_col6, #T_83d06_row16_col7, #T_83d06_row16_col16, #T_83d06_row17_col0, #T_83d06_row17_col1, #T_83d06_row17_col2, #T_83d06_row17_col5, #T_83d06_row17_col8, #T_83d06_row17_col10, #T_83d06_row17_col11, #T_83d06_row17_col12, #T_83d06_row17_col13, #T_83d06_row17_col14, #T_83d06_row17_col15, #T_83d06_row17_col17 {\n",
              "  color: None;\n",
              "}\n",
              "#T_83d06_row0_col1, #T_83d06_row0_col6, #T_83d06_row0_col8, #T_83d06_row0_col9, #T_83d06_row0_col10, #T_83d06_row0_col11, #T_83d06_row0_col15, #T_83d06_row0_col16, #T_83d06_row1_col0, #T_83d06_row1_col2, #T_83d06_row1_col4, #T_83d06_row1_col6, #T_83d06_row1_col7, #T_83d06_row1_col9, #T_83d06_row1_col16, #T_83d06_row2_col1, #T_83d06_row2_col4, #T_83d06_row2_col6, #T_83d06_row2_col7, #T_83d06_row2_col9, #T_83d06_row2_col10, #T_83d06_row2_col15, #T_83d06_row2_col16, #T_83d06_row3_col6, #T_83d06_row3_col7, #T_83d06_row3_col9, #T_83d06_row3_col10, #T_83d06_row3_col11, #T_83d06_row3_col13, #T_83d06_row3_col15, #T_83d06_row3_col16, #T_83d06_row3_col17, #T_83d06_row4_col1, #T_83d06_row4_col2, #T_83d06_row4_col5, #T_83d06_row4_col8, #T_83d06_row4_col9, #T_83d06_row4_col10, #T_83d06_row4_col11, #T_83d06_row4_col13, #T_83d06_row4_col15, #T_83d06_row4_col17, #T_83d06_row5_col4, #T_83d06_row5_col6, #T_83d06_row5_col7, #T_83d06_row5_col9, #T_83d06_row5_col16, #T_83d06_row6_col0, #T_83d06_row6_col1, #T_83d06_row6_col2, #T_83d06_row6_col3, #T_83d06_row6_col5, #T_83d06_row6_col8, #T_83d06_row6_col10, #T_83d06_row6_col11, #T_83d06_row6_col12, #T_83d06_row6_col13, #T_83d06_row6_col14, #T_83d06_row6_col15, #T_83d06_row6_col17, #T_83d06_row7_col1, #T_83d06_row7_col2, #T_83d06_row7_col3, #T_83d06_row7_col5, #T_83d06_row7_col8, #T_83d06_row7_col10, #T_83d06_row7_col13, #T_83d06_row7_col15, #T_83d06_row7_col17, #T_83d06_row8_col0, #T_83d06_row8_col4, #T_83d06_row8_col6, #T_83d06_row8_col7, #T_83d06_row8_col9, #T_83d06_row8_col11, #T_83d06_row8_col12, #T_83d06_row8_col14, #T_83d06_row8_col16, #T_83d06_row9_col0, #T_83d06_row9_col1, #T_83d06_row9_col2, #T_83d06_row9_col3, #T_83d06_row9_col4, #T_83d06_row9_col5, #T_83d06_row9_col8, #T_83d06_row9_col10, #T_83d06_row9_col11, #T_83d06_row9_col12, #T_83d06_row9_col13, #T_83d06_row9_col14, #T_83d06_row9_col15, #T_83d06_row9_col16, #T_83d06_row9_col17, #T_83d06_row10_col0, #T_83d06_row10_col2, #T_83d06_row10_col3, #T_83d06_row10_col4, #T_83d06_row10_col6, #T_83d06_row10_col7, #T_83d06_row10_col9, #T_83d06_row10_col11, #T_83d06_row10_col12, #T_83d06_row10_col13, #T_83d06_row10_col14, #T_83d06_row10_col15, #T_83d06_row10_col16, #T_83d06_row11_col0, #T_83d06_row11_col3, #T_83d06_row11_col4, #T_83d06_row11_col6, #T_83d06_row11_col8, #T_83d06_row11_col9, #T_83d06_row11_col10, #T_83d06_row11_col12, #T_83d06_row11_col13, #T_83d06_row11_col14, #T_83d06_row11_col15, #T_83d06_row11_col16, #T_83d06_row12_col6, #T_83d06_row12_col8, #T_83d06_row12_col9, #T_83d06_row12_col10, #T_83d06_row12_col11, #T_83d06_row12_col13, #T_83d06_row12_col14, #T_83d06_row12_col15, #T_83d06_row12_col16, #T_83d06_row13_col3, #T_83d06_row13_col4, #T_83d06_row13_col6, #T_83d06_row13_col7, #T_83d06_row13_col9, #T_83d06_row13_col10, #T_83d06_row13_col11, #T_83d06_row13_col12, #T_83d06_row13_col14, #T_83d06_row13_col15, #T_83d06_row13_col16, #T_83d06_row14_col6, #T_83d06_row14_col8, #T_83d06_row14_col9, #T_83d06_row14_col10, #T_83d06_row14_col11, #T_83d06_row14_col12, #T_83d06_row14_col13, #T_83d06_row14_col15, #T_83d06_row14_col16, #T_83d06_row15_col0, #T_83d06_row15_col2, #T_83d06_row15_col3, #T_83d06_row15_col4, #T_83d06_row15_col6, #T_83d06_row15_col7, #T_83d06_row15_col9, #T_83d06_row15_col10, #T_83d06_row15_col11, #T_83d06_row15_col12, #T_83d06_row15_col13, #T_83d06_row15_col14, #T_83d06_row15_col16, #T_83d06_row16_col0, #T_83d06_row16_col1, #T_83d06_row16_col2, #T_83d06_row16_col3, #T_83d06_row16_col5, #T_83d06_row16_col8, #T_83d06_row16_col9, #T_83d06_row16_col10, #T_83d06_row16_col11, #T_83d06_row16_col12, #T_83d06_row16_col13, #T_83d06_row16_col14, #T_83d06_row16_col15, #T_83d06_row16_col17, #T_83d06_row17_col3, #T_83d06_row17_col4, #T_83d06_row17_col6, #T_83d06_row17_col7, #T_83d06_row17_col9, #T_83d06_row17_col16 {\n",
              "  color: #FF3344;\n",
              "}\n",
              "</style>\n",
              "<table id=\"T_83d06\" class=\"dataframe\">\n",
              "  <thead>\n",
              "    <tr>\n",
              "      <th class=\"blank level0\" >&nbsp;</th>\n",
              "      <th id=\"T_83d06_level0_col0\" class=\"col_heading level0 col0\" >id</th>\n",
              "      <th id=\"T_83d06_level0_col1\" class=\"col_heading level0 col1\" >lte_5g_category</th>\n",
              "      <th id=\"T_83d06_level0_col2\" class=\"col_heading level0 col2\" >time</th>\n",
              "      <th id=\"T_83d06_level0_col3\" class=\"col_heading level0 col3\" >packet_loss_rate</th>\n",
              "      <th id=\"T_83d06_level0_col4\" class=\"col_heading level0 col4\" >packet_delay</th>\n",
              "      <th id=\"T_83d06_level0_col5\" class=\"col_heading level0 col5\" >io_t</th>\n",
              "      <th id=\"T_83d06_level0_col6\" class=\"col_heading level0 col6\" >lte_5g</th>\n",
              "      <th id=\"T_83d06_level0_col7\" class=\"col_heading level0 col7\" >gbr</th>\n",
              "      <th id=\"T_83d06_level0_col8\" class=\"col_heading level0 col8\" >non_gbr</th>\n",
              "      <th id=\"T_83d06_level0_col9\" class=\"col_heading level0 col9\" >ar_vr_gaming</th>\n",
              "      <th id=\"T_83d06_level0_col10\" class=\"col_heading level0 col10\" >healthcare</th>\n",
              "      <th id=\"T_83d06_level0_col11\" class=\"col_heading level0 col11\" >industry_4_0</th>\n",
              "      <th id=\"T_83d06_level0_col12\" class=\"col_heading level0 col12\" >io_t_devices</th>\n",
              "      <th id=\"T_83d06_level0_col13\" class=\"col_heading level0 col13\" >public_safety</th>\n",
              "      <th id=\"T_83d06_level0_col14\" class=\"col_heading level0 col14\" >smart_city_and_home</th>\n",
              "      <th id=\"T_83d06_level0_col15\" class=\"col_heading level0 col15\" >smart_transportation</th>\n",
              "      <th id=\"T_83d06_level0_col16\" class=\"col_heading level0 col16\" >smartphone</th>\n",
              "      <th id=\"T_83d06_level0_col17\" class=\"col_heading level0 col17\" >slice_type</th>\n",
              "    </tr>\n",
              "  </thead>\n",
              "  <tbody>\n",
              "    <tr>\n",
              "      <th id=\"T_83d06_level0_row0\" class=\"row_heading level0 row0\" >id</th>\n",
              "      <td id=\"T_83d06_row0_col0\" class=\"data row0 col0\" >1.00</td>\n",
              "      <td id=\"T_83d06_row0_col1\" class=\"data row0 col1\" >-0.01</td>\n",
              "      <td id=\"T_83d06_row0_col2\" class=\"data row0 col2\" >0.00</td>\n",
              "      <td id=\"T_83d06_row0_col3\" class=\"data row0 col3\" >0.01</td>\n",
              "      <td id=\"T_83d06_row0_col4\" class=\"data row0 col4\" >0.01</td>\n",
              "      <td id=\"T_83d06_row0_col5\" class=\"data row0 col5\" >0.00</td>\n",
              "      <td id=\"T_83d06_row0_col6\" class=\"data row0 col6\" >-0.00</td>\n",
              "      <td id=\"T_83d06_row0_col7\" class=\"data row0 col7\" >0.01</td>\n",
              "      <td id=\"T_83d06_row0_col8\" class=\"data row0 col8\" >-0.01</td>\n",
              "      <td id=\"T_83d06_row0_col9\" class=\"data row0 col9\" >-0.00</td>\n",
              "      <td id=\"T_83d06_row0_col10\" class=\"data row0 col10\" >-0.00</td>\n",
              "      <td id=\"T_83d06_row0_col11\" class=\"data row0 col11\" >-0.01</td>\n",
              "      <td id=\"T_83d06_row0_col12\" class=\"data row0 col12\" >0.00</td>\n",
              "      <td id=\"T_83d06_row0_col13\" class=\"data row0 col13\" >0.01</td>\n",
              "      <td id=\"T_83d06_row0_col14\" class=\"data row0 col14\" >0.01</td>\n",
              "      <td id=\"T_83d06_row0_col15\" class=\"data row0 col15\" >-0.00</td>\n",
              "      <td id=\"T_83d06_row0_col16\" class=\"data row0 col16\" >-0.00</td>\n",
              "      <td id=\"T_83d06_row0_col17\" class=\"data row0 col17\" >0.00</td>\n",
              "    </tr>\n",
              "    <tr>\n",
              "      <th id=\"T_83d06_level0_row1\" class=\"row_heading level0 row1\" >lte_5g_category</th>\n",
              "      <td id=\"T_83d06_row1_col0\" class=\"data row1 col0\" >-0.01</td>\n",
              "      <td id=\"T_83d06_row1_col1\" class=\"data row1 col1\" >1.00</td>\n",
              "      <td id=\"T_83d06_row1_col2\" class=\"data row1 col2\" >-0.00</td>\n",
              "      <td id=\"T_83d06_row1_col3\" class=\"data row1 col3\" >0.02</td>\n",
              "      <td id=\"T_83d06_row1_col4\" class=\"data row1 col4\" >-0.01</td>\n",
              "      <td id=\"T_83d06_row1_col5\" class=\"data row1 col5\" >0.09</td>\n",
              "      <td id=\"T_83d06_row1_col6\" class=\"data row1 col6\" >-0.09</td>\n",
              "      <td id=\"T_83d06_row1_col7\" class=\"data row1 col7\" >-0.01</td>\n",
              "      <td id=\"T_83d06_row1_col8\" class=\"data row1 col8\" >0.01</td>\n",
              "      <td id=\"T_83d06_row1_col9\" class=\"data row1 col9\" >-0.03</td>\n",
              "      <td id=\"T_83d06_row1_col10\" class=\"data row1 col10\" >0.02</td>\n",
              "      <td id=\"T_83d06_row1_col11\" class=\"data row1 col11\" >0.04</td>\n",
              "      <td id=\"T_83d06_row1_col12\" class=\"data row1 col12\" >0.02</td>\n",
              "      <td id=\"T_83d06_row1_col13\" class=\"data row1 col13\" >0.02</td>\n",
              "      <td id=\"T_83d06_row1_col14\" class=\"data row1 col14\" >0.04</td>\n",
              "      <td id=\"T_83d06_row1_col15\" class=\"data row1 col15\" >0.02</td>\n",
              "      <td id=\"T_83d06_row1_col16\" class=\"data row1 col16\" >-0.07</td>\n",
              "      <td id=\"T_83d06_row1_col17\" class=\"data row1 col17\" >0.08</td>\n",
              "    </tr>\n",
              "    <tr>\n",
              "      <th id=\"T_83d06_level0_row2\" class=\"row_heading level0 row2\" >time</th>\n",
              "      <td id=\"T_83d06_row2_col0\" class=\"data row2 col0\" >0.00</td>\n",
              "      <td id=\"T_83d06_row2_col1\" class=\"data row2 col1\" >-0.00</td>\n",
              "      <td id=\"T_83d06_row2_col2\" class=\"data row2 col2\" >1.00</td>\n",
              "      <td id=\"T_83d06_row2_col3\" class=\"data row2 col3\" >0.01</td>\n",
              "      <td id=\"T_83d06_row2_col4\" class=\"data row2 col4\" >-0.00</td>\n",
              "      <td id=\"T_83d06_row2_col5\" class=\"data row2 col5\" >0.00</td>\n",
              "      <td id=\"T_83d06_row2_col6\" class=\"data row2 col6\" >-0.00</td>\n",
              "      <td id=\"T_83d06_row2_col7\" class=\"data row2 col7\" >-0.00</td>\n",
              "      <td id=\"T_83d06_row2_col8\" class=\"data row2 col8\" >0.00</td>\n",
              "      <td id=\"T_83d06_row2_col9\" class=\"data row2 col9\" >-0.00</td>\n",
              "      <td id=\"T_83d06_row2_col10\" class=\"data row2 col10\" >-0.01</td>\n",
              "      <td id=\"T_83d06_row2_col11\" class=\"data row2 col11\" >0.00</td>\n",
              "      <td id=\"T_83d06_row2_col12\" class=\"data row2 col12\" >0.00</td>\n",
              "      <td id=\"T_83d06_row2_col13\" class=\"data row2 col13\" >0.00</td>\n",
              "      <td id=\"T_83d06_row2_col14\" class=\"data row2 col14\" >0.00</td>\n",
              "      <td id=\"T_83d06_row2_col15\" class=\"data row2 col15\" >-0.00</td>\n",
              "      <td id=\"T_83d06_row2_col16\" class=\"data row2 col16\" >-0.00</td>\n",
              "      <td id=\"T_83d06_row2_col17\" class=\"data row2 col17\" >0.00</td>\n",
              "    </tr>\n",
              "    <tr>\n",
              "      <th id=\"T_83d06_level0_row3\" class=\"row_heading level0 row3\" >packet_loss_rate</th>\n",
              "      <td id=\"T_83d06_row3_col0\" class=\"data row3 col0\" >0.01</td>\n",
              "      <td id=\"T_83d06_row3_col1\" class=\"data row3 col1\" >0.02</td>\n",
              "      <td id=\"T_83d06_row3_col2\" class=\"data row3 col2\" >0.01</td>\n",
              "      <td id=\"T_83d06_row3_col3\" class=\"data row3 col3\" >1.00</td>\n",
              "      <td id=\"T_83d06_row3_col4\" class=\"data row3 col4\" >0.31</td>\n",
              "      <td id=\"T_83d06_row3_col5\" class=\"data row3 col5\" >0.17</td>\n",
              "      <td id=\"T_83d06_row3_col6\" class=\"data row3 col6\" >-0.17</td>\n",
              "      <td id=\"T_83d06_row3_col7\" class=\"data row3 col7\" >-0.02</td>\n",
              "      <td id=\"T_83d06_row3_col8\" class=\"data row3 col8\" >0.02</td>\n",
              "      <td id=\"T_83d06_row3_col9\" class=\"data row3 col9\" >-0.17</td>\n",
              "      <td id=\"T_83d06_row3_col10\" class=\"data row3 col10\" >-0.18</td>\n",
              "      <td id=\"T_83d06_row3_col11\" class=\"data row3 col11\" >-0.21</td>\n",
              "      <td id=\"T_83d06_row3_col12\" class=\"data row3 col12\" >0.39</td>\n",
              "      <td id=\"T_83d06_row3_col13\" class=\"data row3 col13\" >-0.18</td>\n",
              "      <td id=\"T_83d06_row3_col14\" class=\"data row3 col14\" >0.58</td>\n",
              "      <td id=\"T_83d06_row3_col15\" class=\"data row3 col15\" >-0.18</td>\n",
              "      <td id=\"T_83d06_row3_col16\" class=\"data row3 col16\" >-0.07</td>\n",
              "      <td id=\"T_83d06_row3_col17\" class=\"data row3 col17\" >-0.10</td>\n",
              "    </tr>\n",
              "    <tr>\n",
              "      <th id=\"T_83d06_level0_row4\" class=\"row_heading level0 row4\" >packet_delay</th>\n",
              "      <td id=\"T_83d06_row4_col0\" class=\"data row4 col0\" >0.01</td>\n",
              "      <td id=\"T_83d06_row4_col1\" class=\"data row4 col1\" >-0.01</td>\n",
              "      <td id=\"T_83d06_row4_col2\" class=\"data row4 col2\" >-0.00</td>\n",
              "      <td id=\"T_83d06_row4_col3\" class=\"data row4 col3\" >0.31</td>\n",
              "      <td id=\"T_83d06_row4_col4\" class=\"data row4 col4\" >1.00</td>\n",
              "      <td id=\"T_83d06_row4_col5\" class=\"data row4 col5\" >-0.20</td>\n",
              "      <td id=\"T_83d06_row4_col6\" class=\"data row4 col6\" >0.20</td>\n",
              "      <td id=\"T_83d06_row4_col7\" class=\"data row4 col7\" >0.43</td>\n",
              "      <td id=\"T_83d06_row4_col8\" class=\"data row4 col8\" >-0.43</td>\n",
              "      <td id=\"T_83d06_row4_col9\" class=\"data row4 col9\" >-0.13</td>\n",
              "      <td id=\"T_83d06_row4_col10\" class=\"data row4 col10\" >-0.24</td>\n",
              "      <td id=\"T_83d06_row4_col11\" class=\"data row4 col11\" >-0.29</td>\n",
              "      <td id=\"T_83d06_row4_col12\" class=\"data row4 col12\" >0.43</td>\n",
              "      <td id=\"T_83d06_row4_col13\" class=\"data row4 col13\" >-0.25</td>\n",
              "      <td id=\"T_83d06_row4_col14\" class=\"data row4 col14\" >0.20</td>\n",
              "      <td id=\"T_83d06_row4_col15\" class=\"data row4 col15\" >-0.24</td>\n",
              "      <td id=\"T_83d06_row4_col16\" class=\"data row4 col16\" >0.28</td>\n",
              "      <td id=\"T_83d06_row4_col17\" class=\"data row4 col17\" >-0.40</td>\n",
              "    </tr>\n",
              "    <tr>\n",
              "      <th id=\"T_83d06_level0_row5\" class=\"row_heading level0 row5\" >io_t</th>\n",
              "      <td id=\"T_83d06_row5_col0\" class=\"data row5 col0\" >0.00</td>\n",
              "      <td id=\"T_83d06_row5_col1\" class=\"data row5 col1\" >0.09</td>\n",
              "      <td id=\"T_83d06_row5_col2\" class=\"data row5 col2\" >0.00</td>\n",
              "      <td id=\"T_83d06_row5_col3\" class=\"data row5 col3\" >0.17</td>\n",
              "      <td id=\"T_83d06_row5_col4\" class=\"data row5 col4\" >-0.20</td>\n",
              "      <td id=\"T_83d06_row5_col5\" class=\"data row5 col5\" >1.00</td>\n",
              "      <td id=\"T_83d06_row5_col6\" class=\"data row5 col6\" >-1.00</td>\n",
              "      <td id=\"T_83d06_row5_col7\" class=\"data row5 col7\" >-0.13</td>\n",
              "      <td id=\"T_83d06_row5_col8\" class=\"data row5 col8\" >0.13</td>\n",
              "      <td id=\"T_83d06_row5_col9\" class=\"data row5 col9\" >-0.32</td>\n",
              "      <td id=\"T_83d06_row5_col10\" class=\"data row5 col10\" >0.26</td>\n",
              "      <td id=\"T_83d06_row5_col11\" class=\"data row5 col11\" >0.39</td>\n",
              "      <td id=\"T_83d06_row5_col12\" class=\"data row5 col12\" >0.26</td>\n",
              "      <td id=\"T_83d06_row5_col13\" class=\"data row5 col13\" >0.27</td>\n",
              "      <td id=\"T_83d06_row5_col14\" class=\"data row5 col14\" >0.39</td>\n",
              "      <td id=\"T_83d06_row5_col15\" class=\"data row5 col15\" >0.27</td>\n",
              "      <td id=\"T_83d06_row5_col16\" class=\"data row5 col16\" >-0.81</td>\n",
              "      <td id=\"T_83d06_row5_col17\" class=\"data row5 col17\" >0.91</td>\n",
              "    </tr>\n",
              "    <tr>\n",
              "      <th id=\"T_83d06_level0_row6\" class=\"row_heading level0 row6\" >lte_5g</th>\n",
              "      <td id=\"T_83d06_row6_col0\" class=\"data row6 col0\" >-0.00</td>\n",
              "      <td id=\"T_83d06_row6_col1\" class=\"data row6 col1\" >-0.09</td>\n",
              "      <td id=\"T_83d06_row6_col2\" class=\"data row6 col2\" >-0.00</td>\n",
              "      <td id=\"T_83d06_row6_col3\" class=\"data row6 col3\" >-0.17</td>\n",
              "      <td id=\"T_83d06_row6_col4\" class=\"data row6 col4\" >0.20</td>\n",
              "      <td id=\"T_83d06_row6_col5\" class=\"data row6 col5\" >-1.00</td>\n",
              "      <td id=\"T_83d06_row6_col6\" class=\"data row6 col6\" >1.00</td>\n",
              "      <td id=\"T_83d06_row6_col7\" class=\"data row6 col7\" >0.13</td>\n",
              "      <td id=\"T_83d06_row6_col8\" class=\"data row6 col8\" >-0.13</td>\n",
              "      <td id=\"T_83d06_row6_col9\" class=\"data row6 col9\" >0.32</td>\n",
              "      <td id=\"T_83d06_row6_col10\" class=\"data row6 col10\" >-0.26</td>\n",
              "      <td id=\"T_83d06_row6_col11\" class=\"data row6 col11\" >-0.39</td>\n",
              "      <td id=\"T_83d06_row6_col12\" class=\"data row6 col12\" >-0.26</td>\n",
              "      <td id=\"T_83d06_row6_col13\" class=\"data row6 col13\" >-0.27</td>\n",
              "      <td id=\"T_83d06_row6_col14\" class=\"data row6 col14\" >-0.39</td>\n",
              "      <td id=\"T_83d06_row6_col15\" class=\"data row6 col15\" >-0.27</td>\n",
              "      <td id=\"T_83d06_row6_col16\" class=\"data row6 col16\" >0.81</td>\n",
              "      <td id=\"T_83d06_row6_col17\" class=\"data row6 col17\" >-0.91</td>\n",
              "    </tr>\n",
              "    <tr>\n",
              "      <th id=\"T_83d06_level0_row7\" class=\"row_heading level0 row7\" >gbr</th>\n",
              "      <td id=\"T_83d06_row7_col0\" class=\"data row7 col0\" >0.01</td>\n",
              "      <td id=\"T_83d06_row7_col1\" class=\"data row7 col1\" >-0.01</td>\n",
              "      <td id=\"T_83d06_row7_col2\" class=\"data row7 col2\" >-0.00</td>\n",
              "      <td id=\"T_83d06_row7_col3\" class=\"data row7 col3\" >-0.02</td>\n",
              "      <td id=\"T_83d06_row7_col4\" class=\"data row7 col4\" >0.43</td>\n",
              "      <td id=\"T_83d06_row7_col5\" class=\"data row7 col5\" >-0.13</td>\n",
              "      <td id=\"T_83d06_row7_col6\" class=\"data row7 col6\" >0.13</td>\n",
              "      <td id=\"T_83d06_row7_col7\" class=\"data row7 col7\" >1.00</td>\n",
              "      <td id=\"T_83d06_row7_col8\" class=\"data row7 col8\" >-1.00</td>\n",
              "      <td id=\"T_83d06_row7_col9\" class=\"data row7 col9\" >0.03</td>\n",
              "      <td id=\"T_83d06_row7_col10\" class=\"data row7 col10\" >-0.22</td>\n",
              "      <td id=\"T_83d06_row7_col11\" class=\"data row7 col11\" >0.05</td>\n",
              "      <td id=\"T_83d06_row7_col12\" class=\"data row7 col12\" >0.28</td>\n",
              "      <td id=\"T_83d06_row7_col13\" class=\"data row7 col13\" >-0.22</td>\n",
              "      <td id=\"T_83d06_row7_col14\" class=\"data row7 col14\" >0.04</td>\n",
              "      <td id=\"T_83d06_row7_col15\" class=\"data row7 col15\" >-0.22</td>\n",
              "      <td id=\"T_83d06_row7_col16\" class=\"data row7 col16\" >0.11</td>\n",
              "      <td id=\"T_83d06_row7_col17\" class=\"data row7 col17\" >-0.33</td>\n",
              "    </tr>\n",
              "    <tr>\n",
              "      <th id=\"T_83d06_level0_row8\" class=\"row_heading level0 row8\" >non_gbr</th>\n",
              "      <td id=\"T_83d06_row8_col0\" class=\"data row8 col0\" >-0.01</td>\n",
              "      <td id=\"T_83d06_row8_col1\" class=\"data row8 col1\" >0.01</td>\n",
              "      <td id=\"T_83d06_row8_col2\" class=\"data row8 col2\" >0.00</td>\n",
              "      <td id=\"T_83d06_row8_col3\" class=\"data row8 col3\" >0.02</td>\n",
              "      <td id=\"T_83d06_row8_col4\" class=\"data row8 col4\" >-0.43</td>\n",
              "      <td id=\"T_83d06_row8_col5\" class=\"data row8 col5\" >0.13</td>\n",
              "      <td id=\"T_83d06_row8_col6\" class=\"data row8 col6\" >-0.13</td>\n",
              "      <td id=\"T_83d06_row8_col7\" class=\"data row8 col7\" >-1.00</td>\n",
              "      <td id=\"T_83d06_row8_col8\" class=\"data row8 col8\" >1.00</td>\n",
              "      <td id=\"T_83d06_row8_col9\" class=\"data row8 col9\" >-0.03</td>\n",
              "      <td id=\"T_83d06_row8_col10\" class=\"data row8 col10\" >0.22</td>\n",
              "      <td id=\"T_83d06_row8_col11\" class=\"data row8 col11\" >-0.05</td>\n",
              "      <td id=\"T_83d06_row8_col12\" class=\"data row8 col12\" >-0.28</td>\n",
              "      <td id=\"T_83d06_row8_col13\" class=\"data row8 col13\" >0.22</td>\n",
              "      <td id=\"T_83d06_row8_col14\" class=\"data row8 col14\" >-0.04</td>\n",
              "      <td id=\"T_83d06_row8_col15\" class=\"data row8 col15\" >0.22</td>\n",
              "      <td id=\"T_83d06_row8_col16\" class=\"data row8 col16\" >-0.11</td>\n",
              "      <td id=\"T_83d06_row8_col17\" class=\"data row8 col17\" >0.33</td>\n",
              "    </tr>\n",
              "    <tr>\n",
              "      <th id=\"T_83d06_level0_row9\" class=\"row_heading level0 row9\" >ar_vr_gaming</th>\n",
              "      <td id=\"T_83d06_row9_col0\" class=\"data row9 col0\" >-0.00</td>\n",
              "      <td id=\"T_83d06_row9_col1\" class=\"data row9 col1\" >-0.03</td>\n",
              "      <td id=\"T_83d06_row9_col2\" class=\"data row9 col2\" >-0.00</td>\n",
              "      <td id=\"T_83d06_row9_col3\" class=\"data row9 col3\" >-0.17</td>\n",
              "      <td id=\"T_83d06_row9_col4\" class=\"data row9 col4\" >-0.13</td>\n",
              "      <td id=\"T_83d06_row9_col5\" class=\"data row9 col5\" >-0.32</td>\n",
              "      <td id=\"T_83d06_row9_col6\" class=\"data row9 col6\" >0.32</td>\n",
              "      <td id=\"T_83d06_row9_col7\" class=\"data row9 col7\" >0.03</td>\n",
              "      <td id=\"T_83d06_row9_col8\" class=\"data row9 col8\" >-0.03</td>\n",
              "      <td id=\"T_83d06_row9_col9\" class=\"data row9 col9\" >1.00</td>\n",
              "      <td id=\"T_83d06_row9_col10\" class=\"data row9 col10\" >-0.09</td>\n",
              "      <td id=\"T_83d06_row9_col11\" class=\"data row9 col11\" >-0.12</td>\n",
              "      <td id=\"T_83d06_row9_col12\" class=\"data row9 col12\" >-0.09</td>\n",
              "      <td id=\"T_83d06_row9_col13\" class=\"data row9 col13\" >-0.09</td>\n",
              "      <td id=\"T_83d06_row9_col14\" class=\"data row9 col14\" >-0.13</td>\n",
              "      <td id=\"T_83d06_row9_col15\" class=\"data row9 col15\" >-0.09</td>\n",
              "      <td id=\"T_83d06_row9_col16\" class=\"data row9 col16\" >-0.30</td>\n",
              "      <td id=\"T_83d06_row9_col17\" class=\"data row9 col17\" >-0.29</td>\n",
              "    </tr>\n",
              "    <tr>\n",
              "      <th id=\"T_83d06_level0_row10\" class=\"row_heading level0 row10\" >healthcare</th>\n",
              "      <td id=\"T_83d06_row10_col0\" class=\"data row10 col0\" >-0.00</td>\n",
              "      <td id=\"T_83d06_row10_col1\" class=\"data row10 col1\" >0.02</td>\n",
              "      <td id=\"T_83d06_row10_col2\" class=\"data row10 col2\" >-0.01</td>\n",
              "      <td id=\"T_83d06_row10_col3\" class=\"data row10 col3\" >-0.18</td>\n",
              "      <td id=\"T_83d06_row10_col4\" class=\"data row10 col4\" >-0.24</td>\n",
              "      <td id=\"T_83d06_row10_col5\" class=\"data row10 col5\" >0.26</td>\n",
              "      <td id=\"T_83d06_row10_col6\" class=\"data row10 col6\" >-0.26</td>\n",
              "      <td id=\"T_83d06_row10_col7\" class=\"data row10 col7\" >-0.22</td>\n",
              "      <td id=\"T_83d06_row10_col8\" class=\"data row10 col8\" >0.22</td>\n",
              "      <td id=\"T_83d06_row10_col9\" class=\"data row10 col9\" >-0.09</td>\n",
              "      <td id=\"T_83d06_row10_col10\" class=\"data row10 col10\" >1.00</td>\n",
              "      <td id=\"T_83d06_row10_col11\" class=\"data row10 col11\" >-0.09</td>\n",
              "      <td id=\"T_83d06_row10_col12\" class=\"data row10 col12\" >-0.06</td>\n",
              "      <td id=\"T_83d06_row10_col13\" class=\"data row10 col13\" >-0.06</td>\n",
              "      <td id=\"T_83d06_row10_col14\" class=\"data row10 col14\" >-0.09</td>\n",
              "      <td id=\"T_83d06_row10_col15\" class=\"data row10 col15\" >-0.06</td>\n",
              "      <td id=\"T_83d06_row10_col16\" class=\"data row10 col16\" >-0.21</td>\n",
              "      <td id=\"T_83d06_row10_col17\" class=\"data row10 col17\" >0.39</td>\n",
              "    </tr>\n",
              "    <tr>\n",
              "      <th id=\"T_83d06_level0_row11\" class=\"row_heading level0 row11\" >industry_4_0</th>\n",
              "      <td id=\"T_83d06_row11_col0\" class=\"data row11 col0\" >-0.01</td>\n",
              "      <td id=\"T_83d06_row11_col1\" class=\"data row11 col1\" >0.04</td>\n",
              "      <td id=\"T_83d06_row11_col2\" class=\"data row11 col2\" >0.00</td>\n",
              "      <td id=\"T_83d06_row11_col3\" class=\"data row11 col3\" >-0.21</td>\n",
              "      <td id=\"T_83d06_row11_col4\" class=\"data row11 col4\" >-0.29</td>\n",
              "      <td id=\"T_83d06_row11_col5\" class=\"data row11 col5\" >0.39</td>\n",
              "      <td id=\"T_83d06_row11_col6\" class=\"data row11 col6\" >-0.39</td>\n",
              "      <td id=\"T_83d06_row11_col7\" class=\"data row11 col7\" >0.05</td>\n",
              "      <td id=\"T_83d06_row11_col8\" class=\"data row11 col8\" >-0.05</td>\n",
              "      <td id=\"T_83d06_row11_col9\" class=\"data row11 col9\" >-0.12</td>\n",
              "      <td id=\"T_83d06_row11_col10\" class=\"data row11 col10\" >-0.09</td>\n",
              "      <td id=\"T_83d06_row11_col11\" class=\"data row11 col11\" >1.00</td>\n",
              "      <td id=\"T_83d06_row11_col12\" class=\"data row11 col12\" >-0.09</td>\n",
              "      <td id=\"T_83d06_row11_col13\" class=\"data row11 col13\" >-0.09</td>\n",
              "      <td id=\"T_83d06_row11_col14\" class=\"data row11 col14\" >-0.13</td>\n",
              "      <td id=\"T_83d06_row11_col15\" class=\"data row11 col15\" >-0.09</td>\n",
              "      <td id=\"T_83d06_row11_col16\" class=\"data row11 col16\" >-0.31</td>\n",
              "      <td id=\"T_83d06_row11_col17\" class=\"data row11 col17\" >0.35</td>\n",
              "    </tr>\n",
              "    <tr>\n",
              "      <th id=\"T_83d06_level0_row12\" class=\"row_heading level0 row12\" >io_t_devices</th>\n",
              "      <td id=\"T_83d06_row12_col0\" class=\"data row12 col0\" >0.00</td>\n",
              "      <td id=\"T_83d06_row12_col1\" class=\"data row12 col1\" >0.02</td>\n",
              "      <td id=\"T_83d06_row12_col2\" class=\"data row12 col2\" >0.00</td>\n",
              "      <td id=\"T_83d06_row12_col3\" class=\"data row12 col3\" >0.39</td>\n",
              "      <td id=\"T_83d06_row12_col4\" class=\"data row12 col4\" >0.43</td>\n",
              "      <td id=\"T_83d06_row12_col5\" class=\"data row12 col5\" >0.26</td>\n",
              "      <td id=\"T_83d06_row12_col6\" class=\"data row12 col6\" >-0.26</td>\n",
              "      <td id=\"T_83d06_row12_col7\" class=\"data row12 col7\" >0.28</td>\n",
              "      <td id=\"T_83d06_row12_col8\" class=\"data row12 col8\" >-0.28</td>\n",
              "      <td id=\"T_83d06_row12_col9\" class=\"data row12 col9\" >-0.09</td>\n",
              "      <td id=\"T_83d06_row12_col10\" class=\"data row12 col10\" >-0.06</td>\n",
              "      <td id=\"T_83d06_row12_col11\" class=\"data row12 col11\" >-0.09</td>\n",
              "      <td id=\"T_83d06_row12_col12\" class=\"data row12 col12\" >1.00</td>\n",
              "      <td id=\"T_83d06_row12_col13\" class=\"data row12 col13\" >-0.06</td>\n",
              "      <td id=\"T_83d06_row12_col14\" class=\"data row12 col14\" >-0.09</td>\n",
              "      <td id=\"T_83d06_row12_col15\" class=\"data row12 col15\" >-0.06</td>\n",
              "      <td id=\"T_83d06_row12_col16\" class=\"data row12 col16\" >-0.21</td>\n",
              "      <td id=\"T_83d06_row12_col17\" class=\"data row12 col17\" >0.09</td>\n",
              "    </tr>\n",
              "    <tr>\n",
              "      <th id=\"T_83d06_level0_row13\" class=\"row_heading level0 row13\" >public_safety</th>\n",
              "      <td id=\"T_83d06_row13_col0\" class=\"data row13 col0\" >0.01</td>\n",
              "      <td id=\"T_83d06_row13_col1\" class=\"data row13 col1\" >0.02</td>\n",
              "      <td id=\"T_83d06_row13_col2\" class=\"data row13 col2\" >0.00</td>\n",
              "      <td id=\"T_83d06_row13_col3\" class=\"data row13 col3\" >-0.18</td>\n",
              "      <td id=\"T_83d06_row13_col4\" class=\"data row13 col4\" >-0.25</td>\n",
              "      <td id=\"T_83d06_row13_col5\" class=\"data row13 col5\" >0.27</td>\n",
              "      <td id=\"T_83d06_row13_col6\" class=\"data row13 col6\" >-0.27</td>\n",
              "      <td id=\"T_83d06_row13_col7\" class=\"data row13 col7\" >-0.22</td>\n",
              "      <td id=\"T_83d06_row13_col8\" class=\"data row13 col8\" >0.22</td>\n",
              "      <td id=\"T_83d06_row13_col9\" class=\"data row13 col9\" >-0.09</td>\n",
              "      <td id=\"T_83d06_row13_col10\" class=\"data row13 col10\" >-0.06</td>\n",
              "      <td id=\"T_83d06_row13_col11\" class=\"data row13 col11\" >-0.09</td>\n",
              "      <td id=\"T_83d06_row13_col12\" class=\"data row13 col12\" >-0.06</td>\n",
              "      <td id=\"T_83d06_row13_col13\" class=\"data row13 col13\" >1.00</td>\n",
              "      <td id=\"T_83d06_row13_col14\" class=\"data row13 col14\" >-0.09</td>\n",
              "      <td id=\"T_83d06_row13_col15\" class=\"data row13 col15\" >-0.06</td>\n",
              "      <td id=\"T_83d06_row13_col16\" class=\"data row13 col16\" >-0.22</td>\n",
              "      <td id=\"T_83d06_row13_col17\" class=\"data row13 col17\" >0.40</td>\n",
              "    </tr>\n",
              "    <tr>\n",
              "      <th id=\"T_83d06_level0_row14\" class=\"row_heading level0 row14\" >smart_city_and_home</th>\n",
              "      <td id=\"T_83d06_row14_col0\" class=\"data row14 col0\" >0.01</td>\n",
              "      <td id=\"T_83d06_row14_col1\" class=\"data row14 col1\" >0.04</td>\n",
              "      <td id=\"T_83d06_row14_col2\" class=\"data row14 col2\" >0.00</td>\n",
              "      <td id=\"T_83d06_row14_col3\" class=\"data row14 col3\" >0.58</td>\n",
              "      <td id=\"T_83d06_row14_col4\" class=\"data row14 col4\" >0.20</td>\n",
              "      <td id=\"T_83d06_row14_col5\" class=\"data row14 col5\" >0.39</td>\n",
              "      <td id=\"T_83d06_row14_col6\" class=\"data row14 col6\" >-0.39</td>\n",
              "      <td id=\"T_83d06_row14_col7\" class=\"data row14 col7\" >0.04</td>\n",
              "      <td id=\"T_83d06_row14_col8\" class=\"data row14 col8\" >-0.04</td>\n",
              "      <td id=\"T_83d06_row14_col9\" class=\"data row14 col9\" >-0.13</td>\n",
              "      <td id=\"T_83d06_row14_col10\" class=\"data row14 col10\" >-0.09</td>\n",
              "      <td id=\"T_83d06_row14_col11\" class=\"data row14 col11\" >-0.13</td>\n",
              "      <td id=\"T_83d06_row14_col12\" class=\"data row14 col12\" >-0.09</td>\n",
              "      <td id=\"T_83d06_row14_col13\" class=\"data row14 col13\" >-0.09</td>\n",
              "      <td id=\"T_83d06_row14_col14\" class=\"data row14 col14\" >1.00</td>\n",
              "      <td id=\"T_83d06_row14_col15\" class=\"data row14 col15\" >-0.09</td>\n",
              "      <td id=\"T_83d06_row14_col16\" class=\"data row14 col16\" >-0.31</td>\n",
              "      <td id=\"T_83d06_row14_col17\" class=\"data row14 col17\" >0.13</td>\n",
              "    </tr>\n",
              "    <tr>\n",
              "      <th id=\"T_83d06_level0_row15\" class=\"row_heading level0 row15\" >smart_transportation</th>\n",
              "      <td id=\"T_83d06_row15_col0\" class=\"data row15 col0\" >-0.00</td>\n",
              "      <td id=\"T_83d06_row15_col1\" class=\"data row15 col1\" >0.02</td>\n",
              "      <td id=\"T_83d06_row15_col2\" class=\"data row15 col2\" >-0.00</td>\n",
              "      <td id=\"T_83d06_row15_col3\" class=\"data row15 col3\" >-0.18</td>\n",
              "      <td id=\"T_83d06_row15_col4\" class=\"data row15 col4\" >-0.24</td>\n",
              "      <td id=\"T_83d06_row15_col5\" class=\"data row15 col5\" >0.27</td>\n",
              "      <td id=\"T_83d06_row15_col6\" class=\"data row15 col6\" >-0.27</td>\n",
              "      <td id=\"T_83d06_row15_col7\" class=\"data row15 col7\" >-0.22</td>\n",
              "      <td id=\"T_83d06_row15_col8\" class=\"data row15 col8\" >0.22</td>\n",
              "      <td id=\"T_83d06_row15_col9\" class=\"data row15 col9\" >-0.09</td>\n",
              "      <td id=\"T_83d06_row15_col10\" class=\"data row15 col10\" >-0.06</td>\n",
              "      <td id=\"T_83d06_row15_col11\" class=\"data row15 col11\" >-0.09</td>\n",
              "      <td id=\"T_83d06_row15_col12\" class=\"data row15 col12\" >-0.06</td>\n",
              "      <td id=\"T_83d06_row15_col13\" class=\"data row15 col13\" >-0.06</td>\n",
              "      <td id=\"T_83d06_row15_col14\" class=\"data row15 col14\" >-0.09</td>\n",
              "      <td id=\"T_83d06_row15_col15\" class=\"data row15 col15\" >1.00</td>\n",
              "      <td id=\"T_83d06_row15_col16\" class=\"data row15 col16\" >-0.22</td>\n",
              "      <td id=\"T_83d06_row15_col17\" class=\"data row15 col17\" >0.39</td>\n",
              "    </tr>\n",
              "    <tr>\n",
              "      <th id=\"T_83d06_level0_row16\" class=\"row_heading level0 row16\" >smartphone</th>\n",
              "      <td id=\"T_83d06_row16_col0\" class=\"data row16 col0\" >-0.00</td>\n",
              "      <td id=\"T_83d06_row16_col1\" class=\"data row16 col1\" >-0.07</td>\n",
              "      <td id=\"T_83d06_row16_col2\" class=\"data row16 col2\" >-0.00</td>\n",
              "      <td id=\"T_83d06_row16_col3\" class=\"data row16 col3\" >-0.07</td>\n",
              "      <td id=\"T_83d06_row16_col4\" class=\"data row16 col4\" >0.28</td>\n",
              "      <td id=\"T_83d06_row16_col5\" class=\"data row16 col5\" >-0.81</td>\n",
              "      <td id=\"T_83d06_row16_col6\" class=\"data row16 col6\" >0.81</td>\n",
              "      <td id=\"T_83d06_row16_col7\" class=\"data row16 col7\" >0.11</td>\n",
              "      <td id=\"T_83d06_row16_col8\" class=\"data row16 col8\" >-0.11</td>\n",
              "      <td id=\"T_83d06_row16_col9\" class=\"data row16 col9\" >-0.30</td>\n",
              "      <td id=\"T_83d06_row16_col10\" class=\"data row16 col10\" >-0.21</td>\n",
              "      <td id=\"T_83d06_row16_col11\" class=\"data row16 col11\" >-0.31</td>\n",
              "      <td id=\"T_83d06_row16_col12\" class=\"data row16 col12\" >-0.21</td>\n",
              "      <td id=\"T_83d06_row16_col13\" class=\"data row16 col13\" >-0.22</td>\n",
              "      <td id=\"T_83d06_row16_col14\" class=\"data row16 col14\" >-0.31</td>\n",
              "      <td id=\"T_83d06_row16_col15\" class=\"data row16 col15\" >-0.22</td>\n",
              "      <td id=\"T_83d06_row16_col16\" class=\"data row16 col16\" >1.00</td>\n",
              "      <td id=\"T_83d06_row16_col17\" class=\"data row16 col17\" >-0.73</td>\n",
              "    </tr>\n",
              "    <tr>\n",
              "      <th id=\"T_83d06_level0_row17\" class=\"row_heading level0 row17\" >slice_type</th>\n",
              "      <td id=\"T_83d06_row17_col0\" class=\"data row17 col0\" >0.00</td>\n",
              "      <td id=\"T_83d06_row17_col1\" class=\"data row17 col1\" >0.08</td>\n",
              "      <td id=\"T_83d06_row17_col2\" class=\"data row17 col2\" >0.00</td>\n",
              "      <td id=\"T_83d06_row17_col3\" class=\"data row17 col3\" >-0.10</td>\n",
              "      <td id=\"T_83d06_row17_col4\" class=\"data row17 col4\" >-0.40</td>\n",
              "      <td id=\"T_83d06_row17_col5\" class=\"data row17 col5\" >0.91</td>\n",
              "      <td id=\"T_83d06_row17_col6\" class=\"data row17 col6\" >-0.91</td>\n",
              "      <td id=\"T_83d06_row17_col7\" class=\"data row17 col7\" >-0.33</td>\n",
              "      <td id=\"T_83d06_row17_col8\" class=\"data row17 col8\" >0.33</td>\n",
              "      <td id=\"T_83d06_row17_col9\" class=\"data row17 col9\" >-0.29</td>\n",
              "      <td id=\"T_83d06_row17_col10\" class=\"data row17 col10\" >0.39</td>\n",
              "      <td id=\"T_83d06_row17_col11\" class=\"data row17 col11\" >0.35</td>\n",
              "      <td id=\"T_83d06_row17_col12\" class=\"data row17 col12\" >0.09</td>\n",
              "      <td id=\"T_83d06_row17_col13\" class=\"data row17 col13\" >0.40</td>\n",
              "      <td id=\"T_83d06_row17_col14\" class=\"data row17 col14\" >0.13</td>\n",
              "      <td id=\"T_83d06_row17_col15\" class=\"data row17 col15\" >0.39</td>\n",
              "      <td id=\"T_83d06_row17_col16\" class=\"data row17 col16\" >-0.73</td>\n",
              "      <td id=\"T_83d06_row17_col17\" class=\"data row17 col17\" >1.00</td>\n",
              "    </tr>\n",
              "  </tbody>\n",
              "</table>\n"
            ]
          },
          "metadata": {},
          "execution_count": 36
        }
      ]
    },
    {
      "cell_type": "markdown",
      "source": [
        "### Eval ML"
      ],
      "metadata": {
        "id": "ODP7oX_OAlD9"
      }
    },
    {
      "cell_type": "code",
      "source": [
        "###!pip install evalml"
      ],
      "metadata": {
        "id": "T-kO7UJiAhOo"
      },
      "execution_count": 37,
      "outputs": []
    },
    {
      "cell_type": "code",
      "source": [
        "from sklearn.preprocessing import LabelEncoder"
      ],
      "metadata": {
        "id": "hwDOFX3TAhSF"
      },
      "execution_count": 38,
      "outputs": []
    },
    {
      "cell_type": "code",
      "source": [
        "lbl= LabelEncoder()"
      ],
      "metadata": {
        "id": "gPgl3jmTAhVo"
      },
      "execution_count": 39,
      "outputs": []
    },
    {
      "cell_type": "code",
      "source": [
        "x_train = train_dataset.iloc[:,:-1]\n",
        "x_train.head(2)"
      ],
      "metadata": {
        "colab": {
          "base_uri": "https://localhost:8080/",
          "height": 132
        },
        "id": "9ao3sAotAhZE",
        "outputId": "d753fc48-00f2-4546-a2d6-be4662481600"
      },
      "execution_count": 40,
      "outputs": [
        {
          "output_type": "execute_result",
          "data": {
            "text/plain": [
              "   id  lte_5g_category  time  packet_loss_rate  packet_delay  io_t  lte_5g  \\\n",
              "0   0               14     0          0.000001            10     1       0   \n",
              "1   1               18    20          0.001000           100     0       1   \n",
              "\n",
              "   gbr  non_gbr  ar_vr_gaming  healthcare  industry_4_0  io_t_devices  \\\n",
              "0    0        1             0           0             0             0   \n",
              "1    1        0             1           0             0             0   \n",
              "\n",
              "   public_safety  smart_city_and_home  smart_transportation  smartphone  \n",
              "0              1                    0                     0           0  \n",
              "1              0                    0                     0           0  "
            ],
            "text/html": [
              "\n",
              "  <div id=\"df-392f1c67-9f67-4cf9-949a-d274bf58f453\" class=\"colab-df-container\">\n",
              "    <div>\n",
              "<style scoped>\n",
              "    .dataframe tbody tr th:only-of-type {\n",
              "        vertical-align: middle;\n",
              "    }\n",
              "\n",
              "    .dataframe tbody tr th {\n",
              "        vertical-align: top;\n",
              "    }\n",
              "\n",
              "    .dataframe thead th {\n",
              "        text-align: right;\n",
              "    }\n",
              "</style>\n",
              "<table border=\"1\" class=\"dataframe\">\n",
              "  <thead>\n",
              "    <tr style=\"text-align: right;\">\n",
              "      <th></th>\n",
              "      <th>id</th>\n",
              "      <th>lte_5g_category</th>\n",
              "      <th>time</th>\n",
              "      <th>packet_loss_rate</th>\n",
              "      <th>packet_delay</th>\n",
              "      <th>io_t</th>\n",
              "      <th>lte_5g</th>\n",
              "      <th>gbr</th>\n",
              "      <th>non_gbr</th>\n",
              "      <th>ar_vr_gaming</th>\n",
              "      <th>healthcare</th>\n",
              "      <th>industry_4_0</th>\n",
              "      <th>io_t_devices</th>\n",
              "      <th>public_safety</th>\n",
              "      <th>smart_city_and_home</th>\n",
              "      <th>smart_transportation</th>\n",
              "      <th>smartphone</th>\n",
              "    </tr>\n",
              "  </thead>\n",
              "  <tbody>\n",
              "    <tr>\n",
              "      <th>0</th>\n",
              "      <td>0</td>\n",
              "      <td>14</td>\n",
              "      <td>0</td>\n",
              "      <td>0.000001</td>\n",
              "      <td>10</td>\n",
              "      <td>1</td>\n",
              "      <td>0</td>\n",
              "      <td>0</td>\n",
              "      <td>1</td>\n",
              "      <td>0</td>\n",
              "      <td>0</td>\n",
              "      <td>0</td>\n",
              "      <td>0</td>\n",
              "      <td>1</td>\n",
              "      <td>0</td>\n",
              "      <td>0</td>\n",
              "      <td>0</td>\n",
              "    </tr>\n",
              "    <tr>\n",
              "      <th>1</th>\n",
              "      <td>1</td>\n",
              "      <td>18</td>\n",
              "      <td>20</td>\n",
              "      <td>0.001000</td>\n",
              "      <td>100</td>\n",
              "      <td>0</td>\n",
              "      <td>1</td>\n",
              "      <td>1</td>\n",
              "      <td>0</td>\n",
              "      <td>1</td>\n",
              "      <td>0</td>\n",
              "      <td>0</td>\n",
              "      <td>0</td>\n",
              "      <td>0</td>\n",
              "      <td>0</td>\n",
              "      <td>0</td>\n",
              "      <td>0</td>\n",
              "    </tr>\n",
              "  </tbody>\n",
              "</table>\n",
              "</div>\n",
              "    <div class=\"colab-df-buttons\">\n",
              "\n",
              "  <div class=\"colab-df-container\">\n",
              "    <button class=\"colab-df-convert\" onclick=\"convertToInteractive('df-392f1c67-9f67-4cf9-949a-d274bf58f453')\"\n",
              "            title=\"Convert this dataframe to an interactive table.\"\n",
              "            style=\"display:none;\">\n",
              "\n",
              "  <svg xmlns=\"http://www.w3.org/2000/svg\" height=\"24px\" viewBox=\"0 -960 960 960\">\n",
              "    <path d=\"M120-120v-720h720v720H120Zm60-500h600v-160H180v160Zm220 220h160v-160H400v160Zm0 220h160v-160H400v160ZM180-400h160v-160H180v160Zm440 0h160v-160H620v160ZM180-180h160v-160H180v160Zm440 0h160v-160H620v160Z\"/>\n",
              "  </svg>\n",
              "    </button>\n",
              "\n",
              "  <style>\n",
              "    .colab-df-container {\n",
              "      display:flex;\n",
              "      gap: 12px;\n",
              "    }\n",
              "\n",
              "    .colab-df-convert {\n",
              "      background-color: #E8F0FE;\n",
              "      border: none;\n",
              "      border-radius: 50%;\n",
              "      cursor: pointer;\n",
              "      display: none;\n",
              "      fill: #1967D2;\n",
              "      height: 32px;\n",
              "      padding: 0 0 0 0;\n",
              "      width: 32px;\n",
              "    }\n",
              "\n",
              "    .colab-df-convert:hover {\n",
              "      background-color: #E2EBFA;\n",
              "      box-shadow: 0px 1px 2px rgba(60, 64, 67, 0.3), 0px 1px 3px 1px rgba(60, 64, 67, 0.15);\n",
              "      fill: #174EA6;\n",
              "    }\n",
              "\n",
              "    .colab-df-buttons div {\n",
              "      margin-bottom: 4px;\n",
              "    }\n",
              "\n",
              "    [theme=dark] .colab-df-convert {\n",
              "      background-color: #3B4455;\n",
              "      fill: #D2E3FC;\n",
              "    }\n",
              "\n",
              "    [theme=dark] .colab-df-convert:hover {\n",
              "      background-color: #434B5C;\n",
              "      box-shadow: 0px 1px 3px 1px rgba(0, 0, 0, 0.15);\n",
              "      filter: drop-shadow(0px 1px 2px rgba(0, 0, 0, 0.3));\n",
              "      fill: #FFFFFF;\n",
              "    }\n",
              "  </style>\n",
              "\n",
              "    <script>\n",
              "      const buttonEl =\n",
              "        document.querySelector('#df-392f1c67-9f67-4cf9-949a-d274bf58f453 button.colab-df-convert');\n",
              "      buttonEl.style.display =\n",
              "        google.colab.kernel.accessAllowed ? 'block' : 'none';\n",
              "\n",
              "      async function convertToInteractive(key) {\n",
              "        const element = document.querySelector('#df-392f1c67-9f67-4cf9-949a-d274bf58f453');\n",
              "        const dataTable =\n",
              "          await google.colab.kernel.invokeFunction('convertToInteractive',\n",
              "                                                    [key], {});\n",
              "        if (!dataTable) return;\n",
              "\n",
              "        const docLinkHtml = 'Like what you see? Visit the ' +\n",
              "          '<a target=\"_blank\" href=https://colab.research.google.com/notebooks/data_table.ipynb>data table notebook</a>'\n",
              "          + ' to learn more about interactive tables.';\n",
              "        element.innerHTML = '';\n",
              "        dataTable['output_type'] = 'display_data';\n",
              "        await google.colab.output.renderOutput(dataTable, element);\n",
              "        const docLink = document.createElement('div');\n",
              "        docLink.innerHTML = docLinkHtml;\n",
              "        element.appendChild(docLink);\n",
              "      }\n",
              "    </script>\n",
              "  </div>\n",
              "\n",
              "\n",
              "<div id=\"df-a2700cf2-1abe-4a01-930e-551a7b35606f\">\n",
              "  <button class=\"colab-df-quickchart\" onclick=\"quickchart('df-a2700cf2-1abe-4a01-930e-551a7b35606f')\"\n",
              "            title=\"Suggest charts\"\n",
              "            style=\"display:none;\">\n",
              "\n",
              "<svg xmlns=\"http://www.w3.org/2000/svg\" height=\"24px\"viewBox=\"0 0 24 24\"\n",
              "     width=\"24px\">\n",
              "    <g>\n",
              "        <path d=\"M19 3H5c-1.1 0-2 .9-2 2v14c0 1.1.9 2 2 2h14c1.1 0 2-.9 2-2V5c0-1.1-.9-2-2-2zM9 17H7v-7h2v7zm4 0h-2V7h2v10zm4 0h-2v-4h2v4z\"/>\n",
              "    </g>\n",
              "</svg>\n",
              "  </button>\n",
              "\n",
              "<style>\n",
              "  .colab-df-quickchart {\n",
              "      --bg-color: #E8F0FE;\n",
              "      --fill-color: #1967D2;\n",
              "      --hover-bg-color: #E2EBFA;\n",
              "      --hover-fill-color: #174EA6;\n",
              "      --disabled-fill-color: #AAA;\n",
              "      --disabled-bg-color: #DDD;\n",
              "  }\n",
              "\n",
              "  [theme=dark] .colab-df-quickchart {\n",
              "      --bg-color: #3B4455;\n",
              "      --fill-color: #D2E3FC;\n",
              "      --hover-bg-color: #434B5C;\n",
              "      --hover-fill-color: #FFFFFF;\n",
              "      --disabled-bg-color: #3B4455;\n",
              "      --disabled-fill-color: #666;\n",
              "  }\n",
              "\n",
              "  .colab-df-quickchart {\n",
              "    background-color: var(--bg-color);\n",
              "    border: none;\n",
              "    border-radius: 50%;\n",
              "    cursor: pointer;\n",
              "    display: none;\n",
              "    fill: var(--fill-color);\n",
              "    height: 32px;\n",
              "    padding: 0;\n",
              "    width: 32px;\n",
              "  }\n",
              "\n",
              "  .colab-df-quickchart:hover {\n",
              "    background-color: var(--hover-bg-color);\n",
              "    box-shadow: 0 1px 2px rgba(60, 64, 67, 0.3), 0 1px 3px 1px rgba(60, 64, 67, 0.15);\n",
              "    fill: var(--button-hover-fill-color);\n",
              "  }\n",
              "\n",
              "  .colab-df-quickchart-complete:disabled,\n",
              "  .colab-df-quickchart-complete:disabled:hover {\n",
              "    background-color: var(--disabled-bg-color);\n",
              "    fill: var(--disabled-fill-color);\n",
              "    box-shadow: none;\n",
              "  }\n",
              "\n",
              "  .colab-df-spinner {\n",
              "    border: 2px solid var(--fill-color);\n",
              "    border-color: transparent;\n",
              "    border-bottom-color: var(--fill-color);\n",
              "    animation:\n",
              "      spin 1s steps(1) infinite;\n",
              "  }\n",
              "\n",
              "  @keyframes spin {\n",
              "    0% {\n",
              "      border-color: transparent;\n",
              "      border-bottom-color: var(--fill-color);\n",
              "      border-left-color: var(--fill-color);\n",
              "    }\n",
              "    20% {\n",
              "      border-color: transparent;\n",
              "      border-left-color: var(--fill-color);\n",
              "      border-top-color: var(--fill-color);\n",
              "    }\n",
              "    30% {\n",
              "      border-color: transparent;\n",
              "      border-left-color: var(--fill-color);\n",
              "      border-top-color: var(--fill-color);\n",
              "      border-right-color: var(--fill-color);\n",
              "    }\n",
              "    40% {\n",
              "      border-color: transparent;\n",
              "      border-right-color: var(--fill-color);\n",
              "      border-top-color: var(--fill-color);\n",
              "    }\n",
              "    60% {\n",
              "      border-color: transparent;\n",
              "      border-right-color: var(--fill-color);\n",
              "    }\n",
              "    80% {\n",
              "      border-color: transparent;\n",
              "      border-right-color: var(--fill-color);\n",
              "      border-bottom-color: var(--fill-color);\n",
              "    }\n",
              "    90% {\n",
              "      border-color: transparent;\n",
              "      border-bottom-color: var(--fill-color);\n",
              "    }\n",
              "  }\n",
              "</style>\n",
              "\n",
              "  <script>\n",
              "    async function quickchart(key) {\n",
              "      const quickchartButtonEl =\n",
              "        document.querySelector('#' + key + ' button');\n",
              "      quickchartButtonEl.disabled = true;  // To prevent multiple clicks.\n",
              "      quickchartButtonEl.classList.add('colab-df-spinner');\n",
              "      try {\n",
              "        const charts = await google.colab.kernel.invokeFunction(\n",
              "            'suggestCharts', [key], {});\n",
              "      } catch (error) {\n",
              "        console.error('Error during call to suggestCharts:', error);\n",
              "      }\n",
              "      quickchartButtonEl.classList.remove('colab-df-spinner');\n",
              "      quickchartButtonEl.classList.add('colab-df-quickchart-complete');\n",
              "    }\n",
              "    (() => {\n",
              "      let quickchartButtonEl =\n",
              "        document.querySelector('#df-a2700cf2-1abe-4a01-930e-551a7b35606f button');\n",
              "      quickchartButtonEl.style.display =\n",
              "        google.colab.kernel.accessAllowed ? 'block' : 'none';\n",
              "    })();\n",
              "  </script>\n",
              "</div>\n",
              "\n",
              "    </div>\n",
              "  </div>\n"
            ]
          },
          "metadata": {},
          "execution_count": 40
        }
      ]
    },
    {
      "cell_type": "code",
      "source": [
        "y_train= train_dataset.iloc[:,-1:]\n",
        "y_train= lbl.fit_transform(y_train)\n",
        "y_train"
      ],
      "metadata": {
        "colab": {
          "base_uri": "https://localhost:8080/"
        },
        "id": "MJJjqAFnBGMP",
        "outputId": "f9d71c19-9e46-4864-88ff-8f1ef439c589"
      },
      "execution_count": 41,
      "outputs": [
        {
          "output_type": "execute_result",
          "data": {
            "text/plain": [
              "array([2, 0, 0, ..., 1, 2, 2])"
            ]
          },
          "metadata": {},
          "execution_count": 41
        }
      ]
    },
    {
      "cell_type": "code",
      "source": [
        "x_test = test_dataset.iloc[:,:-1]\n",
        "x_test.head(2)"
      ],
      "metadata": {
        "colab": {
          "base_uri": "https://localhost:8080/",
          "height": 132
        },
        "id": "U_DjH3nkBHxZ",
        "outputId": "5ca4c091-defd-469d-d6ef-69a7e011ef29"
      },
      "execution_count": 42,
      "outputs": [
        {
          "output_type": "execute_result",
          "data": {
            "text/plain": [
              "   id  lte_5g_category  time  packet_loss_rate  packet_delay  io_t  lte_5g  \\\n",
              "0   0               15    17          0.001000           100     0       1   \n",
              "1   1               14    18          0.000001            10     1       0   \n",
              "\n",
              "   gbr  non_gbr  ar_vr_gaming  healthcare  industry_4_0  io_t_devices  \\\n",
              "0    1        0             1           0             0             0   \n",
              "1    0        1             0           0             0             0   \n",
              "\n",
              "   public_safety  smart_city_and_home  smart_transportation  smartphone  \n",
              "0              0                    0                     0           0  \n",
              "1              0                    0                     1           0  "
            ],
            "text/html": [
              "\n",
              "  <div id=\"df-ceb58b03-ae61-4756-ba56-a01b66925b1c\" class=\"colab-df-container\">\n",
              "    <div>\n",
              "<style scoped>\n",
              "    .dataframe tbody tr th:only-of-type {\n",
              "        vertical-align: middle;\n",
              "    }\n",
              "\n",
              "    .dataframe tbody tr th {\n",
              "        vertical-align: top;\n",
              "    }\n",
              "\n",
              "    .dataframe thead th {\n",
              "        text-align: right;\n",
              "    }\n",
              "</style>\n",
              "<table border=\"1\" class=\"dataframe\">\n",
              "  <thead>\n",
              "    <tr style=\"text-align: right;\">\n",
              "      <th></th>\n",
              "      <th>id</th>\n",
              "      <th>lte_5g_category</th>\n",
              "      <th>time</th>\n",
              "      <th>packet_loss_rate</th>\n",
              "      <th>packet_delay</th>\n",
              "      <th>io_t</th>\n",
              "      <th>lte_5g</th>\n",
              "      <th>gbr</th>\n",
              "      <th>non_gbr</th>\n",
              "      <th>ar_vr_gaming</th>\n",
              "      <th>healthcare</th>\n",
              "      <th>industry_4_0</th>\n",
              "      <th>io_t_devices</th>\n",
              "      <th>public_safety</th>\n",
              "      <th>smart_city_and_home</th>\n",
              "      <th>smart_transportation</th>\n",
              "      <th>smartphone</th>\n",
              "    </tr>\n",
              "  </thead>\n",
              "  <tbody>\n",
              "    <tr>\n",
              "      <th>0</th>\n",
              "      <td>0</td>\n",
              "      <td>15</td>\n",
              "      <td>17</td>\n",
              "      <td>0.001000</td>\n",
              "      <td>100</td>\n",
              "      <td>0</td>\n",
              "      <td>1</td>\n",
              "      <td>1</td>\n",
              "      <td>0</td>\n",
              "      <td>1</td>\n",
              "      <td>0</td>\n",
              "      <td>0</td>\n",
              "      <td>0</td>\n",
              "      <td>0</td>\n",
              "      <td>0</td>\n",
              "      <td>0</td>\n",
              "      <td>0</td>\n",
              "    </tr>\n",
              "    <tr>\n",
              "      <th>1</th>\n",
              "      <td>1</td>\n",
              "      <td>14</td>\n",
              "      <td>18</td>\n",
              "      <td>0.000001</td>\n",
              "      <td>10</td>\n",
              "      <td>1</td>\n",
              "      <td>0</td>\n",
              "      <td>0</td>\n",
              "      <td>1</td>\n",
              "      <td>0</td>\n",
              "      <td>0</td>\n",
              "      <td>0</td>\n",
              "      <td>0</td>\n",
              "      <td>0</td>\n",
              "      <td>0</td>\n",
              "      <td>1</td>\n",
              "      <td>0</td>\n",
              "    </tr>\n",
              "  </tbody>\n",
              "</table>\n",
              "</div>\n",
              "    <div class=\"colab-df-buttons\">\n",
              "\n",
              "  <div class=\"colab-df-container\">\n",
              "    <button class=\"colab-df-convert\" onclick=\"convertToInteractive('df-ceb58b03-ae61-4756-ba56-a01b66925b1c')\"\n",
              "            title=\"Convert this dataframe to an interactive table.\"\n",
              "            style=\"display:none;\">\n",
              "\n",
              "  <svg xmlns=\"http://www.w3.org/2000/svg\" height=\"24px\" viewBox=\"0 -960 960 960\">\n",
              "    <path d=\"M120-120v-720h720v720H120Zm60-500h600v-160H180v160Zm220 220h160v-160H400v160Zm0 220h160v-160H400v160ZM180-400h160v-160H180v160Zm440 0h160v-160H620v160ZM180-180h160v-160H180v160Zm440 0h160v-160H620v160Z\"/>\n",
              "  </svg>\n",
              "    </button>\n",
              "\n",
              "  <style>\n",
              "    .colab-df-container {\n",
              "      display:flex;\n",
              "      gap: 12px;\n",
              "    }\n",
              "\n",
              "    .colab-df-convert {\n",
              "      background-color: #E8F0FE;\n",
              "      border: none;\n",
              "      border-radius: 50%;\n",
              "      cursor: pointer;\n",
              "      display: none;\n",
              "      fill: #1967D2;\n",
              "      height: 32px;\n",
              "      padding: 0 0 0 0;\n",
              "      width: 32px;\n",
              "    }\n",
              "\n",
              "    .colab-df-convert:hover {\n",
              "      background-color: #E2EBFA;\n",
              "      box-shadow: 0px 1px 2px rgba(60, 64, 67, 0.3), 0px 1px 3px 1px rgba(60, 64, 67, 0.15);\n",
              "      fill: #174EA6;\n",
              "    }\n",
              "\n",
              "    .colab-df-buttons div {\n",
              "      margin-bottom: 4px;\n",
              "    }\n",
              "\n",
              "    [theme=dark] .colab-df-convert {\n",
              "      background-color: #3B4455;\n",
              "      fill: #D2E3FC;\n",
              "    }\n",
              "\n",
              "    [theme=dark] .colab-df-convert:hover {\n",
              "      background-color: #434B5C;\n",
              "      box-shadow: 0px 1px 3px 1px rgba(0, 0, 0, 0.15);\n",
              "      filter: drop-shadow(0px 1px 2px rgba(0, 0, 0, 0.3));\n",
              "      fill: #FFFFFF;\n",
              "    }\n",
              "  </style>\n",
              "\n",
              "    <script>\n",
              "      const buttonEl =\n",
              "        document.querySelector('#df-ceb58b03-ae61-4756-ba56-a01b66925b1c button.colab-df-convert');\n",
              "      buttonEl.style.display =\n",
              "        google.colab.kernel.accessAllowed ? 'block' : 'none';\n",
              "\n",
              "      async function convertToInteractive(key) {\n",
              "        const element = document.querySelector('#df-ceb58b03-ae61-4756-ba56-a01b66925b1c');\n",
              "        const dataTable =\n",
              "          await google.colab.kernel.invokeFunction('convertToInteractive',\n",
              "                                                    [key], {});\n",
              "        if (!dataTable) return;\n",
              "\n",
              "        const docLinkHtml = 'Like what you see? Visit the ' +\n",
              "          '<a target=\"_blank\" href=https://colab.research.google.com/notebooks/data_table.ipynb>data table notebook</a>'\n",
              "          + ' to learn more about interactive tables.';\n",
              "        element.innerHTML = '';\n",
              "        dataTable['output_type'] = 'display_data';\n",
              "        await google.colab.output.renderOutput(dataTable, element);\n",
              "        const docLink = document.createElement('div');\n",
              "        docLink.innerHTML = docLinkHtml;\n",
              "        element.appendChild(docLink);\n",
              "      }\n",
              "    </script>\n",
              "  </div>\n",
              "\n",
              "\n",
              "<div id=\"df-0283658d-2102-48e4-9451-c423bb8d38c6\">\n",
              "  <button class=\"colab-df-quickchart\" onclick=\"quickchart('df-0283658d-2102-48e4-9451-c423bb8d38c6')\"\n",
              "            title=\"Suggest charts\"\n",
              "            style=\"display:none;\">\n",
              "\n",
              "<svg xmlns=\"http://www.w3.org/2000/svg\" height=\"24px\"viewBox=\"0 0 24 24\"\n",
              "     width=\"24px\">\n",
              "    <g>\n",
              "        <path d=\"M19 3H5c-1.1 0-2 .9-2 2v14c0 1.1.9 2 2 2h14c1.1 0 2-.9 2-2V5c0-1.1-.9-2-2-2zM9 17H7v-7h2v7zm4 0h-2V7h2v10zm4 0h-2v-4h2v4z\"/>\n",
              "    </g>\n",
              "</svg>\n",
              "  </button>\n",
              "\n",
              "<style>\n",
              "  .colab-df-quickchart {\n",
              "      --bg-color: #E8F0FE;\n",
              "      --fill-color: #1967D2;\n",
              "      --hover-bg-color: #E2EBFA;\n",
              "      --hover-fill-color: #174EA6;\n",
              "      --disabled-fill-color: #AAA;\n",
              "      --disabled-bg-color: #DDD;\n",
              "  }\n",
              "\n",
              "  [theme=dark] .colab-df-quickchart {\n",
              "      --bg-color: #3B4455;\n",
              "      --fill-color: #D2E3FC;\n",
              "      --hover-bg-color: #434B5C;\n",
              "      --hover-fill-color: #FFFFFF;\n",
              "      --disabled-bg-color: #3B4455;\n",
              "      --disabled-fill-color: #666;\n",
              "  }\n",
              "\n",
              "  .colab-df-quickchart {\n",
              "    background-color: var(--bg-color);\n",
              "    border: none;\n",
              "    border-radius: 50%;\n",
              "    cursor: pointer;\n",
              "    display: none;\n",
              "    fill: var(--fill-color);\n",
              "    height: 32px;\n",
              "    padding: 0;\n",
              "    width: 32px;\n",
              "  }\n",
              "\n",
              "  .colab-df-quickchart:hover {\n",
              "    background-color: var(--hover-bg-color);\n",
              "    box-shadow: 0 1px 2px rgba(60, 64, 67, 0.3), 0 1px 3px 1px rgba(60, 64, 67, 0.15);\n",
              "    fill: var(--button-hover-fill-color);\n",
              "  }\n",
              "\n",
              "  .colab-df-quickchart-complete:disabled,\n",
              "  .colab-df-quickchart-complete:disabled:hover {\n",
              "    background-color: var(--disabled-bg-color);\n",
              "    fill: var(--disabled-fill-color);\n",
              "    box-shadow: none;\n",
              "  }\n",
              "\n",
              "  .colab-df-spinner {\n",
              "    border: 2px solid var(--fill-color);\n",
              "    border-color: transparent;\n",
              "    border-bottom-color: var(--fill-color);\n",
              "    animation:\n",
              "      spin 1s steps(1) infinite;\n",
              "  }\n",
              "\n",
              "  @keyframes spin {\n",
              "    0% {\n",
              "      border-color: transparent;\n",
              "      border-bottom-color: var(--fill-color);\n",
              "      border-left-color: var(--fill-color);\n",
              "    }\n",
              "    20% {\n",
              "      border-color: transparent;\n",
              "      border-left-color: var(--fill-color);\n",
              "      border-top-color: var(--fill-color);\n",
              "    }\n",
              "    30% {\n",
              "      border-color: transparent;\n",
              "      border-left-color: var(--fill-color);\n",
              "      border-top-color: var(--fill-color);\n",
              "      border-right-color: var(--fill-color);\n",
              "    }\n",
              "    40% {\n",
              "      border-color: transparent;\n",
              "      border-right-color: var(--fill-color);\n",
              "      border-top-color: var(--fill-color);\n",
              "    }\n",
              "    60% {\n",
              "      border-color: transparent;\n",
              "      border-right-color: var(--fill-color);\n",
              "    }\n",
              "    80% {\n",
              "      border-color: transparent;\n",
              "      border-right-color: var(--fill-color);\n",
              "      border-bottom-color: var(--fill-color);\n",
              "    }\n",
              "    90% {\n",
              "      border-color: transparent;\n",
              "      border-bottom-color: var(--fill-color);\n",
              "    }\n",
              "  }\n",
              "</style>\n",
              "\n",
              "  <script>\n",
              "    async function quickchart(key) {\n",
              "      const quickchartButtonEl =\n",
              "        document.querySelector('#' + key + ' button');\n",
              "      quickchartButtonEl.disabled = true;  // To prevent multiple clicks.\n",
              "      quickchartButtonEl.classList.add('colab-df-spinner');\n",
              "      try {\n",
              "        const charts = await google.colab.kernel.invokeFunction(\n",
              "            'suggestCharts', [key], {});\n",
              "      } catch (error) {\n",
              "        console.error('Error during call to suggestCharts:', error);\n",
              "      }\n",
              "      quickchartButtonEl.classList.remove('colab-df-spinner');\n",
              "      quickchartButtonEl.classList.add('colab-df-quickchart-complete');\n",
              "    }\n",
              "    (() => {\n",
              "      let quickchartButtonEl =\n",
              "        document.querySelector('#df-0283658d-2102-48e4-9451-c423bb8d38c6 button');\n",
              "      quickchartButtonEl.style.display =\n",
              "        google.colab.kernel.accessAllowed ? 'block' : 'none';\n",
              "    })();\n",
              "  </script>\n",
              "</div>\n",
              "\n",
              "    </div>\n",
              "  </div>\n"
            ]
          },
          "metadata": {},
          "execution_count": 42
        }
      ]
    },
    {
      "cell_type": "code",
      "source": [
        "y_test= test_dataset.iloc[:,-1:]\n",
        "y_test= lbl.fit_transform(y_test)\n",
        "y_test"
      ],
      "metadata": {
        "colab": {
          "base_uri": "https://localhost:8080/"
        },
        "id": "ElSVTjjiBUed",
        "outputId": "48beb49e-7f29-402c-aa9b-b56ce4989426"
      },
      "execution_count": 43,
      "outputs": [
        {
          "output_type": "execute_result",
          "data": {
            "text/plain": [
              "array([0, 0, 0, ..., 0, 0, 0])"
            ]
          },
          "metadata": {},
          "execution_count": 43
        }
      ]
    },
    {
      "cell_type": "markdown",
      "source": [
        "### Feature Selection"
      ],
      "metadata": {
        "id": "iLbJOT56E5qE"
      }
    },
    {
      "cell_type": "code",
      "source": [
        "from sklearn.feature_selection import SelectKBest\n",
        "from sklearn.feature_selection import f_classif"
      ],
      "metadata": {
        "id": "fwwIJbG8E9V6"
      },
      "execution_count": 44,
      "outputs": []
    },
    {
      "cell_type": "code",
      "source": [
        "from sklearn.linear_model import Lasso"
      ],
      "metadata": {
        "id": "HKZprHOAFfWD"
      },
      "execution_count": 45,
      "outputs": []
    },
    {
      "cell_type": "code",
      "source": [
        "# calling the model with the best parameter\n",
        "lasso1 = Lasso(alpha=0.00001)\n",
        "lasso1.fit(x_train, y_train)\n",
        "\n",
        "# Using np.abs() to make coefficients positive.\n",
        "lasso1_coef = np.abs(lasso1.coef_)\n"
      ],
      "metadata": {
        "id": "VqR7wb14Fwn-"
      },
      "execution_count": 46,
      "outputs": []
    },
    {
      "cell_type": "code",
      "source": [
        "lasso1_coef"
      ],
      "metadata": {
        "colab": {
          "base_uri": "https://localhost:8080/"
        },
        "id": "u6ycXP7cHYyP",
        "outputId": "03bed8a2-41db-4caf-84f8-be6fb726ac7b"
      },
      "execution_count": 47,
      "outputs": [
        {
          "output_type": "execute_result",
          "data": {
            "text/plain": [
              "array([1.94401739e-08, 6.67502754e-05, 1.03158665e-04, 1.63027496e+01,\n",
              "       1.31275359e-04, 1.51697826e+00, 9.61659043e-06, 1.88853890e-01,\n",
              "       0.00000000e+00, 2.41860263e-02, 3.41094315e-01, 5.61733730e-02,\n",
              "       2.68648416e-01, 3.41094851e-01, 3.80820930e-01, 3.41106206e-01,\n",
              "       1.59913655e-02], dtype=float32)"
            ]
          },
          "metadata": {},
          "execution_count": 47
        }
      ]
    },
    {
      "cell_type": "code",
      "source": [
        "####! pip install evalml"
      ],
      "metadata": {
        "id": "lzupb_2bBg7e"
      },
      "execution_count": 48,
      "outputs": []
    },
    {
      "cell_type": "code",
      "source": [
        "import evalml"
      ],
      "metadata": {
        "id": "US8JNVC0Bamg"
      },
      "execution_count": 49,
      "outputs": []
    },
    {
      "cell_type": "code",
      "source": [
        "evalml.problem_types.ProblemTypes.all_problem_types"
      ],
      "metadata": {
        "colab": {
          "base_uri": "https://localhost:8080/"
        },
        "id": "5MVtKJQEBdlo",
        "outputId": "e2054949-d3cb-4310-e1a2-ab7928292a5b"
      },
      "execution_count": 50,
      "outputs": [
        {
          "output_type": "execute_result",
          "data": {
            "text/plain": [
              "[<ProblemTypes.BINARY: 'binary'>,\n",
              " <ProblemTypes.MULTICLASS: 'multiclass'>,\n",
              " <ProblemTypes.REGRESSION: 'regression'>,\n",
              " <ProblemTypes.TIME_SERIES_REGRESSION: 'time series regression'>,\n",
              " <ProblemTypes.TIME_SERIES_BINARY: 'time series binary'>,\n",
              " <ProblemTypes.TIME_SERIES_MULTICLASS: 'time series multiclass'>,\n",
              " <ProblemTypes.MULTISERIES_TIME_SERIES_REGRESSION: 'multiseries time series regression'>]"
            ]
          },
          "metadata": {},
          "execution_count": 50
        }
      ]
    },
    {
      "cell_type": "code",
      "source": [
        "from evalml.automl import AutoMLSearch\n",
        "automl = AutoMLSearch(X_train=x_train, y_train=y_train, problem_type='MULTICLASS')\n",
        "automl.search()"
      ],
      "metadata": {
        "colab": {
          "base_uri": "https://localhost:8080/"
        },
        "id": "5e7Zk6PkCBOk",
        "outputId": "e4541859-64d6-4c76-a35a-384bd86108a1"
      },
      "execution_count": 51,
      "outputs": [
        {
          "output_type": "execute_result",
          "data": {
            "text/plain": [
              "{1: {'Random Forest Classifier w/ Label Encoder + Imputer + RF Classifier Select From Model': 7.876364469528198,\n",
              "  'Total time of batch': 8.039944648742676},\n",
              " 2: {'LightGBM Classifier w/ Label Encoder + Imputer + Select Columns Transformer': 2.230330467224121,\n",
              "  'Extra Trees Classifier w/ Label Encoder + Imputer + Select Columns Transformer': 2.5660414695739746,\n",
              "  'Elastic Net Classifier w/ Label Encoder + Imputer + Standard Scaler + Select Columns Transformer': 6.2131359577178955,\n",
              "  'XGBoost Classifier w/ Label Encoder + Imputer + Select Columns Transformer': 2.503875970840454,\n",
              "  'Logistic Regression Classifier w/ Label Encoder + Imputer + Standard Scaler + Select Columns Transformer': 5.882632493972778,\n",
              "  'Total time of batch': 20.128440380096436}}"
            ]
          },
          "metadata": {},
          "execution_count": 51
        }
      ]
    },
    {
      "cell_type": "code",
      "source": [
        "\n",
        "automl.rankings\n"
      ],
      "metadata": {
        "colab": {
          "base_uri": "https://localhost:8080/",
          "height": 653
        },
        "id": "9Juj2M9_EJvv",
        "outputId": "f19b0b43-8eae-4763-8e22-1cdc0149c0e5"
      },
      "execution_count": 52,
      "outputs": [
        {
          "output_type": "execute_result",
          "data": {
            "text/plain": [
              "   id                                      pipeline_name  search_order  \\\n",
              "0   1  Random Forest Classifier w/ Label Encoder + Im...             1   \n",
              "1   3  Extra Trees Classifier w/ Label Encoder + Impu...             3   \n",
              "2   2  LightGBM Classifier w/ Label Encoder + Imputer...             2   \n",
              "3   5  XGBoost Classifier w/ Label Encoder + Imputer ...             5   \n",
              "4   4  Elastic Net Classifier w/ Label Encoder + Impu...             4   \n",
              "5   6  Logistic Regression Classifier w/ Label Encode...             6   \n",
              "6   0   Mode Baseline Multiclass Classification Pipeline             0   \n",
              "\n",
              "   ranking_score  mean_cv_score  standard_deviation_cv_score  \\\n",
              "0   4.440892e-16   4.440892e-16                 0.000000e+00   \n",
              "1   4.440892e-16   4.440892e-16                 0.000000e+00   \n",
              "2   1.142611e-06   1.142611e-06                 6.540846e-12   \n",
              "3   9.683620e-05   9.683620e-05                 2.555998e-07   \n",
              "4   2.136304e-04   2.136304e-04                 3.693347e-06   \n",
              "5   2.224173e-04   2.224173e-04                 3.938498e-06   \n",
              "6   1.687203e+01   1.687203e+01                 9.253124e-04   \n",
              "\n",
              "   percent_better_than_baseline  high_variance_cv  \\\n",
              "0                    100.000000             False   \n",
              "1                    100.000000             False   \n",
              "2                     99.999993             False   \n",
              "3                     99.999426             False   \n",
              "4                     99.998734             False   \n",
              "5                     99.998682             False   \n",
              "6                      0.000000             False   \n",
              "\n",
              "                                          parameters  \n",
              "0  {'Label Encoder': {'positive_label': None}, 'I...  \n",
              "1  {'Label Encoder': {'positive_label': None}, 'I...  \n",
              "2  {'Label Encoder': {'positive_label': None}, 'I...  \n",
              "3  {'Label Encoder': {'positive_label': None}, 'I...  \n",
              "4  {'Label Encoder': {'positive_label': None}, 'I...  \n",
              "5  {'Label Encoder': {'positive_label': None}, 'I...  \n",
              "6  {'Label Encoder': {'positive_label': None}, 'B...  "
            ],
            "text/html": [
              "\n",
              "  <div id=\"df-e2e9a559-0e09-4397-a1b0-71ddf43de339\" class=\"colab-df-container\">\n",
              "    <div>\n",
              "<style scoped>\n",
              "    .dataframe tbody tr th:only-of-type {\n",
              "        vertical-align: middle;\n",
              "    }\n",
              "\n",
              "    .dataframe tbody tr th {\n",
              "        vertical-align: top;\n",
              "    }\n",
              "\n",
              "    .dataframe thead th {\n",
              "        text-align: right;\n",
              "    }\n",
              "</style>\n",
              "<table border=\"1\" class=\"dataframe\">\n",
              "  <thead>\n",
              "    <tr style=\"text-align: right;\">\n",
              "      <th></th>\n",
              "      <th>id</th>\n",
              "      <th>pipeline_name</th>\n",
              "      <th>search_order</th>\n",
              "      <th>ranking_score</th>\n",
              "      <th>mean_cv_score</th>\n",
              "      <th>standard_deviation_cv_score</th>\n",
              "      <th>percent_better_than_baseline</th>\n",
              "      <th>high_variance_cv</th>\n",
              "      <th>parameters</th>\n",
              "    </tr>\n",
              "  </thead>\n",
              "  <tbody>\n",
              "    <tr>\n",
              "      <th>0</th>\n",
              "      <td>1</td>\n",
              "      <td>Random Forest Classifier w/ Label Encoder + Im...</td>\n",
              "      <td>1</td>\n",
              "      <td>4.440892e-16</td>\n",
              "      <td>4.440892e-16</td>\n",
              "      <td>0.000000e+00</td>\n",
              "      <td>100.000000</td>\n",
              "      <td>False</td>\n",
              "      <td>{'Label Encoder': {'positive_label': None}, 'I...</td>\n",
              "    </tr>\n",
              "    <tr>\n",
              "      <th>1</th>\n",
              "      <td>3</td>\n",
              "      <td>Extra Trees Classifier w/ Label Encoder + Impu...</td>\n",
              "      <td>3</td>\n",
              "      <td>4.440892e-16</td>\n",
              "      <td>4.440892e-16</td>\n",
              "      <td>0.000000e+00</td>\n",
              "      <td>100.000000</td>\n",
              "      <td>False</td>\n",
              "      <td>{'Label Encoder': {'positive_label': None}, 'I...</td>\n",
              "    </tr>\n",
              "    <tr>\n",
              "      <th>2</th>\n",
              "      <td>2</td>\n",
              "      <td>LightGBM Classifier w/ Label Encoder + Imputer...</td>\n",
              "      <td>2</td>\n",
              "      <td>1.142611e-06</td>\n",
              "      <td>1.142611e-06</td>\n",
              "      <td>6.540846e-12</td>\n",
              "      <td>99.999993</td>\n",
              "      <td>False</td>\n",
              "      <td>{'Label Encoder': {'positive_label': None}, 'I...</td>\n",
              "    </tr>\n",
              "    <tr>\n",
              "      <th>3</th>\n",
              "      <td>5</td>\n",
              "      <td>XGBoost Classifier w/ Label Encoder + Imputer ...</td>\n",
              "      <td>5</td>\n",
              "      <td>9.683620e-05</td>\n",
              "      <td>9.683620e-05</td>\n",
              "      <td>2.555998e-07</td>\n",
              "      <td>99.999426</td>\n",
              "      <td>False</td>\n",
              "      <td>{'Label Encoder': {'positive_label': None}, 'I...</td>\n",
              "    </tr>\n",
              "    <tr>\n",
              "      <th>4</th>\n",
              "      <td>4</td>\n",
              "      <td>Elastic Net Classifier w/ Label Encoder + Impu...</td>\n",
              "      <td>4</td>\n",
              "      <td>2.136304e-04</td>\n",
              "      <td>2.136304e-04</td>\n",
              "      <td>3.693347e-06</td>\n",
              "      <td>99.998734</td>\n",
              "      <td>False</td>\n",
              "      <td>{'Label Encoder': {'positive_label': None}, 'I...</td>\n",
              "    </tr>\n",
              "    <tr>\n",
              "      <th>5</th>\n",
              "      <td>6</td>\n",
              "      <td>Logistic Regression Classifier w/ Label Encode...</td>\n",
              "      <td>6</td>\n",
              "      <td>2.224173e-04</td>\n",
              "      <td>2.224173e-04</td>\n",
              "      <td>3.938498e-06</td>\n",
              "      <td>99.998682</td>\n",
              "      <td>False</td>\n",
              "      <td>{'Label Encoder': {'positive_label': None}, 'I...</td>\n",
              "    </tr>\n",
              "    <tr>\n",
              "      <th>6</th>\n",
              "      <td>0</td>\n",
              "      <td>Mode Baseline Multiclass Classification Pipeline</td>\n",
              "      <td>0</td>\n",
              "      <td>1.687203e+01</td>\n",
              "      <td>1.687203e+01</td>\n",
              "      <td>9.253124e-04</td>\n",
              "      <td>0.000000</td>\n",
              "      <td>False</td>\n",
              "      <td>{'Label Encoder': {'positive_label': None}, 'B...</td>\n",
              "    </tr>\n",
              "  </tbody>\n",
              "</table>\n",
              "</div>\n",
              "    <div class=\"colab-df-buttons\">\n",
              "\n",
              "  <div class=\"colab-df-container\">\n",
              "    <button class=\"colab-df-convert\" onclick=\"convertToInteractive('df-e2e9a559-0e09-4397-a1b0-71ddf43de339')\"\n",
              "            title=\"Convert this dataframe to an interactive table.\"\n",
              "            style=\"display:none;\">\n",
              "\n",
              "  <svg xmlns=\"http://www.w3.org/2000/svg\" height=\"24px\" viewBox=\"0 -960 960 960\">\n",
              "    <path d=\"M120-120v-720h720v720H120Zm60-500h600v-160H180v160Zm220 220h160v-160H400v160Zm0 220h160v-160H400v160ZM180-400h160v-160H180v160Zm440 0h160v-160H620v160ZM180-180h160v-160H180v160Zm440 0h160v-160H620v160Z\"/>\n",
              "  </svg>\n",
              "    </button>\n",
              "\n",
              "  <style>\n",
              "    .colab-df-container {\n",
              "      display:flex;\n",
              "      gap: 12px;\n",
              "    }\n",
              "\n",
              "    .colab-df-convert {\n",
              "      background-color: #E8F0FE;\n",
              "      border: none;\n",
              "      border-radius: 50%;\n",
              "      cursor: pointer;\n",
              "      display: none;\n",
              "      fill: #1967D2;\n",
              "      height: 32px;\n",
              "      padding: 0 0 0 0;\n",
              "      width: 32px;\n",
              "    }\n",
              "\n",
              "    .colab-df-convert:hover {\n",
              "      background-color: #E2EBFA;\n",
              "      box-shadow: 0px 1px 2px rgba(60, 64, 67, 0.3), 0px 1px 3px 1px rgba(60, 64, 67, 0.15);\n",
              "      fill: #174EA6;\n",
              "    }\n",
              "\n",
              "    .colab-df-buttons div {\n",
              "      margin-bottom: 4px;\n",
              "    }\n",
              "\n",
              "    [theme=dark] .colab-df-convert {\n",
              "      background-color: #3B4455;\n",
              "      fill: #D2E3FC;\n",
              "    }\n",
              "\n",
              "    [theme=dark] .colab-df-convert:hover {\n",
              "      background-color: #434B5C;\n",
              "      box-shadow: 0px 1px 3px 1px rgba(0, 0, 0, 0.15);\n",
              "      filter: drop-shadow(0px 1px 2px rgba(0, 0, 0, 0.3));\n",
              "      fill: #FFFFFF;\n",
              "    }\n",
              "  </style>\n",
              "\n",
              "    <script>\n",
              "      const buttonEl =\n",
              "        document.querySelector('#df-e2e9a559-0e09-4397-a1b0-71ddf43de339 button.colab-df-convert');\n",
              "      buttonEl.style.display =\n",
              "        google.colab.kernel.accessAllowed ? 'block' : 'none';\n",
              "\n",
              "      async function convertToInteractive(key) {\n",
              "        const element = document.querySelector('#df-e2e9a559-0e09-4397-a1b0-71ddf43de339');\n",
              "        const dataTable =\n",
              "          await google.colab.kernel.invokeFunction('convertToInteractive',\n",
              "                                                    [key], {});\n",
              "        if (!dataTable) return;\n",
              "\n",
              "        const docLinkHtml = 'Like what you see? Visit the ' +\n",
              "          '<a target=\"_blank\" href=https://colab.research.google.com/notebooks/data_table.ipynb>data table notebook</a>'\n",
              "          + ' to learn more about interactive tables.';\n",
              "        element.innerHTML = '';\n",
              "        dataTable['output_type'] = 'display_data';\n",
              "        await google.colab.output.renderOutput(dataTable, element);\n",
              "        const docLink = document.createElement('div');\n",
              "        docLink.innerHTML = docLinkHtml;\n",
              "        element.appendChild(docLink);\n",
              "      }\n",
              "    </script>\n",
              "  </div>\n",
              "\n",
              "\n",
              "<div id=\"df-9d5bd8f9-5eb9-40f3-8957-f74a2d669f6a\">\n",
              "  <button class=\"colab-df-quickchart\" onclick=\"quickchart('df-9d5bd8f9-5eb9-40f3-8957-f74a2d669f6a')\"\n",
              "            title=\"Suggest charts\"\n",
              "            style=\"display:none;\">\n",
              "\n",
              "<svg xmlns=\"http://www.w3.org/2000/svg\" height=\"24px\"viewBox=\"0 0 24 24\"\n",
              "     width=\"24px\">\n",
              "    <g>\n",
              "        <path d=\"M19 3H5c-1.1 0-2 .9-2 2v14c0 1.1.9 2 2 2h14c1.1 0 2-.9 2-2V5c0-1.1-.9-2-2-2zM9 17H7v-7h2v7zm4 0h-2V7h2v10zm4 0h-2v-4h2v4z\"/>\n",
              "    </g>\n",
              "</svg>\n",
              "  </button>\n",
              "\n",
              "<style>\n",
              "  .colab-df-quickchart {\n",
              "      --bg-color: #E8F0FE;\n",
              "      --fill-color: #1967D2;\n",
              "      --hover-bg-color: #E2EBFA;\n",
              "      --hover-fill-color: #174EA6;\n",
              "      --disabled-fill-color: #AAA;\n",
              "      --disabled-bg-color: #DDD;\n",
              "  }\n",
              "\n",
              "  [theme=dark] .colab-df-quickchart {\n",
              "      --bg-color: #3B4455;\n",
              "      --fill-color: #D2E3FC;\n",
              "      --hover-bg-color: #434B5C;\n",
              "      --hover-fill-color: #FFFFFF;\n",
              "      --disabled-bg-color: #3B4455;\n",
              "      --disabled-fill-color: #666;\n",
              "  }\n",
              "\n",
              "  .colab-df-quickchart {\n",
              "    background-color: var(--bg-color);\n",
              "    border: none;\n",
              "    border-radius: 50%;\n",
              "    cursor: pointer;\n",
              "    display: none;\n",
              "    fill: var(--fill-color);\n",
              "    height: 32px;\n",
              "    padding: 0;\n",
              "    width: 32px;\n",
              "  }\n",
              "\n",
              "  .colab-df-quickchart:hover {\n",
              "    background-color: var(--hover-bg-color);\n",
              "    box-shadow: 0 1px 2px rgba(60, 64, 67, 0.3), 0 1px 3px 1px rgba(60, 64, 67, 0.15);\n",
              "    fill: var(--button-hover-fill-color);\n",
              "  }\n",
              "\n",
              "  .colab-df-quickchart-complete:disabled,\n",
              "  .colab-df-quickchart-complete:disabled:hover {\n",
              "    background-color: var(--disabled-bg-color);\n",
              "    fill: var(--disabled-fill-color);\n",
              "    box-shadow: none;\n",
              "  }\n",
              "\n",
              "  .colab-df-spinner {\n",
              "    border: 2px solid var(--fill-color);\n",
              "    border-color: transparent;\n",
              "    border-bottom-color: var(--fill-color);\n",
              "    animation:\n",
              "      spin 1s steps(1) infinite;\n",
              "  }\n",
              "\n",
              "  @keyframes spin {\n",
              "    0% {\n",
              "      border-color: transparent;\n",
              "      border-bottom-color: var(--fill-color);\n",
              "      border-left-color: var(--fill-color);\n",
              "    }\n",
              "    20% {\n",
              "      border-color: transparent;\n",
              "      border-left-color: var(--fill-color);\n",
              "      border-top-color: var(--fill-color);\n",
              "    }\n",
              "    30% {\n",
              "      border-color: transparent;\n",
              "      border-left-color: var(--fill-color);\n",
              "      border-top-color: var(--fill-color);\n",
              "      border-right-color: var(--fill-color);\n",
              "    }\n",
              "    40% {\n",
              "      border-color: transparent;\n",
              "      border-right-color: var(--fill-color);\n",
              "      border-top-color: var(--fill-color);\n",
              "    }\n",
              "    60% {\n",
              "      border-color: transparent;\n",
              "      border-right-color: var(--fill-color);\n",
              "    }\n",
              "    80% {\n",
              "      border-color: transparent;\n",
              "      border-right-color: var(--fill-color);\n",
              "      border-bottom-color: var(--fill-color);\n",
              "    }\n",
              "    90% {\n",
              "      border-color: transparent;\n",
              "      border-bottom-color: var(--fill-color);\n",
              "    }\n",
              "  }\n",
              "</style>\n",
              "\n",
              "  <script>\n",
              "    async function quickchart(key) {\n",
              "      const quickchartButtonEl =\n",
              "        document.querySelector('#' + key + ' button');\n",
              "      quickchartButtonEl.disabled = true;  // To prevent multiple clicks.\n",
              "      quickchartButtonEl.classList.add('colab-df-spinner');\n",
              "      try {\n",
              "        const charts = await google.colab.kernel.invokeFunction(\n",
              "            'suggestCharts', [key], {});\n",
              "      } catch (error) {\n",
              "        console.error('Error during call to suggestCharts:', error);\n",
              "      }\n",
              "      quickchartButtonEl.classList.remove('colab-df-spinner');\n",
              "      quickchartButtonEl.classList.add('colab-df-quickchart-complete');\n",
              "    }\n",
              "    (() => {\n",
              "      let quickchartButtonEl =\n",
              "        document.querySelector('#df-9d5bd8f9-5eb9-40f3-8957-f74a2d669f6a button');\n",
              "      quickchartButtonEl.style.display =\n",
              "        google.colab.kernel.accessAllowed ? 'block' : 'none';\n",
              "    })();\n",
              "  </script>\n",
              "</div>\n",
              "\n",
              "    </div>\n",
              "  </div>\n"
            ]
          },
          "metadata": {},
          "execution_count": 52
        }
      ]
    },
    {
      "cell_type": "code",
      "source": [
        "automl.best_pipeline"
      ],
      "metadata": {
        "colab": {
          "base_uri": "https://localhost:8080/"
        },
        "id": "x1aDx7AqENwi",
        "outputId": "bf716479-83d5-43ca-86ce-2b103886f86c"
      },
      "execution_count": 53,
      "outputs": [
        {
          "output_type": "execute_result",
          "data": {
            "text/plain": [
              "pipeline = MulticlassClassificationPipeline(component_graph={'Label Encoder': ['Label Encoder', 'X', 'y'], 'Imputer': ['Imputer', 'X', 'Label Encoder.y'], 'RF Classifier Select From Model': ['RF Classifier Select From Model', 'Imputer.x', 'Label Encoder.y'], 'Random Forest Classifier': ['Random Forest Classifier', 'RF Classifier Select From Model.x', 'Label Encoder.y']}, parameters={'Label Encoder':{'positive_label': None}, 'Imputer':{'categorical_impute_strategy': 'most_frequent', 'numeric_impute_strategy': 'mean', 'boolean_impute_strategy': 'most_frequent', 'categorical_fill_value': None, 'numeric_fill_value': None, 'boolean_fill_value': None}, 'RF Classifier Select From Model':{'number_features': None, 'n_estimators': 10, 'max_depth': None, 'percent_features': 0.5, 'threshold': 'median', 'n_jobs': -1}, 'Random Forest Classifier':{'n_estimators': 100, 'max_depth': 6, 'n_jobs': -1}}, random_seed=0)"
            ]
          },
          "metadata": {},
          "execution_count": 53
        }
      ]
    },
    {
      "cell_type": "code",
      "source": [
        "best_pipeline=automl.best_pipeline"
      ],
      "metadata": {
        "id": "4KWl7oJHETCQ"
      },
      "execution_count": 54,
      "outputs": []
    },
    {
      "cell_type": "code",
      "source": [
        "automl.describe_pipeline(automl.rankings.iloc[0][\"id\"])"
      ],
      "metadata": {
        "colab": {
          "base_uri": "https://localhost:8080/"
        },
        "id": "IToYdAfYEUCg",
        "outputId": "e5cf3a79-61ef-4933-dd19-291f18bed839"
      },
      "execution_count": 55,
      "outputs": [
        {
          "output_type": "stream",
          "name": "stdout",
          "text": [
            "\n",
            "*****************************************************************************************\n"
          ]
        },
        {
          "output_type": "stream",
          "name": "stderr",
          "text": [
            "INFO:evalml.pipelines.pipeline_base.describe:\n",
            "*****************************************************************************************\n"
          ]
        },
        {
          "output_type": "stream",
          "name": "stdout",
          "text": [
            "* Random Forest Classifier w/ Label Encoder + Imputer + RF Classifier Select From Model *\n"
          ]
        },
        {
          "output_type": "stream",
          "name": "stderr",
          "text": [
            "INFO:evalml.pipelines.pipeline_base.describe:* Random Forest Classifier w/ Label Encoder + Imputer + RF Classifier Select From Model *\n"
          ]
        },
        {
          "output_type": "stream",
          "name": "stdout",
          "text": [
            "*****************************************************************************************\n"
          ]
        },
        {
          "output_type": "stream",
          "name": "stderr",
          "text": [
            "INFO:evalml.pipelines.pipeline_base.describe:*****************************************************************************************\n"
          ]
        },
        {
          "output_type": "stream",
          "name": "stdout",
          "text": [
            "\n"
          ]
        },
        {
          "output_type": "stream",
          "name": "stderr",
          "text": [
            "INFO:evalml.pipelines.pipeline_base.describe:\n"
          ]
        },
        {
          "output_type": "stream",
          "name": "stdout",
          "text": [
            "Problem Type: multiclass\n"
          ]
        },
        {
          "output_type": "stream",
          "name": "stderr",
          "text": [
            "INFO:evalml.pipelines.pipeline_base.describe:Problem Type: multiclass\n"
          ]
        },
        {
          "output_type": "stream",
          "name": "stdout",
          "text": [
            "Model Family: Random Forest\n"
          ]
        },
        {
          "output_type": "stream",
          "name": "stderr",
          "text": [
            "INFO:evalml.pipelines.pipeline_base.describe:Model Family: Random Forest\n"
          ]
        },
        {
          "output_type": "stream",
          "name": "stdout",
          "text": [
            "\n"
          ]
        },
        {
          "output_type": "stream",
          "name": "stderr",
          "text": [
            "INFO:evalml.pipelines.pipeline_base.describe:\n"
          ]
        },
        {
          "output_type": "stream",
          "name": "stdout",
          "text": [
            "Pipeline Steps\n"
          ]
        },
        {
          "output_type": "stream",
          "name": "stderr",
          "text": [
            "INFO:evalml.pipelines.pipeline_base.describe:Pipeline Steps\n"
          ]
        },
        {
          "output_type": "stream",
          "name": "stdout",
          "text": [
            "==============\n"
          ]
        },
        {
          "output_type": "stream",
          "name": "stderr",
          "text": [
            "INFO:evalml.pipelines.pipeline_base.describe:==============\n"
          ]
        },
        {
          "output_type": "stream",
          "name": "stdout",
          "text": [
            "1. Label Encoder\n"
          ]
        },
        {
          "output_type": "stream",
          "name": "stderr",
          "text": [
            "INFO:evalml.pipelines.component_graph.describe:1. Label Encoder\n"
          ]
        },
        {
          "output_type": "stream",
          "name": "stdout",
          "text": [
            "\t * positive_label : None\n"
          ]
        },
        {
          "output_type": "stream",
          "name": "stderr",
          "text": [
            "INFO:evalml.pipelines.components.component_base.describe:\t * positive_label : None\n"
          ]
        },
        {
          "output_type": "stream",
          "name": "stdout",
          "text": [
            "2. Imputer\n"
          ]
        },
        {
          "output_type": "stream",
          "name": "stderr",
          "text": [
            "INFO:evalml.pipelines.component_graph.describe:2. Imputer\n"
          ]
        },
        {
          "output_type": "stream",
          "name": "stdout",
          "text": [
            "\t * categorical_impute_strategy : most_frequent\n"
          ]
        },
        {
          "output_type": "stream",
          "name": "stderr",
          "text": [
            "INFO:evalml.pipelines.components.component_base.describe:\t * categorical_impute_strategy : most_frequent\n"
          ]
        },
        {
          "output_type": "stream",
          "name": "stdout",
          "text": [
            "\t * numeric_impute_strategy : mean\n"
          ]
        },
        {
          "output_type": "stream",
          "name": "stderr",
          "text": [
            "INFO:evalml.pipelines.components.component_base.describe:\t * numeric_impute_strategy : mean\n"
          ]
        },
        {
          "output_type": "stream",
          "name": "stdout",
          "text": [
            "\t * boolean_impute_strategy : most_frequent\n"
          ]
        },
        {
          "output_type": "stream",
          "name": "stderr",
          "text": [
            "INFO:evalml.pipelines.components.component_base.describe:\t * boolean_impute_strategy : most_frequent\n"
          ]
        },
        {
          "output_type": "stream",
          "name": "stdout",
          "text": [
            "\t * categorical_fill_value : None\n"
          ]
        },
        {
          "output_type": "stream",
          "name": "stderr",
          "text": [
            "INFO:evalml.pipelines.components.component_base.describe:\t * categorical_fill_value : None\n"
          ]
        },
        {
          "output_type": "stream",
          "name": "stdout",
          "text": [
            "\t * numeric_fill_value : None\n"
          ]
        },
        {
          "output_type": "stream",
          "name": "stderr",
          "text": [
            "INFO:evalml.pipelines.components.component_base.describe:\t * numeric_fill_value : None\n"
          ]
        },
        {
          "output_type": "stream",
          "name": "stdout",
          "text": [
            "\t * boolean_fill_value : None\n"
          ]
        },
        {
          "output_type": "stream",
          "name": "stderr",
          "text": [
            "INFO:evalml.pipelines.components.component_base.describe:\t * boolean_fill_value : None\n"
          ]
        },
        {
          "output_type": "stream",
          "name": "stdout",
          "text": [
            "3. RF Classifier Select From Model\n"
          ]
        },
        {
          "output_type": "stream",
          "name": "stderr",
          "text": [
            "INFO:evalml.pipelines.component_graph.describe:3. RF Classifier Select From Model\n"
          ]
        },
        {
          "output_type": "stream",
          "name": "stdout",
          "text": [
            "\t * number_features : None\n"
          ]
        },
        {
          "output_type": "stream",
          "name": "stderr",
          "text": [
            "INFO:evalml.pipelines.components.component_base.describe:\t * number_features : None\n"
          ]
        },
        {
          "output_type": "stream",
          "name": "stdout",
          "text": [
            "\t * n_estimators : 10\n"
          ]
        },
        {
          "output_type": "stream",
          "name": "stderr",
          "text": [
            "INFO:evalml.pipelines.components.component_base.describe:\t * n_estimators : 10\n"
          ]
        },
        {
          "output_type": "stream",
          "name": "stdout",
          "text": [
            "\t * max_depth : None\n"
          ]
        },
        {
          "output_type": "stream",
          "name": "stderr",
          "text": [
            "INFO:evalml.pipelines.components.component_base.describe:\t * max_depth : None\n"
          ]
        },
        {
          "output_type": "stream",
          "name": "stdout",
          "text": [
            "\t * percent_features : 0.5\n"
          ]
        },
        {
          "output_type": "stream",
          "name": "stderr",
          "text": [
            "INFO:evalml.pipelines.components.component_base.describe:\t * percent_features : 0.5\n"
          ]
        },
        {
          "output_type": "stream",
          "name": "stdout",
          "text": [
            "\t * threshold : median\n"
          ]
        },
        {
          "output_type": "stream",
          "name": "stderr",
          "text": [
            "INFO:evalml.pipelines.components.component_base.describe:\t * threshold : median\n"
          ]
        },
        {
          "output_type": "stream",
          "name": "stdout",
          "text": [
            "\t * n_jobs : -1\n"
          ]
        },
        {
          "output_type": "stream",
          "name": "stderr",
          "text": [
            "INFO:evalml.pipelines.components.component_base.describe:\t * n_jobs : -1\n"
          ]
        },
        {
          "output_type": "stream",
          "name": "stdout",
          "text": [
            "4. Random Forest Classifier\n"
          ]
        },
        {
          "output_type": "stream",
          "name": "stderr",
          "text": [
            "INFO:evalml.pipelines.component_graph.describe:4. Random Forest Classifier\n"
          ]
        },
        {
          "output_type": "stream",
          "name": "stdout",
          "text": [
            "\t * n_estimators : 100\n"
          ]
        },
        {
          "output_type": "stream",
          "name": "stderr",
          "text": [
            "INFO:evalml.pipelines.components.component_base.describe:\t * n_estimators : 100\n"
          ]
        },
        {
          "output_type": "stream",
          "name": "stdout",
          "text": [
            "\t * max_depth : 6\n"
          ]
        },
        {
          "output_type": "stream",
          "name": "stderr",
          "text": [
            "INFO:evalml.pipelines.components.component_base.describe:\t * max_depth : 6\n"
          ]
        },
        {
          "output_type": "stream",
          "name": "stdout",
          "text": [
            "\t * n_jobs : -1\n"
          ]
        },
        {
          "output_type": "stream",
          "name": "stderr",
          "text": [
            "INFO:evalml.pipelines.components.component_base.describe:\t * n_jobs : -1\n"
          ]
        },
        {
          "output_type": "stream",
          "name": "stdout",
          "text": [
            "\n"
          ]
        },
        {
          "output_type": "stream",
          "name": "stderr",
          "text": [
            "INFO:evalml.automl.automl_search.describe_pipeline:\n"
          ]
        },
        {
          "output_type": "stream",
          "name": "stdout",
          "text": [
            "Training\n"
          ]
        },
        {
          "output_type": "stream",
          "name": "stderr",
          "text": [
            "INFO:evalml.automl.automl_search.describe_pipeline:Training\n"
          ]
        },
        {
          "output_type": "stream",
          "name": "stdout",
          "text": [
            "========\n"
          ]
        },
        {
          "output_type": "stream",
          "name": "stderr",
          "text": [
            "INFO:evalml.automl.automl_search.describe_pipeline:========\n"
          ]
        },
        {
          "output_type": "stream",
          "name": "stdout",
          "text": [
            "Training for multiclass problems.\n"
          ]
        },
        {
          "output_type": "stream",
          "name": "stderr",
          "text": [
            "INFO:evalml.automl.automl_search.describe_pipeline:Training for multiclass problems.\n"
          ]
        },
        {
          "output_type": "stream",
          "name": "stdout",
          "text": [
            "Total training time (including CV): 7.8 seconds\n"
          ]
        },
        {
          "output_type": "stream",
          "name": "stderr",
          "text": [
            "INFO:evalml.automl.automl_search.describe_pipeline:Total training time (including CV): 7.8 seconds\n"
          ]
        },
        {
          "output_type": "stream",
          "name": "stdout",
          "text": [
            "\n"
          ]
        },
        {
          "output_type": "stream",
          "name": "stderr",
          "text": [
            "INFO:evalml.automl.automl_search.describe_pipeline:\n"
          ]
        },
        {
          "output_type": "stream",
          "name": "stdout",
          "text": [
            "Cross Validation\n"
          ]
        },
        {
          "output_type": "stream",
          "name": "stderr",
          "text": [
            "INFO:evalml.automl.automl_search.describe_pipeline:Cross Validation\n"
          ]
        },
        {
          "output_type": "stream",
          "name": "stdout",
          "text": [
            "----------------\n"
          ]
        },
        {
          "output_type": "stream",
          "name": "stderr",
          "text": [
            "INFO:evalml.automl.automl_search.describe_pipeline:----------------\n"
          ]
        },
        {
          "output_type": "stream",
          "name": "stdout",
          "text": [
            "             Log Loss Multiclass  MCC Multiclass  AUC Weighted  AUC Macro  AUC Micro  Precision Weighted  Precision Macro  Precision Micro  F1 Weighted  F1 Macro  F1 Micro  Balanced Accuracy Multiclass  Accuracy Multiclass # Training # Validation\n",
            "0                          0.000           1.000         1.000      1.000      1.000               1.000            1.000            1.000        1.000     1.000     1.000                         1.000                1.000     21,055       10,528\n",
            "1                          0.000           1.000         1.000      1.000      1.000               1.000            1.000            1.000        1.000     1.000     1.000                         1.000                1.000     21,055       10,528\n",
            "2                          0.000           1.000         1.000      1.000      1.000               1.000            1.000            1.000        1.000     1.000     1.000                         1.000                1.000     21,056       10,527\n",
            "mean                       0.000           1.000         1.000      1.000      1.000               1.000            1.000            1.000        1.000     1.000     1.000                         1.000                1.000          -            -\n",
            "std                        0.000           0.000         0.000      0.000      0.000               0.000            0.000            0.000        0.000     0.000     0.000                         0.000                0.000          -            -\n",
            "coef of var                0.000           0.000         0.000      0.000      0.000               0.000            0.000            0.000        0.000     0.000     0.000                         0.000                0.000          -            -\n"
          ]
        },
        {
          "output_type": "stream",
          "name": "stderr",
          "text": [
            "INFO:evalml.automl.automl_search.describe_pipeline:             Log Loss Multiclass  MCC Multiclass  AUC Weighted  AUC Macro  AUC Micro  Precision Weighted  Precision Macro  Precision Micro  F1 Weighted  F1 Macro  F1 Micro  Balanced Accuracy Multiclass  Accuracy Multiclass # Training # Validation\n",
            "0                          0.000           1.000         1.000      1.000      1.000               1.000            1.000            1.000        1.000     1.000     1.000                         1.000                1.000     21,055       10,528\n",
            "1                          0.000           1.000         1.000      1.000      1.000               1.000            1.000            1.000        1.000     1.000     1.000                         1.000                1.000     21,055       10,528\n",
            "2                          0.000           1.000         1.000      1.000      1.000               1.000            1.000            1.000        1.000     1.000     1.000                         1.000                1.000     21,056       10,527\n",
            "mean                       0.000           1.000         1.000      1.000      1.000               1.000            1.000            1.000        1.000     1.000     1.000                         1.000                1.000          -            -\n",
            "std                        0.000           0.000         0.000      0.000      0.000               0.000            0.000            0.000        0.000     0.000     0.000                         0.000                0.000          -            -\n",
            "coef of var                0.000           0.000         0.000      0.000      0.000               0.000            0.000            0.000        0.000     0.000     0.000                         0.000                0.000          -            -\n"
          ]
        }
      ]
    },
    {
      "cell_type": "code",
      "source": [
        "evalml.problem_types.ProblemTypes.all_problem_types"
      ],
      "metadata": {
        "colab": {
          "base_uri": "https://localhost:8080/"
        },
        "id": "Fs4RLcu4EV4V",
        "outputId": "85771a80-6052-4fbf-f00a-5e6f87d77310"
      },
      "execution_count": 56,
      "outputs": [
        {
          "output_type": "execute_result",
          "data": {
            "text/plain": [
              "[<ProblemTypes.BINARY: 'binary'>,\n",
              " <ProblemTypes.MULTICLASS: 'multiclass'>,\n",
              " <ProblemTypes.REGRESSION: 'regression'>,\n",
              " <ProblemTypes.TIME_SERIES_REGRESSION: 'time series regression'>,\n",
              " <ProblemTypes.TIME_SERIES_BINARY: 'time series binary'>,\n",
              " <ProblemTypes.TIME_SERIES_MULTICLASS: 'time series multiclass'>,\n",
              " <ProblemTypes.MULTISERIES_TIME_SERIES_REGRESSION: 'multiseries time series regression'>]"
            ]
          },
          "metadata": {},
          "execution_count": 56
        }
      ]
    },
    {
      "cell_type": "code",
      "source": [
        "from evalml.objectives import get_optimization_objectives"
      ],
      "metadata": {
        "id": "xjNey-L2EWm5"
      },
      "execution_count": 57,
      "outputs": []
    },
    {
      "cell_type": "code",
      "source": [
        "from evalml.problem_types import ProblemTypes\n",
        "\n",
        "for objective in get_optimization_objectives(ProblemTypes.MULTICLASS):\n",
        "    print(objective.name)"
      ],
      "metadata": {
        "colab": {
          "base_uri": "https://localhost:8080/"
        },
        "id": "U7msbsAGEW1K",
        "outputId": "0373c336-f7a9-4cf7-dfcf-3e6f9e34eb60"
      },
      "execution_count": 58,
      "outputs": [
        {
          "output_type": "stream",
          "name": "stdout",
          "text": [
            "MCC Multiclass\n",
            "Log Loss Multiclass\n",
            "AUC Weighted\n",
            "AUC Macro\n",
            "AUC Micro\n",
            "Precision Weighted\n",
            "Precision Macro\n",
            "Precision Micro\n",
            "F1 Weighted\n",
            "F1 Macro\n",
            "F1 Micro\n",
            "Balanced Accuracy Multiclass\n",
            "Accuracy Multiclass\n"
          ]
        }
      ]
    },
    {
      "cell_type": "code",
      "source": [
        "automl_auc = AutoMLSearch(X_train=x_train, y_train=y_train,\n",
        "                          problem_type='multiclass',\n",
        "                          objective='F1 Weighted',\n",
        "                          additional_objectives=['Balanced Accuracy Multiclass', 'Accuracy Multiclass'],\n",
        "                          max_batches=1,\n",
        "                          optimize_thresholds=True)\n",
        "\n",
        "automl_auc.search()"
      ],
      "metadata": {
        "colab": {
          "base_uri": "https://localhost:8080/"
        },
        "id": "54xPlnzhEgVx",
        "outputId": "84307b95-14c7-4633-bb7d-a70de14cdb66"
      },
      "execution_count": 59,
      "outputs": [
        {
          "output_type": "execute_result",
          "data": {
            "text/plain": [
              "{1: {'Random Forest Classifier w/ Label Encoder + Imputer + RF Classifier Select From Model': 2.7275333404541016,\n",
              "  'Total time of batch': 2.857375383377075}}"
            ]
          },
          "metadata": {},
          "execution_count": 59
        }
      ]
    },
    {
      "cell_type": "code",
      "source": [
        "automl_auc.rankings"
      ],
      "metadata": {
        "colab": {
          "base_uri": "https://localhost:8080/",
          "height": 236
        },
        "id": "I2in8l0FEiFY",
        "outputId": "e0486bda-e572-49f6-c44d-808fc4f3ef7f"
      },
      "execution_count": 60,
      "outputs": [
        {
          "output_type": "execute_result",
          "data": {
            "text/plain": [
              "   id                                      pipeline_name  search_order  \\\n",
              "0   1  Random Forest Classifier w/ Label Encoder + Im...             1   \n",
              "1   0   Mode Baseline Multiclass Classification Pipeline             0   \n",
              "\n",
              "   ranking_score  mean_cv_score  standard_deviation_cv_score  \\\n",
              "0       1.000000       1.000000                     0.000000   \n",
              "1       0.369368       0.369368                     0.000029   \n",
              "\n",
              "   percent_better_than_baseline  high_variance_cv  \\\n",
              "0                     63.063167             False   \n",
              "1                      0.000000             False   \n",
              "\n",
              "                                          parameters  \n",
              "0  {'Label Encoder': {'positive_label': None}, 'I...  \n",
              "1  {'Label Encoder': {'positive_label': None}, 'B...  "
            ],
            "text/html": [
              "\n",
              "  <div id=\"df-731c3ea6-0387-45b5-8842-8d62fe92a945\" class=\"colab-df-container\">\n",
              "    <div>\n",
              "<style scoped>\n",
              "    .dataframe tbody tr th:only-of-type {\n",
              "        vertical-align: middle;\n",
              "    }\n",
              "\n",
              "    .dataframe tbody tr th {\n",
              "        vertical-align: top;\n",
              "    }\n",
              "\n",
              "    .dataframe thead th {\n",
              "        text-align: right;\n",
              "    }\n",
              "</style>\n",
              "<table border=\"1\" class=\"dataframe\">\n",
              "  <thead>\n",
              "    <tr style=\"text-align: right;\">\n",
              "      <th></th>\n",
              "      <th>id</th>\n",
              "      <th>pipeline_name</th>\n",
              "      <th>search_order</th>\n",
              "      <th>ranking_score</th>\n",
              "      <th>mean_cv_score</th>\n",
              "      <th>standard_deviation_cv_score</th>\n",
              "      <th>percent_better_than_baseline</th>\n",
              "      <th>high_variance_cv</th>\n",
              "      <th>parameters</th>\n",
              "    </tr>\n",
              "  </thead>\n",
              "  <tbody>\n",
              "    <tr>\n",
              "      <th>0</th>\n",
              "      <td>1</td>\n",
              "      <td>Random Forest Classifier w/ Label Encoder + Im...</td>\n",
              "      <td>1</td>\n",
              "      <td>1.000000</td>\n",
              "      <td>1.000000</td>\n",
              "      <td>0.000000</td>\n",
              "      <td>63.063167</td>\n",
              "      <td>False</td>\n",
              "      <td>{'Label Encoder': {'positive_label': None}, 'I...</td>\n",
              "    </tr>\n",
              "    <tr>\n",
              "      <th>1</th>\n",
              "      <td>0</td>\n",
              "      <td>Mode Baseline Multiclass Classification Pipeline</td>\n",
              "      <td>0</td>\n",
              "      <td>0.369368</td>\n",
              "      <td>0.369368</td>\n",
              "      <td>0.000029</td>\n",
              "      <td>0.000000</td>\n",
              "      <td>False</td>\n",
              "      <td>{'Label Encoder': {'positive_label': None}, 'B...</td>\n",
              "    </tr>\n",
              "  </tbody>\n",
              "</table>\n",
              "</div>\n",
              "    <div class=\"colab-df-buttons\">\n",
              "\n",
              "  <div class=\"colab-df-container\">\n",
              "    <button class=\"colab-df-convert\" onclick=\"convertToInteractive('df-731c3ea6-0387-45b5-8842-8d62fe92a945')\"\n",
              "            title=\"Convert this dataframe to an interactive table.\"\n",
              "            style=\"display:none;\">\n",
              "\n",
              "  <svg xmlns=\"http://www.w3.org/2000/svg\" height=\"24px\" viewBox=\"0 -960 960 960\">\n",
              "    <path d=\"M120-120v-720h720v720H120Zm60-500h600v-160H180v160Zm220 220h160v-160H400v160Zm0 220h160v-160H400v160ZM180-400h160v-160H180v160Zm440 0h160v-160H620v160ZM180-180h160v-160H180v160Zm440 0h160v-160H620v160Z\"/>\n",
              "  </svg>\n",
              "    </button>\n",
              "\n",
              "  <style>\n",
              "    .colab-df-container {\n",
              "      display:flex;\n",
              "      gap: 12px;\n",
              "    }\n",
              "\n",
              "    .colab-df-convert {\n",
              "      background-color: #E8F0FE;\n",
              "      border: none;\n",
              "      border-radius: 50%;\n",
              "      cursor: pointer;\n",
              "      display: none;\n",
              "      fill: #1967D2;\n",
              "      height: 32px;\n",
              "      padding: 0 0 0 0;\n",
              "      width: 32px;\n",
              "    }\n",
              "\n",
              "    .colab-df-convert:hover {\n",
              "      background-color: #E2EBFA;\n",
              "      box-shadow: 0px 1px 2px rgba(60, 64, 67, 0.3), 0px 1px 3px 1px rgba(60, 64, 67, 0.15);\n",
              "      fill: #174EA6;\n",
              "    }\n",
              "\n",
              "    .colab-df-buttons div {\n",
              "      margin-bottom: 4px;\n",
              "    }\n",
              "\n",
              "    [theme=dark] .colab-df-convert {\n",
              "      background-color: #3B4455;\n",
              "      fill: #D2E3FC;\n",
              "    }\n",
              "\n",
              "    [theme=dark] .colab-df-convert:hover {\n",
              "      background-color: #434B5C;\n",
              "      box-shadow: 0px 1px 3px 1px rgba(0, 0, 0, 0.15);\n",
              "      filter: drop-shadow(0px 1px 2px rgba(0, 0, 0, 0.3));\n",
              "      fill: #FFFFFF;\n",
              "    }\n",
              "  </style>\n",
              "\n",
              "    <script>\n",
              "      const buttonEl =\n",
              "        document.querySelector('#df-731c3ea6-0387-45b5-8842-8d62fe92a945 button.colab-df-convert');\n",
              "      buttonEl.style.display =\n",
              "        google.colab.kernel.accessAllowed ? 'block' : 'none';\n",
              "\n",
              "      async function convertToInteractive(key) {\n",
              "        const element = document.querySelector('#df-731c3ea6-0387-45b5-8842-8d62fe92a945');\n",
              "        const dataTable =\n",
              "          await google.colab.kernel.invokeFunction('convertToInteractive',\n",
              "                                                    [key], {});\n",
              "        if (!dataTable) return;\n",
              "\n",
              "        const docLinkHtml = 'Like what you see? Visit the ' +\n",
              "          '<a target=\"_blank\" href=https://colab.research.google.com/notebooks/data_table.ipynb>data table notebook</a>'\n",
              "          + ' to learn more about interactive tables.';\n",
              "        element.innerHTML = '';\n",
              "        dataTable['output_type'] = 'display_data';\n",
              "        await google.colab.output.renderOutput(dataTable, element);\n",
              "        const docLink = document.createElement('div');\n",
              "        docLink.innerHTML = docLinkHtml;\n",
              "        element.appendChild(docLink);\n",
              "      }\n",
              "    </script>\n",
              "  </div>\n",
              "\n",
              "\n",
              "<div id=\"df-f6917a51-23af-4c47-b572-5f3747a80d55\">\n",
              "  <button class=\"colab-df-quickchart\" onclick=\"quickchart('df-f6917a51-23af-4c47-b572-5f3747a80d55')\"\n",
              "            title=\"Suggest charts\"\n",
              "            style=\"display:none;\">\n",
              "\n",
              "<svg xmlns=\"http://www.w3.org/2000/svg\" height=\"24px\"viewBox=\"0 0 24 24\"\n",
              "     width=\"24px\">\n",
              "    <g>\n",
              "        <path d=\"M19 3H5c-1.1 0-2 .9-2 2v14c0 1.1.9 2 2 2h14c1.1 0 2-.9 2-2V5c0-1.1-.9-2-2-2zM9 17H7v-7h2v7zm4 0h-2V7h2v10zm4 0h-2v-4h2v4z\"/>\n",
              "    </g>\n",
              "</svg>\n",
              "  </button>\n",
              "\n",
              "<style>\n",
              "  .colab-df-quickchart {\n",
              "      --bg-color: #E8F0FE;\n",
              "      --fill-color: #1967D2;\n",
              "      --hover-bg-color: #E2EBFA;\n",
              "      --hover-fill-color: #174EA6;\n",
              "      --disabled-fill-color: #AAA;\n",
              "      --disabled-bg-color: #DDD;\n",
              "  }\n",
              "\n",
              "  [theme=dark] .colab-df-quickchart {\n",
              "      --bg-color: #3B4455;\n",
              "      --fill-color: #D2E3FC;\n",
              "      --hover-bg-color: #434B5C;\n",
              "      --hover-fill-color: #FFFFFF;\n",
              "      --disabled-bg-color: #3B4455;\n",
              "      --disabled-fill-color: #666;\n",
              "  }\n",
              "\n",
              "  .colab-df-quickchart {\n",
              "    background-color: var(--bg-color);\n",
              "    border: none;\n",
              "    border-radius: 50%;\n",
              "    cursor: pointer;\n",
              "    display: none;\n",
              "    fill: var(--fill-color);\n",
              "    height: 32px;\n",
              "    padding: 0;\n",
              "    width: 32px;\n",
              "  }\n",
              "\n",
              "  .colab-df-quickchart:hover {\n",
              "    background-color: var(--hover-bg-color);\n",
              "    box-shadow: 0 1px 2px rgba(60, 64, 67, 0.3), 0 1px 3px 1px rgba(60, 64, 67, 0.15);\n",
              "    fill: var(--button-hover-fill-color);\n",
              "  }\n",
              "\n",
              "  .colab-df-quickchart-complete:disabled,\n",
              "  .colab-df-quickchart-complete:disabled:hover {\n",
              "    background-color: var(--disabled-bg-color);\n",
              "    fill: var(--disabled-fill-color);\n",
              "    box-shadow: none;\n",
              "  }\n",
              "\n",
              "  .colab-df-spinner {\n",
              "    border: 2px solid var(--fill-color);\n",
              "    border-color: transparent;\n",
              "    border-bottom-color: var(--fill-color);\n",
              "    animation:\n",
              "      spin 1s steps(1) infinite;\n",
              "  }\n",
              "\n",
              "  @keyframes spin {\n",
              "    0% {\n",
              "      border-color: transparent;\n",
              "      border-bottom-color: var(--fill-color);\n",
              "      border-left-color: var(--fill-color);\n",
              "    }\n",
              "    20% {\n",
              "      border-color: transparent;\n",
              "      border-left-color: var(--fill-color);\n",
              "      border-top-color: var(--fill-color);\n",
              "    }\n",
              "    30% {\n",
              "      border-color: transparent;\n",
              "      border-left-color: var(--fill-color);\n",
              "      border-top-color: var(--fill-color);\n",
              "      border-right-color: var(--fill-color);\n",
              "    }\n",
              "    40% {\n",
              "      border-color: transparent;\n",
              "      border-right-color: var(--fill-color);\n",
              "      border-top-color: var(--fill-color);\n",
              "    }\n",
              "    60% {\n",
              "      border-color: transparent;\n",
              "      border-right-color: var(--fill-color);\n",
              "    }\n",
              "    80% {\n",
              "      border-color: transparent;\n",
              "      border-right-color: var(--fill-color);\n",
              "      border-bottom-color: var(--fill-color);\n",
              "    }\n",
              "    90% {\n",
              "      border-color: transparent;\n",
              "      border-bottom-color: var(--fill-color);\n",
              "    }\n",
              "  }\n",
              "</style>\n",
              "\n",
              "  <script>\n",
              "    async function quickchart(key) {\n",
              "      const quickchartButtonEl =\n",
              "        document.querySelector('#' + key + ' button');\n",
              "      quickchartButtonEl.disabled = true;  // To prevent multiple clicks.\n",
              "      quickchartButtonEl.classList.add('colab-df-spinner');\n",
              "      try {\n",
              "        const charts = await google.colab.kernel.invokeFunction(\n",
              "            'suggestCharts', [key], {});\n",
              "      } catch (error) {\n",
              "        console.error('Error during call to suggestCharts:', error);\n",
              "      }\n",
              "      quickchartButtonEl.classList.remove('colab-df-spinner');\n",
              "      quickchartButtonEl.classList.add('colab-df-quickchart-complete');\n",
              "    }\n",
              "    (() => {\n",
              "      let quickchartButtonEl =\n",
              "        document.querySelector('#df-f6917a51-23af-4c47-b572-5f3747a80d55 button');\n",
              "      quickchartButtonEl.style.display =\n",
              "        google.colab.kernel.accessAllowed ? 'block' : 'none';\n",
              "    })();\n",
              "  </script>\n",
              "</div>\n",
              "\n",
              "    </div>\n",
              "  </div>\n"
            ]
          },
          "metadata": {},
          "execution_count": 60
        }
      ]
    },
    {
      "cell_type": "code",
      "source": [
        "automl_auc.describe_pipeline(automl_auc.rankings.iloc[0][\"id\"])"
      ],
      "metadata": {
        "colab": {
          "base_uri": "https://localhost:8080/"
        },
        "id": "qkIVOXr_Enaw",
        "outputId": "c4aab0ae-87e4-473a-b57b-92797056d8c5"
      },
      "execution_count": 61,
      "outputs": [
        {
          "output_type": "stream",
          "name": "stdout",
          "text": [
            "\n",
            "*****************************************************************************************\n"
          ]
        },
        {
          "output_type": "stream",
          "name": "stderr",
          "text": [
            "INFO:evalml.pipelines.pipeline_base.describe:\n",
            "*****************************************************************************************\n"
          ]
        },
        {
          "output_type": "stream",
          "name": "stdout",
          "text": [
            "* Random Forest Classifier w/ Label Encoder + Imputer + RF Classifier Select From Model *\n"
          ]
        },
        {
          "output_type": "stream",
          "name": "stderr",
          "text": [
            "INFO:evalml.pipelines.pipeline_base.describe:* Random Forest Classifier w/ Label Encoder + Imputer + RF Classifier Select From Model *\n"
          ]
        },
        {
          "output_type": "stream",
          "name": "stdout",
          "text": [
            "*****************************************************************************************\n"
          ]
        },
        {
          "output_type": "stream",
          "name": "stderr",
          "text": [
            "INFO:evalml.pipelines.pipeline_base.describe:*****************************************************************************************\n"
          ]
        },
        {
          "output_type": "stream",
          "name": "stdout",
          "text": [
            "\n"
          ]
        },
        {
          "output_type": "stream",
          "name": "stderr",
          "text": [
            "INFO:evalml.pipelines.pipeline_base.describe:\n"
          ]
        },
        {
          "output_type": "stream",
          "name": "stdout",
          "text": [
            "Problem Type: multiclass\n"
          ]
        },
        {
          "output_type": "stream",
          "name": "stderr",
          "text": [
            "INFO:evalml.pipelines.pipeline_base.describe:Problem Type: multiclass\n"
          ]
        },
        {
          "output_type": "stream",
          "name": "stdout",
          "text": [
            "Model Family: Random Forest\n"
          ]
        },
        {
          "output_type": "stream",
          "name": "stderr",
          "text": [
            "INFO:evalml.pipelines.pipeline_base.describe:Model Family: Random Forest\n"
          ]
        },
        {
          "output_type": "stream",
          "name": "stdout",
          "text": [
            "\n"
          ]
        },
        {
          "output_type": "stream",
          "name": "stderr",
          "text": [
            "INFO:evalml.pipelines.pipeline_base.describe:\n"
          ]
        },
        {
          "output_type": "stream",
          "name": "stdout",
          "text": [
            "Pipeline Steps\n"
          ]
        },
        {
          "output_type": "stream",
          "name": "stderr",
          "text": [
            "INFO:evalml.pipelines.pipeline_base.describe:Pipeline Steps\n"
          ]
        },
        {
          "output_type": "stream",
          "name": "stdout",
          "text": [
            "==============\n"
          ]
        },
        {
          "output_type": "stream",
          "name": "stderr",
          "text": [
            "INFO:evalml.pipelines.pipeline_base.describe:==============\n"
          ]
        },
        {
          "output_type": "stream",
          "name": "stdout",
          "text": [
            "1. Label Encoder\n"
          ]
        },
        {
          "output_type": "stream",
          "name": "stderr",
          "text": [
            "INFO:evalml.pipelines.component_graph.describe:1. Label Encoder\n"
          ]
        },
        {
          "output_type": "stream",
          "name": "stdout",
          "text": [
            "\t * positive_label : None\n"
          ]
        },
        {
          "output_type": "stream",
          "name": "stderr",
          "text": [
            "INFO:evalml.pipelines.components.component_base.describe:\t * positive_label : None\n"
          ]
        },
        {
          "output_type": "stream",
          "name": "stdout",
          "text": [
            "2. Imputer\n"
          ]
        },
        {
          "output_type": "stream",
          "name": "stderr",
          "text": [
            "INFO:evalml.pipelines.component_graph.describe:2. Imputer\n"
          ]
        },
        {
          "output_type": "stream",
          "name": "stdout",
          "text": [
            "\t * categorical_impute_strategy : most_frequent\n"
          ]
        },
        {
          "output_type": "stream",
          "name": "stderr",
          "text": [
            "INFO:evalml.pipelines.components.component_base.describe:\t * categorical_impute_strategy : most_frequent\n"
          ]
        },
        {
          "output_type": "stream",
          "name": "stdout",
          "text": [
            "\t * numeric_impute_strategy : mean\n"
          ]
        },
        {
          "output_type": "stream",
          "name": "stderr",
          "text": [
            "INFO:evalml.pipelines.components.component_base.describe:\t * numeric_impute_strategy : mean\n"
          ]
        },
        {
          "output_type": "stream",
          "name": "stdout",
          "text": [
            "\t * boolean_impute_strategy : most_frequent\n"
          ]
        },
        {
          "output_type": "stream",
          "name": "stderr",
          "text": [
            "INFO:evalml.pipelines.components.component_base.describe:\t * boolean_impute_strategy : most_frequent\n"
          ]
        },
        {
          "output_type": "stream",
          "name": "stdout",
          "text": [
            "\t * categorical_fill_value : None\n"
          ]
        },
        {
          "output_type": "stream",
          "name": "stderr",
          "text": [
            "INFO:evalml.pipelines.components.component_base.describe:\t * categorical_fill_value : None\n"
          ]
        },
        {
          "output_type": "stream",
          "name": "stdout",
          "text": [
            "\t * numeric_fill_value : None\n"
          ]
        },
        {
          "output_type": "stream",
          "name": "stderr",
          "text": [
            "INFO:evalml.pipelines.components.component_base.describe:\t * numeric_fill_value : None\n"
          ]
        },
        {
          "output_type": "stream",
          "name": "stdout",
          "text": [
            "\t * boolean_fill_value : None\n"
          ]
        },
        {
          "output_type": "stream",
          "name": "stderr",
          "text": [
            "INFO:evalml.pipelines.components.component_base.describe:\t * boolean_fill_value : None\n"
          ]
        },
        {
          "output_type": "stream",
          "name": "stdout",
          "text": [
            "3. RF Classifier Select From Model\n"
          ]
        },
        {
          "output_type": "stream",
          "name": "stderr",
          "text": [
            "INFO:evalml.pipelines.component_graph.describe:3. RF Classifier Select From Model\n"
          ]
        },
        {
          "output_type": "stream",
          "name": "stdout",
          "text": [
            "\t * number_features : None\n"
          ]
        },
        {
          "output_type": "stream",
          "name": "stderr",
          "text": [
            "INFO:evalml.pipelines.components.component_base.describe:\t * number_features : None\n"
          ]
        },
        {
          "output_type": "stream",
          "name": "stdout",
          "text": [
            "\t * n_estimators : 10\n"
          ]
        },
        {
          "output_type": "stream",
          "name": "stderr",
          "text": [
            "INFO:evalml.pipelines.components.component_base.describe:\t * n_estimators : 10\n"
          ]
        },
        {
          "output_type": "stream",
          "name": "stdout",
          "text": [
            "\t * max_depth : None\n"
          ]
        },
        {
          "output_type": "stream",
          "name": "stderr",
          "text": [
            "INFO:evalml.pipelines.components.component_base.describe:\t * max_depth : None\n"
          ]
        },
        {
          "output_type": "stream",
          "name": "stdout",
          "text": [
            "\t * percent_features : 0.5\n"
          ]
        },
        {
          "output_type": "stream",
          "name": "stderr",
          "text": [
            "INFO:evalml.pipelines.components.component_base.describe:\t * percent_features : 0.5\n"
          ]
        },
        {
          "output_type": "stream",
          "name": "stdout",
          "text": [
            "\t * threshold : median\n"
          ]
        },
        {
          "output_type": "stream",
          "name": "stderr",
          "text": [
            "INFO:evalml.pipelines.components.component_base.describe:\t * threshold : median\n"
          ]
        },
        {
          "output_type": "stream",
          "name": "stdout",
          "text": [
            "\t * n_jobs : -1\n"
          ]
        },
        {
          "output_type": "stream",
          "name": "stderr",
          "text": [
            "INFO:evalml.pipelines.components.component_base.describe:\t * n_jobs : -1\n"
          ]
        },
        {
          "output_type": "stream",
          "name": "stdout",
          "text": [
            "4. Random Forest Classifier\n"
          ]
        },
        {
          "output_type": "stream",
          "name": "stderr",
          "text": [
            "INFO:evalml.pipelines.component_graph.describe:4. Random Forest Classifier\n"
          ]
        },
        {
          "output_type": "stream",
          "name": "stdout",
          "text": [
            "\t * n_estimators : 100\n"
          ]
        },
        {
          "output_type": "stream",
          "name": "stderr",
          "text": [
            "INFO:evalml.pipelines.components.component_base.describe:\t * n_estimators : 100\n"
          ]
        },
        {
          "output_type": "stream",
          "name": "stdout",
          "text": [
            "\t * max_depth : 6\n"
          ]
        },
        {
          "output_type": "stream",
          "name": "stderr",
          "text": [
            "INFO:evalml.pipelines.components.component_base.describe:\t * max_depth : 6\n"
          ]
        },
        {
          "output_type": "stream",
          "name": "stdout",
          "text": [
            "\t * n_jobs : -1\n"
          ]
        },
        {
          "output_type": "stream",
          "name": "stderr",
          "text": [
            "INFO:evalml.pipelines.components.component_base.describe:\t * n_jobs : -1\n"
          ]
        },
        {
          "output_type": "stream",
          "name": "stdout",
          "text": [
            "\n"
          ]
        },
        {
          "output_type": "stream",
          "name": "stderr",
          "text": [
            "INFO:evalml.automl.automl_search.describe_pipeline:\n"
          ]
        },
        {
          "output_type": "stream",
          "name": "stdout",
          "text": [
            "Training\n"
          ]
        },
        {
          "output_type": "stream",
          "name": "stderr",
          "text": [
            "INFO:evalml.automl.automl_search.describe_pipeline:Training\n"
          ]
        },
        {
          "output_type": "stream",
          "name": "stdout",
          "text": [
            "========\n"
          ]
        },
        {
          "output_type": "stream",
          "name": "stderr",
          "text": [
            "INFO:evalml.automl.automl_search.describe_pipeline:========\n"
          ]
        },
        {
          "output_type": "stream",
          "name": "stdout",
          "text": [
            "Training for multiclass problems.\n"
          ]
        },
        {
          "output_type": "stream",
          "name": "stderr",
          "text": [
            "INFO:evalml.automl.automl_search.describe_pipeline:Training for multiclass problems.\n"
          ]
        },
        {
          "output_type": "stream",
          "name": "stdout",
          "text": [
            "Total training time (including CV): 2.7 seconds\n"
          ]
        },
        {
          "output_type": "stream",
          "name": "stderr",
          "text": [
            "INFO:evalml.automl.automl_search.describe_pipeline:Total training time (including CV): 2.7 seconds\n"
          ]
        },
        {
          "output_type": "stream",
          "name": "stdout",
          "text": [
            "\n"
          ]
        },
        {
          "output_type": "stream",
          "name": "stderr",
          "text": [
            "INFO:evalml.automl.automl_search.describe_pipeline:\n"
          ]
        },
        {
          "output_type": "stream",
          "name": "stdout",
          "text": [
            "Cross Validation\n"
          ]
        },
        {
          "output_type": "stream",
          "name": "stderr",
          "text": [
            "INFO:evalml.automl.automl_search.describe_pipeline:Cross Validation\n"
          ]
        },
        {
          "output_type": "stream",
          "name": "stdout",
          "text": [
            "----------------\n"
          ]
        },
        {
          "output_type": "stream",
          "name": "stderr",
          "text": [
            "INFO:evalml.automl.automl_search.describe_pipeline:----------------\n"
          ]
        },
        {
          "output_type": "stream",
          "name": "stdout",
          "text": [
            "             F1 Weighted  Balanced Accuracy Multiclass  Accuracy Multiclass # Training # Validation\n",
            "0                  1.000                         1.000                1.000     21,055       10,528\n",
            "1                  1.000                         1.000                1.000     21,055       10,528\n",
            "2                  1.000                         1.000                1.000     21,056       10,527\n",
            "mean               1.000                         1.000                1.000          -            -\n",
            "std                0.000                         0.000                0.000          -            -\n",
            "coef of var        0.000                         0.000                0.000          -            -\n"
          ]
        },
        {
          "output_type": "stream",
          "name": "stderr",
          "text": [
            "INFO:evalml.automl.automl_search.describe_pipeline:             F1 Weighted  Balanced Accuracy Multiclass  Accuracy Multiclass # Training # Validation\n",
            "0                  1.000                         1.000                1.000     21,055       10,528\n",
            "1                  1.000                         1.000                1.000     21,055       10,528\n",
            "2                  1.000                         1.000                1.000     21,056       10,527\n",
            "mean               1.000                         1.000                1.000          -            -\n",
            "std                0.000                         0.000                0.000          -            -\n",
            "coef of var        0.000                         0.000                0.000          -            -\n"
          ]
        }
      ]
    },
    {
      "cell_type": "code",
      "source": [
        "best_pipeline_auc = automl_auc.best_pipeline\n"
      ],
      "metadata": {
        "id": "jNqNvuUCEiNv"
      },
      "execution_count": 62,
      "outputs": []
    },
    {
      "cell_type": "code",
      "source": [
        "\n",
        "# get the score on holdout data\n",
        "best_pipeline_auc.score(x_test, y_test,  objectives=[\"F1 Weighted\"])"
      ],
      "metadata": {
        "colab": {
          "base_uri": "https://localhost:8080/"
        },
        "id": "Qf5WcIIHEiWX",
        "outputId": "e29237c7-62b7-40ea-a8a3-c3235be9a335"
      },
      "execution_count": 63,
      "outputs": [
        {
          "output_type": "execute_result",
          "data": {
            "text/plain": [
              "OrderedDict([('F1 Weighted', 0.6944444444444444)])"
            ]
          },
          "metadata": {},
          "execution_count": 63
        }
      ]
    },
    {
      "cell_type": "code",
      "source": [
        "best_pipeline.save(\"ml_challenges_pipelines.pkl\")"
      ],
      "metadata": {
        "id": "Yrxxa_O-EuZq"
      },
      "execution_count": 64,
      "outputs": []
    },
    {
      "cell_type": "code",
      "source": [
        "final_model=automl.load('ml_challenges_pipelines.pkl')"
      ],
      "metadata": {
        "id": "hs9_qdqoHoPc"
      },
      "execution_count": 65,
      "outputs": []
    },
    {
      "cell_type": "code",
      "source": [
        "y_pred = final_model.predict(x_test)"
      ],
      "metadata": {
        "id": "1cXpeWdoHr4C"
      },
      "execution_count": 66,
      "outputs": []
    },
    {
      "cell_type": "code",
      "source": [
        "y_pred = pd.DataFrame(y_pred)"
      ],
      "metadata": {
        "id": "l8O5leFtHstG"
      },
      "execution_count": 67,
      "outputs": []
    },
    {
      "cell_type": "code",
      "source": [
        "y_pred.value_counts()"
      ],
      "metadata": {
        "colab": {
          "base_uri": "https://localhost:8080/"
        },
        "id": "Uz8QUOt1HyYx",
        "outputId": "a9ab3d62-2dbc-4cc1-8753-4f4569e5ba63"
      },
      "execution_count": 68,
      "outputs": [
        {
          "output_type": "execute_result",
          "data": {
            "text/plain": [
              "0    16800\n",
              "1     7392\n",
              "2     7392\n",
              "dtype: int64"
            ]
          },
          "metadata": {},
          "execution_count": 68
        }
      ]
    },
    {
      "cell_type": "markdown",
      "source": [
        "### AutoML"
      ],
      "metadata": {
        "id": "plBPuUyYPnwd"
      }
    },
    {
      "cell_type": "code",
      "source": [
        "###! pip install pycaret"
      ],
      "metadata": {
        "id": "SC2nB-eVH2SQ"
      },
      "execution_count": 69,
      "outputs": []
    },
    {
      "cell_type": "code",
      "source": [
        "###! pip install jinja2"
      ],
      "metadata": {
        "id": "ypupVImuQBEy"
      },
      "execution_count": 70,
      "outputs": []
    },
    {
      "cell_type": "code",
      "source": [
        "###! pip install markupsafe==2.0.1"
      ],
      "metadata": {
        "id": "wWNJJ1N9QzoD"
      },
      "execution_count": 71,
      "outputs": []
    },
    {
      "cell_type": "code",
      "source": [
        "import pycaret"
      ],
      "metadata": {
        "id": "VBtCwOzXQ2v6"
      },
      "execution_count": 72,
      "outputs": []
    },
    {
      "cell_type": "code",
      "source": [
        "from pycaret.classification import *"
      ],
      "metadata": {
        "id": "MLvj-AWsQ275"
      },
      "execution_count": 73,
      "outputs": []
    },
    {
      "cell_type": "code",
      "source": [
        "train_dataset.columns"
      ],
      "metadata": {
        "colab": {
          "base_uri": "https://localhost:8080/"
        },
        "id": "tJcP4rqtQ8lh",
        "outputId": "074417c2-be42-47e3-84b0-52bf07680c3a"
      },
      "execution_count": 74,
      "outputs": [
        {
          "output_type": "execute_result",
          "data": {
            "text/plain": [
              "Index(['id', 'lte_5g_category', 'time', 'packet_loss_rate', 'packet_delay',\n",
              "       'io_t', 'lte_5g', 'gbr', 'non_gbr', 'ar_vr_gaming', 'healthcare',\n",
              "       'industry_4_0', 'io_t_devices', 'public_safety', 'smart_city_and_home',\n",
              "       'smart_transportation', 'smartphone', 'slice_type'],\n",
              "      dtype='object')"
            ]
          },
          "metadata": {},
          "execution_count": 74
        }
      ]
    },
    {
      "cell_type": "code",
      "source": [
        "from pycaret.classification import *\n",
        "setup = setup(data=train_dataset, target='slice_type', session_id=123)"
      ],
      "metadata": {
        "colab": {
          "base_uri": "https://localhost:8080/",
          "height": 677
        },
        "id": "v6Ey5wi3Q-CC",
        "outputId": "49eccf7f-b418-457a-a5a8-ddcdf2d8583a"
      },
      "execution_count": 77,
      "outputs": [
        {
          "output_type": "display_data",
          "data": {
            "text/plain": [
              "<pandas.io.formats.style.Styler at 0x7d90cdc3fd60>"
            ],
            "text/html": [
              "<style type=\"text/css\">\n",
              "#T_617bb_row9_col1 {\n",
              "  background-color: lightgreen;\n",
              "}\n",
              "</style>\n",
              "<table id=\"T_617bb\" class=\"dataframe\">\n",
              "  <thead>\n",
              "    <tr>\n",
              "      <th class=\"blank level0\" >&nbsp;</th>\n",
              "      <th id=\"T_617bb_level0_col0\" class=\"col_heading level0 col0\" >Description</th>\n",
              "      <th id=\"T_617bb_level0_col1\" class=\"col_heading level0 col1\" >Value</th>\n",
              "    </tr>\n",
              "  </thead>\n",
              "  <tbody>\n",
              "    <tr>\n",
              "      <th id=\"T_617bb_level0_row0\" class=\"row_heading level0 row0\" >0</th>\n",
              "      <td id=\"T_617bb_row0_col0\" class=\"data row0 col0\" >Session id</td>\n",
              "      <td id=\"T_617bb_row0_col1\" class=\"data row0 col1\" >123</td>\n",
              "    </tr>\n",
              "    <tr>\n",
              "      <th id=\"T_617bb_level0_row1\" class=\"row_heading level0 row1\" >1</th>\n",
              "      <td id=\"T_617bb_row1_col0\" class=\"data row1 col0\" >Target</td>\n",
              "      <td id=\"T_617bb_row1_col1\" class=\"data row1 col1\" >slice_type</td>\n",
              "    </tr>\n",
              "    <tr>\n",
              "      <th id=\"T_617bb_level0_row2\" class=\"row_heading level0 row2\" >2</th>\n",
              "      <td id=\"T_617bb_row2_col0\" class=\"data row2 col0\" >Target type</td>\n",
              "      <td id=\"T_617bb_row2_col1\" class=\"data row2 col1\" >Multiclass</td>\n",
              "    </tr>\n",
              "    <tr>\n",
              "      <th id=\"T_617bb_level0_row3\" class=\"row_heading level0 row3\" >3</th>\n",
              "      <td id=\"T_617bb_row3_col0\" class=\"data row3 col0\" >Target mapping</td>\n",
              "      <td id=\"T_617bb_row3_col1\" class=\"data row3 col1\" >1: 0, 2: 1, 3: 2</td>\n",
              "    </tr>\n",
              "    <tr>\n",
              "      <th id=\"T_617bb_level0_row4\" class=\"row_heading level0 row4\" >4</th>\n",
              "      <td id=\"T_617bb_row4_col0\" class=\"data row4 col0\" >Original data shape</td>\n",
              "      <td id=\"T_617bb_row4_col1\" class=\"data row4 col1\" >(31583, 18)</td>\n",
              "    </tr>\n",
              "    <tr>\n",
              "      <th id=\"T_617bb_level0_row5\" class=\"row_heading level0 row5\" >5</th>\n",
              "      <td id=\"T_617bb_row5_col0\" class=\"data row5 col0\" >Transformed data shape</td>\n",
              "      <td id=\"T_617bb_row5_col1\" class=\"data row5 col1\" >(31583, 18)</td>\n",
              "    </tr>\n",
              "    <tr>\n",
              "      <th id=\"T_617bb_level0_row6\" class=\"row_heading level0 row6\" >6</th>\n",
              "      <td id=\"T_617bb_row6_col0\" class=\"data row6 col0\" >Transformed train set shape</td>\n",
              "      <td id=\"T_617bb_row6_col1\" class=\"data row6 col1\" >(22108, 18)</td>\n",
              "    </tr>\n",
              "    <tr>\n",
              "      <th id=\"T_617bb_level0_row7\" class=\"row_heading level0 row7\" >7</th>\n",
              "      <td id=\"T_617bb_row7_col0\" class=\"data row7 col0\" >Transformed test set shape</td>\n",
              "      <td id=\"T_617bb_row7_col1\" class=\"data row7 col1\" >(9475, 18)</td>\n",
              "    </tr>\n",
              "    <tr>\n",
              "      <th id=\"T_617bb_level0_row8\" class=\"row_heading level0 row8\" >8</th>\n",
              "      <td id=\"T_617bb_row8_col0\" class=\"data row8 col0\" >Numeric features</td>\n",
              "      <td id=\"T_617bb_row8_col1\" class=\"data row8 col1\" >17</td>\n",
              "    </tr>\n",
              "    <tr>\n",
              "      <th id=\"T_617bb_level0_row9\" class=\"row_heading level0 row9\" >9</th>\n",
              "      <td id=\"T_617bb_row9_col0\" class=\"data row9 col0\" >Preprocess</td>\n",
              "      <td id=\"T_617bb_row9_col1\" class=\"data row9 col1\" >True</td>\n",
              "    </tr>\n",
              "    <tr>\n",
              "      <th id=\"T_617bb_level0_row10\" class=\"row_heading level0 row10\" >10</th>\n",
              "      <td id=\"T_617bb_row10_col0\" class=\"data row10 col0\" >Imputation type</td>\n",
              "      <td id=\"T_617bb_row10_col1\" class=\"data row10 col1\" >simple</td>\n",
              "    </tr>\n",
              "    <tr>\n",
              "      <th id=\"T_617bb_level0_row11\" class=\"row_heading level0 row11\" >11</th>\n",
              "      <td id=\"T_617bb_row11_col0\" class=\"data row11 col0\" >Numeric imputation</td>\n",
              "      <td id=\"T_617bb_row11_col1\" class=\"data row11 col1\" >mean</td>\n",
              "    </tr>\n",
              "    <tr>\n",
              "      <th id=\"T_617bb_level0_row12\" class=\"row_heading level0 row12\" >12</th>\n",
              "      <td id=\"T_617bb_row12_col0\" class=\"data row12 col0\" >Categorical imputation</td>\n",
              "      <td id=\"T_617bb_row12_col1\" class=\"data row12 col1\" >mode</td>\n",
              "    </tr>\n",
              "    <tr>\n",
              "      <th id=\"T_617bb_level0_row13\" class=\"row_heading level0 row13\" >13</th>\n",
              "      <td id=\"T_617bb_row13_col0\" class=\"data row13 col0\" >Fold Generator</td>\n",
              "      <td id=\"T_617bb_row13_col1\" class=\"data row13 col1\" >StratifiedKFold</td>\n",
              "    </tr>\n",
              "    <tr>\n",
              "      <th id=\"T_617bb_level0_row14\" class=\"row_heading level0 row14\" >14</th>\n",
              "      <td id=\"T_617bb_row14_col0\" class=\"data row14 col0\" >Fold Number</td>\n",
              "      <td id=\"T_617bb_row14_col1\" class=\"data row14 col1\" >10</td>\n",
              "    </tr>\n",
              "    <tr>\n",
              "      <th id=\"T_617bb_level0_row15\" class=\"row_heading level0 row15\" >15</th>\n",
              "      <td id=\"T_617bb_row15_col0\" class=\"data row15 col0\" >CPU Jobs</td>\n",
              "      <td id=\"T_617bb_row15_col1\" class=\"data row15 col1\" >-1</td>\n",
              "    </tr>\n",
              "    <tr>\n",
              "      <th id=\"T_617bb_level0_row16\" class=\"row_heading level0 row16\" >16</th>\n",
              "      <td id=\"T_617bb_row16_col0\" class=\"data row16 col0\" >Use GPU</td>\n",
              "      <td id=\"T_617bb_row16_col1\" class=\"data row16 col1\" >False</td>\n",
              "    </tr>\n",
              "    <tr>\n",
              "      <th id=\"T_617bb_level0_row17\" class=\"row_heading level0 row17\" >17</th>\n",
              "      <td id=\"T_617bb_row17_col0\" class=\"data row17 col0\" >Log Experiment</td>\n",
              "      <td id=\"T_617bb_row17_col1\" class=\"data row17 col1\" >False</td>\n",
              "    </tr>\n",
              "    <tr>\n",
              "      <th id=\"T_617bb_level0_row18\" class=\"row_heading level0 row18\" >18</th>\n",
              "      <td id=\"T_617bb_row18_col0\" class=\"data row18 col0\" >Experiment Name</td>\n",
              "      <td id=\"T_617bb_row18_col1\" class=\"data row18 col1\" >clf-default-name</td>\n",
              "    </tr>\n",
              "    <tr>\n",
              "      <th id=\"T_617bb_level0_row19\" class=\"row_heading level0 row19\" >19</th>\n",
              "      <td id=\"T_617bb_row19_col0\" class=\"data row19 col0\" >USI</td>\n",
              "      <td id=\"T_617bb_row19_col1\" class=\"data row19 col1\" >32cd</td>\n",
              "    </tr>\n",
              "  </tbody>\n",
              "</table>\n"
            ]
          },
          "metadata": {}
        }
      ]
    },
    {
      "cell_type": "code",
      "source": [
        "compare_models()"
      ],
      "metadata": {
        "colab": {
          "base_uri": "https://localhost:8080/",
          "height": 678,
          "referenced_widgets": [
            "f3e399b8aad1407ca3958f042d437993",
            "deb22c7375bf4cc3b87d5913b170b479",
            "2d9cdee1bd7748b9ac666773a12395d9",
            "cc73cd54dfb341108fd1f27b0093ad67",
            "c32f75d9e3ee4729993ff7e70097adc0",
            "d1eff3424c9742e299e0e2090fad0fee",
            "761ea7148bf446659891318d008a3a7d",
            "00590d7c0380478fa1f1d4fd46e468c3",
            "9d9f59492a3c4f49bff28bf599692c6d",
            "ffd2d077f88d45de92475ac666015058",
            "9cf8bd396d1147efa5923dab8f9b1fa7"
          ]
        },
        "id": "9XiHIthPS0m4",
        "outputId": "1dddb755-301f-44e6-a420-c1a89ecdc86c"
      },
      "execution_count": 78,
      "outputs": [
        {
          "output_type": "display_data",
          "data": {
            "text/plain": [
              "<IPython.core.display.HTML object>"
            ],
            "text/html": []
          },
          "metadata": {}
        },
        {
          "output_type": "display_data",
          "data": {
            "text/plain": [
              "<pandas.io.formats.style.Styler at 0x7d91acade740>"
            ],
            "text/html": [
              "<style type=\"text/css\">\n",
              "#T_c8479 th {\n",
              "  text-align: left;\n",
              "}\n",
              "#T_c8479_row0_col0, #T_c8479_row1_col0, #T_c8479_row2_col0, #T_c8479_row3_col0, #T_c8479_row3_col2, #T_c8479_row4_col0, #T_c8479_row5_col0, #T_c8479_row6_col0, #T_c8479_row7_col0, #T_c8479_row8_col0, #T_c8479_row9_col0, #T_c8479_row10_col0, #T_c8479_row11_col0, #T_c8479_row11_col1, #T_c8479_row11_col2, #T_c8479_row11_col3, #T_c8479_row11_col4, #T_c8479_row11_col5, #T_c8479_row11_col6, #T_c8479_row11_col7, #T_c8479_row12_col0, #T_c8479_row12_col1, #T_c8479_row12_col2, #T_c8479_row12_col3, #T_c8479_row12_col4, #T_c8479_row12_col5, #T_c8479_row12_col6, #T_c8479_row12_col7, #T_c8479_row13_col0, #T_c8479_row13_col1, #T_c8479_row13_col2, #T_c8479_row13_col3, #T_c8479_row13_col4, #T_c8479_row13_col5, #T_c8479_row13_col6, #T_c8479_row13_col7, #T_c8479_row14_col0, #T_c8479_row14_col1, #T_c8479_row14_col2, #T_c8479_row14_col3, #T_c8479_row14_col4, #T_c8479_row14_col5, #T_c8479_row14_col6, #T_c8479_row14_col7, #T_c8479_row15_col0, #T_c8479_row15_col1, #T_c8479_row15_col2, #T_c8479_row15_col3, #T_c8479_row15_col4, #T_c8479_row15_col5, #T_c8479_row15_col6, #T_c8479_row15_col7 {\n",
              "  text-align: left;\n",
              "}\n",
              "#T_c8479_row0_col1, #T_c8479_row0_col2, #T_c8479_row0_col3, #T_c8479_row0_col4, #T_c8479_row0_col5, #T_c8479_row0_col6, #T_c8479_row0_col7, #T_c8479_row1_col1, #T_c8479_row1_col2, #T_c8479_row1_col3, #T_c8479_row1_col4, #T_c8479_row1_col5, #T_c8479_row1_col6, #T_c8479_row1_col7, #T_c8479_row2_col1, #T_c8479_row2_col2, #T_c8479_row2_col3, #T_c8479_row2_col4, #T_c8479_row2_col5, #T_c8479_row2_col6, #T_c8479_row2_col7, #T_c8479_row3_col1, #T_c8479_row3_col3, #T_c8479_row3_col4, #T_c8479_row3_col5, #T_c8479_row3_col6, #T_c8479_row3_col7, #T_c8479_row4_col1, #T_c8479_row4_col2, #T_c8479_row4_col3, #T_c8479_row4_col4, #T_c8479_row4_col5, #T_c8479_row4_col6, #T_c8479_row4_col7, #T_c8479_row5_col1, #T_c8479_row5_col2, #T_c8479_row5_col3, #T_c8479_row5_col4, #T_c8479_row5_col5, #T_c8479_row5_col6, #T_c8479_row5_col7, #T_c8479_row6_col1, #T_c8479_row6_col2, #T_c8479_row6_col3, #T_c8479_row6_col4, #T_c8479_row6_col5, #T_c8479_row6_col6, #T_c8479_row6_col7, #T_c8479_row7_col1, #T_c8479_row7_col2, #T_c8479_row7_col3, #T_c8479_row7_col4, #T_c8479_row7_col5, #T_c8479_row7_col6, #T_c8479_row7_col7, #T_c8479_row8_col1, #T_c8479_row8_col2, #T_c8479_row8_col3, #T_c8479_row8_col4, #T_c8479_row8_col5, #T_c8479_row8_col6, #T_c8479_row8_col7, #T_c8479_row9_col1, #T_c8479_row9_col2, #T_c8479_row9_col3, #T_c8479_row9_col4, #T_c8479_row9_col5, #T_c8479_row9_col6, #T_c8479_row9_col7, #T_c8479_row10_col1, #T_c8479_row10_col2, #T_c8479_row10_col3, #T_c8479_row10_col4, #T_c8479_row10_col5, #T_c8479_row10_col6, #T_c8479_row10_col7 {\n",
              "  text-align: left;\n",
              "  background-color: yellow;\n",
              "}\n",
              "#T_c8479_row0_col8, #T_c8479_row1_col8, #T_c8479_row2_col8, #T_c8479_row3_col8, #T_c8479_row4_col8, #T_c8479_row5_col8, #T_c8479_row6_col8, #T_c8479_row7_col8, #T_c8479_row8_col8, #T_c8479_row9_col8, #T_c8479_row10_col8, #T_c8479_row11_col8, #T_c8479_row12_col8, #T_c8479_row13_col8, #T_c8479_row15_col8 {\n",
              "  text-align: left;\n",
              "  background-color: lightgrey;\n",
              "}\n",
              "#T_c8479_row14_col8 {\n",
              "  text-align: left;\n",
              "  background-color: yellow;\n",
              "  background-color: lightgrey;\n",
              "}\n",
              "</style>\n",
              "<table id=\"T_c8479\" class=\"dataframe\">\n",
              "  <thead>\n",
              "    <tr>\n",
              "      <th class=\"blank level0\" >&nbsp;</th>\n",
              "      <th id=\"T_c8479_level0_col0\" class=\"col_heading level0 col0\" >Model</th>\n",
              "      <th id=\"T_c8479_level0_col1\" class=\"col_heading level0 col1\" >Accuracy</th>\n",
              "      <th id=\"T_c8479_level0_col2\" class=\"col_heading level0 col2\" >AUC</th>\n",
              "      <th id=\"T_c8479_level0_col3\" class=\"col_heading level0 col3\" >Recall</th>\n",
              "      <th id=\"T_c8479_level0_col4\" class=\"col_heading level0 col4\" >Prec.</th>\n",
              "      <th id=\"T_c8479_level0_col5\" class=\"col_heading level0 col5\" >F1</th>\n",
              "      <th id=\"T_c8479_level0_col6\" class=\"col_heading level0 col6\" >Kappa</th>\n",
              "      <th id=\"T_c8479_level0_col7\" class=\"col_heading level0 col7\" >MCC</th>\n",
              "      <th id=\"T_c8479_level0_col8\" class=\"col_heading level0 col8\" >TT (Sec)</th>\n",
              "    </tr>\n",
              "  </thead>\n",
              "  <tbody>\n",
              "    <tr>\n",
              "      <th id=\"T_c8479_level0_row0\" class=\"row_heading level0 row0\" >lr</th>\n",
              "      <td id=\"T_c8479_row0_col0\" class=\"data row0 col0\" >Logistic Regression</td>\n",
              "      <td id=\"T_c8479_row0_col1\" class=\"data row0 col1\" >1.0000</td>\n",
              "      <td id=\"T_c8479_row0_col2\" class=\"data row0 col2\" >1.0000</td>\n",
              "      <td id=\"T_c8479_row0_col3\" class=\"data row0 col3\" >1.0000</td>\n",
              "      <td id=\"T_c8479_row0_col4\" class=\"data row0 col4\" >1.0000</td>\n",
              "      <td id=\"T_c8479_row0_col5\" class=\"data row0 col5\" >1.0000</td>\n",
              "      <td id=\"T_c8479_row0_col6\" class=\"data row0 col6\" >1.0000</td>\n",
              "      <td id=\"T_c8479_row0_col7\" class=\"data row0 col7\" >1.0000</td>\n",
              "      <td id=\"T_c8479_row0_col8\" class=\"data row0 col8\" >4.6110</td>\n",
              "    </tr>\n",
              "    <tr>\n",
              "      <th id=\"T_c8479_level0_row1\" class=\"row_heading level0 row1\" >nb</th>\n",
              "      <td id=\"T_c8479_row1_col0\" class=\"data row1 col0\" >Naive Bayes</td>\n",
              "      <td id=\"T_c8479_row1_col1\" class=\"data row1 col1\" >1.0000</td>\n",
              "      <td id=\"T_c8479_row1_col2\" class=\"data row1 col2\" >1.0000</td>\n",
              "      <td id=\"T_c8479_row1_col3\" class=\"data row1 col3\" >1.0000</td>\n",
              "      <td id=\"T_c8479_row1_col4\" class=\"data row1 col4\" >1.0000</td>\n",
              "      <td id=\"T_c8479_row1_col5\" class=\"data row1 col5\" >1.0000</td>\n",
              "      <td id=\"T_c8479_row1_col6\" class=\"data row1 col6\" >1.0000</td>\n",
              "      <td id=\"T_c8479_row1_col7\" class=\"data row1 col7\" >1.0000</td>\n",
              "      <td id=\"T_c8479_row1_col8\" class=\"data row1 col8\" >0.0670</td>\n",
              "    </tr>\n",
              "    <tr>\n",
              "      <th id=\"T_c8479_level0_row2\" class=\"row_heading level0 row2\" >dt</th>\n",
              "      <td id=\"T_c8479_row2_col0\" class=\"data row2 col0\" >Decision Tree Classifier</td>\n",
              "      <td id=\"T_c8479_row2_col1\" class=\"data row2 col1\" >1.0000</td>\n",
              "      <td id=\"T_c8479_row2_col2\" class=\"data row2 col2\" >1.0000</td>\n",
              "      <td id=\"T_c8479_row2_col3\" class=\"data row2 col3\" >1.0000</td>\n",
              "      <td id=\"T_c8479_row2_col4\" class=\"data row2 col4\" >1.0000</td>\n",
              "      <td id=\"T_c8479_row2_col5\" class=\"data row2 col5\" >1.0000</td>\n",
              "      <td id=\"T_c8479_row2_col6\" class=\"data row2 col6\" >1.0000</td>\n",
              "      <td id=\"T_c8479_row2_col7\" class=\"data row2 col7\" >1.0000</td>\n",
              "      <td id=\"T_c8479_row2_col8\" class=\"data row2 col8\" >0.0670</td>\n",
              "    </tr>\n",
              "    <tr>\n",
              "      <th id=\"T_c8479_level0_row3\" class=\"row_heading level0 row3\" >ridge</th>\n",
              "      <td id=\"T_c8479_row3_col0\" class=\"data row3 col0\" >Ridge Classifier</td>\n",
              "      <td id=\"T_c8479_row3_col1\" class=\"data row3 col1\" >1.0000</td>\n",
              "      <td id=\"T_c8479_row3_col2\" class=\"data row3 col2\" >0.0000</td>\n",
              "      <td id=\"T_c8479_row3_col3\" class=\"data row3 col3\" >1.0000</td>\n",
              "      <td id=\"T_c8479_row3_col4\" class=\"data row3 col4\" >1.0000</td>\n",
              "      <td id=\"T_c8479_row3_col5\" class=\"data row3 col5\" >1.0000</td>\n",
              "      <td id=\"T_c8479_row3_col6\" class=\"data row3 col6\" >1.0000</td>\n",
              "      <td id=\"T_c8479_row3_col7\" class=\"data row3 col7\" >1.0000</td>\n",
              "      <td id=\"T_c8479_row3_col8\" class=\"data row3 col8\" >0.0680</td>\n",
              "    </tr>\n",
              "    <tr>\n",
              "      <th id=\"T_c8479_level0_row4\" class=\"row_heading level0 row4\" >rf</th>\n",
              "      <td id=\"T_c8479_row4_col0\" class=\"data row4 col0\" >Random Forest Classifier</td>\n",
              "      <td id=\"T_c8479_row4_col1\" class=\"data row4 col1\" >1.0000</td>\n",
              "      <td id=\"T_c8479_row4_col2\" class=\"data row4 col2\" >1.0000</td>\n",
              "      <td id=\"T_c8479_row4_col3\" class=\"data row4 col3\" >1.0000</td>\n",
              "      <td id=\"T_c8479_row4_col4\" class=\"data row4 col4\" >1.0000</td>\n",
              "      <td id=\"T_c8479_row4_col5\" class=\"data row4 col5\" >1.0000</td>\n",
              "      <td id=\"T_c8479_row4_col6\" class=\"data row4 col6\" >1.0000</td>\n",
              "      <td id=\"T_c8479_row4_col7\" class=\"data row4 col7\" >1.0000</td>\n",
              "      <td id=\"T_c8479_row4_col8\" class=\"data row4 col8\" >0.8180</td>\n",
              "    </tr>\n",
              "    <tr>\n",
              "      <th id=\"T_c8479_level0_row5\" class=\"row_heading level0 row5\" >ada</th>\n",
              "      <td id=\"T_c8479_row5_col0\" class=\"data row5 col0\" >Ada Boost Classifier</td>\n",
              "      <td id=\"T_c8479_row5_col1\" class=\"data row5 col1\" >1.0000</td>\n",
              "      <td id=\"T_c8479_row5_col2\" class=\"data row5 col2\" >1.0000</td>\n",
              "      <td id=\"T_c8479_row5_col3\" class=\"data row5 col3\" >1.0000</td>\n",
              "      <td id=\"T_c8479_row5_col4\" class=\"data row5 col4\" >1.0000</td>\n",
              "      <td id=\"T_c8479_row5_col5\" class=\"data row5 col5\" >1.0000</td>\n",
              "      <td id=\"T_c8479_row5_col6\" class=\"data row5 col6\" >1.0000</td>\n",
              "      <td id=\"T_c8479_row5_col7\" class=\"data row5 col7\" >1.0000</td>\n",
              "      <td id=\"T_c8479_row5_col8\" class=\"data row5 col8\" >0.8000</td>\n",
              "    </tr>\n",
              "    <tr>\n",
              "      <th id=\"T_c8479_level0_row6\" class=\"row_heading level0 row6\" >gbc</th>\n",
              "      <td id=\"T_c8479_row6_col0\" class=\"data row6 col0\" >Gradient Boosting Classifier</td>\n",
              "      <td id=\"T_c8479_row6_col1\" class=\"data row6 col1\" >1.0000</td>\n",
              "      <td id=\"T_c8479_row6_col2\" class=\"data row6 col2\" >1.0000</td>\n",
              "      <td id=\"T_c8479_row6_col3\" class=\"data row6 col3\" >1.0000</td>\n",
              "      <td id=\"T_c8479_row6_col4\" class=\"data row6 col4\" >1.0000</td>\n",
              "      <td id=\"T_c8479_row6_col5\" class=\"data row6 col5\" >1.0000</td>\n",
              "      <td id=\"T_c8479_row6_col6\" class=\"data row6 col6\" >1.0000</td>\n",
              "      <td id=\"T_c8479_row6_col7\" class=\"data row6 col7\" >1.0000</td>\n",
              "      <td id=\"T_c8479_row6_col8\" class=\"data row6 col8\" >6.3020</td>\n",
              "    </tr>\n",
              "    <tr>\n",
              "      <th id=\"T_c8479_level0_row7\" class=\"row_heading level0 row7\" >et</th>\n",
              "      <td id=\"T_c8479_row7_col0\" class=\"data row7 col0\" >Extra Trees Classifier</td>\n",
              "      <td id=\"T_c8479_row7_col1\" class=\"data row7 col1\" >1.0000</td>\n",
              "      <td id=\"T_c8479_row7_col2\" class=\"data row7 col2\" >1.0000</td>\n",
              "      <td id=\"T_c8479_row7_col3\" class=\"data row7 col3\" >1.0000</td>\n",
              "      <td id=\"T_c8479_row7_col4\" class=\"data row7 col4\" >1.0000</td>\n",
              "      <td id=\"T_c8479_row7_col5\" class=\"data row7 col5\" >1.0000</td>\n",
              "      <td id=\"T_c8479_row7_col6\" class=\"data row7 col6\" >1.0000</td>\n",
              "      <td id=\"T_c8479_row7_col7\" class=\"data row7 col7\" >1.0000</td>\n",
              "      <td id=\"T_c8479_row7_col8\" class=\"data row7 col8\" >0.6720</td>\n",
              "    </tr>\n",
              "    <tr>\n",
              "      <th id=\"T_c8479_level0_row8\" class=\"row_heading level0 row8\" >xgboost</th>\n",
              "      <td id=\"T_c8479_row8_col0\" class=\"data row8 col0\" >Extreme Gradient Boosting</td>\n",
              "      <td id=\"T_c8479_row8_col1\" class=\"data row8 col1\" >1.0000</td>\n",
              "      <td id=\"T_c8479_row8_col2\" class=\"data row8 col2\" >1.0000</td>\n",
              "      <td id=\"T_c8479_row8_col3\" class=\"data row8 col3\" >1.0000</td>\n",
              "      <td id=\"T_c8479_row8_col4\" class=\"data row8 col4\" >1.0000</td>\n",
              "      <td id=\"T_c8479_row8_col5\" class=\"data row8 col5\" >1.0000</td>\n",
              "      <td id=\"T_c8479_row8_col6\" class=\"data row8 col6\" >1.0000</td>\n",
              "      <td id=\"T_c8479_row8_col7\" class=\"data row8 col7\" >1.0000</td>\n",
              "      <td id=\"T_c8479_row8_col8\" class=\"data row8 col8\" >1.1610</td>\n",
              "    </tr>\n",
              "    <tr>\n",
              "      <th id=\"T_c8479_level0_row9\" class=\"row_heading level0 row9\" >lightgbm</th>\n",
              "      <td id=\"T_c8479_row9_col0\" class=\"data row9 col0\" >Light Gradient Boosting Machine</td>\n",
              "      <td id=\"T_c8479_row9_col1\" class=\"data row9 col1\" >1.0000</td>\n",
              "      <td id=\"T_c8479_row9_col2\" class=\"data row9 col2\" >1.0000</td>\n",
              "      <td id=\"T_c8479_row9_col3\" class=\"data row9 col3\" >1.0000</td>\n",
              "      <td id=\"T_c8479_row9_col4\" class=\"data row9 col4\" >1.0000</td>\n",
              "      <td id=\"T_c8479_row9_col5\" class=\"data row9 col5\" >1.0000</td>\n",
              "      <td id=\"T_c8479_row9_col6\" class=\"data row9 col6\" >1.0000</td>\n",
              "      <td id=\"T_c8479_row9_col7\" class=\"data row9 col7\" >1.0000</td>\n",
              "      <td id=\"T_c8479_row9_col8\" class=\"data row9 col8\" >2.6010</td>\n",
              "    </tr>\n",
              "    <tr>\n",
              "      <th id=\"T_c8479_level0_row10\" class=\"row_heading level0 row10\" >catboost</th>\n",
              "      <td id=\"T_c8479_row10_col0\" class=\"data row10 col0\" >CatBoost Classifier</td>\n",
              "      <td id=\"T_c8479_row10_col1\" class=\"data row10 col1\" >1.0000</td>\n",
              "      <td id=\"T_c8479_row10_col2\" class=\"data row10 col2\" >1.0000</td>\n",
              "      <td id=\"T_c8479_row10_col3\" class=\"data row10 col3\" >1.0000</td>\n",
              "      <td id=\"T_c8479_row10_col4\" class=\"data row10 col4\" >1.0000</td>\n",
              "      <td id=\"T_c8479_row10_col5\" class=\"data row10 col5\" >1.0000</td>\n",
              "      <td id=\"T_c8479_row10_col6\" class=\"data row10 col6\" >1.0000</td>\n",
              "      <td id=\"T_c8479_row10_col7\" class=\"data row10 col7\" >1.0000</td>\n",
              "      <td id=\"T_c8479_row10_col8\" class=\"data row10 col8\" >14.7090</td>\n",
              "    </tr>\n",
              "    <tr>\n",
              "      <th id=\"T_c8479_level0_row11\" class=\"row_heading level0 row11\" >lda</th>\n",
              "      <td id=\"T_c8479_row11_col0\" class=\"data row11 col0\" >Linear Discriminant Analysis</td>\n",
              "      <td id=\"T_c8479_row11_col1\" class=\"data row11 col1\" >0.8668</td>\n",
              "      <td id=\"T_c8479_row11_col2\" class=\"data row11 col2\" >0.9690</td>\n",
              "      <td id=\"T_c8479_row11_col3\" class=\"data row11 col3\" >0.8668</td>\n",
              "      <td id=\"T_c8479_row11_col4\" class=\"data row11 col4\" >0.8810</td>\n",
              "      <td id=\"T_c8479_row11_col5\" class=\"data row11 col5\" >0.8649</td>\n",
              "      <td id=\"T_c8479_row11_col6\" class=\"data row11 col6\" >0.7700</td>\n",
              "      <td id=\"T_c8479_row11_col7\" class=\"data row11 col7\" >0.7811</td>\n",
              "      <td id=\"T_c8479_row11_col8\" class=\"data row11 col8\" >0.0870</td>\n",
              "    </tr>\n",
              "    <tr>\n",
              "      <th id=\"T_c8479_level0_row12\" class=\"row_heading level0 row12\" >knn</th>\n",
              "      <td id=\"T_c8479_row12_col0\" class=\"data row12 col0\" >K Neighbors Classifier</td>\n",
              "      <td id=\"T_c8479_row12_col1\" class=\"data row12 col1\" >0.7858</td>\n",
              "      <td id=\"T_c8479_row12_col2\" class=\"data row12 col2\" >0.9102</td>\n",
              "      <td id=\"T_c8479_row12_col3\" class=\"data row12 col3\" >0.7858</td>\n",
              "      <td id=\"T_c8479_row12_col4\" class=\"data row12 col4\" >0.7855</td>\n",
              "      <td id=\"T_c8479_row12_col5\" class=\"data row12 col5\" >0.7856</td>\n",
              "      <td id=\"T_c8479_row12_col6\" class=\"data row12 col6\" >0.6472</td>\n",
              "      <td id=\"T_c8479_row12_col7\" class=\"data row12 col7\" >0.6473</td>\n",
              "      <td id=\"T_c8479_row12_col8\" class=\"data row12 col8\" >0.6910</td>\n",
              "    </tr>\n",
              "    <tr>\n",
              "      <th id=\"T_c8479_level0_row13\" class=\"row_heading level0 row13\" >qda</th>\n",
              "      <td id=\"T_c8479_row13_col0\" class=\"data row13 col0\" >Quadratic Discriminant Analysis</td>\n",
              "      <td id=\"T_c8479_row13_col1\" class=\"data row13 col1\" >0.5319</td>\n",
              "      <td id=\"T_c8479_row13_col2\" class=\"data row13 col2\" >0.0000</td>\n",
              "      <td id=\"T_c8479_row13_col3\" class=\"data row13 col3\" >0.5319</td>\n",
              "      <td id=\"T_c8479_row13_col4\" class=\"data row13 col4\" >0.2829</td>\n",
              "      <td id=\"T_c8479_row13_col5\" class=\"data row13 col5\" >0.3694</td>\n",
              "      <td id=\"T_c8479_row13_col6\" class=\"data row13 col6\" >0.0000</td>\n",
              "      <td id=\"T_c8479_row13_col7\" class=\"data row13 col7\" >0.0000</td>\n",
              "      <td id=\"T_c8479_row13_col8\" class=\"data row13 col8\" >0.0700</td>\n",
              "    </tr>\n",
              "    <tr>\n",
              "      <th id=\"T_c8479_level0_row14\" class=\"row_heading level0 row14\" >dummy</th>\n",
              "      <td id=\"T_c8479_row14_col0\" class=\"data row14 col0\" >Dummy Classifier</td>\n",
              "      <td id=\"T_c8479_row14_col1\" class=\"data row14 col1\" >0.5319</td>\n",
              "      <td id=\"T_c8479_row14_col2\" class=\"data row14 col2\" >0.5000</td>\n",
              "      <td id=\"T_c8479_row14_col3\" class=\"data row14 col3\" >0.5319</td>\n",
              "      <td id=\"T_c8479_row14_col4\" class=\"data row14 col4\" >0.2829</td>\n",
              "      <td id=\"T_c8479_row14_col5\" class=\"data row14 col5\" >0.3694</td>\n",
              "      <td id=\"T_c8479_row14_col6\" class=\"data row14 col6\" >0.0000</td>\n",
              "      <td id=\"T_c8479_row14_col7\" class=\"data row14 col7\" >0.0000</td>\n",
              "      <td id=\"T_c8479_row14_col8\" class=\"data row14 col8\" >0.0530</td>\n",
              "    </tr>\n",
              "    <tr>\n",
              "      <th id=\"T_c8479_level0_row15\" class=\"row_heading level0 row15\" >svm</th>\n",
              "      <td id=\"T_c8479_row15_col0\" class=\"data row15 col0\" >SVM - Linear Kernel</td>\n",
              "      <td id=\"T_c8479_row15_col1\" class=\"data row15 col1\" >0.5256</td>\n",
              "      <td id=\"T_c8479_row15_col2\" class=\"data row15 col2\" >0.0000</td>\n",
              "      <td id=\"T_c8479_row15_col3\" class=\"data row15 col3\" >0.5256</td>\n",
              "      <td id=\"T_c8479_row15_col4\" class=\"data row15 col4\" >0.6419</td>\n",
              "      <td id=\"T_c8479_row15_col5\" class=\"data row15 col5\" >0.4228</td>\n",
              "      <td id=\"T_c8479_row15_col6\" class=\"data row15 col6\" >0.2469</td>\n",
              "      <td id=\"T_c8479_row15_col7\" class=\"data row15 col7\" >0.3203</td>\n",
              "      <td id=\"T_c8479_row15_col8\" class=\"data row15 col8\" >1.5360</td>\n",
              "    </tr>\n",
              "  </tbody>\n",
              "</table>\n"
            ]
          },
          "metadata": {}
        },
        {
          "output_type": "display_data",
          "data": {
            "text/plain": [
              "Processing:   0%|          | 0/69 [00:00<?, ?it/s]"
            ],
            "application/vnd.jupyter.widget-view+json": {
              "version_major": 2,
              "version_minor": 0,
              "model_id": "f3e399b8aad1407ca3958f042d437993"
            }
          },
          "metadata": {
            "application/vnd.jupyter.widget-view+json": {
              "colab": {
                "custom_widget_manager": {
                  "url": "https://ssl.gstatic.com/colaboratory-static/widgets/colab-cdn-widget-manager/2b70e893a8ba7c0f/manager.min.js"
                }
              }
            }
          }
        },
        {
          "output_type": "display_data",
          "data": {
            "text/plain": [
              "<IPython.core.display.HTML object>"
            ],
            "text/html": []
          },
          "metadata": {}
        },
        {
          "output_type": "execute_result",
          "data": {
            "text/plain": [
              "LogisticRegression(C=1.0, class_weight=None, dual=False, fit_intercept=True,\n",
              "                   intercept_scaling=1, l1_ratio=None, max_iter=1000,\n",
              "                   multi_class='auto', n_jobs=None, penalty='l2',\n",
              "                   random_state=123, solver='lbfgs', tol=0.0001, verbose=0,\n",
              "                   warm_start=False)"
            ],
            "text/html": [
              "<style>#sk-container-id-1 {color: black;background-color: white;}#sk-container-id-1 pre{padding: 0;}#sk-container-id-1 div.sk-toggleable {background-color: white;}#sk-container-id-1 label.sk-toggleable__label {cursor: pointer;display: block;width: 100%;margin-bottom: 0;padding: 0.3em;box-sizing: border-box;text-align: center;}#sk-container-id-1 label.sk-toggleable__label-arrow:before {content: \"▸\";float: left;margin-right: 0.25em;color: #696969;}#sk-container-id-1 label.sk-toggleable__label-arrow:hover:before {color: black;}#sk-container-id-1 div.sk-estimator:hover label.sk-toggleable__label-arrow:before {color: black;}#sk-container-id-1 div.sk-toggleable__content {max-height: 0;max-width: 0;overflow: hidden;text-align: left;background-color: #f0f8ff;}#sk-container-id-1 div.sk-toggleable__content pre {margin: 0.2em;color: black;border-radius: 0.25em;background-color: #f0f8ff;}#sk-container-id-1 input.sk-toggleable__control:checked~div.sk-toggleable__content {max-height: 200px;max-width: 100%;overflow: auto;}#sk-container-id-1 input.sk-toggleable__control:checked~label.sk-toggleable__label-arrow:before {content: \"▾\";}#sk-container-id-1 div.sk-estimator input.sk-toggleable__control:checked~label.sk-toggleable__label {background-color: #d4ebff;}#sk-container-id-1 div.sk-label input.sk-toggleable__control:checked~label.sk-toggleable__label {background-color: #d4ebff;}#sk-container-id-1 input.sk-hidden--visually {border: 0;clip: rect(1px 1px 1px 1px);clip: rect(1px, 1px, 1px, 1px);height: 1px;margin: -1px;overflow: hidden;padding: 0;position: absolute;width: 1px;}#sk-container-id-1 div.sk-estimator {font-family: monospace;background-color: #f0f8ff;border: 1px dotted black;border-radius: 0.25em;box-sizing: border-box;margin-bottom: 0.5em;}#sk-container-id-1 div.sk-estimator:hover {background-color: #d4ebff;}#sk-container-id-1 div.sk-parallel-item::after {content: \"\";width: 100%;border-bottom: 1px solid gray;flex-grow: 1;}#sk-container-id-1 div.sk-label:hover label.sk-toggleable__label {background-color: #d4ebff;}#sk-container-id-1 div.sk-serial::before {content: \"\";position: absolute;border-left: 1px solid gray;box-sizing: border-box;top: 0;bottom: 0;left: 50%;z-index: 0;}#sk-container-id-1 div.sk-serial {display: flex;flex-direction: column;align-items: center;background-color: white;padding-right: 0.2em;padding-left: 0.2em;position: relative;}#sk-container-id-1 div.sk-item {position: relative;z-index: 1;}#sk-container-id-1 div.sk-parallel {display: flex;align-items: stretch;justify-content: center;background-color: white;position: relative;}#sk-container-id-1 div.sk-item::before, #sk-container-id-1 div.sk-parallel-item::before {content: \"\";position: absolute;border-left: 1px solid gray;box-sizing: border-box;top: 0;bottom: 0;left: 50%;z-index: -1;}#sk-container-id-1 div.sk-parallel-item {display: flex;flex-direction: column;z-index: 1;position: relative;background-color: white;}#sk-container-id-1 div.sk-parallel-item:first-child::after {align-self: flex-end;width: 50%;}#sk-container-id-1 div.sk-parallel-item:last-child::after {align-self: flex-start;width: 50%;}#sk-container-id-1 div.sk-parallel-item:only-child::after {width: 0;}#sk-container-id-1 div.sk-dashed-wrapped {border: 1px dashed gray;margin: 0 0.4em 0.5em 0.4em;box-sizing: border-box;padding-bottom: 0.4em;background-color: white;}#sk-container-id-1 div.sk-label label {font-family: monospace;font-weight: bold;display: inline-block;line-height: 1.2em;}#sk-container-id-1 div.sk-label-container {text-align: center;}#sk-container-id-1 div.sk-container {/* jupyter's `normalize.less` sets `[hidden] { display: none; }` but bootstrap.min.css set `[hidden] { display: none !important; }` so we also need the `!important` here to be able to override the default hidden behavior on the sphinx rendered scikit-learn.org. See: https://github.com/scikit-learn/scikit-learn/issues/21755 */display: inline-block !important;position: relative;}#sk-container-id-1 div.sk-text-repr-fallback {display: none;}</style><div id=\"sk-container-id-1\" class=\"sk-top-container\"><div class=\"sk-text-repr-fallback\"><pre>LogisticRegression(C=1.0, class_weight=None, dual=False, fit_intercept=True,\n",
              "                   intercept_scaling=1, l1_ratio=None, max_iter=1000,\n",
              "                   multi_class=&#x27;auto&#x27;, n_jobs=None, penalty=&#x27;l2&#x27;,\n",
              "                   random_state=123, solver=&#x27;lbfgs&#x27;, tol=0.0001, verbose=0,\n",
              "                   warm_start=False)</pre><b>In a Jupyter environment, please rerun this cell to show the HTML representation or trust the notebook. <br />On GitHub, the HTML representation is unable to render, please try loading this page with nbviewer.org.</b></div><div class=\"sk-container\" hidden><div class=\"sk-item\"><div class=\"sk-estimator sk-toggleable\"><input class=\"sk-toggleable__control sk-hidden--visually\" id=\"sk-estimator-id-1\" type=\"checkbox\" checked><label for=\"sk-estimator-id-1\" class=\"sk-toggleable__label sk-toggleable__label-arrow\">LogisticRegression</label><div class=\"sk-toggleable__content\"><pre>LogisticRegression(C=1.0, class_weight=None, dual=False, fit_intercept=True,\n",
              "                   intercept_scaling=1, l1_ratio=None, max_iter=1000,\n",
              "                   multi_class=&#x27;auto&#x27;, n_jobs=None, penalty=&#x27;l2&#x27;,\n",
              "                   random_state=123, solver=&#x27;lbfgs&#x27;, tol=0.0001, verbose=0,\n",
              "                   warm_start=False)</pre></div></div></div></div></div>"
            ]
          },
          "metadata": {},
          "execution_count": 78
        }
      ]
    },
    {
      "cell_type": "code",
      "source": [
        "naivebayes= create_model('nb')"
      ],
      "metadata": {
        "colab": {
          "base_uri": "https://localhost:8080/",
          "height": 457,
          "referenced_widgets": [
            "41977e5ed84d467b93257ee722ffb080",
            "e0964c0219d04e139952137d8b5114a4",
            "feb31c96fe8a40aba4588a9baf1e5173",
            "6b1c344b442b4be3a81012b80a328ca8",
            "4a0bf02d770e497980754054a8103828",
            "13f9612c1bc94b8fb0c3f23af0964116",
            "b0950bf4a99844848c5c0f248df16ce1",
            "b29b67f2db654c419c49c4ac3994cf32",
            "e3b00fc23ab14028967a554b9f97da9b",
            "dbfd041d6dc149bd99b8cc1bc3975c88",
            "401eea6263fd41489cd06fd3c5ff0fdb"
          ]
        },
        "id": "hXB0ZMrQTN8m",
        "outputId": "52814f41-56b3-45a3-caaf-c0c76029d3c6"
      },
      "execution_count": 79,
      "outputs": [
        {
          "output_type": "display_data",
          "data": {
            "text/plain": [
              "<IPython.core.display.HTML object>"
            ],
            "text/html": []
          },
          "metadata": {}
        },
        {
          "output_type": "display_data",
          "data": {
            "text/plain": [
              "<pandas.io.formats.style.Styler at 0x7d91ac7b3070>"
            ],
            "text/html": [
              "<style type=\"text/css\">\n",
              "#T_9238a_row10_col0, #T_9238a_row10_col1, #T_9238a_row10_col2, #T_9238a_row10_col3, #T_9238a_row10_col4, #T_9238a_row10_col5, #T_9238a_row10_col6 {\n",
              "  background: yellow;\n",
              "}\n",
              "</style>\n",
              "<table id=\"T_9238a\" class=\"dataframe\">\n",
              "  <thead>\n",
              "    <tr>\n",
              "      <th class=\"blank level0\" >&nbsp;</th>\n",
              "      <th id=\"T_9238a_level0_col0\" class=\"col_heading level0 col0\" >Accuracy</th>\n",
              "      <th id=\"T_9238a_level0_col1\" class=\"col_heading level0 col1\" >AUC</th>\n",
              "      <th id=\"T_9238a_level0_col2\" class=\"col_heading level0 col2\" >Recall</th>\n",
              "      <th id=\"T_9238a_level0_col3\" class=\"col_heading level0 col3\" >Prec.</th>\n",
              "      <th id=\"T_9238a_level0_col4\" class=\"col_heading level0 col4\" >F1</th>\n",
              "      <th id=\"T_9238a_level0_col5\" class=\"col_heading level0 col5\" >Kappa</th>\n",
              "      <th id=\"T_9238a_level0_col6\" class=\"col_heading level0 col6\" >MCC</th>\n",
              "    </tr>\n",
              "    <tr>\n",
              "      <th class=\"index_name level0\" >Fold</th>\n",
              "      <th class=\"blank col0\" >&nbsp;</th>\n",
              "      <th class=\"blank col1\" >&nbsp;</th>\n",
              "      <th class=\"blank col2\" >&nbsp;</th>\n",
              "      <th class=\"blank col3\" >&nbsp;</th>\n",
              "      <th class=\"blank col4\" >&nbsp;</th>\n",
              "      <th class=\"blank col5\" >&nbsp;</th>\n",
              "      <th class=\"blank col6\" >&nbsp;</th>\n",
              "    </tr>\n",
              "  </thead>\n",
              "  <tbody>\n",
              "    <tr>\n",
              "      <th id=\"T_9238a_level0_row0\" class=\"row_heading level0 row0\" >0</th>\n",
              "      <td id=\"T_9238a_row0_col0\" class=\"data row0 col0\" >1.0000</td>\n",
              "      <td id=\"T_9238a_row0_col1\" class=\"data row0 col1\" >1.0000</td>\n",
              "      <td id=\"T_9238a_row0_col2\" class=\"data row0 col2\" >1.0000</td>\n",
              "      <td id=\"T_9238a_row0_col3\" class=\"data row0 col3\" >1.0000</td>\n",
              "      <td id=\"T_9238a_row0_col4\" class=\"data row0 col4\" >1.0000</td>\n",
              "      <td id=\"T_9238a_row0_col5\" class=\"data row0 col5\" >1.0000</td>\n",
              "      <td id=\"T_9238a_row0_col6\" class=\"data row0 col6\" >1.0000</td>\n",
              "    </tr>\n",
              "    <tr>\n",
              "      <th id=\"T_9238a_level0_row1\" class=\"row_heading level0 row1\" >1</th>\n",
              "      <td id=\"T_9238a_row1_col0\" class=\"data row1 col0\" >1.0000</td>\n",
              "      <td id=\"T_9238a_row1_col1\" class=\"data row1 col1\" >1.0000</td>\n",
              "      <td id=\"T_9238a_row1_col2\" class=\"data row1 col2\" >1.0000</td>\n",
              "      <td id=\"T_9238a_row1_col3\" class=\"data row1 col3\" >1.0000</td>\n",
              "      <td id=\"T_9238a_row1_col4\" class=\"data row1 col4\" >1.0000</td>\n",
              "      <td id=\"T_9238a_row1_col5\" class=\"data row1 col5\" >1.0000</td>\n",
              "      <td id=\"T_9238a_row1_col6\" class=\"data row1 col6\" >1.0000</td>\n",
              "    </tr>\n",
              "    <tr>\n",
              "      <th id=\"T_9238a_level0_row2\" class=\"row_heading level0 row2\" >2</th>\n",
              "      <td id=\"T_9238a_row2_col0\" class=\"data row2 col0\" >1.0000</td>\n",
              "      <td id=\"T_9238a_row2_col1\" class=\"data row2 col1\" >1.0000</td>\n",
              "      <td id=\"T_9238a_row2_col2\" class=\"data row2 col2\" >1.0000</td>\n",
              "      <td id=\"T_9238a_row2_col3\" class=\"data row2 col3\" >1.0000</td>\n",
              "      <td id=\"T_9238a_row2_col4\" class=\"data row2 col4\" >1.0000</td>\n",
              "      <td id=\"T_9238a_row2_col5\" class=\"data row2 col5\" >1.0000</td>\n",
              "      <td id=\"T_9238a_row2_col6\" class=\"data row2 col6\" >1.0000</td>\n",
              "    </tr>\n",
              "    <tr>\n",
              "      <th id=\"T_9238a_level0_row3\" class=\"row_heading level0 row3\" >3</th>\n",
              "      <td id=\"T_9238a_row3_col0\" class=\"data row3 col0\" >1.0000</td>\n",
              "      <td id=\"T_9238a_row3_col1\" class=\"data row3 col1\" >1.0000</td>\n",
              "      <td id=\"T_9238a_row3_col2\" class=\"data row3 col2\" >1.0000</td>\n",
              "      <td id=\"T_9238a_row3_col3\" class=\"data row3 col3\" >1.0000</td>\n",
              "      <td id=\"T_9238a_row3_col4\" class=\"data row3 col4\" >1.0000</td>\n",
              "      <td id=\"T_9238a_row3_col5\" class=\"data row3 col5\" >1.0000</td>\n",
              "      <td id=\"T_9238a_row3_col6\" class=\"data row3 col6\" >1.0000</td>\n",
              "    </tr>\n",
              "    <tr>\n",
              "      <th id=\"T_9238a_level0_row4\" class=\"row_heading level0 row4\" >4</th>\n",
              "      <td id=\"T_9238a_row4_col0\" class=\"data row4 col0\" >1.0000</td>\n",
              "      <td id=\"T_9238a_row4_col1\" class=\"data row4 col1\" >1.0000</td>\n",
              "      <td id=\"T_9238a_row4_col2\" class=\"data row4 col2\" >1.0000</td>\n",
              "      <td id=\"T_9238a_row4_col3\" class=\"data row4 col3\" >1.0000</td>\n",
              "      <td id=\"T_9238a_row4_col4\" class=\"data row4 col4\" >1.0000</td>\n",
              "      <td id=\"T_9238a_row4_col5\" class=\"data row4 col5\" >1.0000</td>\n",
              "      <td id=\"T_9238a_row4_col6\" class=\"data row4 col6\" >1.0000</td>\n",
              "    </tr>\n",
              "    <tr>\n",
              "      <th id=\"T_9238a_level0_row5\" class=\"row_heading level0 row5\" >5</th>\n",
              "      <td id=\"T_9238a_row5_col0\" class=\"data row5 col0\" >1.0000</td>\n",
              "      <td id=\"T_9238a_row5_col1\" class=\"data row5 col1\" >1.0000</td>\n",
              "      <td id=\"T_9238a_row5_col2\" class=\"data row5 col2\" >1.0000</td>\n",
              "      <td id=\"T_9238a_row5_col3\" class=\"data row5 col3\" >1.0000</td>\n",
              "      <td id=\"T_9238a_row5_col4\" class=\"data row5 col4\" >1.0000</td>\n",
              "      <td id=\"T_9238a_row5_col5\" class=\"data row5 col5\" >1.0000</td>\n",
              "      <td id=\"T_9238a_row5_col6\" class=\"data row5 col6\" >1.0000</td>\n",
              "    </tr>\n",
              "    <tr>\n",
              "      <th id=\"T_9238a_level0_row6\" class=\"row_heading level0 row6\" >6</th>\n",
              "      <td id=\"T_9238a_row6_col0\" class=\"data row6 col0\" >1.0000</td>\n",
              "      <td id=\"T_9238a_row6_col1\" class=\"data row6 col1\" >1.0000</td>\n",
              "      <td id=\"T_9238a_row6_col2\" class=\"data row6 col2\" >1.0000</td>\n",
              "      <td id=\"T_9238a_row6_col3\" class=\"data row6 col3\" >1.0000</td>\n",
              "      <td id=\"T_9238a_row6_col4\" class=\"data row6 col4\" >1.0000</td>\n",
              "      <td id=\"T_9238a_row6_col5\" class=\"data row6 col5\" >1.0000</td>\n",
              "      <td id=\"T_9238a_row6_col6\" class=\"data row6 col6\" >1.0000</td>\n",
              "    </tr>\n",
              "    <tr>\n",
              "      <th id=\"T_9238a_level0_row7\" class=\"row_heading level0 row7\" >7</th>\n",
              "      <td id=\"T_9238a_row7_col0\" class=\"data row7 col0\" >1.0000</td>\n",
              "      <td id=\"T_9238a_row7_col1\" class=\"data row7 col1\" >1.0000</td>\n",
              "      <td id=\"T_9238a_row7_col2\" class=\"data row7 col2\" >1.0000</td>\n",
              "      <td id=\"T_9238a_row7_col3\" class=\"data row7 col3\" >1.0000</td>\n",
              "      <td id=\"T_9238a_row7_col4\" class=\"data row7 col4\" >1.0000</td>\n",
              "      <td id=\"T_9238a_row7_col5\" class=\"data row7 col5\" >1.0000</td>\n",
              "      <td id=\"T_9238a_row7_col6\" class=\"data row7 col6\" >1.0000</td>\n",
              "    </tr>\n",
              "    <tr>\n",
              "      <th id=\"T_9238a_level0_row8\" class=\"row_heading level0 row8\" >8</th>\n",
              "      <td id=\"T_9238a_row8_col0\" class=\"data row8 col0\" >1.0000</td>\n",
              "      <td id=\"T_9238a_row8_col1\" class=\"data row8 col1\" >1.0000</td>\n",
              "      <td id=\"T_9238a_row8_col2\" class=\"data row8 col2\" >1.0000</td>\n",
              "      <td id=\"T_9238a_row8_col3\" class=\"data row8 col3\" >1.0000</td>\n",
              "      <td id=\"T_9238a_row8_col4\" class=\"data row8 col4\" >1.0000</td>\n",
              "      <td id=\"T_9238a_row8_col5\" class=\"data row8 col5\" >1.0000</td>\n",
              "      <td id=\"T_9238a_row8_col6\" class=\"data row8 col6\" >1.0000</td>\n",
              "    </tr>\n",
              "    <tr>\n",
              "      <th id=\"T_9238a_level0_row9\" class=\"row_heading level0 row9\" >9</th>\n",
              "      <td id=\"T_9238a_row9_col0\" class=\"data row9 col0\" >1.0000</td>\n",
              "      <td id=\"T_9238a_row9_col1\" class=\"data row9 col1\" >1.0000</td>\n",
              "      <td id=\"T_9238a_row9_col2\" class=\"data row9 col2\" >1.0000</td>\n",
              "      <td id=\"T_9238a_row9_col3\" class=\"data row9 col3\" >1.0000</td>\n",
              "      <td id=\"T_9238a_row9_col4\" class=\"data row9 col4\" >1.0000</td>\n",
              "      <td id=\"T_9238a_row9_col5\" class=\"data row9 col5\" >1.0000</td>\n",
              "      <td id=\"T_9238a_row9_col6\" class=\"data row9 col6\" >1.0000</td>\n",
              "    </tr>\n",
              "    <tr>\n",
              "      <th id=\"T_9238a_level0_row10\" class=\"row_heading level0 row10\" >Mean</th>\n",
              "      <td id=\"T_9238a_row10_col0\" class=\"data row10 col0\" >1.0000</td>\n",
              "      <td id=\"T_9238a_row10_col1\" class=\"data row10 col1\" >1.0000</td>\n",
              "      <td id=\"T_9238a_row10_col2\" class=\"data row10 col2\" >1.0000</td>\n",
              "      <td id=\"T_9238a_row10_col3\" class=\"data row10 col3\" >1.0000</td>\n",
              "      <td id=\"T_9238a_row10_col4\" class=\"data row10 col4\" >1.0000</td>\n",
              "      <td id=\"T_9238a_row10_col5\" class=\"data row10 col5\" >1.0000</td>\n",
              "      <td id=\"T_9238a_row10_col6\" class=\"data row10 col6\" >1.0000</td>\n",
              "    </tr>\n",
              "    <tr>\n",
              "      <th id=\"T_9238a_level0_row11\" class=\"row_heading level0 row11\" >Std</th>\n",
              "      <td id=\"T_9238a_row11_col0\" class=\"data row11 col0\" >0.0000</td>\n",
              "      <td id=\"T_9238a_row11_col1\" class=\"data row11 col1\" >0.0000</td>\n",
              "      <td id=\"T_9238a_row11_col2\" class=\"data row11 col2\" >0.0000</td>\n",
              "      <td id=\"T_9238a_row11_col3\" class=\"data row11 col3\" >0.0000</td>\n",
              "      <td id=\"T_9238a_row11_col4\" class=\"data row11 col4\" >0.0000</td>\n",
              "      <td id=\"T_9238a_row11_col5\" class=\"data row11 col5\" >0.0000</td>\n",
              "      <td id=\"T_9238a_row11_col6\" class=\"data row11 col6\" >0.0000</td>\n",
              "    </tr>\n",
              "  </tbody>\n",
              "</table>\n"
            ]
          },
          "metadata": {}
        },
        {
          "output_type": "display_data",
          "data": {
            "text/plain": [
              "Processing:   0%|          | 0/4 [00:00<?, ?it/s]"
            ],
            "application/vnd.jupyter.widget-view+json": {
              "version_major": 2,
              "version_minor": 0,
              "model_id": "41977e5ed84d467b93257ee722ffb080"
            }
          },
          "metadata": {
            "application/vnd.jupyter.widget-view+json": {
              "colab": {
                "custom_widget_manager": {
                  "url": "https://ssl.gstatic.com/colaboratory-static/widgets/colab-cdn-widget-manager/2b70e893a8ba7c0f/manager.min.js"
                }
              }
            }
          }
        },
        {
          "output_type": "display_data",
          "data": {
            "text/plain": [
              "<IPython.core.display.HTML object>"
            ],
            "text/html": []
          },
          "metadata": {}
        }
      ]
    },
    {
      "cell_type": "code",
      "source": [
        "naivebayes = create_model('nb')"
      ],
      "metadata": {
        "colab": {
          "base_uri": "https://localhost:8080/",
          "height": 457,
          "referenced_widgets": [
            "a8e27fb085784ba4b7e6eaa2b76db605",
            "86dd80d247a74b7abe1e54359e69fdc4",
            "72bd02c6e55c4d0d9038ff00ca0144b8",
            "739b6610343a40b187d62d2b917a1f20",
            "05c7a21fdc0e4ae1b60935b5888e1700",
            "0774dbd318b2403da054b3eeed276071",
            "c062710b5216400c936a2c10fe10ef3b",
            "b72d53d430ba48708f015a0bf62e034f",
            "503865e1748d4bb89c3194fca4acc0bf",
            "4d8791335d754d7eb0e3b3debafabd66",
            "63744dcd66094b75a38b474cc2f581d2"
          ]
        },
        "id": "SCgquVg1UGeh",
        "outputId": "c13bdcf2-acb5-43ce-a14a-6b00d783d44f"
      },
      "execution_count": 82,
      "outputs": [
        {
          "output_type": "display_data",
          "data": {
            "text/plain": [
              "<IPython.core.display.HTML object>"
            ],
            "text/html": []
          },
          "metadata": {}
        },
        {
          "output_type": "display_data",
          "data": {
            "text/plain": [
              "<pandas.io.formats.style.Styler at 0x7d90f8fc4b20>"
            ],
            "text/html": [
              "<style type=\"text/css\">\n",
              "#T_4dd9b_row10_col0, #T_4dd9b_row10_col1, #T_4dd9b_row10_col2, #T_4dd9b_row10_col3, #T_4dd9b_row10_col4, #T_4dd9b_row10_col5, #T_4dd9b_row10_col6 {\n",
              "  background: yellow;\n",
              "}\n",
              "</style>\n",
              "<table id=\"T_4dd9b\" class=\"dataframe\">\n",
              "  <thead>\n",
              "    <tr>\n",
              "      <th class=\"blank level0\" >&nbsp;</th>\n",
              "      <th id=\"T_4dd9b_level0_col0\" class=\"col_heading level0 col0\" >Accuracy</th>\n",
              "      <th id=\"T_4dd9b_level0_col1\" class=\"col_heading level0 col1\" >AUC</th>\n",
              "      <th id=\"T_4dd9b_level0_col2\" class=\"col_heading level0 col2\" >Recall</th>\n",
              "      <th id=\"T_4dd9b_level0_col3\" class=\"col_heading level0 col3\" >Prec.</th>\n",
              "      <th id=\"T_4dd9b_level0_col4\" class=\"col_heading level0 col4\" >F1</th>\n",
              "      <th id=\"T_4dd9b_level0_col5\" class=\"col_heading level0 col5\" >Kappa</th>\n",
              "      <th id=\"T_4dd9b_level0_col6\" class=\"col_heading level0 col6\" >MCC</th>\n",
              "    </tr>\n",
              "    <tr>\n",
              "      <th class=\"index_name level0\" >Fold</th>\n",
              "      <th class=\"blank col0\" >&nbsp;</th>\n",
              "      <th class=\"blank col1\" >&nbsp;</th>\n",
              "      <th class=\"blank col2\" >&nbsp;</th>\n",
              "      <th class=\"blank col3\" >&nbsp;</th>\n",
              "      <th class=\"blank col4\" >&nbsp;</th>\n",
              "      <th class=\"blank col5\" >&nbsp;</th>\n",
              "      <th class=\"blank col6\" >&nbsp;</th>\n",
              "    </tr>\n",
              "  </thead>\n",
              "  <tbody>\n",
              "    <tr>\n",
              "      <th id=\"T_4dd9b_level0_row0\" class=\"row_heading level0 row0\" >0</th>\n",
              "      <td id=\"T_4dd9b_row0_col0\" class=\"data row0 col0\" >1.0000</td>\n",
              "      <td id=\"T_4dd9b_row0_col1\" class=\"data row0 col1\" >1.0000</td>\n",
              "      <td id=\"T_4dd9b_row0_col2\" class=\"data row0 col2\" >1.0000</td>\n",
              "      <td id=\"T_4dd9b_row0_col3\" class=\"data row0 col3\" >1.0000</td>\n",
              "      <td id=\"T_4dd9b_row0_col4\" class=\"data row0 col4\" >1.0000</td>\n",
              "      <td id=\"T_4dd9b_row0_col5\" class=\"data row0 col5\" >1.0000</td>\n",
              "      <td id=\"T_4dd9b_row0_col6\" class=\"data row0 col6\" >1.0000</td>\n",
              "    </tr>\n",
              "    <tr>\n",
              "      <th id=\"T_4dd9b_level0_row1\" class=\"row_heading level0 row1\" >1</th>\n",
              "      <td id=\"T_4dd9b_row1_col0\" class=\"data row1 col0\" >1.0000</td>\n",
              "      <td id=\"T_4dd9b_row1_col1\" class=\"data row1 col1\" >1.0000</td>\n",
              "      <td id=\"T_4dd9b_row1_col2\" class=\"data row1 col2\" >1.0000</td>\n",
              "      <td id=\"T_4dd9b_row1_col3\" class=\"data row1 col3\" >1.0000</td>\n",
              "      <td id=\"T_4dd9b_row1_col4\" class=\"data row1 col4\" >1.0000</td>\n",
              "      <td id=\"T_4dd9b_row1_col5\" class=\"data row1 col5\" >1.0000</td>\n",
              "      <td id=\"T_4dd9b_row1_col6\" class=\"data row1 col6\" >1.0000</td>\n",
              "    </tr>\n",
              "    <tr>\n",
              "      <th id=\"T_4dd9b_level0_row2\" class=\"row_heading level0 row2\" >2</th>\n",
              "      <td id=\"T_4dd9b_row2_col0\" class=\"data row2 col0\" >1.0000</td>\n",
              "      <td id=\"T_4dd9b_row2_col1\" class=\"data row2 col1\" >1.0000</td>\n",
              "      <td id=\"T_4dd9b_row2_col2\" class=\"data row2 col2\" >1.0000</td>\n",
              "      <td id=\"T_4dd9b_row2_col3\" class=\"data row2 col3\" >1.0000</td>\n",
              "      <td id=\"T_4dd9b_row2_col4\" class=\"data row2 col4\" >1.0000</td>\n",
              "      <td id=\"T_4dd9b_row2_col5\" class=\"data row2 col5\" >1.0000</td>\n",
              "      <td id=\"T_4dd9b_row2_col6\" class=\"data row2 col6\" >1.0000</td>\n",
              "    </tr>\n",
              "    <tr>\n",
              "      <th id=\"T_4dd9b_level0_row3\" class=\"row_heading level0 row3\" >3</th>\n",
              "      <td id=\"T_4dd9b_row3_col0\" class=\"data row3 col0\" >1.0000</td>\n",
              "      <td id=\"T_4dd9b_row3_col1\" class=\"data row3 col1\" >1.0000</td>\n",
              "      <td id=\"T_4dd9b_row3_col2\" class=\"data row3 col2\" >1.0000</td>\n",
              "      <td id=\"T_4dd9b_row3_col3\" class=\"data row3 col3\" >1.0000</td>\n",
              "      <td id=\"T_4dd9b_row3_col4\" class=\"data row3 col4\" >1.0000</td>\n",
              "      <td id=\"T_4dd9b_row3_col5\" class=\"data row3 col5\" >1.0000</td>\n",
              "      <td id=\"T_4dd9b_row3_col6\" class=\"data row3 col6\" >1.0000</td>\n",
              "    </tr>\n",
              "    <tr>\n",
              "      <th id=\"T_4dd9b_level0_row4\" class=\"row_heading level0 row4\" >4</th>\n",
              "      <td id=\"T_4dd9b_row4_col0\" class=\"data row4 col0\" >1.0000</td>\n",
              "      <td id=\"T_4dd9b_row4_col1\" class=\"data row4 col1\" >1.0000</td>\n",
              "      <td id=\"T_4dd9b_row4_col2\" class=\"data row4 col2\" >1.0000</td>\n",
              "      <td id=\"T_4dd9b_row4_col3\" class=\"data row4 col3\" >1.0000</td>\n",
              "      <td id=\"T_4dd9b_row4_col4\" class=\"data row4 col4\" >1.0000</td>\n",
              "      <td id=\"T_4dd9b_row4_col5\" class=\"data row4 col5\" >1.0000</td>\n",
              "      <td id=\"T_4dd9b_row4_col6\" class=\"data row4 col6\" >1.0000</td>\n",
              "    </tr>\n",
              "    <tr>\n",
              "      <th id=\"T_4dd9b_level0_row5\" class=\"row_heading level0 row5\" >5</th>\n",
              "      <td id=\"T_4dd9b_row5_col0\" class=\"data row5 col0\" >1.0000</td>\n",
              "      <td id=\"T_4dd9b_row5_col1\" class=\"data row5 col1\" >1.0000</td>\n",
              "      <td id=\"T_4dd9b_row5_col2\" class=\"data row5 col2\" >1.0000</td>\n",
              "      <td id=\"T_4dd9b_row5_col3\" class=\"data row5 col3\" >1.0000</td>\n",
              "      <td id=\"T_4dd9b_row5_col4\" class=\"data row5 col4\" >1.0000</td>\n",
              "      <td id=\"T_4dd9b_row5_col5\" class=\"data row5 col5\" >1.0000</td>\n",
              "      <td id=\"T_4dd9b_row5_col6\" class=\"data row5 col6\" >1.0000</td>\n",
              "    </tr>\n",
              "    <tr>\n",
              "      <th id=\"T_4dd9b_level0_row6\" class=\"row_heading level0 row6\" >6</th>\n",
              "      <td id=\"T_4dd9b_row6_col0\" class=\"data row6 col0\" >1.0000</td>\n",
              "      <td id=\"T_4dd9b_row6_col1\" class=\"data row6 col1\" >1.0000</td>\n",
              "      <td id=\"T_4dd9b_row6_col2\" class=\"data row6 col2\" >1.0000</td>\n",
              "      <td id=\"T_4dd9b_row6_col3\" class=\"data row6 col3\" >1.0000</td>\n",
              "      <td id=\"T_4dd9b_row6_col4\" class=\"data row6 col4\" >1.0000</td>\n",
              "      <td id=\"T_4dd9b_row6_col5\" class=\"data row6 col5\" >1.0000</td>\n",
              "      <td id=\"T_4dd9b_row6_col6\" class=\"data row6 col6\" >1.0000</td>\n",
              "    </tr>\n",
              "    <tr>\n",
              "      <th id=\"T_4dd9b_level0_row7\" class=\"row_heading level0 row7\" >7</th>\n",
              "      <td id=\"T_4dd9b_row7_col0\" class=\"data row7 col0\" >1.0000</td>\n",
              "      <td id=\"T_4dd9b_row7_col1\" class=\"data row7 col1\" >1.0000</td>\n",
              "      <td id=\"T_4dd9b_row7_col2\" class=\"data row7 col2\" >1.0000</td>\n",
              "      <td id=\"T_4dd9b_row7_col3\" class=\"data row7 col3\" >1.0000</td>\n",
              "      <td id=\"T_4dd9b_row7_col4\" class=\"data row7 col4\" >1.0000</td>\n",
              "      <td id=\"T_4dd9b_row7_col5\" class=\"data row7 col5\" >1.0000</td>\n",
              "      <td id=\"T_4dd9b_row7_col6\" class=\"data row7 col6\" >1.0000</td>\n",
              "    </tr>\n",
              "    <tr>\n",
              "      <th id=\"T_4dd9b_level0_row8\" class=\"row_heading level0 row8\" >8</th>\n",
              "      <td id=\"T_4dd9b_row8_col0\" class=\"data row8 col0\" >1.0000</td>\n",
              "      <td id=\"T_4dd9b_row8_col1\" class=\"data row8 col1\" >1.0000</td>\n",
              "      <td id=\"T_4dd9b_row8_col2\" class=\"data row8 col2\" >1.0000</td>\n",
              "      <td id=\"T_4dd9b_row8_col3\" class=\"data row8 col3\" >1.0000</td>\n",
              "      <td id=\"T_4dd9b_row8_col4\" class=\"data row8 col4\" >1.0000</td>\n",
              "      <td id=\"T_4dd9b_row8_col5\" class=\"data row8 col5\" >1.0000</td>\n",
              "      <td id=\"T_4dd9b_row8_col6\" class=\"data row8 col6\" >1.0000</td>\n",
              "    </tr>\n",
              "    <tr>\n",
              "      <th id=\"T_4dd9b_level0_row9\" class=\"row_heading level0 row9\" >9</th>\n",
              "      <td id=\"T_4dd9b_row9_col0\" class=\"data row9 col0\" >1.0000</td>\n",
              "      <td id=\"T_4dd9b_row9_col1\" class=\"data row9 col1\" >1.0000</td>\n",
              "      <td id=\"T_4dd9b_row9_col2\" class=\"data row9 col2\" >1.0000</td>\n",
              "      <td id=\"T_4dd9b_row9_col3\" class=\"data row9 col3\" >1.0000</td>\n",
              "      <td id=\"T_4dd9b_row9_col4\" class=\"data row9 col4\" >1.0000</td>\n",
              "      <td id=\"T_4dd9b_row9_col5\" class=\"data row9 col5\" >1.0000</td>\n",
              "      <td id=\"T_4dd9b_row9_col6\" class=\"data row9 col6\" >1.0000</td>\n",
              "    </tr>\n",
              "    <tr>\n",
              "      <th id=\"T_4dd9b_level0_row10\" class=\"row_heading level0 row10\" >Mean</th>\n",
              "      <td id=\"T_4dd9b_row10_col0\" class=\"data row10 col0\" >1.0000</td>\n",
              "      <td id=\"T_4dd9b_row10_col1\" class=\"data row10 col1\" >1.0000</td>\n",
              "      <td id=\"T_4dd9b_row10_col2\" class=\"data row10 col2\" >1.0000</td>\n",
              "      <td id=\"T_4dd9b_row10_col3\" class=\"data row10 col3\" >1.0000</td>\n",
              "      <td id=\"T_4dd9b_row10_col4\" class=\"data row10 col4\" >1.0000</td>\n",
              "      <td id=\"T_4dd9b_row10_col5\" class=\"data row10 col5\" >1.0000</td>\n",
              "      <td id=\"T_4dd9b_row10_col6\" class=\"data row10 col6\" >1.0000</td>\n",
              "    </tr>\n",
              "    <tr>\n",
              "      <th id=\"T_4dd9b_level0_row11\" class=\"row_heading level0 row11\" >Std</th>\n",
              "      <td id=\"T_4dd9b_row11_col0\" class=\"data row11 col0\" >0.0000</td>\n",
              "      <td id=\"T_4dd9b_row11_col1\" class=\"data row11 col1\" >0.0000</td>\n",
              "      <td id=\"T_4dd9b_row11_col2\" class=\"data row11 col2\" >0.0000</td>\n",
              "      <td id=\"T_4dd9b_row11_col3\" class=\"data row11 col3\" >0.0000</td>\n",
              "      <td id=\"T_4dd9b_row11_col4\" class=\"data row11 col4\" >0.0000</td>\n",
              "      <td id=\"T_4dd9b_row11_col5\" class=\"data row11 col5\" >0.0000</td>\n",
              "      <td id=\"T_4dd9b_row11_col6\" class=\"data row11 col6\" >0.0000</td>\n",
              "    </tr>\n",
              "  </tbody>\n",
              "</table>\n"
            ]
          },
          "metadata": {}
        },
        {
          "output_type": "display_data",
          "data": {
            "text/plain": [
              "Processing:   0%|          | 0/4 [00:00<?, ?it/s]"
            ],
            "application/vnd.jupyter.widget-view+json": {
              "version_major": 2,
              "version_minor": 0,
              "model_id": "a8e27fb085784ba4b7e6eaa2b76db605"
            }
          },
          "metadata": {
            "application/vnd.jupyter.widget-view+json": {
              "colab": {
                "custom_widget_manager": {
                  "url": "https://ssl.gstatic.com/colaboratory-static/widgets/colab-cdn-widget-manager/2b70e893a8ba7c0f/manager.min.js"
                }
              }
            }
          }
        },
        {
          "output_type": "display_data",
          "data": {
            "text/plain": [
              "<IPython.core.display.HTML object>"
            ],
            "text/html": []
          },
          "metadata": {}
        }
      ]
    },
    {
      "cell_type": "code",
      "source": [
        "plot_model(naivebayes, \"confusion_matrix\")"
      ],
      "metadata": {
        "colab": {
          "base_uri": "https://localhost:8080/",
          "height": 551
        },
        "id": "AxsmOFl5ULUb",
        "outputId": "bb870482-8727-4bca-f7ab-b65b469fdce7"
      },
      "execution_count": 83,
      "outputs": [
        {
          "output_type": "display_data",
          "data": {
            "text/plain": [
              "<IPython.core.display.HTML object>"
            ],
            "text/html": []
          },
          "metadata": {}
        },
        {
          "output_type": "display_data",
          "data": {
            "text/plain": [
              "<Figure size 800x550 with 1 Axes>"
            ],
            "image/png": "[encoded data removed]"
          },
          "metadata": {}
        }
      ]
    },
    {
      "cell_type": "code",
      "source": [
        "tune_naivebayes = tune_model(naivebayes)"
      ],
      "metadata": {
        "colab": {
          "base_uri": "https://localhost:8080/",
          "height": 512,
          "referenced_widgets": [
            "72b39db3d10a435db87d29a685790c7e",
            "b71c0acfe3ca4e7f8e338b1aa7502ffd",
            "31b63ec0128346bbbc29a77fa90f9555",
            "0bdbdc8032ec48cab74bf9b82adba033",
            "9427db9ddd2344aa95893352c2f9f491",
            "ffe5357a54704121afc0ceea1a08e612",
            "009ae600bb62484fbcbf1afab0f5f897",
            "76ae7fd2686342fdb355adbbf7ccc4f7",
            "471667c8b3f84461b487eb8ad6c5a0a1",
            "25719ac6f69b4d2a90e2058732fe7ab4",
            "234ba5b2b7074c35949ef06924f8824d"
          ]
        },
        "id": "A2_8n_38U_TD",
        "outputId": "401a16bf-66a2-4c11-98ec-e4fd93075b0e"
      },
      "execution_count": 84,
      "outputs": [
        {
          "output_type": "display_data",
          "data": {
            "text/plain": [
              "<IPython.core.display.HTML object>"
            ],
            "text/html": []
          },
          "metadata": {}
        },
        {
          "output_type": "display_data",
          "data": {
            "text/plain": [
              "<pandas.io.formats.style.Styler at 0x7d9204dbf130>"
            ],
            "text/html": [
              "<style type=\"text/css\">\n",
              "#T_11bcc_row10_col0, #T_11bcc_row10_col1, #T_11bcc_row10_col2, #T_11bcc_row10_col3, #T_11bcc_row10_col4, #T_11bcc_row10_col5, #T_11bcc_row10_col6 {\n",
              "  background: yellow;\n",
              "}\n",
              "</style>\n",
              "<table id=\"T_11bcc\" class=\"dataframe\">\n",
              "  <thead>\n",
              "    <tr>\n",
              "      <th class=\"blank level0\" >&nbsp;</th>\n",
              "      <th id=\"T_11bcc_level0_col0\" class=\"col_heading level0 col0\" >Accuracy</th>\n",
              "      <th id=\"T_11bcc_level0_col1\" class=\"col_heading level0 col1\" >AUC</th>\n",
              "      <th id=\"T_11bcc_level0_col2\" class=\"col_heading level0 col2\" >Recall</th>\n",
              "      <th id=\"T_11bcc_level0_col3\" class=\"col_heading level0 col3\" >Prec.</th>\n",
              "      <th id=\"T_11bcc_level0_col4\" class=\"col_heading level0 col4\" >F1</th>\n",
              "      <th id=\"T_11bcc_level0_col5\" class=\"col_heading level0 col5\" >Kappa</th>\n",
              "      <th id=\"T_11bcc_level0_col6\" class=\"col_heading level0 col6\" >MCC</th>\n",
              "    </tr>\n",
              "    <tr>\n",
              "      <th class=\"index_name level0\" >Fold</th>\n",
              "      <th class=\"blank col0\" >&nbsp;</th>\n",
              "      <th class=\"blank col1\" >&nbsp;</th>\n",
              "      <th class=\"blank col2\" >&nbsp;</th>\n",
              "      <th class=\"blank col3\" >&nbsp;</th>\n",
              "      <th class=\"blank col4\" >&nbsp;</th>\n",
              "      <th class=\"blank col5\" >&nbsp;</th>\n",
              "      <th class=\"blank col6\" >&nbsp;</th>\n",
              "    </tr>\n",
              "  </thead>\n",
              "  <tbody>\n",
              "    <tr>\n",
              "      <th id=\"T_11bcc_level0_row0\" class=\"row_heading level0 row0\" >0</th>\n",
              "      <td id=\"T_11bcc_row0_col0\" class=\"data row0 col0\" >1.0000</td>\n",
              "      <td id=\"T_11bcc_row0_col1\" class=\"data row0 col1\" >1.0000</td>\n",
              "      <td id=\"T_11bcc_row0_col2\" class=\"data row0 col2\" >1.0000</td>\n",
              "      <td id=\"T_11bcc_row0_col3\" class=\"data row0 col3\" >1.0000</td>\n",
              "      <td id=\"T_11bcc_row0_col4\" class=\"data row0 col4\" >1.0000</td>\n",
              "      <td id=\"T_11bcc_row0_col5\" class=\"data row0 col5\" >1.0000</td>\n",
              "      <td id=\"T_11bcc_row0_col6\" class=\"data row0 col6\" >1.0000</td>\n",
              "    </tr>\n",
              "    <tr>\n",
              "      <th id=\"T_11bcc_level0_row1\" class=\"row_heading level0 row1\" >1</th>\n",
              "      <td id=\"T_11bcc_row1_col0\" class=\"data row1 col0\" >1.0000</td>\n",
              "      <td id=\"T_11bcc_row1_col1\" class=\"data row1 col1\" >1.0000</td>\n",
              "      <td id=\"T_11bcc_row1_col2\" class=\"data row1 col2\" >1.0000</td>\n",
              "      <td id=\"T_11bcc_row1_col3\" class=\"data row1 col3\" >1.0000</td>\n",
              "      <td id=\"T_11bcc_row1_col4\" class=\"data row1 col4\" >1.0000</td>\n",
              "      <td id=\"T_11bcc_row1_col5\" class=\"data row1 col5\" >1.0000</td>\n",
              "      <td id=\"T_11bcc_row1_col6\" class=\"data row1 col6\" >1.0000</td>\n",
              "    </tr>\n",
              "    <tr>\n",
              "      <th id=\"T_11bcc_level0_row2\" class=\"row_heading level0 row2\" >2</th>\n",
              "      <td id=\"T_11bcc_row2_col0\" class=\"data row2 col0\" >1.0000</td>\n",
              "      <td id=\"T_11bcc_row2_col1\" class=\"data row2 col1\" >1.0000</td>\n",
              "      <td id=\"T_11bcc_row2_col2\" class=\"data row2 col2\" >1.0000</td>\n",
              "      <td id=\"T_11bcc_row2_col3\" class=\"data row2 col3\" >1.0000</td>\n",
              "      <td id=\"T_11bcc_row2_col4\" class=\"data row2 col4\" >1.0000</td>\n",
              "      <td id=\"T_11bcc_row2_col5\" class=\"data row2 col5\" >1.0000</td>\n",
              "      <td id=\"T_11bcc_row2_col6\" class=\"data row2 col6\" >1.0000</td>\n",
              "    </tr>\n",
              "    <tr>\n",
              "      <th id=\"T_11bcc_level0_row3\" class=\"row_heading level0 row3\" >3</th>\n",
              "      <td id=\"T_11bcc_row3_col0\" class=\"data row3 col0\" >1.0000</td>\n",
              "      <td id=\"T_11bcc_row3_col1\" class=\"data row3 col1\" >1.0000</td>\n",
              "      <td id=\"T_11bcc_row3_col2\" class=\"data row3 col2\" >1.0000</td>\n",
              "      <td id=\"T_11bcc_row3_col3\" class=\"data row3 col3\" >1.0000</td>\n",
              "      <td id=\"T_11bcc_row3_col4\" class=\"data row3 col4\" >1.0000</td>\n",
              "      <td id=\"T_11bcc_row3_col5\" class=\"data row3 col5\" >1.0000</td>\n",
              "      <td id=\"T_11bcc_row3_col6\" class=\"data row3 col6\" >1.0000</td>\n",
              "    </tr>\n",
              "    <tr>\n",
              "      <th id=\"T_11bcc_level0_row4\" class=\"row_heading level0 row4\" >4</th>\n",
              "      <td id=\"T_11bcc_row4_col0\" class=\"data row4 col0\" >1.0000</td>\n",
              "      <td id=\"T_11bcc_row4_col1\" class=\"data row4 col1\" >1.0000</td>\n",
              "      <td id=\"T_11bcc_row4_col2\" class=\"data row4 col2\" >1.0000</td>\n",
              "      <td id=\"T_11bcc_row4_col3\" class=\"data row4 col3\" >1.0000</td>\n",
              "      <td id=\"T_11bcc_row4_col4\" class=\"data row4 col4\" >1.0000</td>\n",
              "      <td id=\"T_11bcc_row4_col5\" class=\"data row4 col5\" >1.0000</td>\n",
              "      <td id=\"T_11bcc_row4_col6\" class=\"data row4 col6\" >1.0000</td>\n",
              "    </tr>\n",
              "    <tr>\n",
              "      <th id=\"T_11bcc_level0_row5\" class=\"row_heading level0 row5\" >5</th>\n",
              "      <td id=\"T_11bcc_row5_col0\" class=\"data row5 col0\" >1.0000</td>\n",
              "      <td id=\"T_11bcc_row5_col1\" class=\"data row5 col1\" >1.0000</td>\n",
              "      <td id=\"T_11bcc_row5_col2\" class=\"data row5 col2\" >1.0000</td>\n",
              "      <td id=\"T_11bcc_row5_col3\" class=\"data row5 col3\" >1.0000</td>\n",
              "      <td id=\"T_11bcc_row5_col4\" class=\"data row5 col4\" >1.0000</td>\n",
              "      <td id=\"T_11bcc_row5_col5\" class=\"data row5 col5\" >1.0000</td>\n",
              "      <td id=\"T_11bcc_row5_col6\" class=\"data row5 col6\" >1.0000</td>\n",
              "    </tr>\n",
              "    <tr>\n",
              "      <th id=\"T_11bcc_level0_row6\" class=\"row_heading level0 row6\" >6</th>\n",
              "      <td id=\"T_11bcc_row6_col0\" class=\"data row6 col0\" >1.0000</td>\n",
              "      <td id=\"T_11bcc_row6_col1\" class=\"data row6 col1\" >1.0000</td>\n",
              "      <td id=\"T_11bcc_row6_col2\" class=\"data row6 col2\" >1.0000</td>\n",
              "      <td id=\"T_11bcc_row6_col3\" class=\"data row6 col3\" >1.0000</td>\n",
              "      <td id=\"T_11bcc_row6_col4\" class=\"data row6 col4\" >1.0000</td>\n",
              "      <td id=\"T_11bcc_row6_col5\" class=\"data row6 col5\" >1.0000</td>\n",
              "      <td id=\"T_11bcc_row6_col6\" class=\"data row6 col6\" >1.0000</td>\n",
              "    </tr>\n",
              "    <tr>\n",
              "      <th id=\"T_11bcc_level0_row7\" class=\"row_heading level0 row7\" >7</th>\n",
              "      <td id=\"T_11bcc_row7_col0\" class=\"data row7 col0\" >1.0000</td>\n",
              "      <td id=\"T_11bcc_row7_col1\" class=\"data row7 col1\" >1.0000</td>\n",
              "      <td id=\"T_11bcc_row7_col2\" class=\"data row7 col2\" >1.0000</td>\n",
              "      <td id=\"T_11bcc_row7_col3\" class=\"data row7 col3\" >1.0000</td>\n",
              "      <td id=\"T_11bcc_row7_col4\" class=\"data row7 col4\" >1.0000</td>\n",
              "      <td id=\"T_11bcc_row7_col5\" class=\"data row7 col5\" >1.0000</td>\n",
              "      <td id=\"T_11bcc_row7_col6\" class=\"data row7 col6\" >1.0000</td>\n",
              "    </tr>\n",
              "    <tr>\n",
              "      <th id=\"T_11bcc_level0_row8\" class=\"row_heading level0 row8\" >8</th>\n",
              "      <td id=\"T_11bcc_row8_col0\" class=\"data row8 col0\" >1.0000</td>\n",
              "      <td id=\"T_11bcc_row8_col1\" class=\"data row8 col1\" >1.0000</td>\n",
              "      <td id=\"T_11bcc_row8_col2\" class=\"data row8 col2\" >1.0000</td>\n",
              "      <td id=\"T_11bcc_row8_col3\" class=\"data row8 col3\" >1.0000</td>\n",
              "      <td id=\"T_11bcc_row8_col4\" class=\"data row8 col4\" >1.0000</td>\n",
              "      <td id=\"T_11bcc_row8_col5\" class=\"data row8 col5\" >1.0000</td>\n",
              "      <td id=\"T_11bcc_row8_col6\" class=\"data row8 col6\" >1.0000</td>\n",
              "    </tr>\n",
              "    <tr>\n",
              "      <th id=\"T_11bcc_level0_row9\" class=\"row_heading level0 row9\" >9</th>\n",
              "      <td id=\"T_11bcc_row9_col0\" class=\"data row9 col0\" >1.0000</td>\n",
              "      <td id=\"T_11bcc_row9_col1\" class=\"data row9 col1\" >1.0000</td>\n",
              "      <td id=\"T_11bcc_row9_col2\" class=\"data row9 col2\" >1.0000</td>\n",
              "      <td id=\"T_11bcc_row9_col3\" class=\"data row9 col3\" >1.0000</td>\n",
              "      <td id=\"T_11bcc_row9_col4\" class=\"data row9 col4\" >1.0000</td>\n",
              "      <td id=\"T_11bcc_row9_col5\" class=\"data row9 col5\" >1.0000</td>\n",
              "      <td id=\"T_11bcc_row9_col6\" class=\"data row9 col6\" >1.0000</td>\n",
              "    </tr>\n",
              "    <tr>\n",
              "      <th id=\"T_11bcc_level0_row10\" class=\"row_heading level0 row10\" >Mean</th>\n",
              "      <td id=\"T_11bcc_row10_col0\" class=\"data row10 col0\" >1.0000</td>\n",
              "      <td id=\"T_11bcc_row10_col1\" class=\"data row10 col1\" >1.0000</td>\n",
              "      <td id=\"T_11bcc_row10_col2\" class=\"data row10 col2\" >1.0000</td>\n",
              "      <td id=\"T_11bcc_row10_col3\" class=\"data row10 col3\" >1.0000</td>\n",
              "      <td id=\"T_11bcc_row10_col4\" class=\"data row10 col4\" >1.0000</td>\n",
              "      <td id=\"T_11bcc_row10_col5\" class=\"data row10 col5\" >1.0000</td>\n",
              "      <td id=\"T_11bcc_row10_col6\" class=\"data row10 col6\" >1.0000</td>\n",
              "    </tr>\n",
              "    <tr>\n",
              "      <th id=\"T_11bcc_level0_row11\" class=\"row_heading level0 row11\" >Std</th>\n",
              "      <td id=\"T_11bcc_row11_col0\" class=\"data row11 col0\" >0.0000</td>\n",
              "      <td id=\"T_11bcc_row11_col1\" class=\"data row11 col1\" >0.0000</td>\n",
              "      <td id=\"T_11bcc_row11_col2\" class=\"data row11 col2\" >0.0000</td>\n",
              "      <td id=\"T_11bcc_row11_col3\" class=\"data row11 col3\" >0.0000</td>\n",
              "      <td id=\"T_11bcc_row11_col4\" class=\"data row11 col4\" >0.0000</td>\n",
              "      <td id=\"T_11bcc_row11_col5\" class=\"data row11 col5\" >0.0000</td>\n",
              "      <td id=\"T_11bcc_row11_col6\" class=\"data row11 col6\" >0.0000</td>\n",
              "    </tr>\n",
              "  </tbody>\n",
              "</table>\n"
            ]
          },
          "metadata": {}
        },
        {
          "output_type": "display_data",
          "data": {
            "text/plain": [
              "Processing:   0%|          | 0/7 [00:00<?, ?it/s]"
            ],
            "application/vnd.jupyter.widget-view+json": {
              "version_major": 2,
              "version_minor": 0,
              "model_id": "72b39db3d10a435db87d29a685790c7e"
            }
          },
          "metadata": {
            "application/vnd.jupyter.widget-view+json": {
              "colab": {
                "custom_widget_manager": {
                  "url": "https://ssl.gstatic.com/colaboratory-static/widgets/colab-cdn-widget-manager/2b70e893a8ba7c0f/manager.min.js"
                }
              }
            }
          }
        },
        {
          "output_type": "stream",
          "name": "stdout",
          "text": [
            "Fitting 10 folds for each of 10 candidates, totalling 100 fits\n"
          ]
        },
        {
          "output_type": "display_data",
          "data": {
            "text/plain": [
              "<IPython.core.display.HTML object>"
            ],
            "text/html": []
          },
          "metadata": {}
        },
        {
          "output_type": "stream",
          "name": "stdout",
          "text": [
            "Original model was better than the tuned model, hence it will be returned. NOTE: The display metrics are for the tuned model (not the original one).\n"
          ]
        }
      ]
    },
    {
      "cell_type": "code",
      "source": [
        "print(tune_naivebayes)"
      ],
      "metadata": {
        "colab": {
          "base_uri": "https://localhost:8080/"
        },
        "id": "J2WyhKBcVGFA",
        "outputId": "c7b22a94-a6df-4eb3-a141-db6700a44d42"
      },
      "execution_count": 85,
      "outputs": [
        {
          "output_type": "stream",
          "name": "stdout",
          "text": [
            "GaussianNB(priors=None, var_smoothing=1e-09)\n"
          ]
        }
      ]
    },
    {
      "cell_type": "code",
      "source": [
        "plot_model(tune_naivebayes)"
      ],
      "metadata": {
        "colab": {
          "base_uri": "https://localhost:8080/",
          "height": 524
        },
        "id": "QxJrjdRZVN4R",
        "outputId": "103ec9bc-b632-42d1-8c97-fa353b8c52b5"
      },
      "execution_count": 86,
      "outputs": [
        {
          "output_type": "display_data",
          "data": {
            "text/plain": [
              "<IPython.core.display.HTML object>"
            ],
            "text/html": []
          },
          "metadata": {}
        },
        {
          "output_type": "display_data",
          "data": {
            "text/plain": [
              "<Figure size 800x550 with 1 Axes>"
            ],
            "image/png": "[encoded data removed]"
          },
          "metadata": {}
        }
      ]
    },
    {
      "cell_type": "code",
      "source": [
        "#predict_model(tune_naivebayes)\n",
        "final_tune_naivebayes = finalize_model(tune_naivebayes)\n",
        "print(final_tune_naivebayes)"
      ],
      "metadata": {
        "colab": {
          "base_uri": "https://localhost:8080/"
        },
        "id": "A17XApeJVS1N",
        "outputId": "6b3f7501-f664-4907-d6eb-9bc0ff4f64dd"
      },
      "execution_count": 88,
      "outputs": [
        {
          "output_type": "stream",
          "name": "stdout",
          "text": [
            "Pipeline(memory=Memory(location=None),\n",
            "         steps=[('label_encoding',\n",
            "                 TransformerWrapperWithInverse(exclude=None, include=None,\n",
            "                                               transformer=LabelEncoder())),\n",
            "                ('numerical_imputer',\n",
            "                 TransformerWrapper(exclude=None,\n",
            "                                    include=['id', 'lte_5g_category', 'time',\n",
            "                                             'packet_loss_rate', 'packet_delay',\n",
            "                                             'io_t', 'lte_5g', 'gbr', 'non_gbr',\n",
            "                                             'ar_vr_gaming', 'healthcare',\n",
            "                                             'industry_4_0', '...\n",
            "                                                              strategy='mean',\n",
            "                                                              verbose='deprecated'))),\n",
            "                ('categorical_imputer',\n",
            "                 TransformerWrapper(exclude=None, include=[],\n",
            "                                    transformer=SimpleImputer(add_indicator=False,\n",
            "                                                              copy=True,\n",
            "                                                              fill_value=None,\n",
            "                                                              keep_empty_features=False,\n",
            "                                                              missing_values=nan,\n",
            "                                                              strategy='most_frequent',\n",
            "                                                              verbose='deprecated'))),\n",
            "                ('actual_estimator',\n",
            "                 GaussianNB(priors=None, var_smoothing=1e-09))],\n",
            "         verbose=False)\n"
          ]
        }
      ]
    },
    {
      "cell_type": "code",
      "source": [
        "y_pred = final_tune_naivebayes.predict(x_test)"
      ],
      "metadata": {
        "id": "j09loZMzVhbm"
      },
      "execution_count": 90,
      "outputs": []
    },
    {
      "cell_type": "code",
      "source": [
        "y_pred = pd.DataFrame(y_pred)"
      ],
      "metadata": {
        "id": "tMywUs4iVrQT"
      },
      "execution_count": 94,
      "outputs": []
    },
    {
      "cell_type": "code",
      "source": [
        "y_pred.shape"
      ],
      "metadata": {
        "colab": {
          "base_uri": "https://localhost:8080/"
        },
        "id": "Cm0V0p2ZVs3y",
        "outputId": "fdc8742f-428d-4a9e-be5f-ba72c99c6a35"
      },
      "execution_count": 96,
      "outputs": [
        {
          "output_type": "execute_result",
          "data": {
            "text/plain": [
              "(31584, 1)"
            ]
          },
          "metadata": {},
          "execution_count": 96
        }
      ]
    },
    {
      "cell_type": "code",
      "source": [
        "test_dataset.shape"
      ],
      "metadata": {
        "colab": {
          "base_uri": "https://localhost:8080/"
        },
        "id": "VwWmlL0xXT6y",
        "outputId": "296ff1a7-bbb6-46df-8d75-e2369d421f77"
      },
      "execution_count": 97,
      "outputs": [
        {
          "output_type": "execute_result",
          "data": {
            "text/plain": [
              "(31584, 18)"
            ]
          },
          "metadata": {},
          "execution_count": 97
        }
      ]
    },
    {
      "cell_type": "code",
      "source": [
        "save_model(final_tune_naivebayes,'Final_RF_Model_08Feb2020')"
      ],
      "metadata": {
        "colab": {
          "base_uri": "https://localhost:8080/"
        },
        "id": "NALH_1blXZLI",
        "outputId": "27a7ad72-f97a-4c93-9da2-b72fe797915e"
      },
      "execution_count": 99,
      "outputs": [
        {
          "output_type": "stream",
          "name": "stdout",
          "text": [
            "Transformation Pipeline and Model Successfully Saved\n"
          ]
        },
        {
          "output_type": "execute_result",
          "data": {
            "text/plain": [
              "(Pipeline(memory=Memory(location=None),\n",
              "          steps=[('label_encoding',\n",
              "                  TransformerWrapperWithInverse(exclude=None, include=None,\n",
              "                                                transformer=LabelEncoder())),\n",
              "                 ('numerical_imputer',\n",
              "                  TransformerWrapper(exclude=None,\n",
              "                                     include=['id', 'lte_5g_category', 'time',\n",
              "                                              'packet_loss_rate', 'packet_delay',\n",
              "                                              'io_t', 'lte_5g', 'gbr', 'non_gbr',\n",
              "                                              'ar_vr_gaming', 'healthcare',\n",
              "                                              'industry_4_0', '...\n",
              "                                                               strategy='mean',\n",
              "                                                               verbose='deprecated'))),\n",
              "                 ('categorical_imputer',\n",
              "                  TransformerWrapper(exclude=None, include=[],\n",
              "                                     transformer=SimpleImputer(add_indicator=False,\n",
              "                                                               copy=True,\n",
              "                                                               fill_value=None,\n",
              "                                                               keep_empty_features=False,\n",
              "                                                               missing_values=nan,\n",
              "                                                               strategy='most_frequent',\n",
              "                                                               verbose='deprecated'))),\n",
              "                 ('actual_estimator',\n",
              "                  GaussianNB(priors=None, var_smoothing=1e-09))],\n",
              "          verbose=False),\n",
              " 'Final_RF_Model_08Feb2020.pkl')"
            ]
          },
          "metadata": {},
          "execution_count": 99
        }
      ]
    },
    {
      "cell_type": "code",
      "source": [
        "from sklearn.metrics import classification_report\n",
        "from sklearn.metrics import class_likelihood_ratios"
      ],
      "metadata": {
        "id": "i41bfTnCXswU"
      },
      "execution_count": 100,
      "outputs": []
    },
    {
      "cell_type": "code",
      "source": [
        "y_pred.value_counts()"
      ],
      "metadata": {
        "colab": {
          "base_uri": "https://localhost:8080/"
        },
        "id": "F60wHqoFX6DT",
        "outputId": "7e489e69-3f3b-4217-b7c3-ef9a698a57d7"
      },
      "execution_count": 102,
      "outputs": [
        {
          "output_type": "execute_result",
          "data": {
            "text/plain": [
              "slice_type\n",
              "1             16800\n",
              "2              7392\n",
              "3              7392\n",
              "dtype: int64"
            ]
          },
          "metadata": {},
          "execution_count": 102
        }
      ]
    },
    {
      "cell_type": "code",
      "source": [],
      "metadata": {
        "id": "ILMREjneX86i"
      },
      "execution_count": null,
      "outputs": []
    }
  ]
}