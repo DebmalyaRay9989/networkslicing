{
  "nbformat": 4,
  "nbformat_minor": 0,
  "metadata": {
    "colab": {
      "provenance": []
    },
    "kernelspec": {
      "name": "python3",
      "display_name": "Python 3"
    },
    "language_info": {
      "name": "python"
    }
  },
  "cells": [
    {
      "cell_type": "code",
      "execution_count": 1,
      "metadata": {
        "id": "7hcWKgmgTeK7"
      },
      "outputs": [],
      "source": [
        "### Network Slicing Recognition"
      ]
    },
    {
      "cell_type": "markdown",
      "source": [
        "The telecom industry is going through a massive digital transformation with the adoption of ML, AI, feedback-based automation and advanced analytics to handle the next generation applications and services. AI concepts are not new; the algorithms used by Machine Learning and Deep Learning are being currently implemented in various industries and technology verticals. With growing data and immense volume <br>\n",
        "\n",
        "of information over 5G, the ability to predict data proactively, swiftly and with accuracy, is critically important. Data-driven decision making will be vital in future communication networks due to the traffic explosion and Artificial Intelligence (AI) will accelerate the 5G network performance. <br>\n",
        "\n",
        "Mobile operators are looking for a programmable solution that will allow them to accommodate multiple independent tenants on the same physical infrastructure and 5G networks allow for end-to-end network resource allocation using the concept of Network Slicing (NS). <br>\n",
        "\n",
        "Network Slicing will play a vital role in enabling a multitude of 5G applications, use cases, and services. Network slicing functions will provide an end-to-end isolation between slices with an ability to customize each slice based on the service demands (bandwidth, coverage, security, latency, reliability, etc). <br>\n",
        "\n",
        "Your Task is to build a Machine Learning model that will be able to to proactively detect and eliminate threats based on incoming connections thereby selecting the most appropriate network slice, even in case of a network failure. <br>"
      ],
      "metadata": {
        "id": "p1GAeWkIUQWc"
      }
    },
    {
      "cell_type": "markdown",
      "source": [
        "**LTE/5g** - User Equipment categories or classes to define the performance specifications <br>\n",
        "**Packet Loss Rate** - number of packets not received divided by the total number of packets sent. <br>\n",
        "**Packet Delay** - The time for a packet to be received. <br>\n",
        "**Slice type** - network configuration that allows multiple networks (virtualized and independent) <br>\n",
        "**GBR** - Guaranteed Bit Rate <br>\n",
        "**Healthcare** - Usage in Healthcare (1 or 0) <br>\n",
        "**Industry 4.0** - Usage in Digital Enterprises(1 or 0) <br>\n",
        "**IoT Devices** - Usage <br>\n",
        "**Public Safety** - Usage for public welfare and safety purposes (1 or 0) <br>\n",
        "**Smart City & Home** - usage in daily household chores <br>\n",
        "**Smart Transportation** - usage in public transportation <br>\n",
        "**Smartphone** - whether used for smartphone cellular data <br>"
      ],
      "metadata": {
        "id": "t7OSYxM8URZc"
      }
    },
    {
      "cell_type": "code",
      "source": [
        "####! pip install neattext"
      ],
      "metadata": {
        "id": "XT1s0He2UeE2"
      },
      "execution_count": 2,
      "outputs": []
    },
    {
      "cell_type": "code",
      "source": [
        "import pandas as pd\n",
        "import numpy as np\n",
        "import neattext.functions as nfx\n",
        "import seaborn as sn\n",
        "\n",
        "from sklearn.feature_extraction.text import TfidfVectorizer,CountVectorizer\n",
        "from sklearn.metrics.pairwise import cosine_similarity,linear_kernel"
      ],
      "metadata": {
        "id": "fNNzCdYkVMIY"
      },
      "execution_count": 3,
      "outputs": []
    },
    {
      "cell_type": "code",
      "source": [
        "##! pip uninstall numpy\n",
        "###!pip install numpy==1.20"
      ],
      "metadata": {
        "id": "tRyj8XHlVPuM"
      },
      "execution_count": 4,
      "outputs": []
    },
    {
      "cell_type": "code",
      "source": [
        "###!mkdir ~/.kaggle"
      ],
      "metadata": {
        "id": "GI_S1frDT8GZ"
      },
      "execution_count": 5,
      "outputs": []
    },
    {
      "cell_type": "code",
      "source": [
        "###!cp /kaggle.json ~/.kaggle/"
      ],
      "metadata": {
        "id": "5URNOXrAT8KC"
      },
      "execution_count": 6,
      "outputs": []
    },
    {
      "cell_type": "code",
      "source": [
        "###!chmod 600 ~/.kaggle/kaggle.json"
      ],
      "metadata": {
        "id": "XZQZqjlMT8NN"
      },
      "execution_count": 7,
      "outputs": []
    },
    {
      "cell_type": "code",
      "source": [
        "###! pip install kaggle\n",
        "###!pip install keras-tuner"
      ],
      "metadata": {
        "id": "BhbKSGodT8QT"
      },
      "execution_count": 8,
      "outputs": []
    },
    {
      "cell_type": "code",
      "source": [
        "###!kaggle datasets download -d gauravduttakiit/network-slicing-recognition"
      ],
      "metadata": {
        "id": "hb6TeC5PWA03"
      },
      "execution_count": 9,
      "outputs": []
    },
    {
      "cell_type": "code",
      "source": [
        "###!unzip /content/network-slicing-recognition.zip"
      ],
      "metadata": {
        "id": "e66z12x8WBdi"
      },
      "execution_count": 10,
      "outputs": []
    },
    {
      "cell_type": "code",
      "source": [
        "train_dataset = pd.read_csv(\"/content/train_dataset.csv\")\n",
        "test_dataset = pd.read_csv(\"/content/test_dataset.csv\")"
      ],
      "metadata": {
        "id": "aRh2T8G9WE5F"
      },
      "execution_count": 11,
      "outputs": []
    },
    {
      "cell_type": "code",
      "source": [
        "print(train_dataset.shape, test_dataset.shape)"
      ],
      "metadata": {
        "colab": {
          "base_uri": "https://localhost:8080/"
        },
        "id": "Ll7O2jCCWboq",
        "outputId": "34652f1f-2809-45b1-aad1-30330619d0a9"
      },
      "execution_count": 12,
      "outputs": [
        {
          "output_type": "stream",
          "name": "stdout",
          "text": [
            "(31583, 17) (31584, 16)\n"
          ]
        }
      ]
    },
    {
      "cell_type": "code",
      "source": [
        "test_dataset['slice Type'] = 0"
      ],
      "metadata": {
        "id": "NLJldXjgWenJ"
      },
      "execution_count": 13,
      "outputs": []
    },
    {
      "cell_type": "code",
      "source": [
        "train_dataset = train_dataset.reset_index()\n",
        "test_dataset = test_dataset.reset_index()\n",
        "train_dataset.rename(columns = { \"index\" : \"ID\"}, inplace = True)\n",
        "test_dataset.rename(columns = { \"index\" : \"ID\"}, inplace = True)"
      ],
      "metadata": {
        "id": "UvPHKFytWhLf"
      },
      "execution_count": 14,
      "outputs": []
    },
    {
      "cell_type": "code",
      "source": [
        "train_dataset['slice Type'].value_counts()"
      ],
      "metadata": {
        "colab": {
          "base_uri": "https://localhost:8080/"
        },
        "id": "IEj7QkKbWkjP",
        "outputId": "edcb34f8-8867-4a87-da92-436b830a4dfc"
      },
      "execution_count": 15,
      "outputs": [
        {
          "output_type": "execute_result",
          "data": {
            "text/plain": [
              "1    16799\n",
              "3     7392\n",
              "2     7392\n",
              "Name: slice Type, dtype: int64"
            ]
          },
          "metadata": {},
          "execution_count": 15
        }
      ]
    },
    {
      "cell_type": "code",
      "source": [
        "from matplotlib_venn import venn2, venn2_circles, venn2_unweighted\n",
        "from matplotlib_venn import venn3, venn3_circles"
      ],
      "metadata": {
        "id": "e78eu09uWnpK"
      },
      "execution_count": 16,
      "outputs": []
    },
    {
      "cell_type": "code",
      "source": [
        "set_numbers_train = set(train_dataset[['ID']].drop_duplicates().sort_values(by = 'ID')['ID'].tolist())\n",
        "set_numbers_test = set(test_dataset[['ID']].drop_duplicates().sort_values(by = 'ID')['ID'].tolist())\n",
        "venn2((set_numbers_train, set_numbers_test), set_labels = ('Train numbers', 'Test numbers'))"
      ],
      "metadata": {
        "colab": {
          "base_uri": "https://localhost:8080/",
          "height": 429
        },
        "id": "d1RRchqWWqw6",
        "outputId": "52fad2d5-7643-46fb-e58b-b146c8533270"
      },
      "execution_count": 17,
      "outputs": [
        {
          "output_type": "execute_result",
          "data": {
            "text/plain": [
              "<matplotlib_venn._common.VennDiagram at 0x7eb4ad440700>"
            ]
          },
          "metadata": {},
          "execution_count": 17
        },
        {
          "output_type": "display_data",
          "data": {
            "text/plain": [
              "<Figure size 640x480 with 1 Axes>"
            ],
            "image/png": "[encoded data removed]"
          },
          "metadata": {}
        }
      ]
    },
    {
      "cell_type": "code",
      "source": [
        "train_dataset.columns"
      ],
      "metadata": {
        "colab": {
          "base_uri": "https://localhost:8080/"
        },
        "id": "qgW8X1SIWsrm",
        "outputId": "556ab7e8-c99d-4f3c-b1bf-923cfae0e0fe"
      },
      "execution_count": 18,
      "outputs": [
        {
          "output_type": "execute_result",
          "data": {
            "text/plain": [
              "Index(['ID', 'LTE/5g Category', 'Time', 'Packet Loss Rate', 'Packet delay',\n",
              "       'IoT', 'LTE/5G', 'GBR', 'Non-GBR', 'AR/VR/Gaming', 'Healthcare',\n",
              "       'Industry 4.0', 'IoT Devices', 'Public Safety', 'Smart City & Home',\n",
              "       'Smart Transportation', 'Smartphone', 'slice Type'],\n",
              "      dtype='object')"
            ]
          },
          "metadata": {},
          "execution_count": 18
        }
      ]
    },
    {
      "cell_type": "code",
      "source": [
        "###! pip install klib"
      ],
      "metadata": {
        "id": "m8IATYiLWwYC"
      },
      "execution_count": 19,
      "outputs": []
    },
    {
      "cell_type": "code",
      "source": [
        "###!pip install keras-tuner"
      ],
      "metadata": {
        "id": "vRngiln2W5-V"
      },
      "execution_count": 20,
      "outputs": []
    },
    {
      "cell_type": "code",
      "source": [
        "import klib"
      ],
      "metadata": {
        "id": "kZpcxSZdW9sa"
      },
      "execution_count": 21,
      "outputs": []
    },
    {
      "cell_type": "code",
      "source": [
        "train_dataset = klib.clean_column_names(train_dataset)\n",
        "test_dataset = klib.clean_column_names(test_dataset)"
      ],
      "metadata": {
        "id": "ObCfFGPmW93e"
      },
      "execution_count": 22,
      "outputs": []
    },
    {
      "cell_type": "code",
      "source": [
        "train_dataset = klib.convert_datatypes(train_dataset)\n",
        "test_dataset = klib.convert_datatypes(test_dataset)"
      ],
      "metadata": {
        "id": "oAUXEZnkW-B3"
      },
      "execution_count": 23,
      "outputs": []
    },
    {
      "cell_type": "code",
      "source": [
        "train_dataset.columns"
      ],
      "metadata": {
        "colab": {
          "base_uri": "https://localhost:8080/"
        },
        "id": "HeXijs94XYDa",
        "outputId": "5c2b4e9f-45b8-4327-f713-56a55b39b2b6"
      },
      "execution_count": 24,
      "outputs": [
        {
          "output_type": "execute_result",
          "data": {
            "text/plain": [
              "Index(['id', 'lte_5g_category', 'time', 'packet_loss_rate', 'packet_delay',\n",
              "       'io_t', 'lte_5g', 'gbr', 'non_gbr', 'ar_vr_gaming', 'healthcare',\n",
              "       'industry_4_0', 'io_t_devices', 'public_safety', 'smart_city_and_home',\n",
              "       'smart_transportation', 'smartphone', 'slice_type'],\n",
              "      dtype='object')"
            ]
          },
          "metadata": {},
          "execution_count": 24
        }
      ]
    },
    {
      "cell_type": "markdown",
      "source": [
        "### Anomaly Detection Using One-Class SVM\n"
      ],
      "metadata": {
        "id": "cI43_eU7Xcsg"
      }
    },
    {
      "cell_type": "code",
      "source": [
        "from sklearn import svm"
      ],
      "metadata": {
        "id": "rCn7eSRVXZ30"
      },
      "execution_count": 25,
      "outputs": []
    },
    {
      "cell_type": "code",
      "source": [
        "clf = svm.OneClassSVM(nu=0.05, kernel=\"rbf\", gamma=0.1)\n",
        "clf.fit(train_dataset)"
      ],
      "metadata": {
        "colab": {
          "base_uri": "https://localhost:8080/",
          "height": 80
        },
        "id": "suCu89yuXfHQ",
        "outputId": "6ee93232-3a5c-4170-be05-65484d9a3a34"
      },
      "execution_count": 26,
      "outputs": [
        {
          "output_type": "execute_result",
          "data": {
            "text/plain": [
              "OneClassSVM(gamma=0.1, nu=0.05)"
            ],
            "text/html": [
              "<style>#sk-container-id-1 {\n",
              "  /* Definition of color scheme common for light and dark mode */\n",
              "  --sklearn-color-text: black;\n",
              "  --sklearn-color-line: gray;\n",
              "  /* Definition of color scheme for unfitted estimators */\n",
              "  --sklearn-color-unfitted-level-0: #fff5e6;\n",
              "  --sklearn-color-unfitted-level-1: #f6e4d2;\n",
              "  --sklearn-color-unfitted-level-2: #ffe0b3;\n",
              "  --sklearn-color-unfitted-level-3: chocolate;\n",
              "  /* Definition of color scheme for fitted estimators */\n",
              "  --sklearn-color-fitted-level-0: #f0f8ff;\n",
              "  --sklearn-color-fitted-level-1: #d4ebff;\n",
              "  --sklearn-color-fitted-level-2: #b3dbfd;\n",
              "  --sklearn-color-fitted-level-3: cornflowerblue;\n",
              "\n",
              "  /* Specific color for light theme */\n",
              "  --sklearn-color-text-on-default-background: var(--sg-text-color, var(--theme-code-foreground, var(--jp-content-font-color1, black)));\n",
              "  --sklearn-color-background: var(--sg-background-color, var(--theme-background, var(--jp-layout-color0, white)));\n",
              "  --sklearn-color-border-box: var(--sg-text-color, var(--theme-code-foreground, var(--jp-content-font-color1, black)));\n",
              "  --sklearn-color-icon: #696969;\n",
              "\n",
              "  @media (prefers-color-scheme: dark) {\n",
              "    /* Redefinition of color scheme for dark theme */\n",
              "    --sklearn-color-text-on-default-background: var(--sg-text-color, var(--theme-code-foreground, var(--jp-content-font-color1, white)));\n",
              "    --sklearn-color-background: var(--sg-background-color, var(--theme-background, var(--jp-layout-color0, #111)));\n",
              "    --sklearn-color-border-box: var(--sg-text-color, var(--theme-code-foreground, var(--jp-content-font-color1, white)));\n",
              "    --sklearn-color-icon: #878787;\n",
              "  }\n",
              "}\n",
              "\n",
              "#sk-container-id-1 {\n",
              "  color: var(--sklearn-color-text);\n",
              "}\n",
              "\n",
              "#sk-container-id-1 pre {\n",
              "  padding: 0;\n",
              "}\n",
              "\n",
              "#sk-container-id-1 input.sk-hidden--visually {\n",
              "  border: 0;\n",
              "  clip: rect(1px 1px 1px 1px);\n",
              "  clip: rect(1px, 1px, 1px, 1px);\n",
              "  height: 1px;\n",
              "  margin: -1px;\n",
              "  overflow: hidden;\n",
              "  padding: 0;\n",
              "  position: absolute;\n",
              "  width: 1px;\n",
              "}\n",
              "\n",
              "#sk-container-id-1 div.sk-dashed-wrapped {\n",
              "  border: 1px dashed var(--sklearn-color-line);\n",
              "  margin: 0 0.4em 0.5em 0.4em;\n",
              "  box-sizing: border-box;\n",
              "  padding-bottom: 0.4em;\n",
              "  background-color: var(--sklearn-color-background);\n",
              "}\n",
              "\n",
              "#sk-container-id-1 div.sk-container {\n",
              "  /* jupyter's `normalize.less` sets `[hidden] { display: none; }`\n",
              "     but bootstrap.min.css set `[hidden] { display: none !important; }`\n",
              "     so we also need the `!important` here to be able to override the\n",
              "     default hidden behavior on the sphinx rendered scikit-learn.org.\n",
              "     See: https://github.com/scikit-learn/scikit-learn/issues/21755 */\n",
              "  display: inline-block !important;\n",
              "  position: relative;\n",
              "}\n",
              "\n",
              "#sk-container-id-1 div.sk-text-repr-fallback {\n",
              "  display: none;\n",
              "}\n",
              "\n",
              "div.sk-parallel-item,\n",
              "div.sk-serial,\n",
              "div.sk-item {\n",
              "  /* draw centered vertical line to link estimators */\n",
              "  background-image: linear-gradient(var(--sklearn-color-text-on-default-background), var(--sklearn-color-text-on-default-background));\n",
              "  background-size: 2px 100%;\n",
              "  background-repeat: no-repeat;\n",
              "  background-position: center center;\n",
              "}\n",
              "\n",
              "/* Parallel-specific style estimator block */\n",
              "\n",
              "#sk-container-id-1 div.sk-parallel-item::after {\n",
              "  content: \"\";\n",
              "  width: 100%;\n",
              "  border-bottom: 2px solid var(--sklearn-color-text-on-default-background);\n",
              "  flex-grow: 1;\n",
              "}\n",
              "\n",
              "#sk-container-id-1 div.sk-parallel {\n",
              "  display: flex;\n",
              "  align-items: stretch;\n",
              "  justify-content: center;\n",
              "  background-color: var(--sklearn-color-background);\n",
              "  position: relative;\n",
              "}\n",
              "\n",
              "#sk-container-id-1 div.sk-parallel-item {\n",
              "  display: flex;\n",
              "  flex-direction: column;\n",
              "}\n",
              "\n",
              "#sk-container-id-1 div.sk-parallel-item:first-child::after {\n",
              "  align-self: flex-end;\n",
              "  width: 50%;\n",
              "}\n",
              "\n",
              "#sk-container-id-1 div.sk-parallel-item:last-child::after {\n",
              "  align-self: flex-start;\n",
              "  width: 50%;\n",
              "}\n",
              "\n",
              "#sk-container-id-1 div.sk-parallel-item:only-child::after {\n",
              "  width: 0;\n",
              "}\n",
              "\n",
              "/* Serial-specific style estimator block */\n",
              "\n",
              "#sk-container-id-1 div.sk-serial {\n",
              "  display: flex;\n",
              "  flex-direction: column;\n",
              "  align-items: center;\n",
              "  background-color: var(--sklearn-color-background);\n",
              "  padding-right: 1em;\n",
              "  padding-left: 1em;\n",
              "}\n",
              "\n",
              "\n",
              "/* Toggleable style: style used for estimator/Pipeline/ColumnTransformer box that is\n",
              "clickable and can be expanded/collapsed.\n",
              "- Pipeline and ColumnTransformer use this feature and define the default style\n",
              "- Estimators will overwrite some part of the style using the `sk-estimator` class\n",
              "*/\n",
              "\n",
              "/* Pipeline and ColumnTransformer style (default) */\n",
              "\n",
              "#sk-container-id-1 div.sk-toggleable {\n",
              "  /* Default theme specific background. It is overwritten whether we have a\n",
              "  specific estimator or a Pipeline/ColumnTransformer */\n",
              "  background-color: var(--sklearn-color-background);\n",
              "}\n",
              "\n",
              "/* Toggleable label */\n",
              "#sk-container-id-1 label.sk-toggleable__label {\n",
              "  cursor: pointer;\n",
              "  display: block;\n",
              "  width: 100%;\n",
              "  margin-bottom: 0;\n",
              "  padding: 0.5em;\n",
              "  box-sizing: border-box;\n",
              "  text-align: center;\n",
              "}\n",
              "\n",
              "#sk-container-id-1 label.sk-toggleable__label-arrow:before {\n",
              "  /* Arrow on the left of the label */\n",
              "  content: \"▸\";\n",
              "  float: left;\n",
              "  margin-right: 0.25em;\n",
              "  color: var(--sklearn-color-icon);\n",
              "}\n",
              "\n",
              "#sk-container-id-1 label.sk-toggleable__label-arrow:hover:before {\n",
              "  color: var(--sklearn-color-text);\n",
              "}\n",
              "\n",
              "/* Toggleable content - dropdown */\n",
              "\n",
              "#sk-container-id-1 div.sk-toggleable__content {\n",
              "  max-height: 0;\n",
              "  max-width: 0;\n",
              "  overflow: hidden;\n",
              "  text-align: left;\n",
              "  /* unfitted */\n",
              "  background-color: var(--sklearn-color-unfitted-level-0);\n",
              "}\n",
              "\n",
              "#sk-container-id-1 div.sk-toggleable__content.fitted {\n",
              "  /* fitted */\n",
              "  background-color: var(--sklearn-color-fitted-level-0);\n",
              "}\n",
              "\n",
              "#sk-container-id-1 div.sk-toggleable__content pre {\n",
              "  margin: 0.2em;\n",
              "  border-radius: 0.25em;\n",
              "  color: var(--sklearn-color-text);\n",
              "  /* unfitted */\n",
              "  background-color: var(--sklearn-color-unfitted-level-0);\n",
              "}\n",
              "\n",
              "#sk-container-id-1 div.sk-toggleable__content.fitted pre {\n",
              "  /* unfitted */\n",
              "  background-color: var(--sklearn-color-fitted-level-0);\n",
              "}\n",
              "\n",
              "#sk-container-id-1 input.sk-toggleable__control:checked~div.sk-toggleable__content {\n",
              "  /* Expand drop-down */\n",
              "  max-height: 200px;\n",
              "  max-width: 100%;\n",
              "  overflow: auto;\n",
              "}\n",
              "\n",
              "#sk-container-id-1 input.sk-toggleable__control:checked~label.sk-toggleable__label-arrow:before {\n",
              "  content: \"▾\";\n",
              "}\n",
              "\n",
              "/* Pipeline/ColumnTransformer-specific style */\n",
              "\n",
              "#sk-container-id-1 div.sk-label input.sk-toggleable__control:checked~label.sk-toggleable__label {\n",
              "  color: var(--sklearn-color-text);\n",
              "  background-color: var(--sklearn-color-unfitted-level-2);\n",
              "}\n",
              "\n",
              "#sk-container-id-1 div.sk-label.fitted input.sk-toggleable__control:checked~label.sk-toggleable__label {\n",
              "  background-color: var(--sklearn-color-fitted-level-2);\n",
              "}\n",
              "\n",
              "/* Estimator-specific style */\n",
              "\n",
              "/* Colorize estimator box */\n",
              "#sk-container-id-1 div.sk-estimator input.sk-toggleable__control:checked~label.sk-toggleable__label {\n",
              "  /* unfitted */\n",
              "  background-color: var(--sklearn-color-unfitted-level-2);\n",
              "}\n",
              "\n",
              "#sk-container-id-1 div.sk-estimator.fitted input.sk-toggleable__control:checked~label.sk-toggleable__label {\n",
              "  /* fitted */\n",
              "  background-color: var(--sklearn-color-fitted-level-2);\n",
              "}\n",
              "\n",
              "#sk-container-id-1 div.sk-label label.sk-toggleable__label,\n",
              "#sk-container-id-1 div.sk-label label {\n",
              "  /* The background is the default theme color */\n",
              "  color: var(--sklearn-color-text-on-default-background);\n",
              "}\n",
              "\n",
              "/* On hover, darken the color of the background */\n",
              "#sk-container-id-1 div.sk-label:hover label.sk-toggleable__label {\n",
              "  color: var(--sklearn-color-text);\n",
              "  background-color: var(--sklearn-color-unfitted-level-2);\n",
              "}\n",
              "\n",
              "/* Label box, darken color on hover, fitted */\n",
              "#sk-container-id-1 div.sk-label.fitted:hover label.sk-toggleable__label.fitted {\n",
              "  color: var(--sklearn-color-text);\n",
              "  background-color: var(--sklearn-color-fitted-level-2);\n",
              "}\n",
              "\n",
              "/* Estimator label */\n",
              "\n",
              "#sk-container-id-1 div.sk-label label {\n",
              "  font-family: monospace;\n",
              "  font-weight: bold;\n",
              "  display: inline-block;\n",
              "  line-height: 1.2em;\n",
              "}\n",
              "\n",
              "#sk-container-id-1 div.sk-label-container {\n",
              "  text-align: center;\n",
              "}\n",
              "\n",
              "/* Estimator-specific */\n",
              "#sk-container-id-1 div.sk-estimator {\n",
              "  font-family: monospace;\n",
              "  border: 1px dotted var(--sklearn-color-border-box);\n",
              "  border-radius: 0.25em;\n",
              "  box-sizing: border-box;\n",
              "  margin-bottom: 0.5em;\n",
              "  /* unfitted */\n",
              "  background-color: var(--sklearn-color-unfitted-level-0);\n",
              "}\n",
              "\n",
              "#sk-container-id-1 div.sk-estimator.fitted {\n",
              "  /* fitted */\n",
              "  background-color: var(--sklearn-color-fitted-level-0);\n",
              "}\n",
              "\n",
              "/* on hover */\n",
              "#sk-container-id-1 div.sk-estimator:hover {\n",
              "  /* unfitted */\n",
              "  background-color: var(--sklearn-color-unfitted-level-2);\n",
              "}\n",
              "\n",
              "#sk-container-id-1 div.sk-estimator.fitted:hover {\n",
              "  /* fitted */\n",
              "  background-color: var(--sklearn-color-fitted-level-2);\n",
              "}\n",
              "\n",
              "/* Specification for estimator info (e.g. \"i\" and \"?\") */\n",
              "\n",
              "/* Common style for \"i\" and \"?\" */\n",
              "\n",
              ".sk-estimator-doc-link,\n",
              "a:link.sk-estimator-doc-link,\n",
              "a:visited.sk-estimator-doc-link {\n",
              "  float: right;\n",
              "  font-size: smaller;\n",
              "  line-height: 1em;\n",
              "  font-family: monospace;\n",
              "  background-color: var(--sklearn-color-background);\n",
              "  border-radius: 1em;\n",
              "  height: 1em;\n",
              "  width: 1em;\n",
              "  text-decoration: none !important;\n",
              "  margin-left: 1ex;\n",
              "  /* unfitted */\n",
              "  border: var(--sklearn-color-unfitted-level-1) 1pt solid;\n",
              "  color: var(--sklearn-color-unfitted-level-1);\n",
              "}\n",
              "\n",
              ".sk-estimator-doc-link.fitted,\n",
              "a:link.sk-estimator-doc-link.fitted,\n",
              "a:visited.sk-estimator-doc-link.fitted {\n",
              "  /* fitted */\n",
              "  border: var(--sklearn-color-fitted-level-1) 1pt solid;\n",
              "  color: var(--sklearn-color-fitted-level-1);\n",
              "}\n",
              "\n",
              "/* On hover */\n",
              "div.sk-estimator:hover .sk-estimator-doc-link:hover,\n",
              ".sk-estimator-doc-link:hover,\n",
              "div.sk-label-container:hover .sk-estimator-doc-link:hover,\n",
              ".sk-estimator-doc-link:hover {\n",
              "  /* unfitted */\n",
              "  background-color: var(--sklearn-color-unfitted-level-3);\n",
              "  color: var(--sklearn-color-background);\n",
              "  text-decoration: none;\n",
              "}\n",
              "\n",
              "div.sk-estimator.fitted:hover .sk-estimator-doc-link.fitted:hover,\n",
              ".sk-estimator-doc-link.fitted:hover,\n",
              "div.sk-label-container:hover .sk-estimator-doc-link.fitted:hover,\n",
              ".sk-estimator-doc-link.fitted:hover {\n",
              "  /* fitted */\n",
              "  background-color: var(--sklearn-color-fitted-level-3);\n",
              "  color: var(--sklearn-color-background);\n",
              "  text-decoration: none;\n",
              "}\n",
              "\n",
              "/* Span, style for the box shown on hovering the info icon */\n",
              ".sk-estimator-doc-link span {\n",
              "  display: none;\n",
              "  z-index: 9999;\n",
              "  position: relative;\n",
              "  font-weight: normal;\n",
              "  right: .2ex;\n",
              "  padding: .5ex;\n",
              "  margin: .5ex;\n",
              "  width: min-content;\n",
              "  min-width: 20ex;\n",
              "  max-width: 50ex;\n",
              "  color: var(--sklearn-color-text);\n",
              "  box-shadow: 2pt 2pt 4pt #999;\n",
              "  /* unfitted */\n",
              "  background: var(--sklearn-color-unfitted-level-0);\n",
              "  border: .5pt solid var(--sklearn-color-unfitted-level-3);\n",
              "}\n",
              "\n",
              ".sk-estimator-doc-link.fitted span {\n",
              "  /* fitted */\n",
              "  background: var(--sklearn-color-fitted-level-0);\n",
              "  border: var(--sklearn-color-fitted-level-3);\n",
              "}\n",
              "\n",
              ".sk-estimator-doc-link:hover span {\n",
              "  display: block;\n",
              "}\n",
              "\n",
              "/* \"?\"-specific style due to the `<a>` HTML tag */\n",
              "\n",
              "#sk-container-id-1 a.estimator_doc_link {\n",
              "  float: right;\n",
              "  font-size: 1rem;\n",
              "  line-height: 1em;\n",
              "  font-family: monospace;\n",
              "  background-color: var(--sklearn-color-background);\n",
              "  border-radius: 1rem;\n",
              "  height: 1rem;\n",
              "  width: 1rem;\n",
              "  text-decoration: none;\n",
              "  /* unfitted */\n",
              "  color: var(--sklearn-color-unfitted-level-1);\n",
              "  border: var(--sklearn-color-unfitted-level-1) 1pt solid;\n",
              "}\n",
              "\n",
              "#sk-container-id-1 a.estimator_doc_link.fitted {\n",
              "  /* fitted */\n",
              "  border: var(--sklearn-color-fitted-level-1) 1pt solid;\n",
              "  color: var(--sklearn-color-fitted-level-1);\n",
              "}\n",
              "\n",
              "/* On hover */\n",
              "#sk-container-id-1 a.estimator_doc_link:hover {\n",
              "  /* unfitted */\n",
              "  background-color: var(--sklearn-color-unfitted-level-3);\n",
              "  color: var(--sklearn-color-background);\n",
              "  text-decoration: none;\n",
              "}\n",
              "\n",
              "#sk-container-id-1 a.estimator_doc_link.fitted:hover {\n",
              "  /* fitted */\n",
              "  background-color: var(--sklearn-color-fitted-level-3);\n",
              "}\n",
              "</style><div id=\"sk-container-id-1\" class=\"sk-top-container\"><div class=\"sk-text-repr-fallback\"><pre>OneClassSVM(gamma=0.1, nu=0.05)</pre><b>In a Jupyter environment, please rerun this cell to show the HTML representation or trust the notebook. <br />On GitHub, the HTML representation is unable to render, please try loading this page with nbviewer.org.</b></div><div class=\"sk-container\" hidden><div class=\"sk-item\"><div class=\"sk-estimator fitted sk-toggleable\"><input class=\"sk-toggleable__control sk-hidden--visually\" id=\"sk-estimator-id-1\" type=\"checkbox\" checked><label for=\"sk-estimator-id-1\" class=\"sk-toggleable__label fitted sk-toggleable__label-arrow fitted\">&nbsp;&nbsp;OneClassSVM<a class=\"sk-estimator-doc-link fitted\" rel=\"noreferrer\" target=\"_blank\" href=\"https://scikit-learn.org/1.4/modules/generated/sklearn.svm.OneClassSVM.html\">?<span>Documentation for OneClassSVM</span></a><span class=\"sk-estimator-doc-link fitted\">i<span>Fitted</span></span></label><div class=\"sk-toggleable__content fitted\"><pre>OneClassSVM(gamma=0.1, nu=0.05)</pre></div> </div></div></div></div>"
            ]
          },
          "metadata": {},
          "execution_count": 26
        }
      ]
    },
    {
      "cell_type": "code",
      "source": [
        "pred = clf.predict(train_dataset)\n",
        "\n",
        "# inliers are labeled 1, outliers are labeled -1\n",
        "normal = train_dataset[pred == 1]\n",
        "abnormal = train_dataset[pred == -1]"
      ],
      "metadata": {
        "id": "_gx2rYMsXgoj"
      },
      "execution_count": 27,
      "outputs": []
    },
    {
      "cell_type": "code",
      "source": [
        "print(normal.shape, abnormal.shape)"
      ],
      "metadata": {
        "colab": {
          "base_uri": "https://localhost:8080/"
        },
        "id": "m1xfsQ7JXv3-",
        "outputId": "a2766829-a4aa-4e52-b2d1-da1dbe41cdcd"
      },
      "execution_count": 28,
      "outputs": [
        {
          "output_type": "stream",
          "name": "stdout",
          "text": [
            "(18373, 18) (13210, 18)\n"
          ]
        }
      ]
    },
    {
      "cell_type": "code",
      "source": [
        "normal.columns"
      ],
      "metadata": {
        "colab": {
          "base_uri": "https://localhost:8080/"
        },
        "id": "9owKEfUxXwB2",
        "outputId": "dcc7564b-6201-4eda-8c13-0d8fd2c64908"
      },
      "execution_count": 29,
      "outputs": [
        {
          "output_type": "execute_result",
          "data": {
            "text/plain": [
              "Index(['id', 'lte_5g_category', 'time', 'packet_loss_rate', 'packet_delay',\n",
              "       'io_t', 'lte_5g', 'gbr', 'non_gbr', 'ar_vr_gaming', 'healthcare',\n",
              "       'industry_4_0', 'io_t_devices', 'public_safety', 'smart_city_and_home',\n",
              "       'smart_transportation', 'smartphone', 'slice_type'],\n",
              "      dtype='object')"
            ]
          },
          "metadata": {},
          "execution_count": 29
        }
      ]
    },
    {
      "cell_type": "code",
      "source": [
        "normal['slice_type'].value_counts()"
      ],
      "metadata": {
        "colab": {
          "base_uri": "https://localhost:8080/"
        },
        "id": "k2XfbcTMYBQr",
        "outputId": "cc47260e-4370-4a7b-f2fa-3b31f2ce060c"
      },
      "execution_count": 30,
      "outputs": [
        {
          "output_type": "execute_result",
          "data": {
            "text/plain": [
              "1    9839\n",
              "2    4294\n",
              "3    4240\n",
              "Name: slice_type, dtype: int64"
            ]
          },
          "metadata": {},
          "execution_count": 30
        }
      ]
    },
    {
      "cell_type": "code",
      "source": [
        "train_dataset = normal"
      ],
      "metadata": {
        "id": "Wt7PJwGPYBcu"
      },
      "execution_count": 31,
      "outputs": []
    },
    {
      "cell_type": "code",
      "source": [
        "print(train_dataset.shape)\n",
        "print(train_dataset.columns)"
      ],
      "metadata": {
        "colab": {
          "base_uri": "https://localhost:8080/"
        },
        "id": "fh4agMtkb4j5",
        "outputId": "e935763b-3963-428f-937f-abcdbe0547f4"
      },
      "execution_count": 32,
      "outputs": [
        {
          "output_type": "stream",
          "name": "stdout",
          "text": [
            "(18373, 18)\n",
            "Index(['id', 'lte_5g_category', 'time', 'packet_loss_rate', 'packet_delay',\n",
            "       'io_t', 'lte_5g', 'gbr', 'non_gbr', 'ar_vr_gaming', 'healthcare',\n",
            "       'industry_4_0', 'io_t_devices', 'public_safety', 'smart_city_and_home',\n",
            "       'smart_transportation', 'smartphone', 'slice_type'],\n",
            "      dtype='object')\n"
          ]
        }
      ]
    },
    {
      "cell_type": "code",
      "source": [
        "test_dataset['slice_type'] = 0"
      ],
      "metadata": {
        "id": "8X0lu_M5b8d6"
      },
      "execution_count": 33,
      "outputs": []
    },
    {
      "cell_type": "code",
      "source": [
        "klib.cat_plot(train_dataset)"
      ],
      "metadata": {
        "colab": {
          "base_uri": "https://localhost:8080/"
        },
        "id": "o_S_O-Fdb6Bv",
        "outputId": "757c9d98-beaf-4c77-cff4-9724a28e114b"
      },
      "execution_count": 34,
      "outputs": [
        {
          "output_type": "stream",
          "name": "stdout",
          "text": [
            "No columns with categorical data were detected.\n"
          ]
        }
      ]
    },
    {
      "cell_type": "code",
      "source": [
        "klib.corr_interactive_plot(train_dataset)"
      ],
      "metadata": {
        "colab": {
          "base_uri": "https://localhost:8080/",
          "height": 1000
        },
        "id": "TgK7LPQYd-Gd",
        "outputId": "c2c6a4d5-51d6-409a-84fe-4b4f9729d537"
      },
      "execution_count": 35,
      "outputs": [
        {
          "output_type": "display_data",
          "data": {
            "text/html": [
              "<html>\n",
              "<head><meta charset=\"utf-8\" /></head>\n",
              "<body>\n",
              "    <div>            <script src=\"https://cdnjs.cloudflare.com/ajax/libs/mathjax/2.7.5/MathJax.js?config=TeX-AMS-MML_SVG\"></script><script type=\"text/javascript\">if (window.MathJax && window.MathJax.Hub && window.MathJax.Hub.Config) {window.MathJax.Hub.Config({SVG: {font: \"STIX-Web\"}});}</script>                <script type=\"text/javascript\">window.PlotlyConfig = {MathJaxConfig: 'local'};</script>\n",
              "        <script charset=\"utf-8\" src=\"https://cdn.plot.ly/plotly-2.24.1.min.js\"></script>                <div id=\"38dc07a1-7f90-45c2-8f95-ee020e5b7501\" class=\"plotly-graph-div\" style=\"height:1056px; width:1152px;\"></div>            <script type=\"text/javascript\">                                    window.PLOTLYENV=window.PLOTLYENV || {};                                    if (document.getElementById(\"38dc07a1-7f90-45c2-8f95-ee020e5b7501\")) {                    Plotly.newPlot(                        \"38dc07a1-7f90-45c2-8f95-ee020e5b7501\",                        [{\"colorscale\":[[0.0,\"rgb(84,48,5)\"],[0.1,\"rgb(140,81,10)\"],[0.2,\"rgb(191,129,45)\"],[0.3,\"rgb(223,194,125)\"],[0.4,\"rgb(246,232,195)\"],[0.5,\"rgb(245,245,245)\"],[0.6,\"rgb(199,234,229)\"],[0.7,\"rgb(128,205,193)\"],[0.8,\"rgb(53,151,143)\"],[0.9,\"rgb(1,102,94)\"],[1.0,\"rgb(0,60,48)\"]],\"hoverongaps\":false,\"text\":[[\"\",-0.73,0.39,0.14,0.4,0.09,0.35,0.39,-0.29,0.32,-0.32,-0.91,0.91,-0.39,-0.1,-0.0,0.08,-0.0],[\"\",\"\",-0.21,-0.32,-0.22,-0.21,-0.31,-0.21,-0.3,-0.1,0.1,0.81,-0.81,0.27,-0.07,0.0,-0.08,0.0],[\"\",\"\",\"\",-0.09,-0.06,-0.06,-0.09,-0.06,-0.08,0.22,-0.22,-0.26,0.26,-0.24,-0.18,-0.0,0.02,-0.0],[\"\",\"\",\"\",\"\",-0.09,-0.09,-0.13,-0.09,-0.13,-0.04,0.04,-0.39,0.39,0.2,0.58,0.01,0.05,0.01],[\"\",\"\",\"\",\"\",\"\",-0.06,-0.09,-0.06,-0.09,0.22,-0.22,-0.27,0.27,-0.25,-0.18,0.0,0.02,0.0],[\"\",\"\",\"\",\"\",\"\",\"\",-0.09,-0.06,-0.09,-0.28,0.28,-0.27,0.27,0.44,0.39,-0.0,0.02,0.0],[\"\",\"\",\"\",\"\",\"\",\"\",\"\",-0.09,-0.12,-0.05,0.05,-0.39,0.39,-0.28,-0.22,0.0,0.05,-0.01],[\"\",\"\",\"\",\"\",\"\",\"\",\"\",\"\",-0.08,0.21,-0.21,-0.26,0.26,-0.24,-0.17,-0.01,0.02,-0.01],[\"\",\"\",\"\",\"\",\"\",\"\",\"\",\"\",\"\",-0.04,0.04,0.32,-0.32,-0.13,-0.17,-0.0,-0.03,-0.01],[\"\",\"\",\"\",\"\",\"\",\"\",\"\",\"\",\"\",\"\",-1.0,-0.12,0.12,-0.42,0.02,0.01,0.01,-0.0],[\"\",\"\",\"\",\"\",\"\",\"\",\"\",\"\",\"\",\"\",\"\",0.12,-0.12,0.42,-0.02,-0.01,-0.01,0.0],[\"\",\"\",\"\",\"\",\"\",\"\",\"\",\"\",\"\",\"\",\"\",\"\",-1.0,0.19,-0.17,-0.0,-0.1,-0.0],[\"\",\"\",\"\",\"\",\"\",\"\",\"\",\"\",\"\",\"\",\"\",\"\",\"\",-0.19,0.17,0.0,0.1,0.0],[\"\",\"\",\"\",\"\",\"\",\"\",\"\",\"\",\"\",\"\",\"\",\"\",\"\",\"\",0.31,-0.01,-0.02,0.01],[\"\",\"\",\"\",\"\",\"\",\"\",\"\",\"\",\"\",\"\",\"\",\"\",\"\",\"\",\"\",0.01,0.02,0.02],[\"\",\"\",\"\",\"\",\"\",\"\",\"\",\"\",\"\",\"\",\"\",\"\",\"\",\"\",\"\",\"\",-0.01,-0.0],[\"\",\"\",\"\",\"\",\"\",\"\",\"\",\"\",\"\",\"\",\"\",\"\",\"\",\"\",\"\",\"\",\"\",-0.02],[\"\",\"\",\"\",\"\",\"\",\"\",\"\",\"\",\"\",\"\",\"\",\"\",\"\",\"\",\"\",\"\",\"\",\"\"]],\"textfont\":{\"size\":12},\"texttemplate\":\"%{text}\",\"x\":[\"slice_type\",\"smartphone\",\"smart_transportation\",\"smart_city_and_home\",\"public_safety\",\"io_t_devices\",\"industry_4_0\",\"healthcare\",\"ar_vr_gaming\",\"non_gbr\",\"gbr\",\"lte_5g\",\"io_t\",\"packet_delay\",\"packet_loss_rate\",\"time\",\"lte_5g_category\",\"id\"],\"xgap\":1,\"y\":[\"slice_type\",\"smartphone\",\"smart_transportation\",\"smart_city_and_home\",\"public_safety\",\"io_t_devices\",\"industry_4_0\",\"healthcare\",\"ar_vr_gaming\",\"non_gbr\",\"gbr\",\"lte_5g\",\"io_t\",\"packet_delay\",\"packet_loss_rate\",\"time\",\"lte_5g_category\",\"id\"],\"ygap\":1,\"z\":[[null,-0.7346122066104845,0.39084555213180733,0.13646745176393255,0.4047104404287774,0.09193296283973793,0.3525081278978768,0.3862724578374668,-0.29227559900349126,0.32184793387191957,-0.32184793387191973,-0.9097096298422533,0.909709629842253,-0.39013842124603326,-0.0976272363618105,-0.0015757060678211197,0.08368009853769938,-0.002835441552566538],[null,null,-0.21314674031301034,-0.31863714706532953,-0.22070792587386454,-0.21465379928973705,-0.31131263886569266,-0.21065281365408922,-0.29911861259056466,-0.09999503728794489,0.0999950372879449,0.8075238323440269,-0.8075238323440268,0.26883084380244554,-0.06741600210420783,0.00047770532190622486,-0.0751516090955187,0.0010651384100794099],[null,null,null,-0.09033708679582211,-0.06257309055088063,-0.060856680007601936,-0.08826050928732651,-0.05972235718942062,-0.08480337059476385,0.21631277071162572,-0.2163127707116258,-0.26395102135165766,0.26395102135165804,-0.24120626795283617,-0.1761105612150848,-0.0025196908810748014,0.019786999921340587,-0.0006171285793053463],[null,null,null,null,-0.09354171228194083,-0.09097581726567099,-0.1319423268521358,-0.08928009634539912,-0.12677418396433318,-0.03594013854644583,0.0359401385464459,-0.3945854404574145,0.3945854404574145,0.20081807672626623,0.5787434099992192,0.005197162297576542,0.04734718267535304,0.009515957358807203],[null,null,null,null,null,-0.0630155150405908,-0.09139147008661835,-0.061840953158458854,-0.08781169256258459,0.22398626830361812,-0.22398626830361817,-0.27331444229107865,0.2733144422910789,-0.24976283957928425,-0.1823579222144486,0.0017542925673169362,0.019485282790280906,0.004772157085514398],[null,null,null,null,null,null,-0.08888455726768302,-0.060144625502703226,-0.0854029747957194,-0.2813365101255752,0.2813365101255753,-0.2658172931771588,0.26581729317715874,0.43735472992010005,0.3898775548124036,-0.0005854361895591763,0.01945804148605057,0.0049485084436086315],[null,null,null,null,null,null,null,-0.08722781586345105,-0.12386002734919664,-0.045352780084264875,0.04535278008426488,-0.3855151097671429,0.385515109767143,-0.28438408983699054,-0.21620166338575209,0.004019687949946251,0.04510627773452056,-0.005649750620042512],[null,null,null,null,null,null,null,null,-0.08381112747445127,0.21378179986613768,-0.21378179986613793,-0.2608626584340173,0.26086265843401724,-0.23838403036635977,-0.17404997692987903,-0.011551855223408009,0.018408029016488123,-0.007330976886875252],[null,null,null,null,null,null,null,null,null,-0.03747564686068119,0.03747564686068123,0.3212844949812943,-0.32128449498129424,-0.12761425153102776,-0.16817160506207415,-0.0007984428099076171,-0.03401045045003847,-0.00740074358344895],[null,null,null,null,null,null,null,null,null,null,-0.9999999999999992,-0.12240208311214422,0.12240208311214397,-0.4241237263117014,0.02231471887991141,0.005053119330993027,0.00715579203645389,-0.004535610718492042],[null,null,null,null,null,null,null,null,null,null,null,0.12240208311214454,-0.12240208311214444,0.4241237263117012,-0.022314718879911558,-0.005053119330992992,-0.007155792036453805,0.004535610718487794],[null,null,null,null,null,null,null,null,null,null,null,null,-1.0,0.1879101071360746,-0.1708578444142946,-1.9461825416850296e-05,-0.09560501324475025,-0.0035175994963234985],[null,null,null,null,null,null,null,null,null,null,null,null,null,-0.18791010713607467,0.1708578444142945,1.9461825416897747e-05,0.09560501324475046,0.0035175994963206466],[null,null,null,null,null,null,null,null,null,null,null,null,null,null,0.30643644074125154,-0.005153273866450914,-0.015085156025581081,0.010973530183367941],[null,null,null,null,null,null,null,null,null,null,null,null,null,null,null,0.009140142318106424,0.02225427871707182,0.01541883179213589],[null,null,null,null,null,null,null,null,null,null,null,null,null,null,null,null,-0.011523337002225652,-0.004275474662529939],[null,null,null,null,null,null,null,null,null,null,null,null,null,null,null,null,null,-0.02223856458350239],[null,null,null,null,null,null,null,null,null,null,null,null,null,null,null,null,null,null]],\"zmax\":0.86,\"zmin\":-0.95,\"type\":\"heatmap\"}],                        {\"template\":{\"data\":{\"histogram2dcontour\":[{\"type\":\"histogram2dcontour\",\"colorbar\":{\"outlinewidth\":0,\"ticks\":\"\"},\"colorscale\":[[0.0,\"#0d0887\"],[0.1111111111111111,\"#46039f\"],[0.2222222222222222,\"#7201a8\"],[0.3333333333333333,\"#9c179e\"],[0.4444444444444444,\"#bd3786\"],[0.5555555555555556,\"#d8576b\"],[0.6666666666666666,\"#ed7953\"],[0.7777777777777778,\"#fb9f3a\"],[0.8888888888888888,\"#fdca26\"],[1.0,\"#f0f921\"]]}],\"choropleth\":[{\"type\":\"choropleth\",\"colorbar\":{\"outlinewidth\":0,\"ticks\":\"\"}}],\"histogram2d\":[{\"type\":\"histogram2d\",\"colorbar\":{\"outlinewidth\":0,\"ticks\":\"\"},\"colorscale\":[[0.0,\"#0d0887\"],[0.1111111111111111,\"#46039f\"],[0.2222222222222222,\"#7201a8\"],[0.3333333333333333,\"#9c179e\"],[0.4444444444444444,\"#bd3786\"],[0.5555555555555556,\"#d8576b\"],[0.6666666666666666,\"#ed7953\"],[0.7777777777777778,\"#fb9f3a\"],[0.8888888888888888,\"#fdca26\"],[1.0,\"#f0f921\"]]}],\"heatmap\":[{\"type\":\"heatmap\",\"colorbar\":{\"outlinewidth\":0,\"ticks\":\"\"},\"colorscale\":[[0.0,\"#0d0887\"],[0.1111111111111111,\"#46039f\"],[0.2222222222222222,\"#7201a8\"],[0.3333333333333333,\"#9c179e\"],[0.4444444444444444,\"#bd3786\"],[0.5555555555555556,\"#d8576b\"],[0.6666666666666666,\"#ed7953\"],[0.7777777777777778,\"#fb9f3a\"],[0.8888888888888888,\"#fdca26\"],[1.0,\"#f0f921\"]]}],\"heatmapgl\":[{\"type\":\"heatmapgl\",\"colorbar\":{\"outlinewidth\":0,\"ticks\":\"\"},\"colorscale\":[[0.0,\"#0d0887\"],[0.1111111111111111,\"#46039f\"],[0.2222222222222222,\"#7201a8\"],[0.3333333333333333,\"#9c179e\"],[0.4444444444444444,\"#bd3786\"],[0.5555555555555556,\"#d8576b\"],[0.6666666666666666,\"#ed7953\"],[0.7777777777777778,\"#fb9f3a\"],[0.8888888888888888,\"#fdca26\"],[1.0,\"#f0f921\"]]}],\"contourcarpet\":[{\"type\":\"contourcarpet\",\"colorbar\":{\"outlinewidth\":0,\"ticks\":\"\"}}],\"contour\":[{\"type\":\"contour\",\"colorbar\":{\"outlinewidth\":0,\"ticks\":\"\"},\"colorscale\":[[0.0,\"#0d0887\"],[0.1111111111111111,\"#46039f\"],[0.2222222222222222,\"#7201a8\"],[0.3333333333333333,\"#9c179e\"],[0.4444444444444444,\"#bd3786\"],[0.5555555555555556,\"#d8576b\"],[0.6666666666666666,\"#ed7953\"],[0.7777777777777778,\"#fb9f3a\"],[0.8888888888888888,\"#fdca26\"],[1.0,\"#f0f921\"]]}],\"surface\":[{\"type\":\"surface\",\"colorbar\":{\"outlinewidth\":0,\"ticks\":\"\"},\"colorscale\":[[0.0,\"#0d0887\"],[0.1111111111111111,\"#46039f\"],[0.2222222222222222,\"#7201a8\"],[0.3333333333333333,\"#9c179e\"],[0.4444444444444444,\"#bd3786\"],[0.5555555555555556,\"#d8576b\"],[0.6666666666666666,\"#ed7953\"],[0.7777777777777778,\"#fb9f3a\"],[0.8888888888888888,\"#fdca26\"],[1.0,\"#f0f921\"]]}],\"mesh3d\":[{\"type\":\"mesh3d\",\"colorbar\":{\"outlinewidth\":0,\"ticks\":\"\"}}],\"scatter\":[{\"fillpattern\":{\"fillmode\":\"overlay\",\"size\":10,\"solidity\":0.2},\"type\":\"scatter\"}],\"parcoords\":[{\"type\":\"parcoords\",\"line\":{\"colorbar\":{\"outlinewidth\":0,\"ticks\":\"\"}}}],\"scatterpolargl\":[{\"type\":\"scatterpolargl\",\"marker\":{\"colorbar\":{\"outlinewidth\":0,\"ticks\":\"\"}}}],\"bar\":[{\"error_x\":{\"color\":\"#2a3f5f\"},\"error_y\":{\"color\":\"#2a3f5f\"},\"marker\":{\"line\":{\"color\":\"#E5ECF6\",\"width\":0.5},\"pattern\":{\"fillmode\":\"overlay\",\"size\":10,\"solidity\":0.2}},\"type\":\"bar\"}],\"scattergeo\":[{\"type\":\"scattergeo\",\"marker\":{\"colorbar\":{\"outlinewidth\":0,\"ticks\":\"\"}}}],\"scatterpolar\":[{\"type\":\"scatterpolar\",\"marker\":{\"colorbar\":{\"outlinewidth\":0,\"ticks\":\"\"}}}],\"histogram\":[{\"marker\":{\"pattern\":{\"fillmode\":\"overlay\",\"size\":10,\"solidity\":0.2}},\"type\":\"histogram\"}],\"scattergl\":[{\"type\":\"scattergl\",\"marker\":{\"colorbar\":{\"outlinewidth\":0,\"ticks\":\"\"}}}],\"scatter3d\":[{\"type\":\"scatter3d\",\"line\":{\"colorbar\":{\"outlinewidth\":0,\"ticks\":\"\"}},\"marker\":{\"colorbar\":{\"outlinewidth\":0,\"ticks\":\"\"}}}],\"scattermapbox\":[{\"type\":\"scattermapbox\",\"marker\":{\"colorbar\":{\"outlinewidth\":0,\"ticks\":\"\"}}}],\"scatterternary\":[{\"type\":\"scatterternary\",\"marker\":{\"colorbar\":{\"outlinewidth\":0,\"ticks\":\"\"}}}],\"scattercarpet\":[{\"type\":\"scattercarpet\",\"marker\":{\"colorbar\":{\"outlinewidth\":0,\"ticks\":\"\"}}}],\"carpet\":[{\"aaxis\":{\"endlinecolor\":\"#2a3f5f\",\"gridcolor\":\"white\",\"linecolor\":\"white\",\"minorgridcolor\":\"white\",\"startlinecolor\":\"#2a3f5f\"},\"baxis\":{\"endlinecolor\":\"#2a3f5f\",\"gridcolor\":\"white\",\"linecolor\":\"white\",\"minorgridcolor\":\"white\",\"startlinecolor\":\"#2a3f5f\"},\"type\":\"carpet\"}],\"table\":[{\"cells\":{\"fill\":{\"color\":\"#EBF0F8\"},\"line\":{\"color\":\"white\"}},\"header\":{\"fill\":{\"color\":\"#C8D4E3\"},\"line\":{\"color\":\"white\"}},\"type\":\"table\"}],\"barpolar\":[{\"marker\":{\"line\":{\"color\":\"#E5ECF6\",\"width\":0.5},\"pattern\":{\"fillmode\":\"overlay\",\"size\":10,\"solidity\":0.2}},\"type\":\"barpolar\"}],\"pie\":[{\"automargin\":true,\"type\":\"pie\"}]},\"layout\":{\"autotypenumbers\":\"strict\",\"colorway\":[\"#636efa\",\"#EF553B\",\"#00cc96\",\"#ab63fa\",\"#FFA15A\",\"#19d3f3\",\"#FF6692\",\"#B6E880\",\"#FF97FF\",\"#FECB52\"],\"font\":{\"color\":\"#2a3f5f\"},\"hovermode\":\"closest\",\"hoverlabel\":{\"align\":\"left\"},\"paper_bgcolor\":\"white\",\"plot_bgcolor\":\"#E5ECF6\",\"polar\":{\"bgcolor\":\"#E5ECF6\",\"angularaxis\":{\"gridcolor\":\"white\",\"linecolor\":\"white\",\"ticks\":\"\"},\"radialaxis\":{\"gridcolor\":\"white\",\"linecolor\":\"white\",\"ticks\":\"\"}},\"ternary\":{\"bgcolor\":\"#E5ECF6\",\"aaxis\":{\"gridcolor\":\"white\",\"linecolor\":\"white\",\"ticks\":\"\"},\"baxis\":{\"gridcolor\":\"white\",\"linecolor\":\"white\",\"ticks\":\"\"},\"caxis\":{\"gridcolor\":\"white\",\"linecolor\":\"white\",\"ticks\":\"\"}},\"coloraxis\":{\"colorbar\":{\"outlinewidth\":0,\"ticks\":\"\"}},\"colorscale\":{\"sequential\":[[0.0,\"#0d0887\"],[0.1111111111111111,\"#46039f\"],[0.2222222222222222,\"#7201a8\"],[0.3333333333333333,\"#9c179e\"],[0.4444444444444444,\"#bd3786\"],[0.5555555555555556,\"#d8576b\"],[0.6666666666666666,\"#ed7953\"],[0.7777777777777778,\"#fb9f3a\"],[0.8888888888888888,\"#fdca26\"],[1.0,\"#f0f921\"]],\"sequentialminus\":[[0.0,\"#0d0887\"],[0.1111111111111111,\"#46039f\"],[0.2222222222222222,\"#7201a8\"],[0.3333333333333333,\"#9c179e\"],[0.4444444444444444,\"#bd3786\"],[0.5555555555555556,\"#d8576b\"],[0.6666666666666666,\"#ed7953\"],[0.7777777777777778,\"#fb9f3a\"],[0.8888888888888888,\"#fdca26\"],[1.0,\"#f0f921\"]],\"diverging\":[[0,\"#8e0152\"],[0.1,\"#c51b7d\"],[0.2,\"#de77ae\"],[0.3,\"#f1b6da\"],[0.4,\"#fde0ef\"],[0.5,\"#f7f7f7\"],[0.6,\"#e6f5d0\"],[0.7,\"#b8e186\"],[0.8,\"#7fbc41\"],[0.9,\"#4d9221\"],[1,\"#276419\"]]},\"xaxis\":{\"gridcolor\":\"white\",\"linecolor\":\"white\",\"ticks\":\"\",\"title\":{\"standoff\":15},\"zerolinecolor\":\"white\",\"automargin\":true,\"zerolinewidth\":2},\"yaxis\":{\"gridcolor\":\"white\",\"linecolor\":\"white\",\"ticks\":\"\",\"title\":{\"standoff\":15},\"zerolinecolor\":\"white\",\"automargin\":true,\"zerolinewidth\":2},\"scene\":{\"xaxis\":{\"backgroundcolor\":\"#E5ECF6\",\"gridcolor\":\"white\",\"linecolor\":\"white\",\"showbackground\":true,\"ticks\":\"\",\"zerolinecolor\":\"white\",\"gridwidth\":2},\"yaxis\":{\"backgroundcolor\":\"#E5ECF6\",\"gridcolor\":\"white\",\"linecolor\":\"white\",\"showbackground\":true,\"ticks\":\"\",\"zerolinecolor\":\"white\",\"gridwidth\":2},\"zaxis\":{\"backgroundcolor\":\"#E5ECF6\",\"gridcolor\":\"white\",\"linecolor\":\"white\",\"showbackground\":true,\"ticks\":\"\",\"zerolinecolor\":\"white\",\"gridwidth\":2}},\"shapedefaults\":{\"line\":{\"color\":\"#2a3f5f\"}},\"annotationdefaults\":{\"arrowcolor\":\"#2a3f5f\",\"arrowhead\":0,\"arrowwidth\":1},\"geo\":{\"bgcolor\":\"white\",\"landcolor\":\"#E5ECF6\",\"subunitcolor\":\"white\",\"showland\":true,\"showlakes\":true,\"lakecolor\":\"white\"},\"title\":{\"x\":0.05},\"mapbox\":{\"style\":\"light\"}}},\"title\":{\"text\":\"Feature-correlation (pearson)\",\"font\":{\"size\":24},\"x\":0.5},\"xaxis\":{\"autorange\":\"reversed\"},\"autosize\":true,\"width\":1152,\"height\":1056},                        {\"responsive\": true}                    ).then(function(){\n",
              "                            \n",
              "var gd = document.getElementById('38dc07a1-7f90-45c2-8f95-ee020e5b7501');\n",
              "var x = new MutationObserver(function (mutations, observer) {{\n",
              "        var display = window.getComputedStyle(gd).display;\n",
              "        if (!display || display === 'none') {{\n",
              "            console.log([gd, 'removed!']);\n",
              "            Plotly.purge(gd);\n",
              "            observer.disconnect();\n",
              "        }}\n",
              "}});\n",
              "\n",
              "// Listen for the removal of the full notebook cells\n",
              "var notebookContainer = gd.closest('#notebook-container');\n",
              "if (notebookContainer) {{\n",
              "    x.observe(notebookContainer, {childList: true});\n",
              "}}\n",
              "\n",
              "// Listen for the clearing of the current output cell\n",
              "var outputEl = gd.closest('.output');\n",
              "if (outputEl) {{\n",
              "    x.observe(outputEl, {childList: true});\n",
              "}}\n",
              "\n",
              "                        })                };                            </script>        </div>\n",
              "</body>\n",
              "</html>"
            ]
          },
          "metadata": {}
        }
      ]
    },
    {
      "cell_type": "code",
      "source": [
        "klib.dist_plot(train_dataset)"
      ],
      "metadata": {
        "colab": {
          "base_uri": "https://localhost:8080/",
          "height": 239
        },
        "id": "gq69Vbl7d-Ug",
        "outputId": "fa83de95-c1fa-4ea3-c79f-9f5ea23ee507"
      },
      "execution_count": 36,
      "outputs": [
        {
          "output_type": "stream",
          "name": "stdout",
          "text": [
            "Large dataset detected, using 10000 random samples for the plots. Summary statistics are still based on the entire dataset.\n"
          ]
        },
        {
          "output_type": "execute_result",
          "data": {
            "text/plain": [
              "<Axes: xlabel='id', ylabel='Density'>"
            ]
          },
          "metadata": {},
          "execution_count": 36
        },
        {
          "output_type": "display_data",
          "data": {
            "text/plain": [
              "<Figure size 1500x300 with 1 Axes>"
            ],
            "image/png": "[encoded data removed]"
          },
          "metadata": {}
        }
      ]
    },
    {
      "cell_type": "code",
      "source": [
        "klib.missingval_plot(train_dataset)"
      ],
      "metadata": {
        "colab": {
          "base_uri": "https://localhost:8080/"
        },
        "id": "n2Cq4VEheD7Q",
        "outputId": "a253647a-4d76-4657-e193-2461e640e093"
      },
      "execution_count": 37,
      "outputs": [
        {
          "output_type": "stream",
          "name": "stdout",
          "text": [
            "No missing values found in the dataset.\n"
          ]
        }
      ]
    },
    {
      "cell_type": "code",
      "source": [
        "klib.corr_mat(train_dataset)"
      ],
      "metadata": {
        "colab": {
          "base_uri": "https://localhost:8080/",
          "height": 634
        },
        "id": "rsnlBz49eGfg",
        "outputId": "c76f578a-aeb0-4f6e-82c8-f4d3afc5842a"
      },
      "execution_count": 38,
      "outputs": [
        {
          "output_type": "execute_result",
          "data": {
            "text/plain": [
              "<pandas.io.formats.style.Styler at 0x7eb4a7b15270>"
            ],
            "text/html": [
              "<style type=\"text/css\">\n",
              "#T_13d08_row0_col0, #T_13d08_row0_col3, #T_13d08_row0_col4, #T_13d08_row0_col5, #T_13d08_row0_col7, #T_13d08_row0_col12, #T_13d08_row0_col13, #T_13d08_row0_col14, #T_13d08_row0_col16, #T_13d08_row1_col1, #T_13d08_row1_col3, #T_13d08_row1_col5, #T_13d08_row1_col8, #T_13d08_row1_col10, #T_13d08_row1_col11, #T_13d08_row1_col12, #T_13d08_row1_col13, #T_13d08_row1_col14, #T_13d08_row1_col15, #T_13d08_row1_col17, #T_13d08_row2_col2, #T_13d08_row2_col3, #T_13d08_row2_col5, #T_13d08_row2_col8, #T_13d08_row2_col11, #T_13d08_row2_col13, #T_13d08_row2_col14, #T_13d08_row2_col16, #T_13d08_row3_col0, #T_13d08_row3_col1, #T_13d08_row3_col2, #T_13d08_row3_col3, #T_13d08_row3_col4, #T_13d08_row3_col5, #T_13d08_row3_col8, #T_13d08_row3_col12, #T_13d08_row3_col14, #T_13d08_row4_col0, #T_13d08_row4_col3, #T_13d08_row4_col4, #T_13d08_row4_col6, #T_13d08_row4_col7, #T_13d08_row4_col12, #T_13d08_row4_col14, #T_13d08_row4_col16, #T_13d08_row5_col0, #T_13d08_row5_col1, #T_13d08_row5_col2, #T_13d08_row5_col3, #T_13d08_row5_col5, #T_13d08_row5_col8, #T_13d08_row5_col10, #T_13d08_row5_col11, #T_13d08_row5_col12, #T_13d08_row5_col13, #T_13d08_row5_col14, #T_13d08_row5_col15, #T_13d08_row5_col17, #T_13d08_row6_col4, #T_13d08_row6_col6, #T_13d08_row6_col7, #T_13d08_row6_col9, #T_13d08_row6_col16, #T_13d08_row7_col0, #T_13d08_row7_col4, #T_13d08_row7_col6, #T_13d08_row7_col7, #T_13d08_row7_col9, #T_13d08_row7_col11, #T_13d08_row7_col12, #T_13d08_row7_col14, #T_13d08_row7_col16, #T_13d08_row8_col1, #T_13d08_row8_col2, #T_13d08_row8_col3, #T_13d08_row8_col5, #T_13d08_row8_col8, #T_13d08_row8_col10, #T_13d08_row8_col13, #T_13d08_row8_col15, #T_13d08_row8_col17, #T_13d08_row9_col6, #T_13d08_row9_col7, #T_13d08_row9_col9, #T_13d08_row10_col1, #T_13d08_row10_col5, #T_13d08_row10_col8, #T_13d08_row10_col10, #T_13d08_row10_col17, #T_13d08_row11_col1, #T_13d08_row11_col2, #T_13d08_row11_col5, #T_13d08_row11_col7, #T_13d08_row11_col11, #T_13d08_row11_col17, #T_13d08_row12_col0, #T_13d08_row12_col1, #T_13d08_row12_col3, #T_13d08_row12_col4, #T_13d08_row12_col5, #T_13d08_row12_col7, #T_13d08_row12_col12, #T_13d08_row12_col17, #T_13d08_row13_col0, #T_13d08_row13_col1, #T_13d08_row13_col2, #T_13d08_row13_col5, #T_13d08_row13_col8, #T_13d08_row13_col13, #T_13d08_row13_col17, #T_13d08_row14_col0, #T_13d08_row14_col1, #T_13d08_row14_col2, #T_13d08_row14_col3, #T_13d08_row14_col4, #T_13d08_row14_col5, #T_13d08_row14_col7, #T_13d08_row14_col14, #T_13d08_row14_col17, #T_13d08_row15_col1, #T_13d08_row15_col5, #T_13d08_row15_col8, #T_13d08_row15_col15, #T_13d08_row15_col17, #T_13d08_row16_col0, #T_13d08_row16_col2, #T_13d08_row16_col4, #T_13d08_row16_col6, #T_13d08_row16_col7, #T_13d08_row16_col16, #T_13d08_row17_col1, #T_13d08_row17_col5, #T_13d08_row17_col8, #T_13d08_row17_col10, #T_13d08_row17_col11, #T_13d08_row17_col12, #T_13d08_row17_col13, #T_13d08_row17_col14, #T_13d08_row17_col15, #T_13d08_row17_col17 {\n",
              "  color: None;\n",
              "}\n",
              "#T_13d08_row0_col1, #T_13d08_row0_col2, #T_13d08_row0_col6, #T_13d08_row0_col8, #T_13d08_row0_col9, #T_13d08_row0_col10, #T_13d08_row0_col11, #T_13d08_row0_col15, #T_13d08_row0_col17, #T_13d08_row1_col0, #T_13d08_row1_col2, #T_13d08_row1_col4, #T_13d08_row1_col6, #T_13d08_row1_col7, #T_13d08_row1_col9, #T_13d08_row1_col16, #T_13d08_row2_col0, #T_13d08_row2_col1, #T_13d08_row2_col4, #T_13d08_row2_col6, #T_13d08_row2_col7, #T_13d08_row2_col9, #T_13d08_row2_col10, #T_13d08_row2_col12, #T_13d08_row2_col15, #T_13d08_row2_col17, #T_13d08_row3_col6, #T_13d08_row3_col7, #T_13d08_row3_col9, #T_13d08_row3_col10, #T_13d08_row3_col11, #T_13d08_row3_col13, #T_13d08_row3_col15, #T_13d08_row3_col16, #T_13d08_row3_col17, #T_13d08_row4_col1, #T_13d08_row4_col2, #T_13d08_row4_col5, #T_13d08_row4_col8, #T_13d08_row4_col9, #T_13d08_row4_col10, #T_13d08_row4_col11, #T_13d08_row4_col13, #T_13d08_row4_col15, #T_13d08_row4_col17, #T_13d08_row5_col4, #T_13d08_row5_col6, #T_13d08_row5_col7, #T_13d08_row5_col9, #T_13d08_row5_col16, #T_13d08_row6_col0, #T_13d08_row6_col1, #T_13d08_row6_col2, #T_13d08_row6_col3, #T_13d08_row6_col5, #T_13d08_row6_col8, #T_13d08_row6_col10, #T_13d08_row6_col11, #T_13d08_row6_col12, #T_13d08_row6_col13, #T_13d08_row6_col14, #T_13d08_row6_col15, #T_13d08_row6_col17, #T_13d08_row7_col1, #T_13d08_row7_col2, #T_13d08_row7_col3, #T_13d08_row7_col5, #T_13d08_row7_col8, #T_13d08_row7_col10, #T_13d08_row7_col13, #T_13d08_row7_col15, #T_13d08_row7_col17, #T_13d08_row8_col0, #T_13d08_row8_col4, #T_13d08_row8_col6, #T_13d08_row8_col7, #T_13d08_row8_col9, #T_13d08_row8_col11, #T_13d08_row8_col12, #T_13d08_row8_col14, #T_13d08_row8_col16, #T_13d08_row9_col0, #T_13d08_row9_col1, #T_13d08_row9_col2, #T_13d08_row9_col3, #T_13d08_row9_col4, #T_13d08_row9_col5, #T_13d08_row9_col8, #T_13d08_row9_col10, #T_13d08_row9_col11, #T_13d08_row9_col12, #T_13d08_row9_col13, #T_13d08_row9_col14, #T_13d08_row9_col15, #T_13d08_row9_col16, #T_13d08_row9_col17, #T_13d08_row10_col0, #T_13d08_row10_col2, #T_13d08_row10_col3, #T_13d08_row10_col4, #T_13d08_row10_col6, #T_13d08_row10_col7, #T_13d08_row10_col9, #T_13d08_row10_col11, #T_13d08_row10_col12, #T_13d08_row10_col13, #T_13d08_row10_col14, #T_13d08_row10_col15, #T_13d08_row10_col16, #T_13d08_row11_col0, #T_13d08_row11_col3, #T_13d08_row11_col4, #T_13d08_row11_col6, #T_13d08_row11_col8, #T_13d08_row11_col9, #T_13d08_row11_col10, #T_13d08_row11_col12, #T_13d08_row11_col13, #T_13d08_row11_col14, #T_13d08_row11_col15, #T_13d08_row11_col16, #T_13d08_row12_col2, #T_13d08_row12_col6, #T_13d08_row12_col8, #T_13d08_row12_col9, #T_13d08_row12_col10, #T_13d08_row12_col11, #T_13d08_row12_col13, #T_13d08_row12_col14, #T_13d08_row12_col15, #T_13d08_row12_col16, #T_13d08_row13_col3, #T_13d08_row13_col4, #T_13d08_row13_col6, #T_13d08_row13_col7, #T_13d08_row13_col9, #T_13d08_row13_col10, #T_13d08_row13_col11, #T_13d08_row13_col12, #T_13d08_row13_col14, #T_13d08_row13_col15, #T_13d08_row13_col16, #T_13d08_row14_col6, #T_13d08_row14_col8, #T_13d08_row14_col9, #T_13d08_row14_col10, #T_13d08_row14_col11, #T_13d08_row14_col12, #T_13d08_row14_col13, #T_13d08_row14_col15, #T_13d08_row14_col16, #T_13d08_row15_col0, #T_13d08_row15_col2, #T_13d08_row15_col3, #T_13d08_row15_col4, #T_13d08_row15_col6, #T_13d08_row15_col7, #T_13d08_row15_col9, #T_13d08_row15_col10, #T_13d08_row15_col11, #T_13d08_row15_col12, #T_13d08_row15_col13, #T_13d08_row15_col14, #T_13d08_row15_col16, #T_13d08_row16_col1, #T_13d08_row16_col3, #T_13d08_row16_col5, #T_13d08_row16_col8, #T_13d08_row16_col9, #T_13d08_row16_col10, #T_13d08_row16_col11, #T_13d08_row16_col12, #T_13d08_row16_col13, #T_13d08_row16_col14, #T_13d08_row16_col15, #T_13d08_row16_col17, #T_13d08_row17_col0, #T_13d08_row17_col2, #T_13d08_row17_col3, #T_13d08_row17_col4, #T_13d08_row17_col6, #T_13d08_row17_col7, #T_13d08_row17_col9, #T_13d08_row17_col16 {\n",
              "  color: #FF3344;\n",
              "}\n",
              "</style>\n",
              "<table id=\"T_13d08\" class=\"dataframe\">\n",
              "  <thead>\n",
              "    <tr>\n",
              "      <th class=\"blank level0\" >&nbsp;</th>\n",
              "      <th id=\"T_13d08_level0_col0\" class=\"col_heading level0 col0\" >id</th>\n",
              "      <th id=\"T_13d08_level0_col1\" class=\"col_heading level0 col1\" >lte_5g_category</th>\n",
              "      <th id=\"T_13d08_level0_col2\" class=\"col_heading level0 col2\" >time</th>\n",
              "      <th id=\"T_13d08_level0_col3\" class=\"col_heading level0 col3\" >packet_loss_rate</th>\n",
              "      <th id=\"T_13d08_level0_col4\" class=\"col_heading level0 col4\" >packet_delay</th>\n",
              "      <th id=\"T_13d08_level0_col5\" class=\"col_heading level0 col5\" >io_t</th>\n",
              "      <th id=\"T_13d08_level0_col6\" class=\"col_heading level0 col6\" >lte_5g</th>\n",
              "      <th id=\"T_13d08_level0_col7\" class=\"col_heading level0 col7\" >gbr</th>\n",
              "      <th id=\"T_13d08_level0_col8\" class=\"col_heading level0 col8\" >non_gbr</th>\n",
              "      <th id=\"T_13d08_level0_col9\" class=\"col_heading level0 col9\" >ar_vr_gaming</th>\n",
              "      <th id=\"T_13d08_level0_col10\" class=\"col_heading level0 col10\" >healthcare</th>\n",
              "      <th id=\"T_13d08_level0_col11\" class=\"col_heading level0 col11\" >industry_4_0</th>\n",
              "      <th id=\"T_13d08_level0_col12\" class=\"col_heading level0 col12\" >io_t_devices</th>\n",
              "      <th id=\"T_13d08_level0_col13\" class=\"col_heading level0 col13\" >public_safety</th>\n",
              "      <th id=\"T_13d08_level0_col14\" class=\"col_heading level0 col14\" >smart_city_and_home</th>\n",
              "      <th id=\"T_13d08_level0_col15\" class=\"col_heading level0 col15\" >smart_transportation</th>\n",
              "      <th id=\"T_13d08_level0_col16\" class=\"col_heading level0 col16\" >smartphone</th>\n",
              "      <th id=\"T_13d08_level0_col17\" class=\"col_heading level0 col17\" >slice_type</th>\n",
              "    </tr>\n",
              "  </thead>\n",
              "  <tbody>\n",
              "    <tr>\n",
              "      <th id=\"T_13d08_level0_row0\" class=\"row_heading level0 row0\" >id</th>\n",
              "      <td id=\"T_13d08_row0_col0\" class=\"data row0 col0\" >1.00</td>\n",
              "      <td id=\"T_13d08_row0_col1\" class=\"data row0 col1\" >-0.02</td>\n",
              "      <td id=\"T_13d08_row0_col2\" class=\"data row0 col2\" >-0.00</td>\n",
              "      <td id=\"T_13d08_row0_col3\" class=\"data row0 col3\" >0.02</td>\n",
              "      <td id=\"T_13d08_row0_col4\" class=\"data row0 col4\" >0.01</td>\n",
              "      <td id=\"T_13d08_row0_col5\" class=\"data row0 col5\" >0.00</td>\n",
              "      <td id=\"T_13d08_row0_col6\" class=\"data row0 col6\" >-0.00</td>\n",
              "      <td id=\"T_13d08_row0_col7\" class=\"data row0 col7\" >0.00</td>\n",
              "      <td id=\"T_13d08_row0_col8\" class=\"data row0 col8\" >-0.00</td>\n",
              "      <td id=\"T_13d08_row0_col9\" class=\"data row0 col9\" >-0.01</td>\n",
              "      <td id=\"T_13d08_row0_col10\" class=\"data row0 col10\" >-0.01</td>\n",
              "      <td id=\"T_13d08_row0_col11\" class=\"data row0 col11\" >-0.01</td>\n",
              "      <td id=\"T_13d08_row0_col12\" class=\"data row0 col12\" >0.00</td>\n",
              "      <td id=\"T_13d08_row0_col13\" class=\"data row0 col13\" >0.00</td>\n",
              "      <td id=\"T_13d08_row0_col14\" class=\"data row0 col14\" >0.01</td>\n",
              "      <td id=\"T_13d08_row0_col15\" class=\"data row0 col15\" >-0.00</td>\n",
              "      <td id=\"T_13d08_row0_col16\" class=\"data row0 col16\" >0.00</td>\n",
              "      <td id=\"T_13d08_row0_col17\" class=\"data row0 col17\" >-0.00</td>\n",
              "    </tr>\n",
              "    <tr>\n",
              "      <th id=\"T_13d08_level0_row1\" class=\"row_heading level0 row1\" >lte_5g_category</th>\n",
              "      <td id=\"T_13d08_row1_col0\" class=\"data row1 col0\" >-0.02</td>\n",
              "      <td id=\"T_13d08_row1_col1\" class=\"data row1 col1\" >1.00</td>\n",
              "      <td id=\"T_13d08_row1_col2\" class=\"data row1 col2\" >-0.01</td>\n",
              "      <td id=\"T_13d08_row1_col3\" class=\"data row1 col3\" >0.02</td>\n",
              "      <td id=\"T_13d08_row1_col4\" class=\"data row1 col4\" >-0.02</td>\n",
              "      <td id=\"T_13d08_row1_col5\" class=\"data row1 col5\" >0.10</td>\n",
              "      <td id=\"T_13d08_row1_col6\" class=\"data row1 col6\" >-0.10</td>\n",
              "      <td id=\"T_13d08_row1_col7\" class=\"data row1 col7\" >-0.01</td>\n",
              "      <td id=\"T_13d08_row1_col8\" class=\"data row1 col8\" >0.01</td>\n",
              "      <td id=\"T_13d08_row1_col9\" class=\"data row1 col9\" >-0.03</td>\n",
              "      <td id=\"T_13d08_row1_col10\" class=\"data row1 col10\" >0.02</td>\n",
              "      <td id=\"T_13d08_row1_col11\" class=\"data row1 col11\" >0.05</td>\n",
              "      <td id=\"T_13d08_row1_col12\" class=\"data row1 col12\" >0.02</td>\n",
              "      <td id=\"T_13d08_row1_col13\" class=\"data row1 col13\" >0.02</td>\n",
              "      <td id=\"T_13d08_row1_col14\" class=\"data row1 col14\" >0.05</td>\n",
              "      <td id=\"T_13d08_row1_col15\" class=\"data row1 col15\" >0.02</td>\n",
              "      <td id=\"T_13d08_row1_col16\" class=\"data row1 col16\" >-0.08</td>\n",
              "      <td id=\"T_13d08_row1_col17\" class=\"data row1 col17\" >0.08</td>\n",
              "    </tr>\n",
              "    <tr>\n",
              "      <th id=\"T_13d08_level0_row2\" class=\"row_heading level0 row2\" >time</th>\n",
              "      <td id=\"T_13d08_row2_col0\" class=\"data row2 col0\" >-0.00</td>\n",
              "      <td id=\"T_13d08_row2_col1\" class=\"data row2 col1\" >-0.01</td>\n",
              "      <td id=\"T_13d08_row2_col2\" class=\"data row2 col2\" >1.00</td>\n",
              "      <td id=\"T_13d08_row2_col3\" class=\"data row2 col3\" >0.01</td>\n",
              "      <td id=\"T_13d08_row2_col4\" class=\"data row2 col4\" >-0.01</td>\n",
              "      <td id=\"T_13d08_row2_col5\" class=\"data row2 col5\" >0.00</td>\n",
              "      <td id=\"T_13d08_row2_col6\" class=\"data row2 col6\" >-0.00</td>\n",
              "      <td id=\"T_13d08_row2_col7\" class=\"data row2 col7\" >-0.01</td>\n",
              "      <td id=\"T_13d08_row2_col8\" class=\"data row2 col8\" >0.01</td>\n",
              "      <td id=\"T_13d08_row2_col9\" class=\"data row2 col9\" >-0.00</td>\n",
              "      <td id=\"T_13d08_row2_col10\" class=\"data row2 col10\" >-0.01</td>\n",
              "      <td id=\"T_13d08_row2_col11\" class=\"data row2 col11\" >0.00</td>\n",
              "      <td id=\"T_13d08_row2_col12\" class=\"data row2 col12\" >-0.00</td>\n",
              "      <td id=\"T_13d08_row2_col13\" class=\"data row2 col13\" >0.00</td>\n",
              "      <td id=\"T_13d08_row2_col14\" class=\"data row2 col14\" >0.01</td>\n",
              "      <td id=\"T_13d08_row2_col15\" class=\"data row2 col15\" >-0.00</td>\n",
              "      <td id=\"T_13d08_row2_col16\" class=\"data row2 col16\" >0.00</td>\n",
              "      <td id=\"T_13d08_row2_col17\" class=\"data row2 col17\" >-0.00</td>\n",
              "    </tr>\n",
              "    <tr>\n",
              "      <th id=\"T_13d08_level0_row3\" class=\"row_heading level0 row3\" >packet_loss_rate</th>\n",
              "      <td id=\"T_13d08_row3_col0\" class=\"data row3 col0\" >0.02</td>\n",
              "      <td id=\"T_13d08_row3_col1\" class=\"data row3 col1\" >0.02</td>\n",
              "      <td id=\"T_13d08_row3_col2\" class=\"data row3 col2\" >0.01</td>\n",
              "      <td id=\"T_13d08_row3_col3\" class=\"data row3 col3\" >1.00</td>\n",
              "      <td id=\"T_13d08_row3_col4\" class=\"data row3 col4\" >0.31</td>\n",
              "      <td id=\"T_13d08_row3_col5\" class=\"data row3 col5\" >0.17</td>\n",
              "      <td id=\"T_13d08_row3_col6\" class=\"data row3 col6\" >-0.17</td>\n",
              "      <td id=\"T_13d08_row3_col7\" class=\"data row3 col7\" >-0.02</td>\n",
              "      <td id=\"T_13d08_row3_col8\" class=\"data row3 col8\" >0.02</td>\n",
              "      <td id=\"T_13d08_row3_col9\" class=\"data row3 col9\" >-0.17</td>\n",
              "      <td id=\"T_13d08_row3_col10\" class=\"data row3 col10\" >-0.17</td>\n",
              "      <td id=\"T_13d08_row3_col11\" class=\"data row3 col11\" >-0.22</td>\n",
              "      <td id=\"T_13d08_row3_col12\" class=\"data row3 col12\" >0.39</td>\n",
              "      <td id=\"T_13d08_row3_col13\" class=\"data row3 col13\" >-0.18</td>\n",
              "      <td id=\"T_13d08_row3_col14\" class=\"data row3 col14\" >0.58</td>\n",
              "      <td id=\"T_13d08_row3_col15\" class=\"data row3 col15\" >-0.18</td>\n",
              "      <td id=\"T_13d08_row3_col16\" class=\"data row3 col16\" >-0.07</td>\n",
              "      <td id=\"T_13d08_row3_col17\" class=\"data row3 col17\" >-0.10</td>\n",
              "    </tr>\n",
              "    <tr>\n",
              "      <th id=\"T_13d08_level0_row4\" class=\"row_heading level0 row4\" >packet_delay</th>\n",
              "      <td id=\"T_13d08_row4_col0\" class=\"data row4 col0\" >0.01</td>\n",
              "      <td id=\"T_13d08_row4_col1\" class=\"data row4 col1\" >-0.02</td>\n",
              "      <td id=\"T_13d08_row4_col2\" class=\"data row4 col2\" >-0.01</td>\n",
              "      <td id=\"T_13d08_row4_col3\" class=\"data row4 col3\" >0.31</td>\n",
              "      <td id=\"T_13d08_row4_col4\" class=\"data row4 col4\" >1.00</td>\n",
              "      <td id=\"T_13d08_row4_col5\" class=\"data row4 col5\" >-0.19</td>\n",
              "      <td id=\"T_13d08_row4_col6\" class=\"data row4 col6\" >0.19</td>\n",
              "      <td id=\"T_13d08_row4_col7\" class=\"data row4 col7\" >0.42</td>\n",
              "      <td id=\"T_13d08_row4_col8\" class=\"data row4 col8\" >-0.42</td>\n",
              "      <td id=\"T_13d08_row4_col9\" class=\"data row4 col9\" >-0.13</td>\n",
              "      <td id=\"T_13d08_row4_col10\" class=\"data row4 col10\" >-0.24</td>\n",
              "      <td id=\"T_13d08_row4_col11\" class=\"data row4 col11\" >-0.28</td>\n",
              "      <td id=\"T_13d08_row4_col12\" class=\"data row4 col12\" >0.44</td>\n",
              "      <td id=\"T_13d08_row4_col13\" class=\"data row4 col13\" >-0.25</td>\n",
              "      <td id=\"T_13d08_row4_col14\" class=\"data row4 col14\" >0.20</td>\n",
              "      <td id=\"T_13d08_row4_col15\" class=\"data row4 col15\" >-0.24</td>\n",
              "      <td id=\"T_13d08_row4_col16\" class=\"data row4 col16\" >0.27</td>\n",
              "      <td id=\"T_13d08_row4_col17\" class=\"data row4 col17\" >-0.39</td>\n",
              "    </tr>\n",
              "    <tr>\n",
              "      <th id=\"T_13d08_level0_row5\" class=\"row_heading level0 row5\" >io_t</th>\n",
              "      <td id=\"T_13d08_row5_col0\" class=\"data row5 col0\" >0.00</td>\n",
              "      <td id=\"T_13d08_row5_col1\" class=\"data row5 col1\" >0.10</td>\n",
              "      <td id=\"T_13d08_row5_col2\" class=\"data row5 col2\" >0.00</td>\n",
              "      <td id=\"T_13d08_row5_col3\" class=\"data row5 col3\" >0.17</td>\n",
              "      <td id=\"T_13d08_row5_col4\" class=\"data row5 col4\" >-0.19</td>\n",
              "      <td id=\"T_13d08_row5_col5\" class=\"data row5 col5\" >1.00</td>\n",
              "      <td id=\"T_13d08_row5_col6\" class=\"data row5 col6\" >-1.00</td>\n",
              "      <td id=\"T_13d08_row5_col7\" class=\"data row5 col7\" >-0.12</td>\n",
              "      <td id=\"T_13d08_row5_col8\" class=\"data row5 col8\" >0.12</td>\n",
              "      <td id=\"T_13d08_row5_col9\" class=\"data row5 col9\" >-0.32</td>\n",
              "      <td id=\"T_13d08_row5_col10\" class=\"data row5 col10\" >0.26</td>\n",
              "      <td id=\"T_13d08_row5_col11\" class=\"data row5 col11\" >0.39</td>\n",
              "      <td id=\"T_13d08_row5_col12\" class=\"data row5 col12\" >0.27</td>\n",
              "      <td id=\"T_13d08_row5_col13\" class=\"data row5 col13\" >0.27</td>\n",
              "      <td id=\"T_13d08_row5_col14\" class=\"data row5 col14\" >0.39</td>\n",
              "      <td id=\"T_13d08_row5_col15\" class=\"data row5 col15\" >0.26</td>\n",
              "      <td id=\"T_13d08_row5_col16\" class=\"data row5 col16\" >-0.81</td>\n",
              "      <td id=\"T_13d08_row5_col17\" class=\"data row5 col17\" >0.91</td>\n",
              "    </tr>\n",
              "    <tr>\n",
              "      <th id=\"T_13d08_level0_row6\" class=\"row_heading level0 row6\" >lte_5g</th>\n",
              "      <td id=\"T_13d08_row6_col0\" class=\"data row6 col0\" >-0.00</td>\n",
              "      <td id=\"T_13d08_row6_col1\" class=\"data row6 col1\" >-0.10</td>\n",
              "      <td id=\"T_13d08_row6_col2\" class=\"data row6 col2\" >-0.00</td>\n",
              "      <td id=\"T_13d08_row6_col3\" class=\"data row6 col3\" >-0.17</td>\n",
              "      <td id=\"T_13d08_row6_col4\" class=\"data row6 col4\" >0.19</td>\n",
              "      <td id=\"T_13d08_row6_col5\" class=\"data row6 col5\" >-1.00</td>\n",
              "      <td id=\"T_13d08_row6_col6\" class=\"data row6 col6\" >1.00</td>\n",
              "      <td id=\"T_13d08_row6_col7\" class=\"data row6 col7\" >0.12</td>\n",
              "      <td id=\"T_13d08_row6_col8\" class=\"data row6 col8\" >-0.12</td>\n",
              "      <td id=\"T_13d08_row6_col9\" class=\"data row6 col9\" >0.32</td>\n",
              "      <td id=\"T_13d08_row6_col10\" class=\"data row6 col10\" >-0.26</td>\n",
              "      <td id=\"T_13d08_row6_col11\" class=\"data row6 col11\" >-0.39</td>\n",
              "      <td id=\"T_13d08_row6_col12\" class=\"data row6 col12\" >-0.27</td>\n",
              "      <td id=\"T_13d08_row6_col13\" class=\"data row6 col13\" >-0.27</td>\n",
              "      <td id=\"T_13d08_row6_col14\" class=\"data row6 col14\" >-0.39</td>\n",
              "      <td id=\"T_13d08_row6_col15\" class=\"data row6 col15\" >-0.26</td>\n",
              "      <td id=\"T_13d08_row6_col16\" class=\"data row6 col16\" >0.81</td>\n",
              "      <td id=\"T_13d08_row6_col17\" class=\"data row6 col17\" >-0.91</td>\n",
              "    </tr>\n",
              "    <tr>\n",
              "      <th id=\"T_13d08_level0_row7\" class=\"row_heading level0 row7\" >gbr</th>\n",
              "      <td id=\"T_13d08_row7_col0\" class=\"data row7 col0\" >0.00</td>\n",
              "      <td id=\"T_13d08_row7_col1\" class=\"data row7 col1\" >-0.01</td>\n",
              "      <td id=\"T_13d08_row7_col2\" class=\"data row7 col2\" >-0.01</td>\n",
              "      <td id=\"T_13d08_row7_col3\" class=\"data row7 col3\" >-0.02</td>\n",
              "      <td id=\"T_13d08_row7_col4\" class=\"data row7 col4\" >0.42</td>\n",
              "      <td id=\"T_13d08_row7_col5\" class=\"data row7 col5\" >-0.12</td>\n",
              "      <td id=\"T_13d08_row7_col6\" class=\"data row7 col6\" >0.12</td>\n",
              "      <td id=\"T_13d08_row7_col7\" class=\"data row7 col7\" >1.00</td>\n",
              "      <td id=\"T_13d08_row7_col8\" class=\"data row7 col8\" >-1.00</td>\n",
              "      <td id=\"T_13d08_row7_col9\" class=\"data row7 col9\" >0.04</td>\n",
              "      <td id=\"T_13d08_row7_col10\" class=\"data row7 col10\" >-0.21</td>\n",
              "      <td id=\"T_13d08_row7_col11\" class=\"data row7 col11\" >0.05</td>\n",
              "      <td id=\"T_13d08_row7_col12\" class=\"data row7 col12\" >0.28</td>\n",
              "      <td id=\"T_13d08_row7_col13\" class=\"data row7 col13\" >-0.22</td>\n",
              "      <td id=\"T_13d08_row7_col14\" class=\"data row7 col14\" >0.04</td>\n",
              "      <td id=\"T_13d08_row7_col15\" class=\"data row7 col15\" >-0.22</td>\n",
              "      <td id=\"T_13d08_row7_col16\" class=\"data row7 col16\" >0.10</td>\n",
              "      <td id=\"T_13d08_row7_col17\" class=\"data row7 col17\" >-0.32</td>\n",
              "    </tr>\n",
              "    <tr>\n",
              "      <th id=\"T_13d08_level0_row8\" class=\"row_heading level0 row8\" >non_gbr</th>\n",
              "      <td id=\"T_13d08_row8_col0\" class=\"data row8 col0\" >-0.00</td>\n",
              "      <td id=\"T_13d08_row8_col1\" class=\"data row8 col1\" >0.01</td>\n",
              "      <td id=\"T_13d08_row8_col2\" class=\"data row8 col2\" >0.01</td>\n",
              "      <td id=\"T_13d08_row8_col3\" class=\"data row8 col3\" >0.02</td>\n",
              "      <td id=\"T_13d08_row8_col4\" class=\"data row8 col4\" >-0.42</td>\n",
              "      <td id=\"T_13d08_row8_col5\" class=\"data row8 col5\" >0.12</td>\n",
              "      <td id=\"T_13d08_row8_col6\" class=\"data row8 col6\" >-0.12</td>\n",
              "      <td id=\"T_13d08_row8_col7\" class=\"data row8 col7\" >-1.00</td>\n",
              "      <td id=\"T_13d08_row8_col8\" class=\"data row8 col8\" >1.00</td>\n",
              "      <td id=\"T_13d08_row8_col9\" class=\"data row8 col9\" >-0.04</td>\n",
              "      <td id=\"T_13d08_row8_col10\" class=\"data row8 col10\" >0.21</td>\n",
              "      <td id=\"T_13d08_row8_col11\" class=\"data row8 col11\" >-0.05</td>\n",
              "      <td id=\"T_13d08_row8_col12\" class=\"data row8 col12\" >-0.28</td>\n",
              "      <td id=\"T_13d08_row8_col13\" class=\"data row8 col13\" >0.22</td>\n",
              "      <td id=\"T_13d08_row8_col14\" class=\"data row8 col14\" >-0.04</td>\n",
              "      <td id=\"T_13d08_row8_col15\" class=\"data row8 col15\" >0.22</td>\n",
              "      <td id=\"T_13d08_row8_col16\" class=\"data row8 col16\" >-0.10</td>\n",
              "      <td id=\"T_13d08_row8_col17\" class=\"data row8 col17\" >0.32</td>\n",
              "    </tr>\n",
              "    <tr>\n",
              "      <th id=\"T_13d08_level0_row9\" class=\"row_heading level0 row9\" >ar_vr_gaming</th>\n",
              "      <td id=\"T_13d08_row9_col0\" class=\"data row9 col0\" >-0.01</td>\n",
              "      <td id=\"T_13d08_row9_col1\" class=\"data row9 col1\" >-0.03</td>\n",
              "      <td id=\"T_13d08_row9_col2\" class=\"data row9 col2\" >-0.00</td>\n",
              "      <td id=\"T_13d08_row9_col3\" class=\"data row9 col3\" >-0.17</td>\n",
              "      <td id=\"T_13d08_row9_col4\" class=\"data row9 col4\" >-0.13</td>\n",
              "      <td id=\"T_13d08_row9_col5\" class=\"data row9 col5\" >-0.32</td>\n",
              "      <td id=\"T_13d08_row9_col6\" class=\"data row9 col6\" >0.32</td>\n",
              "      <td id=\"T_13d08_row9_col7\" class=\"data row9 col7\" >0.04</td>\n",
              "      <td id=\"T_13d08_row9_col8\" class=\"data row9 col8\" >-0.04</td>\n",
              "      <td id=\"T_13d08_row9_col9\" class=\"data row9 col9\" >1.00</td>\n",
              "      <td id=\"T_13d08_row9_col10\" class=\"data row9 col10\" >-0.08</td>\n",
              "      <td id=\"T_13d08_row9_col11\" class=\"data row9 col11\" >-0.12</td>\n",
              "      <td id=\"T_13d08_row9_col12\" class=\"data row9 col12\" >-0.09</td>\n",
              "      <td id=\"T_13d08_row9_col13\" class=\"data row9 col13\" >-0.09</td>\n",
              "      <td id=\"T_13d08_row9_col14\" class=\"data row9 col14\" >-0.13</td>\n",
              "      <td id=\"T_13d08_row9_col15\" class=\"data row9 col15\" >-0.08</td>\n",
              "      <td id=\"T_13d08_row9_col16\" class=\"data row9 col16\" >-0.30</td>\n",
              "      <td id=\"T_13d08_row9_col17\" class=\"data row9 col17\" >-0.29</td>\n",
              "    </tr>\n",
              "    <tr>\n",
              "      <th id=\"T_13d08_level0_row10\" class=\"row_heading level0 row10\" >healthcare</th>\n",
              "      <td id=\"T_13d08_row10_col0\" class=\"data row10 col0\" >-0.01</td>\n",
              "      <td id=\"T_13d08_row10_col1\" class=\"data row10 col1\" >0.02</td>\n",
              "      <td id=\"T_13d08_row10_col2\" class=\"data row10 col2\" >-0.01</td>\n",
              "      <td id=\"T_13d08_row10_col3\" class=\"data row10 col3\" >-0.17</td>\n",
              "      <td id=\"T_13d08_row10_col4\" class=\"data row10 col4\" >-0.24</td>\n",
              "      <td id=\"T_13d08_row10_col5\" class=\"data row10 col5\" >0.26</td>\n",
              "      <td id=\"T_13d08_row10_col6\" class=\"data row10 col6\" >-0.26</td>\n",
              "      <td id=\"T_13d08_row10_col7\" class=\"data row10 col7\" >-0.21</td>\n",
              "      <td id=\"T_13d08_row10_col8\" class=\"data row10 col8\" >0.21</td>\n",
              "      <td id=\"T_13d08_row10_col9\" class=\"data row10 col9\" >-0.08</td>\n",
              "      <td id=\"T_13d08_row10_col10\" class=\"data row10 col10\" >1.00</td>\n",
              "      <td id=\"T_13d08_row10_col11\" class=\"data row10 col11\" >-0.09</td>\n",
              "      <td id=\"T_13d08_row10_col12\" class=\"data row10 col12\" >-0.06</td>\n",
              "      <td id=\"T_13d08_row10_col13\" class=\"data row10 col13\" >-0.06</td>\n",
              "      <td id=\"T_13d08_row10_col14\" class=\"data row10 col14\" >-0.09</td>\n",
              "      <td id=\"T_13d08_row10_col15\" class=\"data row10 col15\" >-0.06</td>\n",
              "      <td id=\"T_13d08_row10_col16\" class=\"data row10 col16\" >-0.21</td>\n",
              "      <td id=\"T_13d08_row10_col17\" class=\"data row10 col17\" >0.39</td>\n",
              "    </tr>\n",
              "    <tr>\n",
              "      <th id=\"T_13d08_level0_row11\" class=\"row_heading level0 row11\" >industry_4_0</th>\n",
              "      <td id=\"T_13d08_row11_col0\" class=\"data row11 col0\" >-0.01</td>\n",
              "      <td id=\"T_13d08_row11_col1\" class=\"data row11 col1\" >0.05</td>\n",
              "      <td id=\"T_13d08_row11_col2\" class=\"data row11 col2\" >0.00</td>\n",
              "      <td id=\"T_13d08_row11_col3\" class=\"data row11 col3\" >-0.22</td>\n",
              "      <td id=\"T_13d08_row11_col4\" class=\"data row11 col4\" >-0.28</td>\n",
              "      <td id=\"T_13d08_row11_col5\" class=\"data row11 col5\" >0.39</td>\n",
              "      <td id=\"T_13d08_row11_col6\" class=\"data row11 col6\" >-0.39</td>\n",
              "      <td id=\"T_13d08_row11_col7\" class=\"data row11 col7\" >0.05</td>\n",
              "      <td id=\"T_13d08_row11_col8\" class=\"data row11 col8\" >-0.05</td>\n",
              "      <td id=\"T_13d08_row11_col9\" class=\"data row11 col9\" >-0.12</td>\n",
              "      <td id=\"T_13d08_row11_col10\" class=\"data row11 col10\" >-0.09</td>\n",
              "      <td id=\"T_13d08_row11_col11\" class=\"data row11 col11\" >1.00</td>\n",
              "      <td id=\"T_13d08_row11_col12\" class=\"data row11 col12\" >-0.09</td>\n",
              "      <td id=\"T_13d08_row11_col13\" class=\"data row11 col13\" >-0.09</td>\n",
              "      <td id=\"T_13d08_row11_col14\" class=\"data row11 col14\" >-0.13</td>\n",
              "      <td id=\"T_13d08_row11_col15\" class=\"data row11 col15\" >-0.09</td>\n",
              "      <td id=\"T_13d08_row11_col16\" class=\"data row11 col16\" >-0.31</td>\n",
              "      <td id=\"T_13d08_row11_col17\" class=\"data row11 col17\" >0.35</td>\n",
              "    </tr>\n",
              "    <tr>\n",
              "      <th id=\"T_13d08_level0_row12\" class=\"row_heading level0 row12\" >io_t_devices</th>\n",
              "      <td id=\"T_13d08_row12_col0\" class=\"data row12 col0\" >0.00</td>\n",
              "      <td id=\"T_13d08_row12_col1\" class=\"data row12 col1\" >0.02</td>\n",
              "      <td id=\"T_13d08_row12_col2\" class=\"data row12 col2\" >-0.00</td>\n",
              "      <td id=\"T_13d08_row12_col3\" class=\"data row12 col3\" >0.39</td>\n",
              "      <td id=\"T_13d08_row12_col4\" class=\"data row12 col4\" >0.44</td>\n",
              "      <td id=\"T_13d08_row12_col5\" class=\"data row12 col5\" >0.27</td>\n",
              "      <td id=\"T_13d08_row12_col6\" class=\"data row12 col6\" >-0.27</td>\n",
              "      <td id=\"T_13d08_row12_col7\" class=\"data row12 col7\" >0.28</td>\n",
              "      <td id=\"T_13d08_row12_col8\" class=\"data row12 col8\" >-0.28</td>\n",
              "      <td id=\"T_13d08_row12_col9\" class=\"data row12 col9\" >-0.09</td>\n",
              "      <td id=\"T_13d08_row12_col10\" class=\"data row12 col10\" >-0.06</td>\n",
              "      <td id=\"T_13d08_row12_col11\" class=\"data row12 col11\" >-0.09</td>\n",
              "      <td id=\"T_13d08_row12_col12\" class=\"data row12 col12\" >1.00</td>\n",
              "      <td id=\"T_13d08_row12_col13\" class=\"data row12 col13\" >-0.06</td>\n",
              "      <td id=\"T_13d08_row12_col14\" class=\"data row12 col14\" >-0.09</td>\n",
              "      <td id=\"T_13d08_row12_col15\" class=\"data row12 col15\" >-0.06</td>\n",
              "      <td id=\"T_13d08_row12_col16\" class=\"data row12 col16\" >-0.21</td>\n",
              "      <td id=\"T_13d08_row12_col17\" class=\"data row12 col17\" >0.09</td>\n",
              "    </tr>\n",
              "    <tr>\n",
              "      <th id=\"T_13d08_level0_row13\" class=\"row_heading level0 row13\" >public_safety</th>\n",
              "      <td id=\"T_13d08_row13_col0\" class=\"data row13 col0\" >0.00</td>\n",
              "      <td id=\"T_13d08_row13_col1\" class=\"data row13 col1\" >0.02</td>\n",
              "      <td id=\"T_13d08_row13_col2\" class=\"data row13 col2\" >0.00</td>\n",
              "      <td id=\"T_13d08_row13_col3\" class=\"data row13 col3\" >-0.18</td>\n",
              "      <td id=\"T_13d08_row13_col4\" class=\"data row13 col4\" >-0.25</td>\n",
              "      <td id=\"T_13d08_row13_col5\" class=\"data row13 col5\" >0.27</td>\n",
              "      <td id=\"T_13d08_row13_col6\" class=\"data row13 col6\" >-0.27</td>\n",
              "      <td id=\"T_13d08_row13_col7\" class=\"data row13 col7\" >-0.22</td>\n",
              "      <td id=\"T_13d08_row13_col8\" class=\"data row13 col8\" >0.22</td>\n",
              "      <td id=\"T_13d08_row13_col9\" class=\"data row13 col9\" >-0.09</td>\n",
              "      <td id=\"T_13d08_row13_col10\" class=\"data row13 col10\" >-0.06</td>\n",
              "      <td id=\"T_13d08_row13_col11\" class=\"data row13 col11\" >-0.09</td>\n",
              "      <td id=\"T_13d08_row13_col12\" class=\"data row13 col12\" >-0.06</td>\n",
              "      <td id=\"T_13d08_row13_col13\" class=\"data row13 col13\" >1.00</td>\n",
              "      <td id=\"T_13d08_row13_col14\" class=\"data row13 col14\" >-0.09</td>\n",
              "      <td id=\"T_13d08_row13_col15\" class=\"data row13 col15\" >-0.06</td>\n",
              "      <td id=\"T_13d08_row13_col16\" class=\"data row13 col16\" >-0.22</td>\n",
              "      <td id=\"T_13d08_row13_col17\" class=\"data row13 col17\" >0.40</td>\n",
              "    </tr>\n",
              "    <tr>\n",
              "      <th id=\"T_13d08_level0_row14\" class=\"row_heading level0 row14\" >smart_city_and_home</th>\n",
              "      <td id=\"T_13d08_row14_col0\" class=\"data row14 col0\" >0.01</td>\n",
              "      <td id=\"T_13d08_row14_col1\" class=\"data row14 col1\" >0.05</td>\n",
              "      <td id=\"T_13d08_row14_col2\" class=\"data row14 col2\" >0.01</td>\n",
              "      <td id=\"T_13d08_row14_col3\" class=\"data row14 col3\" >0.58</td>\n",
              "      <td id=\"T_13d08_row14_col4\" class=\"data row14 col4\" >0.20</td>\n",
              "      <td id=\"T_13d08_row14_col5\" class=\"data row14 col5\" >0.39</td>\n",
              "      <td id=\"T_13d08_row14_col6\" class=\"data row14 col6\" >-0.39</td>\n",
              "      <td id=\"T_13d08_row14_col7\" class=\"data row14 col7\" >0.04</td>\n",
              "      <td id=\"T_13d08_row14_col8\" class=\"data row14 col8\" >-0.04</td>\n",
              "      <td id=\"T_13d08_row14_col9\" class=\"data row14 col9\" >-0.13</td>\n",
              "      <td id=\"T_13d08_row14_col10\" class=\"data row14 col10\" >-0.09</td>\n",
              "      <td id=\"T_13d08_row14_col11\" class=\"data row14 col11\" >-0.13</td>\n",
              "      <td id=\"T_13d08_row14_col12\" class=\"data row14 col12\" >-0.09</td>\n",
              "      <td id=\"T_13d08_row14_col13\" class=\"data row14 col13\" >-0.09</td>\n",
              "      <td id=\"T_13d08_row14_col14\" class=\"data row14 col14\" >1.00</td>\n",
              "      <td id=\"T_13d08_row14_col15\" class=\"data row14 col15\" >-0.09</td>\n",
              "      <td id=\"T_13d08_row14_col16\" class=\"data row14 col16\" >-0.32</td>\n",
              "      <td id=\"T_13d08_row14_col17\" class=\"data row14 col17\" >0.14</td>\n",
              "    </tr>\n",
              "    <tr>\n",
              "      <th id=\"T_13d08_level0_row15\" class=\"row_heading level0 row15\" >smart_transportation</th>\n",
              "      <td id=\"T_13d08_row15_col0\" class=\"data row15 col0\" >-0.00</td>\n",
              "      <td id=\"T_13d08_row15_col1\" class=\"data row15 col1\" >0.02</td>\n",
              "      <td id=\"T_13d08_row15_col2\" class=\"data row15 col2\" >-0.00</td>\n",
              "      <td id=\"T_13d08_row15_col3\" class=\"data row15 col3\" >-0.18</td>\n",
              "      <td id=\"T_13d08_row15_col4\" class=\"data row15 col4\" >-0.24</td>\n",
              "      <td id=\"T_13d08_row15_col5\" class=\"data row15 col5\" >0.26</td>\n",
              "      <td id=\"T_13d08_row15_col6\" class=\"data row15 col6\" >-0.26</td>\n",
              "      <td id=\"T_13d08_row15_col7\" class=\"data row15 col7\" >-0.22</td>\n",
              "      <td id=\"T_13d08_row15_col8\" class=\"data row15 col8\" >0.22</td>\n",
              "      <td id=\"T_13d08_row15_col9\" class=\"data row15 col9\" >-0.08</td>\n",
              "      <td id=\"T_13d08_row15_col10\" class=\"data row15 col10\" >-0.06</td>\n",
              "      <td id=\"T_13d08_row15_col11\" class=\"data row15 col11\" >-0.09</td>\n",
              "      <td id=\"T_13d08_row15_col12\" class=\"data row15 col12\" >-0.06</td>\n",
              "      <td id=\"T_13d08_row15_col13\" class=\"data row15 col13\" >-0.06</td>\n",
              "      <td id=\"T_13d08_row15_col14\" class=\"data row15 col14\" >-0.09</td>\n",
              "      <td id=\"T_13d08_row15_col15\" class=\"data row15 col15\" >1.00</td>\n",
              "      <td id=\"T_13d08_row15_col16\" class=\"data row15 col16\" >-0.21</td>\n",
              "      <td id=\"T_13d08_row15_col17\" class=\"data row15 col17\" >0.39</td>\n",
              "    </tr>\n",
              "    <tr>\n",
              "      <th id=\"T_13d08_level0_row16\" class=\"row_heading level0 row16\" >smartphone</th>\n",
              "      <td id=\"T_13d08_row16_col0\" class=\"data row16 col0\" >0.00</td>\n",
              "      <td id=\"T_13d08_row16_col1\" class=\"data row16 col1\" >-0.08</td>\n",
              "      <td id=\"T_13d08_row16_col2\" class=\"data row16 col2\" >0.00</td>\n",
              "      <td id=\"T_13d08_row16_col3\" class=\"data row16 col3\" >-0.07</td>\n",
              "      <td id=\"T_13d08_row16_col4\" class=\"data row16 col4\" >0.27</td>\n",
              "      <td id=\"T_13d08_row16_col5\" class=\"data row16 col5\" >-0.81</td>\n",
              "      <td id=\"T_13d08_row16_col6\" class=\"data row16 col6\" >0.81</td>\n",
              "      <td id=\"T_13d08_row16_col7\" class=\"data row16 col7\" >0.10</td>\n",
              "      <td id=\"T_13d08_row16_col8\" class=\"data row16 col8\" >-0.10</td>\n",
              "      <td id=\"T_13d08_row16_col9\" class=\"data row16 col9\" >-0.30</td>\n",
              "      <td id=\"T_13d08_row16_col10\" class=\"data row16 col10\" >-0.21</td>\n",
              "      <td id=\"T_13d08_row16_col11\" class=\"data row16 col11\" >-0.31</td>\n",
              "      <td id=\"T_13d08_row16_col12\" class=\"data row16 col12\" >-0.21</td>\n",
              "      <td id=\"T_13d08_row16_col13\" class=\"data row16 col13\" >-0.22</td>\n",
              "      <td id=\"T_13d08_row16_col14\" class=\"data row16 col14\" >-0.32</td>\n",
              "      <td id=\"T_13d08_row16_col15\" class=\"data row16 col15\" >-0.21</td>\n",
              "      <td id=\"T_13d08_row16_col16\" class=\"data row16 col16\" >1.00</td>\n",
              "      <td id=\"T_13d08_row16_col17\" class=\"data row16 col17\" >-0.73</td>\n",
              "    </tr>\n",
              "    <tr>\n",
              "      <th id=\"T_13d08_level0_row17\" class=\"row_heading level0 row17\" >slice_type</th>\n",
              "      <td id=\"T_13d08_row17_col0\" class=\"data row17 col0\" >-0.00</td>\n",
              "      <td id=\"T_13d08_row17_col1\" class=\"data row17 col1\" >0.08</td>\n",
              "      <td id=\"T_13d08_row17_col2\" class=\"data row17 col2\" >-0.00</td>\n",
              "      <td id=\"T_13d08_row17_col3\" class=\"data row17 col3\" >-0.10</td>\n",
              "      <td id=\"T_13d08_row17_col4\" class=\"data row17 col4\" >-0.39</td>\n",
              "      <td id=\"T_13d08_row17_col5\" class=\"data row17 col5\" >0.91</td>\n",
              "      <td id=\"T_13d08_row17_col6\" class=\"data row17 col6\" >-0.91</td>\n",
              "      <td id=\"T_13d08_row17_col7\" class=\"data row17 col7\" >-0.32</td>\n",
              "      <td id=\"T_13d08_row17_col8\" class=\"data row17 col8\" >0.32</td>\n",
              "      <td id=\"T_13d08_row17_col9\" class=\"data row17 col9\" >-0.29</td>\n",
              "      <td id=\"T_13d08_row17_col10\" class=\"data row17 col10\" >0.39</td>\n",
              "      <td id=\"T_13d08_row17_col11\" class=\"data row17 col11\" >0.35</td>\n",
              "      <td id=\"T_13d08_row17_col12\" class=\"data row17 col12\" >0.09</td>\n",
              "      <td id=\"T_13d08_row17_col13\" class=\"data row17 col13\" >0.40</td>\n",
              "      <td id=\"T_13d08_row17_col14\" class=\"data row17 col14\" >0.14</td>\n",
              "      <td id=\"T_13d08_row17_col15\" class=\"data row17 col15\" >0.39</td>\n",
              "      <td id=\"T_13d08_row17_col16\" class=\"data row17 col16\" >-0.73</td>\n",
              "      <td id=\"T_13d08_row17_col17\" class=\"data row17 col17\" >1.00</td>\n",
              "    </tr>\n",
              "  </tbody>\n",
              "</table>\n"
            ]
          },
          "metadata": {},
          "execution_count": 38
        }
      ]
    },
    {
      "cell_type": "code",
      "source": [
        "train_dataset.columns"
      ],
      "metadata": {
        "colab": {
          "base_uri": "https://localhost:8080/"
        },
        "id": "ZjEHVcHEeILa",
        "outputId": "9054cfa7-e37f-4f08-ffdb-a78e20a1dc03"
      },
      "execution_count": 39,
      "outputs": [
        {
          "output_type": "execute_result",
          "data": {
            "text/plain": [
              "Index(['id', 'lte_5g_category', 'time', 'packet_loss_rate', 'packet_delay',\n",
              "       'io_t', 'lte_5g', 'gbr', 'non_gbr', 'ar_vr_gaming', 'healthcare',\n",
              "       'industry_4_0', 'io_t_devices', 'public_safety', 'smart_city_and_home',\n",
              "       'smart_transportation', 'smartphone', 'slice_type'],\n",
              "      dtype='object')"
            ]
          },
          "metadata": {},
          "execution_count": 39
        }
      ]
    },
    {
      "cell_type": "code",
      "source": [
        "# Checking for outliers in the continuous variables\n",
        "num_train_dataset = train_dataset[['id', 'lte_5g_category', 'time', 'packet_loss_rate', 'packet_delay',\n",
        "       'io_t', 'lte_5g', 'gbr', 'non_gbr', 'ar_vr_gaming', 'healthcare',\n",
        "       'industry_4_0', 'io_t_devices', 'public_safety', 'smart_city_and_home',\n",
        "       'smart_transportation', 'smartphone', 'slice_type']]\n"
      ],
      "metadata": {
        "id": "KFqnufcneKko"
      },
      "execution_count": 40,
      "outputs": []
    },
    {
      "cell_type": "code",
      "source": [
        "train_dataset['slice_type'].value_counts()"
      ],
      "metadata": {
        "colab": {
          "base_uri": "https://localhost:8080/"
        },
        "id": "eSAwkmK3d-d8",
        "outputId": "b84bedc5-02b9-42b5-bce6-e7c7dda70487"
      },
      "execution_count": 41,
      "outputs": [
        {
          "output_type": "execute_result",
          "data": {
            "text/plain": [
              "1    9839\n",
              "2    4294\n",
              "3    4240\n",
              "Name: slice_type, dtype: int64"
            ]
          },
          "metadata": {},
          "execution_count": 41
        }
      ]
    },
    {
      "cell_type": "code",
      "source": [
        "train_dataset.columns"
      ],
      "metadata": {
        "colab": {
          "base_uri": "https://localhost:8080/"
        },
        "id": "aEH4Fv35d-iZ",
        "outputId": "29422140-757e-4c1e-d0f9-0499b0a4bedc"
      },
      "execution_count": 42,
      "outputs": [
        {
          "output_type": "execute_result",
          "data": {
            "text/plain": [
              "Index(['id', 'lte_5g_category', 'time', 'packet_loss_rate', 'packet_delay',\n",
              "       'io_t', 'lte_5g', 'gbr', 'non_gbr', 'ar_vr_gaming', 'healthcare',\n",
              "       'industry_4_0', 'io_t_devices', 'public_safety', 'smart_city_and_home',\n",
              "       'smart_transportation', 'smartphone', 'slice_type'],\n",
              "      dtype='object')"
            ]
          },
          "metadata": {},
          "execution_count": 42
        }
      ]
    },
    {
      "cell_type": "code",
      "source": [
        "y_train = train_dataset['slice_type']\n",
        "x_train = train_dataset.drop('slice_type', axis = 1)\n",
        "y_test = test_dataset['slice_type']\n",
        "x_test = test_dataset.drop('slice_type', axis = 1)"
      ],
      "metadata": {
        "id": "iW7G_adjeSaM"
      },
      "execution_count": 43,
      "outputs": []
    },
    {
      "cell_type": "code",
      "source": [
        "from sklearn.ensemble import ExtraTreesClassifier\n",
        "extra_tree_forest = ExtraTreesClassifier(n_estimators = 5,\n",
        "                                        criterion ='entropy', max_features = 2)\n",
        "extra_tree_forest.fit(x_train, y_train)\n",
        "feature_importance = extra_tree_forest.feature_importances_\n",
        "feature_importance_normalized = np.std([tree.feature_importances_ for tree in\n",
        "                                        extra_tree_forest.estimators_],\n",
        "                                        axis = 0)"
      ],
      "metadata": {
        "id": "LMPx8lOieUwN"
      },
      "execution_count": 44,
      "outputs": []
    },
    {
      "cell_type": "code",
      "source": [
        "import matplotlib.pyplot as plt"
      ],
      "metadata": {
        "id": "GS9SpmI8eXQW"
      },
      "execution_count": 45,
      "outputs": []
    },
    {
      "cell_type": "code",
      "source": [
        "feature_importance_normalized"
      ],
      "metadata": {
        "colab": {
          "base_uri": "https://localhost:8080/"
        },
        "id": "hNBK06GseZMO",
        "outputId": "345b20a1-c1df-432d-e83a-d30e3b58fc38"
      },
      "execution_count": 46,
      "outputs": [
        {
          "output_type": "execute_result",
          "data": {
            "text/plain": [
              "array([1.96047907e-06, 3.22411088e-05, 0.00000000e+00, 7.71850427e-02,\n",
              "       2.06573178e-01, 2.54515106e-01, 0.00000000e+00, 6.79080438e-02,\n",
              "       8.53867020e-02, 2.29935701e-02, 4.69127328e-03, 4.45481272e-02,\n",
              "       5.46713374e-02, 6.93306611e-03, 6.74625612e-02, 1.73966301e-03,\n",
              "       0.00000000e+00])"
            ]
          },
          "metadata": {},
          "execution_count": 46
        }
      ]
    },
    {
      "cell_type": "code",
      "source": [
        "plt.figure(figsize = [20,9])\n",
        "plt.bar(x_train.columns, feature_importance_normalized)\n",
        "plt.xlabel('Feature Labels')\n",
        "plt.ylabel('Feature Importances')\n",
        "plt.xticks(rotation = 90)\n",
        "plt.title('Comparison of different Feature Importances')\n",
        "plt.show()"
      ],
      "metadata": {
        "colab": {
          "base_uri": "https://localhost:8080/",
          "height": 552
        },
        "id": "U3w2Wwlneaes",
        "outputId": "fc011eae-9eff-4e97-c9d2-35d82cfe6f95"
      },
      "execution_count": 47,
      "outputs": [
        {
          "output_type": "display_data",
          "data": {
            "text/plain": [
              "<Figure size 2000x900 with 1 Axes>"
            ],
            "image/png": "[encoded data removed]"
          },
          "metadata": {}
        }
      ]
    },
    {
      "cell_type": "code",
      "source": [
        "x_train.columns"
      ],
      "metadata": {
        "colab": {
          "base_uri": "https://localhost:8080/"
        },
        "id": "CcPfIUbcedj0",
        "outputId": "942f2ae1-0dae-45f1-ea1a-6d97490439a3"
      },
      "execution_count": 48,
      "outputs": [
        {
          "output_type": "execute_result",
          "data": {
            "text/plain": [
              "Index(['id', 'lte_5g_category', 'time', 'packet_loss_rate', 'packet_delay',\n",
              "       'io_t', 'lte_5g', 'gbr', 'non_gbr', 'ar_vr_gaming', 'healthcare',\n",
              "       'industry_4_0', 'io_t_devices', 'public_safety', 'smart_city_and_home',\n",
              "       'smart_transportation', 'smartphone'],\n",
              "      dtype='object')"
            ]
          },
          "metadata": {},
          "execution_count": 48
        }
      ]
    },
    {
      "cell_type": "code",
      "source": [
        "x_train2 = x_train[['lte_5g_category', 'packet_loss_rate', 'packet_delay',\n",
        "       'io_t', 'lte_5g', 'gbr', 'non_gbr', 'ar_vr_gaming', 'healthcare',\n",
        "       'industry_4_0', 'io_t_devices', 'public_safety', 'smart_city_and_home',\n",
        "       'smart_transportation', 'smartphone']]"
      ],
      "metadata": {
        "id": "BTJDLfYueglY"
      },
      "execution_count": 49,
      "outputs": []
    },
    {
      "cell_type": "code",
      "source": [
        "x_test2 = x_test[['lte_5g_category', 'packet_loss_rate', 'packet_delay',\n",
        "       'io_t', 'lte_5g', 'gbr', 'non_gbr', 'ar_vr_gaming', 'healthcare',\n",
        "       'industry_4_0', 'io_t_devices', 'public_safety', 'smart_city_and_home',\n",
        "       'smart_transportation', 'smartphone']]"
      ],
      "metadata": {
        "id": "z6x7mwaSfYFG"
      },
      "execution_count": 50,
      "outputs": []
    },
    {
      "cell_type": "code",
      "source": [
        "print(x_train2.shape, x_test2.shape)"
      ],
      "metadata": {
        "colab": {
          "base_uri": "https://localhost:8080/"
        },
        "id": "9WLdp3Gxfbyh",
        "outputId": "03ad1066-7eaf-4cf5-8415-f076a422e09b"
      },
      "execution_count": 51,
      "outputs": [
        {
          "output_type": "stream",
          "name": "stdout",
          "text": [
            "(18373, 15) (31584, 15)\n"
          ]
        }
      ]
    },
    {
      "cell_type": "code",
      "source": [
        "y_train.value_counts()"
      ],
      "metadata": {
        "colab": {
          "base_uri": "https://localhost:8080/"
        },
        "id": "bQtTO3FXfdrW",
        "outputId": "f7ea3bce-52fa-44d5-e1b0-caf2348e6322"
      },
      "execution_count": 52,
      "outputs": [
        {
          "output_type": "execute_result",
          "data": {
            "text/plain": [
              "1    9839\n",
              "2    4294\n",
              "3    4240\n",
              "Name: slice_type, dtype: int64"
            ]
          },
          "metadata": {},
          "execution_count": 52
        }
      ]
    },
    {
      "cell_type": "code",
      "source": [
        "x_train2 = pd.DataFrame(x_train2)\n",
        "x_test2 = pd.DataFrame(x_test2)"
      ],
      "metadata": {
        "id": "8Y-nWTsYf1-V"
      },
      "execution_count": 53,
      "outputs": []
    },
    {
      "cell_type": "markdown",
      "source": [
        "### Pearson Correlation"
      ],
      "metadata": {
        "id": "Rwu9-8czgPzq"
      }
    },
    {
      "cell_type": "code",
      "source": [
        "x_train2.astype(float).corr()"
      ],
      "metadata": {
        "colab": {
          "base_uri": "https://localhost:8080/",
          "height": 540
        },
        "id": "mnLF9O_rf96G",
        "outputId": "ba0c17c0-0c3d-4d29-d3fa-a2d491c4bfc3"
      },
      "execution_count": 54,
      "outputs": [
        {
          "output_type": "execute_result",
          "data": {
            "text/plain": [
              "                      lte_5g_category  packet_loss_rate  packet_delay  \\\n",
              "lte_5g_category              1.000000          0.022254     -0.015085   \n",
              "packet_loss_rate             0.022254          1.000000      0.306436   \n",
              "packet_delay                -0.015085          0.306436      1.000000   \n",
              "io_t                         0.095605          0.170858     -0.187910   \n",
              "lte_5g                      -0.095605         -0.170858      0.187910   \n",
              "gbr                         -0.007156         -0.022315      0.424124   \n",
              "non_gbr                      0.007156          0.022315     -0.424124   \n",
              "ar_vr_gaming                -0.034010         -0.168172     -0.127614   \n",
              "healthcare                   0.018408         -0.174050     -0.238384   \n",
              "industry_4_0                 0.045106         -0.216202     -0.284384   \n",
              "io_t_devices                 0.019458          0.389878      0.437355   \n",
              "public_safety                0.019485         -0.182358     -0.249763   \n",
              "smart_city_and_home          0.047347          0.578743      0.200818   \n",
              "smart_transportation         0.019787         -0.176111     -0.241206   \n",
              "smartphone                  -0.075152         -0.067416      0.268831   \n",
              "\n",
              "                          io_t    lte_5g       gbr   non_gbr  ar_vr_gaming  \\\n",
              "lte_5g_category       0.095605 -0.095605 -0.007156  0.007156     -0.034010   \n",
              "packet_loss_rate      0.170858 -0.170858 -0.022315  0.022315     -0.168172   \n",
              "packet_delay         -0.187910  0.187910  0.424124 -0.424124     -0.127614   \n",
              "io_t                  1.000000 -1.000000 -0.122402  0.122402     -0.321284   \n",
              "lte_5g               -1.000000  1.000000  0.122402 -0.122402      0.321284   \n",
              "gbr                  -0.122402  0.122402  1.000000 -1.000000      0.037476   \n",
              "non_gbr               0.122402 -0.122402 -1.000000  1.000000     -0.037476   \n",
              "ar_vr_gaming         -0.321284  0.321284  0.037476 -0.037476      1.000000   \n",
              "healthcare            0.260863 -0.260863 -0.213782  0.213782     -0.083811   \n",
              "industry_4_0          0.385515 -0.385515  0.045353 -0.045353     -0.123860   \n",
              "io_t_devices          0.265817 -0.265817  0.281337 -0.281337     -0.085403   \n",
              "public_safety         0.273314 -0.273314 -0.223986  0.223986     -0.087812   \n",
              "smart_city_and_home   0.394585 -0.394585  0.035940 -0.035940     -0.126774   \n",
              "smart_transportation  0.263951 -0.263951 -0.216313  0.216313     -0.084803   \n",
              "smartphone           -0.807524  0.807524  0.099995 -0.099995     -0.299119   \n",
              "\n",
              "                      healthcare  industry_4_0  io_t_devices  public_safety  \\\n",
              "lte_5g_category         0.018408      0.045106      0.019458       0.019485   \n",
              "packet_loss_rate       -0.174050     -0.216202      0.389878      -0.182358   \n",
              "packet_delay           -0.238384     -0.284384      0.437355      -0.249763   \n",
              "io_t                    0.260863      0.385515      0.265817       0.273314   \n",
              "lte_5g                 -0.260863     -0.385515     -0.265817      -0.273314   \n",
              "gbr                    -0.213782      0.045353      0.281337      -0.223986   \n",
              "non_gbr                 0.213782     -0.045353     -0.281337       0.223986   \n",
              "ar_vr_gaming           -0.083811     -0.123860     -0.085403      -0.087812   \n",
              "healthcare              1.000000     -0.087228     -0.060145      -0.061841   \n",
              "industry_4_0           -0.087228      1.000000     -0.088885      -0.091391   \n",
              "io_t_devices           -0.060145     -0.088885      1.000000      -0.063016   \n",
              "public_safety          -0.061841     -0.091391     -0.063016       1.000000   \n",
              "smart_city_and_home    -0.089280     -0.131942     -0.090976      -0.093542   \n",
              "smart_transportation   -0.059722     -0.088261     -0.060857      -0.062573   \n",
              "smartphone             -0.210653     -0.311313     -0.214654      -0.220708   \n",
              "\n",
              "                      smart_city_and_home  smart_transportation  smartphone  \n",
              "lte_5g_category                  0.047347              0.019787   -0.075152  \n",
              "packet_loss_rate                 0.578743             -0.176111   -0.067416  \n",
              "packet_delay                     0.200818             -0.241206    0.268831  \n",
              "io_t                             0.394585              0.263951   -0.807524  \n",
              "lte_5g                          -0.394585             -0.263951    0.807524  \n",
              "gbr                              0.035940             -0.216313    0.099995  \n",
              "non_gbr                         -0.035940              0.216313   -0.099995  \n",
              "ar_vr_gaming                    -0.126774             -0.084803   -0.299119  \n",
              "healthcare                      -0.089280             -0.059722   -0.210653  \n",
              "industry_4_0                    -0.131942             -0.088261   -0.311313  \n",
              "io_t_devices                    -0.090976             -0.060857   -0.214654  \n",
              "public_safety                   -0.093542             -0.062573   -0.220708  \n",
              "smart_city_and_home              1.000000             -0.090337   -0.318637  \n",
              "smart_transportation            -0.090337              1.000000   -0.213147  \n",
              "smartphone                      -0.318637             -0.213147    1.000000  "
            ],
            "text/html": [
              "\n",
              "  <div id=\"df-0d3ad490-a742-4778-a468-d44f5e0ed7df\" class=\"colab-df-container\">\n",
              "    <div>\n",
              "<style scoped>\n",
              "    .dataframe tbody tr th:only-of-type {\n",
              "        vertical-align: middle;\n",
              "    }\n",
              "\n",
              "    .dataframe tbody tr th {\n",
              "        vertical-align: top;\n",
              "    }\n",
              "\n",
              "    .dataframe thead th {\n",
              "        text-align: right;\n",
              "    }\n",
              "</style>\n",
              "<table border=\"1\" class=\"dataframe\">\n",
              "  <thead>\n",
              "    <tr style=\"text-align: right;\">\n",
              "      <th></th>\n",
              "      <th>lte_5g_category</th>\n",
              "      <th>packet_loss_rate</th>\n",
              "      <th>packet_delay</th>\n",
              "      <th>io_t</th>\n",
              "      <th>lte_5g</th>\n",
              "      <th>gbr</th>\n",
              "      <th>non_gbr</th>\n",
              "      <th>ar_vr_gaming</th>\n",
              "      <th>healthcare</th>\n",
              "      <th>industry_4_0</th>\n",
              "      <th>io_t_devices</th>\n",
              "      <th>public_safety</th>\n",
              "      <th>smart_city_and_home</th>\n",
              "      <th>smart_transportation</th>\n",
              "      <th>smartphone</th>\n",
              "    </tr>\n",
              "  </thead>\n",
              "  <tbody>\n",
              "    <tr>\n",
              "      <th>lte_5g_category</th>\n",
              "      <td>1.000000</td>\n",
              "      <td>0.022254</td>\n",
              "      <td>-0.015085</td>\n",
              "      <td>0.095605</td>\n",
              "      <td>-0.095605</td>\n",
              "      <td>-0.007156</td>\n",
              "      <td>0.007156</td>\n",
              "      <td>-0.034010</td>\n",
              "      <td>0.018408</td>\n",
              "      <td>0.045106</td>\n",
              "      <td>0.019458</td>\n",
              "      <td>0.019485</td>\n",
              "      <td>0.047347</td>\n",
              "      <td>0.019787</td>\n",
              "      <td>-0.075152</td>\n",
              "    </tr>\n",
              "    <tr>\n",
              "      <th>packet_loss_rate</th>\n",
              "      <td>0.022254</td>\n",
              "      <td>1.000000</td>\n",
              "      <td>0.306436</td>\n",
              "      <td>0.170858</td>\n",
              "      <td>-0.170858</td>\n",
              "      <td>-0.022315</td>\n",
              "      <td>0.022315</td>\n",
              "      <td>-0.168172</td>\n",
              "      <td>-0.174050</td>\n",
              "      <td>-0.216202</td>\n",
              "      <td>0.389878</td>\n",
              "      <td>-0.182358</td>\n",
              "      <td>0.578743</td>\n",
              "      <td>-0.176111</td>\n",
              "      <td>-0.067416</td>\n",
              "    </tr>\n",
              "    <tr>\n",
              "      <th>packet_delay</th>\n",
              "      <td>-0.015085</td>\n",
              "      <td>0.306436</td>\n",
              "      <td>1.000000</td>\n",
              "      <td>-0.187910</td>\n",
              "      <td>0.187910</td>\n",
              "      <td>0.424124</td>\n",
              "      <td>-0.424124</td>\n",
              "      <td>-0.127614</td>\n",
              "      <td>-0.238384</td>\n",
              "      <td>-0.284384</td>\n",
              "      <td>0.437355</td>\n",
              "      <td>-0.249763</td>\n",
              "      <td>0.200818</td>\n",
              "      <td>-0.241206</td>\n",
              "      <td>0.268831</td>\n",
              "    </tr>\n",
              "    <tr>\n",
              "      <th>io_t</th>\n",
              "      <td>0.095605</td>\n",
              "      <td>0.170858</td>\n",
              "      <td>-0.187910</td>\n",
              "      <td>1.000000</td>\n",
              "      <td>-1.000000</td>\n",
              "      <td>-0.122402</td>\n",
              "      <td>0.122402</td>\n",
              "      <td>-0.321284</td>\n",
              "      <td>0.260863</td>\n",
              "      <td>0.385515</td>\n",
              "      <td>0.265817</td>\n",
              "      <td>0.273314</td>\n",
              "      <td>0.394585</td>\n",
              "      <td>0.263951</td>\n",
              "      <td>-0.807524</td>\n",
              "    </tr>\n",
              "    <tr>\n",
              "      <th>lte_5g</th>\n",
              "      <td>-0.095605</td>\n",
              "      <td>-0.170858</td>\n",
              "      <td>0.187910</td>\n",
              "      <td>-1.000000</td>\n",
              "      <td>1.000000</td>\n",
              "      <td>0.122402</td>\n",
              "      <td>-0.122402</td>\n",
              "      <td>0.321284</td>\n",
              "      <td>-0.260863</td>\n",
              "      <td>-0.385515</td>\n",
              "      <td>-0.265817</td>\n",
              "      <td>-0.273314</td>\n",
              "      <td>-0.394585</td>\n",
              "      <td>-0.263951</td>\n",
              "      <td>0.807524</td>\n",
              "    </tr>\n",
              "    <tr>\n",
              "      <th>gbr</th>\n",
              "      <td>-0.007156</td>\n",
              "      <td>-0.022315</td>\n",
              "      <td>0.424124</td>\n",
              "      <td>-0.122402</td>\n",
              "      <td>0.122402</td>\n",
              "      <td>1.000000</td>\n",
              "      <td>-1.000000</td>\n",
              "      <td>0.037476</td>\n",
              "      <td>-0.213782</td>\n",
              "      <td>0.045353</td>\n",
              "      <td>0.281337</td>\n",
              "      <td>-0.223986</td>\n",
              "      <td>0.035940</td>\n",
              "      <td>-0.216313</td>\n",
              "      <td>0.099995</td>\n",
              "    </tr>\n",
              "    <tr>\n",
              "      <th>non_gbr</th>\n",
              "      <td>0.007156</td>\n",
              "      <td>0.022315</td>\n",
              "      <td>-0.424124</td>\n",
              "      <td>0.122402</td>\n",
              "      <td>-0.122402</td>\n",
              "      <td>-1.000000</td>\n",
              "      <td>1.000000</td>\n",
              "      <td>-0.037476</td>\n",
              "      <td>0.213782</td>\n",
              "      <td>-0.045353</td>\n",
              "      <td>-0.281337</td>\n",
              "      <td>0.223986</td>\n",
              "      <td>-0.035940</td>\n",
              "      <td>0.216313</td>\n",
              "      <td>-0.099995</td>\n",
              "    </tr>\n",
              "    <tr>\n",
              "      <th>ar_vr_gaming</th>\n",
              "      <td>-0.034010</td>\n",
              "      <td>-0.168172</td>\n",
              "      <td>-0.127614</td>\n",
              "      <td>-0.321284</td>\n",
              "      <td>0.321284</td>\n",
              "      <td>0.037476</td>\n",
              "      <td>-0.037476</td>\n",
              "      <td>1.000000</td>\n",
              "      <td>-0.083811</td>\n",
              "      <td>-0.123860</td>\n",
              "      <td>-0.085403</td>\n",
              "      <td>-0.087812</td>\n",
              "      <td>-0.126774</td>\n",
              "      <td>-0.084803</td>\n",
              "      <td>-0.299119</td>\n",
              "    </tr>\n",
              "    <tr>\n",
              "      <th>healthcare</th>\n",
              "      <td>0.018408</td>\n",
              "      <td>-0.174050</td>\n",
              "      <td>-0.238384</td>\n",
              "      <td>0.260863</td>\n",
              "      <td>-0.260863</td>\n",
              "      <td>-0.213782</td>\n",
              "      <td>0.213782</td>\n",
              "      <td>-0.083811</td>\n",
              "      <td>1.000000</td>\n",
              "      <td>-0.087228</td>\n",
              "      <td>-0.060145</td>\n",
              "      <td>-0.061841</td>\n",
              "      <td>-0.089280</td>\n",
              "      <td>-0.059722</td>\n",
              "      <td>-0.210653</td>\n",
              "    </tr>\n",
              "    <tr>\n",
              "      <th>industry_4_0</th>\n",
              "      <td>0.045106</td>\n",
              "      <td>-0.216202</td>\n",
              "      <td>-0.284384</td>\n",
              "      <td>0.385515</td>\n",
              "      <td>-0.385515</td>\n",
              "      <td>0.045353</td>\n",
              "      <td>-0.045353</td>\n",
              "      <td>-0.123860</td>\n",
              "      <td>-0.087228</td>\n",
              "      <td>1.000000</td>\n",
              "      <td>-0.088885</td>\n",
              "      <td>-0.091391</td>\n",
              "      <td>-0.131942</td>\n",
              "      <td>-0.088261</td>\n",
              "      <td>-0.311313</td>\n",
              "    </tr>\n",
              "    <tr>\n",
              "      <th>io_t_devices</th>\n",
              "      <td>0.019458</td>\n",
              "      <td>0.389878</td>\n",
              "      <td>0.437355</td>\n",
              "      <td>0.265817</td>\n",
              "      <td>-0.265817</td>\n",
              "      <td>0.281337</td>\n",
              "      <td>-0.281337</td>\n",
              "      <td>-0.085403</td>\n",
              "      <td>-0.060145</td>\n",
              "      <td>-0.088885</td>\n",
              "      <td>1.000000</td>\n",
              "      <td>-0.063016</td>\n",
              "      <td>-0.090976</td>\n",
              "      <td>-0.060857</td>\n",
              "      <td>-0.214654</td>\n",
              "    </tr>\n",
              "    <tr>\n",
              "      <th>public_safety</th>\n",
              "      <td>0.019485</td>\n",
              "      <td>-0.182358</td>\n",
              "      <td>-0.249763</td>\n",
              "      <td>0.273314</td>\n",
              "      <td>-0.273314</td>\n",
              "      <td>-0.223986</td>\n",
              "      <td>0.223986</td>\n",
              "      <td>-0.087812</td>\n",
              "      <td>-0.061841</td>\n",
              "      <td>-0.091391</td>\n",
              "      <td>-0.063016</td>\n",
              "      <td>1.000000</td>\n",
              "      <td>-0.093542</td>\n",
              "      <td>-0.062573</td>\n",
              "      <td>-0.220708</td>\n",
              "    </tr>\n",
              "    <tr>\n",
              "      <th>smart_city_and_home</th>\n",
              "      <td>0.047347</td>\n",
              "      <td>0.578743</td>\n",
              "      <td>0.200818</td>\n",
              "      <td>0.394585</td>\n",
              "      <td>-0.394585</td>\n",
              "      <td>0.035940</td>\n",
              "      <td>-0.035940</td>\n",
              "      <td>-0.126774</td>\n",
              "      <td>-0.089280</td>\n",
              "      <td>-0.131942</td>\n",
              "      <td>-0.090976</td>\n",
              "      <td>-0.093542</td>\n",
              "      <td>1.000000</td>\n",
              "      <td>-0.090337</td>\n",
              "      <td>-0.318637</td>\n",
              "    </tr>\n",
              "    <tr>\n",
              "      <th>smart_transportation</th>\n",
              "      <td>0.019787</td>\n",
              "      <td>-0.176111</td>\n",
              "      <td>-0.241206</td>\n",
              "      <td>0.263951</td>\n",
              "      <td>-0.263951</td>\n",
              "      <td>-0.216313</td>\n",
              "      <td>0.216313</td>\n",
              "      <td>-0.084803</td>\n",
              "      <td>-0.059722</td>\n",
              "      <td>-0.088261</td>\n",
              "      <td>-0.060857</td>\n",
              "      <td>-0.062573</td>\n",
              "      <td>-0.090337</td>\n",
              "      <td>1.000000</td>\n",
              "      <td>-0.213147</td>\n",
              "    </tr>\n",
              "    <tr>\n",
              "      <th>smartphone</th>\n",
              "      <td>-0.075152</td>\n",
              "      <td>-0.067416</td>\n",
              "      <td>0.268831</td>\n",
              "      <td>-0.807524</td>\n",
              "      <td>0.807524</td>\n",
              "      <td>0.099995</td>\n",
              "      <td>-0.099995</td>\n",
              "      <td>-0.299119</td>\n",
              "      <td>-0.210653</td>\n",
              "      <td>-0.311313</td>\n",
              "      <td>-0.214654</td>\n",
              "      <td>-0.220708</td>\n",
              "      <td>-0.318637</td>\n",
              "      <td>-0.213147</td>\n",
              "      <td>1.000000</td>\n",
              "    </tr>\n",
              "  </tbody>\n",
              "</table>\n",
              "</div>\n",
              "    <div class=\"colab-df-buttons\">\n",
              "\n",
              "  <div class=\"colab-df-container\">\n",
              "    <button class=\"colab-df-convert\" onclick=\"convertToInteractive('df-0d3ad490-a742-4778-a468-d44f5e0ed7df')\"\n",
              "            title=\"Convert this dataframe to an interactive table.\"\n",
              "            style=\"display:none;\">\n",
              "\n",
              "  <svg xmlns=\"http://www.w3.org/2000/svg\" height=\"24px\" viewBox=\"0 -960 960 960\">\n",
              "    <path d=\"M120-120v-720h720v720H120Zm60-500h600v-160H180v160Zm220 220h160v-160H400v160Zm0 220h160v-160H400v160ZM180-400h160v-160H180v160Zm440 0h160v-160H620v160ZM180-180h160v-160H180v160Zm440 0h160v-160H620v160Z\"/>\n",
              "  </svg>\n",
              "    </button>\n",
              "\n",
              "  <style>\n",
              "    .colab-df-container {\n",
              "      display:flex;\n",
              "      gap: 12px;\n",
              "    }\n",
              "\n",
              "    .colab-df-convert {\n",
              "      background-color: #E8F0FE;\n",
              "      border: none;\n",
              "      border-radius: 50%;\n",
              "      cursor: pointer;\n",
              "      display: none;\n",
              "      fill: #1967D2;\n",
              "      height: 32px;\n",
              "      padding: 0 0 0 0;\n",
              "      width: 32px;\n",
              "    }\n",
              "\n",
              "    .colab-df-convert:hover {\n",
              "      background-color: #E2EBFA;\n",
              "      box-shadow: 0px 1px 2px rgba(60, 64, 67, 0.3), 0px 1px 3px 1px rgba(60, 64, 67, 0.15);\n",
              "      fill: #174EA6;\n",
              "    }\n",
              "\n",
              "    .colab-df-buttons div {\n",
              "      margin-bottom: 4px;\n",
              "    }\n",
              "\n",
              "    [theme=dark] .colab-df-convert {\n",
              "      background-color: #3B4455;\n",
              "      fill: #D2E3FC;\n",
              "    }\n",
              "\n",
              "    [theme=dark] .colab-df-convert:hover {\n",
              "      background-color: #434B5C;\n",
              "      box-shadow: 0px 1px 3px 1px rgba(0, 0, 0, 0.15);\n",
              "      filter: drop-shadow(0px 1px 2px rgba(0, 0, 0, 0.3));\n",
              "      fill: #FFFFFF;\n",
              "    }\n",
              "  </style>\n",
              "\n",
              "    <script>\n",
              "      const buttonEl =\n",
              "        document.querySelector('#df-0d3ad490-a742-4778-a468-d44f5e0ed7df button.colab-df-convert');\n",
              "      buttonEl.style.display =\n",
              "        google.colab.kernel.accessAllowed ? 'block' : 'none';\n",
              "\n",
              "      async function convertToInteractive(key) {\n",
              "        const element = document.querySelector('#df-0d3ad490-a742-4778-a468-d44f5e0ed7df');\n",
              "        const dataTable =\n",
              "          await google.colab.kernel.invokeFunction('convertToInteractive',\n",
              "                                                    [key], {});\n",
              "        if (!dataTable) return;\n",
              "\n",
              "        const docLinkHtml = 'Like what you see? Visit the ' +\n",
              "          '<a target=\"_blank\" href=https://colab.research.google.com/notebooks/data_table.ipynb>data table notebook</a>'\n",
              "          + ' to learn more about interactive tables.';\n",
              "        element.innerHTML = '';\n",
              "        dataTable['output_type'] = 'display_data';\n",
              "        await google.colab.output.renderOutput(dataTable, element);\n",
              "        const docLink = document.createElement('div');\n",
              "        docLink.innerHTML = docLinkHtml;\n",
              "        element.appendChild(docLink);\n",
              "      }\n",
              "    </script>\n",
              "  </div>\n",
              "\n",
              "\n",
              "<div id=\"df-c197766b-cbde-4c0f-8cf6-735c158c4018\">\n",
              "  <button class=\"colab-df-quickchart\" onclick=\"quickchart('df-c197766b-cbde-4c0f-8cf6-735c158c4018')\"\n",
              "            title=\"Suggest charts\"\n",
              "            style=\"display:none;\">\n",
              "\n",
              "<svg xmlns=\"http://www.w3.org/2000/svg\" height=\"24px\"viewBox=\"0 0 24 24\"\n",
              "     width=\"24px\">\n",
              "    <g>\n",
              "        <path d=\"M19 3H5c-1.1 0-2 .9-2 2v14c0 1.1.9 2 2 2h14c1.1 0 2-.9 2-2V5c0-1.1-.9-2-2-2zM9 17H7v-7h2v7zm4 0h-2V7h2v10zm4 0h-2v-4h2v4z\"/>\n",
              "    </g>\n",
              "</svg>\n",
              "  </button>\n",
              "\n",
              "<style>\n",
              "  .colab-df-quickchart {\n",
              "      --bg-color: #E8F0FE;\n",
              "      --fill-color: #1967D2;\n",
              "      --hover-bg-color: #E2EBFA;\n",
              "      --hover-fill-color: #174EA6;\n",
              "      --disabled-fill-color: #AAA;\n",
              "      --disabled-bg-color: #DDD;\n",
              "  }\n",
              "\n",
              "  [theme=dark] .colab-df-quickchart {\n",
              "      --bg-color: #3B4455;\n",
              "      --fill-color: #D2E3FC;\n",
              "      --hover-bg-color: #434B5C;\n",
              "      --hover-fill-color: #FFFFFF;\n",
              "      --disabled-bg-color: #3B4455;\n",
              "      --disabled-fill-color: #666;\n",
              "  }\n",
              "\n",
              "  .colab-df-quickchart {\n",
              "    background-color: var(--bg-color);\n",
              "    border: none;\n",
              "    border-radius: 50%;\n",
              "    cursor: pointer;\n",
              "    display: none;\n",
              "    fill: var(--fill-color);\n",
              "    height: 32px;\n",
              "    padding: 0;\n",
              "    width: 32px;\n",
              "  }\n",
              "\n",
              "  .colab-df-quickchart:hover {\n",
              "    background-color: var(--hover-bg-color);\n",
              "    box-shadow: 0 1px 2px rgba(60, 64, 67, 0.3), 0 1px 3px 1px rgba(60, 64, 67, 0.15);\n",
              "    fill: var(--button-hover-fill-color);\n",
              "  }\n",
              "\n",
              "  .colab-df-quickchart-complete:disabled,\n",
              "  .colab-df-quickchart-complete:disabled:hover {\n",
              "    background-color: var(--disabled-bg-color);\n",
              "    fill: var(--disabled-fill-color);\n",
              "    box-shadow: none;\n",
              "  }\n",
              "\n",
              "  .colab-df-spinner {\n",
              "    border: 2px solid var(--fill-color);\n",
              "    border-color: transparent;\n",
              "    border-bottom-color: var(--fill-color);\n",
              "    animation:\n",
              "      spin 1s steps(1) infinite;\n",
              "  }\n",
              "\n",
              "  @keyframes spin {\n",
              "    0% {\n",
              "      border-color: transparent;\n",
              "      border-bottom-color: var(--fill-color);\n",
              "      border-left-color: var(--fill-color);\n",
              "    }\n",
              "    20% {\n",
              "      border-color: transparent;\n",
              "      border-left-color: var(--fill-color);\n",
              "      border-top-color: var(--fill-color);\n",
              "    }\n",
              "    30% {\n",
              "      border-color: transparent;\n",
              "      border-left-color: var(--fill-color);\n",
              "      border-top-color: var(--fill-color);\n",
              "      border-right-color: var(--fill-color);\n",
              "    }\n",
              "    40% {\n",
              "      border-color: transparent;\n",
              "      border-right-color: var(--fill-color);\n",
              "      border-top-color: var(--fill-color);\n",
              "    }\n",
              "    60% {\n",
              "      border-color: transparent;\n",
              "      border-right-color: var(--fill-color);\n",
              "    }\n",
              "    80% {\n",
              "      border-color: transparent;\n",
              "      border-right-color: var(--fill-color);\n",
              "      border-bottom-color: var(--fill-color);\n",
              "    }\n",
              "    90% {\n",
              "      border-color: transparent;\n",
              "      border-bottom-color: var(--fill-color);\n",
              "    }\n",
              "  }\n",
              "</style>\n",
              "\n",
              "  <script>\n",
              "    async function quickchart(key) {\n",
              "      const quickchartButtonEl =\n",
              "        document.querySelector('#' + key + ' button');\n",
              "      quickchartButtonEl.disabled = true;  // To prevent multiple clicks.\n",
              "      quickchartButtonEl.classList.add('colab-df-spinner');\n",
              "      try {\n",
              "        const charts = await google.colab.kernel.invokeFunction(\n",
              "            'suggestCharts', [key], {});\n",
              "      } catch (error) {\n",
              "        console.error('Error during call to suggestCharts:', error);\n",
              "      }\n",
              "      quickchartButtonEl.classList.remove('colab-df-spinner');\n",
              "      quickchartButtonEl.classList.add('colab-df-quickchart-complete');\n",
              "    }\n",
              "    (() => {\n",
              "      let quickchartButtonEl =\n",
              "        document.querySelector('#df-c197766b-cbde-4c0f-8cf6-735c158c4018 button');\n",
              "      quickchartButtonEl.style.display =\n",
              "        google.colab.kernel.accessAllowed ? 'block' : 'none';\n",
              "    })();\n",
              "  </script>\n",
              "</div>\n",
              "\n",
              "    </div>\n",
              "  </div>\n"
            ],
            "application/vnd.google.colaboratory.intrinsic+json": {
              "type": "dataframe",
              "summary": "{\n  \"name\": \"x_train2\",\n  \"rows\": 15,\n  \"fields\": [\n    {\n      \"column\": \"lte_5g_category\",\n      \"properties\": {\n        \"dtype\": \"number\",\n        \"std\": 0.26127309898143736,\n        \"min\": -0.09560501324475028,\n        \"max\": 1.0,\n        \"num_unique_values\": 15,\n        \"samples\": [\n          0.045106277734520576,\n          0.019485282790280906,\n          1.0\n        ],\n        \"semantic_type\": \"\",\n        \"description\": \"\"\n      }\n    },\n    {\n      \"column\": \"packet_loss_rate\",\n      \"properties\": {\n        \"dtype\": \"number\",\n        \"std\": 0.34845867037758177,\n        \"min\": -0.21620166338575209,\n        \"max\": 1.0,\n        \"num_unique_values\": 15,\n        \"samples\": [\n          -0.21620166338575209,\n          -0.1823579222144486,\n          0.022254278717071793\n        ],\n        \"semantic_type\": \"\",\n        \"description\": \"\"\n      }\n    },\n    {\n      \"column\": \"packet_delay\",\n      \"properties\": {\n        \"dtype\": \"number\",\n        \"std\": 0.3806437276241085,\n        \"min\": -0.4241237263117015,\n        \"max\": 1.0,\n        \"num_unique_values\": 15,\n        \"samples\": [\n          -0.28438408983699054,\n          -0.24976283957928427,\n          -0.015085156025581069\n        ],\n        \"semantic_type\": \"\",\n        \"description\": \"\"\n      }\n    },\n    {\n      \"column\": \"io_t\",\n      \"properties\": {\n        \"dtype\": \"number\",\n        \"std\": 0.4931181916589238,\n        \"min\": -1.0,\n        \"max\": 1.0,\n        \"num_unique_values\": 15,\n        \"samples\": [\n          0.3855151097671429,\n          0.2733144422910789,\n          0.09560501324475046\n        ],\n        \"semantic_type\": \"\",\n        \"description\": \"\"\n      }\n    },\n    {\n      \"column\": \"lte_5g\",\n      \"properties\": {\n        \"dtype\": \"number\",\n        \"std\": 0.4931181916589238,\n        \"min\": -1.0,\n        \"max\": 1.0,\n        \"num_unique_values\": 15,\n        \"samples\": [\n          -0.3855151097671428,\n          -0.27331444229107865,\n          -0.09560501324475028\n        ],\n        \"semantic_type\": \"\",\n        \"description\": \"\"\n      }\n    },\n    {\n      \"column\": \"gbr\",\n      \"properties\": {\n        \"dtype\": \"number\",\n        \"std\": 0.41774043805449923,\n        \"min\": -0.999999999999999,\n        \"max\": 1.0,\n        \"num_unique_values\": 15,\n        \"samples\": [\n          0.0453527800842649,\n          -0.2239862683036181,\n          -0.007155792036453813\n        ],\n        \"semantic_type\": \"\",\n        \"description\": \"\"\n      }\n    },\n    {\n      \"column\": \"non_gbr\",\n      \"properties\": {\n        \"dtype\": \"number\",\n        \"std\": 0.41774043805449923,\n        \"min\": -0.999999999999999,\n        \"max\": 1.0,\n        \"num_unique_values\": 15,\n        \"samples\": [\n          -0.04535278008426486,\n          0.2239862683036181,\n          0.0071557920364538905\n        ],\n        \"semantic_type\": \"\",\n        \"description\": \"\"\n      }\n    },\n    {\n      \"column\": \"ar_vr_gaming\",\n      \"properties\": {\n        \"dtype\": \"number\",\n        \"std\": 0.31643305517334686,\n        \"min\": -0.3212844949812943,\n        \"max\": 1.0,\n        \"num_unique_values\": 15,\n        \"samples\": [\n          -0.12386002734919664,\n          -0.08781169256258459,\n          -0.034010450450038456\n        ],\n        \"semantic_type\": \"\",\n        \"description\": \"\"\n      }\n    },\n    {\n      \"column\": \"healthcare\",\n      \"properties\": {\n        \"dtype\": \"number\",\n        \"std\": 0.315414094741021,\n        \"min\": -0.26086265843401724,\n        \"max\": 1.0,\n        \"num_unique_values\": 15,\n        \"samples\": [\n          -0.08722781586345105,\n          -0.06184095315845886,\n          0.018408029016488123\n        ],\n        \"semantic_type\": \"\",\n        \"description\": \"\"\n      }\n    },\n    {\n      \"column\": \"industry_4_0\",\n      \"properties\": {\n        \"dtype\": \"number\",\n        \"std\": 0.3362379068205002,\n        \"min\": -0.3855151097671428,\n        \"max\": 1.0,\n        \"num_unique_values\": 15,\n        \"samples\": [\n          1.0,\n          -0.09139147008661837,\n          0.045106277734520576\n        ],\n        \"semantic_type\": \"\",\n        \"description\": \"\"\n      }\n    },\n    {\n      \"column\": \"io_t_devices\",\n      \"properties\": {\n        \"dtype\": \"number\",\n        \"std\": 0.34130614928724723,\n        \"min\": -0.2813365101255752,\n        \"max\": 1.0,\n        \"num_unique_values\": 15,\n        \"samples\": [\n          -0.08888455726768303,\n          -0.06301551504059079,\n          0.019458041486050542\n        ],\n        \"semantic_type\": \"\",\n        \"description\": \"\"\n      }\n    },\n    {\n      \"column\": \"public_safety\",\n      \"properties\": {\n        \"dtype\": \"number\",\n        \"std\": 0.31964374984684424,\n        \"min\": -0.27331444229107865,\n        \"max\": 1.0,\n        \"num_unique_values\": 15,\n        \"samples\": [\n          -0.09139147008661837,\n          1.0,\n          0.019485282790280906\n        ],\n        \"semantic_type\": \"\",\n        \"description\": \"\"\n      }\n    },\n    {\n      \"column\": \"smart_city_and_home\",\n      \"properties\": {\n        \"dtype\": \"number\",\n        \"std\": 0.35930450565029826,\n        \"min\": -0.3945854404574145,\n        \"max\": 1.0,\n        \"num_unique_values\": 15,\n        \"samples\": [\n          -0.13194232685213583,\n          -0.09354171228194082,\n          0.047347182675353046\n        ],\n        \"semantic_type\": \"\",\n        \"description\": \"\"\n      }\n    },\n    {\n      \"column\": \"smart_transportation\",\n      \"properties\": {\n        \"dtype\": \"number\",\n        \"std\": 0.3164592979015863,\n        \"min\": -0.26395102135165766,\n        \"max\": 1.0,\n        \"num_unique_values\": 15,\n        \"samples\": [\n          -0.08826050928732651,\n          -0.06257309055088064,\n          0.019786999921340594\n        ],\n        \"semantic_type\": \"\",\n        \"description\": \"\"\n      }\n    },\n    {\n      \"column\": \"smartphone\",\n      \"properties\": {\n        \"dtype\": \"number\",\n        \"std\": 0.45118482210631183,\n        \"min\": -0.8075238323440268,\n        \"max\": 1.0,\n        \"num_unique_values\": 15,\n        \"samples\": [\n          -0.3113126388656926,\n          -0.22070792587386456,\n          -0.07515160909551873\n        ],\n        \"semantic_type\": \"\",\n        \"description\": \"\"\n      }\n    }\n  ]\n}"
            }
          },
          "metadata": {},
          "execution_count": 54
        }
      ]
    },
    {
      "cell_type": "code",
      "source": [
        "def correlation(dataset, threshold):\n",
        "    col_corr = set() # Set of all the names of deleted columns\n",
        "    corr_matrix = dataset.corr()\n",
        "    for i in range(len(corr_matrix.columns)):\n",
        "        for j in range(i):\n",
        "            if (corr_matrix.iloc[i, j] >= threshold) and (corr_matrix.columns[j] not in col_corr):\n",
        "                colname = corr_matrix.columns[i] # getting the name of column\n",
        "                col_corr.add(colname)\n",
        "                if colname in dataset.columns:\n",
        "                    del dataset[colname] # deleting the column from the dataset\n",
        "\n",
        "    print(dataset.columns)\n",
        "    print(dataset.shape)"
      ],
      "metadata": {
        "id": "i6cyYBEUgVlS"
      },
      "execution_count": 55,
      "outputs": []
    },
    {
      "cell_type": "code",
      "source": [
        "correlation(x_train2, 0.95)"
      ],
      "metadata": {
        "colab": {
          "base_uri": "https://localhost:8080/"
        },
        "id": "_GFvvcrNgble",
        "outputId": "201c5db4-217a-400e-c8f5-4c4de18a9c9d"
      },
      "execution_count": 56,
      "outputs": [
        {
          "output_type": "stream",
          "name": "stdout",
          "text": [
            "Index(['lte_5g_category', 'packet_loss_rate', 'packet_delay', 'io_t', 'lte_5g',\n",
            "       'gbr', 'non_gbr', 'ar_vr_gaming', 'healthcare', 'industry_4_0',\n",
            "       'io_t_devices', 'public_safety', 'smart_city_and_home',\n",
            "       'smart_transportation', 'smartphone'],\n",
            "      dtype='object')\n",
            "(18373, 15)\n"
          ]
        }
      ]
    },
    {
      "cell_type": "code",
      "source": [
        "print(x_test2.columns, x_train2.columns)"
      ],
      "metadata": {
        "colab": {
          "base_uri": "https://localhost:8080/"
        },
        "id": "ZAmHG0IVgeVF",
        "outputId": "c34f00de-f0fc-4a25-e310-c8ba0311d1ff"
      },
      "execution_count": 57,
      "outputs": [
        {
          "output_type": "stream",
          "name": "stdout",
          "text": [
            "Index(['lte_5g_category', 'packet_loss_rate', 'packet_delay', 'io_t', 'lte_5g',\n",
            "       'gbr', 'non_gbr', 'ar_vr_gaming', 'healthcare', 'industry_4_0',\n",
            "       'io_t_devices', 'public_safety', 'smart_city_and_home',\n",
            "       'smart_transportation', 'smartphone'],\n",
            "      dtype='object') Index(['lte_5g_category', 'packet_loss_rate', 'packet_delay', 'io_t', 'lte_5g',\n",
            "       'gbr', 'non_gbr', 'ar_vr_gaming', 'healthcare', 'industry_4_0',\n",
            "       'io_t_devices', 'public_safety', 'smart_city_and_home',\n",
            "       'smart_transportation', 'smartphone'],\n",
            "      dtype='object')\n"
          ]
        }
      ]
    },
    {
      "cell_type": "code",
      "source": [
        "y_train = pd.DataFrame(y_train)\n",
        "y_test = pd.DataFrame(y_test)"
      ],
      "metadata": {
        "id": "u6NkkkkYjGYz"
      },
      "execution_count": 58,
      "outputs": []
    },
    {
      "cell_type": "code",
      "source": [
        "print(y_test.columns, y_train.columns)"
      ],
      "metadata": {
        "colab": {
          "base_uri": "https://localhost:8080/"
        },
        "id": "isxHKpLgjhLC",
        "outputId": "a979bf2d-324c-4594-deca-61ec00d3dadb"
      },
      "execution_count": 59,
      "outputs": [
        {
          "output_type": "stream",
          "name": "stdout",
          "text": [
            "Index(['slice_type'], dtype='object') Index(['slice_type'], dtype='object')\n"
          ]
        }
      ]
    },
    {
      "cell_type": "markdown",
      "source": [
        "### EVAL ML"
      ],
      "metadata": {
        "id": "_e8gWhMekHSl"
      }
    },
    {
      "cell_type": "code",
      "source": [
        "###!pip install evalml"
      ],
      "metadata": {
        "id": "a2elA2kfjhOx"
      },
      "execution_count": 60,
      "outputs": []
    },
    {
      "cell_type": "code",
      "source": [
        "import evalml"
      ],
      "metadata": {
        "id": "dQV4wILnjhS1"
      },
      "execution_count": 61,
      "outputs": []
    },
    {
      "cell_type": "code",
      "source": [
        "from sklearn.preprocessing import LabelEncoder"
      ],
      "metadata": {
        "id": "h-JwPgERkVc-"
      },
      "execution_count": 64,
      "outputs": []
    },
    {
      "cell_type": "code",
      "source": [
        "lbl= LabelEncoder()"
      ],
      "metadata": {
        "id": "Yh88ga8FkfA4"
      },
      "execution_count": 65,
      "outputs": []
    },
    {
      "cell_type": "code",
      "source": [
        "y_test= lbl.fit_transform(y_test)\n",
        "y_test[:12]"
      ],
      "metadata": {
        "colab": {
          "base_uri": "https://localhost:8080/"
        },
        "id": "P3-ZYk6YkjtH",
        "outputId": "a847630c-2c4e-4e60-fe69-db1e25958ac8"
      },
      "execution_count": 66,
      "outputs": [
        {
          "output_type": "stream",
          "name": "stderr",
          "text": [
            "A column-vector y was passed when a 1d array was expected. Please change the shape of y to (n_samples, ), for example using ravel().\n"
          ]
        },
        {
          "output_type": "execute_result",
          "data": {
            "text/plain": [
              "array([0, 0, 0, 0, 0, 0, 0, 0, 0, 0, 0, 0])"
            ]
          },
          "metadata": {},
          "execution_count": 66
        }
      ]
    },
    {
      "cell_type": "code",
      "source": [
        "y_train= lbl.fit_transform(y_train)\n",
        "y_train[:12]"
      ],
      "metadata": {
        "colab": {
          "base_uri": "https://localhost:8080/"
        },
        "id": "oFjIxigEkq-j",
        "outputId": "f4c1f36c-c7a7-46d4-914b-1fd27ee69d36"
      },
      "execution_count": 67,
      "outputs": [
        {
          "output_type": "stream",
          "name": "stderr",
          "text": [
            "A column-vector y was passed when a 1d array was expected. Please change the shape of y to (n_samples, ), for example using ravel().\n"
          ]
        },
        {
          "output_type": "execute_result",
          "data": {
            "text/plain": [
              "array([2, 1, 2, 0, 2, 1, 0, 0, 0, 2, 1, 0])"
            ]
          },
          "metadata": {},
          "execution_count": 67
        }
      ]
    },
    {
      "cell_type": "code",
      "source": [
        "evalml.problem_types.ProblemTypes.all_problem_types"
      ],
      "metadata": {
        "colab": {
          "base_uri": "https://localhost:8080/"
        },
        "id": "MOsyFrF-ks6p",
        "outputId": "80935339-0b52-48f0-f274-43ac6263258e"
      },
      "execution_count": 68,
      "outputs": [
        {
          "output_type": "execute_result",
          "data": {
            "text/plain": [
              "[<ProblemTypes.BINARY: 'binary'>,\n",
              " <ProblemTypes.MULTICLASS: 'multiclass'>,\n",
              " <ProblemTypes.REGRESSION: 'regression'>,\n",
              " <ProblemTypes.TIME_SERIES_REGRESSION: 'time series regression'>,\n",
              " <ProblemTypes.TIME_SERIES_BINARY: 'time series binary'>,\n",
              " <ProblemTypes.TIME_SERIES_MULTICLASS: 'time series multiclass'>,\n",
              " <ProblemTypes.MULTISERIES_TIME_SERIES_REGRESSION: 'multiseries time series regression'>]"
            ]
          },
          "metadata": {},
          "execution_count": 68
        }
      ]
    },
    {
      "cell_type": "code",
      "source": [
        "from evalml.automl import AutoMLSearch\n",
        "automl = AutoMLSearch(X_train=x_train2, y_train=y_train, problem_type='MULTICLASS')\n",
        "automl.search()"
      ],
      "metadata": {
        "colab": {
          "base_uri": "https://localhost:8080/"
        },
        "id": "NPcwR6f7k0RB",
        "outputId": "572b9176-c457-489e-851d-cc9c83108cd1"
      },
      "execution_count": 69,
      "outputs": [
        {
          "output_type": "stream",
          "name": "stderr",
          "text": [
            "The y_pred values do not sum to one. Starting from 1.5 thiswill result in an error.\n",
            "The y_pred values do not sum to one. Starting from 1.5 thiswill result in an error.\n",
            "The y_pred values do not sum to one. Starting from 1.5 thiswill result in an error.\n"
          ]
        },
        {
          "output_type": "execute_result",
          "data": {
            "text/plain": [
              "{1: {'Random Forest Classifier w/ Label Encoder + Imputer + RF Classifier Select From Model': 3.5806334018707275,\n",
              "  'Total time of batch': 3.7166035175323486},\n",
              " 2: {'LightGBM Classifier w/ Label Encoder + Imputer + Select Columns Transformer': 2.3293821811676025,\n",
              "  'Extra Trees Classifier w/ Label Encoder + Imputer + Select Columns Transformer': 2.3987269401550293,\n",
              "  'Elastic Net Classifier w/ Label Encoder + Imputer + Standard Scaler + Select Columns Transformer': 3.3342366218566895,\n",
              "  'XGBoost Classifier w/ Label Encoder + Imputer + Select Columns Transformer': 12.184428930282593,\n",
              "  'Logistic Regression Classifier w/ Label Encoder + Imputer + Standard Scaler + Select Columns Transformer': 9.130321502685547,\n",
              "  'Total time of batch': 30.656388521194458}}"
            ]
          },
          "metadata": {},
          "execution_count": 69
        }
      ]
    },
    {
      "cell_type": "code",
      "source": [
        "\n",
        "automl.rankings\n"
      ],
      "metadata": {
        "colab": {
          "base_uri": "https://localhost:8080/",
          "height": 653
        },
        "id": "ENujxYTJk5Vu",
        "outputId": "774db689-c687-4777-8209-7c7700b87ec8"
      },
      "execution_count": 70,
      "outputs": [
        {
          "output_type": "execute_result",
          "data": {
            "text/plain": [
              "   id                                      pipeline_name  search_order  \\\n",
              "0   1  Random Forest Classifier w/ Label Encoder + Im...             1   \n",
              "1   3  Extra Trees Classifier w/ Label Encoder + Impu...             3   \n",
              "2   2  LightGBM Classifier w/ Label Encoder + Imputer...             2   \n",
              "3   5  XGBoost Classifier w/ Label Encoder + Imputer ...             5   \n",
              "4   4  Elastic Net Classifier w/ Label Encoder + Impu...             4   \n",
              "5   6  Logistic Regression Classifier w/ Label Encode...             6   \n",
              "6   0   Mode Baseline Multiclass Classification Pipeline             0   \n",
              "\n",
              "   ranking_score  mean_cv_score  standard_deviation_cv_score  \\\n",
              "0   4.440892e-16   4.440892e-16                 0.000000e+00   \n",
              "1   4.440892e-16   4.440892e-16                 0.000000e+00   \n",
              "2   1.137570e-06   1.137570e-06                 2.102637e-11   \n",
              "3   1.418487e-04   1.418487e-04                 4.158776e-07   \n",
              "4   4.380961e-04   4.380961e-04                 7.629913e-06   \n",
              "5   5.086381e-04   5.086381e-04                 1.026568e-05   \n",
              "6   1.674177e+01   1.674177e+01                 2.945292e-03   \n",
              "\n",
              "   percent_better_than_baseline  high_variance_cv  \\\n",
              "0                    100.000000             False   \n",
              "1                    100.000000             False   \n",
              "2                     99.999993             False   \n",
              "3                     99.999153             False   \n",
              "4                     99.997383             False   \n",
              "5                     99.996962             False   \n",
              "6                      0.000000             False   \n",
              "\n",
              "                                          parameters  \n",
              "0  {'Label Encoder': {'positive_label': None}, 'I...  \n",
              "1  {'Label Encoder': {'positive_label': None}, 'I...  \n",
              "2  {'Label Encoder': {'positive_label': None}, 'I...  \n",
              "3  {'Label Encoder': {'positive_label': None}, 'I...  \n",
              "4  {'Label Encoder': {'positive_label': None}, 'I...  \n",
              "5  {'Label Encoder': {'positive_label': None}, 'I...  \n",
              "6  {'Label Encoder': {'positive_label': None}, 'B...  "
            ],
            "text/html": [
              "\n",
              "  <div id=\"df-4fa12739-1c99-4223-9266-8a0d441be25f\" class=\"colab-df-container\">\n",
              "    <div>\n",
              "<style scoped>\n",
              "    .dataframe tbody tr th:only-of-type {\n",
              "        vertical-align: middle;\n",
              "    }\n",
              "\n",
              "    .dataframe tbody tr th {\n",
              "        vertical-align: top;\n",
              "    }\n",
              "\n",
              "    .dataframe thead th {\n",
              "        text-align: right;\n",
              "    }\n",
              "</style>\n",
              "<table border=\"1\" class=\"dataframe\">\n",
              "  <thead>\n",
              "    <tr style=\"text-align: right;\">\n",
              "      <th></th>\n",
              "      <th>id</th>\n",
              "      <th>pipeline_name</th>\n",
              "      <th>search_order</th>\n",
              "      <th>ranking_score</th>\n",
              "      <th>mean_cv_score</th>\n",
              "      <th>standard_deviation_cv_score</th>\n",
              "      <th>percent_better_than_baseline</th>\n",
              "      <th>high_variance_cv</th>\n",
              "      <th>parameters</th>\n",
              "    </tr>\n",
              "  </thead>\n",
              "  <tbody>\n",
              "    <tr>\n",
              "      <th>0</th>\n",
              "      <td>1</td>\n",
              "      <td>Random Forest Classifier w/ Label Encoder + Im...</td>\n",
              "      <td>1</td>\n",
              "      <td>4.440892e-16</td>\n",
              "      <td>4.440892e-16</td>\n",
              "      <td>0.000000e+00</td>\n",
              "      <td>100.000000</td>\n",
              "      <td>False</td>\n",
              "      <td>{'Label Encoder': {'positive_label': None}, 'I...</td>\n",
              "    </tr>\n",
              "    <tr>\n",
              "      <th>1</th>\n",
              "      <td>3</td>\n",
              "      <td>Extra Trees Classifier w/ Label Encoder + Impu...</td>\n",
              "      <td>3</td>\n",
              "      <td>4.440892e-16</td>\n",
              "      <td>4.440892e-16</td>\n",
              "      <td>0.000000e+00</td>\n",
              "      <td>100.000000</td>\n",
              "      <td>False</td>\n",
              "      <td>{'Label Encoder': {'positive_label': None}, 'I...</td>\n",
              "    </tr>\n",
              "    <tr>\n",
              "      <th>2</th>\n",
              "      <td>2</td>\n",
              "      <td>LightGBM Classifier w/ Label Encoder + Imputer...</td>\n",
              "      <td>2</td>\n",
              "      <td>1.137570e-06</td>\n",
              "      <td>1.137570e-06</td>\n",
              "      <td>2.102637e-11</td>\n",
              "      <td>99.999993</td>\n",
              "      <td>False</td>\n",
              "      <td>{'Label Encoder': {'positive_label': None}, 'I...</td>\n",
              "    </tr>\n",
              "    <tr>\n",
              "      <th>3</th>\n",
              "      <td>5</td>\n",
              "      <td>XGBoost Classifier w/ Label Encoder + Imputer ...</td>\n",
              "      <td>5</td>\n",
              "      <td>1.418487e-04</td>\n",
              "      <td>1.418487e-04</td>\n",
              "      <td>4.158776e-07</td>\n",
              "      <td>99.999153</td>\n",
              "      <td>False</td>\n",
              "      <td>{'Label Encoder': {'positive_label': None}, 'I...</td>\n",
              "    </tr>\n",
              "    <tr>\n",
              "      <th>4</th>\n",
              "      <td>4</td>\n",
              "      <td>Elastic Net Classifier w/ Label Encoder + Impu...</td>\n",
              "      <td>4</td>\n",
              "      <td>4.380961e-04</td>\n",
              "      <td>4.380961e-04</td>\n",
              "      <td>7.629913e-06</td>\n",
              "      <td>99.997383</td>\n",
              "      <td>False</td>\n",
              "      <td>{'Label Encoder': {'positive_label': None}, 'I...</td>\n",
              "    </tr>\n",
              "    <tr>\n",
              "      <th>5</th>\n",
              "      <td>6</td>\n",
              "      <td>Logistic Regression Classifier w/ Label Encode...</td>\n",
              "      <td>6</td>\n",
              "      <td>5.086381e-04</td>\n",
              "      <td>5.086381e-04</td>\n",
              "      <td>1.026568e-05</td>\n",
              "      <td>99.996962</td>\n",
              "      <td>False</td>\n",
              "      <td>{'Label Encoder': {'positive_label': None}, 'I...</td>\n",
              "    </tr>\n",
              "    <tr>\n",
              "      <th>6</th>\n",
              "      <td>0</td>\n",
              "      <td>Mode Baseline Multiclass Classification Pipeline</td>\n",
              "      <td>0</td>\n",
              "      <td>1.674177e+01</td>\n",
              "      <td>1.674177e+01</td>\n",
              "      <td>2.945292e-03</td>\n",
              "      <td>0.000000</td>\n",
              "      <td>False</td>\n",
              "      <td>{'Label Encoder': {'positive_label': None}, 'B...</td>\n",
              "    </tr>\n",
              "  </tbody>\n",
              "</table>\n",
              "</div>\n",
              "    <div class=\"colab-df-buttons\">\n",
              "\n",
              "  <div class=\"colab-df-container\">\n",
              "    <button class=\"colab-df-convert\" onclick=\"convertToInteractive('df-4fa12739-1c99-4223-9266-8a0d441be25f')\"\n",
              "            title=\"Convert this dataframe to an interactive table.\"\n",
              "            style=\"display:none;\">\n",
              "\n",
              "  <svg xmlns=\"http://www.w3.org/2000/svg\" height=\"24px\" viewBox=\"0 -960 960 960\">\n",
              "    <path d=\"M120-120v-720h720v720H120Zm60-500h600v-160H180v160Zm220 220h160v-160H400v160Zm0 220h160v-160H400v160ZM180-400h160v-160H180v160Zm440 0h160v-160H620v160ZM180-180h160v-160H180v160Zm440 0h160v-160H620v160Z\"/>\n",
              "  </svg>\n",
              "    </button>\n",
              "\n",
              "  <style>\n",
              "    .colab-df-container {\n",
              "      display:flex;\n",
              "      gap: 12px;\n",
              "    }\n",
              "\n",
              "    .colab-df-convert {\n",
              "      background-color: #E8F0FE;\n",
              "      border: none;\n",
              "      border-radius: 50%;\n",
              "      cursor: pointer;\n",
              "      display: none;\n",
              "      fill: #1967D2;\n",
              "      height: 32px;\n",
              "      padding: 0 0 0 0;\n",
              "      width: 32px;\n",
              "    }\n",
              "\n",
              "    .colab-df-convert:hover {\n",
              "      background-color: #E2EBFA;\n",
              "      box-shadow: 0px 1px 2px rgba(60, 64, 67, 0.3), 0px 1px 3px 1px rgba(60, 64, 67, 0.15);\n",
              "      fill: #174EA6;\n",
              "    }\n",
              "\n",
              "    .colab-df-buttons div {\n",
              "      margin-bottom: 4px;\n",
              "    }\n",
              "\n",
              "    [theme=dark] .colab-df-convert {\n",
              "      background-color: #3B4455;\n",
              "      fill: #D2E3FC;\n",
              "    }\n",
              "\n",
              "    [theme=dark] .colab-df-convert:hover {\n",
              "      background-color: #434B5C;\n",
              "      box-shadow: 0px 1px 3px 1px rgba(0, 0, 0, 0.15);\n",
              "      filter: drop-shadow(0px 1px 2px rgba(0, 0, 0, 0.3));\n",
              "      fill: #FFFFFF;\n",
              "    }\n",
              "  </style>\n",
              "\n",
              "    <script>\n",
              "      const buttonEl =\n",
              "        document.querySelector('#df-4fa12739-1c99-4223-9266-8a0d441be25f button.colab-df-convert');\n",
              "      buttonEl.style.display =\n",
              "        google.colab.kernel.accessAllowed ? 'block' : 'none';\n",
              "\n",
              "      async function convertToInteractive(key) {\n",
              "        const element = document.querySelector('#df-4fa12739-1c99-4223-9266-8a0d441be25f');\n",
              "        const dataTable =\n",
              "          await google.colab.kernel.invokeFunction('convertToInteractive',\n",
              "                                                    [key], {});\n",
              "        if (!dataTable) return;\n",
              "\n",
              "        const docLinkHtml = 'Like what you see? Visit the ' +\n",
              "          '<a target=\"_blank\" href=https://colab.research.google.com/notebooks/data_table.ipynb>data table notebook</a>'\n",
              "          + ' to learn more about interactive tables.';\n",
              "        element.innerHTML = '';\n",
              "        dataTable['output_type'] = 'display_data';\n",
              "        await google.colab.output.renderOutput(dataTable, element);\n",
              "        const docLink = document.createElement('div');\n",
              "        docLink.innerHTML = docLinkHtml;\n",
              "        element.appendChild(docLink);\n",
              "      }\n",
              "    </script>\n",
              "  </div>\n",
              "\n",
              "\n",
              "<div id=\"df-3383a444-a6c3-4598-af0a-999f837b79c9\">\n",
              "  <button class=\"colab-df-quickchart\" onclick=\"quickchart('df-3383a444-a6c3-4598-af0a-999f837b79c9')\"\n",
              "            title=\"Suggest charts\"\n",
              "            style=\"display:none;\">\n",
              "\n",
              "<svg xmlns=\"http://www.w3.org/2000/svg\" height=\"24px\"viewBox=\"0 0 24 24\"\n",
              "     width=\"24px\">\n",
              "    <g>\n",
              "        <path d=\"M19 3H5c-1.1 0-2 .9-2 2v14c0 1.1.9 2 2 2h14c1.1 0 2-.9 2-2V5c0-1.1-.9-2-2-2zM9 17H7v-7h2v7zm4 0h-2V7h2v10zm4 0h-2v-4h2v4z\"/>\n",
              "    </g>\n",
              "</svg>\n",
              "  </button>\n",
              "\n",
              "<style>\n",
              "  .colab-df-quickchart {\n",
              "      --bg-color: #E8F0FE;\n",
              "      --fill-color: #1967D2;\n",
              "      --hover-bg-color: #E2EBFA;\n",
              "      --hover-fill-color: #174EA6;\n",
              "      --disabled-fill-color: #AAA;\n",
              "      --disabled-bg-color: #DDD;\n",
              "  }\n",
              "\n",
              "  [theme=dark] .colab-df-quickchart {\n",
              "      --bg-color: #3B4455;\n",
              "      --fill-color: #D2E3FC;\n",
              "      --hover-bg-color: #434B5C;\n",
              "      --hover-fill-color: #FFFFFF;\n",
              "      --disabled-bg-color: #3B4455;\n",
              "      --disabled-fill-color: #666;\n",
              "  }\n",
              "\n",
              "  .colab-df-quickchart {\n",
              "    background-color: var(--bg-color);\n",
              "    border: none;\n",
              "    border-radius: 50%;\n",
              "    cursor: pointer;\n",
              "    display: none;\n",
              "    fill: var(--fill-color);\n",
              "    height: 32px;\n",
              "    padding: 0;\n",
              "    width: 32px;\n",
              "  }\n",
              "\n",
              "  .colab-df-quickchart:hover {\n",
              "    background-color: var(--hover-bg-color);\n",
              "    box-shadow: 0 1px 2px rgba(60, 64, 67, 0.3), 0 1px 3px 1px rgba(60, 64, 67, 0.15);\n",
              "    fill: var(--button-hover-fill-color);\n",
              "  }\n",
              "\n",
              "  .colab-df-quickchart-complete:disabled,\n",
              "  .colab-df-quickchart-complete:disabled:hover {\n",
              "    background-color: var(--disabled-bg-color);\n",
              "    fill: var(--disabled-fill-color);\n",
              "    box-shadow: none;\n",
              "  }\n",
              "\n",
              "  .colab-df-spinner {\n",
              "    border: 2px solid var(--fill-color);\n",
              "    border-color: transparent;\n",
              "    border-bottom-color: var(--fill-color);\n",
              "    animation:\n",
              "      spin 1s steps(1) infinite;\n",
              "  }\n",
              "\n",
              "  @keyframes spin {\n",
              "    0% {\n",
              "      border-color: transparent;\n",
              "      border-bottom-color: var(--fill-color);\n",
              "      border-left-color: var(--fill-color);\n",
              "    }\n",
              "    20% {\n",
              "      border-color: transparent;\n",
              "      border-left-color: var(--fill-color);\n",
              "      border-top-color: var(--fill-color);\n",
              "    }\n",
              "    30% {\n",
              "      border-color: transparent;\n",
              "      border-left-color: var(--fill-color);\n",
              "      border-top-color: var(--fill-color);\n",
              "      border-right-color: var(--fill-color);\n",
              "    }\n",
              "    40% {\n",
              "      border-color: transparent;\n",
              "      border-right-color: var(--fill-color);\n",
              "      border-top-color: var(--fill-color);\n",
              "    }\n",
              "    60% {\n",
              "      border-color: transparent;\n",
              "      border-right-color: var(--fill-color);\n",
              "    }\n",
              "    80% {\n",
              "      border-color: transparent;\n",
              "      border-right-color: var(--fill-color);\n",
              "      border-bottom-color: var(--fill-color);\n",
              "    }\n",
              "    90% {\n",
              "      border-color: transparent;\n",
              "      border-bottom-color: var(--fill-color);\n",
              "    }\n",
              "  }\n",
              "</style>\n",
              "\n",
              "  <script>\n",
              "    async function quickchart(key) {\n",
              "      const quickchartButtonEl =\n",
              "        document.querySelector('#' + key + ' button');\n",
              "      quickchartButtonEl.disabled = true;  // To prevent multiple clicks.\n",
              "      quickchartButtonEl.classList.add('colab-df-spinner');\n",
              "      try {\n",
              "        const charts = await google.colab.kernel.invokeFunction(\n",
              "            'suggestCharts', [key], {});\n",
              "      } catch (error) {\n",
              "        console.error('Error during call to suggestCharts:', error);\n",
              "      }\n",
              "      quickchartButtonEl.classList.remove('colab-df-spinner');\n",
              "      quickchartButtonEl.classList.add('colab-df-quickchart-complete');\n",
              "    }\n",
              "    (() => {\n",
              "      let quickchartButtonEl =\n",
              "        document.querySelector('#df-3383a444-a6c3-4598-af0a-999f837b79c9 button');\n",
              "      quickchartButtonEl.style.display =\n",
              "        google.colab.kernel.accessAllowed ? 'block' : 'none';\n",
              "    })();\n",
              "  </script>\n",
              "</div>\n",
              "\n",
              "    </div>\n",
              "  </div>\n"
            ],
            "application/vnd.google.colaboratory.intrinsic+json": {
              "type": "dataframe",
              "summary": "{\n  \"name\": \"automl\",\n  \"rows\": 7,\n  \"fields\": [\n    {\n      \"column\": \"id\",\n      \"properties\": {\n        \"dtype\": \"number\",\n        \"std\": 2,\n        \"min\": 0,\n        \"max\": 6,\n        \"num_unique_values\": 7,\n        \"samples\": [\n          1,\n          3,\n          6\n        ],\n        \"semantic_type\": \"\",\n        \"description\": \"\"\n      }\n    },\n    {\n      \"column\": \"pipeline_name\",\n      \"properties\": {\n        \"dtype\": \"string\",\n        \"num_unique_values\": 7,\n        \"samples\": [\n          \"Random Forest Classifier w/ Label Encoder + Imputer + RF Classifier Select From Model\",\n          \"Extra Trees Classifier w/ Label Encoder + Imputer + Select Columns Transformer\",\n          \"Logistic Regression Classifier w/ Label Encoder + Imputer + Standard Scaler + Select Columns Transformer\"\n        ],\n        \"semantic_type\": \"\",\n        \"description\": \"\"\n      }\n    },\n    {\n      \"column\": \"search_order\",\n      \"properties\": {\n        \"dtype\": \"number\",\n        \"std\": 2,\n        \"min\": 0,\n        \"max\": 6,\n        \"num_unique_values\": 7,\n        \"samples\": [\n          1,\n          3,\n          6\n        ],\n        \"semantic_type\": \"\",\n        \"description\": \"\"\n      }\n    },\n    {\n      \"column\": \"ranking_score\",\n      \"properties\": {\n        \"dtype\": \"number\",\n        \"std\": 6.327725585082635,\n        \"min\": 4.440892098500627e-16,\n        \"max\": 16.74176987336811,\n        \"num_unique_values\": 6,\n        \"samples\": [\n          4.440892098500627e-16,\n          1.1375704826158755e-06,\n          16.74176987336811\n        ],\n        \"semantic_type\": \"\",\n        \"description\": \"\"\n      }\n    },\n    {\n      \"column\": \"mean_cv_score\",\n      \"properties\": {\n        \"dtype\": \"number\",\n        \"std\": 6.327725585082635,\n        \"min\": 4.440892098500627e-16,\n        \"max\": 16.74176987336811,\n        \"num_unique_values\": 6,\n        \"samples\": [\n          4.440892098500627e-16,\n          1.1375704826158755e-06,\n          16.74176987336811\n        ],\n        \"semantic_type\": \"\",\n        \"description\": \"\"\n      }\n    },\n    {\n      \"column\": \"standard_deviation_cv_score\",\n      \"properties\": {\n        \"dtype\": \"number\",\n        \"std\": 0.0011120704417150534,\n        \"min\": 0.0,\n        \"max\": 0.0029452923539676082,\n        \"num_unique_values\": 6,\n        \"samples\": [\n          0.0,\n          2.1026370137270008e-11,\n          0.0029452923539676082\n        ],\n        \"semantic_type\": \"\",\n        \"description\": \"\"\n      }\n    },\n    {\n      \"column\": \"percent_better_than_baseline\",\n      \"properties\": {\n        \"dtype\": \"number\",\n        \"std\": 37.79603729441075,\n        \"min\": 0.0,\n        \"max\": 100.0,\n        \"num_unique_values\": 6,\n        \"samples\": [\n          100.0,\n          99.9999932051958,\n          0.0\n        ],\n        \"semantic_type\": \"\",\n        \"description\": \"\"\n      }\n    },\n    {\n      \"column\": \"high_variance_cv\",\n      \"properties\": {\n        \"dtype\": \"boolean\",\n        \"num_unique_values\": 1,\n        \"samples\": [\n          false\n        ],\n        \"semantic_type\": \"\",\n        \"description\": \"\"\n      }\n    },\n    {\n      \"column\": \"parameters\",\n      \"properties\": {\n        \"dtype\": \"object\",\n        \"semantic_type\": \"\",\n        \"description\": \"\"\n      }\n    }\n  ]\n}"
            }
          },
          "metadata": {},
          "execution_count": 70
        }
      ]
    },
    {
      "cell_type": "code",
      "source": [
        "automl.best_pipeline"
      ],
      "metadata": {
        "colab": {
          "base_uri": "https://localhost:8080/"
        },
        "id": "CIHZ0uQclZ9O",
        "outputId": "474bf559-1219-43e4-bb60-8ec61e713861"
      },
      "execution_count": 71,
      "outputs": [
        {
          "output_type": "execute_result",
          "data": {
            "text/plain": [
              "pipeline = MulticlassClassificationPipeline(component_graph={'Label Encoder': ['Label Encoder', 'X', 'y'], 'Imputer': ['Imputer', 'X', 'Label Encoder.y'], 'RF Classifier Select From Model': ['RF Classifier Select From Model', 'Imputer.x', 'Label Encoder.y'], 'Random Forest Classifier': ['Random Forest Classifier', 'RF Classifier Select From Model.x', 'Label Encoder.y']}, parameters={'Label Encoder':{'positive_label': None}, 'Imputer':{'categorical_impute_strategy': 'most_frequent', 'numeric_impute_strategy': 'mean', 'boolean_impute_strategy': 'most_frequent', 'categorical_fill_value': None, 'numeric_fill_value': None, 'boolean_fill_value': None}, 'RF Classifier Select From Model':{'number_features': None, 'n_estimators': 10, 'max_depth': None, 'percent_features': 0.5, 'threshold': 'median', 'n_jobs': -1}, 'Random Forest Classifier':{'n_estimators': 100, 'max_depth': 6, 'n_jobs': -1}}, random_seed=0)"
            ]
          },
          "metadata": {},
          "execution_count": 71
        }
      ]
    },
    {
      "cell_type": "code",
      "source": [
        "best_pipeline=automl.best_pipeline"
      ],
      "metadata": {
        "id": "Ulc100lwlcy0"
      },
      "execution_count": 72,
      "outputs": []
    },
    {
      "cell_type": "code",
      "source": [
        "automl.describe_pipeline(automl.rankings.iloc[0][\"id\"])"
      ],
      "metadata": {
        "colab": {
          "base_uri": "https://localhost:8080/"
        },
        "id": "lDKxQLZEle7q",
        "outputId": "e1cdea49-1046-4007-bf0e-7f2fe96b1560"
      },
      "execution_count": 73,
      "outputs": [
        {
          "output_type": "stream",
          "name": "stdout",
          "text": [
            "\n",
            "*****************************************************************************************\n"
          ]
        },
        {
          "output_type": "stream",
          "name": "stderr",
          "text": [
            "INFO:evalml.pipelines.pipeline_base.describe:\n",
            "*****************************************************************************************\n"
          ]
        },
        {
          "output_type": "stream",
          "name": "stdout",
          "text": [
            "* Random Forest Classifier w/ Label Encoder + Imputer + RF Classifier Select From Model *\n"
          ]
        },
        {
          "output_type": "stream",
          "name": "stderr",
          "text": [
            "INFO:evalml.pipelines.pipeline_base.describe:* Random Forest Classifier w/ Label Encoder + Imputer + RF Classifier Select From Model *\n"
          ]
        },
        {
          "output_type": "stream",
          "name": "stdout",
          "text": [
            "*****************************************************************************************\n"
          ]
        },
        {
          "output_type": "stream",
          "name": "stderr",
          "text": [
            "INFO:evalml.pipelines.pipeline_base.describe:*****************************************************************************************\n"
          ]
        },
        {
          "output_type": "stream",
          "name": "stdout",
          "text": [
            "\n"
          ]
        },
        {
          "output_type": "stream",
          "name": "stderr",
          "text": [
            "INFO:evalml.pipelines.pipeline_base.describe:\n"
          ]
        },
        {
          "output_type": "stream",
          "name": "stdout",
          "text": [
            "Problem Type: multiclass\n"
          ]
        },
        {
          "output_type": "stream",
          "name": "stderr",
          "text": [
            "INFO:evalml.pipelines.pipeline_base.describe:Problem Type: multiclass\n"
          ]
        },
        {
          "output_type": "stream",
          "name": "stdout",
          "text": [
            "Model Family: Random Forest\n"
          ]
        },
        {
          "output_type": "stream",
          "name": "stderr",
          "text": [
            "INFO:evalml.pipelines.pipeline_base.describe:Model Family: Random Forest\n"
          ]
        },
        {
          "output_type": "stream",
          "name": "stdout",
          "text": [
            "\n"
          ]
        },
        {
          "output_type": "stream",
          "name": "stderr",
          "text": [
            "INFO:evalml.pipelines.pipeline_base.describe:\n"
          ]
        },
        {
          "output_type": "stream",
          "name": "stdout",
          "text": [
            "Pipeline Steps\n"
          ]
        },
        {
          "output_type": "stream",
          "name": "stderr",
          "text": [
            "INFO:evalml.pipelines.pipeline_base.describe:Pipeline Steps\n"
          ]
        },
        {
          "output_type": "stream",
          "name": "stdout",
          "text": [
            "==============\n"
          ]
        },
        {
          "output_type": "stream",
          "name": "stderr",
          "text": [
            "INFO:evalml.pipelines.pipeline_base.describe:==============\n"
          ]
        },
        {
          "output_type": "stream",
          "name": "stdout",
          "text": [
            "1. Label Encoder\n"
          ]
        },
        {
          "output_type": "stream",
          "name": "stderr",
          "text": [
            "INFO:evalml.pipelines.component_graph.describe:1. Label Encoder\n"
          ]
        },
        {
          "output_type": "stream",
          "name": "stdout",
          "text": [
            "\t * positive_label : None\n"
          ]
        },
        {
          "output_type": "stream",
          "name": "stderr",
          "text": [
            "INFO:evalml.pipelines.components.component_base.describe:\t * positive_label : None\n"
          ]
        },
        {
          "output_type": "stream",
          "name": "stdout",
          "text": [
            "2. Imputer\n"
          ]
        },
        {
          "output_type": "stream",
          "name": "stderr",
          "text": [
            "INFO:evalml.pipelines.component_graph.describe:2. Imputer\n"
          ]
        },
        {
          "output_type": "stream",
          "name": "stdout",
          "text": [
            "\t * categorical_impute_strategy : most_frequent\n"
          ]
        },
        {
          "output_type": "stream",
          "name": "stderr",
          "text": [
            "INFO:evalml.pipelines.components.component_base.describe:\t * categorical_impute_strategy : most_frequent\n"
          ]
        },
        {
          "output_type": "stream",
          "name": "stdout",
          "text": [
            "\t * numeric_impute_strategy : mean\n"
          ]
        },
        {
          "output_type": "stream",
          "name": "stderr",
          "text": [
            "INFO:evalml.pipelines.components.component_base.describe:\t * numeric_impute_strategy : mean\n"
          ]
        },
        {
          "output_type": "stream",
          "name": "stdout",
          "text": [
            "\t * boolean_impute_strategy : most_frequent\n"
          ]
        },
        {
          "output_type": "stream",
          "name": "stderr",
          "text": [
            "INFO:evalml.pipelines.components.component_base.describe:\t * boolean_impute_strategy : most_frequent\n"
          ]
        },
        {
          "output_type": "stream",
          "name": "stdout",
          "text": [
            "\t * categorical_fill_value : None\n"
          ]
        },
        {
          "output_type": "stream",
          "name": "stderr",
          "text": [
            "INFO:evalml.pipelines.components.component_base.describe:\t * categorical_fill_value : None\n"
          ]
        },
        {
          "output_type": "stream",
          "name": "stdout",
          "text": [
            "\t * numeric_fill_value : None\n"
          ]
        },
        {
          "output_type": "stream",
          "name": "stderr",
          "text": [
            "INFO:evalml.pipelines.components.component_base.describe:\t * numeric_fill_value : None\n"
          ]
        },
        {
          "output_type": "stream",
          "name": "stdout",
          "text": [
            "\t * boolean_fill_value : None\n"
          ]
        },
        {
          "output_type": "stream",
          "name": "stderr",
          "text": [
            "INFO:evalml.pipelines.components.component_base.describe:\t * boolean_fill_value : None\n"
          ]
        },
        {
          "output_type": "stream",
          "name": "stdout",
          "text": [
            "3. RF Classifier Select From Model\n"
          ]
        },
        {
          "output_type": "stream",
          "name": "stderr",
          "text": [
            "INFO:evalml.pipelines.component_graph.describe:3. RF Classifier Select From Model\n"
          ]
        },
        {
          "output_type": "stream",
          "name": "stdout",
          "text": [
            "\t * number_features : None\n"
          ]
        },
        {
          "output_type": "stream",
          "name": "stderr",
          "text": [
            "INFO:evalml.pipelines.components.component_base.describe:\t * number_features : None\n"
          ]
        },
        {
          "output_type": "stream",
          "name": "stdout",
          "text": [
            "\t * n_estimators : 10\n"
          ]
        },
        {
          "output_type": "stream",
          "name": "stderr",
          "text": [
            "INFO:evalml.pipelines.components.component_base.describe:\t * n_estimators : 10\n"
          ]
        },
        {
          "output_type": "stream",
          "name": "stdout",
          "text": [
            "\t * max_depth : None\n"
          ]
        },
        {
          "output_type": "stream",
          "name": "stderr",
          "text": [
            "INFO:evalml.pipelines.components.component_base.describe:\t * max_depth : None\n"
          ]
        },
        {
          "output_type": "stream",
          "name": "stdout",
          "text": [
            "\t * percent_features : 0.5\n"
          ]
        },
        {
          "output_type": "stream",
          "name": "stderr",
          "text": [
            "INFO:evalml.pipelines.components.component_base.describe:\t * percent_features : 0.5\n"
          ]
        },
        {
          "output_type": "stream",
          "name": "stdout",
          "text": [
            "\t * threshold : median\n"
          ]
        },
        {
          "output_type": "stream",
          "name": "stderr",
          "text": [
            "INFO:evalml.pipelines.components.component_base.describe:\t * threshold : median\n"
          ]
        },
        {
          "output_type": "stream",
          "name": "stdout",
          "text": [
            "\t * n_jobs : -1\n"
          ]
        },
        {
          "output_type": "stream",
          "name": "stderr",
          "text": [
            "INFO:evalml.pipelines.components.component_base.describe:\t * n_jobs : -1\n"
          ]
        },
        {
          "output_type": "stream",
          "name": "stdout",
          "text": [
            "4. Random Forest Classifier\n"
          ]
        },
        {
          "output_type": "stream",
          "name": "stderr",
          "text": [
            "INFO:evalml.pipelines.component_graph.describe:4. Random Forest Classifier\n"
          ]
        },
        {
          "output_type": "stream",
          "name": "stdout",
          "text": [
            "\t * n_estimators : 100\n"
          ]
        },
        {
          "output_type": "stream",
          "name": "stderr",
          "text": [
            "INFO:evalml.pipelines.components.component_base.describe:\t * n_estimators : 100\n"
          ]
        },
        {
          "output_type": "stream",
          "name": "stdout",
          "text": [
            "\t * max_depth : 6\n"
          ]
        },
        {
          "output_type": "stream",
          "name": "stderr",
          "text": [
            "INFO:evalml.pipelines.components.component_base.describe:\t * max_depth : 6\n"
          ]
        },
        {
          "output_type": "stream",
          "name": "stdout",
          "text": [
            "\t * n_jobs : -1\n"
          ]
        },
        {
          "output_type": "stream",
          "name": "stderr",
          "text": [
            "INFO:evalml.pipelines.components.component_base.describe:\t * n_jobs : -1\n"
          ]
        },
        {
          "output_type": "stream",
          "name": "stdout",
          "text": [
            "\n"
          ]
        },
        {
          "output_type": "stream",
          "name": "stderr",
          "text": [
            "INFO:evalml.automl.automl_search.describe_pipeline:\n"
          ]
        },
        {
          "output_type": "stream",
          "name": "stdout",
          "text": [
            "Training\n"
          ]
        },
        {
          "output_type": "stream",
          "name": "stderr",
          "text": [
            "INFO:evalml.automl.automl_search.describe_pipeline:Training\n"
          ]
        },
        {
          "output_type": "stream",
          "name": "stdout",
          "text": [
            "========\n"
          ]
        },
        {
          "output_type": "stream",
          "name": "stderr",
          "text": [
            "INFO:evalml.automl.automl_search.describe_pipeline:========\n"
          ]
        },
        {
          "output_type": "stream",
          "name": "stdout",
          "text": [
            "Training for multiclass problems.\n"
          ]
        },
        {
          "output_type": "stream",
          "name": "stderr",
          "text": [
            "INFO:evalml.automl.automl_search.describe_pipeline:Training for multiclass problems.\n"
          ]
        },
        {
          "output_type": "stream",
          "name": "stdout",
          "text": [
            "Total training time (including CV): 3.5 seconds\n"
          ]
        },
        {
          "output_type": "stream",
          "name": "stderr",
          "text": [
            "INFO:evalml.automl.automl_search.describe_pipeline:Total training time (including CV): 3.5 seconds\n"
          ]
        },
        {
          "output_type": "stream",
          "name": "stdout",
          "text": [
            "\n"
          ]
        },
        {
          "output_type": "stream",
          "name": "stderr",
          "text": [
            "INFO:evalml.automl.automl_search.describe_pipeline:\n"
          ]
        },
        {
          "output_type": "stream",
          "name": "stdout",
          "text": [
            "Cross Validation\n"
          ]
        },
        {
          "output_type": "stream",
          "name": "stderr",
          "text": [
            "INFO:evalml.automl.automl_search.describe_pipeline:Cross Validation\n"
          ]
        },
        {
          "output_type": "stream",
          "name": "stdout",
          "text": [
            "----------------\n"
          ]
        },
        {
          "output_type": "stream",
          "name": "stderr",
          "text": [
            "INFO:evalml.automl.automl_search.describe_pipeline:----------------\n"
          ]
        },
        {
          "output_type": "stream",
          "name": "stdout",
          "text": [
            "             Log Loss Multiclass  MCC Multiclass  AUC Weighted  AUC Macro  AUC Micro  Precision Weighted  Precision Macro  Precision Micro  F1 Weighted  F1 Macro  F1 Micro  Balanced Accuracy Multiclass  Accuracy Multiclass # Training # Validation\n",
            "0                          0.000           1.000         1.000      1.000      1.000               1.000            1.000            1.000        1.000     1.000     1.000                         1.000                1.000     12,248        6,125\n",
            "1                          0.000           1.000         1.000      1.000      1.000               1.000            1.000            1.000        1.000     1.000     1.000                         1.000                1.000     12,249        6,124\n",
            "2                          0.000           1.000         1.000      1.000      1.000               1.000            1.000            1.000        1.000     1.000     1.000                         1.000                1.000     12,249        6,124\n",
            "mean                       0.000           1.000         1.000      1.000      1.000               1.000            1.000            1.000        1.000     1.000     1.000                         1.000                1.000          -            -\n",
            "std                        0.000           0.000         0.000      0.000      0.000               0.000            0.000            0.000        0.000     0.000     0.000                         0.000                0.000          -            -\n",
            "coef of var                0.000           0.000         0.000      0.000      0.000               0.000            0.000            0.000        0.000     0.000     0.000                         0.000                0.000          -            -\n"
          ]
        },
        {
          "output_type": "stream",
          "name": "stderr",
          "text": [
            "INFO:evalml.automl.automl_search.describe_pipeline:             Log Loss Multiclass  MCC Multiclass  AUC Weighted  AUC Macro  AUC Micro  Precision Weighted  Precision Macro  Precision Micro  F1 Weighted  F1 Macro  F1 Micro  Balanced Accuracy Multiclass  Accuracy Multiclass # Training # Validation\n",
            "0                          0.000           1.000         1.000      1.000      1.000               1.000            1.000            1.000        1.000     1.000     1.000                         1.000                1.000     12,248        6,125\n",
            "1                          0.000           1.000         1.000      1.000      1.000               1.000            1.000            1.000        1.000     1.000     1.000                         1.000                1.000     12,249        6,124\n",
            "2                          0.000           1.000         1.000      1.000      1.000               1.000            1.000            1.000        1.000     1.000     1.000                         1.000                1.000     12,249        6,124\n",
            "mean                       0.000           1.000         1.000      1.000      1.000               1.000            1.000            1.000        1.000     1.000     1.000                         1.000                1.000          -            -\n",
            "std                        0.000           0.000         0.000      0.000      0.000               0.000            0.000            0.000        0.000     0.000     0.000                         0.000                0.000          -            -\n",
            "coef of var                0.000           0.000         0.000      0.000      0.000               0.000            0.000            0.000        0.000     0.000     0.000                         0.000                0.000          -            -\n"
          ]
        }
      ]
    },
    {
      "cell_type": "code",
      "source": [
        "evalml.problem_types.ProblemTypes.all_problem_types"
      ],
      "metadata": {
        "colab": {
          "base_uri": "https://localhost:8080/"
        },
        "id": "J2nIoPyBlgfq",
        "outputId": "b61e3113-8c2d-4f24-b944-521f38830fa4"
      },
      "execution_count": 74,
      "outputs": [
        {
          "output_type": "execute_result",
          "data": {
            "text/plain": [
              "[<ProblemTypes.BINARY: 'binary'>,\n",
              " <ProblemTypes.MULTICLASS: 'multiclass'>,\n",
              " <ProblemTypes.REGRESSION: 'regression'>,\n",
              " <ProblemTypes.TIME_SERIES_REGRESSION: 'time series regression'>,\n",
              " <ProblemTypes.TIME_SERIES_BINARY: 'time series binary'>,\n",
              " <ProblemTypes.TIME_SERIES_MULTICLASS: 'time series multiclass'>,\n",
              " <ProblemTypes.MULTISERIES_TIME_SERIES_REGRESSION: 'multiseries time series regression'>]"
            ]
          },
          "metadata": {},
          "execution_count": 74
        }
      ]
    },
    {
      "cell_type": "code",
      "source": [
        "from evalml.objectives import get_optimization_objectives"
      ],
      "metadata": {
        "id": "fU_rbaoPlqU3"
      },
      "execution_count": 75,
      "outputs": []
    },
    {
      "cell_type": "code",
      "source": [
        "from evalml.problem_types import ProblemTypes\n",
        "\n",
        "for objective in get_optimization_objectives(ProblemTypes.MULTICLASS):\n",
        "    print(objective.name)"
      ],
      "metadata": {
        "colab": {
          "base_uri": "https://localhost:8080/"
        },
        "id": "h0BlWBO-lqhf",
        "outputId": "15b6d839-1575-450d-9b11-6e6af4d5cdb4"
      },
      "execution_count": 76,
      "outputs": [
        {
          "output_type": "stream",
          "name": "stdout",
          "text": [
            "MCC Multiclass\n",
            "Log Loss Multiclass\n",
            "AUC Weighted\n",
            "AUC Macro\n",
            "AUC Micro\n",
            "Precision Weighted\n",
            "Precision Macro\n",
            "Precision Micro\n",
            "F1 Weighted\n",
            "F1 Macro\n",
            "F1 Micro\n",
            "Balanced Accuracy Multiclass\n",
            "Accuracy Multiclass\n"
          ]
        }
      ]
    },
    {
      "cell_type": "code",
      "source": [
        "automl_auc = AutoMLSearch(X_train=x_train2, y_train=y_train,\n",
        "                          problem_type='multiclass',\n",
        "                          objective='F1 Weighted',\n",
        "                          additional_objectives=['Balanced Accuracy Multiclass', 'Accuracy Multiclass'],\n",
        "                          max_batches=1,\n",
        "                          optimize_thresholds=True)\n",
        "\n",
        "automl_auc.search()"
      ],
      "metadata": {
        "colab": {
          "base_uri": "https://localhost:8080/"
        },
        "id": "Kq7pOEHomEl8",
        "outputId": "31f06204-f2c4-45dc-ee41-11abf7b0e4b4"
      },
      "execution_count": 78,
      "outputs": [
        {
          "output_type": "execute_result",
          "data": {
            "text/plain": [
              "{1: {'Random Forest Classifier w/ Label Encoder + Imputer + RF Classifier Select From Model': 6.735596418380737,\n",
              "  'Total time of batch': 6.892743349075317}}"
            ]
          },
          "metadata": {},
          "execution_count": 78
        }
      ]
    },
    {
      "cell_type": "code",
      "source": [
        "automl_auc.rankings"
      ],
      "metadata": {
        "colab": {
          "base_uri": "https://localhost:8080/",
          "height": 236
        },
        "id": "WpvILfttmP9S",
        "outputId": "33b91add-011f-44f8-837a-5939ec845ec8"
      },
      "execution_count": 79,
      "outputs": [
        {
          "output_type": "execute_result",
          "data": {
            "text/plain": [
              "   id                                      pipeline_name  search_order  \\\n",
              "0   1  Random Forest Classifier w/ Label Encoder + Im...             1   \n",
              "1   0   Mode Baseline Multiclass Classification Pipeline             0   \n",
              "\n",
              "   ranking_score  mean_cv_score  standard_deviation_cv_score  \\\n",
              "0       1.000000       1.000000                     0.000000   \n",
              "1       0.373524       0.373524                     0.000094   \n",
              "\n",
              "   percent_better_than_baseline  high_variance_cv  \\\n",
              "0                     62.647647             False   \n",
              "1                      0.000000             False   \n",
              "\n",
              "                                          parameters  \n",
              "0  {'Label Encoder': {'positive_label': None}, 'I...  \n",
              "1  {'Label Encoder': {'positive_label': None}, 'B...  "
            ],
            "text/html": [
              "\n",
              "  <div id=\"df-762c6e46-5c23-4597-bb04-466c08f967a3\" class=\"colab-df-container\">\n",
              "    <div>\n",
              "<style scoped>\n",
              "    .dataframe tbody tr th:only-of-type {\n",
              "        vertical-align: middle;\n",
              "    }\n",
              "\n",
              "    .dataframe tbody tr th {\n",
              "        vertical-align: top;\n",
              "    }\n",
              "\n",
              "    .dataframe thead th {\n",
              "        text-align: right;\n",
              "    }\n",
              "</style>\n",
              "<table border=\"1\" class=\"dataframe\">\n",
              "  <thead>\n",
              "    <tr style=\"text-align: right;\">\n",
              "      <th></th>\n",
              "      <th>id</th>\n",
              "      <th>pipeline_name</th>\n",
              "      <th>search_order</th>\n",
              "      <th>ranking_score</th>\n",
              "      <th>mean_cv_score</th>\n",
              "      <th>standard_deviation_cv_score</th>\n",
              "      <th>percent_better_than_baseline</th>\n",
              "      <th>high_variance_cv</th>\n",
              "      <th>parameters</th>\n",
              "    </tr>\n",
              "  </thead>\n",
              "  <tbody>\n",
              "    <tr>\n",
              "      <th>0</th>\n",
              "      <td>1</td>\n",
              "      <td>Random Forest Classifier w/ Label Encoder + Im...</td>\n",
              "      <td>1</td>\n",
              "      <td>1.000000</td>\n",
              "      <td>1.000000</td>\n",
              "      <td>0.000000</td>\n",
              "      <td>62.647647</td>\n",
              "      <td>False</td>\n",
              "      <td>{'Label Encoder': {'positive_label': None}, 'I...</td>\n",
              "    </tr>\n",
              "    <tr>\n",
              "      <th>1</th>\n",
              "      <td>0</td>\n",
              "      <td>Mode Baseline Multiclass Classification Pipeline</td>\n",
              "      <td>0</td>\n",
              "      <td>0.373524</td>\n",
              "      <td>0.373524</td>\n",
              "      <td>0.000094</td>\n",
              "      <td>0.000000</td>\n",
              "      <td>False</td>\n",
              "      <td>{'Label Encoder': {'positive_label': None}, 'B...</td>\n",
              "    </tr>\n",
              "  </tbody>\n",
              "</table>\n",
              "</div>\n",
              "    <div class=\"colab-df-buttons\">\n",
              "\n",
              "  <div class=\"colab-df-container\">\n",
              "    <button class=\"colab-df-convert\" onclick=\"convertToInteractive('df-762c6e46-5c23-4597-bb04-466c08f967a3')\"\n",
              "            title=\"Convert this dataframe to an interactive table.\"\n",
              "            style=\"display:none;\">\n",
              "\n",
              "  <svg xmlns=\"http://www.w3.org/2000/svg\" height=\"24px\" viewBox=\"0 -960 960 960\">\n",
              "    <path d=\"M120-120v-720h720v720H120Zm60-500h600v-160H180v160Zm220 220h160v-160H400v160Zm0 220h160v-160H400v160ZM180-400h160v-160H180v160Zm440 0h160v-160H620v160ZM180-180h160v-160H180v160Zm440 0h160v-160H620v160Z\"/>\n",
              "  </svg>\n",
              "    </button>\n",
              "\n",
              "  <style>\n",
              "    .colab-df-container {\n",
              "      display:flex;\n",
              "      gap: 12px;\n",
              "    }\n",
              "\n",
              "    .colab-df-convert {\n",
              "      background-color: #E8F0FE;\n",
              "      border: none;\n",
              "      border-radius: 50%;\n",
              "      cursor: pointer;\n",
              "      display: none;\n",
              "      fill: #1967D2;\n",
              "      height: 32px;\n",
              "      padding: 0 0 0 0;\n",
              "      width: 32px;\n",
              "    }\n",
              "\n",
              "    .colab-df-convert:hover {\n",
              "      background-color: #E2EBFA;\n",
              "      box-shadow: 0px 1px 2px rgba(60, 64, 67, 0.3), 0px 1px 3px 1px rgba(60, 64, 67, 0.15);\n",
              "      fill: #174EA6;\n",
              "    }\n",
              "\n",
              "    .colab-df-buttons div {\n",
              "      margin-bottom: 4px;\n",
              "    }\n",
              "\n",
              "    [theme=dark] .colab-df-convert {\n",
              "      background-color: #3B4455;\n",
              "      fill: #D2E3FC;\n",
              "    }\n",
              "\n",
              "    [theme=dark] .colab-df-convert:hover {\n",
              "      background-color: #434B5C;\n",
              "      box-shadow: 0px 1px 3px 1px rgba(0, 0, 0, 0.15);\n",
              "      filter: drop-shadow(0px 1px 2px rgba(0, 0, 0, 0.3));\n",
              "      fill: #FFFFFF;\n",
              "    }\n",
              "  </style>\n",
              "\n",
              "    <script>\n",
              "      const buttonEl =\n",
              "        document.querySelector('#df-762c6e46-5c23-4597-bb04-466c08f967a3 button.colab-df-convert');\n",
              "      buttonEl.style.display =\n",
              "        google.colab.kernel.accessAllowed ? 'block' : 'none';\n",
              "\n",
              "      async function convertToInteractive(key) {\n",
              "        const element = document.querySelector('#df-762c6e46-5c23-4597-bb04-466c08f967a3');\n",
              "        const dataTable =\n",
              "          await google.colab.kernel.invokeFunction('convertToInteractive',\n",
              "                                                    [key], {});\n",
              "        if (!dataTable) return;\n",
              "\n",
              "        const docLinkHtml = 'Like what you see? Visit the ' +\n",
              "          '<a target=\"_blank\" href=https://colab.research.google.com/notebooks/data_table.ipynb>data table notebook</a>'\n",
              "          + ' to learn more about interactive tables.';\n",
              "        element.innerHTML = '';\n",
              "        dataTable['output_type'] = 'display_data';\n",
              "        await google.colab.output.renderOutput(dataTable, element);\n",
              "        const docLink = document.createElement('div');\n",
              "        docLink.innerHTML = docLinkHtml;\n",
              "        element.appendChild(docLink);\n",
              "      }\n",
              "    </script>\n",
              "  </div>\n",
              "\n",
              "\n",
              "<div id=\"df-b721a8ac-dc31-44a8-bcc5-cac5dc617ac0\">\n",
              "  <button class=\"colab-df-quickchart\" onclick=\"quickchart('df-b721a8ac-dc31-44a8-bcc5-cac5dc617ac0')\"\n",
              "            title=\"Suggest charts\"\n",
              "            style=\"display:none;\">\n",
              "\n",
              "<svg xmlns=\"http://www.w3.org/2000/svg\" height=\"24px\"viewBox=\"0 0 24 24\"\n",
              "     width=\"24px\">\n",
              "    <g>\n",
              "        <path d=\"M19 3H5c-1.1 0-2 .9-2 2v14c0 1.1.9 2 2 2h14c1.1 0 2-.9 2-2V5c0-1.1-.9-2-2-2zM9 17H7v-7h2v7zm4 0h-2V7h2v10zm4 0h-2v-4h2v4z\"/>\n",
              "    </g>\n",
              "</svg>\n",
              "  </button>\n",
              "\n",
              "<style>\n",
              "  .colab-df-quickchart {\n",
              "      --bg-color: #E8F0FE;\n",
              "      --fill-color: #1967D2;\n",
              "      --hover-bg-color: #E2EBFA;\n",
              "      --hover-fill-color: #174EA6;\n",
              "      --disabled-fill-color: #AAA;\n",
              "      --disabled-bg-color: #DDD;\n",
              "  }\n",
              "\n",
              "  [theme=dark] .colab-df-quickchart {\n",
              "      --bg-color: #3B4455;\n",
              "      --fill-color: #D2E3FC;\n",
              "      --hover-bg-color: #434B5C;\n",
              "      --hover-fill-color: #FFFFFF;\n",
              "      --disabled-bg-color: #3B4455;\n",
              "      --disabled-fill-color: #666;\n",
              "  }\n",
              "\n",
              "  .colab-df-quickchart {\n",
              "    background-color: var(--bg-color);\n",
              "    border: none;\n",
              "    border-radius: 50%;\n",
              "    cursor: pointer;\n",
              "    display: none;\n",
              "    fill: var(--fill-color);\n",
              "    height: 32px;\n",
              "    padding: 0;\n",
              "    width: 32px;\n",
              "  }\n",
              "\n",
              "  .colab-df-quickchart:hover {\n",
              "    background-color: var(--hover-bg-color);\n",
              "    box-shadow: 0 1px 2px rgba(60, 64, 67, 0.3), 0 1px 3px 1px rgba(60, 64, 67, 0.15);\n",
              "    fill: var(--button-hover-fill-color);\n",
              "  }\n",
              "\n",
              "  .colab-df-quickchart-complete:disabled,\n",
              "  .colab-df-quickchart-complete:disabled:hover {\n",
              "    background-color: var(--disabled-bg-color);\n",
              "    fill: var(--disabled-fill-color);\n",
              "    box-shadow: none;\n",
              "  }\n",
              "\n",
              "  .colab-df-spinner {\n",
              "    border: 2px solid var(--fill-color);\n",
              "    border-color: transparent;\n",
              "    border-bottom-color: var(--fill-color);\n",
              "    animation:\n",
              "      spin 1s steps(1) infinite;\n",
              "  }\n",
              "\n",
              "  @keyframes spin {\n",
              "    0% {\n",
              "      border-color: transparent;\n",
              "      border-bottom-color: var(--fill-color);\n",
              "      border-left-color: var(--fill-color);\n",
              "    }\n",
              "    20% {\n",
              "      border-color: transparent;\n",
              "      border-left-color: var(--fill-color);\n",
              "      border-top-color: var(--fill-color);\n",
              "    }\n",
              "    30% {\n",
              "      border-color: transparent;\n",
              "      border-left-color: var(--fill-color);\n",
              "      border-top-color: var(--fill-color);\n",
              "      border-right-color: var(--fill-color);\n",
              "    }\n",
              "    40% {\n",
              "      border-color: transparent;\n",
              "      border-right-color: var(--fill-color);\n",
              "      border-top-color: var(--fill-color);\n",
              "    }\n",
              "    60% {\n",
              "      border-color: transparent;\n",
              "      border-right-color: var(--fill-color);\n",
              "    }\n",
              "    80% {\n",
              "      border-color: transparent;\n",
              "      border-right-color: var(--fill-color);\n",
              "      border-bottom-color: var(--fill-color);\n",
              "    }\n",
              "    90% {\n",
              "      border-color: transparent;\n",
              "      border-bottom-color: var(--fill-color);\n",
              "    }\n",
              "  }\n",
              "</style>\n",
              "\n",
              "  <script>\n",
              "    async function quickchart(key) {\n",
              "      const quickchartButtonEl =\n",
              "        document.querySelector('#' + key + ' button');\n",
              "      quickchartButtonEl.disabled = true;  // To prevent multiple clicks.\n",
              "      quickchartButtonEl.classList.add('colab-df-spinner');\n",
              "      try {\n",
              "        const charts = await google.colab.kernel.invokeFunction(\n",
              "            'suggestCharts', [key], {});\n",
              "      } catch (error) {\n",
              "        console.error('Error during call to suggestCharts:', error);\n",
              "      }\n",
              "      quickchartButtonEl.classList.remove('colab-df-spinner');\n",
              "      quickchartButtonEl.classList.add('colab-df-quickchart-complete');\n",
              "    }\n",
              "    (() => {\n",
              "      let quickchartButtonEl =\n",
              "        document.querySelector('#df-b721a8ac-dc31-44a8-bcc5-cac5dc617ac0 button');\n",
              "      quickchartButtonEl.style.display =\n",
              "        google.colab.kernel.accessAllowed ? 'block' : 'none';\n",
              "    })();\n",
              "  </script>\n",
              "</div>\n",
              "\n",
              "    </div>\n",
              "  </div>\n"
            ],
            "application/vnd.google.colaboratory.intrinsic+json": {
              "type": "dataframe",
              "summary": "{\n  \"name\": \"automl_auc\",\n  \"rows\": 2,\n  \"fields\": [\n    {\n      \"column\": \"id\",\n      \"properties\": {\n        \"dtype\": \"number\",\n        \"std\": 0,\n        \"min\": 0,\n        \"max\": 1,\n        \"num_unique_values\": 2,\n        \"samples\": [\n          0,\n          1\n        ],\n        \"semantic_type\": \"\",\n        \"description\": \"\"\n      }\n    },\n    {\n      \"column\": \"pipeline_name\",\n      \"properties\": {\n        \"dtype\": \"string\",\n        \"num_unique_values\": 2,\n        \"samples\": [\n          \"Mode Baseline Multiclass Classification Pipeline\",\n          \"Random Forest Classifier w/ Label Encoder + Imputer + RF Classifier Select From Model\"\n        ],\n        \"semantic_type\": \"\",\n        \"description\": \"\"\n      }\n    },\n    {\n      \"column\": \"search_order\",\n      \"properties\": {\n        \"dtype\": \"number\",\n        \"std\": 0,\n        \"min\": 0,\n        \"max\": 1,\n        \"num_unique_values\": 2,\n        \"samples\": [\n          0,\n          1\n        ],\n        \"semantic_type\": \"\",\n        \"description\": \"\"\n      }\n    },\n    {\n      \"column\": \"ranking_score\",\n      \"properties\": {\n        \"dtype\": \"number\",\n        \"std\": 0.4429857574681919,\n        \"min\": 0.3735235338503644,\n        \"max\": 1.0,\n        \"num_unique_values\": 2,\n        \"samples\": [\n          0.3735235338503644,\n          1.0\n        ],\n        \"semantic_type\": \"\",\n        \"description\": \"\"\n      }\n    },\n    {\n      \"column\": \"mean_cv_score\",\n      \"properties\": {\n        \"dtype\": \"number\",\n        \"std\": 0.4429857574681919,\n        \"min\": 0.3735235338503644,\n        \"max\": 1.0,\n        \"num_unique_values\": 2,\n        \"samples\": [\n          0.3735235338503644,\n          1.0\n        ],\n        \"semantic_type\": \"\",\n        \"description\": \"\"\n      }\n    },\n    {\n      \"column\": \"standard_deviation_cv_score\",\n      \"properties\": {\n        \"dtype\": \"number\",\n        \"std\": 6.654954914503214e-05,\n        \"min\": 0.0,\n        \"max\": 9.411527497071928e-05,\n        \"num_unique_values\": 2,\n        \"samples\": [\n          9.411527497071928e-05,\n          0.0\n        ],\n        \"semantic_type\": \"\",\n        \"description\": \"\"\n      }\n    },\n    {\n      \"column\": \"percent_better_than_baseline\",\n      \"properties\": {\n        \"dtype\": \"number\",\n        \"std\": 44.298575746819196,\n        \"min\": 0.0,\n        \"max\": 62.64764661496356,\n        \"num_unique_values\": 2,\n        \"samples\": [\n          0.0,\n          62.64764661496356\n        ],\n        \"semantic_type\": \"\",\n        \"description\": \"\"\n      }\n    },\n    {\n      \"column\": \"high_variance_cv\",\n      \"properties\": {\n        \"dtype\": \"boolean\",\n        \"num_unique_values\": 1,\n        \"samples\": [\n          false\n        ],\n        \"semantic_type\": \"\",\n        \"description\": \"\"\n      }\n    },\n    {\n      \"column\": \"parameters\",\n      \"properties\": {\n        \"dtype\": \"object\",\n        \"semantic_type\": \"\",\n        \"description\": \"\"\n      }\n    }\n  ]\n}"
            }
          },
          "metadata": {},
          "execution_count": 79
        }
      ]
    },
    {
      "cell_type": "code",
      "source": [
        "automl_auc.describe_pipeline(automl_auc.rankings.iloc[0][\"id\"])"
      ],
      "metadata": {
        "colab": {
          "base_uri": "https://localhost:8080/"
        },
        "id": "Z1zUjqhbmTwq",
        "outputId": "eed04136-c9a3-40a0-83a4-24103e070f91"
      },
      "execution_count": 80,
      "outputs": [
        {
          "output_type": "stream",
          "name": "stdout",
          "text": [
            "\n",
            "*****************************************************************************************\n"
          ]
        },
        {
          "output_type": "stream",
          "name": "stderr",
          "text": [
            "INFO:evalml.pipelines.pipeline_base.describe:\n",
            "*****************************************************************************************\n"
          ]
        },
        {
          "output_type": "stream",
          "name": "stdout",
          "text": [
            "* Random Forest Classifier w/ Label Encoder + Imputer + RF Classifier Select From Model *\n"
          ]
        },
        {
          "output_type": "stream",
          "name": "stderr",
          "text": [
            "INFO:evalml.pipelines.pipeline_base.describe:* Random Forest Classifier w/ Label Encoder + Imputer + RF Classifier Select From Model *\n"
          ]
        },
        {
          "output_type": "stream",
          "name": "stdout",
          "text": [
            "*****************************************************************************************\n"
          ]
        },
        {
          "output_type": "stream",
          "name": "stderr",
          "text": [
            "INFO:evalml.pipelines.pipeline_base.describe:*****************************************************************************************\n"
          ]
        },
        {
          "output_type": "stream",
          "name": "stdout",
          "text": [
            "\n"
          ]
        },
        {
          "output_type": "stream",
          "name": "stderr",
          "text": [
            "INFO:evalml.pipelines.pipeline_base.describe:\n"
          ]
        },
        {
          "output_type": "stream",
          "name": "stdout",
          "text": [
            "Problem Type: multiclass\n"
          ]
        },
        {
          "output_type": "stream",
          "name": "stderr",
          "text": [
            "INFO:evalml.pipelines.pipeline_base.describe:Problem Type: multiclass\n"
          ]
        },
        {
          "output_type": "stream",
          "name": "stdout",
          "text": [
            "Model Family: Random Forest\n"
          ]
        },
        {
          "output_type": "stream",
          "name": "stderr",
          "text": [
            "INFO:evalml.pipelines.pipeline_base.describe:Model Family: Random Forest\n"
          ]
        },
        {
          "output_type": "stream",
          "name": "stdout",
          "text": [
            "\n"
          ]
        },
        {
          "output_type": "stream",
          "name": "stderr",
          "text": [
            "INFO:evalml.pipelines.pipeline_base.describe:\n"
          ]
        },
        {
          "output_type": "stream",
          "name": "stdout",
          "text": [
            "Pipeline Steps\n"
          ]
        },
        {
          "output_type": "stream",
          "name": "stderr",
          "text": [
            "INFO:evalml.pipelines.pipeline_base.describe:Pipeline Steps\n"
          ]
        },
        {
          "output_type": "stream",
          "name": "stdout",
          "text": [
            "==============\n"
          ]
        },
        {
          "output_type": "stream",
          "name": "stderr",
          "text": [
            "INFO:evalml.pipelines.pipeline_base.describe:==============\n"
          ]
        },
        {
          "output_type": "stream",
          "name": "stdout",
          "text": [
            "1. Label Encoder\n"
          ]
        },
        {
          "output_type": "stream",
          "name": "stderr",
          "text": [
            "INFO:evalml.pipelines.component_graph.describe:1. Label Encoder\n"
          ]
        },
        {
          "output_type": "stream",
          "name": "stdout",
          "text": [
            "\t * positive_label : None\n"
          ]
        },
        {
          "output_type": "stream",
          "name": "stderr",
          "text": [
            "INFO:evalml.pipelines.components.component_base.describe:\t * positive_label : None\n"
          ]
        },
        {
          "output_type": "stream",
          "name": "stdout",
          "text": [
            "2. Imputer\n"
          ]
        },
        {
          "output_type": "stream",
          "name": "stderr",
          "text": [
            "INFO:evalml.pipelines.component_graph.describe:2. Imputer\n"
          ]
        },
        {
          "output_type": "stream",
          "name": "stdout",
          "text": [
            "\t * categorical_impute_strategy : most_frequent\n"
          ]
        },
        {
          "output_type": "stream",
          "name": "stderr",
          "text": [
            "INFO:evalml.pipelines.components.component_base.describe:\t * categorical_impute_strategy : most_frequent\n"
          ]
        },
        {
          "output_type": "stream",
          "name": "stdout",
          "text": [
            "\t * numeric_impute_strategy : mean\n"
          ]
        },
        {
          "output_type": "stream",
          "name": "stderr",
          "text": [
            "INFO:evalml.pipelines.components.component_base.describe:\t * numeric_impute_strategy : mean\n"
          ]
        },
        {
          "output_type": "stream",
          "name": "stdout",
          "text": [
            "\t * boolean_impute_strategy : most_frequent\n"
          ]
        },
        {
          "output_type": "stream",
          "name": "stderr",
          "text": [
            "INFO:evalml.pipelines.components.component_base.describe:\t * boolean_impute_strategy : most_frequent\n"
          ]
        },
        {
          "output_type": "stream",
          "name": "stdout",
          "text": [
            "\t * categorical_fill_value : None\n"
          ]
        },
        {
          "output_type": "stream",
          "name": "stderr",
          "text": [
            "INFO:evalml.pipelines.components.component_base.describe:\t * categorical_fill_value : None\n"
          ]
        },
        {
          "output_type": "stream",
          "name": "stdout",
          "text": [
            "\t * numeric_fill_value : None\n"
          ]
        },
        {
          "output_type": "stream",
          "name": "stderr",
          "text": [
            "INFO:evalml.pipelines.components.component_base.describe:\t * numeric_fill_value : None\n"
          ]
        },
        {
          "output_type": "stream",
          "name": "stdout",
          "text": [
            "\t * boolean_fill_value : None\n"
          ]
        },
        {
          "output_type": "stream",
          "name": "stderr",
          "text": [
            "INFO:evalml.pipelines.components.component_base.describe:\t * boolean_fill_value : None\n"
          ]
        },
        {
          "output_type": "stream",
          "name": "stdout",
          "text": [
            "3. RF Classifier Select From Model\n"
          ]
        },
        {
          "output_type": "stream",
          "name": "stderr",
          "text": [
            "INFO:evalml.pipelines.component_graph.describe:3. RF Classifier Select From Model\n"
          ]
        },
        {
          "output_type": "stream",
          "name": "stdout",
          "text": [
            "\t * number_features : None\n"
          ]
        },
        {
          "output_type": "stream",
          "name": "stderr",
          "text": [
            "INFO:evalml.pipelines.components.component_base.describe:\t * number_features : None\n"
          ]
        },
        {
          "output_type": "stream",
          "name": "stdout",
          "text": [
            "\t * n_estimators : 10\n"
          ]
        },
        {
          "output_type": "stream",
          "name": "stderr",
          "text": [
            "INFO:evalml.pipelines.components.component_base.describe:\t * n_estimators : 10\n"
          ]
        },
        {
          "output_type": "stream",
          "name": "stdout",
          "text": [
            "\t * max_depth : None\n"
          ]
        },
        {
          "output_type": "stream",
          "name": "stderr",
          "text": [
            "INFO:evalml.pipelines.components.component_base.describe:\t * max_depth : None\n"
          ]
        },
        {
          "output_type": "stream",
          "name": "stdout",
          "text": [
            "\t * percent_features : 0.5\n"
          ]
        },
        {
          "output_type": "stream",
          "name": "stderr",
          "text": [
            "INFO:evalml.pipelines.components.component_base.describe:\t * percent_features : 0.5\n"
          ]
        },
        {
          "output_type": "stream",
          "name": "stdout",
          "text": [
            "\t * threshold : median\n"
          ]
        },
        {
          "output_type": "stream",
          "name": "stderr",
          "text": [
            "INFO:evalml.pipelines.components.component_base.describe:\t * threshold : median\n"
          ]
        },
        {
          "output_type": "stream",
          "name": "stdout",
          "text": [
            "\t * n_jobs : -1\n"
          ]
        },
        {
          "output_type": "stream",
          "name": "stderr",
          "text": [
            "INFO:evalml.pipelines.components.component_base.describe:\t * n_jobs : -1\n"
          ]
        },
        {
          "output_type": "stream",
          "name": "stdout",
          "text": [
            "4. Random Forest Classifier\n"
          ]
        },
        {
          "output_type": "stream",
          "name": "stderr",
          "text": [
            "INFO:evalml.pipelines.component_graph.describe:4. Random Forest Classifier\n"
          ]
        },
        {
          "output_type": "stream",
          "name": "stdout",
          "text": [
            "\t * n_estimators : 100\n"
          ]
        },
        {
          "output_type": "stream",
          "name": "stderr",
          "text": [
            "INFO:evalml.pipelines.components.component_base.describe:\t * n_estimators : 100\n"
          ]
        },
        {
          "output_type": "stream",
          "name": "stdout",
          "text": [
            "\t * max_depth : 6\n"
          ]
        },
        {
          "output_type": "stream",
          "name": "stderr",
          "text": [
            "INFO:evalml.pipelines.components.component_base.describe:\t * max_depth : 6\n"
          ]
        },
        {
          "output_type": "stream",
          "name": "stdout",
          "text": [
            "\t * n_jobs : -1\n"
          ]
        },
        {
          "output_type": "stream",
          "name": "stderr",
          "text": [
            "INFO:evalml.pipelines.components.component_base.describe:\t * n_jobs : -1\n"
          ]
        },
        {
          "output_type": "stream",
          "name": "stdout",
          "text": [
            "\n"
          ]
        },
        {
          "output_type": "stream",
          "name": "stderr",
          "text": [
            "INFO:evalml.automl.automl_search.describe_pipeline:\n"
          ]
        },
        {
          "output_type": "stream",
          "name": "stdout",
          "text": [
            "Training\n"
          ]
        },
        {
          "output_type": "stream",
          "name": "stderr",
          "text": [
            "INFO:evalml.automl.automl_search.describe_pipeline:Training\n"
          ]
        },
        {
          "output_type": "stream",
          "name": "stdout",
          "text": [
            "========\n"
          ]
        },
        {
          "output_type": "stream",
          "name": "stderr",
          "text": [
            "INFO:evalml.automl.automl_search.describe_pipeline:========\n"
          ]
        },
        {
          "output_type": "stream",
          "name": "stdout",
          "text": [
            "Training for multiclass problems.\n"
          ]
        },
        {
          "output_type": "stream",
          "name": "stderr",
          "text": [
            "INFO:evalml.automl.automl_search.describe_pipeline:Training for multiclass problems.\n"
          ]
        },
        {
          "output_type": "stream",
          "name": "stdout",
          "text": [
            "Total training time (including CV): 6.7 seconds\n"
          ]
        },
        {
          "output_type": "stream",
          "name": "stderr",
          "text": [
            "INFO:evalml.automl.automl_search.describe_pipeline:Total training time (including CV): 6.7 seconds\n"
          ]
        },
        {
          "output_type": "stream",
          "name": "stdout",
          "text": [
            "\n"
          ]
        },
        {
          "output_type": "stream",
          "name": "stderr",
          "text": [
            "INFO:evalml.automl.automl_search.describe_pipeline:\n"
          ]
        },
        {
          "output_type": "stream",
          "name": "stdout",
          "text": [
            "Cross Validation\n"
          ]
        },
        {
          "output_type": "stream",
          "name": "stderr",
          "text": [
            "INFO:evalml.automl.automl_search.describe_pipeline:Cross Validation\n"
          ]
        },
        {
          "output_type": "stream",
          "name": "stdout",
          "text": [
            "----------------\n"
          ]
        },
        {
          "output_type": "stream",
          "name": "stderr",
          "text": [
            "INFO:evalml.automl.automl_search.describe_pipeline:----------------\n"
          ]
        },
        {
          "output_type": "stream",
          "name": "stdout",
          "text": [
            "             F1 Weighted  Balanced Accuracy Multiclass  Accuracy Multiclass # Training # Validation\n",
            "0                  1.000                         1.000                1.000     12,248        6,125\n",
            "1                  1.000                         1.000                1.000     12,249        6,124\n",
            "2                  1.000                         1.000                1.000     12,249        6,124\n",
            "mean               1.000                         1.000                1.000          -            -\n",
            "std                0.000                         0.000                0.000          -            -\n",
            "coef of var        0.000                         0.000                0.000          -            -\n"
          ]
        },
        {
          "output_type": "stream",
          "name": "stderr",
          "text": [
            "INFO:evalml.automl.automl_search.describe_pipeline:             F1 Weighted  Balanced Accuracy Multiclass  Accuracy Multiclass # Training # Validation\n",
            "0                  1.000                         1.000                1.000     12,248        6,125\n",
            "1                  1.000                         1.000                1.000     12,249        6,124\n",
            "2                  1.000                         1.000                1.000     12,249        6,124\n",
            "mean               1.000                         1.000                1.000          -            -\n",
            "std                0.000                         0.000                0.000          -            -\n",
            "coef of var        0.000                         0.000                0.000          -            -\n"
          ]
        }
      ]
    },
    {
      "cell_type": "code",
      "source": [
        "best_pipeline_auc = automl_auc.best_pipeline\n"
      ],
      "metadata": {
        "id": "vNuJvqJumY0H"
      },
      "execution_count": 81,
      "outputs": []
    },
    {
      "cell_type": "code",
      "source": [
        "\n",
        "# get the score on holdout data\n",
        "best_pipeline_auc.score(x_test2, y_test,  objectives=[\"F1 Weighted\"])"
      ],
      "metadata": {
        "colab": {
          "base_uri": "https://localhost:8080/"
        },
        "id": "6mLuWhdHmrNg",
        "outputId": "f49b5a61-1a8b-4500-c5d5-e827f8e0041f"
      },
      "execution_count": 82,
      "outputs": [
        {
          "output_type": "execute_result",
          "data": {
            "text/plain": [
              "OrderedDict([('F1 Weighted', 0.6944444444444444)])"
            ]
          },
          "metadata": {},
          "execution_count": 82
        }
      ]
    },
    {
      "cell_type": "code",
      "source": [
        "best_pipeline.save(\"network_slicing_pipelines.pkl\")"
      ],
      "metadata": {
        "id": "LNZliRYXmyOX"
      },
      "execution_count": 83,
      "outputs": []
    },
    {
      "cell_type": "code",
      "source": [
        "final_model=best_pipeline_auc.load('network_slicing_pipelines.pkl')"
      ],
      "metadata": {
        "id": "W91ZNBXQm18Y"
      },
      "execution_count": 85,
      "outputs": []
    },
    {
      "cell_type": "code",
      "source": [
        "final_model.predict_proba(x_test2)"
      ],
      "metadata": {
        "colab": {
          "base_uri": "https://localhost:8080/",
          "height": 424
        },
        "id": "nUnCpSqem4GP",
        "outputId": "1a449c11-b4cf-44fe-fca6-9231cccc4d94"
      },
      "execution_count": 86,
      "outputs": [
        {
          "output_type": "execute_result",
          "data": {
            "text/plain": [
              "         0    1    2\n",
              "0      1.0  0.0  0.0\n",
              "1      0.0  0.0  1.0\n",
              "2      0.0  1.0  0.0\n",
              "3      0.0  1.0  0.0\n",
              "4      1.0  0.0  0.0\n",
              "...    ...  ...  ...\n",
              "31579  0.0  0.0  1.0\n",
              "31580  0.0  0.0  1.0\n",
              "31581  0.0  0.0  1.0\n",
              "31582  1.0  0.0  0.0\n",
              "31583  0.0  0.0  1.0\n",
              "\n",
              "[31584 rows x 3 columns]"
            ],
            "text/html": [
              "\n",
              "  <div id=\"df-7a9ece60-d311-401b-bd95-5f98a548436a\" class=\"colab-df-container\">\n",
              "    <div>\n",
              "<style scoped>\n",
              "    .dataframe tbody tr th:only-of-type {\n",
              "        vertical-align: middle;\n",
              "    }\n",
              "\n",
              "    .dataframe tbody tr th {\n",
              "        vertical-align: top;\n",
              "    }\n",
              "\n",
              "    .dataframe thead th {\n",
              "        text-align: right;\n",
              "    }\n",
              "</style>\n",
              "<table border=\"1\" class=\"dataframe\">\n",
              "  <thead>\n",
              "    <tr style=\"text-align: right;\">\n",
              "      <th></th>\n",
              "      <th>0</th>\n",
              "      <th>1</th>\n",
              "      <th>2</th>\n",
              "    </tr>\n",
              "  </thead>\n",
              "  <tbody>\n",
              "    <tr>\n",
              "      <th>0</th>\n",
              "      <td>1.0</td>\n",
              "      <td>0.0</td>\n",
              "      <td>0.0</td>\n",
              "    </tr>\n",
              "    <tr>\n",
              "      <th>1</th>\n",
              "      <td>0.0</td>\n",
              "      <td>0.0</td>\n",
              "      <td>1.0</td>\n",
              "    </tr>\n",
              "    <tr>\n",
              "      <th>2</th>\n",
              "      <td>0.0</td>\n",
              "      <td>1.0</td>\n",
              "      <td>0.0</td>\n",
              "    </tr>\n",
              "    <tr>\n",
              "      <th>3</th>\n",
              "      <td>0.0</td>\n",
              "      <td>1.0</td>\n",
              "      <td>0.0</td>\n",
              "    </tr>\n",
              "    <tr>\n",
              "      <th>4</th>\n",
              "      <td>1.0</td>\n",
              "      <td>0.0</td>\n",
              "      <td>0.0</td>\n",
              "    </tr>\n",
              "    <tr>\n",
              "      <th>...</th>\n",
              "      <td>...</td>\n",
              "      <td>...</td>\n",
              "      <td>...</td>\n",
              "    </tr>\n",
              "    <tr>\n",
              "      <th>31579</th>\n",
              "      <td>0.0</td>\n",
              "      <td>0.0</td>\n",
              "      <td>1.0</td>\n",
              "    </tr>\n",
              "    <tr>\n",
              "      <th>31580</th>\n",
              "      <td>0.0</td>\n",
              "      <td>0.0</td>\n",
              "      <td>1.0</td>\n",
              "    </tr>\n",
              "    <tr>\n",
              "      <th>31581</th>\n",
              "      <td>0.0</td>\n",
              "      <td>0.0</td>\n",
              "      <td>1.0</td>\n",
              "    </tr>\n",
              "    <tr>\n",
              "      <th>31582</th>\n",
              "      <td>1.0</td>\n",
              "      <td>0.0</td>\n",
              "      <td>0.0</td>\n",
              "    </tr>\n",
              "    <tr>\n",
              "      <th>31583</th>\n",
              "      <td>0.0</td>\n",
              "      <td>0.0</td>\n",
              "      <td>1.0</td>\n",
              "    </tr>\n",
              "  </tbody>\n",
              "</table>\n",
              "<p>31584 rows × 3 columns</p>\n",
              "</div>\n",
              "    <div class=\"colab-df-buttons\">\n",
              "\n",
              "  <div class=\"colab-df-container\">\n",
              "    <button class=\"colab-df-convert\" onclick=\"convertToInteractive('df-7a9ece60-d311-401b-bd95-5f98a548436a')\"\n",
              "            title=\"Convert this dataframe to an interactive table.\"\n",
              "            style=\"display:none;\">\n",
              "\n",
              "  <svg xmlns=\"http://www.w3.org/2000/svg\" height=\"24px\" viewBox=\"0 -960 960 960\">\n",
              "    <path d=\"M120-120v-720h720v720H120Zm60-500h600v-160H180v160Zm220 220h160v-160H400v160Zm0 220h160v-160H400v160ZM180-400h160v-160H180v160Zm440 0h160v-160H620v160ZM180-180h160v-160H180v160Zm440 0h160v-160H620v160Z\"/>\n",
              "  </svg>\n",
              "    </button>\n",
              "\n",
              "  <style>\n",
              "    .colab-df-container {\n",
              "      display:flex;\n",
              "      gap: 12px;\n",
              "    }\n",
              "\n",
              "    .colab-df-convert {\n",
              "      background-color: #E8F0FE;\n",
              "      border: none;\n",
              "      border-radius: 50%;\n",
              "      cursor: pointer;\n",
              "      display: none;\n",
              "      fill: #1967D2;\n",
              "      height: 32px;\n",
              "      padding: 0 0 0 0;\n",
              "      width: 32px;\n",
              "    }\n",
              "\n",
              "    .colab-df-convert:hover {\n",
              "      background-color: #E2EBFA;\n",
              "      box-shadow: 0px 1px 2px rgba(60, 64, 67, 0.3), 0px 1px 3px 1px rgba(60, 64, 67, 0.15);\n",
              "      fill: #174EA6;\n",
              "    }\n",
              "\n",
              "    .colab-df-buttons div {\n",
              "      margin-bottom: 4px;\n",
              "    }\n",
              "\n",
              "    [theme=dark] .colab-df-convert {\n",
              "      background-color: #3B4455;\n",
              "      fill: #D2E3FC;\n",
              "    }\n",
              "\n",
              "    [theme=dark] .colab-df-convert:hover {\n",
              "      background-color: #434B5C;\n",
              "      box-shadow: 0px 1px 3px 1px rgba(0, 0, 0, 0.15);\n",
              "      filter: drop-shadow(0px 1px 2px rgba(0, 0, 0, 0.3));\n",
              "      fill: #FFFFFF;\n",
              "    }\n",
              "  </style>\n",
              "\n",
              "    <script>\n",
              "      const buttonEl =\n",
              "        document.querySelector('#df-7a9ece60-d311-401b-bd95-5f98a548436a button.colab-df-convert');\n",
              "      buttonEl.style.display =\n",
              "        google.colab.kernel.accessAllowed ? 'block' : 'none';\n",
              "\n",
              "      async function convertToInteractive(key) {\n",
              "        const element = document.querySelector('#df-7a9ece60-d311-401b-bd95-5f98a548436a');\n",
              "        const dataTable =\n",
              "          await google.colab.kernel.invokeFunction('convertToInteractive',\n",
              "                                                    [key], {});\n",
              "        if (!dataTable) return;\n",
              "\n",
              "        const docLinkHtml = 'Like what you see? Visit the ' +\n",
              "          '<a target=\"_blank\" href=https://colab.research.google.com/notebooks/data_table.ipynb>data table notebook</a>'\n",
              "          + ' to learn more about interactive tables.';\n",
              "        element.innerHTML = '';\n",
              "        dataTable['output_type'] = 'display_data';\n",
              "        await google.colab.output.renderOutput(dataTable, element);\n",
              "        const docLink = document.createElement('div');\n",
              "        docLink.innerHTML = docLinkHtml;\n",
              "        element.appendChild(docLink);\n",
              "      }\n",
              "    </script>\n",
              "  </div>\n",
              "\n",
              "\n",
              "<div id=\"df-765a5016-6d0b-4881-b69f-267adbcbc7df\">\n",
              "  <button class=\"colab-df-quickchart\" onclick=\"quickchart('df-765a5016-6d0b-4881-b69f-267adbcbc7df')\"\n",
              "            title=\"Suggest charts\"\n",
              "            style=\"display:none;\">\n",
              "\n",
              "<svg xmlns=\"http://www.w3.org/2000/svg\" height=\"24px\"viewBox=\"0 0 24 24\"\n",
              "     width=\"24px\">\n",
              "    <g>\n",
              "        <path d=\"M19 3H5c-1.1 0-2 .9-2 2v14c0 1.1.9 2 2 2h14c1.1 0 2-.9 2-2V5c0-1.1-.9-2-2-2zM9 17H7v-7h2v7zm4 0h-2V7h2v10zm4 0h-2v-4h2v4z\"/>\n",
              "    </g>\n",
              "</svg>\n",
              "  </button>\n",
              "\n",
              "<style>\n",
              "  .colab-df-quickchart {\n",
              "      --bg-color: #E8F0FE;\n",
              "      --fill-color: #1967D2;\n",
              "      --hover-bg-color: #E2EBFA;\n",
              "      --hover-fill-color: #174EA6;\n",
              "      --disabled-fill-color: #AAA;\n",
              "      --disabled-bg-color: #DDD;\n",
              "  }\n",
              "\n",
              "  [theme=dark] .colab-df-quickchart {\n",
              "      --bg-color: #3B4455;\n",
              "      --fill-color: #D2E3FC;\n",
              "      --hover-bg-color: #434B5C;\n",
              "      --hover-fill-color: #FFFFFF;\n",
              "      --disabled-bg-color: #3B4455;\n",
              "      --disabled-fill-color: #666;\n",
              "  }\n",
              "\n",
              "  .colab-df-quickchart {\n",
              "    background-color: var(--bg-color);\n",
              "    border: none;\n",
              "    border-radius: 50%;\n",
              "    cursor: pointer;\n",
              "    display: none;\n",
              "    fill: var(--fill-color);\n",
              "    height: 32px;\n",
              "    padding: 0;\n",
              "    width: 32px;\n",
              "  }\n",
              "\n",
              "  .colab-df-quickchart:hover {\n",
              "    background-color: var(--hover-bg-color);\n",
              "    box-shadow: 0 1px 2px rgba(60, 64, 67, 0.3), 0 1px 3px 1px rgba(60, 64, 67, 0.15);\n",
              "    fill: var(--button-hover-fill-color);\n",
              "  }\n",
              "\n",
              "  .colab-df-quickchart-complete:disabled,\n",
              "  .colab-df-quickchart-complete:disabled:hover {\n",
              "    background-color: var(--disabled-bg-color);\n",
              "    fill: var(--disabled-fill-color);\n",
              "    box-shadow: none;\n",
              "  }\n",
              "\n",
              "  .colab-df-spinner {\n",
              "    border: 2px solid var(--fill-color);\n",
              "    border-color: transparent;\n",
              "    border-bottom-color: var(--fill-color);\n",
              "    animation:\n",
              "      spin 1s steps(1) infinite;\n",
              "  }\n",
              "\n",
              "  @keyframes spin {\n",
              "    0% {\n",
              "      border-color: transparent;\n",
              "      border-bottom-color: var(--fill-color);\n",
              "      border-left-color: var(--fill-color);\n",
              "    }\n",
              "    20% {\n",
              "      border-color: transparent;\n",
              "      border-left-color: var(--fill-color);\n",
              "      border-top-color: var(--fill-color);\n",
              "    }\n",
              "    30% {\n",
              "      border-color: transparent;\n",
              "      border-left-color: var(--fill-color);\n",
              "      border-top-color: var(--fill-color);\n",
              "      border-right-color: var(--fill-color);\n",
              "    }\n",
              "    40% {\n",
              "      border-color: transparent;\n",
              "      border-right-color: var(--fill-color);\n",
              "      border-top-color: var(--fill-color);\n",
              "    }\n",
              "    60% {\n",
              "      border-color: transparent;\n",
              "      border-right-color: var(--fill-color);\n",
              "    }\n",
              "    80% {\n",
              "      border-color: transparent;\n",
              "      border-right-color: var(--fill-color);\n",
              "      border-bottom-color: var(--fill-color);\n",
              "    }\n",
              "    90% {\n",
              "      border-color: transparent;\n",
              "      border-bottom-color: var(--fill-color);\n",
              "    }\n",
              "  }\n",
              "</style>\n",
              "\n",
              "  <script>\n",
              "    async function quickchart(key) {\n",
              "      const quickchartButtonEl =\n",
              "        document.querySelector('#' + key + ' button');\n",
              "      quickchartButtonEl.disabled = true;  // To prevent multiple clicks.\n",
              "      quickchartButtonEl.classList.add('colab-df-spinner');\n",
              "      try {\n",
              "        const charts = await google.colab.kernel.invokeFunction(\n",
              "            'suggestCharts', [key], {});\n",
              "      } catch (error) {\n",
              "        console.error('Error during call to suggestCharts:', error);\n",
              "      }\n",
              "      quickchartButtonEl.classList.remove('colab-df-spinner');\n",
              "      quickchartButtonEl.classList.add('colab-df-quickchart-complete');\n",
              "    }\n",
              "    (() => {\n",
              "      let quickchartButtonEl =\n",
              "        document.querySelector('#df-765a5016-6d0b-4881-b69f-267adbcbc7df button');\n",
              "      quickchartButtonEl.style.display =\n",
              "        google.colab.kernel.accessAllowed ? 'block' : 'none';\n",
              "    })();\n",
              "  </script>\n",
              "</div>\n",
              "\n",
              "    </div>\n",
              "  </div>\n"
            ],
            "application/vnd.google.colaboratory.intrinsic+json": {
              "type": "dataframe",
              "summary": "{\n  \"name\": \"final_model\",\n  \"rows\": 31584,\n  \"fields\": [\n    {\n      \"column\": 0,\n      \"properties\": {\n        \"dtype\": \"number\",\n        \"std\": 0.4989882994279164,\n        \"min\": 0.0,\n        \"max\": 1.0,\n        \"num_unique_values\": 2,\n        \"samples\": [\n          0.0,\n          1.0\n        ],\n        \"semantic_type\": \"\",\n        \"description\": \"\"\n      }\n    },\n    {\n      \"column\": 1,\n      \"properties\": {\n        \"dtype\": \"number\",\n        \"std\": 0.42340561230986784,\n        \"min\": 0.0,\n        \"max\": 1.0,\n        \"num_unique_values\": 2,\n        \"samples\": [\n          1.0,\n          0.0\n        ],\n        \"semantic_type\": \"\",\n        \"description\": \"\"\n      }\n    },\n    {\n      \"column\": 2,\n      \"properties\": {\n        \"dtype\": \"number\",\n        \"std\": 0.4234056123098679,\n        \"min\": 0.0,\n        \"max\": 1.0,\n        \"num_unique_values\": 2,\n        \"samples\": [\n          1.0,\n          0.0\n        ],\n        \"semantic_type\": \"\",\n        \"description\": \"\"\n      }\n    }\n  ]\n}"
            }
          },
          "metadata": {},
          "execution_count": 86
        }
      ]
    },
    {
      "cell_type": "code",
      "source": [
        "y_pred = final_model.predict(x_test2)"
      ],
      "metadata": {
        "id": "46HK4kmKm-dP"
      },
      "execution_count": 87,
      "outputs": []
    },
    {
      "cell_type": "code",
      "source": [
        "y_pred = pd.DataFrame(y_pred)"
      ],
      "metadata": {
        "id": "ibSpJE-XnEk9"
      },
      "execution_count": 88,
      "outputs": []
    },
    {
      "cell_type": "code",
      "source": [
        "y_pred.value_counts()"
      ],
      "metadata": {
        "colab": {
          "base_uri": "https://localhost:8080/"
        },
        "id": "rOMr-ujhnHC2",
        "outputId": "d8bb0877-5e60-4923-c8b7-fd80be6ee280"
      },
      "execution_count": 89,
      "outputs": [
        {
          "output_type": "execute_result",
          "data": {
            "text/plain": [
              "0    16800\n",
              "1     7392\n",
              "2     7392\n",
              "dtype: int64"
            ]
          },
          "metadata": {},
          "execution_count": 89
        }
      ]
    },
    {
      "cell_type": "code",
      "source": [
        "y_train = pd.DataFrame(y_train)"
      ],
      "metadata": {
        "id": "vJZqCOZInIpW"
      },
      "execution_count": 91,
      "outputs": []
    },
    {
      "cell_type": "code",
      "source": [
        "from sklearn.metrics import classification_report"
      ],
      "metadata": {
        "id": "-jKY8RN2namg"
      },
      "execution_count": 93,
      "outputs": []
    },
    {
      "cell_type": "code",
      "source": [
        "print(classification_report(y_test, y_pred, labels=[0, 1, 2]))"
      ],
      "metadata": {
        "colab": {
          "base_uri": "https://localhost:8080/"
        },
        "id": "oWZIEzAcnemv",
        "outputId": "a28dbb87-533f-462a-fab0-1f750cdcbc50"
      },
      "execution_count": 94,
      "outputs": [
        {
          "output_type": "stream",
          "name": "stdout",
          "text": [
            "              precision    recall  f1-score   support\n",
            "\n",
            "           0       1.00      0.53      0.69     31584\n",
            "           1       0.00      0.00      0.00         0\n",
            "           2       0.00      0.00      0.00         0\n",
            "\n",
            "    accuracy                           0.53     31584\n",
            "   macro avg       0.33      0.18      0.23     31584\n",
            "weighted avg       1.00      0.53      0.69     31584\n",
            "\n"
          ]
        },
        {
          "output_type": "stream",
          "name": "stderr",
          "text": [
            "Recall is ill-defined and being set to 0.0 in labels with no true samples. Use `zero_division` parameter to control this behavior.\n",
            "Recall is ill-defined and being set to 0.0 in labels with no true samples. Use `zero_division` parameter to control this behavior.\n",
            "Recall is ill-defined and being set to 0.0 in labels with no true samples. Use `zero_division` parameter to control this behavior.\n"
          ]
        }
      ]
    },
    {
      "cell_type": "code",
      "source": [],
      "metadata": {
        "id": "cGZK0H8TniQF"
      },
      "execution_count": null,
      "outputs": []
    }
  ]
}