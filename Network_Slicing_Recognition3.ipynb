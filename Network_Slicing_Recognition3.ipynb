{
  "nbformat": 4,
  "nbformat_minor": 0,
  "metadata": {
    "colab": {
      "provenance": [],
      "gpuType": "T4"
    },
    "kernelspec": {
      "name": "python3",
      "display_name": "Python 3"
    },
    "language_info": {
      "name": "python"
    },
    "accelerator": "GPU"
  },
  "cells": [
    {
      "cell_type": "code",
      "execution_count": 1,
      "metadata": {
        "id": "LKgS2YBW2BDM"
      },
      "outputs": [],
      "source": [
        "### Network Slicing Recognition"
      ]
    },
    {
      "cell_type": "markdown",
      "source": [
        "The telecom industry is going through a massive digital transformation with the adoption of ML, AI, feedback-based automation and advanced analytics to handle the next generation applications and services. AI concepts are not new; the algorithms used by Machine Learning and Deep Learning are being currently implemented in various industries and technology verticals. With growing data and immense volume <br>\n",
        "\n",
        "of information over 5G, the ability to predict data proactively, swiftly and with accuracy, is critically important. Data-driven decision making will be vital in future communication networks due to the traffic explosion and Artificial Intelligence (AI) will accelerate the 5G network performance. <br>\n",
        "\n",
        "Mobile operators are looking for a programmable solution that will allow them to accommodate multiple independent tenants on the same physical infrastructure and 5G networks allow for end-to-end network resource allocation using the concept of Network Slicing (NS). <br>\n",
        "\n",
        "Network Slicing will play a vital role in enabling a multitude of 5G applications, use cases, and services. Network slicing functions will provide an end-to-end isolation between slices with an ability to customize each slice based on the service demands (bandwidth, coverage, security, latency, reliability, etc). <br>\n",
        "\n",
        "Your Task is to build a Machine Learning model that will be able to to proactively detect and eliminate threats based on incoming connections thereby selecting the most appropriate network slice, even in case of a network failure. <br>"
      ],
      "metadata": {
        "id": "7uc6SVHN2PbE"
      }
    },
    {
      "cell_type": "markdown",
      "source": [
        "**LTE/5g** - User Equipment categories or classes to define the performance specifications <br>\n",
        "**Packet Loss Rate** - number of packets not received divided by the total number of packets sent. <br>\n",
        "**Packet Delay** - The time for a packet to be received. <br>\n",
        "**Slice type** - network configuration that allows multiple networks (virtualized and independent) <br>\n",
        "**GBR** - Guaranteed Bit Rate <br>\n",
        "**Healthcare** - Usage in Healthcare (1 or 0) <br>\n",
        "**Industry 4.0** - Usage in Digital Enterprises(1 or 0) <br>\n",
        "**IoT Devices** - Usage <br>\n",
        "**Public Safety** - Usage for public welfare and safety purposes (1 or 0) <br>\n",
        "**Smart City & Home** - usage in daily household chores <br>\n",
        "**Smart Transportation** - usage in public transportation <br>\n",
        "**Smartphone** - whether used for smartphone cellular data <br>"
      ],
      "metadata": {
        "id": "fFtEgoH82RPq"
      }
    },
    {
      "cell_type": "code",
      "source": [
        "###! pip install neattext"
      ],
      "metadata": {
        "id": "Nf1N8jTZ2Igg"
      },
      "execution_count": 2,
      "outputs": []
    },
    {
      "cell_type": "code",
      "source": [
        "import pandas as pd\n",
        "import numpy as np\n",
        "import neattext.functions as nfx\n",
        "import seaborn as sn\n",
        "\n",
        "from sklearn.feature_extraction.text import TfidfVectorizer,CountVectorizer\n",
        "from sklearn.metrics.pairwise import cosine_similarity,linear_kernel"
      ],
      "metadata": {
        "id": "7mMoWpDi2Ikf"
      },
      "execution_count": 3,
      "outputs": []
    },
    {
      "cell_type": "code",
      "source": [
        "##! pip uninstall numpy\n",
        "###!pip install numpy==1.20"
      ],
      "metadata": {
        "id": "FBYd8J7a2InQ"
      },
      "execution_count": 4,
      "outputs": []
    },
    {
      "cell_type": "code",
      "source": [
        "###!mkdir ~/.kaggle"
      ],
      "metadata": {
        "id": "HSvGnMtX2IqO"
      },
      "execution_count": 5,
      "outputs": []
    },
    {
      "cell_type": "code",
      "source": [
        "###!cp /kaggle.json ~/.kaggle/"
      ],
      "metadata": {
        "id": "85yhuIoA2ItM"
      },
      "execution_count": 6,
      "outputs": []
    },
    {
      "cell_type": "code",
      "source": [
        "###! pip install kaggle\n",
        "###!pip install keras-tuner"
      ],
      "metadata": {
        "id": "nPdK4qiw2Iv4"
      },
      "execution_count": 7,
      "outputs": []
    },
    {
      "cell_type": "code",
      "source": [
        "###!kaggle datasets download -d gauravduttakiit/network-slicing-recognition"
      ],
      "metadata": {
        "id": "XHmcZhBq2Iya"
      },
      "execution_count": 8,
      "outputs": []
    },
    {
      "cell_type": "code",
      "source": [
        "###!unzip /content/network-slicing-recognition.zip"
      ],
      "metadata": {
        "id": "0DypLQ6X2I1Q"
      },
      "execution_count": 9,
      "outputs": []
    },
    {
      "cell_type": "code",
      "source": [
        "train_dataset = pd.read_csv(\"/content/train_dataset.csv\")\n",
        "test_dataset = pd.read_csv(\"/content/test_dataset.csv\")"
      ],
      "metadata": {
        "id": "Cefc7lIS2I4P"
      },
      "execution_count": 10,
      "outputs": []
    },
    {
      "cell_type": "code",
      "source": [
        "print(train_dataset.shape, test_dataset.shape)"
      ],
      "metadata": {
        "colab": {
          "base_uri": "https://localhost:8080/"
        },
        "id": "7k6XQXRs6aiV",
        "outputId": "28029ec4-fa83-4b01-ec73-a841141de211"
      },
      "execution_count": 11,
      "outputs": [
        {
          "output_type": "stream",
          "name": "stdout",
          "text": [
            "(31583, 17) (31584, 16)\n"
          ]
        }
      ]
    },
    {
      "cell_type": "code",
      "source": [
        "test_dataset['slice Type'] = 0"
      ],
      "metadata": {
        "id": "pF-QY_P-6d0g"
      },
      "execution_count": 12,
      "outputs": []
    },
    {
      "cell_type": "code",
      "source": [
        "train_dataset = train_dataset.reset_index()\n",
        "test_dataset = test_dataset.reset_index()\n",
        "train_dataset.rename(columns = { \"index\" : \"ID\"}, inplace = True)\n",
        "test_dataset.rename(columns = { \"index\" : \"ID\"}, inplace = True)"
      ],
      "metadata": {
        "id": "UkI3SJFF7Hoh"
      },
      "execution_count": 13,
      "outputs": []
    },
    {
      "cell_type": "code",
      "source": [
        "train_dataset.columns"
      ],
      "metadata": {
        "colab": {
          "base_uri": "https://localhost:8080/"
        },
        "id": "FHDvgXKUCtNA",
        "outputId": "6c38bbd5-a71f-4662-86e2-845d59c18896"
      },
      "execution_count": 14,
      "outputs": [
        {
          "output_type": "execute_result",
          "data": {
            "text/plain": [
              "Index(['ID', 'LTE/5g Category', 'Time', 'Packet Loss Rate', 'Packet delay',\n",
              "       'IoT', 'LTE/5G', 'GBR', 'Non-GBR', 'AR/VR/Gaming', 'Healthcare',\n",
              "       'Industry 4.0', 'IoT Devices', 'Public Safety', 'Smart City & Home',\n",
              "       'Smart Transportation', 'Smartphone', 'slice Type'],\n",
              "      dtype='object')"
            ]
          },
          "metadata": {},
          "execution_count": 14
        }
      ]
    },
    {
      "cell_type": "code",
      "source": [
        "train_dataset.shape"
      ],
      "metadata": {
        "colab": {
          "base_uri": "https://localhost:8080/"
        },
        "id": "fV88KUtVEduV",
        "outputId": "cebba4f1-9a7f-4d05-c505-dcbdf29f3072"
      },
      "execution_count": 15,
      "outputs": [
        {
          "output_type": "execute_result",
          "data": {
            "text/plain": [
              "(31583, 18)"
            ]
          },
          "metadata": {},
          "execution_count": 15
        }
      ]
    },
    {
      "cell_type": "code",
      "source": [
        "train_dataset['slice Type'].value_counts()"
      ],
      "metadata": {
        "colab": {
          "base_uri": "https://localhost:8080/"
        },
        "id": "8Cn-43yhEpAR",
        "outputId": "be435f82-6206-402d-c52f-d698fad21cd9"
      },
      "execution_count": 16,
      "outputs": [
        {
          "output_type": "execute_result",
          "data": {
            "text/plain": [
              "1    16799\n",
              "3     7392\n",
              "2     7392\n",
              "Name: slice Type, dtype: int64"
            ]
          },
          "metadata": {},
          "execution_count": 16
        }
      ]
    },
    {
      "cell_type": "code",
      "source": [
        "from matplotlib_venn import venn2, venn2_circles, venn2_unweighted\n",
        "from matplotlib_venn import venn3, venn3_circles"
      ],
      "metadata": {
        "id": "b9oAHTac7MBz"
      },
      "execution_count": 17,
      "outputs": []
    },
    {
      "cell_type": "code",
      "source": [
        "set_numbers_train = set(train_dataset[['ID']].drop_duplicates().sort_values(by = 'ID')['ID'].tolist())\n",
        "set_numbers_test = set(test_dataset[['ID']].drop_duplicates().sort_values(by = 'ID')['ID'].tolist())\n",
        "venn2((set_numbers_train, set_numbers_test), set_labels = ('Train numbers', 'Test numbers'))"
      ],
      "metadata": {
        "colab": {
          "base_uri": "https://localhost:8080/",
          "height": 429
        },
        "id": "_McrdYZ67N7L",
        "outputId": "2509e270-68bd-42ab-c718-a2171871c0eb"
      },
      "execution_count": 18,
      "outputs": [
        {
          "output_type": "execute_result",
          "data": {
            "text/plain": [
              "<matplotlib_venn._common.VennDiagram at 0x7a6abca9dab0>"
            ]
          },
          "metadata": {},
          "execution_count": 18
        },
        {
          "output_type": "display_data",
          "data": {
            "text/plain": [
              "<Figure size 640x480 with 1 Axes>"
            ],
            "image/png": "[encoded data removed]"
          },
          "metadata": {}
        }
      ]
    },
    {
      "cell_type": "code",
      "source": [
        "train_dataset.columns"
      ],
      "metadata": {
        "colab": {
          "base_uri": "https://localhost:8080/"
        },
        "id": "0iplIFk67PEr",
        "outputId": "c4779195-bee6-43ec-ef51-b39ea297101b"
      },
      "execution_count": 19,
      "outputs": [
        {
          "output_type": "execute_result",
          "data": {
            "text/plain": [
              "Index(['ID', 'LTE/5g Category', 'Time', 'Packet Loss Rate', 'Packet delay',\n",
              "       'IoT', 'LTE/5G', 'GBR', 'Non-GBR', 'AR/VR/Gaming', 'Healthcare',\n",
              "       'Industry 4.0', 'IoT Devices', 'Public Safety', 'Smart City & Home',\n",
              "       'Smart Transportation', 'Smartphone', 'slice Type'],\n",
              "      dtype='object')"
            ]
          },
          "metadata": {},
          "execution_count": 19
        }
      ]
    },
    {
      "cell_type": "code",
      "source": [
        "####! pip install klib"
      ],
      "metadata": {
        "id": "UmTUv45P7UBo"
      },
      "execution_count": 20,
      "outputs": []
    },
    {
      "cell_type": "code",
      "source": [
        "import klib"
      ],
      "metadata": {
        "id": "pDhqSz5G7Xof"
      },
      "execution_count": 21,
      "outputs": []
    },
    {
      "cell_type": "code",
      "source": [
        "train_dataset = klib.clean_column_names(train_dataset)\n",
        "test_dataset = klib.clean_column_names(test_dataset)"
      ],
      "metadata": {
        "id": "liPVQw2l7ZxE"
      },
      "execution_count": 22,
      "outputs": []
    },
    {
      "cell_type": "code",
      "source": [
        "train_dataset = klib.convert_datatypes(train_dataset)\n",
        "test_dataset = klib.convert_datatypes(test_dataset)"
      ],
      "metadata": {
        "id": "Wpd9z3Je7g5o"
      },
      "execution_count": 23,
      "outputs": []
    },
    {
      "cell_type": "code",
      "source": [
        "train_dataset.columns"
      ],
      "metadata": {
        "colab": {
          "base_uri": "https://localhost:8080/"
        },
        "id": "www6NOdU7sWQ",
        "outputId": "e4aebd32-cf1b-49c5-9a2d-39c59a74bdd8"
      },
      "execution_count": 24,
      "outputs": [
        {
          "output_type": "execute_result",
          "data": {
            "text/plain": [
              "Index(['id', 'lte_5g_category', 'time', 'packet_loss_rate', 'packet_delay',\n",
              "       'io_t', 'lte_5g', 'gbr', 'non_gbr', 'ar_vr_gaming', 'healthcare',\n",
              "       'industry_4_0', 'io_t_devices', 'public_safety', 'smart_city_and_home',\n",
              "       'smart_transportation', 'smartphone', 'slice_type'],\n",
              "      dtype='object')"
            ]
          },
          "metadata": {},
          "execution_count": 24
        }
      ]
    },
    {
      "cell_type": "markdown",
      "source": [
        "## Anomaly Detection Using One-Class SVM\n"
      ],
      "metadata": {
        "id": "Vdvou4w3I4QM"
      }
    },
    {
      "cell_type": "code",
      "source": [
        "from sklearn import svm"
      ],
      "metadata": {
        "id": "_Buff83YIrE4"
      },
      "execution_count": 25,
      "outputs": []
    },
    {
      "cell_type": "code",
      "source": [
        "clf = svm.OneClassSVM(nu=0.05, kernel=\"rbf\", gamma=0.1)\n",
        "clf.fit(train_dataset)"
      ],
      "metadata": {
        "colab": {
          "base_uri": "https://localhost:8080/",
          "height": 75
        },
        "id": "swyoWlelIwKR",
        "outputId": "93e7f57f-8f7a-46bd-da0a-08c67397d96b"
      },
      "execution_count": 26,
      "outputs": [
        {
          "output_type": "execute_result",
          "data": {
            "text/plain": [
              "OneClassSVM(gamma=0.1, nu=0.05)"
            ],
            "text/html": [
              "<style>#sk-container-id-1 {color: black;background-color: white;}#sk-container-id-1 pre{padding: 0;}#sk-container-id-1 div.sk-toggleable {background-color: white;}#sk-container-id-1 label.sk-toggleable__label {cursor: pointer;display: block;width: 100%;margin-bottom: 0;padding: 0.3em;box-sizing: border-box;text-align: center;}#sk-container-id-1 label.sk-toggleable__label-arrow:before {content: \"▸\";float: left;margin-right: 0.25em;color: #696969;}#sk-container-id-1 label.sk-toggleable__label-arrow:hover:before {color: black;}#sk-container-id-1 div.sk-estimator:hover label.sk-toggleable__label-arrow:before {color: black;}#sk-container-id-1 div.sk-toggleable__content {max-height: 0;max-width: 0;overflow: hidden;text-align: left;background-color: #f0f8ff;}#sk-container-id-1 div.sk-toggleable__content pre {margin: 0.2em;color: black;border-radius: 0.25em;background-color: #f0f8ff;}#sk-container-id-1 input.sk-toggleable__control:checked~div.sk-toggleable__content {max-height: 200px;max-width: 100%;overflow: auto;}#sk-container-id-1 input.sk-toggleable__control:checked~label.sk-toggleable__label-arrow:before {content: \"▾\";}#sk-container-id-1 div.sk-estimator input.sk-toggleable__control:checked~label.sk-toggleable__label {background-color: #d4ebff;}#sk-container-id-1 div.sk-label input.sk-toggleable__control:checked~label.sk-toggleable__label {background-color: #d4ebff;}#sk-container-id-1 input.sk-hidden--visually {border: 0;clip: rect(1px 1px 1px 1px);clip: rect(1px, 1px, 1px, 1px);height: 1px;margin: -1px;overflow: hidden;padding: 0;position: absolute;width: 1px;}#sk-container-id-1 div.sk-estimator {font-family: monospace;background-color: #f0f8ff;border: 1px dotted black;border-radius: 0.25em;box-sizing: border-box;margin-bottom: 0.5em;}#sk-container-id-1 div.sk-estimator:hover {background-color: #d4ebff;}#sk-container-id-1 div.sk-parallel-item::after {content: \"\";width: 100%;border-bottom: 1px solid gray;flex-grow: 1;}#sk-container-id-1 div.sk-label:hover label.sk-toggleable__label {background-color: #d4ebff;}#sk-container-id-1 div.sk-serial::before {content: \"\";position: absolute;border-left: 1px solid gray;box-sizing: border-box;top: 0;bottom: 0;left: 50%;z-index: 0;}#sk-container-id-1 div.sk-serial {display: flex;flex-direction: column;align-items: center;background-color: white;padding-right: 0.2em;padding-left: 0.2em;position: relative;}#sk-container-id-1 div.sk-item {position: relative;z-index: 1;}#sk-container-id-1 div.sk-parallel {display: flex;align-items: stretch;justify-content: center;background-color: white;position: relative;}#sk-container-id-1 div.sk-item::before, #sk-container-id-1 div.sk-parallel-item::before {content: \"\";position: absolute;border-left: 1px solid gray;box-sizing: border-box;top: 0;bottom: 0;left: 50%;z-index: -1;}#sk-container-id-1 div.sk-parallel-item {display: flex;flex-direction: column;z-index: 1;position: relative;background-color: white;}#sk-container-id-1 div.sk-parallel-item:first-child::after {align-self: flex-end;width: 50%;}#sk-container-id-1 div.sk-parallel-item:last-child::after {align-self: flex-start;width: 50%;}#sk-container-id-1 div.sk-parallel-item:only-child::after {width: 0;}#sk-container-id-1 div.sk-dashed-wrapped {border: 1px dashed gray;margin: 0 0.4em 0.5em 0.4em;box-sizing: border-box;padding-bottom: 0.4em;background-color: white;}#sk-container-id-1 div.sk-label label {font-family: monospace;font-weight: bold;display: inline-block;line-height: 1.2em;}#sk-container-id-1 div.sk-label-container {text-align: center;}#sk-container-id-1 div.sk-container {/* jupyter's `normalize.less` sets `[hidden] { display: none; }` but bootstrap.min.css set `[hidden] { display: none !important; }` so we also need the `!important` here to be able to override the default hidden behavior on the sphinx rendered scikit-learn.org. See: https://github.com/scikit-learn/scikit-learn/issues/21755 */display: inline-block !important;position: relative;}#sk-container-id-1 div.sk-text-repr-fallback {display: none;}</style><div id=\"sk-container-id-1\" class=\"sk-top-container\"><div class=\"sk-text-repr-fallback\"><pre>OneClassSVM(gamma=0.1, nu=0.05)</pre><b>In a Jupyter environment, please rerun this cell to show the HTML representation or trust the notebook. <br />On GitHub, the HTML representation is unable to render, please try loading this page with nbviewer.org.</b></div><div class=\"sk-container\" hidden><div class=\"sk-item\"><div class=\"sk-estimator sk-toggleable\"><input class=\"sk-toggleable__control sk-hidden--visually\" id=\"sk-estimator-id-1\" type=\"checkbox\" checked><label for=\"sk-estimator-id-1\" class=\"sk-toggleable__label sk-toggleable__label-arrow\">OneClassSVM</label><div class=\"sk-toggleable__content\"><pre>OneClassSVM(gamma=0.1, nu=0.05)</pre></div></div></div></div></div>"
            ]
          },
          "metadata": {},
          "execution_count": 26
        }
      ]
    },
    {
      "cell_type": "code",
      "source": [
        "pred = clf.predict(train_dataset)\n",
        "\n",
        "# inliers are labeled 1, outliers are labeled -1\n",
        "normal = train_dataset[pred == 1]\n",
        "abnormal = train_dataset[pred == -1]"
      ],
      "metadata": {
        "id": "zBFdG3KVI81d"
      },
      "execution_count": 27,
      "outputs": []
    },
    {
      "cell_type": "code",
      "source": [
        "print(normal.shape, abnormal.shape)"
      ],
      "metadata": {
        "colab": {
          "base_uri": "https://localhost:8080/"
        },
        "id": "4iELQShsKT5A",
        "outputId": "8a514b4c-83b5-4a0e-cb18-d48569dde8f9"
      },
      "execution_count": 28,
      "outputs": [
        {
          "output_type": "stream",
          "name": "stdout",
          "text": [
            "(18373, 18) (13210, 18)\n"
          ]
        }
      ]
    },
    {
      "cell_type": "code",
      "source": [
        "normal.columns"
      ],
      "metadata": {
        "colab": {
          "base_uri": "https://localhost:8080/"
        },
        "id": "DAsSbfZWKmM0",
        "outputId": "2b5dc26d-c8ad-49e6-fdb6-d624f928d47c"
      },
      "execution_count": 29,
      "outputs": [
        {
          "output_type": "execute_result",
          "data": {
            "text/plain": [
              "Index(['id', 'lte_5g_category', 'time', 'packet_loss_rate', 'packet_delay',\n",
              "       'io_t', 'lte_5g', 'gbr', 'non_gbr', 'ar_vr_gaming', 'healthcare',\n",
              "       'industry_4_0', 'io_t_devices', 'public_safety', 'smart_city_and_home',\n",
              "       'smart_transportation', 'smartphone', 'slice_type'],\n",
              "      dtype='object')"
            ]
          },
          "metadata": {},
          "execution_count": 29
        }
      ]
    },
    {
      "cell_type": "code",
      "source": [
        "normal['slice_type'].value_counts()"
      ],
      "metadata": {
        "colab": {
          "base_uri": "https://localhost:8080/"
        },
        "id": "O-q79SrlKpDQ",
        "outputId": "01d568a8-9ef4-46cc-91bb-48e3a1768357"
      },
      "execution_count": 30,
      "outputs": [
        {
          "output_type": "execute_result",
          "data": {
            "text/plain": [
              "1    9839\n",
              "2    4294\n",
              "3    4240\n",
              "Name: slice_type, dtype: int64"
            ]
          },
          "metadata": {},
          "execution_count": 30
        }
      ]
    },
    {
      "cell_type": "code",
      "source": [
        "train_dataset = normal"
      ],
      "metadata": {
        "id": "9Aap9ON6Kz3W"
      },
      "execution_count": 31,
      "outputs": []
    },
    {
      "cell_type": "code",
      "source": [
        "print(train_dataset.shape)\n",
        "print(train_dataset.columns)"
      ],
      "metadata": {
        "colab": {
          "base_uri": "https://localhost:8080/"
        },
        "id": "T7iBSxM3K2ac",
        "outputId": "e67cbcc0-8511-472f-8f20-094329b16733"
      },
      "execution_count": 32,
      "outputs": [
        {
          "output_type": "stream",
          "name": "stdout",
          "text": [
            "(18373, 18)\n",
            "Index(['id', 'lte_5g_category', 'time', 'packet_loss_rate', 'packet_delay',\n",
            "       'io_t', 'lte_5g', 'gbr', 'non_gbr', 'ar_vr_gaming', 'healthcare',\n",
            "       'industry_4_0', 'io_t_devices', 'public_safety', 'smart_city_and_home',\n",
            "       'smart_transportation', 'smartphone', 'slice_type'],\n",
            "      dtype='object')\n"
          ]
        }
      ]
    },
    {
      "cell_type": "code",
      "source": [
        "test_dataset['slice_type'] = 0"
      ],
      "metadata": {
        "id": "NRhGegw1786R"
      },
      "execution_count": 33,
      "outputs": []
    },
    {
      "cell_type": "code",
      "source": [
        "klib.cat_plot(train_dataset)"
      ],
      "metadata": {
        "colab": {
          "base_uri": "https://localhost:8080/"
        },
        "id": "l33rNLBf7-qC",
        "outputId": "14f92b2c-3cde-461e-9877-9f88dfa220a6"
      },
      "execution_count": 34,
      "outputs": [
        {
          "output_type": "stream",
          "name": "stdout",
          "text": [
            "No columns with categorical data were detected.\n"
          ]
        }
      ]
    },
    {
      "cell_type": "code",
      "source": [
        "klib.corr_interactive_plot(train_dataset)"
      ],
      "metadata": {
        "colab": {
          "base_uri": "https://localhost:8080/",
          "height": 1000
        },
        "id": "MvaEhT5A8DS0",
        "outputId": "441b492b-4ceb-4231-ce3e-8391ee4deefb"
      },
      "execution_count": 35,
      "outputs": [
        {
          "output_type": "display_data",
          "data": {
            "text/html": [
              "<html>\n",
              "<head><meta charset=\"utf-8\" /></head>\n",
              "<body>\n",
              "    <div>            <script src=\"https://cdnjs.cloudflare.com/ajax/libs/mathjax/2.7.5/MathJax.js?config=TeX-AMS-MML_SVG\"></script><script type=\"text/javascript\">if (window.MathJax && window.MathJax.Hub && window.MathJax.Hub.Config) {window.MathJax.Hub.Config({SVG: {font: \"STIX-Web\"}});}</script>                <script type=\"text/javascript\">window.PlotlyConfig = {MathJaxConfig: 'local'};</script>\n",
              "        <script charset=\"utf-8\" src=\"https://cdn.plot.ly/plotly-2.24.1.min.js\"></script>                <div id=\"f8962b34-dae9-47a9-8df0-65f3760e8443\" class=\"plotly-graph-div\" style=\"height:1056px; width:1152px;\"></div>            <script type=\"text/javascript\">                                    window.PLOTLYENV=window.PLOTLYENV || {};                                    if (document.getElementById(\"f8962b34-dae9-47a9-8df0-65f3760e8443\")) {                    Plotly.newPlot(                        \"f8962b34-dae9-47a9-8df0-65f3760e8443\",                        [{\"colorscale\":[[0.0,\"rgb(84,48,5)\"],[0.1,\"rgb(140,81,10)\"],[0.2,\"rgb(191,129,45)\"],[0.3,\"rgb(223,194,125)\"],[0.4,\"rgb(246,232,195)\"],[0.5,\"rgb(245,245,245)\"],[0.6,\"rgb(199,234,229)\"],[0.7,\"rgb(128,205,193)\"],[0.8,\"rgb(53,151,143)\"],[0.9,\"rgb(1,102,94)\"],[1.0,\"rgb(0,60,48)\"]],\"hoverongaps\":false,\"text\":[[\"\",-0.73,0.39,0.14,0.4,0.09,0.35,0.39,-0.29,0.32,-0.32,-0.91,0.91,-0.39,-0.1,-0.0,0.08,-0.0],[\"\",\"\",-0.21,-0.32,-0.22,-0.21,-0.31,-0.21,-0.3,-0.1,0.1,0.81,-0.81,0.27,-0.07,0.0,-0.08,0.0],[\"\",\"\",\"\",-0.09,-0.06,-0.06,-0.09,-0.06,-0.08,0.22,-0.22,-0.26,0.26,-0.24,-0.18,-0.0,0.02,-0.0],[\"\",\"\",\"\",\"\",-0.09,-0.09,-0.13,-0.09,-0.13,-0.04,0.04,-0.39,0.39,0.2,0.58,0.01,0.05,0.01],[\"\",\"\",\"\",\"\",\"\",-0.06,-0.09,-0.06,-0.09,0.22,-0.22,-0.27,0.27,-0.25,-0.18,0.0,0.02,0.0],[\"\",\"\",\"\",\"\",\"\",\"\",-0.09,-0.06,-0.09,-0.28,0.28,-0.27,0.27,0.44,0.39,-0.0,0.02,0.0],[\"\",\"\",\"\",\"\",\"\",\"\",\"\",-0.09,-0.12,-0.05,0.05,-0.39,0.39,-0.28,-0.22,0.0,0.05,-0.01],[\"\",\"\",\"\",\"\",\"\",\"\",\"\",\"\",-0.08,0.21,-0.21,-0.26,0.26,-0.24,-0.17,-0.01,0.02,-0.01],[\"\",\"\",\"\",\"\",\"\",\"\",\"\",\"\",\"\",-0.04,0.04,0.32,-0.32,-0.13,-0.17,-0.0,-0.03,-0.01],[\"\",\"\",\"\",\"\",\"\",\"\",\"\",\"\",\"\",\"\",-1.0,-0.12,0.12,-0.42,0.02,0.01,0.01,-0.0],[\"\",\"\",\"\",\"\",\"\",\"\",\"\",\"\",\"\",\"\",\"\",0.12,-0.12,0.42,-0.02,-0.01,-0.01,0.0],[\"\",\"\",\"\",\"\",\"\",\"\",\"\",\"\",\"\",\"\",\"\",\"\",-1.0,0.19,-0.17,-0.0,-0.1,-0.0],[\"\",\"\",\"\",\"\",\"\",\"\",\"\",\"\",\"\",\"\",\"\",\"\",\"\",-0.19,0.17,0.0,0.1,0.0],[\"\",\"\",\"\",\"\",\"\",\"\",\"\",\"\",\"\",\"\",\"\",\"\",\"\",\"\",0.31,-0.01,-0.02,0.01],[\"\",\"\",\"\",\"\",\"\",\"\",\"\",\"\",\"\",\"\",\"\",\"\",\"\",\"\",\"\",0.01,0.02,0.02],[\"\",\"\",\"\",\"\",\"\",\"\",\"\",\"\",\"\",\"\",\"\",\"\",\"\",\"\",\"\",\"\",-0.01,-0.0],[\"\",\"\",\"\",\"\",\"\",\"\",\"\",\"\",\"\",\"\",\"\",\"\",\"\",\"\",\"\",\"\",\"\",-0.02],[\"\",\"\",\"\",\"\",\"\",\"\",\"\",\"\",\"\",\"\",\"\",\"\",\"\",\"\",\"\",\"\",\"\",\"\"]],\"textfont\":{\"size\":12},\"texttemplate\":\"%{text}\",\"x\":[\"slice_type\",\"smartphone\",\"smart_transportation\",\"smart_city_and_home\",\"public_safety\",\"io_t_devices\",\"industry_4_0\",\"healthcare\",\"ar_vr_gaming\",\"non_gbr\",\"gbr\",\"lte_5g\",\"io_t\",\"packet_delay\",\"packet_loss_rate\",\"time\",\"lte_5g_category\",\"id\"],\"xgap\":1,\"y\":[\"slice_type\",\"smartphone\",\"smart_transportation\",\"smart_city_and_home\",\"public_safety\",\"io_t_devices\",\"industry_4_0\",\"healthcare\",\"ar_vr_gaming\",\"non_gbr\",\"gbr\",\"lte_5g\",\"io_t\",\"packet_delay\",\"packet_loss_rate\",\"time\",\"lte_5g_category\",\"id\"],\"ygap\":1,\"z\":[[null,-0.7346122066104845,0.39084555213180733,0.13646745176393255,0.4047104404287774,0.09193296283973793,0.3525081278978768,0.3862724578374668,-0.29227559900349126,0.32184793387191957,-0.32184793387191973,-0.9097096298422533,0.909709629842253,-0.39013842124603326,-0.0976272363618105,-0.0015757060678211197,0.08368009853769938,-0.002835441552566538],[null,null,-0.21314674031301034,-0.31863714706532953,-0.22070792587386454,-0.21465379928973705,-0.31131263886569266,-0.21065281365408922,-0.29911861259056466,-0.09999503728794489,0.0999950372879449,0.8075238323440269,-0.8075238323440268,0.26883084380244554,-0.06741600210420783,0.00047770532190622486,-0.0751516090955187,0.0010651384100794099],[null,null,null,-0.09033708679582211,-0.06257309055088063,-0.060856680007601936,-0.08826050928732651,-0.05972235718942062,-0.08480337059476385,0.21631277071162572,-0.2163127707116258,-0.26395102135165766,0.26395102135165804,-0.24120626795283617,-0.1761105612150848,-0.0025196908810748014,0.019786999921340587,-0.0006171285793053463],[null,null,null,null,-0.09354171228194083,-0.09097581726567099,-0.1319423268521358,-0.08928009634539912,-0.12677418396433318,-0.03594013854644583,0.0359401385464459,-0.3945854404574145,0.3945854404574145,0.20081807672626623,0.5787434099992192,0.005197162297576542,0.04734718267535304,0.009515957358807203],[null,null,null,null,null,-0.0630155150405908,-0.09139147008661835,-0.061840953158458854,-0.08781169256258459,0.22398626830361812,-0.22398626830361817,-0.27331444229107865,0.2733144422910789,-0.24976283957928425,-0.1823579222144486,0.0017542925673169362,0.019485282790280906,0.004772157085514398],[null,null,null,null,null,null,-0.08888455726768302,-0.060144625502703226,-0.0854029747957194,-0.2813365101255752,0.2813365101255753,-0.2658172931771588,0.26581729317715874,0.43735472992010005,0.3898775548124036,-0.0005854361895591763,0.01945804148605057,0.0049485084436086315],[null,null,null,null,null,null,null,-0.08722781586345105,-0.12386002734919664,-0.045352780084264875,0.04535278008426488,-0.3855151097671429,0.385515109767143,-0.28438408983699054,-0.21620166338575209,0.004019687949946251,0.04510627773452056,-0.005649750620042512],[null,null,null,null,null,null,null,null,-0.08381112747445127,0.21378179986613768,-0.21378179986613793,-0.2608626584340173,0.26086265843401724,-0.23838403036635977,-0.17404997692987903,-0.011551855223408009,0.018408029016488123,-0.007330976886875252],[null,null,null,null,null,null,null,null,null,-0.03747564686068119,0.03747564686068123,0.3212844949812943,-0.32128449498129424,-0.12761425153102776,-0.16817160506207415,-0.0007984428099076171,-0.03401045045003847,-0.00740074358344895],[null,null,null,null,null,null,null,null,null,null,-0.9999999999999992,-0.12240208311214422,0.12240208311214397,-0.4241237263117014,0.02231471887991141,0.005053119330993027,0.00715579203645389,-0.004535610718492042],[null,null,null,null,null,null,null,null,null,null,null,0.12240208311214454,-0.12240208311214444,0.4241237263117012,-0.022314718879911558,-0.005053119330992992,-0.007155792036453805,0.004535610718487794],[null,null,null,null,null,null,null,null,null,null,null,null,-1.0,0.1879101071360746,-0.1708578444142946,-1.9461825416850296e-05,-0.09560501324475025,-0.0035175994963234985],[null,null,null,null,null,null,null,null,null,null,null,null,null,-0.18791010713607467,0.1708578444142945,1.9461825416897747e-05,0.09560501324475046,0.0035175994963206466],[null,null,null,null,null,null,null,null,null,null,null,null,null,null,0.30643644074125154,-0.005153273866450914,-0.015085156025581081,0.010973530183367941],[null,null,null,null,null,null,null,null,null,null,null,null,null,null,null,0.009140142318106424,0.02225427871707182,0.01541883179213589],[null,null,null,null,null,null,null,null,null,null,null,null,null,null,null,null,-0.011523337002225652,-0.004275474662529939],[null,null,null,null,null,null,null,null,null,null,null,null,null,null,null,null,null,-0.02223856458350239],[null,null,null,null,null,null,null,null,null,null,null,null,null,null,null,null,null,null]],\"zmax\":0.86,\"zmin\":-0.95,\"type\":\"heatmap\"}],                        {\"template\":{\"data\":{\"histogram2dcontour\":[{\"type\":\"histogram2dcontour\",\"colorbar\":{\"outlinewidth\":0,\"ticks\":\"\"},\"colorscale\":[[0.0,\"#0d0887\"],[0.1111111111111111,\"#46039f\"],[0.2222222222222222,\"#7201a8\"],[0.3333333333333333,\"#9c179e\"],[0.4444444444444444,\"#bd3786\"],[0.5555555555555556,\"#d8576b\"],[0.6666666666666666,\"#ed7953\"],[0.7777777777777778,\"#fb9f3a\"],[0.8888888888888888,\"#fdca26\"],[1.0,\"#f0f921\"]]}],\"choropleth\":[{\"type\":\"choropleth\",\"colorbar\":{\"outlinewidth\":0,\"ticks\":\"\"}}],\"histogram2d\":[{\"type\":\"histogram2d\",\"colorbar\":{\"outlinewidth\":0,\"ticks\":\"\"},\"colorscale\":[[0.0,\"#0d0887\"],[0.1111111111111111,\"#46039f\"],[0.2222222222222222,\"#7201a8\"],[0.3333333333333333,\"#9c179e\"],[0.4444444444444444,\"#bd3786\"],[0.5555555555555556,\"#d8576b\"],[0.6666666666666666,\"#ed7953\"],[0.7777777777777778,\"#fb9f3a\"],[0.8888888888888888,\"#fdca26\"],[1.0,\"#f0f921\"]]}],\"heatmap\":[{\"type\":\"heatmap\",\"colorbar\":{\"outlinewidth\":0,\"ticks\":\"\"},\"colorscale\":[[0.0,\"#0d0887\"],[0.1111111111111111,\"#46039f\"],[0.2222222222222222,\"#7201a8\"],[0.3333333333333333,\"#9c179e\"],[0.4444444444444444,\"#bd3786\"],[0.5555555555555556,\"#d8576b\"],[0.6666666666666666,\"#ed7953\"],[0.7777777777777778,\"#fb9f3a\"],[0.8888888888888888,\"#fdca26\"],[1.0,\"#f0f921\"]]}],\"heatmapgl\":[{\"type\":\"heatmapgl\",\"colorbar\":{\"outlinewidth\":0,\"ticks\":\"\"},\"colorscale\":[[0.0,\"#0d0887\"],[0.1111111111111111,\"#46039f\"],[0.2222222222222222,\"#7201a8\"],[0.3333333333333333,\"#9c179e\"],[0.4444444444444444,\"#bd3786\"],[0.5555555555555556,\"#d8576b\"],[0.6666666666666666,\"#ed7953\"],[0.7777777777777778,\"#fb9f3a\"],[0.8888888888888888,\"#fdca26\"],[1.0,\"#f0f921\"]]}],\"contourcarpet\":[{\"type\":\"contourcarpet\",\"colorbar\":{\"outlinewidth\":0,\"ticks\":\"\"}}],\"contour\":[{\"type\":\"contour\",\"colorbar\":{\"outlinewidth\":0,\"ticks\":\"\"},\"colorscale\":[[0.0,\"#0d0887\"],[0.1111111111111111,\"#46039f\"],[0.2222222222222222,\"#7201a8\"],[0.3333333333333333,\"#9c179e\"],[0.4444444444444444,\"#bd3786\"],[0.5555555555555556,\"#d8576b\"],[0.6666666666666666,\"#ed7953\"],[0.7777777777777778,\"#fb9f3a\"],[0.8888888888888888,\"#fdca26\"],[1.0,\"#f0f921\"]]}],\"surface\":[{\"type\":\"surface\",\"colorbar\":{\"outlinewidth\":0,\"ticks\":\"\"},\"colorscale\":[[0.0,\"#0d0887\"],[0.1111111111111111,\"#46039f\"],[0.2222222222222222,\"#7201a8\"],[0.3333333333333333,\"#9c179e\"],[0.4444444444444444,\"#bd3786\"],[0.5555555555555556,\"#d8576b\"],[0.6666666666666666,\"#ed7953\"],[0.7777777777777778,\"#fb9f3a\"],[0.8888888888888888,\"#fdca26\"],[1.0,\"#f0f921\"]]}],\"mesh3d\":[{\"type\":\"mesh3d\",\"colorbar\":{\"outlinewidth\":0,\"ticks\":\"\"}}],\"scatter\":[{\"fillpattern\":{\"fillmode\":\"overlay\",\"size\":10,\"solidity\":0.2},\"type\":\"scatter\"}],\"parcoords\":[{\"type\":\"parcoords\",\"line\":{\"colorbar\":{\"outlinewidth\":0,\"ticks\":\"\"}}}],\"scatterpolargl\":[{\"type\":\"scatterpolargl\",\"marker\":{\"colorbar\":{\"outlinewidth\":0,\"ticks\":\"\"}}}],\"bar\":[{\"error_x\":{\"color\":\"#2a3f5f\"},\"error_y\":{\"color\":\"#2a3f5f\"},\"marker\":{\"line\":{\"color\":\"#E5ECF6\",\"width\":0.5},\"pattern\":{\"fillmode\":\"overlay\",\"size\":10,\"solidity\":0.2}},\"type\":\"bar\"}],\"scattergeo\":[{\"type\":\"scattergeo\",\"marker\":{\"colorbar\":{\"outlinewidth\":0,\"ticks\":\"\"}}}],\"scatterpolar\":[{\"type\":\"scatterpolar\",\"marker\":{\"colorbar\":{\"outlinewidth\":0,\"ticks\":\"\"}}}],\"histogram\":[{\"marker\":{\"pattern\":{\"fillmode\":\"overlay\",\"size\":10,\"solidity\":0.2}},\"type\":\"histogram\"}],\"scattergl\":[{\"type\":\"scattergl\",\"marker\":{\"colorbar\":{\"outlinewidth\":0,\"ticks\":\"\"}}}],\"scatter3d\":[{\"type\":\"scatter3d\",\"line\":{\"colorbar\":{\"outlinewidth\":0,\"ticks\":\"\"}},\"marker\":{\"colorbar\":{\"outlinewidth\":0,\"ticks\":\"\"}}}],\"scattermapbox\":[{\"type\":\"scattermapbox\",\"marker\":{\"colorbar\":{\"outlinewidth\":0,\"ticks\":\"\"}}}],\"scatterternary\":[{\"type\":\"scatterternary\",\"marker\":{\"colorbar\":{\"outlinewidth\":0,\"ticks\":\"\"}}}],\"scattercarpet\":[{\"type\":\"scattercarpet\",\"marker\":{\"colorbar\":{\"outlinewidth\":0,\"ticks\":\"\"}}}],\"carpet\":[{\"aaxis\":{\"endlinecolor\":\"#2a3f5f\",\"gridcolor\":\"white\",\"linecolor\":\"white\",\"minorgridcolor\":\"white\",\"startlinecolor\":\"#2a3f5f\"},\"baxis\":{\"endlinecolor\":\"#2a3f5f\",\"gridcolor\":\"white\",\"linecolor\":\"white\",\"minorgridcolor\":\"white\",\"startlinecolor\":\"#2a3f5f\"},\"type\":\"carpet\"}],\"table\":[{\"cells\":{\"fill\":{\"color\":\"#EBF0F8\"},\"line\":{\"color\":\"white\"}},\"header\":{\"fill\":{\"color\":\"#C8D4E3\"},\"line\":{\"color\":\"white\"}},\"type\":\"table\"}],\"barpolar\":[{\"marker\":{\"line\":{\"color\":\"#E5ECF6\",\"width\":0.5},\"pattern\":{\"fillmode\":\"overlay\",\"size\":10,\"solidity\":0.2}},\"type\":\"barpolar\"}],\"pie\":[{\"automargin\":true,\"type\":\"pie\"}]},\"layout\":{\"autotypenumbers\":\"strict\",\"colorway\":[\"#636efa\",\"#EF553B\",\"#00cc96\",\"#ab63fa\",\"#FFA15A\",\"#19d3f3\",\"#FF6692\",\"#B6E880\",\"#FF97FF\",\"#FECB52\"],\"font\":{\"color\":\"#2a3f5f\"},\"hovermode\":\"closest\",\"hoverlabel\":{\"align\":\"left\"},\"paper_bgcolor\":\"white\",\"plot_bgcolor\":\"#E5ECF6\",\"polar\":{\"bgcolor\":\"#E5ECF6\",\"angularaxis\":{\"gridcolor\":\"white\",\"linecolor\":\"white\",\"ticks\":\"\"},\"radialaxis\":{\"gridcolor\":\"white\",\"linecolor\":\"white\",\"ticks\":\"\"}},\"ternary\":{\"bgcolor\":\"#E5ECF6\",\"aaxis\":{\"gridcolor\":\"white\",\"linecolor\":\"white\",\"ticks\":\"\"},\"baxis\":{\"gridcolor\":\"white\",\"linecolor\":\"white\",\"ticks\":\"\"},\"caxis\":{\"gridcolor\":\"white\",\"linecolor\":\"white\",\"ticks\":\"\"}},\"coloraxis\":{\"colorbar\":{\"outlinewidth\":0,\"ticks\":\"\"}},\"colorscale\":{\"sequential\":[[0.0,\"#0d0887\"],[0.1111111111111111,\"#46039f\"],[0.2222222222222222,\"#7201a8\"],[0.3333333333333333,\"#9c179e\"],[0.4444444444444444,\"#bd3786\"],[0.5555555555555556,\"#d8576b\"],[0.6666666666666666,\"#ed7953\"],[0.7777777777777778,\"#fb9f3a\"],[0.8888888888888888,\"#fdca26\"],[1.0,\"#f0f921\"]],\"sequentialminus\":[[0.0,\"#0d0887\"],[0.1111111111111111,\"#46039f\"],[0.2222222222222222,\"#7201a8\"],[0.3333333333333333,\"#9c179e\"],[0.4444444444444444,\"#bd3786\"],[0.5555555555555556,\"#d8576b\"],[0.6666666666666666,\"#ed7953\"],[0.7777777777777778,\"#fb9f3a\"],[0.8888888888888888,\"#fdca26\"],[1.0,\"#f0f921\"]],\"diverging\":[[0,\"#8e0152\"],[0.1,\"#c51b7d\"],[0.2,\"#de77ae\"],[0.3,\"#f1b6da\"],[0.4,\"#fde0ef\"],[0.5,\"#f7f7f7\"],[0.6,\"#e6f5d0\"],[0.7,\"#b8e186\"],[0.8,\"#7fbc41\"],[0.9,\"#4d9221\"],[1,\"#276419\"]]},\"xaxis\":{\"gridcolor\":\"white\",\"linecolor\":\"white\",\"ticks\":\"\",\"title\":{\"standoff\":15},\"zerolinecolor\":\"white\",\"automargin\":true,\"zerolinewidth\":2},\"yaxis\":{\"gridcolor\":\"white\",\"linecolor\":\"white\",\"ticks\":\"\",\"title\":{\"standoff\":15},\"zerolinecolor\":\"white\",\"automargin\":true,\"zerolinewidth\":2},\"scene\":{\"xaxis\":{\"backgroundcolor\":\"#E5ECF6\",\"gridcolor\":\"white\",\"linecolor\":\"white\",\"showbackground\":true,\"ticks\":\"\",\"zerolinecolor\":\"white\",\"gridwidth\":2},\"yaxis\":{\"backgroundcolor\":\"#E5ECF6\",\"gridcolor\":\"white\",\"linecolor\":\"white\",\"showbackground\":true,\"ticks\":\"\",\"zerolinecolor\":\"white\",\"gridwidth\":2},\"zaxis\":{\"backgroundcolor\":\"#E5ECF6\",\"gridcolor\":\"white\",\"linecolor\":\"white\",\"showbackground\":true,\"ticks\":\"\",\"zerolinecolor\":\"white\",\"gridwidth\":2}},\"shapedefaults\":{\"line\":{\"color\":\"#2a3f5f\"}},\"annotationdefaults\":{\"arrowcolor\":\"#2a3f5f\",\"arrowhead\":0,\"arrowwidth\":1},\"geo\":{\"bgcolor\":\"white\",\"landcolor\":\"#E5ECF6\",\"subunitcolor\":\"white\",\"showland\":true,\"showlakes\":true,\"lakecolor\":\"white\"},\"title\":{\"x\":0.05},\"mapbox\":{\"style\":\"light\"}}},\"title\":{\"text\":\"Feature-correlation (pearson)\",\"font\":{\"size\":24},\"x\":0.5},\"xaxis\":{\"autorange\":\"reversed\"},\"autosize\":true,\"width\":1152,\"height\":1056},                        {\"responsive\": true}                    ).then(function(){\n",
              "                            \n",
              "var gd = document.getElementById('f8962b34-dae9-47a9-8df0-65f3760e8443');\n",
              "var x = new MutationObserver(function (mutations, observer) {{\n",
              "        var display = window.getComputedStyle(gd).display;\n",
              "        if (!display || display === 'none') {{\n",
              "            console.log([gd, 'removed!']);\n",
              "            Plotly.purge(gd);\n",
              "            observer.disconnect();\n",
              "        }}\n",
              "}});\n",
              "\n",
              "// Listen for the removal of the full notebook cells\n",
              "var notebookContainer = gd.closest('#notebook-container');\n",
              "if (notebookContainer) {{\n",
              "    x.observe(notebookContainer, {childList: true});\n",
              "}}\n",
              "\n",
              "// Listen for the clearing of the current output cell\n",
              "var outputEl = gd.closest('.output');\n",
              "if (outputEl) {{\n",
              "    x.observe(outputEl, {childList: true});\n",
              "}}\n",
              "\n",
              "                        })                };                            </script>        </div>\n",
              "</body>\n",
              "</html>"
            ]
          },
          "metadata": {}
        }
      ]
    },
    {
      "cell_type": "code",
      "source": [
        "klib.dist_plot(train_dataset)"
      ],
      "metadata": {
        "colab": {
          "base_uri": "https://localhost:8080/",
          "height": 252
        },
        "id": "Ib3_w9ZZ8G6a",
        "outputId": "9f83f324-50d8-488b-858c-948f5d3c5b56"
      },
      "execution_count": 36,
      "outputs": [
        {
          "output_type": "stream",
          "name": "stdout",
          "text": [
            "Large dataset detected, using 10000 random samples for the plots. Summary statistics are still based on the entire dataset.\n"
          ]
        },
        {
          "output_type": "execute_result",
          "data": {
            "text/plain": [
              "<Axes: xlabel='id', ylabel='Density'>"
            ]
          },
          "metadata": {},
          "execution_count": 36
        },
        {
          "output_type": "display_data",
          "data": {
            "text/plain": [
              "<Figure size 1500x300 with 1 Axes>"
            ],
            "image/png": "[encoded data removed]"
          },
          "metadata": {}
        }
      ]
    },
    {
      "cell_type": "code",
      "source": [
        "klib.missingval_plot(train_dataset)"
      ],
      "metadata": {
        "colab": {
          "base_uri": "https://localhost:8080/"
        },
        "id": "8r4cSAAL8JGd",
        "outputId": "4065dcfd-9960-495f-b188-8c714c72fecb"
      },
      "execution_count": 37,
      "outputs": [
        {
          "output_type": "stream",
          "name": "stdout",
          "text": [
            "No missing values found in the dataset.\n"
          ]
        }
      ]
    },
    {
      "cell_type": "code",
      "source": [
        "klib.corr_mat(train_dataset)"
      ],
      "metadata": {
        "colab": {
          "base_uri": "https://localhost:8080/",
          "height": 634
        },
        "id": "Op4PztXN8Wdx",
        "outputId": "c4057097-c0bf-4a11-98ef-92b72b579de2"
      },
      "execution_count": 38,
      "outputs": [
        {
          "output_type": "execute_result",
          "data": {
            "text/plain": [
              "<pandas.io.formats.style.Styler at 0x7a6abbbb8af0>"
            ],
            "text/html": [
              "<style type=\"text/css\">\n",
              "#T_b9f4f_row0_col0, #T_b9f4f_row0_col3, #T_b9f4f_row0_col4, #T_b9f4f_row0_col5, #T_b9f4f_row0_col7, #T_b9f4f_row0_col12, #T_b9f4f_row0_col13, #T_b9f4f_row0_col14, #T_b9f4f_row0_col16, #T_b9f4f_row1_col1, #T_b9f4f_row1_col3, #T_b9f4f_row1_col5, #T_b9f4f_row1_col8, #T_b9f4f_row1_col10, #T_b9f4f_row1_col11, #T_b9f4f_row1_col12, #T_b9f4f_row1_col13, #T_b9f4f_row1_col14, #T_b9f4f_row1_col15, #T_b9f4f_row1_col17, #T_b9f4f_row2_col2, #T_b9f4f_row2_col3, #T_b9f4f_row2_col5, #T_b9f4f_row2_col8, #T_b9f4f_row2_col11, #T_b9f4f_row2_col13, #T_b9f4f_row2_col14, #T_b9f4f_row2_col16, #T_b9f4f_row3_col0, #T_b9f4f_row3_col1, #T_b9f4f_row3_col2, #T_b9f4f_row3_col3, #T_b9f4f_row3_col4, #T_b9f4f_row3_col5, #T_b9f4f_row3_col8, #T_b9f4f_row3_col12, #T_b9f4f_row3_col14, #T_b9f4f_row4_col0, #T_b9f4f_row4_col3, #T_b9f4f_row4_col4, #T_b9f4f_row4_col6, #T_b9f4f_row4_col7, #T_b9f4f_row4_col12, #T_b9f4f_row4_col14, #T_b9f4f_row4_col16, #T_b9f4f_row5_col0, #T_b9f4f_row5_col1, #T_b9f4f_row5_col2, #T_b9f4f_row5_col3, #T_b9f4f_row5_col5, #T_b9f4f_row5_col8, #T_b9f4f_row5_col10, #T_b9f4f_row5_col11, #T_b9f4f_row5_col12, #T_b9f4f_row5_col13, #T_b9f4f_row5_col14, #T_b9f4f_row5_col15, #T_b9f4f_row5_col17, #T_b9f4f_row6_col4, #T_b9f4f_row6_col6, #T_b9f4f_row6_col7, #T_b9f4f_row6_col9, #T_b9f4f_row6_col16, #T_b9f4f_row7_col0, #T_b9f4f_row7_col4, #T_b9f4f_row7_col6, #T_b9f4f_row7_col7, #T_b9f4f_row7_col9, #T_b9f4f_row7_col11, #T_b9f4f_row7_col12, #T_b9f4f_row7_col14, #T_b9f4f_row7_col16, #T_b9f4f_row8_col1, #T_b9f4f_row8_col2, #T_b9f4f_row8_col3, #T_b9f4f_row8_col5, #T_b9f4f_row8_col8, #T_b9f4f_row8_col10, #T_b9f4f_row8_col13, #T_b9f4f_row8_col15, #T_b9f4f_row8_col17, #T_b9f4f_row9_col6, #T_b9f4f_row9_col7, #T_b9f4f_row9_col9, #T_b9f4f_row10_col1, #T_b9f4f_row10_col5, #T_b9f4f_row10_col8, #T_b9f4f_row10_col10, #T_b9f4f_row10_col17, #T_b9f4f_row11_col1, #T_b9f4f_row11_col2, #T_b9f4f_row11_col5, #T_b9f4f_row11_col7, #T_b9f4f_row11_col11, #T_b9f4f_row11_col17, #T_b9f4f_row12_col0, #T_b9f4f_row12_col1, #T_b9f4f_row12_col3, #T_b9f4f_row12_col4, #T_b9f4f_row12_col5, #T_b9f4f_row12_col7, #T_b9f4f_row12_col12, #T_b9f4f_row12_col17, #T_b9f4f_row13_col0, #T_b9f4f_row13_col1, #T_b9f4f_row13_col2, #T_b9f4f_row13_col5, #T_b9f4f_row13_col8, #T_b9f4f_row13_col13, #T_b9f4f_row13_col17, #T_b9f4f_row14_col0, #T_b9f4f_row14_col1, #T_b9f4f_row14_col2, #T_b9f4f_row14_col3, #T_b9f4f_row14_col4, #T_b9f4f_row14_col5, #T_b9f4f_row14_col7, #T_b9f4f_row14_col14, #T_b9f4f_row14_col17, #T_b9f4f_row15_col1, #T_b9f4f_row15_col5, #T_b9f4f_row15_col8, #T_b9f4f_row15_col15, #T_b9f4f_row15_col17, #T_b9f4f_row16_col0, #T_b9f4f_row16_col2, #T_b9f4f_row16_col4, #T_b9f4f_row16_col6, #T_b9f4f_row16_col7, #T_b9f4f_row16_col16, #T_b9f4f_row17_col1, #T_b9f4f_row17_col5, #T_b9f4f_row17_col8, #T_b9f4f_row17_col10, #T_b9f4f_row17_col11, #T_b9f4f_row17_col12, #T_b9f4f_row17_col13, #T_b9f4f_row17_col14, #T_b9f4f_row17_col15, #T_b9f4f_row17_col17 {\n",
              "  color: None;\n",
              "}\n",
              "#T_b9f4f_row0_col1, #T_b9f4f_row0_col2, #T_b9f4f_row0_col6, #T_b9f4f_row0_col8, #T_b9f4f_row0_col9, #T_b9f4f_row0_col10, #T_b9f4f_row0_col11, #T_b9f4f_row0_col15, #T_b9f4f_row0_col17, #T_b9f4f_row1_col0, #T_b9f4f_row1_col2, #T_b9f4f_row1_col4, #T_b9f4f_row1_col6, #T_b9f4f_row1_col7, #T_b9f4f_row1_col9, #T_b9f4f_row1_col16, #T_b9f4f_row2_col0, #T_b9f4f_row2_col1, #T_b9f4f_row2_col4, #T_b9f4f_row2_col6, #T_b9f4f_row2_col7, #T_b9f4f_row2_col9, #T_b9f4f_row2_col10, #T_b9f4f_row2_col12, #T_b9f4f_row2_col15, #T_b9f4f_row2_col17, #T_b9f4f_row3_col6, #T_b9f4f_row3_col7, #T_b9f4f_row3_col9, #T_b9f4f_row3_col10, #T_b9f4f_row3_col11, #T_b9f4f_row3_col13, #T_b9f4f_row3_col15, #T_b9f4f_row3_col16, #T_b9f4f_row3_col17, #T_b9f4f_row4_col1, #T_b9f4f_row4_col2, #T_b9f4f_row4_col5, #T_b9f4f_row4_col8, #T_b9f4f_row4_col9, #T_b9f4f_row4_col10, #T_b9f4f_row4_col11, #T_b9f4f_row4_col13, #T_b9f4f_row4_col15, #T_b9f4f_row4_col17, #T_b9f4f_row5_col4, #T_b9f4f_row5_col6, #T_b9f4f_row5_col7, #T_b9f4f_row5_col9, #T_b9f4f_row5_col16, #T_b9f4f_row6_col0, #T_b9f4f_row6_col1, #T_b9f4f_row6_col2, #T_b9f4f_row6_col3, #T_b9f4f_row6_col5, #T_b9f4f_row6_col8, #T_b9f4f_row6_col10, #T_b9f4f_row6_col11, #T_b9f4f_row6_col12, #T_b9f4f_row6_col13, #T_b9f4f_row6_col14, #T_b9f4f_row6_col15, #T_b9f4f_row6_col17, #T_b9f4f_row7_col1, #T_b9f4f_row7_col2, #T_b9f4f_row7_col3, #T_b9f4f_row7_col5, #T_b9f4f_row7_col8, #T_b9f4f_row7_col10, #T_b9f4f_row7_col13, #T_b9f4f_row7_col15, #T_b9f4f_row7_col17, #T_b9f4f_row8_col0, #T_b9f4f_row8_col4, #T_b9f4f_row8_col6, #T_b9f4f_row8_col7, #T_b9f4f_row8_col9, #T_b9f4f_row8_col11, #T_b9f4f_row8_col12, #T_b9f4f_row8_col14, #T_b9f4f_row8_col16, #T_b9f4f_row9_col0, #T_b9f4f_row9_col1, #T_b9f4f_row9_col2, #T_b9f4f_row9_col3, #T_b9f4f_row9_col4, #T_b9f4f_row9_col5, #T_b9f4f_row9_col8, #T_b9f4f_row9_col10, #T_b9f4f_row9_col11, #T_b9f4f_row9_col12, #T_b9f4f_row9_col13, #T_b9f4f_row9_col14, #T_b9f4f_row9_col15, #T_b9f4f_row9_col16, #T_b9f4f_row9_col17, #T_b9f4f_row10_col0, #T_b9f4f_row10_col2, #T_b9f4f_row10_col3, #T_b9f4f_row10_col4, #T_b9f4f_row10_col6, #T_b9f4f_row10_col7, #T_b9f4f_row10_col9, #T_b9f4f_row10_col11, #T_b9f4f_row10_col12, #T_b9f4f_row10_col13, #T_b9f4f_row10_col14, #T_b9f4f_row10_col15, #T_b9f4f_row10_col16, #T_b9f4f_row11_col0, #T_b9f4f_row11_col3, #T_b9f4f_row11_col4, #T_b9f4f_row11_col6, #T_b9f4f_row11_col8, #T_b9f4f_row11_col9, #T_b9f4f_row11_col10, #T_b9f4f_row11_col12, #T_b9f4f_row11_col13, #T_b9f4f_row11_col14, #T_b9f4f_row11_col15, #T_b9f4f_row11_col16, #T_b9f4f_row12_col2, #T_b9f4f_row12_col6, #T_b9f4f_row12_col8, #T_b9f4f_row12_col9, #T_b9f4f_row12_col10, #T_b9f4f_row12_col11, #T_b9f4f_row12_col13, #T_b9f4f_row12_col14, #T_b9f4f_row12_col15, #T_b9f4f_row12_col16, #T_b9f4f_row13_col3, #T_b9f4f_row13_col4, #T_b9f4f_row13_col6, #T_b9f4f_row13_col7, #T_b9f4f_row13_col9, #T_b9f4f_row13_col10, #T_b9f4f_row13_col11, #T_b9f4f_row13_col12, #T_b9f4f_row13_col14, #T_b9f4f_row13_col15, #T_b9f4f_row13_col16, #T_b9f4f_row14_col6, #T_b9f4f_row14_col8, #T_b9f4f_row14_col9, #T_b9f4f_row14_col10, #T_b9f4f_row14_col11, #T_b9f4f_row14_col12, #T_b9f4f_row14_col13, #T_b9f4f_row14_col15, #T_b9f4f_row14_col16, #T_b9f4f_row15_col0, #T_b9f4f_row15_col2, #T_b9f4f_row15_col3, #T_b9f4f_row15_col4, #T_b9f4f_row15_col6, #T_b9f4f_row15_col7, #T_b9f4f_row15_col9, #T_b9f4f_row15_col10, #T_b9f4f_row15_col11, #T_b9f4f_row15_col12, #T_b9f4f_row15_col13, #T_b9f4f_row15_col14, #T_b9f4f_row15_col16, #T_b9f4f_row16_col1, #T_b9f4f_row16_col3, #T_b9f4f_row16_col5, #T_b9f4f_row16_col8, #T_b9f4f_row16_col9, #T_b9f4f_row16_col10, #T_b9f4f_row16_col11, #T_b9f4f_row16_col12, #T_b9f4f_row16_col13, #T_b9f4f_row16_col14, #T_b9f4f_row16_col15, #T_b9f4f_row16_col17, #T_b9f4f_row17_col0, #T_b9f4f_row17_col2, #T_b9f4f_row17_col3, #T_b9f4f_row17_col4, #T_b9f4f_row17_col6, #T_b9f4f_row17_col7, #T_b9f4f_row17_col9, #T_b9f4f_row17_col16 {\n",
              "  color: #FF3344;\n",
              "}\n",
              "</style>\n",
              "<table id=\"T_b9f4f\" class=\"dataframe\">\n",
              "  <thead>\n",
              "    <tr>\n",
              "      <th class=\"blank level0\" >&nbsp;</th>\n",
              "      <th id=\"T_b9f4f_level0_col0\" class=\"col_heading level0 col0\" >id</th>\n",
              "      <th id=\"T_b9f4f_level0_col1\" class=\"col_heading level0 col1\" >lte_5g_category</th>\n",
              "      <th id=\"T_b9f4f_level0_col2\" class=\"col_heading level0 col2\" >time</th>\n",
              "      <th id=\"T_b9f4f_level0_col3\" class=\"col_heading level0 col3\" >packet_loss_rate</th>\n",
              "      <th id=\"T_b9f4f_level0_col4\" class=\"col_heading level0 col4\" >packet_delay</th>\n",
              "      <th id=\"T_b9f4f_level0_col5\" class=\"col_heading level0 col5\" >io_t</th>\n",
              "      <th id=\"T_b9f4f_level0_col6\" class=\"col_heading level0 col6\" >lte_5g</th>\n",
              "      <th id=\"T_b9f4f_level0_col7\" class=\"col_heading level0 col7\" >gbr</th>\n",
              "      <th id=\"T_b9f4f_level0_col8\" class=\"col_heading level0 col8\" >non_gbr</th>\n",
              "      <th id=\"T_b9f4f_level0_col9\" class=\"col_heading level0 col9\" >ar_vr_gaming</th>\n",
              "      <th id=\"T_b9f4f_level0_col10\" class=\"col_heading level0 col10\" >healthcare</th>\n",
              "      <th id=\"T_b9f4f_level0_col11\" class=\"col_heading level0 col11\" >industry_4_0</th>\n",
              "      <th id=\"T_b9f4f_level0_col12\" class=\"col_heading level0 col12\" >io_t_devices</th>\n",
              "      <th id=\"T_b9f4f_level0_col13\" class=\"col_heading level0 col13\" >public_safety</th>\n",
              "      <th id=\"T_b9f4f_level0_col14\" class=\"col_heading level0 col14\" >smart_city_and_home</th>\n",
              "      <th id=\"T_b9f4f_level0_col15\" class=\"col_heading level0 col15\" >smart_transportation</th>\n",
              "      <th id=\"T_b9f4f_level0_col16\" class=\"col_heading level0 col16\" >smartphone</th>\n",
              "      <th id=\"T_b9f4f_level0_col17\" class=\"col_heading level0 col17\" >slice_type</th>\n",
              "    </tr>\n",
              "  </thead>\n",
              "  <tbody>\n",
              "    <tr>\n",
              "      <th id=\"T_b9f4f_level0_row0\" class=\"row_heading level0 row0\" >id</th>\n",
              "      <td id=\"T_b9f4f_row0_col0\" class=\"data row0 col0\" >1.00</td>\n",
              "      <td id=\"T_b9f4f_row0_col1\" class=\"data row0 col1\" >-0.02</td>\n",
              "      <td id=\"T_b9f4f_row0_col2\" class=\"data row0 col2\" >-0.00</td>\n",
              "      <td id=\"T_b9f4f_row0_col3\" class=\"data row0 col3\" >0.02</td>\n",
              "      <td id=\"T_b9f4f_row0_col4\" class=\"data row0 col4\" >0.01</td>\n",
              "      <td id=\"T_b9f4f_row0_col5\" class=\"data row0 col5\" >0.00</td>\n",
              "      <td id=\"T_b9f4f_row0_col6\" class=\"data row0 col6\" >-0.00</td>\n",
              "      <td id=\"T_b9f4f_row0_col7\" class=\"data row0 col7\" >0.00</td>\n",
              "      <td id=\"T_b9f4f_row0_col8\" class=\"data row0 col8\" >-0.00</td>\n",
              "      <td id=\"T_b9f4f_row0_col9\" class=\"data row0 col9\" >-0.01</td>\n",
              "      <td id=\"T_b9f4f_row0_col10\" class=\"data row0 col10\" >-0.01</td>\n",
              "      <td id=\"T_b9f4f_row0_col11\" class=\"data row0 col11\" >-0.01</td>\n",
              "      <td id=\"T_b9f4f_row0_col12\" class=\"data row0 col12\" >0.00</td>\n",
              "      <td id=\"T_b9f4f_row0_col13\" class=\"data row0 col13\" >0.00</td>\n",
              "      <td id=\"T_b9f4f_row0_col14\" class=\"data row0 col14\" >0.01</td>\n",
              "      <td id=\"T_b9f4f_row0_col15\" class=\"data row0 col15\" >-0.00</td>\n",
              "      <td id=\"T_b9f4f_row0_col16\" class=\"data row0 col16\" >0.00</td>\n",
              "      <td id=\"T_b9f4f_row0_col17\" class=\"data row0 col17\" >-0.00</td>\n",
              "    </tr>\n",
              "    <tr>\n",
              "      <th id=\"T_b9f4f_level0_row1\" class=\"row_heading level0 row1\" >lte_5g_category</th>\n",
              "      <td id=\"T_b9f4f_row1_col0\" class=\"data row1 col0\" >-0.02</td>\n",
              "      <td id=\"T_b9f4f_row1_col1\" class=\"data row1 col1\" >1.00</td>\n",
              "      <td id=\"T_b9f4f_row1_col2\" class=\"data row1 col2\" >-0.01</td>\n",
              "      <td id=\"T_b9f4f_row1_col3\" class=\"data row1 col3\" >0.02</td>\n",
              "      <td id=\"T_b9f4f_row1_col4\" class=\"data row1 col4\" >-0.02</td>\n",
              "      <td id=\"T_b9f4f_row1_col5\" class=\"data row1 col5\" >0.10</td>\n",
              "      <td id=\"T_b9f4f_row1_col6\" class=\"data row1 col6\" >-0.10</td>\n",
              "      <td id=\"T_b9f4f_row1_col7\" class=\"data row1 col7\" >-0.01</td>\n",
              "      <td id=\"T_b9f4f_row1_col8\" class=\"data row1 col8\" >0.01</td>\n",
              "      <td id=\"T_b9f4f_row1_col9\" class=\"data row1 col9\" >-0.03</td>\n",
              "      <td id=\"T_b9f4f_row1_col10\" class=\"data row1 col10\" >0.02</td>\n",
              "      <td id=\"T_b9f4f_row1_col11\" class=\"data row1 col11\" >0.05</td>\n",
              "      <td id=\"T_b9f4f_row1_col12\" class=\"data row1 col12\" >0.02</td>\n",
              "      <td id=\"T_b9f4f_row1_col13\" class=\"data row1 col13\" >0.02</td>\n",
              "      <td id=\"T_b9f4f_row1_col14\" class=\"data row1 col14\" >0.05</td>\n",
              "      <td id=\"T_b9f4f_row1_col15\" class=\"data row1 col15\" >0.02</td>\n",
              "      <td id=\"T_b9f4f_row1_col16\" class=\"data row1 col16\" >-0.08</td>\n",
              "      <td id=\"T_b9f4f_row1_col17\" class=\"data row1 col17\" >0.08</td>\n",
              "    </tr>\n",
              "    <tr>\n",
              "      <th id=\"T_b9f4f_level0_row2\" class=\"row_heading level0 row2\" >time</th>\n",
              "      <td id=\"T_b9f4f_row2_col0\" class=\"data row2 col0\" >-0.00</td>\n",
              "      <td id=\"T_b9f4f_row2_col1\" class=\"data row2 col1\" >-0.01</td>\n",
              "      <td id=\"T_b9f4f_row2_col2\" class=\"data row2 col2\" >1.00</td>\n",
              "      <td id=\"T_b9f4f_row2_col3\" class=\"data row2 col3\" >0.01</td>\n",
              "      <td id=\"T_b9f4f_row2_col4\" class=\"data row2 col4\" >-0.01</td>\n",
              "      <td id=\"T_b9f4f_row2_col5\" class=\"data row2 col5\" >0.00</td>\n",
              "      <td id=\"T_b9f4f_row2_col6\" class=\"data row2 col6\" >-0.00</td>\n",
              "      <td id=\"T_b9f4f_row2_col7\" class=\"data row2 col7\" >-0.01</td>\n",
              "      <td id=\"T_b9f4f_row2_col8\" class=\"data row2 col8\" >0.01</td>\n",
              "      <td id=\"T_b9f4f_row2_col9\" class=\"data row2 col9\" >-0.00</td>\n",
              "      <td id=\"T_b9f4f_row2_col10\" class=\"data row2 col10\" >-0.01</td>\n",
              "      <td id=\"T_b9f4f_row2_col11\" class=\"data row2 col11\" >0.00</td>\n",
              "      <td id=\"T_b9f4f_row2_col12\" class=\"data row2 col12\" >-0.00</td>\n",
              "      <td id=\"T_b9f4f_row2_col13\" class=\"data row2 col13\" >0.00</td>\n",
              "      <td id=\"T_b9f4f_row2_col14\" class=\"data row2 col14\" >0.01</td>\n",
              "      <td id=\"T_b9f4f_row2_col15\" class=\"data row2 col15\" >-0.00</td>\n",
              "      <td id=\"T_b9f4f_row2_col16\" class=\"data row2 col16\" >0.00</td>\n",
              "      <td id=\"T_b9f4f_row2_col17\" class=\"data row2 col17\" >-0.00</td>\n",
              "    </tr>\n",
              "    <tr>\n",
              "      <th id=\"T_b9f4f_level0_row3\" class=\"row_heading level0 row3\" >packet_loss_rate</th>\n",
              "      <td id=\"T_b9f4f_row3_col0\" class=\"data row3 col0\" >0.02</td>\n",
              "      <td id=\"T_b9f4f_row3_col1\" class=\"data row3 col1\" >0.02</td>\n",
              "      <td id=\"T_b9f4f_row3_col2\" class=\"data row3 col2\" >0.01</td>\n",
              "      <td id=\"T_b9f4f_row3_col3\" class=\"data row3 col3\" >1.00</td>\n",
              "      <td id=\"T_b9f4f_row3_col4\" class=\"data row3 col4\" >0.31</td>\n",
              "      <td id=\"T_b9f4f_row3_col5\" class=\"data row3 col5\" >0.17</td>\n",
              "      <td id=\"T_b9f4f_row3_col6\" class=\"data row3 col6\" >-0.17</td>\n",
              "      <td id=\"T_b9f4f_row3_col7\" class=\"data row3 col7\" >-0.02</td>\n",
              "      <td id=\"T_b9f4f_row3_col8\" class=\"data row3 col8\" >0.02</td>\n",
              "      <td id=\"T_b9f4f_row3_col9\" class=\"data row3 col9\" >-0.17</td>\n",
              "      <td id=\"T_b9f4f_row3_col10\" class=\"data row3 col10\" >-0.17</td>\n",
              "      <td id=\"T_b9f4f_row3_col11\" class=\"data row3 col11\" >-0.22</td>\n",
              "      <td id=\"T_b9f4f_row3_col12\" class=\"data row3 col12\" >0.39</td>\n",
              "      <td id=\"T_b9f4f_row3_col13\" class=\"data row3 col13\" >-0.18</td>\n",
              "      <td id=\"T_b9f4f_row3_col14\" class=\"data row3 col14\" >0.58</td>\n",
              "      <td id=\"T_b9f4f_row3_col15\" class=\"data row3 col15\" >-0.18</td>\n",
              "      <td id=\"T_b9f4f_row3_col16\" class=\"data row3 col16\" >-0.07</td>\n",
              "      <td id=\"T_b9f4f_row3_col17\" class=\"data row3 col17\" >-0.10</td>\n",
              "    </tr>\n",
              "    <tr>\n",
              "      <th id=\"T_b9f4f_level0_row4\" class=\"row_heading level0 row4\" >packet_delay</th>\n",
              "      <td id=\"T_b9f4f_row4_col0\" class=\"data row4 col0\" >0.01</td>\n",
              "      <td id=\"T_b9f4f_row4_col1\" class=\"data row4 col1\" >-0.02</td>\n",
              "      <td id=\"T_b9f4f_row4_col2\" class=\"data row4 col2\" >-0.01</td>\n",
              "      <td id=\"T_b9f4f_row4_col3\" class=\"data row4 col3\" >0.31</td>\n",
              "      <td id=\"T_b9f4f_row4_col4\" class=\"data row4 col4\" >1.00</td>\n",
              "      <td id=\"T_b9f4f_row4_col5\" class=\"data row4 col5\" >-0.19</td>\n",
              "      <td id=\"T_b9f4f_row4_col6\" class=\"data row4 col6\" >0.19</td>\n",
              "      <td id=\"T_b9f4f_row4_col7\" class=\"data row4 col7\" >0.42</td>\n",
              "      <td id=\"T_b9f4f_row4_col8\" class=\"data row4 col8\" >-0.42</td>\n",
              "      <td id=\"T_b9f4f_row4_col9\" class=\"data row4 col9\" >-0.13</td>\n",
              "      <td id=\"T_b9f4f_row4_col10\" class=\"data row4 col10\" >-0.24</td>\n",
              "      <td id=\"T_b9f4f_row4_col11\" class=\"data row4 col11\" >-0.28</td>\n",
              "      <td id=\"T_b9f4f_row4_col12\" class=\"data row4 col12\" >0.44</td>\n",
              "      <td id=\"T_b9f4f_row4_col13\" class=\"data row4 col13\" >-0.25</td>\n",
              "      <td id=\"T_b9f4f_row4_col14\" class=\"data row4 col14\" >0.20</td>\n",
              "      <td id=\"T_b9f4f_row4_col15\" class=\"data row4 col15\" >-0.24</td>\n",
              "      <td id=\"T_b9f4f_row4_col16\" class=\"data row4 col16\" >0.27</td>\n",
              "      <td id=\"T_b9f4f_row4_col17\" class=\"data row4 col17\" >-0.39</td>\n",
              "    </tr>\n",
              "    <tr>\n",
              "      <th id=\"T_b9f4f_level0_row5\" class=\"row_heading level0 row5\" >io_t</th>\n",
              "      <td id=\"T_b9f4f_row5_col0\" class=\"data row5 col0\" >0.00</td>\n",
              "      <td id=\"T_b9f4f_row5_col1\" class=\"data row5 col1\" >0.10</td>\n",
              "      <td id=\"T_b9f4f_row5_col2\" class=\"data row5 col2\" >0.00</td>\n",
              "      <td id=\"T_b9f4f_row5_col3\" class=\"data row5 col3\" >0.17</td>\n",
              "      <td id=\"T_b9f4f_row5_col4\" class=\"data row5 col4\" >-0.19</td>\n",
              "      <td id=\"T_b9f4f_row5_col5\" class=\"data row5 col5\" >1.00</td>\n",
              "      <td id=\"T_b9f4f_row5_col6\" class=\"data row5 col6\" >-1.00</td>\n",
              "      <td id=\"T_b9f4f_row5_col7\" class=\"data row5 col7\" >-0.12</td>\n",
              "      <td id=\"T_b9f4f_row5_col8\" class=\"data row5 col8\" >0.12</td>\n",
              "      <td id=\"T_b9f4f_row5_col9\" class=\"data row5 col9\" >-0.32</td>\n",
              "      <td id=\"T_b9f4f_row5_col10\" class=\"data row5 col10\" >0.26</td>\n",
              "      <td id=\"T_b9f4f_row5_col11\" class=\"data row5 col11\" >0.39</td>\n",
              "      <td id=\"T_b9f4f_row5_col12\" class=\"data row5 col12\" >0.27</td>\n",
              "      <td id=\"T_b9f4f_row5_col13\" class=\"data row5 col13\" >0.27</td>\n",
              "      <td id=\"T_b9f4f_row5_col14\" class=\"data row5 col14\" >0.39</td>\n",
              "      <td id=\"T_b9f4f_row5_col15\" class=\"data row5 col15\" >0.26</td>\n",
              "      <td id=\"T_b9f4f_row5_col16\" class=\"data row5 col16\" >-0.81</td>\n",
              "      <td id=\"T_b9f4f_row5_col17\" class=\"data row5 col17\" >0.91</td>\n",
              "    </tr>\n",
              "    <tr>\n",
              "      <th id=\"T_b9f4f_level0_row6\" class=\"row_heading level0 row6\" >lte_5g</th>\n",
              "      <td id=\"T_b9f4f_row6_col0\" class=\"data row6 col0\" >-0.00</td>\n",
              "      <td id=\"T_b9f4f_row6_col1\" class=\"data row6 col1\" >-0.10</td>\n",
              "      <td id=\"T_b9f4f_row6_col2\" class=\"data row6 col2\" >-0.00</td>\n",
              "      <td id=\"T_b9f4f_row6_col3\" class=\"data row6 col3\" >-0.17</td>\n",
              "      <td id=\"T_b9f4f_row6_col4\" class=\"data row6 col4\" >0.19</td>\n",
              "      <td id=\"T_b9f4f_row6_col5\" class=\"data row6 col5\" >-1.00</td>\n",
              "      <td id=\"T_b9f4f_row6_col6\" class=\"data row6 col6\" >1.00</td>\n",
              "      <td id=\"T_b9f4f_row6_col7\" class=\"data row6 col7\" >0.12</td>\n",
              "      <td id=\"T_b9f4f_row6_col8\" class=\"data row6 col8\" >-0.12</td>\n",
              "      <td id=\"T_b9f4f_row6_col9\" class=\"data row6 col9\" >0.32</td>\n",
              "      <td id=\"T_b9f4f_row6_col10\" class=\"data row6 col10\" >-0.26</td>\n",
              "      <td id=\"T_b9f4f_row6_col11\" class=\"data row6 col11\" >-0.39</td>\n",
              "      <td id=\"T_b9f4f_row6_col12\" class=\"data row6 col12\" >-0.27</td>\n",
              "      <td id=\"T_b9f4f_row6_col13\" class=\"data row6 col13\" >-0.27</td>\n",
              "      <td id=\"T_b9f4f_row6_col14\" class=\"data row6 col14\" >-0.39</td>\n",
              "      <td id=\"T_b9f4f_row6_col15\" class=\"data row6 col15\" >-0.26</td>\n",
              "      <td id=\"T_b9f4f_row6_col16\" class=\"data row6 col16\" >0.81</td>\n",
              "      <td id=\"T_b9f4f_row6_col17\" class=\"data row6 col17\" >-0.91</td>\n",
              "    </tr>\n",
              "    <tr>\n",
              "      <th id=\"T_b9f4f_level0_row7\" class=\"row_heading level0 row7\" >gbr</th>\n",
              "      <td id=\"T_b9f4f_row7_col0\" class=\"data row7 col0\" >0.00</td>\n",
              "      <td id=\"T_b9f4f_row7_col1\" class=\"data row7 col1\" >-0.01</td>\n",
              "      <td id=\"T_b9f4f_row7_col2\" class=\"data row7 col2\" >-0.01</td>\n",
              "      <td id=\"T_b9f4f_row7_col3\" class=\"data row7 col3\" >-0.02</td>\n",
              "      <td id=\"T_b9f4f_row7_col4\" class=\"data row7 col4\" >0.42</td>\n",
              "      <td id=\"T_b9f4f_row7_col5\" class=\"data row7 col5\" >-0.12</td>\n",
              "      <td id=\"T_b9f4f_row7_col6\" class=\"data row7 col6\" >0.12</td>\n",
              "      <td id=\"T_b9f4f_row7_col7\" class=\"data row7 col7\" >1.00</td>\n",
              "      <td id=\"T_b9f4f_row7_col8\" class=\"data row7 col8\" >-1.00</td>\n",
              "      <td id=\"T_b9f4f_row7_col9\" class=\"data row7 col9\" >0.04</td>\n",
              "      <td id=\"T_b9f4f_row7_col10\" class=\"data row7 col10\" >-0.21</td>\n",
              "      <td id=\"T_b9f4f_row7_col11\" class=\"data row7 col11\" >0.05</td>\n",
              "      <td id=\"T_b9f4f_row7_col12\" class=\"data row7 col12\" >0.28</td>\n",
              "      <td id=\"T_b9f4f_row7_col13\" class=\"data row7 col13\" >-0.22</td>\n",
              "      <td id=\"T_b9f4f_row7_col14\" class=\"data row7 col14\" >0.04</td>\n",
              "      <td id=\"T_b9f4f_row7_col15\" class=\"data row7 col15\" >-0.22</td>\n",
              "      <td id=\"T_b9f4f_row7_col16\" class=\"data row7 col16\" >0.10</td>\n",
              "      <td id=\"T_b9f4f_row7_col17\" class=\"data row7 col17\" >-0.32</td>\n",
              "    </tr>\n",
              "    <tr>\n",
              "      <th id=\"T_b9f4f_level0_row8\" class=\"row_heading level0 row8\" >non_gbr</th>\n",
              "      <td id=\"T_b9f4f_row8_col0\" class=\"data row8 col0\" >-0.00</td>\n",
              "      <td id=\"T_b9f4f_row8_col1\" class=\"data row8 col1\" >0.01</td>\n",
              "      <td id=\"T_b9f4f_row8_col2\" class=\"data row8 col2\" >0.01</td>\n",
              "      <td id=\"T_b9f4f_row8_col3\" class=\"data row8 col3\" >0.02</td>\n",
              "      <td id=\"T_b9f4f_row8_col4\" class=\"data row8 col4\" >-0.42</td>\n",
              "      <td id=\"T_b9f4f_row8_col5\" class=\"data row8 col5\" >0.12</td>\n",
              "      <td id=\"T_b9f4f_row8_col6\" class=\"data row8 col6\" >-0.12</td>\n",
              "      <td id=\"T_b9f4f_row8_col7\" class=\"data row8 col7\" >-1.00</td>\n",
              "      <td id=\"T_b9f4f_row8_col8\" class=\"data row8 col8\" >1.00</td>\n",
              "      <td id=\"T_b9f4f_row8_col9\" class=\"data row8 col9\" >-0.04</td>\n",
              "      <td id=\"T_b9f4f_row8_col10\" class=\"data row8 col10\" >0.21</td>\n",
              "      <td id=\"T_b9f4f_row8_col11\" class=\"data row8 col11\" >-0.05</td>\n",
              "      <td id=\"T_b9f4f_row8_col12\" class=\"data row8 col12\" >-0.28</td>\n",
              "      <td id=\"T_b9f4f_row8_col13\" class=\"data row8 col13\" >0.22</td>\n",
              "      <td id=\"T_b9f4f_row8_col14\" class=\"data row8 col14\" >-0.04</td>\n",
              "      <td id=\"T_b9f4f_row8_col15\" class=\"data row8 col15\" >0.22</td>\n",
              "      <td id=\"T_b9f4f_row8_col16\" class=\"data row8 col16\" >-0.10</td>\n",
              "      <td id=\"T_b9f4f_row8_col17\" class=\"data row8 col17\" >0.32</td>\n",
              "    </tr>\n",
              "    <tr>\n",
              "      <th id=\"T_b9f4f_level0_row9\" class=\"row_heading level0 row9\" >ar_vr_gaming</th>\n",
              "      <td id=\"T_b9f4f_row9_col0\" class=\"data row9 col0\" >-0.01</td>\n",
              "      <td id=\"T_b9f4f_row9_col1\" class=\"data row9 col1\" >-0.03</td>\n",
              "      <td id=\"T_b9f4f_row9_col2\" class=\"data row9 col2\" >-0.00</td>\n",
              "      <td id=\"T_b9f4f_row9_col3\" class=\"data row9 col3\" >-0.17</td>\n",
              "      <td id=\"T_b9f4f_row9_col4\" class=\"data row9 col4\" >-0.13</td>\n",
              "      <td id=\"T_b9f4f_row9_col5\" class=\"data row9 col5\" >-0.32</td>\n",
              "      <td id=\"T_b9f4f_row9_col6\" class=\"data row9 col6\" >0.32</td>\n",
              "      <td id=\"T_b9f4f_row9_col7\" class=\"data row9 col7\" >0.04</td>\n",
              "      <td id=\"T_b9f4f_row9_col8\" class=\"data row9 col8\" >-0.04</td>\n",
              "      <td id=\"T_b9f4f_row9_col9\" class=\"data row9 col9\" >1.00</td>\n",
              "      <td id=\"T_b9f4f_row9_col10\" class=\"data row9 col10\" >-0.08</td>\n",
              "      <td id=\"T_b9f4f_row9_col11\" class=\"data row9 col11\" >-0.12</td>\n",
              "      <td id=\"T_b9f4f_row9_col12\" class=\"data row9 col12\" >-0.09</td>\n",
              "      <td id=\"T_b9f4f_row9_col13\" class=\"data row9 col13\" >-0.09</td>\n",
              "      <td id=\"T_b9f4f_row9_col14\" class=\"data row9 col14\" >-0.13</td>\n",
              "      <td id=\"T_b9f4f_row9_col15\" class=\"data row9 col15\" >-0.08</td>\n",
              "      <td id=\"T_b9f4f_row9_col16\" class=\"data row9 col16\" >-0.30</td>\n",
              "      <td id=\"T_b9f4f_row9_col17\" class=\"data row9 col17\" >-0.29</td>\n",
              "    </tr>\n",
              "    <tr>\n",
              "      <th id=\"T_b9f4f_level0_row10\" class=\"row_heading level0 row10\" >healthcare</th>\n",
              "      <td id=\"T_b9f4f_row10_col0\" class=\"data row10 col0\" >-0.01</td>\n",
              "      <td id=\"T_b9f4f_row10_col1\" class=\"data row10 col1\" >0.02</td>\n",
              "      <td id=\"T_b9f4f_row10_col2\" class=\"data row10 col2\" >-0.01</td>\n",
              "      <td id=\"T_b9f4f_row10_col3\" class=\"data row10 col3\" >-0.17</td>\n",
              "      <td id=\"T_b9f4f_row10_col4\" class=\"data row10 col4\" >-0.24</td>\n",
              "      <td id=\"T_b9f4f_row10_col5\" class=\"data row10 col5\" >0.26</td>\n",
              "      <td id=\"T_b9f4f_row10_col6\" class=\"data row10 col6\" >-0.26</td>\n",
              "      <td id=\"T_b9f4f_row10_col7\" class=\"data row10 col7\" >-0.21</td>\n",
              "      <td id=\"T_b9f4f_row10_col8\" class=\"data row10 col8\" >0.21</td>\n",
              "      <td id=\"T_b9f4f_row10_col9\" class=\"data row10 col9\" >-0.08</td>\n",
              "      <td id=\"T_b9f4f_row10_col10\" class=\"data row10 col10\" >1.00</td>\n",
              "      <td id=\"T_b9f4f_row10_col11\" class=\"data row10 col11\" >-0.09</td>\n",
              "      <td id=\"T_b9f4f_row10_col12\" class=\"data row10 col12\" >-0.06</td>\n",
              "      <td id=\"T_b9f4f_row10_col13\" class=\"data row10 col13\" >-0.06</td>\n",
              "      <td id=\"T_b9f4f_row10_col14\" class=\"data row10 col14\" >-0.09</td>\n",
              "      <td id=\"T_b9f4f_row10_col15\" class=\"data row10 col15\" >-0.06</td>\n",
              "      <td id=\"T_b9f4f_row10_col16\" class=\"data row10 col16\" >-0.21</td>\n",
              "      <td id=\"T_b9f4f_row10_col17\" class=\"data row10 col17\" >0.39</td>\n",
              "    </tr>\n",
              "    <tr>\n",
              "      <th id=\"T_b9f4f_level0_row11\" class=\"row_heading level0 row11\" >industry_4_0</th>\n",
              "      <td id=\"T_b9f4f_row11_col0\" class=\"data row11 col0\" >-0.01</td>\n",
              "      <td id=\"T_b9f4f_row11_col1\" class=\"data row11 col1\" >0.05</td>\n",
              "      <td id=\"T_b9f4f_row11_col2\" class=\"data row11 col2\" >0.00</td>\n",
              "      <td id=\"T_b9f4f_row11_col3\" class=\"data row11 col3\" >-0.22</td>\n",
              "      <td id=\"T_b9f4f_row11_col4\" class=\"data row11 col4\" >-0.28</td>\n",
              "      <td id=\"T_b9f4f_row11_col5\" class=\"data row11 col5\" >0.39</td>\n",
              "      <td id=\"T_b9f4f_row11_col6\" class=\"data row11 col6\" >-0.39</td>\n",
              "      <td id=\"T_b9f4f_row11_col7\" class=\"data row11 col7\" >0.05</td>\n",
              "      <td id=\"T_b9f4f_row11_col8\" class=\"data row11 col8\" >-0.05</td>\n",
              "      <td id=\"T_b9f4f_row11_col9\" class=\"data row11 col9\" >-0.12</td>\n",
              "      <td id=\"T_b9f4f_row11_col10\" class=\"data row11 col10\" >-0.09</td>\n",
              "      <td id=\"T_b9f4f_row11_col11\" class=\"data row11 col11\" >1.00</td>\n",
              "      <td id=\"T_b9f4f_row11_col12\" class=\"data row11 col12\" >-0.09</td>\n",
              "      <td id=\"T_b9f4f_row11_col13\" class=\"data row11 col13\" >-0.09</td>\n",
              "      <td id=\"T_b9f4f_row11_col14\" class=\"data row11 col14\" >-0.13</td>\n",
              "      <td id=\"T_b9f4f_row11_col15\" class=\"data row11 col15\" >-0.09</td>\n",
              "      <td id=\"T_b9f4f_row11_col16\" class=\"data row11 col16\" >-0.31</td>\n",
              "      <td id=\"T_b9f4f_row11_col17\" class=\"data row11 col17\" >0.35</td>\n",
              "    </tr>\n",
              "    <tr>\n",
              "      <th id=\"T_b9f4f_level0_row12\" class=\"row_heading level0 row12\" >io_t_devices</th>\n",
              "      <td id=\"T_b9f4f_row12_col0\" class=\"data row12 col0\" >0.00</td>\n",
              "      <td id=\"T_b9f4f_row12_col1\" class=\"data row12 col1\" >0.02</td>\n",
              "      <td id=\"T_b9f4f_row12_col2\" class=\"data row12 col2\" >-0.00</td>\n",
              "      <td id=\"T_b9f4f_row12_col3\" class=\"data row12 col3\" >0.39</td>\n",
              "      <td id=\"T_b9f4f_row12_col4\" class=\"data row12 col4\" >0.44</td>\n",
              "      <td id=\"T_b9f4f_row12_col5\" class=\"data row12 col5\" >0.27</td>\n",
              "      <td id=\"T_b9f4f_row12_col6\" class=\"data row12 col6\" >-0.27</td>\n",
              "      <td id=\"T_b9f4f_row12_col7\" class=\"data row12 col7\" >0.28</td>\n",
              "      <td id=\"T_b9f4f_row12_col8\" class=\"data row12 col8\" >-0.28</td>\n",
              "      <td id=\"T_b9f4f_row12_col9\" class=\"data row12 col9\" >-0.09</td>\n",
              "      <td id=\"T_b9f4f_row12_col10\" class=\"data row12 col10\" >-0.06</td>\n",
              "      <td id=\"T_b9f4f_row12_col11\" class=\"data row12 col11\" >-0.09</td>\n",
              "      <td id=\"T_b9f4f_row12_col12\" class=\"data row12 col12\" >1.00</td>\n",
              "      <td id=\"T_b9f4f_row12_col13\" class=\"data row12 col13\" >-0.06</td>\n",
              "      <td id=\"T_b9f4f_row12_col14\" class=\"data row12 col14\" >-0.09</td>\n",
              "      <td id=\"T_b9f4f_row12_col15\" class=\"data row12 col15\" >-0.06</td>\n",
              "      <td id=\"T_b9f4f_row12_col16\" class=\"data row12 col16\" >-0.21</td>\n",
              "      <td id=\"T_b9f4f_row12_col17\" class=\"data row12 col17\" >0.09</td>\n",
              "    </tr>\n",
              "    <tr>\n",
              "      <th id=\"T_b9f4f_level0_row13\" class=\"row_heading level0 row13\" >public_safety</th>\n",
              "      <td id=\"T_b9f4f_row13_col0\" class=\"data row13 col0\" >0.00</td>\n",
              "      <td id=\"T_b9f4f_row13_col1\" class=\"data row13 col1\" >0.02</td>\n",
              "      <td id=\"T_b9f4f_row13_col2\" class=\"data row13 col2\" >0.00</td>\n",
              "      <td id=\"T_b9f4f_row13_col3\" class=\"data row13 col3\" >-0.18</td>\n",
              "      <td id=\"T_b9f4f_row13_col4\" class=\"data row13 col4\" >-0.25</td>\n",
              "      <td id=\"T_b9f4f_row13_col5\" class=\"data row13 col5\" >0.27</td>\n",
              "      <td id=\"T_b9f4f_row13_col6\" class=\"data row13 col6\" >-0.27</td>\n",
              "      <td id=\"T_b9f4f_row13_col7\" class=\"data row13 col7\" >-0.22</td>\n",
              "      <td id=\"T_b9f4f_row13_col8\" class=\"data row13 col8\" >0.22</td>\n",
              "      <td id=\"T_b9f4f_row13_col9\" class=\"data row13 col9\" >-0.09</td>\n",
              "      <td id=\"T_b9f4f_row13_col10\" class=\"data row13 col10\" >-0.06</td>\n",
              "      <td id=\"T_b9f4f_row13_col11\" class=\"data row13 col11\" >-0.09</td>\n",
              "      <td id=\"T_b9f4f_row13_col12\" class=\"data row13 col12\" >-0.06</td>\n",
              "      <td id=\"T_b9f4f_row13_col13\" class=\"data row13 col13\" >1.00</td>\n",
              "      <td id=\"T_b9f4f_row13_col14\" class=\"data row13 col14\" >-0.09</td>\n",
              "      <td id=\"T_b9f4f_row13_col15\" class=\"data row13 col15\" >-0.06</td>\n",
              "      <td id=\"T_b9f4f_row13_col16\" class=\"data row13 col16\" >-0.22</td>\n",
              "      <td id=\"T_b9f4f_row13_col17\" class=\"data row13 col17\" >0.40</td>\n",
              "    </tr>\n",
              "    <tr>\n",
              "      <th id=\"T_b9f4f_level0_row14\" class=\"row_heading level0 row14\" >smart_city_and_home</th>\n",
              "      <td id=\"T_b9f4f_row14_col0\" class=\"data row14 col0\" >0.01</td>\n",
              "      <td id=\"T_b9f4f_row14_col1\" class=\"data row14 col1\" >0.05</td>\n",
              "      <td id=\"T_b9f4f_row14_col2\" class=\"data row14 col2\" >0.01</td>\n",
              "      <td id=\"T_b9f4f_row14_col3\" class=\"data row14 col3\" >0.58</td>\n",
              "      <td id=\"T_b9f4f_row14_col4\" class=\"data row14 col4\" >0.20</td>\n",
              "      <td id=\"T_b9f4f_row14_col5\" class=\"data row14 col5\" >0.39</td>\n",
              "      <td id=\"T_b9f4f_row14_col6\" class=\"data row14 col6\" >-0.39</td>\n",
              "      <td id=\"T_b9f4f_row14_col7\" class=\"data row14 col7\" >0.04</td>\n",
              "      <td id=\"T_b9f4f_row14_col8\" class=\"data row14 col8\" >-0.04</td>\n",
              "      <td id=\"T_b9f4f_row14_col9\" class=\"data row14 col9\" >-0.13</td>\n",
              "      <td id=\"T_b9f4f_row14_col10\" class=\"data row14 col10\" >-0.09</td>\n",
              "      <td id=\"T_b9f4f_row14_col11\" class=\"data row14 col11\" >-0.13</td>\n",
              "      <td id=\"T_b9f4f_row14_col12\" class=\"data row14 col12\" >-0.09</td>\n",
              "      <td id=\"T_b9f4f_row14_col13\" class=\"data row14 col13\" >-0.09</td>\n",
              "      <td id=\"T_b9f4f_row14_col14\" class=\"data row14 col14\" >1.00</td>\n",
              "      <td id=\"T_b9f4f_row14_col15\" class=\"data row14 col15\" >-0.09</td>\n",
              "      <td id=\"T_b9f4f_row14_col16\" class=\"data row14 col16\" >-0.32</td>\n",
              "      <td id=\"T_b9f4f_row14_col17\" class=\"data row14 col17\" >0.14</td>\n",
              "    </tr>\n",
              "    <tr>\n",
              "      <th id=\"T_b9f4f_level0_row15\" class=\"row_heading level0 row15\" >smart_transportation</th>\n",
              "      <td id=\"T_b9f4f_row15_col0\" class=\"data row15 col0\" >-0.00</td>\n",
              "      <td id=\"T_b9f4f_row15_col1\" class=\"data row15 col1\" >0.02</td>\n",
              "      <td id=\"T_b9f4f_row15_col2\" class=\"data row15 col2\" >-0.00</td>\n",
              "      <td id=\"T_b9f4f_row15_col3\" class=\"data row15 col3\" >-0.18</td>\n",
              "      <td id=\"T_b9f4f_row15_col4\" class=\"data row15 col4\" >-0.24</td>\n",
              "      <td id=\"T_b9f4f_row15_col5\" class=\"data row15 col5\" >0.26</td>\n",
              "      <td id=\"T_b9f4f_row15_col6\" class=\"data row15 col6\" >-0.26</td>\n",
              "      <td id=\"T_b9f4f_row15_col7\" class=\"data row15 col7\" >-0.22</td>\n",
              "      <td id=\"T_b9f4f_row15_col8\" class=\"data row15 col8\" >0.22</td>\n",
              "      <td id=\"T_b9f4f_row15_col9\" class=\"data row15 col9\" >-0.08</td>\n",
              "      <td id=\"T_b9f4f_row15_col10\" class=\"data row15 col10\" >-0.06</td>\n",
              "      <td id=\"T_b9f4f_row15_col11\" class=\"data row15 col11\" >-0.09</td>\n",
              "      <td id=\"T_b9f4f_row15_col12\" class=\"data row15 col12\" >-0.06</td>\n",
              "      <td id=\"T_b9f4f_row15_col13\" class=\"data row15 col13\" >-0.06</td>\n",
              "      <td id=\"T_b9f4f_row15_col14\" class=\"data row15 col14\" >-0.09</td>\n",
              "      <td id=\"T_b9f4f_row15_col15\" class=\"data row15 col15\" >1.00</td>\n",
              "      <td id=\"T_b9f4f_row15_col16\" class=\"data row15 col16\" >-0.21</td>\n",
              "      <td id=\"T_b9f4f_row15_col17\" class=\"data row15 col17\" >0.39</td>\n",
              "    </tr>\n",
              "    <tr>\n",
              "      <th id=\"T_b9f4f_level0_row16\" class=\"row_heading level0 row16\" >smartphone</th>\n",
              "      <td id=\"T_b9f4f_row16_col0\" class=\"data row16 col0\" >0.00</td>\n",
              "      <td id=\"T_b9f4f_row16_col1\" class=\"data row16 col1\" >-0.08</td>\n",
              "      <td id=\"T_b9f4f_row16_col2\" class=\"data row16 col2\" >0.00</td>\n",
              "      <td id=\"T_b9f4f_row16_col3\" class=\"data row16 col3\" >-0.07</td>\n",
              "      <td id=\"T_b9f4f_row16_col4\" class=\"data row16 col4\" >0.27</td>\n",
              "      <td id=\"T_b9f4f_row16_col5\" class=\"data row16 col5\" >-0.81</td>\n",
              "      <td id=\"T_b9f4f_row16_col6\" class=\"data row16 col6\" >0.81</td>\n",
              "      <td id=\"T_b9f4f_row16_col7\" class=\"data row16 col7\" >0.10</td>\n",
              "      <td id=\"T_b9f4f_row16_col8\" class=\"data row16 col8\" >-0.10</td>\n",
              "      <td id=\"T_b9f4f_row16_col9\" class=\"data row16 col9\" >-0.30</td>\n",
              "      <td id=\"T_b9f4f_row16_col10\" class=\"data row16 col10\" >-0.21</td>\n",
              "      <td id=\"T_b9f4f_row16_col11\" class=\"data row16 col11\" >-0.31</td>\n",
              "      <td id=\"T_b9f4f_row16_col12\" class=\"data row16 col12\" >-0.21</td>\n",
              "      <td id=\"T_b9f4f_row16_col13\" class=\"data row16 col13\" >-0.22</td>\n",
              "      <td id=\"T_b9f4f_row16_col14\" class=\"data row16 col14\" >-0.32</td>\n",
              "      <td id=\"T_b9f4f_row16_col15\" class=\"data row16 col15\" >-0.21</td>\n",
              "      <td id=\"T_b9f4f_row16_col16\" class=\"data row16 col16\" >1.00</td>\n",
              "      <td id=\"T_b9f4f_row16_col17\" class=\"data row16 col17\" >-0.73</td>\n",
              "    </tr>\n",
              "    <tr>\n",
              "      <th id=\"T_b9f4f_level0_row17\" class=\"row_heading level0 row17\" >slice_type</th>\n",
              "      <td id=\"T_b9f4f_row17_col0\" class=\"data row17 col0\" >-0.00</td>\n",
              "      <td id=\"T_b9f4f_row17_col1\" class=\"data row17 col1\" >0.08</td>\n",
              "      <td id=\"T_b9f4f_row17_col2\" class=\"data row17 col2\" >-0.00</td>\n",
              "      <td id=\"T_b9f4f_row17_col3\" class=\"data row17 col3\" >-0.10</td>\n",
              "      <td id=\"T_b9f4f_row17_col4\" class=\"data row17 col4\" >-0.39</td>\n",
              "      <td id=\"T_b9f4f_row17_col5\" class=\"data row17 col5\" >0.91</td>\n",
              "      <td id=\"T_b9f4f_row17_col6\" class=\"data row17 col6\" >-0.91</td>\n",
              "      <td id=\"T_b9f4f_row17_col7\" class=\"data row17 col7\" >-0.32</td>\n",
              "      <td id=\"T_b9f4f_row17_col8\" class=\"data row17 col8\" >0.32</td>\n",
              "      <td id=\"T_b9f4f_row17_col9\" class=\"data row17 col9\" >-0.29</td>\n",
              "      <td id=\"T_b9f4f_row17_col10\" class=\"data row17 col10\" >0.39</td>\n",
              "      <td id=\"T_b9f4f_row17_col11\" class=\"data row17 col11\" >0.35</td>\n",
              "      <td id=\"T_b9f4f_row17_col12\" class=\"data row17 col12\" >0.09</td>\n",
              "      <td id=\"T_b9f4f_row17_col13\" class=\"data row17 col13\" >0.40</td>\n",
              "      <td id=\"T_b9f4f_row17_col14\" class=\"data row17 col14\" >0.14</td>\n",
              "      <td id=\"T_b9f4f_row17_col15\" class=\"data row17 col15\" >0.39</td>\n",
              "      <td id=\"T_b9f4f_row17_col16\" class=\"data row17 col16\" >-0.73</td>\n",
              "      <td id=\"T_b9f4f_row17_col17\" class=\"data row17 col17\" >1.00</td>\n",
              "    </tr>\n",
              "  </tbody>\n",
              "</table>\n"
            ]
          },
          "metadata": {},
          "execution_count": 38
        }
      ]
    },
    {
      "cell_type": "code",
      "source": [
        "train_dataset.columns"
      ],
      "metadata": {
        "colab": {
          "base_uri": "https://localhost:8080/"
        },
        "id": "CtvGacoejcUh",
        "outputId": "c0e40ddc-f7ff-403a-d7b0-ec95cbf6f3b1"
      },
      "execution_count": 39,
      "outputs": [
        {
          "output_type": "execute_result",
          "data": {
            "text/plain": [
              "Index(['id', 'lte_5g_category', 'time', 'packet_loss_rate', 'packet_delay',\n",
              "       'io_t', 'lte_5g', 'gbr', 'non_gbr', 'ar_vr_gaming', 'healthcare',\n",
              "       'industry_4_0', 'io_t_devices', 'public_safety', 'smart_city_and_home',\n",
              "       'smart_transportation', 'smartphone', 'slice_type'],\n",
              "      dtype='object')"
            ]
          },
          "metadata": {},
          "execution_count": 39
        }
      ]
    },
    {
      "cell_type": "code",
      "source": [
        "# Checking for outliers in the continuous variables\n",
        "num_train_dataset = train_dataset[['id', 'lte_5g_category', 'time', 'packet_loss_rate', 'packet_delay',\n",
        "       'io_t', 'lte_5g', 'gbr', 'non_gbr', 'ar_vr_gaming', 'healthcare',\n",
        "       'industry_4_0', 'io_t_devices', 'public_safety', 'smart_city_and_home',\n",
        "       'smart_transportation', 'smartphone', 'slice_type']]\n"
      ],
      "metadata": {
        "id": "f5Nn329skYoh"
      },
      "execution_count": 40,
      "outputs": []
    },
    {
      "cell_type": "code",
      "source": [
        "train_dataset['slice_type'].value_counts()"
      ],
      "metadata": {
        "colab": {
          "base_uri": "https://localhost:8080/"
        },
        "id": "M2SXoA32l3fW",
        "outputId": "440e966e-7ea2-45fb-a8fb-53b0822809fa"
      },
      "execution_count": 41,
      "outputs": [
        {
          "output_type": "execute_result",
          "data": {
            "text/plain": [
              "1    9839\n",
              "2    4294\n",
              "3    4240\n",
              "Name: slice_type, dtype: int64"
            ]
          },
          "metadata": {},
          "execution_count": 41
        }
      ]
    },
    {
      "cell_type": "code",
      "source": [
        "train_dataset.columns"
      ],
      "metadata": {
        "colab": {
          "base_uri": "https://localhost:8080/"
        },
        "id": "UvmlUM3U0vFz",
        "outputId": "87bbafa0-bcaa-473a-c1e5-fdd95f50cbcd"
      },
      "execution_count": 42,
      "outputs": [
        {
          "output_type": "execute_result",
          "data": {
            "text/plain": [
              "Index(['id', 'lte_5g_category', 'time', 'packet_loss_rate', 'packet_delay',\n",
              "       'io_t', 'lte_5g', 'gbr', 'non_gbr', 'ar_vr_gaming', 'healthcare',\n",
              "       'industry_4_0', 'io_t_devices', 'public_safety', 'smart_city_and_home',\n",
              "       'smart_transportation', 'smartphone', 'slice_type'],\n",
              "      dtype='object')"
            ]
          },
          "metadata": {},
          "execution_count": 42
        }
      ]
    },
    {
      "cell_type": "code",
      "source": [
        "y_train = train_dataset['slice_type']\n",
        "x_train = train_dataset.drop('slice_type', axis = 1)\n",
        "y_test = test_dataset['slice_type']\n",
        "x_test = test_dataset.drop('slice_type', axis = 1)"
      ],
      "metadata": {
        "id": "UzbZIhe38aAG"
      },
      "execution_count": 43,
      "outputs": []
    },
    {
      "cell_type": "code",
      "source": [
        "from sklearn.ensemble import ExtraTreesClassifier\n",
        "extra_tree_forest = ExtraTreesClassifier(n_estimators = 5,\n",
        "                                        criterion ='entropy', max_features = 2)\n",
        "extra_tree_forest.fit(x_train, y_train)\n",
        "feature_importance = extra_tree_forest.feature_importances_\n",
        "feature_importance_normalized = np.std([tree.feature_importances_ for tree in\n",
        "                                        extra_tree_forest.estimators_],\n",
        "                                        axis = 0)"
      ],
      "metadata": {
        "id": "VTaI8HXrO50A"
      },
      "execution_count": 44,
      "outputs": []
    },
    {
      "cell_type": "code",
      "source": [
        "import matplotlib.pyplot as plt"
      ],
      "metadata": {
        "id": "IGlxbNFrO53F"
      },
      "execution_count": 45,
      "outputs": []
    },
    {
      "cell_type": "code",
      "source": [
        "feature_importance_normalized"
      ],
      "metadata": {
        "colab": {
          "base_uri": "https://localhost:8080/"
        },
        "id": "GsQ61Z7hlgUu",
        "outputId": "8ac308e4-7559-495c-df38-f591e3aad3a0"
      },
      "execution_count": 46,
      "outputs": [
        {
          "output_type": "execute_result",
          "data": {
            "text/plain": [
              "array([9.95850150e-05, 1.82899866e-05, 1.45823303e-05, 7.45023463e-02,\n",
              "       5.36511123e-02, 1.47469251e-01, 2.53387050e-01, 7.08798855e-02,\n",
              "       5.78137139e-02, 1.97852518e-02, 4.03864792e-02, 5.94845917e-03,\n",
              "       0.00000000e+00, 4.98605017e-02, 3.80180060e-02, 3.29054755e-02,\n",
              "       1.61403769e-01])"
            ]
          },
          "metadata": {},
          "execution_count": 46
        }
      ]
    },
    {
      "cell_type": "code",
      "source": [
        "plt.figure(figsize = [20,9])\n",
        "plt.bar(x_train.columns, feature_importance_normalized)\n",
        "plt.xlabel('Feature Labels')\n",
        "plt.ylabel('Feature Importances')\n",
        "plt.xticks(rotation = 90)\n",
        "plt.title('Comparison of different Feature Importances')\n",
        "plt.show()"
      ],
      "metadata": {
        "colab": {
          "base_uri": "https://localhost:8080/",
          "height": 590
        },
        "id": "-jghZE-6O56O",
        "outputId": "94d6543b-3b66-4bc5-cbde-543a3e7d4480"
      },
      "execution_count": 47,
      "outputs": [
        {
          "output_type": "display_data",
          "data": {
            "text/plain": [
              "<Figure size 2000x900 with 1 Axes>"
            ],
            "image/png": "[encoded data removed]"
          },
          "metadata": {}
        }
      ]
    },
    {
      "cell_type": "code",
      "source": [
        "x_train.columns"
      ],
      "metadata": {
        "colab": {
          "base_uri": "https://localhost:8080/"
        },
        "id": "XJWiDSpgQOHD",
        "outputId": "4bcb6d3c-b202-469d-bb1e-7456a3b8601c"
      },
      "execution_count": 48,
      "outputs": [
        {
          "output_type": "execute_result",
          "data": {
            "text/plain": [
              "Index(['id', 'lte_5g_category', 'time', 'packet_loss_rate', 'packet_delay',\n",
              "       'io_t', 'lte_5g', 'gbr', 'non_gbr', 'ar_vr_gaming', 'healthcare',\n",
              "       'industry_4_0', 'io_t_devices', 'public_safety', 'smart_city_and_home',\n",
              "       'smart_transportation', 'smartphone'],\n",
              "      dtype='object')"
            ]
          },
          "metadata": {},
          "execution_count": 48
        }
      ]
    },
    {
      "cell_type": "code",
      "source": [
        "x_train2 = x_train[['lte_5g_category', 'packet_loss_rate', 'packet_delay',\n",
        "       'io_t', 'lte_5g', 'gbr', 'non_gbr', 'ar_vr_gaming', 'healthcare',\n",
        "       'industry_4_0', 'io_t_devices', 'public_safety', 'smart_city_and_home',\n",
        "       'smart_transportation', 'smartphone']]"
      ],
      "metadata": {
        "id": "v3wNNjM0O59e"
      },
      "execution_count": 49,
      "outputs": []
    },
    {
      "cell_type": "code",
      "source": [
        "x_test2 = x_test[['lte_5g_category', 'packet_loss_rate', 'packet_delay',\n",
        "       'io_t', 'lte_5g', 'gbr', 'non_gbr', 'ar_vr_gaming', 'healthcare',\n",
        "       'industry_4_0', 'io_t_devices', 'public_safety', 'smart_city_and_home',\n",
        "       'smart_transportation', 'smartphone']]"
      ],
      "metadata": {
        "id": "b4qYwTM7Q2p4"
      },
      "execution_count": 50,
      "outputs": []
    },
    {
      "cell_type": "code",
      "source": [
        "print(x_train2.shape, x_test2.shape)"
      ],
      "metadata": {
        "colab": {
          "base_uri": "https://localhost:8080/"
        },
        "id": "caxK6AiBQ-P3",
        "outputId": "60246a19-d286-47be-caac-ecfd4e3f5665"
      },
      "execution_count": 51,
      "outputs": [
        {
          "output_type": "stream",
          "name": "stdout",
          "text": [
            "(18373, 15) (31584, 15)\n"
          ]
        }
      ]
    },
    {
      "cell_type": "code",
      "source": [
        "y_train.value_counts()"
      ],
      "metadata": {
        "colab": {
          "base_uri": "https://localhost:8080/"
        },
        "id": "HlqVYaXdRAF1",
        "outputId": "aedd5511-f8ba-4abc-a626-fea96e5a2f96"
      },
      "execution_count": 52,
      "outputs": [
        {
          "output_type": "execute_result",
          "data": {
            "text/plain": [
              "1    9839\n",
              "2    4294\n",
              "3    4240\n",
              "Name: slice_type, dtype: int64"
            ]
          },
          "metadata": {},
          "execution_count": 52
        }
      ]
    },
    {
      "cell_type": "code",
      "source": [
        "x_train2 = pd.DataFrame(x_train2)"
      ],
      "metadata": {
        "id": "Ys16kP23aNOQ"
      },
      "execution_count": 53,
      "outputs": []
    },
    {
      "cell_type": "code",
      "source": [
        "x_train2.head(4)"
      ],
      "metadata": {
        "colab": {
          "base_uri": "https://localhost:8080/",
          "height": 195
        },
        "id": "s6NxDktIaY7G",
        "outputId": "e5d03123-cd9f-40f9-efb7-03cfe76d0e39"
      },
      "execution_count": 54,
      "outputs": [
        {
          "output_type": "execute_result",
          "data": {
            "text/plain": [
              "   lte_5g_category  packet_loss_rate  packet_delay  io_t  lte_5g  gbr  \\\n",
              "0               14          0.000001            10     1       0    0   \n",
              "4                9          0.010000            50     1       0    0   \n",
              "5               19          0.000001            10     1       0    0   \n",
              "8                8          0.001000           150     0       1    0   \n",
              "\n",
              "   non_gbr  ar_vr_gaming  healthcare  industry_4_0  io_t_devices  \\\n",
              "0        1             0           0             0             0   \n",
              "4        1             0           0             0             0   \n",
              "5        1             0           0             1             0   \n",
              "8        1             0           0             0             0   \n",
              "\n",
              "   public_safety  smart_city_and_home  smart_transportation  smartphone  \n",
              "0              1                    0                     0           0  \n",
              "4              0                    1                     0           0  \n",
              "5              0                    0                     0           0  \n",
              "8              0                    0                     0           1  "
            ],
            "text/html": [
              "\n",
              "  <div id=\"df-6f95fe36-568f-468c-82df-2cd010108578\" class=\"colab-df-container\">\n",
              "    <div>\n",
              "<style scoped>\n",
              "    .dataframe tbody tr th:only-of-type {\n",
              "        vertical-align: middle;\n",
              "    }\n",
              "\n",
              "    .dataframe tbody tr th {\n",
              "        vertical-align: top;\n",
              "    }\n",
              "\n",
              "    .dataframe thead th {\n",
              "        text-align: right;\n",
              "    }\n",
              "</style>\n",
              "<table border=\"1\" class=\"dataframe\">\n",
              "  <thead>\n",
              "    <tr style=\"text-align: right;\">\n",
              "      <th></th>\n",
              "      <th>lte_5g_category</th>\n",
              "      <th>packet_loss_rate</th>\n",
              "      <th>packet_delay</th>\n",
              "      <th>io_t</th>\n",
              "      <th>lte_5g</th>\n",
              "      <th>gbr</th>\n",
              "      <th>non_gbr</th>\n",
              "      <th>ar_vr_gaming</th>\n",
              "      <th>healthcare</th>\n",
              "      <th>industry_4_0</th>\n",
              "      <th>io_t_devices</th>\n",
              "      <th>public_safety</th>\n",
              "      <th>smart_city_and_home</th>\n",
              "      <th>smart_transportation</th>\n",
              "      <th>smartphone</th>\n",
              "    </tr>\n",
              "  </thead>\n",
              "  <tbody>\n",
              "    <tr>\n",
              "      <th>0</th>\n",
              "      <td>14</td>\n",
              "      <td>0.000001</td>\n",
              "      <td>10</td>\n",
              "      <td>1</td>\n",
              "      <td>0</td>\n",
              "      <td>0</td>\n",
              "      <td>1</td>\n",
              "      <td>0</td>\n",
              "      <td>0</td>\n",
              "      <td>0</td>\n",
              "      <td>0</td>\n",
              "      <td>1</td>\n",
              "      <td>0</td>\n",
              "      <td>0</td>\n",
              "      <td>0</td>\n",
              "    </tr>\n",
              "    <tr>\n",
              "      <th>4</th>\n",
              "      <td>9</td>\n",
              "      <td>0.010000</td>\n",
              "      <td>50</td>\n",
              "      <td>1</td>\n",
              "      <td>0</td>\n",
              "      <td>0</td>\n",
              "      <td>1</td>\n",
              "      <td>0</td>\n",
              "      <td>0</td>\n",
              "      <td>0</td>\n",
              "      <td>0</td>\n",
              "      <td>0</td>\n",
              "      <td>1</td>\n",
              "      <td>0</td>\n",
              "      <td>0</td>\n",
              "    </tr>\n",
              "    <tr>\n",
              "      <th>5</th>\n",
              "      <td>19</td>\n",
              "      <td>0.000001</td>\n",
              "      <td>10</td>\n",
              "      <td>1</td>\n",
              "      <td>0</td>\n",
              "      <td>0</td>\n",
              "      <td>1</td>\n",
              "      <td>0</td>\n",
              "      <td>0</td>\n",
              "      <td>1</td>\n",
              "      <td>0</td>\n",
              "      <td>0</td>\n",
              "      <td>0</td>\n",
              "      <td>0</td>\n",
              "      <td>0</td>\n",
              "    </tr>\n",
              "    <tr>\n",
              "      <th>8</th>\n",
              "      <td>8</td>\n",
              "      <td>0.001000</td>\n",
              "      <td>150</td>\n",
              "      <td>0</td>\n",
              "      <td>1</td>\n",
              "      <td>0</td>\n",
              "      <td>1</td>\n",
              "      <td>0</td>\n",
              "      <td>0</td>\n",
              "      <td>0</td>\n",
              "      <td>0</td>\n",
              "      <td>0</td>\n",
              "      <td>0</td>\n",
              "      <td>0</td>\n",
              "      <td>1</td>\n",
              "    </tr>\n",
              "  </tbody>\n",
              "</table>\n",
              "</div>\n",
              "    <div class=\"colab-df-buttons\">\n",
              "\n",
              "  <div class=\"colab-df-container\">\n",
              "    <button class=\"colab-df-convert\" onclick=\"convertToInteractive('df-6f95fe36-568f-468c-82df-2cd010108578')\"\n",
              "            title=\"Convert this dataframe to an interactive table.\"\n",
              "            style=\"display:none;\">\n",
              "\n",
              "  <svg xmlns=\"http://www.w3.org/2000/svg\" height=\"24px\" viewBox=\"0 -960 960 960\">\n",
              "    <path d=\"M120-120v-720h720v720H120Zm60-500h600v-160H180v160Zm220 220h160v-160H400v160Zm0 220h160v-160H400v160ZM180-400h160v-160H180v160Zm440 0h160v-160H620v160ZM180-180h160v-160H180v160Zm440 0h160v-160H620v160Z\"/>\n",
              "  </svg>\n",
              "    </button>\n",
              "\n",
              "  <style>\n",
              "    .colab-df-container {\n",
              "      display:flex;\n",
              "      gap: 12px;\n",
              "    }\n",
              "\n",
              "    .colab-df-convert {\n",
              "      background-color: #E8F0FE;\n",
              "      border: none;\n",
              "      border-radius: 50%;\n",
              "      cursor: pointer;\n",
              "      display: none;\n",
              "      fill: #1967D2;\n",
              "      height: 32px;\n",
              "      padding: 0 0 0 0;\n",
              "      width: 32px;\n",
              "    }\n",
              "\n",
              "    .colab-df-convert:hover {\n",
              "      background-color: #E2EBFA;\n",
              "      box-shadow: 0px 1px 2px rgba(60, 64, 67, 0.3), 0px 1px 3px 1px rgba(60, 64, 67, 0.15);\n",
              "      fill: #174EA6;\n",
              "    }\n",
              "\n",
              "    .colab-df-buttons div {\n",
              "      margin-bottom: 4px;\n",
              "    }\n",
              "\n",
              "    [theme=dark] .colab-df-convert {\n",
              "      background-color: #3B4455;\n",
              "      fill: #D2E3FC;\n",
              "    }\n",
              "\n",
              "    [theme=dark] .colab-df-convert:hover {\n",
              "      background-color: #434B5C;\n",
              "      box-shadow: 0px 1px 3px 1px rgba(0, 0, 0, 0.15);\n",
              "      filter: drop-shadow(0px 1px 2px rgba(0, 0, 0, 0.3));\n",
              "      fill: #FFFFFF;\n",
              "    }\n",
              "  </style>\n",
              "\n",
              "    <script>\n",
              "      const buttonEl =\n",
              "        document.querySelector('#df-6f95fe36-568f-468c-82df-2cd010108578 button.colab-df-convert');\n",
              "      buttonEl.style.display =\n",
              "        google.colab.kernel.accessAllowed ? 'block' : 'none';\n",
              "\n",
              "      async function convertToInteractive(key) {\n",
              "        const element = document.querySelector('#df-6f95fe36-568f-468c-82df-2cd010108578');\n",
              "        const dataTable =\n",
              "          await google.colab.kernel.invokeFunction('convertToInteractive',\n",
              "                                                    [key], {});\n",
              "        if (!dataTable) return;\n",
              "\n",
              "        const docLinkHtml = 'Like what you see? Visit the ' +\n",
              "          '<a target=\"_blank\" href=https://colab.research.google.com/notebooks/data_table.ipynb>data table notebook</a>'\n",
              "          + ' to learn more about interactive tables.';\n",
              "        element.innerHTML = '';\n",
              "        dataTable['output_type'] = 'display_data';\n",
              "        await google.colab.output.renderOutput(dataTable, element);\n",
              "        const docLink = document.createElement('div');\n",
              "        docLink.innerHTML = docLinkHtml;\n",
              "        element.appendChild(docLink);\n",
              "      }\n",
              "    </script>\n",
              "  </div>\n",
              "\n",
              "\n",
              "<div id=\"df-9c615aa7-6c9d-4e61-b32a-03078c55e00d\">\n",
              "  <button class=\"colab-df-quickchart\" onclick=\"quickchart('df-9c615aa7-6c9d-4e61-b32a-03078c55e00d')\"\n",
              "            title=\"Suggest charts\"\n",
              "            style=\"display:none;\">\n",
              "\n",
              "<svg xmlns=\"http://www.w3.org/2000/svg\" height=\"24px\"viewBox=\"0 0 24 24\"\n",
              "     width=\"24px\">\n",
              "    <g>\n",
              "        <path d=\"M19 3H5c-1.1 0-2 .9-2 2v14c0 1.1.9 2 2 2h14c1.1 0 2-.9 2-2V5c0-1.1-.9-2-2-2zM9 17H7v-7h2v7zm4 0h-2V7h2v10zm4 0h-2v-4h2v4z\"/>\n",
              "    </g>\n",
              "</svg>\n",
              "  </button>\n",
              "\n",
              "<style>\n",
              "  .colab-df-quickchart {\n",
              "      --bg-color: #E8F0FE;\n",
              "      --fill-color: #1967D2;\n",
              "      --hover-bg-color: #E2EBFA;\n",
              "      --hover-fill-color: #174EA6;\n",
              "      --disabled-fill-color: #AAA;\n",
              "      --disabled-bg-color: #DDD;\n",
              "  }\n",
              "\n",
              "  [theme=dark] .colab-df-quickchart {\n",
              "      --bg-color: #3B4455;\n",
              "      --fill-color: #D2E3FC;\n",
              "      --hover-bg-color: #434B5C;\n",
              "      --hover-fill-color: #FFFFFF;\n",
              "      --disabled-bg-color: #3B4455;\n",
              "      --disabled-fill-color: #666;\n",
              "  }\n",
              "\n",
              "  .colab-df-quickchart {\n",
              "    background-color: var(--bg-color);\n",
              "    border: none;\n",
              "    border-radius: 50%;\n",
              "    cursor: pointer;\n",
              "    display: none;\n",
              "    fill: var(--fill-color);\n",
              "    height: 32px;\n",
              "    padding: 0;\n",
              "    width: 32px;\n",
              "  }\n",
              "\n",
              "  .colab-df-quickchart:hover {\n",
              "    background-color: var(--hover-bg-color);\n",
              "    box-shadow: 0 1px 2px rgba(60, 64, 67, 0.3), 0 1px 3px 1px rgba(60, 64, 67, 0.15);\n",
              "    fill: var(--button-hover-fill-color);\n",
              "  }\n",
              "\n",
              "  .colab-df-quickchart-complete:disabled,\n",
              "  .colab-df-quickchart-complete:disabled:hover {\n",
              "    background-color: var(--disabled-bg-color);\n",
              "    fill: var(--disabled-fill-color);\n",
              "    box-shadow: none;\n",
              "  }\n",
              "\n",
              "  .colab-df-spinner {\n",
              "    border: 2px solid var(--fill-color);\n",
              "    border-color: transparent;\n",
              "    border-bottom-color: var(--fill-color);\n",
              "    animation:\n",
              "      spin 1s steps(1) infinite;\n",
              "  }\n",
              "\n",
              "  @keyframes spin {\n",
              "    0% {\n",
              "      border-color: transparent;\n",
              "      border-bottom-color: var(--fill-color);\n",
              "      border-left-color: var(--fill-color);\n",
              "    }\n",
              "    20% {\n",
              "      border-color: transparent;\n",
              "      border-left-color: var(--fill-color);\n",
              "      border-top-color: var(--fill-color);\n",
              "    }\n",
              "    30% {\n",
              "      border-color: transparent;\n",
              "      border-left-color: var(--fill-color);\n",
              "      border-top-color: var(--fill-color);\n",
              "      border-right-color: var(--fill-color);\n",
              "    }\n",
              "    40% {\n",
              "      border-color: transparent;\n",
              "      border-right-color: var(--fill-color);\n",
              "      border-top-color: var(--fill-color);\n",
              "    }\n",
              "    60% {\n",
              "      border-color: transparent;\n",
              "      border-right-color: var(--fill-color);\n",
              "    }\n",
              "    80% {\n",
              "      border-color: transparent;\n",
              "      border-right-color: var(--fill-color);\n",
              "      border-bottom-color: var(--fill-color);\n",
              "    }\n",
              "    90% {\n",
              "      border-color: transparent;\n",
              "      border-bottom-color: var(--fill-color);\n",
              "    }\n",
              "  }\n",
              "</style>\n",
              "\n",
              "  <script>\n",
              "    async function quickchart(key) {\n",
              "      const quickchartButtonEl =\n",
              "        document.querySelector('#' + key + ' button');\n",
              "      quickchartButtonEl.disabled = true;  // To prevent multiple clicks.\n",
              "      quickchartButtonEl.classList.add('colab-df-spinner');\n",
              "      try {\n",
              "        const charts = await google.colab.kernel.invokeFunction(\n",
              "            'suggestCharts', [key], {});\n",
              "      } catch (error) {\n",
              "        console.error('Error during call to suggestCharts:', error);\n",
              "      }\n",
              "      quickchartButtonEl.classList.remove('colab-df-spinner');\n",
              "      quickchartButtonEl.classList.add('colab-df-quickchart-complete');\n",
              "    }\n",
              "    (() => {\n",
              "      let quickchartButtonEl =\n",
              "        document.querySelector('#df-9c615aa7-6c9d-4e61-b32a-03078c55e00d button');\n",
              "      quickchartButtonEl.style.display =\n",
              "        google.colab.kernel.accessAllowed ? 'block' : 'none';\n",
              "    })();\n",
              "  </script>\n",
              "</div>\n",
              "\n",
              "    </div>\n",
              "  </div>\n"
            ],
            "application/vnd.google.colaboratory.intrinsic+json": {
              "type": "dataframe",
              "variable_name": "x_train2",
              "summary": "{\n  \"name\": \"x_train2\",\n  \"rows\": 18373,\n  \"fields\": [\n    {\n      \"column\": \"lte_5g_category\",\n      \"properties\": {\n        \"dtype\": \"int8\",\n        \"samples\": [\n          14,\n          17,\n          13\n        ],\n        \"num_unique_values\": 22,\n        \"semantic_type\": \"\",\n        \"description\": \"\"\n      }\n    },\n    {\n      \"column\": \"packet_loss_rate\",\n      \"properties\": {\n        \"dtype\": \"float32\",\n        \"samples\": [\n          9.999999974752427e-07,\n          0.009999999776482582,\n          0.0010000000474974513\n        ],\n        \"num_unique_values\": 3,\n        \"semantic_type\": \"\",\n        \"description\": \"\"\n      }\n    },\n    {\n      \"column\": \"packet_delay\",\n      \"properties\": {\n        \"dtype\": \"int16\",\n        \"samples\": [\n          10,\n          50,\n          300\n        ],\n        \"num_unique_values\": 7,\n        \"semantic_type\": \"\",\n        \"description\": \"\"\n      }\n    },\n    {\n      \"column\": \"io_t\",\n      \"properties\": {\n        \"dtype\": \"int8\",\n        \"samples\": [\n          0,\n          1\n        ],\n        \"num_unique_values\": 2,\n        \"semantic_type\": \"\",\n        \"description\": \"\"\n      }\n    },\n    {\n      \"column\": \"lte_5g\",\n      \"properties\": {\n        \"dtype\": \"int8\",\n        \"samples\": [\n          1,\n          0\n        ],\n        \"num_unique_values\": 2,\n        \"semantic_type\": \"\",\n        \"description\": \"\"\n      }\n    },\n    {\n      \"column\": \"gbr\",\n      \"properties\": {\n        \"dtype\": \"int8\",\n        \"samples\": [\n          1,\n          0\n        ],\n        \"num_unique_values\": 2,\n        \"semantic_type\": \"\",\n        \"description\": \"\"\n      }\n    },\n    {\n      \"column\": \"non_gbr\",\n      \"properties\": {\n        \"dtype\": \"int8\",\n        \"samples\": [\n          0,\n          1\n        ],\n        \"num_unique_values\": 2,\n        \"semantic_type\": \"\",\n        \"description\": \"\"\n      }\n    },\n    {\n      \"column\": \"ar_vr_gaming\",\n      \"properties\": {\n        \"dtype\": \"int8\",\n        \"samples\": [\n          1,\n          0\n        ],\n        \"num_unique_values\": 2,\n        \"semantic_type\": \"\",\n        \"description\": \"\"\n      }\n    },\n    {\n      \"column\": \"healthcare\",\n      \"properties\": {\n        \"dtype\": \"int8\",\n        \"samples\": [\n          1,\n          0\n        ],\n        \"num_unique_values\": 2,\n        \"semantic_type\": \"\",\n        \"description\": \"\"\n      }\n    },\n    {\n      \"column\": \"industry_4_0\",\n      \"properties\": {\n        \"dtype\": \"int8\",\n        \"samples\": [\n          1,\n          0\n        ],\n        \"num_unique_values\": 2,\n        \"semantic_type\": \"\",\n        \"description\": \"\"\n      }\n    },\n    {\n      \"column\": \"io_t_devices\",\n      \"properties\": {\n        \"dtype\": \"int8\",\n        \"samples\": [\n          1,\n          0\n        ],\n        \"num_unique_values\": 2,\n        \"semantic_type\": \"\",\n        \"description\": \"\"\n      }\n    },\n    {\n      \"column\": \"public_safety\",\n      \"properties\": {\n        \"dtype\": \"int8\",\n        \"samples\": [\n          0,\n          1\n        ],\n        \"num_unique_values\": 2,\n        \"semantic_type\": \"\",\n        \"description\": \"\"\n      }\n    },\n    {\n      \"column\": \"smart_city_and_home\",\n      \"properties\": {\n        \"dtype\": \"int8\",\n        \"samples\": [\n          1,\n          0\n        ],\n        \"num_unique_values\": 2,\n        \"semantic_type\": \"\",\n        \"description\": \"\"\n      }\n    },\n    {\n      \"column\": \"smart_transportation\",\n      \"properties\": {\n        \"dtype\": \"int8\",\n        \"samples\": [\n          1,\n          0\n        ],\n        \"num_unique_values\": 2,\n        \"semantic_type\": \"\",\n        \"description\": \"\"\n      }\n    },\n    {\n      \"column\": \"smartphone\",\n      \"properties\": {\n        \"dtype\": \"int8\",\n        \"samples\": [\n          1,\n          0\n        ],\n        \"num_unique_values\": 2,\n        \"semantic_type\": \"\",\n        \"description\": \"\"\n      }\n    }\n  ]\n}"
            }
          },
          "metadata": {},
          "execution_count": 54
        }
      ]
    },
    {
      "cell_type": "code",
      "source": [
        "x_train2 = pd.DataFrame(x_train2)\n",
        "x_test2 = pd.DataFrame(x_test2)"
      ],
      "metadata": {
        "id": "UhUp2O25aRAw"
      },
      "execution_count": 55,
      "outputs": []
    },
    {
      "cell_type": "markdown",
      "source": [
        "### Pearson Correlation"
      ],
      "metadata": {
        "id": "8GWqnYUeTjwj"
      }
    },
    {
      "cell_type": "code",
      "source": [
        "x_train2.astype(float).corr()"
      ],
      "metadata": {
        "colab": {
          "base_uri": "https://localhost:8080/",
          "height": 540
        },
        "id": "_bWpw-0dTHTX",
        "outputId": "4edbb755-b1be-4ec4-e13e-5c83214e0841"
      },
      "execution_count": 56,
      "outputs": [
        {
          "output_type": "execute_result",
          "data": {
            "text/plain": [
              "                      lte_5g_category  packet_loss_rate  packet_delay  \\\n",
              "lte_5g_category              1.000000          0.022254     -0.015085   \n",
              "packet_loss_rate             0.022254          1.000000      0.306436   \n",
              "packet_delay                -0.015085          0.306436      1.000000   \n",
              "io_t                         0.095605          0.170858     -0.187910   \n",
              "lte_5g                      -0.095605         -0.170858      0.187910   \n",
              "gbr                         -0.007156         -0.022315      0.424124   \n",
              "non_gbr                      0.007156          0.022315     -0.424124   \n",
              "ar_vr_gaming                -0.034010         -0.168172     -0.127614   \n",
              "healthcare                   0.018408         -0.174050     -0.238384   \n",
              "industry_4_0                 0.045106         -0.216202     -0.284384   \n",
              "io_t_devices                 0.019458          0.389878      0.437355   \n",
              "public_safety                0.019485         -0.182358     -0.249763   \n",
              "smart_city_and_home          0.047347          0.578743      0.200818   \n",
              "smart_transportation         0.019787         -0.176111     -0.241206   \n",
              "smartphone                  -0.075152         -0.067416      0.268831   \n",
              "\n",
              "                          io_t    lte_5g       gbr   non_gbr  ar_vr_gaming  \\\n",
              "lte_5g_category       0.095605 -0.095605 -0.007156  0.007156     -0.034010   \n",
              "packet_loss_rate      0.170858 -0.170858 -0.022315  0.022315     -0.168172   \n",
              "packet_delay         -0.187910  0.187910  0.424124 -0.424124     -0.127614   \n",
              "io_t                  1.000000 -1.000000 -0.122402  0.122402     -0.321284   \n",
              "lte_5g               -1.000000  1.000000  0.122402 -0.122402      0.321284   \n",
              "gbr                  -0.122402  0.122402  1.000000 -1.000000      0.037476   \n",
              "non_gbr               0.122402 -0.122402 -1.000000  1.000000     -0.037476   \n",
              "ar_vr_gaming         -0.321284  0.321284  0.037476 -0.037476      1.000000   \n",
              "healthcare            0.260863 -0.260863 -0.213782  0.213782     -0.083811   \n",
              "industry_4_0          0.385515 -0.385515  0.045353 -0.045353     -0.123860   \n",
              "io_t_devices          0.265817 -0.265817  0.281337 -0.281337     -0.085403   \n",
              "public_safety         0.273314 -0.273314 -0.223986  0.223986     -0.087812   \n",
              "smart_city_and_home   0.394585 -0.394585  0.035940 -0.035940     -0.126774   \n",
              "smart_transportation  0.263951 -0.263951 -0.216313  0.216313     -0.084803   \n",
              "smartphone           -0.807524  0.807524  0.099995 -0.099995     -0.299119   \n",
              "\n",
              "                      healthcare  industry_4_0  io_t_devices  public_safety  \\\n",
              "lte_5g_category         0.018408      0.045106      0.019458       0.019485   \n",
              "packet_loss_rate       -0.174050     -0.216202      0.389878      -0.182358   \n",
              "packet_delay           -0.238384     -0.284384      0.437355      -0.249763   \n",
              "io_t                    0.260863      0.385515      0.265817       0.273314   \n",
              "lte_5g                 -0.260863     -0.385515     -0.265817      -0.273314   \n",
              "gbr                    -0.213782      0.045353      0.281337      -0.223986   \n",
              "non_gbr                 0.213782     -0.045353     -0.281337       0.223986   \n",
              "ar_vr_gaming           -0.083811     -0.123860     -0.085403      -0.087812   \n",
              "healthcare              1.000000     -0.087228     -0.060145      -0.061841   \n",
              "industry_4_0           -0.087228      1.000000     -0.088885      -0.091391   \n",
              "io_t_devices           -0.060145     -0.088885      1.000000      -0.063016   \n",
              "public_safety          -0.061841     -0.091391     -0.063016       1.000000   \n",
              "smart_city_and_home    -0.089280     -0.131942     -0.090976      -0.093542   \n",
              "smart_transportation   -0.059722     -0.088261     -0.060857      -0.062573   \n",
              "smartphone             -0.210653     -0.311313     -0.214654      -0.220708   \n",
              "\n",
              "                      smart_city_and_home  smart_transportation  smartphone  \n",
              "lte_5g_category                  0.047347              0.019787   -0.075152  \n",
              "packet_loss_rate                 0.578743             -0.176111   -0.067416  \n",
              "packet_delay                     0.200818             -0.241206    0.268831  \n",
              "io_t                             0.394585              0.263951   -0.807524  \n",
              "lte_5g                          -0.394585             -0.263951    0.807524  \n",
              "gbr                              0.035940             -0.216313    0.099995  \n",
              "non_gbr                         -0.035940              0.216313   -0.099995  \n",
              "ar_vr_gaming                    -0.126774             -0.084803   -0.299119  \n",
              "healthcare                      -0.089280             -0.059722   -0.210653  \n",
              "industry_4_0                    -0.131942             -0.088261   -0.311313  \n",
              "io_t_devices                    -0.090976             -0.060857   -0.214654  \n",
              "public_safety                   -0.093542             -0.062573   -0.220708  \n",
              "smart_city_and_home              1.000000             -0.090337   -0.318637  \n",
              "smart_transportation            -0.090337              1.000000   -0.213147  \n",
              "smartphone                      -0.318637             -0.213147    1.000000  "
            ],
            "text/html": [
              "\n",
              "  <div id=\"df-656edd12-8986-4a57-a4d6-5825fb2ba40b\" class=\"colab-df-container\">\n",
              "    <div>\n",
              "<style scoped>\n",
              "    .dataframe tbody tr th:only-of-type {\n",
              "        vertical-align: middle;\n",
              "    }\n",
              "\n",
              "    .dataframe tbody tr th {\n",
              "        vertical-align: top;\n",
              "    }\n",
              "\n",
              "    .dataframe thead th {\n",
              "        text-align: right;\n",
              "    }\n",
              "</style>\n",
              "<table border=\"1\" class=\"dataframe\">\n",
              "  <thead>\n",
              "    <tr style=\"text-align: right;\">\n",
              "      <th></th>\n",
              "      <th>lte_5g_category</th>\n",
              "      <th>packet_loss_rate</th>\n",
              "      <th>packet_delay</th>\n",
              "      <th>io_t</th>\n",
              "      <th>lte_5g</th>\n",
              "      <th>gbr</th>\n",
              "      <th>non_gbr</th>\n",
              "      <th>ar_vr_gaming</th>\n",
              "      <th>healthcare</th>\n",
              "      <th>industry_4_0</th>\n",
              "      <th>io_t_devices</th>\n",
              "      <th>public_safety</th>\n",
              "      <th>smart_city_and_home</th>\n",
              "      <th>smart_transportation</th>\n",
              "      <th>smartphone</th>\n",
              "    </tr>\n",
              "  </thead>\n",
              "  <tbody>\n",
              "    <tr>\n",
              "      <th>lte_5g_category</th>\n",
              "      <td>1.000000</td>\n",
              "      <td>0.022254</td>\n",
              "      <td>-0.015085</td>\n",
              "      <td>0.095605</td>\n",
              "      <td>-0.095605</td>\n",
              "      <td>-0.007156</td>\n",
              "      <td>0.007156</td>\n",
              "      <td>-0.034010</td>\n",
              "      <td>0.018408</td>\n",
              "      <td>0.045106</td>\n",
              "      <td>0.019458</td>\n",
              "      <td>0.019485</td>\n",
              "      <td>0.047347</td>\n",
              "      <td>0.019787</td>\n",
              "      <td>-0.075152</td>\n",
              "    </tr>\n",
              "    <tr>\n",
              "      <th>packet_loss_rate</th>\n",
              "      <td>0.022254</td>\n",
              "      <td>1.000000</td>\n",
              "      <td>0.306436</td>\n",
              "      <td>0.170858</td>\n",
              "      <td>-0.170858</td>\n",
              "      <td>-0.022315</td>\n",
              "      <td>0.022315</td>\n",
              "      <td>-0.168172</td>\n",
              "      <td>-0.174050</td>\n",
              "      <td>-0.216202</td>\n",
              "      <td>0.389878</td>\n",
              "      <td>-0.182358</td>\n",
              "      <td>0.578743</td>\n",
              "      <td>-0.176111</td>\n",
              "      <td>-0.067416</td>\n",
              "    </tr>\n",
              "    <tr>\n",
              "      <th>packet_delay</th>\n",
              "      <td>-0.015085</td>\n",
              "      <td>0.306436</td>\n",
              "      <td>1.000000</td>\n",
              "      <td>-0.187910</td>\n",
              "      <td>0.187910</td>\n",
              "      <td>0.424124</td>\n",
              "      <td>-0.424124</td>\n",
              "      <td>-0.127614</td>\n",
              "      <td>-0.238384</td>\n",
              "      <td>-0.284384</td>\n",
              "      <td>0.437355</td>\n",
              "      <td>-0.249763</td>\n",
              "      <td>0.200818</td>\n",
              "      <td>-0.241206</td>\n",
              "      <td>0.268831</td>\n",
              "    </tr>\n",
              "    <tr>\n",
              "      <th>io_t</th>\n",
              "      <td>0.095605</td>\n",
              "      <td>0.170858</td>\n",
              "      <td>-0.187910</td>\n",
              "      <td>1.000000</td>\n",
              "      <td>-1.000000</td>\n",
              "      <td>-0.122402</td>\n",
              "      <td>0.122402</td>\n",
              "      <td>-0.321284</td>\n",
              "      <td>0.260863</td>\n",
              "      <td>0.385515</td>\n",
              "      <td>0.265817</td>\n",
              "      <td>0.273314</td>\n",
              "      <td>0.394585</td>\n",
              "      <td>0.263951</td>\n",
              "      <td>-0.807524</td>\n",
              "    </tr>\n",
              "    <tr>\n",
              "      <th>lte_5g</th>\n",
              "      <td>-0.095605</td>\n",
              "      <td>-0.170858</td>\n",
              "      <td>0.187910</td>\n",
              "      <td>-1.000000</td>\n",
              "      <td>1.000000</td>\n",
              "      <td>0.122402</td>\n",
              "      <td>-0.122402</td>\n",
              "      <td>0.321284</td>\n",
              "      <td>-0.260863</td>\n",
              "      <td>-0.385515</td>\n",
              "      <td>-0.265817</td>\n",
              "      <td>-0.273314</td>\n",
              "      <td>-0.394585</td>\n",
              "      <td>-0.263951</td>\n",
              "      <td>0.807524</td>\n",
              "    </tr>\n",
              "    <tr>\n",
              "      <th>gbr</th>\n",
              "      <td>-0.007156</td>\n",
              "      <td>-0.022315</td>\n",
              "      <td>0.424124</td>\n",
              "      <td>-0.122402</td>\n",
              "      <td>0.122402</td>\n",
              "      <td>1.000000</td>\n",
              "      <td>-1.000000</td>\n",
              "      <td>0.037476</td>\n",
              "      <td>-0.213782</td>\n",
              "      <td>0.045353</td>\n",
              "      <td>0.281337</td>\n",
              "      <td>-0.223986</td>\n",
              "      <td>0.035940</td>\n",
              "      <td>-0.216313</td>\n",
              "      <td>0.099995</td>\n",
              "    </tr>\n",
              "    <tr>\n",
              "      <th>non_gbr</th>\n",
              "      <td>0.007156</td>\n",
              "      <td>0.022315</td>\n",
              "      <td>-0.424124</td>\n",
              "      <td>0.122402</td>\n",
              "      <td>-0.122402</td>\n",
              "      <td>-1.000000</td>\n",
              "      <td>1.000000</td>\n",
              "      <td>-0.037476</td>\n",
              "      <td>0.213782</td>\n",
              "      <td>-0.045353</td>\n",
              "      <td>-0.281337</td>\n",
              "      <td>0.223986</td>\n",
              "      <td>-0.035940</td>\n",
              "      <td>0.216313</td>\n",
              "      <td>-0.099995</td>\n",
              "    </tr>\n",
              "    <tr>\n",
              "      <th>ar_vr_gaming</th>\n",
              "      <td>-0.034010</td>\n",
              "      <td>-0.168172</td>\n",
              "      <td>-0.127614</td>\n",
              "      <td>-0.321284</td>\n",
              "      <td>0.321284</td>\n",
              "      <td>0.037476</td>\n",
              "      <td>-0.037476</td>\n",
              "      <td>1.000000</td>\n",
              "      <td>-0.083811</td>\n",
              "      <td>-0.123860</td>\n",
              "      <td>-0.085403</td>\n",
              "      <td>-0.087812</td>\n",
              "      <td>-0.126774</td>\n",
              "      <td>-0.084803</td>\n",
              "      <td>-0.299119</td>\n",
              "    </tr>\n",
              "    <tr>\n",
              "      <th>healthcare</th>\n",
              "      <td>0.018408</td>\n",
              "      <td>-0.174050</td>\n",
              "      <td>-0.238384</td>\n",
              "      <td>0.260863</td>\n",
              "      <td>-0.260863</td>\n",
              "      <td>-0.213782</td>\n",
              "      <td>0.213782</td>\n",
              "      <td>-0.083811</td>\n",
              "      <td>1.000000</td>\n",
              "      <td>-0.087228</td>\n",
              "      <td>-0.060145</td>\n",
              "      <td>-0.061841</td>\n",
              "      <td>-0.089280</td>\n",
              "      <td>-0.059722</td>\n",
              "      <td>-0.210653</td>\n",
              "    </tr>\n",
              "    <tr>\n",
              "      <th>industry_4_0</th>\n",
              "      <td>0.045106</td>\n",
              "      <td>-0.216202</td>\n",
              "      <td>-0.284384</td>\n",
              "      <td>0.385515</td>\n",
              "      <td>-0.385515</td>\n",
              "      <td>0.045353</td>\n",
              "      <td>-0.045353</td>\n",
              "      <td>-0.123860</td>\n",
              "      <td>-0.087228</td>\n",
              "      <td>1.000000</td>\n",
              "      <td>-0.088885</td>\n",
              "      <td>-0.091391</td>\n",
              "      <td>-0.131942</td>\n",
              "      <td>-0.088261</td>\n",
              "      <td>-0.311313</td>\n",
              "    </tr>\n",
              "    <tr>\n",
              "      <th>io_t_devices</th>\n",
              "      <td>0.019458</td>\n",
              "      <td>0.389878</td>\n",
              "      <td>0.437355</td>\n",
              "      <td>0.265817</td>\n",
              "      <td>-0.265817</td>\n",
              "      <td>0.281337</td>\n",
              "      <td>-0.281337</td>\n",
              "      <td>-0.085403</td>\n",
              "      <td>-0.060145</td>\n",
              "      <td>-0.088885</td>\n",
              "      <td>1.000000</td>\n",
              "      <td>-0.063016</td>\n",
              "      <td>-0.090976</td>\n",
              "      <td>-0.060857</td>\n",
              "      <td>-0.214654</td>\n",
              "    </tr>\n",
              "    <tr>\n",
              "      <th>public_safety</th>\n",
              "      <td>0.019485</td>\n",
              "      <td>-0.182358</td>\n",
              "      <td>-0.249763</td>\n",
              "      <td>0.273314</td>\n",
              "      <td>-0.273314</td>\n",
              "      <td>-0.223986</td>\n",
              "      <td>0.223986</td>\n",
              "      <td>-0.087812</td>\n",
              "      <td>-0.061841</td>\n",
              "      <td>-0.091391</td>\n",
              "      <td>-0.063016</td>\n",
              "      <td>1.000000</td>\n",
              "      <td>-0.093542</td>\n",
              "      <td>-0.062573</td>\n",
              "      <td>-0.220708</td>\n",
              "    </tr>\n",
              "    <tr>\n",
              "      <th>smart_city_and_home</th>\n",
              "      <td>0.047347</td>\n",
              "      <td>0.578743</td>\n",
              "      <td>0.200818</td>\n",
              "      <td>0.394585</td>\n",
              "      <td>-0.394585</td>\n",
              "      <td>0.035940</td>\n",
              "      <td>-0.035940</td>\n",
              "      <td>-0.126774</td>\n",
              "      <td>-0.089280</td>\n",
              "      <td>-0.131942</td>\n",
              "      <td>-0.090976</td>\n",
              "      <td>-0.093542</td>\n",
              "      <td>1.000000</td>\n",
              "      <td>-0.090337</td>\n",
              "      <td>-0.318637</td>\n",
              "    </tr>\n",
              "    <tr>\n",
              "      <th>smart_transportation</th>\n",
              "      <td>0.019787</td>\n",
              "      <td>-0.176111</td>\n",
              "      <td>-0.241206</td>\n",
              "      <td>0.263951</td>\n",
              "      <td>-0.263951</td>\n",
              "      <td>-0.216313</td>\n",
              "      <td>0.216313</td>\n",
              "      <td>-0.084803</td>\n",
              "      <td>-0.059722</td>\n",
              "      <td>-0.088261</td>\n",
              "      <td>-0.060857</td>\n",
              "      <td>-0.062573</td>\n",
              "      <td>-0.090337</td>\n",
              "      <td>1.000000</td>\n",
              "      <td>-0.213147</td>\n",
              "    </tr>\n",
              "    <tr>\n",
              "      <th>smartphone</th>\n",
              "      <td>-0.075152</td>\n",
              "      <td>-0.067416</td>\n",
              "      <td>0.268831</td>\n",
              "      <td>-0.807524</td>\n",
              "      <td>0.807524</td>\n",
              "      <td>0.099995</td>\n",
              "      <td>-0.099995</td>\n",
              "      <td>-0.299119</td>\n",
              "      <td>-0.210653</td>\n",
              "      <td>-0.311313</td>\n",
              "      <td>-0.214654</td>\n",
              "      <td>-0.220708</td>\n",
              "      <td>-0.318637</td>\n",
              "      <td>-0.213147</td>\n",
              "      <td>1.000000</td>\n",
              "    </tr>\n",
              "  </tbody>\n",
              "</table>\n",
              "</div>\n",
              "    <div class=\"colab-df-buttons\">\n",
              "\n",
              "  <div class=\"colab-df-container\">\n",
              "    <button class=\"colab-df-convert\" onclick=\"convertToInteractive('df-656edd12-8986-4a57-a4d6-5825fb2ba40b')\"\n",
              "            title=\"Convert this dataframe to an interactive table.\"\n",
              "            style=\"display:none;\">\n",
              "\n",
              "  <svg xmlns=\"http://www.w3.org/2000/svg\" height=\"24px\" viewBox=\"0 -960 960 960\">\n",
              "    <path d=\"M120-120v-720h720v720H120Zm60-500h600v-160H180v160Zm220 220h160v-160H400v160Zm0 220h160v-160H400v160ZM180-400h160v-160H180v160Zm440 0h160v-160H620v160ZM180-180h160v-160H180v160Zm440 0h160v-160H620v160Z\"/>\n",
              "  </svg>\n",
              "    </button>\n",
              "\n",
              "  <style>\n",
              "    .colab-df-container {\n",
              "      display:flex;\n",
              "      gap: 12px;\n",
              "    }\n",
              "\n",
              "    .colab-df-convert {\n",
              "      background-color: #E8F0FE;\n",
              "      border: none;\n",
              "      border-radius: 50%;\n",
              "      cursor: pointer;\n",
              "      display: none;\n",
              "      fill: #1967D2;\n",
              "      height: 32px;\n",
              "      padding: 0 0 0 0;\n",
              "      width: 32px;\n",
              "    }\n",
              "\n",
              "    .colab-df-convert:hover {\n",
              "      background-color: #E2EBFA;\n",
              "      box-shadow: 0px 1px 2px rgba(60, 64, 67, 0.3), 0px 1px 3px 1px rgba(60, 64, 67, 0.15);\n",
              "      fill: #174EA6;\n",
              "    }\n",
              "\n",
              "    .colab-df-buttons div {\n",
              "      margin-bottom: 4px;\n",
              "    }\n",
              "\n",
              "    [theme=dark] .colab-df-convert {\n",
              "      background-color: #3B4455;\n",
              "      fill: #D2E3FC;\n",
              "    }\n",
              "\n",
              "    [theme=dark] .colab-df-convert:hover {\n",
              "      background-color: #434B5C;\n",
              "      box-shadow: 0px 1px 3px 1px rgba(0, 0, 0, 0.15);\n",
              "      filter: drop-shadow(0px 1px 2px rgba(0, 0, 0, 0.3));\n",
              "      fill: #FFFFFF;\n",
              "    }\n",
              "  </style>\n",
              "\n",
              "    <script>\n",
              "      const buttonEl =\n",
              "        document.querySelector('#df-656edd12-8986-4a57-a4d6-5825fb2ba40b button.colab-df-convert');\n",
              "      buttonEl.style.display =\n",
              "        google.colab.kernel.accessAllowed ? 'block' : 'none';\n",
              "\n",
              "      async function convertToInteractive(key) {\n",
              "        const element = document.querySelector('#df-656edd12-8986-4a57-a4d6-5825fb2ba40b');\n",
              "        const dataTable =\n",
              "          await google.colab.kernel.invokeFunction('convertToInteractive',\n",
              "                                                    [key], {});\n",
              "        if (!dataTable) return;\n",
              "\n",
              "        const docLinkHtml = 'Like what you see? Visit the ' +\n",
              "          '<a target=\"_blank\" href=https://colab.research.google.com/notebooks/data_table.ipynb>data table notebook</a>'\n",
              "          + ' to learn more about interactive tables.';\n",
              "        element.innerHTML = '';\n",
              "        dataTable['output_type'] = 'display_data';\n",
              "        await google.colab.output.renderOutput(dataTable, element);\n",
              "        const docLink = document.createElement('div');\n",
              "        docLink.innerHTML = docLinkHtml;\n",
              "        element.appendChild(docLink);\n",
              "      }\n",
              "    </script>\n",
              "  </div>\n",
              "\n",
              "\n",
              "<div id=\"df-cd73cbae-1c81-4cbe-8a44-d02e6128f992\">\n",
              "  <button class=\"colab-df-quickchart\" onclick=\"quickchart('df-cd73cbae-1c81-4cbe-8a44-d02e6128f992')\"\n",
              "            title=\"Suggest charts\"\n",
              "            style=\"display:none;\">\n",
              "\n",
              "<svg xmlns=\"http://www.w3.org/2000/svg\" height=\"24px\"viewBox=\"0 0 24 24\"\n",
              "     width=\"24px\">\n",
              "    <g>\n",
              "        <path d=\"M19 3H5c-1.1 0-2 .9-2 2v14c0 1.1.9 2 2 2h14c1.1 0 2-.9 2-2V5c0-1.1-.9-2-2-2zM9 17H7v-7h2v7zm4 0h-2V7h2v10zm4 0h-2v-4h2v4z\"/>\n",
              "    </g>\n",
              "</svg>\n",
              "  </button>\n",
              "\n",
              "<style>\n",
              "  .colab-df-quickchart {\n",
              "      --bg-color: #E8F0FE;\n",
              "      --fill-color: #1967D2;\n",
              "      --hover-bg-color: #E2EBFA;\n",
              "      --hover-fill-color: #174EA6;\n",
              "      --disabled-fill-color: #AAA;\n",
              "      --disabled-bg-color: #DDD;\n",
              "  }\n",
              "\n",
              "  [theme=dark] .colab-df-quickchart {\n",
              "      --bg-color: #3B4455;\n",
              "      --fill-color: #D2E3FC;\n",
              "      --hover-bg-color: #434B5C;\n",
              "      --hover-fill-color: #FFFFFF;\n",
              "      --disabled-bg-color: #3B4455;\n",
              "      --disabled-fill-color: #666;\n",
              "  }\n",
              "\n",
              "  .colab-df-quickchart {\n",
              "    background-color: var(--bg-color);\n",
              "    border: none;\n",
              "    border-radius: 50%;\n",
              "    cursor: pointer;\n",
              "    display: none;\n",
              "    fill: var(--fill-color);\n",
              "    height: 32px;\n",
              "    padding: 0;\n",
              "    width: 32px;\n",
              "  }\n",
              "\n",
              "  .colab-df-quickchart:hover {\n",
              "    background-color: var(--hover-bg-color);\n",
              "    box-shadow: 0 1px 2px rgba(60, 64, 67, 0.3), 0 1px 3px 1px rgba(60, 64, 67, 0.15);\n",
              "    fill: var(--button-hover-fill-color);\n",
              "  }\n",
              "\n",
              "  .colab-df-quickchart-complete:disabled,\n",
              "  .colab-df-quickchart-complete:disabled:hover {\n",
              "    background-color: var(--disabled-bg-color);\n",
              "    fill: var(--disabled-fill-color);\n",
              "    box-shadow: none;\n",
              "  }\n",
              "\n",
              "  .colab-df-spinner {\n",
              "    border: 2px solid var(--fill-color);\n",
              "    border-color: transparent;\n",
              "    border-bottom-color: var(--fill-color);\n",
              "    animation:\n",
              "      spin 1s steps(1) infinite;\n",
              "  }\n",
              "\n",
              "  @keyframes spin {\n",
              "    0% {\n",
              "      border-color: transparent;\n",
              "      border-bottom-color: var(--fill-color);\n",
              "      border-left-color: var(--fill-color);\n",
              "    }\n",
              "    20% {\n",
              "      border-color: transparent;\n",
              "      border-left-color: var(--fill-color);\n",
              "      border-top-color: var(--fill-color);\n",
              "    }\n",
              "    30% {\n",
              "      border-color: transparent;\n",
              "      border-left-color: var(--fill-color);\n",
              "      border-top-color: var(--fill-color);\n",
              "      border-right-color: var(--fill-color);\n",
              "    }\n",
              "    40% {\n",
              "      border-color: transparent;\n",
              "      border-right-color: var(--fill-color);\n",
              "      border-top-color: var(--fill-color);\n",
              "    }\n",
              "    60% {\n",
              "      border-color: transparent;\n",
              "      border-right-color: var(--fill-color);\n",
              "    }\n",
              "    80% {\n",
              "      border-color: transparent;\n",
              "      border-right-color: var(--fill-color);\n",
              "      border-bottom-color: var(--fill-color);\n",
              "    }\n",
              "    90% {\n",
              "      border-color: transparent;\n",
              "      border-bottom-color: var(--fill-color);\n",
              "    }\n",
              "  }\n",
              "</style>\n",
              "\n",
              "  <script>\n",
              "    async function quickchart(key) {\n",
              "      const quickchartButtonEl =\n",
              "        document.querySelector('#' + key + ' button');\n",
              "      quickchartButtonEl.disabled = true;  // To prevent multiple clicks.\n",
              "      quickchartButtonEl.classList.add('colab-df-spinner');\n",
              "      try {\n",
              "        const charts = await google.colab.kernel.invokeFunction(\n",
              "            'suggestCharts', [key], {});\n",
              "      } catch (error) {\n",
              "        console.error('Error during call to suggestCharts:', error);\n",
              "      }\n",
              "      quickchartButtonEl.classList.remove('colab-df-spinner');\n",
              "      quickchartButtonEl.classList.add('colab-df-quickchart-complete');\n",
              "    }\n",
              "    (() => {\n",
              "      let quickchartButtonEl =\n",
              "        document.querySelector('#df-cd73cbae-1c81-4cbe-8a44-d02e6128f992 button');\n",
              "      quickchartButtonEl.style.display =\n",
              "        google.colab.kernel.accessAllowed ? 'block' : 'none';\n",
              "    })();\n",
              "  </script>\n",
              "</div>\n",
              "\n",
              "    </div>\n",
              "  </div>\n"
            ],
            "application/vnd.google.colaboratory.intrinsic+json": {
              "type": "dataframe",
              "summary": "{\n  \"name\": \"x_train2\",\n  \"rows\": 15,\n  \"fields\": [\n    {\n      \"column\": \"lte_5g_category\",\n      \"properties\": {\n        \"dtype\": \"number\",\n        \"std\": 0.26127309898143736,\n        \"min\": -0.09560501324475028,\n        \"max\": 1.0,\n        \"samples\": [\n          0.045106277734520576,\n          0.019485282790280906,\n          1.0\n        ],\n        \"num_unique_values\": 15,\n        \"semantic_type\": \"\",\n        \"description\": \"\"\n      }\n    },\n    {\n      \"column\": \"packet_loss_rate\",\n      \"properties\": {\n        \"dtype\": \"number\",\n        \"std\": 0.34845867037758177,\n        \"min\": -0.21620166338575209,\n        \"max\": 1.0,\n        \"samples\": [\n          -0.21620166338575209,\n          -0.1823579222144486,\n          0.022254278717071793\n        ],\n        \"num_unique_values\": 15,\n        \"semantic_type\": \"\",\n        \"description\": \"\"\n      }\n    },\n    {\n      \"column\": \"packet_delay\",\n      \"properties\": {\n        \"dtype\": \"number\",\n        \"std\": 0.3806437276241085,\n        \"min\": -0.4241237263117015,\n        \"max\": 1.0,\n        \"samples\": [\n          -0.28438408983699054,\n          -0.24976283957928427,\n          -0.015085156025581069\n        ],\n        \"num_unique_values\": 15,\n        \"semantic_type\": \"\",\n        \"description\": \"\"\n      }\n    },\n    {\n      \"column\": \"io_t\",\n      \"properties\": {\n        \"dtype\": \"number\",\n        \"std\": 0.4931181916589238,\n        \"min\": -1.0,\n        \"max\": 1.0,\n        \"samples\": [\n          0.3855151097671429,\n          0.2733144422910789,\n          0.09560501324475046\n        ],\n        \"num_unique_values\": 15,\n        \"semantic_type\": \"\",\n        \"description\": \"\"\n      }\n    },\n    {\n      \"column\": \"lte_5g\",\n      \"properties\": {\n        \"dtype\": \"number\",\n        \"std\": 0.4931181916589238,\n        \"min\": -1.0,\n        \"max\": 1.0,\n        \"samples\": [\n          -0.3855151097671428,\n          -0.27331444229107865,\n          -0.09560501324475028\n        ],\n        \"num_unique_values\": 15,\n        \"semantic_type\": \"\",\n        \"description\": \"\"\n      }\n    },\n    {\n      \"column\": \"gbr\",\n      \"properties\": {\n        \"dtype\": \"number\",\n        \"std\": 0.41774043805449923,\n        \"min\": -0.999999999999999,\n        \"max\": 1.0,\n        \"samples\": [\n          0.0453527800842649,\n          -0.2239862683036181,\n          -0.007155792036453813\n        ],\n        \"num_unique_values\": 15,\n        \"semantic_type\": \"\",\n        \"description\": \"\"\n      }\n    },\n    {\n      \"column\": \"non_gbr\",\n      \"properties\": {\n        \"dtype\": \"number\",\n        \"std\": 0.41774043805449923,\n        \"min\": -0.999999999999999,\n        \"max\": 1.0,\n        \"samples\": [\n          -0.04535278008426486,\n          0.2239862683036181,\n          0.0071557920364538905\n        ],\n        \"num_unique_values\": 15,\n        \"semantic_type\": \"\",\n        \"description\": \"\"\n      }\n    },\n    {\n      \"column\": \"ar_vr_gaming\",\n      \"properties\": {\n        \"dtype\": \"number\",\n        \"std\": 0.31643305517334686,\n        \"min\": -0.3212844949812943,\n        \"max\": 1.0,\n        \"samples\": [\n          -0.12386002734919664,\n          -0.08781169256258459,\n          -0.034010450450038456\n        ],\n        \"num_unique_values\": 15,\n        \"semantic_type\": \"\",\n        \"description\": \"\"\n      }\n    },\n    {\n      \"column\": \"healthcare\",\n      \"properties\": {\n        \"dtype\": \"number\",\n        \"std\": 0.315414094741021,\n        \"min\": -0.26086265843401724,\n        \"max\": 1.0,\n        \"samples\": [\n          -0.08722781586345105,\n          -0.06184095315845886,\n          0.018408029016488123\n        ],\n        \"num_unique_values\": 15,\n        \"semantic_type\": \"\",\n        \"description\": \"\"\n      }\n    },\n    {\n      \"column\": \"industry_4_0\",\n      \"properties\": {\n        \"dtype\": \"number\",\n        \"std\": 0.3362379068205002,\n        \"min\": -0.3855151097671428,\n        \"max\": 1.0,\n        \"samples\": [\n          1.0,\n          -0.09139147008661837,\n          0.045106277734520576\n        ],\n        \"num_unique_values\": 15,\n        \"semantic_type\": \"\",\n        \"description\": \"\"\n      }\n    },\n    {\n      \"column\": \"io_t_devices\",\n      \"properties\": {\n        \"dtype\": \"number\",\n        \"std\": 0.34130614928724723,\n        \"min\": -0.2813365101255752,\n        \"max\": 1.0,\n        \"samples\": [\n          -0.08888455726768303,\n          -0.06301551504059079,\n          0.019458041486050542\n        ],\n        \"num_unique_values\": 15,\n        \"semantic_type\": \"\",\n        \"description\": \"\"\n      }\n    },\n    {\n      \"column\": \"public_safety\",\n      \"properties\": {\n        \"dtype\": \"number\",\n        \"std\": 0.31964374984684424,\n        \"min\": -0.27331444229107865,\n        \"max\": 1.0,\n        \"samples\": [\n          -0.09139147008661837,\n          1.0,\n          0.019485282790280906\n        ],\n        \"num_unique_values\": 15,\n        \"semantic_type\": \"\",\n        \"description\": \"\"\n      }\n    },\n    {\n      \"column\": \"smart_city_and_home\",\n      \"properties\": {\n        \"dtype\": \"number\",\n        \"std\": 0.35930450565029826,\n        \"min\": -0.3945854404574145,\n        \"max\": 1.0,\n        \"samples\": [\n          -0.13194232685213583,\n          -0.09354171228194082,\n          0.047347182675353046\n        ],\n        \"num_unique_values\": 15,\n        \"semantic_type\": \"\",\n        \"description\": \"\"\n      }\n    },\n    {\n      \"column\": \"smart_transportation\",\n      \"properties\": {\n        \"dtype\": \"number\",\n        \"std\": 0.3164592979015863,\n        \"min\": -0.26395102135165766,\n        \"max\": 1.0,\n        \"samples\": [\n          -0.08826050928732651,\n          -0.06257309055088064,\n          0.019786999921340594\n        ],\n        \"num_unique_values\": 15,\n        \"semantic_type\": \"\",\n        \"description\": \"\"\n      }\n    },\n    {\n      \"column\": \"smartphone\",\n      \"properties\": {\n        \"dtype\": \"number\",\n        \"std\": 0.45118482210631183,\n        \"min\": -0.8075238323440268,\n        \"max\": 1.0,\n        \"samples\": [\n          -0.3113126388656926,\n          -0.22070792587386456,\n          -0.07515160909551873\n        ],\n        \"num_unique_values\": 15,\n        \"semantic_type\": \"\",\n        \"description\": \"\"\n      }\n    }\n  ]\n}"
            }
          },
          "metadata": {},
          "execution_count": 56
        }
      ]
    },
    {
      "cell_type": "code",
      "source": [
        "def correlation(dataset, threshold):\n",
        "    col_corr = set() # Set of all the names of deleted columns\n",
        "    corr_matrix = dataset.corr()\n",
        "    for i in range(len(corr_matrix.columns)):\n",
        "        for j in range(i):\n",
        "            if (corr_matrix.iloc[i, j] >= threshold) and (corr_matrix.columns[j] not in col_corr):\n",
        "                colname = corr_matrix.columns[i] # getting the name of column\n",
        "                col_corr.add(colname)\n",
        "                if colname in dataset.columns:\n",
        "                    del dataset[colname] # deleting the column from the dataset\n",
        "\n",
        "    print(dataset.columns)\n",
        "    print(dataset.shape)"
      ],
      "metadata": {
        "id": "eJlmckfRUXgo"
      },
      "execution_count": 57,
      "outputs": []
    },
    {
      "cell_type": "code",
      "source": [
        "correlation(x_train2, 0.95)"
      ],
      "metadata": {
        "colab": {
          "base_uri": "https://localhost:8080/"
        },
        "id": "pWhIYRA-UbAH",
        "outputId": "ab2ffd0f-2464-4d51-e9e3-7c11e6b62235"
      },
      "execution_count": 58,
      "outputs": [
        {
          "output_type": "stream",
          "name": "stdout",
          "text": [
            "Index(['lte_5g_category', 'packet_loss_rate', 'packet_delay', 'io_t', 'lte_5g',\n",
            "       'gbr', 'non_gbr', 'ar_vr_gaming', 'healthcare', 'industry_4_0',\n",
            "       'io_t_devices', 'public_safety', 'smart_city_and_home',\n",
            "       'smart_transportation', 'smartphone'],\n",
            "      dtype='object')\n",
            "(18373, 15)\n"
          ]
        }
      ]
    },
    {
      "cell_type": "code",
      "source": [
        "x_test2.columns\n",
        "x_test2.shape"
      ],
      "metadata": {
        "colab": {
          "base_uri": "https://localhost:8080/"
        },
        "id": "d5MMMCOeUfiy",
        "outputId": "b592e199-47ee-451b-ce9b-b84921e2cfdb"
      },
      "execution_count": 59,
      "outputs": [
        {
          "output_type": "execute_result",
          "data": {
            "text/plain": [
              "(31584, 15)"
            ]
          },
          "metadata": {},
          "execution_count": 59
        }
      ]
    },
    {
      "cell_type": "markdown",
      "source": [
        "### Standard Scaler"
      ],
      "metadata": {
        "id": "b2Ah6xZhZa6c"
      }
    },
    {
      "cell_type": "code",
      "source": [
        "from sklearn.preprocessing import StandardScaler\n",
        "scaler=StandardScaler()\n",
        "x_train2=pd.DataFrame(scaler.fit_transform(x_train2),columns=x_train2.columns)\n",
        "x_train2.head()"
      ],
      "metadata": {
        "colab": {
          "base_uri": "https://localhost:8080/",
          "height": 226
        },
        "id": "MW7SRHuwZiPr",
        "outputId": "8a7daa3e-ed56-456d-a0ec-e95e6717884b"
      },
      "execution_count": 60,
      "outputs": [
        {
          "output_type": "execute_result",
          "data": {
            "text/plain": [
              "   lte_5g_category  packet_loss_rate  packet_delay      io_t    lte_5g  \\\n",
              "0         0.496569         -0.716409     -0.981216  1.073740 -1.073740   \n",
              "1        -0.319527          1.574868     -0.602200  1.073740 -1.073740   \n",
              "2         1.312664         -0.716409     -0.981216  1.073740 -1.073740   \n",
              "3        -0.482746         -0.487488      0.345339 -0.931324  0.931324   \n",
              "4        -0.645965         -0.716409     -0.981216  1.073740 -1.073740   \n",
              "\n",
              "       gbr  non_gbr  ar_vr_gaming  healthcare  industry_4_0  io_t_devices  \\\n",
              "0 -0.87995  0.87995     -0.344976   -0.242948     -0.359040     -0.247562   \n",
              "1 -0.87995  0.87995     -0.344976   -0.242948     -0.359040     -0.247562   \n",
              "2 -0.87995  0.87995     -0.344976   -0.242948      2.785209     -0.247562   \n",
              "3 -0.87995  0.87995     -0.344976   -0.242948     -0.359040     -0.247562   \n",
              "4 -0.87995  0.87995     -0.344976    4.116113     -0.359040     -0.247562   \n",
              "\n",
              "   public_safety  smart_city_and_home  smart_transportation  smartphone  \n",
              "0       3.928589            -0.367487             -0.245824   -0.867071  \n",
              "1      -0.254544             2.721185             -0.245824   -0.867071  \n",
              "2      -0.254544            -0.367487             -0.245824   -0.867071  \n",
              "3      -0.254544            -0.367487             -0.245824    1.153308  \n",
              "4      -0.254544            -0.367487             -0.245824   -0.867071  "
            ],
            "text/html": [
              "\n",
              "  <div id=\"df-56326344-9820-45eb-b228-ebf7e5110e56\" class=\"colab-df-container\">\n",
              "    <div>\n",
              "<style scoped>\n",
              "    .dataframe tbody tr th:only-of-type {\n",
              "        vertical-align: middle;\n",
              "    }\n",
              "\n",
              "    .dataframe tbody tr th {\n",
              "        vertical-align: top;\n",
              "    }\n",
              "\n",
              "    .dataframe thead th {\n",
              "        text-align: right;\n",
              "    }\n",
              "</style>\n",
              "<table border=\"1\" class=\"dataframe\">\n",
              "  <thead>\n",
              "    <tr style=\"text-align: right;\">\n",
              "      <th></th>\n",
              "      <th>lte_5g_category</th>\n",
              "      <th>packet_loss_rate</th>\n",
              "      <th>packet_delay</th>\n",
              "      <th>io_t</th>\n",
              "      <th>lte_5g</th>\n",
              "      <th>gbr</th>\n",
              "      <th>non_gbr</th>\n",
              "      <th>ar_vr_gaming</th>\n",
              "      <th>healthcare</th>\n",
              "      <th>industry_4_0</th>\n",
              "      <th>io_t_devices</th>\n",
              "      <th>public_safety</th>\n",
              "      <th>smart_city_and_home</th>\n",
              "      <th>smart_transportation</th>\n",
              "      <th>smartphone</th>\n",
              "    </tr>\n",
              "  </thead>\n",
              "  <tbody>\n",
              "    <tr>\n",
              "      <th>0</th>\n",
              "      <td>0.496569</td>\n",
              "      <td>-0.716409</td>\n",
              "      <td>-0.981216</td>\n",
              "      <td>1.073740</td>\n",
              "      <td>-1.073740</td>\n",
              "      <td>-0.87995</td>\n",
              "      <td>0.87995</td>\n",
              "      <td>-0.344976</td>\n",
              "      <td>-0.242948</td>\n",
              "      <td>-0.359040</td>\n",
              "      <td>-0.247562</td>\n",
              "      <td>3.928589</td>\n",
              "      <td>-0.367487</td>\n",
              "      <td>-0.245824</td>\n",
              "      <td>-0.867071</td>\n",
              "    </tr>\n",
              "    <tr>\n",
              "      <th>1</th>\n",
              "      <td>-0.319527</td>\n",
              "      <td>1.574868</td>\n",
              "      <td>-0.602200</td>\n",
              "      <td>1.073740</td>\n",
              "      <td>-1.073740</td>\n",
              "      <td>-0.87995</td>\n",
              "      <td>0.87995</td>\n",
              "      <td>-0.344976</td>\n",
              "      <td>-0.242948</td>\n",
              "      <td>-0.359040</td>\n",
              "      <td>-0.247562</td>\n",
              "      <td>-0.254544</td>\n",
              "      <td>2.721185</td>\n",
              "      <td>-0.245824</td>\n",
              "      <td>-0.867071</td>\n",
              "    </tr>\n",
              "    <tr>\n",
              "      <th>2</th>\n",
              "      <td>1.312664</td>\n",
              "      <td>-0.716409</td>\n",
              "      <td>-0.981216</td>\n",
              "      <td>1.073740</td>\n",
              "      <td>-1.073740</td>\n",
              "      <td>-0.87995</td>\n",
              "      <td>0.87995</td>\n",
              "      <td>-0.344976</td>\n",
              "      <td>-0.242948</td>\n",
              "      <td>2.785209</td>\n",
              "      <td>-0.247562</td>\n",
              "      <td>-0.254544</td>\n",
              "      <td>-0.367487</td>\n",
              "      <td>-0.245824</td>\n",
              "      <td>-0.867071</td>\n",
              "    </tr>\n",
              "    <tr>\n",
              "      <th>3</th>\n",
              "      <td>-0.482746</td>\n",
              "      <td>-0.487488</td>\n",
              "      <td>0.345339</td>\n",
              "      <td>-0.931324</td>\n",
              "      <td>0.931324</td>\n",
              "      <td>-0.87995</td>\n",
              "      <td>0.87995</td>\n",
              "      <td>-0.344976</td>\n",
              "      <td>-0.242948</td>\n",
              "      <td>-0.359040</td>\n",
              "      <td>-0.247562</td>\n",
              "      <td>-0.254544</td>\n",
              "      <td>-0.367487</td>\n",
              "      <td>-0.245824</td>\n",
              "      <td>1.153308</td>\n",
              "    </tr>\n",
              "    <tr>\n",
              "      <th>4</th>\n",
              "      <td>-0.645965</td>\n",
              "      <td>-0.716409</td>\n",
              "      <td>-0.981216</td>\n",
              "      <td>1.073740</td>\n",
              "      <td>-1.073740</td>\n",
              "      <td>-0.87995</td>\n",
              "      <td>0.87995</td>\n",
              "      <td>-0.344976</td>\n",
              "      <td>4.116113</td>\n",
              "      <td>-0.359040</td>\n",
              "      <td>-0.247562</td>\n",
              "      <td>-0.254544</td>\n",
              "      <td>-0.367487</td>\n",
              "      <td>-0.245824</td>\n",
              "      <td>-0.867071</td>\n",
              "    </tr>\n",
              "  </tbody>\n",
              "</table>\n",
              "</div>\n",
              "    <div class=\"colab-df-buttons\">\n",
              "\n",
              "  <div class=\"colab-df-container\">\n",
              "    <button class=\"colab-df-convert\" onclick=\"convertToInteractive('df-56326344-9820-45eb-b228-ebf7e5110e56')\"\n",
              "            title=\"Convert this dataframe to an interactive table.\"\n",
              "            style=\"display:none;\">\n",
              "\n",
              "  <svg xmlns=\"http://www.w3.org/2000/svg\" height=\"24px\" viewBox=\"0 -960 960 960\">\n",
              "    <path d=\"M120-120v-720h720v720H120Zm60-500h600v-160H180v160Zm220 220h160v-160H400v160Zm0 220h160v-160H400v160ZM180-400h160v-160H180v160Zm440 0h160v-160H620v160ZM180-180h160v-160H180v160Zm440 0h160v-160H620v160Z\"/>\n",
              "  </svg>\n",
              "    </button>\n",
              "\n",
              "  <style>\n",
              "    .colab-df-container {\n",
              "      display:flex;\n",
              "      gap: 12px;\n",
              "    }\n",
              "\n",
              "    .colab-df-convert {\n",
              "      background-color: #E8F0FE;\n",
              "      border: none;\n",
              "      border-radius: 50%;\n",
              "      cursor: pointer;\n",
              "      display: none;\n",
              "      fill: #1967D2;\n",
              "      height: 32px;\n",
              "      padding: 0 0 0 0;\n",
              "      width: 32px;\n",
              "    }\n",
              "\n",
              "    .colab-df-convert:hover {\n",
              "      background-color: #E2EBFA;\n",
              "      box-shadow: 0px 1px 2px rgba(60, 64, 67, 0.3), 0px 1px 3px 1px rgba(60, 64, 67, 0.15);\n",
              "      fill: #174EA6;\n",
              "    }\n",
              "\n",
              "    .colab-df-buttons div {\n",
              "      margin-bottom: 4px;\n",
              "    }\n",
              "\n",
              "    [theme=dark] .colab-df-convert {\n",
              "      background-color: #3B4455;\n",
              "      fill: #D2E3FC;\n",
              "    }\n",
              "\n",
              "    [theme=dark] .colab-df-convert:hover {\n",
              "      background-color: #434B5C;\n",
              "      box-shadow: 0px 1px 3px 1px rgba(0, 0, 0, 0.15);\n",
              "      filter: drop-shadow(0px 1px 2px rgba(0, 0, 0, 0.3));\n",
              "      fill: #FFFFFF;\n",
              "    }\n",
              "  </style>\n",
              "\n",
              "    <script>\n",
              "      const buttonEl =\n",
              "        document.querySelector('#df-56326344-9820-45eb-b228-ebf7e5110e56 button.colab-df-convert');\n",
              "      buttonEl.style.display =\n",
              "        google.colab.kernel.accessAllowed ? 'block' : 'none';\n",
              "\n",
              "      async function convertToInteractive(key) {\n",
              "        const element = document.querySelector('#df-56326344-9820-45eb-b228-ebf7e5110e56');\n",
              "        const dataTable =\n",
              "          await google.colab.kernel.invokeFunction('convertToInteractive',\n",
              "                                                    [key], {});\n",
              "        if (!dataTable) return;\n",
              "\n",
              "        const docLinkHtml = 'Like what you see? Visit the ' +\n",
              "          '<a target=\"_blank\" href=https://colab.research.google.com/notebooks/data_table.ipynb>data table notebook</a>'\n",
              "          + ' to learn more about interactive tables.';\n",
              "        element.innerHTML = '';\n",
              "        dataTable['output_type'] = 'display_data';\n",
              "        await google.colab.output.renderOutput(dataTable, element);\n",
              "        const docLink = document.createElement('div');\n",
              "        docLink.innerHTML = docLinkHtml;\n",
              "        element.appendChild(docLink);\n",
              "      }\n",
              "    </script>\n",
              "  </div>\n",
              "\n",
              "\n",
              "<div id=\"df-dade249c-03d8-4334-a96e-0004877ce50e\">\n",
              "  <button class=\"colab-df-quickchart\" onclick=\"quickchart('df-dade249c-03d8-4334-a96e-0004877ce50e')\"\n",
              "            title=\"Suggest charts\"\n",
              "            style=\"display:none;\">\n",
              "\n",
              "<svg xmlns=\"http://www.w3.org/2000/svg\" height=\"24px\"viewBox=\"0 0 24 24\"\n",
              "     width=\"24px\">\n",
              "    <g>\n",
              "        <path d=\"M19 3H5c-1.1 0-2 .9-2 2v14c0 1.1.9 2 2 2h14c1.1 0 2-.9 2-2V5c0-1.1-.9-2-2-2zM9 17H7v-7h2v7zm4 0h-2V7h2v10zm4 0h-2v-4h2v4z\"/>\n",
              "    </g>\n",
              "</svg>\n",
              "  </button>\n",
              "\n",
              "<style>\n",
              "  .colab-df-quickchart {\n",
              "      --bg-color: #E8F0FE;\n",
              "      --fill-color: #1967D2;\n",
              "      --hover-bg-color: #E2EBFA;\n",
              "      --hover-fill-color: #174EA6;\n",
              "      --disabled-fill-color: #AAA;\n",
              "      --disabled-bg-color: #DDD;\n",
              "  }\n",
              "\n",
              "  [theme=dark] .colab-df-quickchart {\n",
              "      --bg-color: #3B4455;\n",
              "      --fill-color: #D2E3FC;\n",
              "      --hover-bg-color: #434B5C;\n",
              "      --hover-fill-color: #FFFFFF;\n",
              "      --disabled-bg-color: #3B4455;\n",
              "      --disabled-fill-color: #666;\n",
              "  }\n",
              "\n",
              "  .colab-df-quickchart {\n",
              "    background-color: var(--bg-color);\n",
              "    border: none;\n",
              "    border-radius: 50%;\n",
              "    cursor: pointer;\n",
              "    display: none;\n",
              "    fill: var(--fill-color);\n",
              "    height: 32px;\n",
              "    padding: 0;\n",
              "    width: 32px;\n",
              "  }\n",
              "\n",
              "  .colab-df-quickchart:hover {\n",
              "    background-color: var(--hover-bg-color);\n",
              "    box-shadow: 0 1px 2px rgba(60, 64, 67, 0.3), 0 1px 3px 1px rgba(60, 64, 67, 0.15);\n",
              "    fill: var(--button-hover-fill-color);\n",
              "  }\n",
              "\n",
              "  .colab-df-quickchart-complete:disabled,\n",
              "  .colab-df-quickchart-complete:disabled:hover {\n",
              "    background-color: var(--disabled-bg-color);\n",
              "    fill: var(--disabled-fill-color);\n",
              "    box-shadow: none;\n",
              "  }\n",
              "\n",
              "  .colab-df-spinner {\n",
              "    border: 2px solid var(--fill-color);\n",
              "    border-color: transparent;\n",
              "    border-bottom-color: var(--fill-color);\n",
              "    animation:\n",
              "      spin 1s steps(1) infinite;\n",
              "  }\n",
              "\n",
              "  @keyframes spin {\n",
              "    0% {\n",
              "      border-color: transparent;\n",
              "      border-bottom-color: var(--fill-color);\n",
              "      border-left-color: var(--fill-color);\n",
              "    }\n",
              "    20% {\n",
              "      border-color: transparent;\n",
              "      border-left-color: var(--fill-color);\n",
              "      border-top-color: var(--fill-color);\n",
              "    }\n",
              "    30% {\n",
              "      border-color: transparent;\n",
              "      border-left-color: var(--fill-color);\n",
              "      border-top-color: var(--fill-color);\n",
              "      border-right-color: var(--fill-color);\n",
              "    }\n",
              "    40% {\n",
              "      border-color: transparent;\n",
              "      border-right-color: var(--fill-color);\n",
              "      border-top-color: var(--fill-color);\n",
              "    }\n",
              "    60% {\n",
              "      border-color: transparent;\n",
              "      border-right-color: var(--fill-color);\n",
              "    }\n",
              "    80% {\n",
              "      border-color: transparent;\n",
              "      border-right-color: var(--fill-color);\n",
              "      border-bottom-color: var(--fill-color);\n",
              "    }\n",
              "    90% {\n",
              "      border-color: transparent;\n",
              "      border-bottom-color: var(--fill-color);\n",
              "    }\n",
              "  }\n",
              "</style>\n",
              "\n",
              "  <script>\n",
              "    async function quickchart(key) {\n",
              "      const quickchartButtonEl =\n",
              "        document.querySelector('#' + key + ' button');\n",
              "      quickchartButtonEl.disabled = true;  // To prevent multiple clicks.\n",
              "      quickchartButtonEl.classList.add('colab-df-spinner');\n",
              "      try {\n",
              "        const charts = await google.colab.kernel.invokeFunction(\n",
              "            'suggestCharts', [key], {});\n",
              "      } catch (error) {\n",
              "        console.error('Error during call to suggestCharts:', error);\n",
              "      }\n",
              "      quickchartButtonEl.classList.remove('colab-df-spinner');\n",
              "      quickchartButtonEl.classList.add('colab-df-quickchart-complete');\n",
              "    }\n",
              "    (() => {\n",
              "      let quickchartButtonEl =\n",
              "        document.querySelector('#df-dade249c-03d8-4334-a96e-0004877ce50e button');\n",
              "      quickchartButtonEl.style.display =\n",
              "        google.colab.kernel.accessAllowed ? 'block' : 'none';\n",
              "    })();\n",
              "  </script>\n",
              "</div>\n",
              "\n",
              "    </div>\n",
              "  </div>\n"
            ],
            "application/vnd.google.colaboratory.intrinsic+json": {
              "type": "dataframe",
              "variable_name": "x_train2",
              "summary": "{\n  \"name\": \"x_train2\",\n  \"rows\": 18373,\n  \"fields\": [\n    {\n      \"column\": \"lte_5g_category\",\n      \"properties\": {\n        \"dtype\": \"float32\",\n        \"samples\": [\n          0.4965687096118927,\n          0.9862259030342102,\n          0.33334964513778687\n        ],\n        \"num_unique_values\": 22,\n        \"semantic_type\": \"\",\n        \"description\": \"\"\n      }\n    },\n    {\n      \"column\": \"packet_loss_rate\",\n      \"properties\": {\n        \"dtype\": \"float32\",\n        \"samples\": [\n          -0.7164093255996704,\n          1.5748679637908936,\n          -0.4874877631664276\n        ],\n        \"num_unique_values\": 3,\n        \"semantic_type\": \"\",\n        \"description\": \"\"\n      }\n    },\n    {\n      \"column\": \"packet_delay\",\n      \"properties\": {\n        \"dtype\": \"float32\",\n        \"samples\": [\n          -0.9812155365943909,\n          -0.6021999716758728,\n          1.7666469812393188\n        ],\n        \"num_unique_values\": 7,\n        \"semantic_type\": \"\",\n        \"description\": \"\"\n      }\n    },\n    {\n      \"column\": \"io_t\",\n      \"properties\": {\n        \"dtype\": \"float32\",\n        \"samples\": [\n          -0.9313241243362427,\n          1.073740005493164\n        ],\n        \"num_unique_values\": 2,\n        \"semantic_type\": \"\",\n        \"description\": \"\"\n      }\n    },\n    {\n      \"column\": \"lte_5g\",\n      \"properties\": {\n        \"dtype\": \"float32\",\n        \"samples\": [\n          0.9313241243362427,\n          -1.073740005493164\n        ],\n        \"num_unique_values\": 2,\n        \"semantic_type\": \"\",\n        \"description\": \"\"\n      }\n    },\n    {\n      \"column\": \"gbr\",\n      \"properties\": {\n        \"dtype\": \"float32\",\n        \"samples\": [\n          1.1364282369613647,\n          -0.8799499869346619\n        ],\n        \"num_unique_values\": 2,\n        \"semantic_type\": \"\",\n        \"description\": \"\"\n      }\n    },\n    {\n      \"column\": \"non_gbr\",\n      \"properties\": {\n        \"dtype\": \"float32\",\n        \"samples\": [\n          -1.1364282369613647,\n          0.8799499869346619\n        ],\n        \"num_unique_values\": 2,\n        \"semantic_type\": \"\",\n        \"description\": \"\"\n      }\n    },\n    {\n      \"column\": \"ar_vr_gaming\",\n      \"properties\": {\n        \"dtype\": \"float32\",\n        \"samples\": [\n          2.898751974105835,\n          -0.3449760377407074\n        ],\n        \"num_unique_values\": 2,\n        \"semantic_type\": \"\",\n        \"description\": \"\"\n      }\n    },\n    {\n      \"column\": \"healthcare\",\n      \"properties\": {\n        \"dtype\": \"float32\",\n        \"samples\": [\n          4.11611270904541,\n          -0.24294766783714294\n        ],\n        \"num_unique_values\": 2,\n        \"semantic_type\": \"\",\n        \"description\": \"\"\n      }\n    },\n    {\n      \"column\": \"industry_4_0\",\n      \"properties\": {\n        \"dtype\": \"float32\",\n        \"samples\": [\n          2.7852087020874023,\n          -0.3590395152568817\n        ],\n        \"num_unique_values\": 2,\n        \"semantic_type\": \"\",\n        \"description\": \"\"\n      }\n    },\n    {\n      \"column\": \"io_t_devices\",\n      \"properties\": {\n        \"dtype\": \"float32\",\n        \"samples\": [\n          4.03939151763916,\n          -0.24756205081939697\n        ],\n        \"num_unique_values\": 2,\n        \"semantic_type\": \"\",\n        \"description\": \"\"\n      }\n    },\n    {\n      \"column\": \"public_safety\",\n      \"properties\": {\n        \"dtype\": \"float32\",\n        \"samples\": [\n          -0.25454431772232056,\n          3.9285888671875\n        ],\n        \"num_unique_values\": 2,\n        \"semantic_type\": \"\",\n        \"description\": \"\"\n      }\n    },\n    {\n      \"column\": \"smart_city_and_home\",\n      \"properties\": {\n        \"dtype\": \"float32\",\n        \"samples\": [\n          2.7211852073669434,\n          -0.36748695373535156\n        ],\n        \"num_unique_values\": 2,\n        \"semantic_type\": \"\",\n        \"description\": \"\"\n      }\n    },\n    {\n      \"column\": \"smart_transportation\",\n      \"properties\": {\n        \"dtype\": \"float32\",\n        \"samples\": [\n          4.0679521560668945,\n          -0.2458239495754242\n        ],\n        \"num_unique_values\": 2,\n        \"semantic_type\": \"\",\n        \"description\": \"\"\n      }\n    },\n    {\n      \"column\": \"smartphone\",\n      \"properties\": {\n        \"dtype\": \"float32\",\n        \"samples\": [\n          1.153308391571045,\n          -0.8670706748962402\n        ],\n        \"num_unique_values\": 2,\n        \"semantic_type\": \"\",\n        \"description\": \"\"\n      }\n    }\n  ]\n}"
            }
          },
          "metadata": {},
          "execution_count": 60
        }
      ]
    },
    {
      "cell_type": "code",
      "source": [
        "x_test2=pd.DataFrame(scaler.fit_transform(x_test2),columns=x_test2.columns)\n",
        "x_test2.head()"
      ],
      "metadata": {
        "colab": {
          "base_uri": "https://localhost:8080/",
          "height": 226
        },
        "id": "_mK6KVbAS_ly",
        "outputId": "38079205-352e-4033-b8a5-4f74009939d0"
      },
      "execution_count": 61,
      "outputs": [
        {
          "output_type": "execute_result",
          "data": {
            "text/plain": [
              "   lte_5g_category  packet_loss_rate  packet_delay      io_t    lte_5g  \\\n",
              "0         0.664781         -0.482940     -0.136290 -0.938083  0.938083   \n",
              "1         0.500168         -0.712444     -0.982767  1.066004 -1.066004   \n",
              "2         0.006327         -0.482940     -0.606555  1.066004 -1.066004   \n",
              "3         1.487848         -0.482940     -0.606555  1.066004 -1.066004   \n",
              "4        -1.475194         -0.482940     -0.606555 -0.938083  0.938083   \n",
              "\n",
              "        gbr   non_gbr  ar_vr_gaming  healthcare  industry_4_0  io_t_devices  \\\n",
              "0  1.124027 -1.124027      2.896828    -0.25058     -0.365662     -0.250722   \n",
              "1 -0.889658  0.889658     -0.345205    -0.25058     -0.365662     -0.250722   \n",
              "2  1.124027 -1.124027     -0.345205    -0.25058      2.734762     -0.250722   \n",
              "3  1.124027 -1.124027     -0.345205    -0.25058      2.734762     -0.250722   \n",
              "4 -0.889658  0.889658      2.896828    -0.25058     -0.365662     -0.250722   \n",
              "\n",
              "   public_safety  smart_city_and_home  smart_transportation  smartphone  \n",
              "0      -0.246559            -0.362819             -0.248791   -0.860496  \n",
              "1      -0.246559            -0.362819              4.019440   -0.860496  \n",
              "2      -0.246559            -0.362819             -0.248791   -0.860496  \n",
              "3      -0.246559            -0.362819             -0.248791   -0.860496  \n",
              "4      -0.246559            -0.362819             -0.248791   -0.860496  "
            ],
            "text/html": [
              "\n",
              "  <div id=\"df-84738834-4726-4f53-b004-cff09c9a5609\" class=\"colab-df-container\">\n",
              "    <div>\n",
              "<style scoped>\n",
              "    .dataframe tbody tr th:only-of-type {\n",
              "        vertical-align: middle;\n",
              "    }\n",
              "\n",
              "    .dataframe tbody tr th {\n",
              "        vertical-align: top;\n",
              "    }\n",
              "\n",
              "    .dataframe thead th {\n",
              "        text-align: right;\n",
              "    }\n",
              "</style>\n",
              "<table border=\"1\" class=\"dataframe\">\n",
              "  <thead>\n",
              "    <tr style=\"text-align: right;\">\n",
              "      <th></th>\n",
              "      <th>lte_5g_category</th>\n",
              "      <th>packet_loss_rate</th>\n",
              "      <th>packet_delay</th>\n",
              "      <th>io_t</th>\n",
              "      <th>lte_5g</th>\n",
              "      <th>gbr</th>\n",
              "      <th>non_gbr</th>\n",
              "      <th>ar_vr_gaming</th>\n",
              "      <th>healthcare</th>\n",
              "      <th>industry_4_0</th>\n",
              "      <th>io_t_devices</th>\n",
              "      <th>public_safety</th>\n",
              "      <th>smart_city_and_home</th>\n",
              "      <th>smart_transportation</th>\n",
              "      <th>smartphone</th>\n",
              "    </tr>\n",
              "  </thead>\n",
              "  <tbody>\n",
              "    <tr>\n",
              "      <th>0</th>\n",
              "      <td>0.664781</td>\n",
              "      <td>-0.482940</td>\n",
              "      <td>-0.136290</td>\n",
              "      <td>-0.938083</td>\n",
              "      <td>0.938083</td>\n",
              "      <td>1.124027</td>\n",
              "      <td>-1.124027</td>\n",
              "      <td>2.896828</td>\n",
              "      <td>-0.25058</td>\n",
              "      <td>-0.365662</td>\n",
              "      <td>-0.250722</td>\n",
              "      <td>-0.246559</td>\n",
              "      <td>-0.362819</td>\n",
              "      <td>-0.248791</td>\n",
              "      <td>-0.860496</td>\n",
              "    </tr>\n",
              "    <tr>\n",
              "      <th>1</th>\n",
              "      <td>0.500168</td>\n",
              "      <td>-0.712444</td>\n",
              "      <td>-0.982767</td>\n",
              "      <td>1.066004</td>\n",
              "      <td>-1.066004</td>\n",
              "      <td>-0.889658</td>\n",
              "      <td>0.889658</td>\n",
              "      <td>-0.345205</td>\n",
              "      <td>-0.25058</td>\n",
              "      <td>-0.365662</td>\n",
              "      <td>-0.250722</td>\n",
              "      <td>-0.246559</td>\n",
              "      <td>-0.362819</td>\n",
              "      <td>4.019440</td>\n",
              "      <td>-0.860496</td>\n",
              "    </tr>\n",
              "    <tr>\n",
              "      <th>2</th>\n",
              "      <td>0.006327</td>\n",
              "      <td>-0.482940</td>\n",
              "      <td>-0.606555</td>\n",
              "      <td>1.066004</td>\n",
              "      <td>-1.066004</td>\n",
              "      <td>1.124027</td>\n",
              "      <td>-1.124027</td>\n",
              "      <td>-0.345205</td>\n",
              "      <td>-0.25058</td>\n",
              "      <td>2.734762</td>\n",
              "      <td>-0.250722</td>\n",
              "      <td>-0.246559</td>\n",
              "      <td>-0.362819</td>\n",
              "      <td>-0.248791</td>\n",
              "      <td>-0.860496</td>\n",
              "    </tr>\n",
              "    <tr>\n",
              "      <th>3</th>\n",
              "      <td>1.487848</td>\n",
              "      <td>-0.482940</td>\n",
              "      <td>-0.606555</td>\n",
              "      <td>1.066004</td>\n",
              "      <td>-1.066004</td>\n",
              "      <td>1.124027</td>\n",
              "      <td>-1.124027</td>\n",
              "      <td>-0.345205</td>\n",
              "      <td>-0.25058</td>\n",
              "      <td>2.734762</td>\n",
              "      <td>-0.250722</td>\n",
              "      <td>-0.246559</td>\n",
              "      <td>-0.362819</td>\n",
              "      <td>-0.248791</td>\n",
              "      <td>-0.860496</td>\n",
              "    </tr>\n",
              "    <tr>\n",
              "      <th>4</th>\n",
              "      <td>-1.475194</td>\n",
              "      <td>-0.482940</td>\n",
              "      <td>-0.606555</td>\n",
              "      <td>-0.938083</td>\n",
              "      <td>0.938083</td>\n",
              "      <td>-0.889658</td>\n",
              "      <td>0.889658</td>\n",
              "      <td>2.896828</td>\n",
              "      <td>-0.25058</td>\n",
              "      <td>-0.365662</td>\n",
              "      <td>-0.250722</td>\n",
              "      <td>-0.246559</td>\n",
              "      <td>-0.362819</td>\n",
              "      <td>-0.248791</td>\n",
              "      <td>-0.860496</td>\n",
              "    </tr>\n",
              "  </tbody>\n",
              "</table>\n",
              "</div>\n",
              "    <div class=\"colab-df-buttons\">\n",
              "\n",
              "  <div class=\"colab-df-container\">\n",
              "    <button class=\"colab-df-convert\" onclick=\"convertToInteractive('df-84738834-4726-4f53-b004-cff09c9a5609')\"\n",
              "            title=\"Convert this dataframe to an interactive table.\"\n",
              "            style=\"display:none;\">\n",
              "\n",
              "  <svg xmlns=\"http://www.w3.org/2000/svg\" height=\"24px\" viewBox=\"0 -960 960 960\">\n",
              "    <path d=\"M120-120v-720h720v720H120Zm60-500h600v-160H180v160Zm220 220h160v-160H400v160Zm0 220h160v-160H400v160ZM180-400h160v-160H180v160Zm440 0h160v-160H620v160ZM180-180h160v-160H180v160Zm440 0h160v-160H620v160Z\"/>\n",
              "  </svg>\n",
              "    </button>\n",
              "\n",
              "  <style>\n",
              "    .colab-df-container {\n",
              "      display:flex;\n",
              "      gap: 12px;\n",
              "    }\n",
              "\n",
              "    .colab-df-convert {\n",
              "      background-color: #E8F0FE;\n",
              "      border: none;\n",
              "      border-radius: 50%;\n",
              "      cursor: pointer;\n",
              "      display: none;\n",
              "      fill: #1967D2;\n",
              "      height: 32px;\n",
              "      padding: 0 0 0 0;\n",
              "      width: 32px;\n",
              "    }\n",
              "\n",
              "    .colab-df-convert:hover {\n",
              "      background-color: #E2EBFA;\n",
              "      box-shadow: 0px 1px 2px rgba(60, 64, 67, 0.3), 0px 1px 3px 1px rgba(60, 64, 67, 0.15);\n",
              "      fill: #174EA6;\n",
              "    }\n",
              "\n",
              "    .colab-df-buttons div {\n",
              "      margin-bottom: 4px;\n",
              "    }\n",
              "\n",
              "    [theme=dark] .colab-df-convert {\n",
              "      background-color: #3B4455;\n",
              "      fill: #D2E3FC;\n",
              "    }\n",
              "\n",
              "    [theme=dark] .colab-df-convert:hover {\n",
              "      background-color: #434B5C;\n",
              "      box-shadow: 0px 1px 3px 1px rgba(0, 0, 0, 0.15);\n",
              "      filter: drop-shadow(0px 1px 2px rgba(0, 0, 0, 0.3));\n",
              "      fill: #FFFFFF;\n",
              "    }\n",
              "  </style>\n",
              "\n",
              "    <script>\n",
              "      const buttonEl =\n",
              "        document.querySelector('#df-84738834-4726-4f53-b004-cff09c9a5609 button.colab-df-convert');\n",
              "      buttonEl.style.display =\n",
              "        google.colab.kernel.accessAllowed ? 'block' : 'none';\n",
              "\n",
              "      async function convertToInteractive(key) {\n",
              "        const element = document.querySelector('#df-84738834-4726-4f53-b004-cff09c9a5609');\n",
              "        const dataTable =\n",
              "          await google.colab.kernel.invokeFunction('convertToInteractive',\n",
              "                                                    [key], {});\n",
              "        if (!dataTable) return;\n",
              "\n",
              "        const docLinkHtml = 'Like what you see? Visit the ' +\n",
              "          '<a target=\"_blank\" href=https://colab.research.google.com/notebooks/data_table.ipynb>data table notebook</a>'\n",
              "          + ' to learn more about interactive tables.';\n",
              "        element.innerHTML = '';\n",
              "        dataTable['output_type'] = 'display_data';\n",
              "        await google.colab.output.renderOutput(dataTable, element);\n",
              "        const docLink = document.createElement('div');\n",
              "        docLink.innerHTML = docLinkHtml;\n",
              "        element.appendChild(docLink);\n",
              "      }\n",
              "    </script>\n",
              "  </div>\n",
              "\n",
              "\n",
              "<div id=\"df-5eee7fc7-c988-4905-bb15-ebb1ebe15ba6\">\n",
              "  <button class=\"colab-df-quickchart\" onclick=\"quickchart('df-5eee7fc7-c988-4905-bb15-ebb1ebe15ba6')\"\n",
              "            title=\"Suggest charts\"\n",
              "            style=\"display:none;\">\n",
              "\n",
              "<svg xmlns=\"http://www.w3.org/2000/svg\" height=\"24px\"viewBox=\"0 0 24 24\"\n",
              "     width=\"24px\">\n",
              "    <g>\n",
              "        <path d=\"M19 3H5c-1.1 0-2 .9-2 2v14c0 1.1.9 2 2 2h14c1.1 0 2-.9 2-2V5c0-1.1-.9-2-2-2zM9 17H7v-7h2v7zm4 0h-2V7h2v10zm4 0h-2v-4h2v4z\"/>\n",
              "    </g>\n",
              "</svg>\n",
              "  </button>\n",
              "\n",
              "<style>\n",
              "  .colab-df-quickchart {\n",
              "      --bg-color: #E8F0FE;\n",
              "      --fill-color: #1967D2;\n",
              "      --hover-bg-color: #E2EBFA;\n",
              "      --hover-fill-color: #174EA6;\n",
              "      --disabled-fill-color: #AAA;\n",
              "      --disabled-bg-color: #DDD;\n",
              "  }\n",
              "\n",
              "  [theme=dark] .colab-df-quickchart {\n",
              "      --bg-color: #3B4455;\n",
              "      --fill-color: #D2E3FC;\n",
              "      --hover-bg-color: #434B5C;\n",
              "      --hover-fill-color: #FFFFFF;\n",
              "      --disabled-bg-color: #3B4455;\n",
              "      --disabled-fill-color: #666;\n",
              "  }\n",
              "\n",
              "  .colab-df-quickchart {\n",
              "    background-color: var(--bg-color);\n",
              "    border: none;\n",
              "    border-radius: 50%;\n",
              "    cursor: pointer;\n",
              "    display: none;\n",
              "    fill: var(--fill-color);\n",
              "    height: 32px;\n",
              "    padding: 0;\n",
              "    width: 32px;\n",
              "  }\n",
              "\n",
              "  .colab-df-quickchart:hover {\n",
              "    background-color: var(--hover-bg-color);\n",
              "    box-shadow: 0 1px 2px rgba(60, 64, 67, 0.3), 0 1px 3px 1px rgba(60, 64, 67, 0.15);\n",
              "    fill: var(--button-hover-fill-color);\n",
              "  }\n",
              "\n",
              "  .colab-df-quickchart-complete:disabled,\n",
              "  .colab-df-quickchart-complete:disabled:hover {\n",
              "    background-color: var(--disabled-bg-color);\n",
              "    fill: var(--disabled-fill-color);\n",
              "    box-shadow: none;\n",
              "  }\n",
              "\n",
              "  .colab-df-spinner {\n",
              "    border: 2px solid var(--fill-color);\n",
              "    border-color: transparent;\n",
              "    border-bottom-color: var(--fill-color);\n",
              "    animation:\n",
              "      spin 1s steps(1) infinite;\n",
              "  }\n",
              "\n",
              "  @keyframes spin {\n",
              "    0% {\n",
              "      border-color: transparent;\n",
              "      border-bottom-color: var(--fill-color);\n",
              "      border-left-color: var(--fill-color);\n",
              "    }\n",
              "    20% {\n",
              "      border-color: transparent;\n",
              "      border-left-color: var(--fill-color);\n",
              "      border-top-color: var(--fill-color);\n",
              "    }\n",
              "    30% {\n",
              "      border-color: transparent;\n",
              "      border-left-color: var(--fill-color);\n",
              "      border-top-color: var(--fill-color);\n",
              "      border-right-color: var(--fill-color);\n",
              "    }\n",
              "    40% {\n",
              "      border-color: transparent;\n",
              "      border-right-color: var(--fill-color);\n",
              "      border-top-color: var(--fill-color);\n",
              "    }\n",
              "    60% {\n",
              "      border-color: transparent;\n",
              "      border-right-color: var(--fill-color);\n",
              "    }\n",
              "    80% {\n",
              "      border-color: transparent;\n",
              "      border-right-color: var(--fill-color);\n",
              "      border-bottom-color: var(--fill-color);\n",
              "    }\n",
              "    90% {\n",
              "      border-color: transparent;\n",
              "      border-bottom-color: var(--fill-color);\n",
              "    }\n",
              "  }\n",
              "</style>\n",
              "\n",
              "  <script>\n",
              "    async function quickchart(key) {\n",
              "      const quickchartButtonEl =\n",
              "        document.querySelector('#' + key + ' button');\n",
              "      quickchartButtonEl.disabled = true;  // To prevent multiple clicks.\n",
              "      quickchartButtonEl.classList.add('colab-df-spinner');\n",
              "      try {\n",
              "        const charts = await google.colab.kernel.invokeFunction(\n",
              "            'suggestCharts', [key], {});\n",
              "      } catch (error) {\n",
              "        console.error('Error during call to suggestCharts:', error);\n",
              "      }\n",
              "      quickchartButtonEl.classList.remove('colab-df-spinner');\n",
              "      quickchartButtonEl.classList.add('colab-df-quickchart-complete');\n",
              "    }\n",
              "    (() => {\n",
              "      let quickchartButtonEl =\n",
              "        document.querySelector('#df-5eee7fc7-c988-4905-bb15-ebb1ebe15ba6 button');\n",
              "      quickchartButtonEl.style.display =\n",
              "        google.colab.kernel.accessAllowed ? 'block' : 'none';\n",
              "    })();\n",
              "  </script>\n",
              "</div>\n",
              "\n",
              "    </div>\n",
              "  </div>\n"
            ],
            "application/vnd.google.colaboratory.intrinsic+json": {
              "type": "dataframe",
              "variable_name": "x_test2",
              "summary": "{\n  \"name\": \"x_test2\",\n  \"rows\": 31584,\n  \"fields\": [\n    {\n      \"column\": \"lte_5g_category\",\n      \"properties\": {\n        \"dtype\": \"float32\",\n        \"samples\": [\n          0.6647810339927673,\n          -0.6521264314651489,\n          1.8170748949050903\n        ],\n        \"num_unique_values\": 22,\n        \"semantic_type\": \"\",\n        \"description\": \"\"\n      }\n    },\n    {\n      \"column\": \"packet_loss_rate\",\n      \"properties\": {\n        \"dtype\": \"float32\",\n        \"samples\": [\n          -0.48293980956077576,\n          -0.7124435901641846,\n          1.584661841392517\n        ],\n        \"num_unique_values\": 3,\n        \"semantic_type\": \"\",\n        \"description\": \"\"\n      }\n    },\n    {\n      \"column\": \"packet_delay\",\n      \"properties\": {\n        \"dtype\": \"float32\",\n        \"samples\": [\n          -0.13628964126110077,\n          -0.9827669262886047,\n          0.33397552371025085\n        ],\n        \"num_unique_values\": 7,\n        \"semantic_type\": \"\",\n        \"description\": \"\"\n      }\n    },\n    {\n      \"column\": \"io_t\",\n      \"properties\": {\n        \"dtype\": \"float32\",\n        \"samples\": [\n          1.0660035610198975,\n          -0.9380831718444824\n        ],\n        \"num_unique_values\": 2,\n        \"semantic_type\": \"\",\n        \"description\": \"\"\n      }\n    },\n    {\n      \"column\": \"lte_5g\",\n      \"properties\": {\n        \"dtype\": \"float32\",\n        \"samples\": [\n          -1.0660035610198975,\n          0.9380831718444824\n        ],\n        \"num_unique_values\": 2,\n        \"semantic_type\": \"\",\n        \"description\": \"\"\n      }\n    },\n    {\n      \"column\": \"gbr\",\n      \"properties\": {\n        \"dtype\": \"float32\",\n        \"samples\": [\n          -0.8896582722663879,\n          1.124027132987976\n        ],\n        \"num_unique_values\": 2,\n        \"semantic_type\": \"\",\n        \"description\": \"\"\n      }\n    },\n    {\n      \"column\": \"non_gbr\",\n      \"properties\": {\n        \"dtype\": \"float32\",\n        \"samples\": [\n          0.8896582722663879,\n          -1.124027132987976\n        ],\n        \"num_unique_values\": 2,\n        \"semantic_type\": \"\",\n        \"description\": \"\"\n      }\n    },\n    {\n      \"column\": \"ar_vr_gaming\",\n      \"properties\": {\n        \"dtype\": \"float32\",\n        \"samples\": [\n          -0.3452051281929016,\n          2.8968284130096436\n        ],\n        \"num_unique_values\": 2,\n        \"semantic_type\": \"\",\n        \"description\": \"\"\n      }\n    },\n    {\n      \"column\": \"healthcare\",\n      \"properties\": {\n        \"dtype\": \"float32\",\n        \"samples\": [\n          3.9907448291778564,\n          -0.2505798041820526\n        ],\n        \"num_unique_values\": 2,\n        \"semantic_type\": \"\",\n        \"description\": \"\"\n      }\n    },\n    {\n      \"column\": \"industry_4_0\",\n      \"properties\": {\n        \"dtype\": \"float32\",\n        \"samples\": [\n          2.73476243019104,\n          -0.36566245555877686\n        ],\n        \"num_unique_values\": 2,\n        \"semantic_type\": \"\",\n        \"description\": \"\"\n      }\n    },\n    {\n      \"column\": \"io_t_devices\",\n      \"properties\": {\n        \"dtype\": \"float32\",\n        \"samples\": [\n          3.988473892211914,\n          -0.2507224678993225\n        ],\n        \"num_unique_values\": 2,\n        \"semantic_type\": \"\",\n        \"description\": \"\"\n      }\n    },\n    {\n      \"column\": \"public_safety\",\n      \"properties\": {\n        \"dtype\": \"float32\",\n        \"samples\": [\n          4.055826187133789,\n          -0.24655890464782715\n        ],\n        \"num_unique_values\": 2,\n        \"semantic_type\": \"\",\n        \"description\": \"\"\n      }\n    },\n    {\n      \"column\": \"smart_city_and_home\",\n      \"properties\": {\n        \"dtype\": \"float32\",\n        \"samples\": [\n          2.756197452545166,\n          -0.3628186881542206\n        ],\n        \"num_unique_values\": 2,\n        \"semantic_type\": \"\",\n        \"description\": \"\"\n      }\n    },\n    {\n      \"column\": \"smart_transportation\",\n      \"properties\": {\n        \"dtype\": \"float32\",\n        \"samples\": [\n          4.019439697265625,\n          -0.24879090487957\n        ],\n        \"num_unique_values\": 2,\n        \"semantic_type\": \"\",\n        \"description\": \"\"\n      }\n    },\n    {\n      \"column\": \"smartphone\",\n      \"properties\": {\n        \"dtype\": \"float32\",\n        \"samples\": [\n          1.1621208190917969,\n          -0.8604958057403564\n        ],\n        \"num_unique_values\": 2,\n        \"semantic_type\": \"\",\n        \"description\": \"\"\n      }\n    }\n  ]\n}"
            }
          },
          "metadata": {},
          "execution_count": 61
        }
      ]
    },
    {
      "cell_type": "code",
      "source": [
        "from sklearn.ensemble import RandomForestClassifier"
      ],
      "metadata": {
        "id": "9KZPcm8ES6BZ"
      },
      "execution_count": 63,
      "outputs": []
    },
    {
      "cell_type": "code",
      "source": [
        "rf = RandomForestClassifier()"
      ],
      "metadata": {
        "id": "CXk2CTYIXKP-"
      },
      "execution_count": 64,
      "outputs": []
    },
    {
      "cell_type": "code",
      "source": [
        "rf.fit(x_train2, y_train)"
      ],
      "metadata": {
        "colab": {
          "base_uri": "https://localhost:8080/",
          "height": 75
        },
        "id": "2Hw9IFFXXKTi",
        "outputId": "e3e25795-78e8-4bf5-ba94-0663eb0c0205"
      },
      "execution_count": 65,
      "outputs": [
        {
          "output_type": "execute_result",
          "data": {
            "text/plain": [
              "RandomForestClassifier()"
            ],
            "text/html": [
              "<style>#sk-container-id-2 {color: black;background-color: white;}#sk-container-id-2 pre{padding: 0;}#sk-container-id-2 div.sk-toggleable {background-color: white;}#sk-container-id-2 label.sk-toggleable__label {cursor: pointer;display: block;width: 100%;margin-bottom: 0;padding: 0.3em;box-sizing: border-box;text-align: center;}#sk-container-id-2 label.sk-toggleable__label-arrow:before {content: \"▸\";float: left;margin-right: 0.25em;color: #696969;}#sk-container-id-2 label.sk-toggleable__label-arrow:hover:before {color: black;}#sk-container-id-2 div.sk-estimator:hover label.sk-toggleable__label-arrow:before {color: black;}#sk-container-id-2 div.sk-toggleable__content {max-height: 0;max-width: 0;overflow: hidden;text-align: left;background-color: #f0f8ff;}#sk-container-id-2 div.sk-toggleable__content pre {margin: 0.2em;color: black;border-radius: 0.25em;background-color: #f0f8ff;}#sk-container-id-2 input.sk-toggleable__control:checked~div.sk-toggleable__content {max-height: 200px;max-width: 100%;overflow: auto;}#sk-container-id-2 input.sk-toggleable__control:checked~label.sk-toggleable__label-arrow:before {content: \"▾\";}#sk-container-id-2 div.sk-estimator input.sk-toggleable__control:checked~label.sk-toggleable__label {background-color: #d4ebff;}#sk-container-id-2 div.sk-label input.sk-toggleable__control:checked~label.sk-toggleable__label {background-color: #d4ebff;}#sk-container-id-2 input.sk-hidden--visually {border: 0;clip: rect(1px 1px 1px 1px);clip: rect(1px, 1px, 1px, 1px);height: 1px;margin: -1px;overflow: hidden;padding: 0;position: absolute;width: 1px;}#sk-container-id-2 div.sk-estimator {font-family: monospace;background-color: #f0f8ff;border: 1px dotted black;border-radius: 0.25em;box-sizing: border-box;margin-bottom: 0.5em;}#sk-container-id-2 div.sk-estimator:hover {background-color: #d4ebff;}#sk-container-id-2 div.sk-parallel-item::after {content: \"\";width: 100%;border-bottom: 1px solid gray;flex-grow: 1;}#sk-container-id-2 div.sk-label:hover label.sk-toggleable__label {background-color: #d4ebff;}#sk-container-id-2 div.sk-serial::before {content: \"\";position: absolute;border-left: 1px solid gray;box-sizing: border-box;top: 0;bottom: 0;left: 50%;z-index: 0;}#sk-container-id-2 div.sk-serial {display: flex;flex-direction: column;align-items: center;background-color: white;padding-right: 0.2em;padding-left: 0.2em;position: relative;}#sk-container-id-2 div.sk-item {position: relative;z-index: 1;}#sk-container-id-2 div.sk-parallel {display: flex;align-items: stretch;justify-content: center;background-color: white;position: relative;}#sk-container-id-2 div.sk-item::before, #sk-container-id-2 div.sk-parallel-item::before {content: \"\";position: absolute;border-left: 1px solid gray;box-sizing: border-box;top: 0;bottom: 0;left: 50%;z-index: -1;}#sk-container-id-2 div.sk-parallel-item {display: flex;flex-direction: column;z-index: 1;position: relative;background-color: white;}#sk-container-id-2 div.sk-parallel-item:first-child::after {align-self: flex-end;width: 50%;}#sk-container-id-2 div.sk-parallel-item:last-child::after {align-self: flex-start;width: 50%;}#sk-container-id-2 div.sk-parallel-item:only-child::after {width: 0;}#sk-container-id-2 div.sk-dashed-wrapped {border: 1px dashed gray;margin: 0 0.4em 0.5em 0.4em;box-sizing: border-box;padding-bottom: 0.4em;background-color: white;}#sk-container-id-2 div.sk-label label {font-family: monospace;font-weight: bold;display: inline-block;line-height: 1.2em;}#sk-container-id-2 div.sk-label-container {text-align: center;}#sk-container-id-2 div.sk-container {/* jupyter's `normalize.less` sets `[hidden] { display: none; }` but bootstrap.min.css set `[hidden] { display: none !important; }` so we also need the `!important` here to be able to override the default hidden behavior on the sphinx rendered scikit-learn.org. See: https://github.com/scikit-learn/scikit-learn/issues/21755 */display: inline-block !important;position: relative;}#sk-container-id-2 div.sk-text-repr-fallback {display: none;}</style><div id=\"sk-container-id-2\" class=\"sk-top-container\"><div class=\"sk-text-repr-fallback\"><pre>RandomForestClassifier()</pre><b>In a Jupyter environment, please rerun this cell to show the HTML representation or trust the notebook. <br />On GitHub, the HTML representation is unable to render, please try loading this page with nbviewer.org.</b></div><div class=\"sk-container\" hidden><div class=\"sk-item\"><div class=\"sk-estimator sk-toggleable\"><input class=\"sk-toggleable__control sk-hidden--visually\" id=\"sk-estimator-id-2\" type=\"checkbox\" checked><label for=\"sk-estimator-id-2\" class=\"sk-toggleable__label sk-toggleable__label-arrow\">RandomForestClassifier</label><div class=\"sk-toggleable__content\"><pre>RandomForestClassifier()</pre></div></div></div></div></div>"
            ]
          },
          "metadata": {},
          "execution_count": 65
        }
      ]
    },
    {
      "cell_type": "code",
      "source": [
        "y_pred = rf.predict(x_test2)"
      ],
      "metadata": {
        "id": "jq9zXbxKaHjJ"
      },
      "execution_count": 66,
      "outputs": []
    },
    {
      "cell_type": "code",
      "source": [
        "y_pred = pd.DataFrame(y_pred)"
      ],
      "metadata": {
        "id": "oT0UzQAWaMbU"
      },
      "execution_count": 67,
      "outputs": []
    },
    {
      "cell_type": "code",
      "source": [
        "y_pred.value_counts()"
      ],
      "metadata": {
        "colab": {
          "base_uri": "https://localhost:8080/"
        },
        "id": "yyqXXx3qaPvy",
        "outputId": "c89f3493-f345-4fb8-939e-0affc475f48f"
      },
      "execution_count": 69,
      "outputs": [
        {
          "output_type": "execute_result",
          "data": {
            "text/plain": [
              "1    16800\n",
              "2     7392\n",
              "3     7392\n",
              "dtype: int64"
            ]
          },
          "metadata": {},
          "execution_count": 69
        }
      ]
    },
    {
      "cell_type": "code",
      "source": [
        "y_pred = pd.DataFrame(y_pred)"
      ],
      "metadata": {
        "id": "NH04E2IVhZVr"
      },
      "execution_count": 105,
      "outputs": []
    },
    {
      "cell_type": "code",
      "source": [
        "y_pred.rename(columns = {0 : \"Predict\"}, inplace = True)"
      ],
      "metadata": {
        "id": "-ynh9CWPhl2R"
      },
      "execution_count": 107,
      "outputs": []
    },
    {
      "cell_type": "code",
      "source": [
        "test_data_values = pd.read_csv(\"/content/test_dataset.csv\")"
      ],
      "metadata": {
        "id": "Pt3oq7AFhrJ1"
      },
      "execution_count": 109,
      "outputs": []
    },
    {
      "cell_type": "code",
      "source": [
        "test_data_values.shape"
      ],
      "metadata": {
        "colab": {
          "base_uri": "https://localhost:8080/"
        },
        "id": "ZjW3wEFzhzch",
        "outputId": "6882b7dc-c728-43f3-8f5f-3a9fc08d93a1"
      },
      "execution_count": 110,
      "outputs": [
        {
          "output_type": "execute_result",
          "data": {
            "text/plain": [
              "(31584, 16)"
            ]
          },
          "metadata": {},
          "execution_count": 110
        }
      ]
    },
    {
      "cell_type": "code",
      "source": [
        "labels = y_pred['Predict'].astype('category').cat.categories.tolist()\n",
        "counts = y_pred['Predict'].value_counts()\n",
        "sizes = [counts[var_cat] for var_cat in labels]\n",
        "fig1, ax1 = plt.subplots()\n",
        "plt.title(\"Categorical Pedictions\")\n",
        "ax1.pie(sizes, labels=labels, autopct='%1.1f%%', shadow=True) #autopct is show the % on plot\n",
        "ax1.axis('equal')\n",
        "plt.show()\n"
      ],
      "metadata": {
        "colab": {
          "base_uri": "https://localhost:8080/",
          "height": 428
        },
        "id": "3ZPeoD2Ch_ID",
        "outputId": "756ad106-2fce-486a-9082-2c3273709afb"
      },
      "execution_count": 112,
      "outputs": [
        {
          "output_type": "display_data",
          "data": {
            "text/plain": [
              "<Figure size 640x480 with 1 Axes>"
            ],
            "image/png": "[encoded data removed]"
          },
          "metadata": {}
        }
      ]
    }
  ]
}